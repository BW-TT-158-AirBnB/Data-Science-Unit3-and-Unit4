{
  "nbformat": 4,
  "nbformat_minor": 0,
  "metadata": {
    "colab": {
      "name": "BW4_Airbnb_Model_Notebook.ipynb",
      "provenance": [],
      "authorship_tag": "ABX9TyM9iGe5IYdPGwEVVtvYZ4lS"
    },
    "kernelspec": {
      "name": "python3",
      "display_name": "Python 3"
    }
  },
  "cells": [
    {
      "cell_type": "code",
      "metadata": {
        "id": "u0GCemM6ogyL"
      },
      "source": [
        ""
      ],
      "execution_count": null,
      "outputs": []
    }
  ]
}