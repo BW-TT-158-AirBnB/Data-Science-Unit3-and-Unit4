{
  "nbformat": 4,
  "nbformat_minor": 0,
  "metadata": {
    "colab": {
      "name": "BW4_Airbnb_Model_Notebook.ipynb",
      "provenance": [],
      "toc_visible": true,
      "authorship_tag": "ABX9TyPQ/2jz/JWRx9EiIZ3FDF6k"
    },
    "kernelspec": {
      "name": "python3",
      "display_name": "Python 3"
    },
    "accelerator": "GPU"
  },
  "cells": [
    {
      "cell_type": "markdown",
      "metadata": {
        "id": "izu85cS4i60l"
      },
      "source": [
        "# AirBnB Build Week Project\r\n",
        "\r\n",
        "## NLP Preprocessing\r\n",
        "\r\n",
        "#### - [My EDA Notebook](https://github.com/BW-TT-158-AirBnB/Data-Science-Unit3-and-Unit4/blob/main/notebooks/BW4_AirBnB_EDA.ipynb)\r\n",
        "\r\n",
        "#### - [My NLP Notebook](https://github.com/BW-TT-158-AirBnB/Data-Science-Unit3-and-Unit4/blob/main/notebooks/BW4_Airbnb_NLP_Notebook.ipynb)"
      ]
    },
    {
      "cell_type": "markdown",
      "metadata": {
        "id": "x_tApWTVi6xp"
      },
      "source": [
        "## Links to Raw Cleaned Files\r\n",
        "\r\n",
        "- [Text Features Only](https://raw.githubusercontent.com/BW-TT-158-AirBnB/Data-Science-Unit3-and-Unit4/main/data/amsterdam_txt_feat.csv)\r\n",
        "\r\n",
        "- [Numeric Features Only](https://raw.githubusercontent.com/BW-TT-158-AirBnB/Data-Science-Unit3-and-Unit4/main/data/amsterdam_num_feat.csv)\r\n",
        "\r\n",
        "- [Boolean Features Only](https://raw.githubusercontent.com/BW-TT-158-AirBnB/Data-Science-Unit3-and-Unit4/main/data/amsterdam_bool_feat.csv)\r\n",
        "\r\n",
        "- [Cleaned with All Features](https://raw.githubusercontent.com/BW-TT-158-AirBnB/Data-Science-Unit3-and-Unit4/main/data/amsterdam_list_clean.csv)"
      ]
    },
    {
      "cell_type": "markdown",
      "metadata": {
        "id": "MTb9RTNalLMr"
      },
      "source": [
        "## Imports"
      ]
    },
    {
      "cell_type": "code",
      "metadata": {
        "colab": {
          "base_uri": "https://localhost:8080/"
        },
        "id": "S6FbJdxvWg9J",
        "outputId": "4b66bb16-7eca-4fb5-fc15-534aac56eef3"
      },
      "source": [
        "# Need to install the category_encoders package\r\n",
        "!pip install category_encoders"
      ],
      "execution_count": 1,
      "outputs": [
        {
          "output_type": "stream",
          "text": [
            "Collecting category_encoders\n",
            "\u001b[?25l  Downloading https://files.pythonhosted.org/packages/44/57/fcef41c248701ee62e8325026b90c432adea35555cbc870aff9cfba23727/category_encoders-2.2.2-py2.py3-none-any.whl (80kB)\n",
            "\u001b[K     |████████████████████████████████| 81kB 3.5MB/s \n",
            "\u001b[?25hRequirement already satisfied: scikit-learn>=0.20.0 in /usr/local/lib/python3.7/dist-packages (from category_encoders) (0.22.2.post1)\n",
            "Requirement already satisfied: numpy>=1.14.0 in /usr/local/lib/python3.7/dist-packages (from category_encoders) (1.19.5)\n",
            "Requirement already satisfied: statsmodels>=0.9.0 in /usr/local/lib/python3.7/dist-packages (from category_encoders) (0.10.2)\n",
            "Requirement already satisfied: pandas>=0.21.1 in /usr/local/lib/python3.7/dist-packages (from category_encoders) (1.1.5)\n",
            "Requirement already satisfied: patsy>=0.5.1 in /usr/local/lib/python3.7/dist-packages (from category_encoders) (0.5.1)\n",
            "Requirement already satisfied: scipy>=1.0.0 in /usr/local/lib/python3.7/dist-packages (from category_encoders) (1.4.1)\n",
            "Requirement already satisfied: joblib>=0.11 in /usr/local/lib/python3.7/dist-packages (from scikit-learn>=0.20.0->category_encoders) (1.0.1)\n",
            "Requirement already satisfied: python-dateutil>=2.7.3 in /usr/local/lib/python3.7/dist-packages (from pandas>=0.21.1->category_encoders) (2.8.1)\n",
            "Requirement already satisfied: pytz>=2017.2 in /usr/local/lib/python3.7/dist-packages (from pandas>=0.21.1->category_encoders) (2018.9)\n",
            "Requirement already satisfied: six in /usr/local/lib/python3.7/dist-packages (from patsy>=0.5.1->category_encoders) (1.15.0)\n",
            "Installing collected packages: category-encoders\n",
            "Successfully installed category-encoders-2.2.2\n"
          ],
          "name": "stdout"
        }
      ]
    },
    {
      "cell_type": "code",
      "metadata": {
        "id": "u0GCemM6ogyL"
      },
      "source": [
        "# Standard\r\n",
        "import pandas as pd\r\n",
        "import numpy as np\r\n",
        "\r\n",
        "# Set DataFrame display options\r\n",
        "pd.set_option('display.max_rows', 200)\r\n",
        "pd.set_option('display.max_colwidth', 300)\r\n",
        "\r\n",
        "# Ignore warnings\r\n",
        "import warnings\r\n",
        "warnings.filterwarnings(\"ignore\", category=FutureWarning)\r\n",
        "\r\n",
        "# NLP\r\n",
        "import re\r\n",
        "from collections import Counter\r\n",
        "import category_encoders as ce\r\n",
        "from sklearn.feature_extraction.text import TfidfVectorizer\r\n",
        "from sklearn.preprocessing import StandardScaler\r\n",
        "from sklearn.model_selection import train_test_split\r\n",
        "\r\n",
        "# Modeling\r\n",
        "import tensorflow as tf\r\n",
        "from tensorflow.keras.models import Sequential\r\n",
        "from tensorflow.keras.layers import Dense, Dropout, LSTM\r\n",
        "import xgboost as xgb\r\n",
        "from sklearn.model_selection import cross_val_score, KFold\r\n",
        "from sklearn.metrics import mean_squared_error, mean_absolute_error\r\n",
        "from sklearn.ensemble import GradientBoostingRegressor\r\n",
        "\r\n",
        "# Set random seed for tensorflow\r\n",
        "tf.random.set_seed(79)\r\n",
        "\r\n",
        "# Plotting\r\n",
        "import matplotlib.pyplot as plt\r\n",
        "import seaborn as sns"
      ],
      "execution_count": 2,
      "outputs": []
    },
    {
      "cell_type": "markdown",
      "metadata": {
        "id": "QrOnIqU4musY"
      },
      "source": [
        "## Read in the Data\r\n",
        "\r\n",
        "- Using the full dataset that I cleaned in my EDA notebook."
      ]
    },
    {
      "cell_type": "code",
      "metadata": {
        "colab": {
          "base_uri": "https://localhost:8080/",
          "height": 1000
        },
        "id": "v0hQ4u31mtj9",
        "outputId": "f3c694ea-b1bb-4f88-d857-3649e8b8ed7a"
      },
      "source": [
        "# Read in just the cleaned amsterdam file\r\n",
        "df_url = 'https://raw.githubusercontent.com/BW-TT-158-AirBnB/Data-Science-Unit3-and-Unit4/main/data/amsterdam_list_clean.csv'\r\n",
        "amsterdam = pd.read_csv(df_url)\r\n",
        "\r\n",
        "# Look at the data\r\n",
        "print(amsterdam.shape)\r\n",
        "amsterdam.head()"
      ],
      "execution_count": 3,
      "outputs": [
        {
          "output_type": "stream",
          "text": [
            "(18291, 34)\n"
          ],
          "name": "stdout"
        },
        {
          "output_type": "execute_result",
          "data": {
            "text/html": [
              "<div>\n",
              "<style scoped>\n",
              "    .dataframe tbody tr th:only-of-type {\n",
              "        vertical-align: middle;\n",
              "    }\n",
              "\n",
              "    .dataframe tbody tr th {\n",
              "        vertical-align: top;\n",
              "    }\n",
              "\n",
              "    .dataframe thead th {\n",
              "        text-align: right;\n",
              "    }\n",
              "</style>\n",
              "<table border=\"1\" class=\"dataframe\">\n",
              "  <thead>\n",
              "    <tr style=\"text-align: right;\">\n",
              "      <th></th>\n",
              "      <th>description</th>\n",
              "      <th>superhost</th>\n",
              "      <th>total_listings</th>\n",
              "      <th>profile_pic</th>\n",
              "      <th>verified_id</th>\n",
              "      <th>neighborhood</th>\n",
              "      <th>latitude</th>\n",
              "      <th>longitude</th>\n",
              "      <th>property_type</th>\n",
              "      <th>room_type</th>\n",
              "      <th>accommodates</th>\n",
              "      <th>bathrooms</th>\n",
              "      <th>bedrooms</th>\n",
              "      <th>num_of_beds</th>\n",
              "      <th>amenities</th>\n",
              "      <th>price</th>\n",
              "      <th>min_nights</th>\n",
              "      <th>max_nights</th>\n",
              "      <th>available</th>\n",
              "      <th>avail_next_30_days</th>\n",
              "      <th>avail_next_60_days</th>\n",
              "      <th>avail_next_90_days</th>\n",
              "      <th>avail_next_365_days</th>\n",
              "      <th>num_of_reviews</th>\n",
              "      <th>avg_review_score</th>\n",
              "      <th>accuracy_score</th>\n",
              "      <th>cleanliness_score</th>\n",
              "      <th>checkin_score</th>\n",
              "      <th>communication_score</th>\n",
              "      <th>location_score</th>\n",
              "      <th>value_score</th>\n",
              "      <th>instant_bookable</th>\n",
              "      <th>shared_bath</th>\n",
              "      <th>years_hosting</th>\n",
              "    </tr>\n",
              "  </thead>\n",
              "  <tbody>\n",
              "    <tr>\n",
              "      <th>0</th>\n",
              "      <td>Quiet Garden View Room &amp; Super Fast WiFi&lt;br /&gt;&lt;br /&gt;&lt;b&gt;The space&lt;/b&gt;&lt;br /&gt;I'm renting a bedroom (room overlooking the garden) in my apartment in Amsterdam, &lt;br /&gt;&lt;br /&gt;The room is located to the east of the city centre in a quiet, typical Amsterdam neighbourhood the \"Indische Buurt\". Amsterdam’s...</td>\n",
              "      <td>True</td>\n",
              "      <td>1</td>\n",
              "      <td>True</td>\n",
              "      <td>True</td>\n",
              "      <td>Oostelijk Havengebied - Indische Buurt</td>\n",
              "      <td>52.36575</td>\n",
              "      <td>4.94142</td>\n",
              "      <td>Private room in apartment</td>\n",
              "      <td>Private room</td>\n",
              "      <td>2</td>\n",
              "      <td>1.5</td>\n",
              "      <td>1.0</td>\n",
              "      <td>2.0</td>\n",
              "      <td>[\"Hangers\", \"Coffee maker\", \"Paid parking on premises\", \"Long term stays allowed\", \"First aid kit\", \"Bed linens\", \"Lock on bedroom door\", \"Private entrance\", \"Carbon monoxide alarm\", \"Dedicated workspace\", \"Host greets you\", \"Single level home\", \"Extra pillows and blankets\", \"Hot water\", \"Paid p...</td>\n",
              "      <td>59.0</td>\n",
              "      <td>3</td>\n",
              "      <td>1125</td>\n",
              "      <td>True</td>\n",
              "      <td>29</td>\n",
              "      <td>46</td>\n",
              "      <td>60</td>\n",
              "      <td>139</td>\n",
              "      <td>278</td>\n",
              "      <td>98.0</td>\n",
              "      <td>10.0</td>\n",
              "      <td>10.0</td>\n",
              "      <td>10.0</td>\n",
              "      <td>10.0</td>\n",
              "      <td>9.0</td>\n",
              "      <td>10.0</td>\n",
              "      <td>True</td>\n",
              "      <td>True</td>\n",
              "      <td>12.38</td>\n",
              "    </tr>\n",
              "    <tr>\n",
              "      <th>1</th>\n",
              "      <td>17th century Dutch townhouse in the heart of the city. no public transport needed! Located a stones throw from Rembrandt Square, Dam Square, Leidse Square and Flower Market. Walking distance from Central Station.&lt;br /&gt;Comfortable, cosy, lockable studio with comfortable bed and with private bathr...</td>\n",
              "      <td>False</td>\n",
              "      <td>2</td>\n",
              "      <td>True</td>\n",
              "      <td>True</td>\n",
              "      <td>Centrum-Oost</td>\n",
              "      <td>52.36509</td>\n",
              "      <td>4.89354</td>\n",
              "      <td>Private room in townhouse</td>\n",
              "      <td>Private room</td>\n",
              "      <td>2</td>\n",
              "      <td>1.0</td>\n",
              "      <td>1.0</td>\n",
              "      <td>1.0</td>\n",
              "      <td>[\"Essentials\", \"Bed linens\", \"Hot water\", \"Hangers\", \"Smoke alarm\", \"Heating\", \"Paid parking off premises\", \"Free street parking\", \"Refrigerator\", \"Carbon monoxide alarm\", \"Dedicated workspace\", \"Host greets you\", \"TV\", \"Wifi\", \"Hair dryer\", \"Long term stays allowed\", \"Fire extinguisher\"]</td>\n",
              "      <td>129.0</td>\n",
              "      <td>1</td>\n",
              "      <td>365</td>\n",
              "      <td>True</td>\n",
              "      <td>0</td>\n",
              "      <td>0</td>\n",
              "      <td>0</td>\n",
              "      <td>0</td>\n",
              "      <td>339</td>\n",
              "      <td>89.0</td>\n",
              "      <td>10.0</td>\n",
              "      <td>10.0</td>\n",
              "      <td>10.0</td>\n",
              "      <td>10.0</td>\n",
              "      <td>10.0</td>\n",
              "      <td>9.0</td>\n",
              "      <td>True</td>\n",
              "      <td>False</td>\n",
              "      <td>11.19</td>\n",
              "    </tr>\n",
              "    <tr>\n",
              "      <th>2</th>\n",
              "      <td>Lovely apt in Centre ( lift &amp; fireplace) near Jordaan&lt;br /&gt;&lt;br /&gt;&lt;b&gt;The space&lt;/b&gt;&lt;br /&gt;This nicely furnished, newly renovated apt  is very sunny, and spacious with 8 windows. The appliances are fairly new. There are two flat screen TVs, washing machine, dryer, dishwasher, laptop computer, Wi-fi,...</td>\n",
              "      <td>True</td>\n",
              "      <td>2</td>\n",
              "      <td>True</td>\n",
              "      <td>False</td>\n",
              "      <td>Centrum-West</td>\n",
              "      <td>52.37297</td>\n",
              "      <td>4.88339</td>\n",
              "      <td>Entire apartment</td>\n",
              "      <td>Entire home/apt</td>\n",
              "      <td>3</td>\n",
              "      <td>1.0</td>\n",
              "      <td>1.0</td>\n",
              "      <td>1.0</td>\n",
              "      <td>[\"Hangers\", \"Elevator\", \"Cooking basics\", \"Dishes and silverware\", \"Oven\", \"Coffee maker\", \"Long term stays allowed\", \"Bed linens\", \"Dishwasher\", \"Dedicated workspace\", \"Kitchen\", \"Extra pillows and blankets\", \"Hot water\", \"Heating\", \"TV\", \"Cable TV\", \"Hair dryer\", \"Microwave\", \"Essentials\", \"Sm...</td>\n",
              "      <td>125.0</td>\n",
              "      <td>14</td>\n",
              "      <td>180</td>\n",
              "      <td>True</td>\n",
              "      <td>6</td>\n",
              "      <td>36</td>\n",
              "      <td>66</td>\n",
              "      <td>251</td>\n",
              "      <td>5</td>\n",
              "      <td>100.0</td>\n",
              "      <td>10.0</td>\n",
              "      <td>10.0</td>\n",
              "      <td>10.0</td>\n",
              "      <td>10.0</td>\n",
              "      <td>10.0</td>\n",
              "      <td>10.0</td>\n",
              "      <td>False</td>\n",
              "      <td>False</td>\n",
              "      <td>11.23</td>\n",
              "    </tr>\n",
              "    <tr>\n",
              "      <th>3</th>\n",
              "      <td>Stylish and romantic houseboat on fantastic historic location with breathtaking view.  Wheelhouse, deckhouse and captains room. Central, quiet. Great breakfast, 2 vanMoof design bikes and a Canadian Canoe are included. Just read the reviews on tripadvisor for instance!&lt;br /&gt;&lt;br /&gt;&lt;b&gt;The space&lt;/b...</td>\n",
              "      <td>True</td>\n",
              "      <td>1</td>\n",
              "      <td>True</td>\n",
              "      <td>True</td>\n",
              "      <td>Centrum-West</td>\n",
              "      <td>52.38761</td>\n",
              "      <td>4.89188</td>\n",
              "      <td>Private room in houseboat</td>\n",
              "      <td>Private room</td>\n",
              "      <td>2</td>\n",
              "      <td>1.5</td>\n",
              "      <td>1.0</td>\n",
              "      <td>1.0</td>\n",
              "      <td>[\"Patio or balcony\", \"Hangers\", \"Dishes and silverware\", \"Luggage dropoff allowed\", \"Breakfast\", \"Coffee maker\", \"Lake access\", \"Long term stays allowed\", \"Private entrance\", \"Waterfront\", \"Carbon monoxide alarm\", \"Dedicated workspace\", \"Hot water\", \"Heating\", \"TV\", \"Hair dryer\", \"Essentials\", \"...</td>\n",
              "      <td>125.0</td>\n",
              "      <td>2</td>\n",
              "      <td>730</td>\n",
              "      <td>True</td>\n",
              "      <td>27</td>\n",
              "      <td>55</td>\n",
              "      <td>79</td>\n",
              "      <td>136</td>\n",
              "      <td>219</td>\n",
              "      <td>99.0</td>\n",
              "      <td>10.0</td>\n",
              "      <td>10.0</td>\n",
              "      <td>10.0</td>\n",
              "      <td>10.0</td>\n",
              "      <td>10.0</td>\n",
              "      <td>10.0</td>\n",
              "      <td>True</td>\n",
              "      <td>False</td>\n",
              "      <td>10.89</td>\n",
              "    </tr>\n",
              "    <tr>\n",
              "      <th>4</th>\n",
              "      <td>&lt;b&gt;The space&lt;/b&gt;&lt;br /&gt;In a monumental house right in the center of Amsterdam, we offer two rooms (one single room and one double room) to visitors who want to enjoy the comfort of a home-like accommodation, plus being in the middle of the historic city center, close to all important museums, sho...</td>\n",
              "      <td>True</td>\n",
              "      <td>2</td>\n",
              "      <td>True</td>\n",
              "      <td>True</td>\n",
              "      <td>Centrum-Oost</td>\n",
              "      <td>52.36610</td>\n",
              "      <td>4.88953</td>\n",
              "      <td>Private room in apartment</td>\n",
              "      <td>Private room</td>\n",
              "      <td>2</td>\n",
              "      <td>1.0</td>\n",
              "      <td>1.0</td>\n",
              "      <td>1.0</td>\n",
              "      <td>[\"Hot water\", \"Essentials\", \"Smoke alarm\", \"Hangers\", \"Heating\", \"Lock on bedroom door\", \"Private entrance\", \"Refrigerator\", \"Carbon monoxide alarm\", \"Host greets you\", \"Shampoo\", \"Wifi\", \"Hair dryer\", \"Long term stays allowed\", \"Fire extinguisher\", \"Dryer\"]</td>\n",
              "      <td>75.0</td>\n",
              "      <td>2</td>\n",
              "      <td>1825</td>\n",
              "      <td>True</td>\n",
              "      <td>30</td>\n",
              "      <td>53</td>\n",
              "      <td>78</td>\n",
              "      <td>338</td>\n",
              "      <td>336</td>\n",
              "      <td>97.0</td>\n",
              "      <td>10.0</td>\n",
              "      <td>10.0</td>\n",
              "      <td>10.0</td>\n",
              "      <td>10.0</td>\n",
              "      <td>10.0</td>\n",
              "      <td>10.0</td>\n",
              "      <td>False</td>\n",
              "      <td>True</td>\n",
              "      <td>10.75</td>\n",
              "    </tr>\n",
              "  </tbody>\n",
              "</table>\n",
              "</div>"
            ],
            "text/plain": [
              "                                                                                                                                                                                                                                                                                                   description  ...  years_hosting\n",
              "0  Quiet Garden View Room & Super Fast WiFi<br /><br /><b>The space</b><br />I'm renting a bedroom (room overlooking the garden) in my apartment in Amsterdam, <br /><br />The room is located to the east of the city centre in a quiet, typical Amsterdam neighbourhood the \"Indische Buurt\". Amsterdam’s...  ...          12.38\n",
              "1  17th century Dutch townhouse in the heart of the city. no public transport needed! Located a stones throw from Rembrandt Square, Dam Square, Leidse Square and Flower Market. Walking distance from Central Station.<br />Comfortable, cosy, lockable studio with comfortable bed and with private bathr...  ...          11.19\n",
              "2  Lovely apt in Centre ( lift & fireplace) near Jordaan<br /><br /><b>The space</b><br />This nicely furnished, newly renovated apt  is very sunny, and spacious with 8 windows. The appliances are fairly new. There are two flat screen TVs, washing machine, dryer, dishwasher, laptop computer, Wi-fi,...  ...          11.23\n",
              "3  Stylish and romantic houseboat on fantastic historic location with breathtaking view.  Wheelhouse, deckhouse and captains room. Central, quiet. Great breakfast, 2 vanMoof design bikes and a Canadian Canoe are included. Just read the reviews on tripadvisor for instance!<br /><br /><b>The space</b...  ...          10.89\n",
              "4  <b>The space</b><br />In a monumental house right in the center of Amsterdam, we offer two rooms (one single room and one double room) to visitors who want to enjoy the comfort of a home-like accommodation, plus being in the middle of the historic city center, close to all important museums, sho...  ...          10.75\n",
              "\n",
              "[5 rows x 34 columns]"
            ]
          },
          "metadata": {
            "tags": []
          },
          "execution_count": 3
        }
      ]
    },
    {
      "cell_type": "markdown",
      "metadata": {
        "id": "d8bW0wo3oR_H"
      },
      "source": [
        "## Clean a Little More to get Ready for Model\r\n",
        "\r\n",
        "- There is a little more cleaning that I need to do to get the dataset ready for input into my model. \r\n",
        "\r\n",
        "- All the features need to be converted to numerical data."
      ]
    },
    {
      "cell_type": "code",
      "metadata": {
        "colab": {
          "base_uri": "https://localhost:8080/"
        },
        "id": "9CFvBUhqrn-h",
        "outputId": "ae414975-b7e2-4e6e-cf4f-e17f2c7e2bad"
      },
      "source": [
        "# Look at the stats of my dataframe\r\n",
        "amsterdam.info()"
      ],
      "execution_count": 4,
      "outputs": [
        {
          "output_type": "stream",
          "text": [
            "<class 'pandas.core.frame.DataFrame'>\n",
            "RangeIndex: 18291 entries, 0 to 18290\n",
            "Data columns (total 34 columns):\n",
            " #   Column               Non-Null Count  Dtype  \n",
            "---  ------               --------------  -----  \n",
            " 0   description          18291 non-null  object \n",
            " 1   superhost            18291 non-null  bool   \n",
            " 2   total_listings       18291 non-null  int64  \n",
            " 3   profile_pic          18291 non-null  bool   \n",
            " 4   verified_id          18291 non-null  bool   \n",
            " 5   neighborhood         18291 non-null  object \n",
            " 6   latitude             18291 non-null  float64\n",
            " 7   longitude            18291 non-null  float64\n",
            " 8   property_type        18291 non-null  object \n",
            " 9   room_type            18291 non-null  object \n",
            " 10  accommodates         18291 non-null  int64  \n",
            " 11  bathrooms            18291 non-null  float64\n",
            " 12  bedrooms             18291 non-null  float64\n",
            " 13  num_of_beds          18291 non-null  float64\n",
            " 14  amenities            18291 non-null  object \n",
            " 15  price                18291 non-null  float64\n",
            " 16  min_nights           18291 non-null  int64  \n",
            " 17  max_nights           18291 non-null  int64  \n",
            " 18  available            18291 non-null  bool   \n",
            " 19  avail_next_30_days   18291 non-null  int64  \n",
            " 20  avail_next_60_days   18291 non-null  int64  \n",
            " 21  avail_next_90_days   18291 non-null  int64  \n",
            " 22  avail_next_365_days  18291 non-null  int64  \n",
            " 23  num_of_reviews       18291 non-null  int64  \n",
            " 24  avg_review_score     18291 non-null  float64\n",
            " 25  accuracy_score       18291 non-null  float64\n",
            " 26  cleanliness_score    18291 non-null  float64\n",
            " 27  checkin_score        18291 non-null  float64\n",
            " 28  communication_score  18291 non-null  float64\n",
            " 29  location_score       18291 non-null  float64\n",
            " 30  value_score          18291 non-null  float64\n",
            " 31  instant_bookable     18291 non-null  bool   \n",
            " 32  shared_bath          18291 non-null  bool   \n",
            " 33  years_hosting        18291 non-null  float64\n",
            "dtypes: bool(6), float64(14), int64(9), object(5)\n",
            "memory usage: 4.0+ MB\n"
          ],
          "name": "stdout"
        }
      ]
    },
    {
      "cell_type": "markdown",
      "metadata": {
        "id": "Qgje1NE1v-5I"
      },
      "source": [
        "### Drop Features Not Needed Right Now\r\n",
        "\r\n",
        "- Need to drop description feature for now, will circle back if time allows.\r\n",
        "\r\n",
        "- Need to also drop a few other features that I don't think will add a lot of value to try to reduce the chance of the curse of dimensionality because I will be using Tfidf vectorizer on the text features."
      ]
    },
    {
      "cell_type": "code",
      "metadata": {
        "colab": {
          "base_uri": "https://localhost:8080/"
        },
        "id": "vwm-f3W_shyx",
        "outputId": "f6c8f08a-e863-443f-e40c-1712d2e98648"
      },
      "source": [
        "# Drop features that are not needed right now\r\n",
        "amsterdam.drop(columns=['description', 'latitude', 'longitude', \r\n",
        "                         'property_type', 'avail_next_30_days', \r\n",
        "                         'avail_next_60_days', 'avail_next_90_days', \r\n",
        "                         'accuracy_score', 'cleanliness_score', 'checkin_score', \r\n",
        "                         'communication_score', 'location_score', 'value_score'], \r\n",
        "               inplace=True)\r\n",
        "\r\n",
        "# Check my work\r\n",
        "print(amsterdam.shape)\r\n",
        "amsterdam.info()"
      ],
      "execution_count": 5,
      "outputs": [
        {
          "output_type": "stream",
          "text": [
            "(18291, 21)\n",
            "<class 'pandas.core.frame.DataFrame'>\n",
            "RangeIndex: 18291 entries, 0 to 18290\n",
            "Data columns (total 21 columns):\n",
            " #   Column               Non-Null Count  Dtype  \n",
            "---  ------               --------------  -----  \n",
            " 0   superhost            18291 non-null  bool   \n",
            " 1   total_listings       18291 non-null  int64  \n",
            " 2   profile_pic          18291 non-null  bool   \n",
            " 3   verified_id          18291 non-null  bool   \n",
            " 4   neighborhood         18291 non-null  object \n",
            " 5   room_type            18291 non-null  object \n",
            " 6   accommodates         18291 non-null  int64  \n",
            " 7   bathrooms            18291 non-null  float64\n",
            " 8   bedrooms             18291 non-null  float64\n",
            " 9   num_of_beds          18291 non-null  float64\n",
            " 10  amenities            18291 non-null  object \n",
            " 11  price                18291 non-null  float64\n",
            " 12  min_nights           18291 non-null  int64  \n",
            " 13  max_nights           18291 non-null  int64  \n",
            " 14  available            18291 non-null  bool   \n",
            " 15  avail_next_365_days  18291 non-null  int64  \n",
            " 16  num_of_reviews       18291 non-null  int64  \n",
            " 17  avg_review_score     18291 non-null  float64\n",
            " 18  instant_bookable     18291 non-null  bool   \n",
            " 19  shared_bath          18291 non-null  bool   \n",
            " 20  years_hosting        18291 non-null  float64\n",
            "dtypes: bool(6), float64(6), int64(6), object(3)\n",
            "memory usage: 2.2+ MB\n"
          ],
          "name": "stdout"
        }
      ]
    },
    {
      "cell_type": "code",
      "metadata": {
        "colab": {
          "base_uri": "https://localhost:8080/"
        },
        "id": "XUwYvN2M1AcN",
        "outputId": "988f88a7-36b2-4654-8728-914b787b0ba3"
      },
      "source": [
        "# What is the type of the amenities feature column\r\n",
        "type(amsterdam['amenities'])"
      ],
      "execution_count": 6,
      "outputs": [
        {
          "output_type": "execute_result",
          "data": {
            "text/plain": [
              "pandas.core.series.Series"
            ]
          },
          "metadata": {
            "tags": []
          },
          "execution_count": 6
        }
      ]
    },
    {
      "cell_type": "markdown",
      "metadata": {
        "id": "1uffup8CwLmB"
      },
      "source": [
        "### Vectorize Text Features\r\n",
        "\r\n",
        "- Going to use `TfidfVectorizer` to vectorize my text features.\r\n",
        "\r\n",
        "- Then going to create a document term matrix DataFrame for each feature to merge back into the main dataset later."
      ]
    },
    {
      "cell_type": "code",
      "metadata": {
        "id": "3jGZc3KG3jWO"
      },
      "source": [
        "# Pull out just the text features for now\r\n",
        "txt_feat = amsterdam[['neighborhood', 'room_type', 'amenities']]"
      ],
      "execution_count": 7,
      "outputs": []
    },
    {
      "cell_type": "code",
      "metadata": {
        "colab": {
          "base_uri": "https://localhost:8080/",
          "height": 340
        },
        "id": "2Cj9p5L632sN",
        "outputId": "3de4153f-2583-408d-cca4-1eb0d3a1eb3a"
      },
      "source": [
        "# Look at just the text features\r\n",
        "txt_feat.head()"
      ],
      "execution_count": 8,
      "outputs": [
        {
          "output_type": "execute_result",
          "data": {
            "text/html": [
              "<div>\n",
              "<style scoped>\n",
              "    .dataframe tbody tr th:only-of-type {\n",
              "        vertical-align: middle;\n",
              "    }\n",
              "\n",
              "    .dataframe tbody tr th {\n",
              "        vertical-align: top;\n",
              "    }\n",
              "\n",
              "    .dataframe thead th {\n",
              "        text-align: right;\n",
              "    }\n",
              "</style>\n",
              "<table border=\"1\" class=\"dataframe\">\n",
              "  <thead>\n",
              "    <tr style=\"text-align: right;\">\n",
              "      <th></th>\n",
              "      <th>neighborhood</th>\n",
              "      <th>room_type</th>\n",
              "      <th>amenities</th>\n",
              "    </tr>\n",
              "  </thead>\n",
              "  <tbody>\n",
              "    <tr>\n",
              "      <th>0</th>\n",
              "      <td>Oostelijk Havengebied - Indische Buurt</td>\n",
              "      <td>Private room</td>\n",
              "      <td>[\"Hangers\", \"Coffee maker\", \"Paid parking on premises\", \"Long term stays allowed\", \"First aid kit\", \"Bed linens\", \"Lock on bedroom door\", \"Private entrance\", \"Carbon monoxide alarm\", \"Dedicated workspace\", \"Host greets you\", \"Single level home\", \"Extra pillows and blankets\", \"Hot water\", \"Paid p...</td>\n",
              "    </tr>\n",
              "    <tr>\n",
              "      <th>1</th>\n",
              "      <td>Centrum-Oost</td>\n",
              "      <td>Private room</td>\n",
              "      <td>[\"Essentials\", \"Bed linens\", \"Hot water\", \"Hangers\", \"Smoke alarm\", \"Heating\", \"Paid parking off premises\", \"Free street parking\", \"Refrigerator\", \"Carbon monoxide alarm\", \"Dedicated workspace\", \"Host greets you\", \"TV\", \"Wifi\", \"Hair dryer\", \"Long term stays allowed\", \"Fire extinguisher\"]</td>\n",
              "    </tr>\n",
              "    <tr>\n",
              "      <th>2</th>\n",
              "      <td>Centrum-West</td>\n",
              "      <td>Entire home/apt</td>\n",
              "      <td>[\"Hangers\", \"Elevator\", \"Cooking basics\", \"Dishes and silverware\", \"Oven\", \"Coffee maker\", \"Long term stays allowed\", \"Bed linens\", \"Dishwasher\", \"Dedicated workspace\", \"Kitchen\", \"Extra pillows and blankets\", \"Hot water\", \"Heating\", \"TV\", \"Cable TV\", \"Hair dryer\", \"Microwave\", \"Essentials\", \"Sm...</td>\n",
              "    </tr>\n",
              "    <tr>\n",
              "      <th>3</th>\n",
              "      <td>Centrum-West</td>\n",
              "      <td>Private room</td>\n",
              "      <td>[\"Patio or balcony\", \"Hangers\", \"Dishes and silverware\", \"Luggage dropoff allowed\", \"Breakfast\", \"Coffee maker\", \"Lake access\", \"Long term stays allowed\", \"Private entrance\", \"Waterfront\", \"Carbon monoxide alarm\", \"Dedicated workspace\", \"Hot water\", \"Heating\", \"TV\", \"Hair dryer\", \"Essentials\", \"...</td>\n",
              "    </tr>\n",
              "    <tr>\n",
              "      <th>4</th>\n",
              "      <td>Centrum-Oost</td>\n",
              "      <td>Private room</td>\n",
              "      <td>[\"Hot water\", \"Essentials\", \"Smoke alarm\", \"Hangers\", \"Heating\", \"Lock on bedroom door\", \"Private entrance\", \"Refrigerator\", \"Carbon monoxide alarm\", \"Host greets you\", \"Shampoo\", \"Wifi\", \"Hair dryer\", \"Long term stays allowed\", \"Fire extinguisher\", \"Dryer\"]</td>\n",
              "    </tr>\n",
              "  </tbody>\n",
              "</table>\n",
              "</div>"
            ],
            "text/plain": [
              "                             neighborhood  ...                                                                                                                                                                                                                                                                                                    amenities\n",
              "0  Oostelijk Havengebied - Indische Buurt  ...  [\"Hangers\", \"Coffee maker\", \"Paid parking on premises\", \"Long term stays allowed\", \"First aid kit\", \"Bed linens\", \"Lock on bedroom door\", \"Private entrance\", \"Carbon monoxide alarm\", \"Dedicated workspace\", \"Host greets you\", \"Single level home\", \"Extra pillows and blankets\", \"Hot water\", \"Paid p...\n",
              "1                            Centrum-Oost  ...            [\"Essentials\", \"Bed linens\", \"Hot water\", \"Hangers\", \"Smoke alarm\", \"Heating\", \"Paid parking off premises\", \"Free street parking\", \"Refrigerator\", \"Carbon monoxide alarm\", \"Dedicated workspace\", \"Host greets you\", \"TV\", \"Wifi\", \"Hair dryer\", \"Long term stays allowed\", \"Fire extinguisher\"]\n",
              "2                            Centrum-West  ...  [\"Hangers\", \"Elevator\", \"Cooking basics\", \"Dishes and silverware\", \"Oven\", \"Coffee maker\", \"Long term stays allowed\", \"Bed linens\", \"Dishwasher\", \"Dedicated workspace\", \"Kitchen\", \"Extra pillows and blankets\", \"Hot water\", \"Heating\", \"TV\", \"Cable TV\", \"Hair dryer\", \"Microwave\", \"Essentials\", \"Sm...\n",
              "3                            Centrum-West  ...  [\"Patio or balcony\", \"Hangers\", \"Dishes and silverware\", \"Luggage dropoff allowed\", \"Breakfast\", \"Coffee maker\", \"Lake access\", \"Long term stays allowed\", \"Private entrance\", \"Waterfront\", \"Carbon monoxide alarm\", \"Dedicated workspace\", \"Hot water\", \"Heating\", \"TV\", \"Hair dryer\", \"Essentials\", \"...\n",
              "4                            Centrum-Oost  ...                                           [\"Hot water\", \"Essentials\", \"Smoke alarm\", \"Hangers\", \"Heating\", \"Lock on bedroom door\", \"Private entrance\", \"Refrigerator\", \"Carbon monoxide alarm\", \"Host greets you\", \"Shampoo\", \"Wifi\", \"Hair dryer\", \"Long term stays allowed\", \"Fire extinguisher\", \"Dryer\"]\n",
              "\n",
              "[5 rows x 3 columns]"
            ]
          },
          "metadata": {
            "tags": []
          },
          "execution_count": 8
        }
      ]
    },
    {
      "cell_type": "code",
      "metadata": {
        "id": "ZVkR6a466rbS"
      },
      "source": [
        "# Instantiate the Tfidf Vectorizer to vectorize the amenities feature \r\n",
        "tfidf = TfidfVectorizer(\r\n",
        "    lowercase=True,\r\n",
        "    stop_words='english',\r\n",
        "    min_df=300,\r\n",
        "    max_df=0.6,\r\n",
        "    ngram_range=(2, 3),\r\n",
        "    max_features=100\r\n",
        ")\r\n",
        "\r\n",
        "# Fit the Tfidf vectorizer to just the amenities feature and create a dataframe\r\n",
        "#   with the resulting document term matrix\r\n",
        "dtm_amen = tfidf.fit_transform(txt_feat['amenities'])\r\n",
        "dtm_amen = pd.DataFrame(dtm_amen.todense(), columns=tfidf.get_feature_names())\r\n",
        "\r\n",
        "# Instantiate the Tfidf Vectorizer to vectorize the neighborhood feature\r\n",
        "tfidf = TfidfVectorizer(\r\n",
        "    lowercase=True,\r\n",
        "    stop_words='english',\r\n",
        "    min_df=5,\r\n",
        "    max_df=0.90,\r\n",
        "    ngram_range=(1, 3)\r\n",
        ")\r\n",
        "\r\n",
        "# Fit the Tfidf vectorizer to just the neighborhood feature and create a \r\n",
        "#   dataframe with the resulting document term matrix\r\n",
        "dtm_neigh = tfidf.fit_transform(txt_feat['neighborhood'])\r\n",
        "dtm_neigh = pd.DataFrame(dtm_neigh.todense(), columns=tfidf.get_feature_names())\r\n",
        "\r\n",
        "# Instantiate the Tfidf Vectorizer to vectorize the room_type feature\r\n",
        "tfidf = TfidfVectorizer(\r\n",
        "    lowercase=True,\r\n",
        "    stop_words='english',\r\n",
        "    min_df=5,\r\n",
        "    max_df=0.95,\r\n",
        "    ngram_range=(1, 3)\r\n",
        ")\r\n",
        "\r\n",
        "# Fit the Tfid vecorizer to just the room_type feature and create a dataframe\r\n",
        "#   with the resulting document term matrix\r\n",
        "dtm_room = tfidf.fit_transform(txt_feat['room_type'])\r\n",
        "dtm_room = pd.DataFrame(dtm_room.todense(), columns=tfidf.get_feature_names())"
      ],
      "execution_count": 9,
      "outputs": []
    },
    {
      "cell_type": "code",
      "metadata": {
        "colab": {
          "base_uri": "https://localhost:8080/",
          "height": 304
        },
        "id": "qte5fk7C2UyM",
        "outputId": "5d9f97aa-7697-4fb0-9cfe-a7af4f33210c"
      },
      "source": [
        "# Look at the amenities feature document term matrix\r\n",
        "print(dtm_amen.shape)\r\n",
        "dtm_amen.head()"
      ],
      "execution_count": 10,
      "outputs": [
        {
          "output_type": "stream",
          "text": [
            "(18291, 100)\n"
          ],
          "name": "stdout"
        },
        {
          "output_type": "execute_result",
          "data": {
            "text/html": [
              "<div>\n",
              "<style scoped>\n",
              "    .dataframe tbody tr th:only-of-type {\n",
              "        vertical-align: middle;\n",
              "    }\n",
              "\n",
              "    .dataframe tbody tr th {\n",
              "        vertical-align: top;\n",
              "    }\n",
              "\n",
              "    .dataframe thead th {\n",
              "        text-align: right;\n",
              "    }\n",
              "</style>\n",
              "<table border=\"1\" class=\"dataframe\">\n",
              "  <thead>\n",
              "    <tr style=\"text-align: right;\">\n",
              "      <th></th>\n",
              "      <th>aid kit</th>\n",
              "      <th>alarm dedicated</th>\n",
              "      <th>alarm dedicated workspace</th>\n",
              "      <th>alarm kitchen</th>\n",
              "      <th>alarm stove</th>\n",
              "      <th>alarm stove washer</th>\n",
              "      <th>allowed aid</th>\n",
              "      <th>allowed aid kit</th>\n",
              "      <th>balcony hangers</th>\n",
              "      <th>basics dishes</th>\n",
              "      <th>basics dishes silverware</th>\n",
              "      <th>bed linens</th>\n",
              "      <th>cable tv</th>\n",
              "      <th>cable tv wifi</th>\n",
              "      <th>carbon monoxide</th>\n",
              "      <th>carbon monoxide alarm</th>\n",
              "      <th>coffee maker</th>\n",
              "      <th>coffee maker long</th>\n",
              "      <th>cooking basics</th>\n",
              "      <th>cooking basics dishes</th>\n",
              "      <th>dedicated workspace host</th>\n",
              "      <th>dishes silverware</th>\n",
              "      <th>dishes silverware oven</th>\n",
              "      <th>dishwasher carbon</th>\n",
              "      <th>dishwasher carbon monoxide</th>\n",
              "      <th>dropoff allowed</th>\n",
              "      <th>dryer long</th>\n",
              "      <th>dryer long term</th>\n",
              "      <th>dryer microwave</th>\n",
              "      <th>dryer microwave essentials</th>\n",
              "      <th>extinguisher dryer</th>\n",
              "      <th>extra pillows</th>\n",
              "      <th>extra pillows blankets</th>\n",
              "      <th>hair dryer long</th>\n",
              "      <th>hair dryer microwave</th>\n",
              "      <th>hangers cooking</th>\n",
              "      <th>hangers cooking basics</th>\n",
              "      <th>hangers washer</th>\n",
              "      <th>hangers washer heating</th>\n",
              "      <th>heating tv</th>\n",
              "      <th>...</th>\n",
              "      <th>paid parking</th>\n",
              "      <th>paid parking premises</th>\n",
              "      <th>parking premises</th>\n",
              "      <th>parking premises heating</th>\n",
              "      <th>patio balcony</th>\n",
              "      <th>patio balcony hangers</th>\n",
              "      <th>pillows blankets</th>\n",
              "      <th>premises heating</th>\n",
              "      <th>private entrance</th>\n",
              "      <th>refrigerator iron</th>\n",
              "      <th>refrigerator iron shampoo</th>\n",
              "      <th>shampoo tv</th>\n",
              "      <th>shampoo wifi</th>\n",
              "      <th>shampoo wifi extinguisher</th>\n",
              "      <th>silverware oven</th>\n",
              "      <th>silverware oven coffee</th>\n",
              "      <th>smoke alarm stove</th>\n",
              "      <th>stays allowed aid</th>\n",
              "      <th>stove washer</th>\n",
              "      <th>stove washer refrigerator</th>\n",
              "      <th>tv cable</th>\n",
              "      <th>tv cable tv</th>\n",
              "      <th>tv hair</th>\n",
              "      <th>tv hair dryer</th>\n",
              "      <th>tv wifi</th>\n",
              "      <th>tv wifi hair</th>\n",
              "      <th>tv wifi kitchen</th>\n",
              "      <th>washer heating</th>\n",
              "      <th>washer refrigerator</th>\n",
              "      <th>washer refrigerator iron</th>\n",
              "      <th>water heating</th>\n",
              "      <th>water paid</th>\n",
              "      <th>water paid parking</th>\n",
              "      <th>wifi extinguisher</th>\n",
              "      <th>wifi hair</th>\n",
              "      <th>wifi hair dryer</th>\n",
              "      <th>wifi kitchen</th>\n",
              "      <th>wifi kitchen long</th>\n",
              "      <th>workspace host</th>\n",
              "      <th>workspace host greets</th>\n",
              "    </tr>\n",
              "  </thead>\n",
              "  <tbody>\n",
              "    <tr>\n",
              "      <th>0</th>\n",
              "      <td>0.125067</td>\n",
              "      <td>0.141336</td>\n",
              "      <td>0.141336</td>\n",
              "      <td>0.0</td>\n",
              "      <td>0.000000</td>\n",
              "      <td>0.000000</td>\n",
              "      <td>0.17278</td>\n",
              "      <td>0.17278</td>\n",
              "      <td>0.000000</td>\n",
              "      <td>0.000000</td>\n",
              "      <td>0.000000</td>\n",
              "      <td>0.129064</td>\n",
              "      <td>0.000000</td>\n",
              "      <td>0.0</td>\n",
              "      <td>0.118476</td>\n",
              "      <td>0.118476</td>\n",
              "      <td>0.119876</td>\n",
              "      <td>0.000000</td>\n",
              "      <td>0.000000</td>\n",
              "      <td>0.000000</td>\n",
              "      <td>0.164755</td>\n",
              "      <td>0.000000</td>\n",
              "      <td>0.000000</td>\n",
              "      <td>0.0</td>\n",
              "      <td>0.0</td>\n",
              "      <td>0.000000</td>\n",
              "      <td>0.000000</td>\n",
              "      <td>0.000000</td>\n",
              "      <td>0.000000</td>\n",
              "      <td>0.000000</td>\n",
              "      <td>0.000000</td>\n",
              "      <td>0.176138</td>\n",
              "      <td>0.176138</td>\n",
              "      <td>0.000000</td>\n",
              "      <td>0.000000</td>\n",
              "      <td>0.0</td>\n",
              "      <td>0.0</td>\n",
              "      <td>0.0</td>\n",
              "      <td>0.0</td>\n",
              "      <td>0.000000</td>\n",
              "      <td>...</td>\n",
              "      <td>0.288245</td>\n",
              "      <td>0.289143</td>\n",
              "      <td>0.251781</td>\n",
              "      <td>0.167902</td>\n",
              "      <td>0.000000</td>\n",
              "      <td>0.000000</td>\n",
              "      <td>0.176138</td>\n",
              "      <td>0.167739</td>\n",
              "      <td>0.127783</td>\n",
              "      <td>0.136591</td>\n",
              "      <td>0.183442</td>\n",
              "      <td>0.0</td>\n",
              "      <td>0.000000</td>\n",
              "      <td>0.000000</td>\n",
              "      <td>0.000000</td>\n",
              "      <td>0.000000</td>\n",
              "      <td>0.000000</td>\n",
              "      <td>0.173173</td>\n",
              "      <td>0.000000</td>\n",
              "      <td>0.000000</td>\n",
              "      <td>0.000000</td>\n",
              "      <td>0.000000</td>\n",
              "      <td>0.000000</td>\n",
              "      <td>0.000000</td>\n",
              "      <td>0.000000</td>\n",
              "      <td>0.000000</td>\n",
              "      <td>0.0</td>\n",
              "      <td>0.0</td>\n",
              "      <td>0.156084</td>\n",
              "      <td>0.165764</td>\n",
              "      <td>0.000000</td>\n",
              "      <td>0.175583</td>\n",
              "      <td>0.175603</td>\n",
              "      <td>0.159275</td>\n",
              "      <td>0.000000</td>\n",
              "      <td>0.000000</td>\n",
              "      <td>0.0</td>\n",
              "      <td>0.0</td>\n",
              "      <td>0.164755</td>\n",
              "      <td>0.164755</td>\n",
              "    </tr>\n",
              "    <tr>\n",
              "      <th>1</th>\n",
              "      <td>0.000000</td>\n",
              "      <td>0.208325</td>\n",
              "      <td>0.208325</td>\n",
              "      <td>0.0</td>\n",
              "      <td>0.000000</td>\n",
              "      <td>0.000000</td>\n",
              "      <td>0.00000</td>\n",
              "      <td>0.00000</td>\n",
              "      <td>0.000000</td>\n",
              "      <td>0.000000</td>\n",
              "      <td>0.000000</td>\n",
              "      <td>0.190236</td>\n",
              "      <td>0.000000</td>\n",
              "      <td>0.0</td>\n",
              "      <td>0.174631</td>\n",
              "      <td>0.174631</td>\n",
              "      <td>0.000000</td>\n",
              "      <td>0.000000</td>\n",
              "      <td>0.000000</td>\n",
              "      <td>0.000000</td>\n",
              "      <td>0.242845</td>\n",
              "      <td>0.000000</td>\n",
              "      <td>0.000000</td>\n",
              "      <td>0.0</td>\n",
              "      <td>0.0</td>\n",
              "      <td>0.000000</td>\n",
              "      <td>0.246499</td>\n",
              "      <td>0.246499</td>\n",
              "      <td>0.000000</td>\n",
              "      <td>0.000000</td>\n",
              "      <td>0.000000</td>\n",
              "      <td>0.000000</td>\n",
              "      <td>0.000000</td>\n",
              "      <td>0.246870</td>\n",
              "      <td>0.000000</td>\n",
              "      <td>0.0</td>\n",
              "      <td>0.0</td>\n",
              "      <td>0.0</td>\n",
              "      <td>0.0</td>\n",
              "      <td>0.000000</td>\n",
              "      <td>...</td>\n",
              "      <td>0.212432</td>\n",
              "      <td>0.213094</td>\n",
              "      <td>0.185559</td>\n",
              "      <td>0.000000</td>\n",
              "      <td>0.000000</td>\n",
              "      <td>0.000000</td>\n",
              "      <td>0.000000</td>\n",
              "      <td>0.000000</td>\n",
              "      <td>0.000000</td>\n",
              "      <td>0.000000</td>\n",
              "      <td>0.000000</td>\n",
              "      <td>0.0</td>\n",
              "      <td>0.000000</td>\n",
              "      <td>0.000000</td>\n",
              "      <td>0.000000</td>\n",
              "      <td>0.000000</td>\n",
              "      <td>0.000000</td>\n",
              "      <td>0.000000</td>\n",
              "      <td>0.000000</td>\n",
              "      <td>0.000000</td>\n",
              "      <td>0.000000</td>\n",
              "      <td>0.000000</td>\n",
              "      <td>0.000000</td>\n",
              "      <td>0.000000</td>\n",
              "      <td>0.189531</td>\n",
              "      <td>0.244512</td>\n",
              "      <td>0.0</td>\n",
              "      <td>0.0</td>\n",
              "      <td>0.000000</td>\n",
              "      <td>0.000000</td>\n",
              "      <td>0.000000</td>\n",
              "      <td>0.000000</td>\n",
              "      <td>0.000000</td>\n",
              "      <td>0.000000</td>\n",
              "      <td>0.212524</td>\n",
              "      <td>0.212524</td>\n",
              "      <td>0.0</td>\n",
              "      <td>0.0</td>\n",
              "      <td>0.242845</td>\n",
              "      <td>0.242845</td>\n",
              "    </tr>\n",
              "    <tr>\n",
              "      <th>2</th>\n",
              "      <td>0.000000</td>\n",
              "      <td>0.000000</td>\n",
              "      <td>0.000000</td>\n",
              "      <td>0.0</td>\n",
              "      <td>0.143755</td>\n",
              "      <td>0.155314</td>\n",
              "      <td>0.00000</td>\n",
              "      <td>0.00000</td>\n",
              "      <td>0.000000</td>\n",
              "      <td>0.140321</td>\n",
              "      <td>0.140321</td>\n",
              "      <td>0.125041</td>\n",
              "      <td>0.125164</td>\n",
              "      <td>0.0</td>\n",
              "      <td>0.000000</td>\n",
              "      <td>0.000000</td>\n",
              "      <td>0.116139</td>\n",
              "      <td>0.173159</td>\n",
              "      <td>0.121052</td>\n",
              "      <td>0.140321</td>\n",
              "      <td>0.000000</td>\n",
              "      <td>0.108391</td>\n",
              "      <td>0.154004</td>\n",
              "      <td>0.0</td>\n",
              "      <td>0.0</td>\n",
              "      <td>0.000000</td>\n",
              "      <td>0.000000</td>\n",
              "      <td>0.000000</td>\n",
              "      <td>0.155924</td>\n",
              "      <td>0.160818</td>\n",
              "      <td>0.176765</td>\n",
              "      <td>0.170647</td>\n",
              "      <td>0.170647</td>\n",
              "      <td>0.000000</td>\n",
              "      <td>0.155924</td>\n",
              "      <td>0.0</td>\n",
              "      <td>0.0</td>\n",
              "      <td>0.0</td>\n",
              "      <td>0.0</td>\n",
              "      <td>0.138994</td>\n",
              "      <td>...</td>\n",
              "      <td>0.000000</td>\n",
              "      <td>0.000000</td>\n",
              "      <td>0.000000</td>\n",
              "      <td>0.000000</td>\n",
              "      <td>0.000000</td>\n",
              "      <td>0.000000</td>\n",
              "      <td>0.170647</td>\n",
              "      <td>0.000000</td>\n",
              "      <td>0.000000</td>\n",
              "      <td>0.132333</td>\n",
              "      <td>0.000000</td>\n",
              "      <td>0.0</td>\n",
              "      <td>0.116692</td>\n",
              "      <td>0.173389</td>\n",
              "      <td>0.154004</td>\n",
              "      <td>0.171697</td>\n",
              "      <td>0.143768</td>\n",
              "      <td>0.000000</td>\n",
              "      <td>0.146767</td>\n",
              "      <td>0.164867</td>\n",
              "      <td>0.134267</td>\n",
              "      <td>0.134267</td>\n",
              "      <td>0.146672</td>\n",
              "      <td>0.146672</td>\n",
              "      <td>0.000000</td>\n",
              "      <td>0.000000</td>\n",
              "      <td>0.0</td>\n",
              "      <td>0.0</td>\n",
              "      <td>0.151218</td>\n",
              "      <td>0.160596</td>\n",
              "      <td>0.176765</td>\n",
              "      <td>0.000000</td>\n",
              "      <td>0.000000</td>\n",
              "      <td>0.154310</td>\n",
              "      <td>0.000000</td>\n",
              "      <td>0.000000</td>\n",
              "      <td>0.0</td>\n",
              "      <td>0.0</td>\n",
              "      <td>0.000000</td>\n",
              "      <td>0.000000</td>\n",
              "    </tr>\n",
              "    <tr>\n",
              "      <th>3</th>\n",
              "      <td>0.000000</td>\n",
              "      <td>0.203121</td>\n",
              "      <td>0.203121</td>\n",
              "      <td>0.0</td>\n",
              "      <td>0.000000</td>\n",
              "      <td>0.000000</td>\n",
              "      <td>0.00000</td>\n",
              "      <td>0.00000</td>\n",
              "      <td>0.254753</td>\n",
              "      <td>0.000000</td>\n",
              "      <td>0.000000</td>\n",
              "      <td>0.000000</td>\n",
              "      <td>0.000000</td>\n",
              "      <td>0.0</td>\n",
              "      <td>0.170268</td>\n",
              "      <td>0.170268</td>\n",
              "      <td>0.172279</td>\n",
              "      <td>0.000000</td>\n",
              "      <td>0.000000</td>\n",
              "      <td>0.000000</td>\n",
              "      <td>0.000000</td>\n",
              "      <td>0.160787</td>\n",
              "      <td>0.000000</td>\n",
              "      <td>0.0</td>\n",
              "      <td>0.0</td>\n",
              "      <td>0.257358</td>\n",
              "      <td>0.000000</td>\n",
              "      <td>0.000000</td>\n",
              "      <td>0.000000</td>\n",
              "      <td>0.000000</td>\n",
              "      <td>0.000000</td>\n",
              "      <td>0.000000</td>\n",
              "      <td>0.000000</td>\n",
              "      <td>0.000000</td>\n",
              "      <td>0.000000</td>\n",
              "      <td>0.0</td>\n",
              "      <td>0.0</td>\n",
              "      <td>0.0</td>\n",
              "      <td>0.0</td>\n",
              "      <td>0.206182</td>\n",
              "      <td>...</td>\n",
              "      <td>0.000000</td>\n",
              "      <td>0.000000</td>\n",
              "      <td>0.000000</td>\n",
              "      <td>0.000000</td>\n",
              "      <td>0.212977</td>\n",
              "      <td>0.254753</td>\n",
              "      <td>0.000000</td>\n",
              "      <td>0.000000</td>\n",
              "      <td>0.183643</td>\n",
              "      <td>0.000000</td>\n",
              "      <td>0.000000</td>\n",
              "      <td>0.0</td>\n",
              "      <td>0.173099</td>\n",
              "      <td>0.000000</td>\n",
              "      <td>0.000000</td>\n",
              "      <td>0.000000</td>\n",
              "      <td>0.000000</td>\n",
              "      <td>0.000000</td>\n",
              "      <td>0.000000</td>\n",
              "      <td>0.000000</td>\n",
              "      <td>0.000000</td>\n",
              "      <td>0.000000</td>\n",
              "      <td>0.217572</td>\n",
              "      <td>0.217572</td>\n",
              "      <td>0.000000</td>\n",
              "      <td>0.000000</td>\n",
              "      <td>0.0</td>\n",
              "      <td>0.0</td>\n",
              "      <td>0.000000</td>\n",
              "      <td>0.000000</td>\n",
              "      <td>0.262211</td>\n",
              "      <td>0.000000</td>\n",
              "      <td>0.000000</td>\n",
              "      <td>0.000000</td>\n",
              "      <td>0.000000</td>\n",
              "      <td>0.000000</td>\n",
              "      <td>0.0</td>\n",
              "      <td>0.0</td>\n",
              "      <td>0.000000</td>\n",
              "      <td>0.000000</td>\n",
              "    </tr>\n",
              "    <tr>\n",
              "      <th>4</th>\n",
              "      <td>0.000000</td>\n",
              "      <td>0.000000</td>\n",
              "      <td>0.000000</td>\n",
              "      <td>0.0</td>\n",
              "      <td>0.000000</td>\n",
              "      <td>0.000000</td>\n",
              "      <td>0.00000</td>\n",
              "      <td>0.00000</td>\n",
              "      <td>0.000000</td>\n",
              "      <td>0.000000</td>\n",
              "      <td>0.000000</td>\n",
              "      <td>0.000000</td>\n",
              "      <td>0.000000</td>\n",
              "      <td>0.0</td>\n",
              "      <td>0.230281</td>\n",
              "      <td>0.230281</td>\n",
              "      <td>0.000000</td>\n",
              "      <td>0.000000</td>\n",
              "      <td>0.000000</td>\n",
              "      <td>0.000000</td>\n",
              "      <td>0.000000</td>\n",
              "      <td>0.000000</td>\n",
              "      <td>0.000000</td>\n",
              "      <td>0.0</td>\n",
              "      <td>0.0</td>\n",
              "      <td>0.000000</td>\n",
              "      <td>0.325053</td>\n",
              "      <td>0.325053</td>\n",
              "      <td>0.000000</td>\n",
              "      <td>0.000000</td>\n",
              "      <td>0.354631</td>\n",
              "      <td>0.000000</td>\n",
              "      <td>0.000000</td>\n",
              "      <td>0.325542</td>\n",
              "      <td>0.000000</td>\n",
              "      <td>0.0</td>\n",
              "      <td>0.0</td>\n",
              "      <td>0.0</td>\n",
              "      <td>0.0</td>\n",
              "      <td>0.000000</td>\n",
              "      <td>...</td>\n",
              "      <td>0.000000</td>\n",
              "      <td>0.000000</td>\n",
              "      <td>0.000000</td>\n",
              "      <td>0.000000</td>\n",
              "      <td>0.000000</td>\n",
              "      <td>0.000000</td>\n",
              "      <td>0.000000</td>\n",
              "      <td>0.000000</td>\n",
              "      <td>0.248370</td>\n",
              "      <td>0.000000</td>\n",
              "      <td>0.000000</td>\n",
              "      <td>0.0</td>\n",
              "      <td>0.234110</td>\n",
              "      <td>0.000000</td>\n",
              "      <td>0.000000</td>\n",
              "      <td>0.000000</td>\n",
              "      <td>0.000000</td>\n",
              "      <td>0.000000</td>\n",
              "      <td>0.000000</td>\n",
              "      <td>0.000000</td>\n",
              "      <td>0.000000</td>\n",
              "      <td>0.000000</td>\n",
              "      <td>0.000000</td>\n",
              "      <td>0.000000</td>\n",
              "      <td>0.000000</td>\n",
              "      <td>0.000000</td>\n",
              "      <td>0.0</td>\n",
              "      <td>0.0</td>\n",
              "      <td>0.000000</td>\n",
              "      <td>0.000000</td>\n",
              "      <td>0.000000</td>\n",
              "      <td>0.000000</td>\n",
              "      <td>0.000000</td>\n",
              "      <td>0.000000</td>\n",
              "      <td>0.280250</td>\n",
              "      <td>0.280250</td>\n",
              "      <td>0.0</td>\n",
              "      <td>0.0</td>\n",
              "      <td>0.000000</td>\n",
              "      <td>0.000000</td>\n",
              "    </tr>\n",
              "  </tbody>\n",
              "</table>\n",
              "<p>5 rows × 100 columns</p>\n",
              "</div>"
            ],
            "text/plain": [
              "    aid kit  alarm dedicated  ...  workspace host  workspace host greets\n",
              "0  0.125067         0.141336  ...        0.164755               0.164755\n",
              "1  0.000000         0.208325  ...        0.242845               0.242845\n",
              "2  0.000000         0.000000  ...        0.000000               0.000000\n",
              "3  0.000000         0.203121  ...        0.000000               0.000000\n",
              "4  0.000000         0.000000  ...        0.000000               0.000000\n",
              "\n",
              "[5 rows x 100 columns]"
            ]
          },
          "metadata": {
            "tags": []
          },
          "execution_count": 10
        }
      ]
    },
    {
      "cell_type": "code",
      "metadata": {
        "colab": {
          "base_uri": "https://localhost:8080/",
          "height": 275
        },
        "id": "zF8Cjnle2J7g",
        "outputId": "dd7b16cb-55b6-4925-b8e9-a13a40fb2e11"
      },
      "source": [
        "# Look at the neighborhood feature document term matrix\r\n",
        "print(dtm_neigh.shape)\r\n",
        "dtm_neigh.head()"
      ],
      "execution_count": 11,
      "outputs": [
        {
          "output_type": "stream",
          "text": [
            "(18291, 59)\n"
          ],
          "name": "stdout"
        },
        {
          "output_type": "execute_result",
          "data": {
            "text/html": [
              "<div>\n",
              "<style scoped>\n",
              "    .dataframe tbody tr th:only-of-type {\n",
              "        vertical-align: middle;\n",
              "    }\n",
              "\n",
              "    .dataframe tbody tr th {\n",
              "        vertical-align: top;\n",
              "    }\n",
              "\n",
              "    .dataframe thead th {\n",
              "        text-align: right;\n",
              "    }\n",
              "</style>\n",
              "<table border=\"1\" class=\"dataframe\">\n",
              "  <thead>\n",
              "    <tr style=\"text-align: right;\">\n",
              "      <th></th>\n",
              "      <th>aker</th>\n",
              "      <th>aker nieuw</th>\n",
              "      <th>aker nieuw sloten</th>\n",
              "      <th>baarsjes</th>\n",
              "      <th>baarsjes oud</th>\n",
              "      <th>baarsjes oud west</th>\n",
              "      <th>bijlmer</th>\n",
              "      <th>bijlmer centrum</th>\n",
              "      <th>bijlmer oost</th>\n",
              "      <th>bos</th>\n",
              "      <th>bos en</th>\n",
              "      <th>bos en lommer</th>\n",
              "      <th>buitenveldert</th>\n",
              "      <th>buitenveldert zuidas</th>\n",
              "      <th>buurt</th>\n",
              "      <th>centrum</th>\n",
              "      <th>centrum oost</th>\n",
              "      <th>centrum west</th>\n",
              "      <th>driemond</th>\n",
              "      <th>en</th>\n",
              "      <th>en lommer</th>\n",
              "      <th>gaasperdam</th>\n",
              "      <th>gaasperdam driemond</th>\n",
              "      <th>geuzenveld</th>\n",
              "      <th>geuzenveld slotermeer</th>\n",
              "      <th>havengebied</th>\n",
              "      <th>havengebied indische</th>\n",
              "      <th>havengebied indische buurt</th>\n",
              "      <th>ijburg</th>\n",
              "      <th>ijburg zeeburgereiland</th>\n",
              "      <th>indische</th>\n",
              "      <th>indische buurt</th>\n",
              "      <th>lommer</th>\n",
              "      <th>nieuw</th>\n",
              "      <th>nieuw sloten</th>\n",
              "      <th>noord</th>\n",
              "      <th>noord oost</th>\n",
              "      <th>noord west</th>\n",
              "      <th>oost</th>\n",
              "      <th>oostelijk</th>\n",
              "      <th>oostelijk havengebied</th>\n",
              "      <th>oostelijk havengebied indische</th>\n",
              "      <th>osdorp</th>\n",
              "      <th>oud</th>\n",
              "      <th>oud noord</th>\n",
              "      <th>oud oost</th>\n",
              "      <th>oud west</th>\n",
              "      <th>pijp</th>\n",
              "      <th>pijp rivierenbuurt</th>\n",
              "      <th>rivierenbuurt</th>\n",
              "      <th>sloten</th>\n",
              "      <th>slotermeer</th>\n",
              "      <th>slotervaart</th>\n",
              "      <th>watergraafsmeer</th>\n",
              "      <th>west</th>\n",
              "      <th>westerpark</th>\n",
              "      <th>zeeburgereiland</th>\n",
              "      <th>zuid</th>\n",
              "      <th>zuidas</th>\n",
              "    </tr>\n",
              "  </thead>\n",
              "  <tbody>\n",
              "    <tr>\n",
              "      <th>0</th>\n",
              "      <td>0.0</td>\n",
              "      <td>0.0</td>\n",
              "      <td>0.0</td>\n",
              "      <td>0.0</td>\n",
              "      <td>0.0</td>\n",
              "      <td>0.0</td>\n",
              "      <td>0.0</td>\n",
              "      <td>0.0</td>\n",
              "      <td>0.0</td>\n",
              "      <td>0.0</td>\n",
              "      <td>0.0</td>\n",
              "      <td>0.0</td>\n",
              "      <td>0.0</td>\n",
              "      <td>0.0</td>\n",
              "      <td>0.333333</td>\n",
              "      <td>0.000000</td>\n",
              "      <td>0.000000</td>\n",
              "      <td>0.000000</td>\n",
              "      <td>0.0</td>\n",
              "      <td>0.0</td>\n",
              "      <td>0.0</td>\n",
              "      <td>0.0</td>\n",
              "      <td>0.0</td>\n",
              "      <td>0.0</td>\n",
              "      <td>0.0</td>\n",
              "      <td>0.333333</td>\n",
              "      <td>0.333333</td>\n",
              "      <td>0.333333</td>\n",
              "      <td>0.0</td>\n",
              "      <td>0.0</td>\n",
              "      <td>0.333333</td>\n",
              "      <td>0.333333</td>\n",
              "      <td>0.0</td>\n",
              "      <td>0.0</td>\n",
              "      <td>0.0</td>\n",
              "      <td>0.0</td>\n",
              "      <td>0.0</td>\n",
              "      <td>0.0</td>\n",
              "      <td>0.000000</td>\n",
              "      <td>0.333333</td>\n",
              "      <td>0.333333</td>\n",
              "      <td>0.333333</td>\n",
              "      <td>0.0</td>\n",
              "      <td>0.0</td>\n",
              "      <td>0.0</td>\n",
              "      <td>0.0</td>\n",
              "      <td>0.0</td>\n",
              "      <td>0.0</td>\n",
              "      <td>0.0</td>\n",
              "      <td>0.0</td>\n",
              "      <td>0.0</td>\n",
              "      <td>0.0</td>\n",
              "      <td>0.0</td>\n",
              "      <td>0.0</td>\n",
              "      <td>0.000000</td>\n",
              "      <td>0.0</td>\n",
              "      <td>0.0</td>\n",
              "      <td>0.0</td>\n",
              "      <td>0.0</td>\n",
              "    </tr>\n",
              "    <tr>\n",
              "      <th>1</th>\n",
              "      <td>0.0</td>\n",
              "      <td>0.0</td>\n",
              "      <td>0.0</td>\n",
              "      <td>0.0</td>\n",
              "      <td>0.0</td>\n",
              "      <td>0.0</td>\n",
              "      <td>0.0</td>\n",
              "      <td>0.0</td>\n",
              "      <td>0.0</td>\n",
              "      <td>0.0</td>\n",
              "      <td>0.0</td>\n",
              "      <td>0.0</td>\n",
              "      <td>0.0</td>\n",
              "      <td>0.0</td>\n",
              "      <td>0.000000</td>\n",
              "      <td>0.506661</td>\n",
              "      <td>0.672425</td>\n",
              "      <td>0.000000</td>\n",
              "      <td>0.0</td>\n",
              "      <td>0.0</td>\n",
              "      <td>0.0</td>\n",
              "      <td>0.0</td>\n",
              "      <td>0.0</td>\n",
              "      <td>0.0</td>\n",
              "      <td>0.0</td>\n",
              "      <td>0.000000</td>\n",
              "      <td>0.000000</td>\n",
              "      <td>0.000000</td>\n",
              "      <td>0.0</td>\n",
              "      <td>0.0</td>\n",
              "      <td>0.000000</td>\n",
              "      <td>0.000000</td>\n",
              "      <td>0.0</td>\n",
              "      <td>0.0</td>\n",
              "      <td>0.0</td>\n",
              "      <td>0.0</td>\n",
              "      <td>0.0</td>\n",
              "      <td>0.0</td>\n",
              "      <td>0.539574</td>\n",
              "      <td>0.000000</td>\n",
              "      <td>0.000000</td>\n",
              "      <td>0.000000</td>\n",
              "      <td>0.0</td>\n",
              "      <td>0.0</td>\n",
              "      <td>0.0</td>\n",
              "      <td>0.0</td>\n",
              "      <td>0.0</td>\n",
              "      <td>0.0</td>\n",
              "      <td>0.0</td>\n",
              "      <td>0.0</td>\n",
              "      <td>0.0</td>\n",
              "      <td>0.0</td>\n",
              "      <td>0.0</td>\n",
              "      <td>0.0</td>\n",
              "      <td>0.000000</td>\n",
              "      <td>0.0</td>\n",
              "      <td>0.0</td>\n",
              "      <td>0.0</td>\n",
              "      <td>0.0</td>\n",
              "    </tr>\n",
              "    <tr>\n",
              "      <th>2</th>\n",
              "      <td>0.0</td>\n",
              "      <td>0.0</td>\n",
              "      <td>0.0</td>\n",
              "      <td>0.0</td>\n",
              "      <td>0.0</td>\n",
              "      <td>0.0</td>\n",
              "      <td>0.0</td>\n",
              "      <td>0.0</td>\n",
              "      <td>0.0</td>\n",
              "      <td>0.0</td>\n",
              "      <td>0.0</td>\n",
              "      <td>0.0</td>\n",
              "      <td>0.0</td>\n",
              "      <td>0.0</td>\n",
              "      <td>0.000000</td>\n",
              "      <td>0.555496</td>\n",
              "      <td>0.000000</td>\n",
              "      <td>0.684344</td>\n",
              "      <td>0.0</td>\n",
              "      <td>0.0</td>\n",
              "      <td>0.0</td>\n",
              "      <td>0.0</td>\n",
              "      <td>0.0</td>\n",
              "      <td>0.0</td>\n",
              "      <td>0.0</td>\n",
              "      <td>0.000000</td>\n",
              "      <td>0.000000</td>\n",
              "      <td>0.000000</td>\n",
              "      <td>0.0</td>\n",
              "      <td>0.0</td>\n",
              "      <td>0.000000</td>\n",
              "      <td>0.000000</td>\n",
              "      <td>0.0</td>\n",
              "      <td>0.0</td>\n",
              "      <td>0.0</td>\n",
              "      <td>0.0</td>\n",
              "      <td>0.0</td>\n",
              "      <td>0.0</td>\n",
              "      <td>0.000000</td>\n",
              "      <td>0.000000</td>\n",
              "      <td>0.000000</td>\n",
              "      <td>0.000000</td>\n",
              "      <td>0.0</td>\n",
              "      <td>0.0</td>\n",
              "      <td>0.0</td>\n",
              "      <td>0.0</td>\n",
              "      <td>0.0</td>\n",
              "      <td>0.0</td>\n",
              "      <td>0.0</td>\n",
              "      <td>0.0</td>\n",
              "      <td>0.0</td>\n",
              "      <td>0.0</td>\n",
              "      <td>0.0</td>\n",
              "      <td>0.0</td>\n",
              "      <td>0.472332</td>\n",
              "      <td>0.0</td>\n",
              "      <td>0.0</td>\n",
              "      <td>0.0</td>\n",
              "      <td>0.0</td>\n",
              "    </tr>\n",
              "    <tr>\n",
              "      <th>3</th>\n",
              "      <td>0.0</td>\n",
              "      <td>0.0</td>\n",
              "      <td>0.0</td>\n",
              "      <td>0.0</td>\n",
              "      <td>0.0</td>\n",
              "      <td>0.0</td>\n",
              "      <td>0.0</td>\n",
              "      <td>0.0</td>\n",
              "      <td>0.0</td>\n",
              "      <td>0.0</td>\n",
              "      <td>0.0</td>\n",
              "      <td>0.0</td>\n",
              "      <td>0.0</td>\n",
              "      <td>0.0</td>\n",
              "      <td>0.000000</td>\n",
              "      <td>0.555496</td>\n",
              "      <td>0.000000</td>\n",
              "      <td>0.684344</td>\n",
              "      <td>0.0</td>\n",
              "      <td>0.0</td>\n",
              "      <td>0.0</td>\n",
              "      <td>0.0</td>\n",
              "      <td>0.0</td>\n",
              "      <td>0.0</td>\n",
              "      <td>0.0</td>\n",
              "      <td>0.000000</td>\n",
              "      <td>0.000000</td>\n",
              "      <td>0.000000</td>\n",
              "      <td>0.0</td>\n",
              "      <td>0.0</td>\n",
              "      <td>0.000000</td>\n",
              "      <td>0.000000</td>\n",
              "      <td>0.0</td>\n",
              "      <td>0.0</td>\n",
              "      <td>0.0</td>\n",
              "      <td>0.0</td>\n",
              "      <td>0.0</td>\n",
              "      <td>0.0</td>\n",
              "      <td>0.000000</td>\n",
              "      <td>0.000000</td>\n",
              "      <td>0.000000</td>\n",
              "      <td>0.000000</td>\n",
              "      <td>0.0</td>\n",
              "      <td>0.0</td>\n",
              "      <td>0.0</td>\n",
              "      <td>0.0</td>\n",
              "      <td>0.0</td>\n",
              "      <td>0.0</td>\n",
              "      <td>0.0</td>\n",
              "      <td>0.0</td>\n",
              "      <td>0.0</td>\n",
              "      <td>0.0</td>\n",
              "      <td>0.0</td>\n",
              "      <td>0.0</td>\n",
              "      <td>0.472332</td>\n",
              "      <td>0.0</td>\n",
              "      <td>0.0</td>\n",
              "      <td>0.0</td>\n",
              "      <td>0.0</td>\n",
              "    </tr>\n",
              "    <tr>\n",
              "      <th>4</th>\n",
              "      <td>0.0</td>\n",
              "      <td>0.0</td>\n",
              "      <td>0.0</td>\n",
              "      <td>0.0</td>\n",
              "      <td>0.0</td>\n",
              "      <td>0.0</td>\n",
              "      <td>0.0</td>\n",
              "      <td>0.0</td>\n",
              "      <td>0.0</td>\n",
              "      <td>0.0</td>\n",
              "      <td>0.0</td>\n",
              "      <td>0.0</td>\n",
              "      <td>0.0</td>\n",
              "      <td>0.0</td>\n",
              "      <td>0.000000</td>\n",
              "      <td>0.506661</td>\n",
              "      <td>0.672425</td>\n",
              "      <td>0.000000</td>\n",
              "      <td>0.0</td>\n",
              "      <td>0.0</td>\n",
              "      <td>0.0</td>\n",
              "      <td>0.0</td>\n",
              "      <td>0.0</td>\n",
              "      <td>0.0</td>\n",
              "      <td>0.0</td>\n",
              "      <td>0.000000</td>\n",
              "      <td>0.000000</td>\n",
              "      <td>0.000000</td>\n",
              "      <td>0.0</td>\n",
              "      <td>0.0</td>\n",
              "      <td>0.000000</td>\n",
              "      <td>0.000000</td>\n",
              "      <td>0.0</td>\n",
              "      <td>0.0</td>\n",
              "      <td>0.0</td>\n",
              "      <td>0.0</td>\n",
              "      <td>0.0</td>\n",
              "      <td>0.0</td>\n",
              "      <td>0.539574</td>\n",
              "      <td>0.000000</td>\n",
              "      <td>0.000000</td>\n",
              "      <td>0.000000</td>\n",
              "      <td>0.0</td>\n",
              "      <td>0.0</td>\n",
              "      <td>0.0</td>\n",
              "      <td>0.0</td>\n",
              "      <td>0.0</td>\n",
              "      <td>0.0</td>\n",
              "      <td>0.0</td>\n",
              "      <td>0.0</td>\n",
              "      <td>0.0</td>\n",
              "      <td>0.0</td>\n",
              "      <td>0.0</td>\n",
              "      <td>0.0</td>\n",
              "      <td>0.000000</td>\n",
              "      <td>0.0</td>\n",
              "      <td>0.0</td>\n",
              "      <td>0.0</td>\n",
              "      <td>0.0</td>\n",
              "    </tr>\n",
              "  </tbody>\n",
              "</table>\n",
              "</div>"
            ],
            "text/plain": [
              "   aker  aker nieuw  aker nieuw sloten  ...  zeeburgereiland  zuid  zuidas\n",
              "0   0.0         0.0                0.0  ...              0.0   0.0     0.0\n",
              "1   0.0         0.0                0.0  ...              0.0   0.0     0.0\n",
              "2   0.0         0.0                0.0  ...              0.0   0.0     0.0\n",
              "3   0.0         0.0                0.0  ...              0.0   0.0     0.0\n",
              "4   0.0         0.0                0.0  ...              0.0   0.0     0.0\n",
              "\n",
              "[5 rows x 59 columns]"
            ]
          },
          "metadata": {
            "tags": []
          },
          "execution_count": 11
        }
      ]
    },
    {
      "cell_type": "code",
      "metadata": {
        "colab": {
          "base_uri": "https://localhost:8080/",
          "height": 221
        },
        "id": "vH84j4lq76D3",
        "outputId": "1ebdac07-edf3-4c6b-e7f1-b2e747965642"
      },
      "source": [
        "# Look at the room_type feature document term matrix\r\n",
        "print(dtm_room.shape)\r\n",
        "dtm_room.head()"
      ],
      "execution_count": 12,
      "outputs": [
        {
          "output_type": "stream",
          "text": [
            "(18291, 13)\n"
          ],
          "name": "stdout"
        },
        {
          "output_type": "execute_result",
          "data": {
            "text/html": [
              "<div>\n",
              "<style scoped>\n",
              "    .dataframe tbody tr th:only-of-type {\n",
              "        vertical-align: middle;\n",
              "    }\n",
              "\n",
              "    .dataframe tbody tr th {\n",
              "        vertical-align: top;\n",
              "    }\n",
              "\n",
              "    .dataframe thead th {\n",
              "        text-align: right;\n",
              "    }\n",
              "</style>\n",
              "<table border=\"1\" class=\"dataframe\">\n",
              "  <thead>\n",
              "    <tr style=\"text-align: right;\">\n",
              "      <th></th>\n",
              "      <th>apt</th>\n",
              "      <th>entire</th>\n",
              "      <th>entire home</th>\n",
              "      <th>entire home apt</th>\n",
              "      <th>home</th>\n",
              "      <th>home apt</th>\n",
              "      <th>hotel</th>\n",
              "      <th>hotel room</th>\n",
              "      <th>private</th>\n",
              "      <th>private room</th>\n",
              "      <th>room</th>\n",
              "      <th>shared</th>\n",
              "      <th>shared room</th>\n",
              "    </tr>\n",
              "  </thead>\n",
              "  <tbody>\n",
              "    <tr>\n",
              "      <th>0</th>\n",
              "      <td>0.000000</td>\n",
              "      <td>0.000000</td>\n",
              "      <td>0.000000</td>\n",
              "      <td>0.000000</td>\n",
              "      <td>0.000000</td>\n",
              "      <td>0.000000</td>\n",
              "      <td>0.0</td>\n",
              "      <td>0.0</td>\n",
              "      <td>0.580741</td>\n",
              "      <td>0.580741</td>\n",
              "      <td>0.570509</td>\n",
              "      <td>0.0</td>\n",
              "      <td>0.0</td>\n",
              "    </tr>\n",
              "    <tr>\n",
              "      <th>1</th>\n",
              "      <td>0.000000</td>\n",
              "      <td>0.000000</td>\n",
              "      <td>0.000000</td>\n",
              "      <td>0.000000</td>\n",
              "      <td>0.000000</td>\n",
              "      <td>0.000000</td>\n",
              "      <td>0.0</td>\n",
              "      <td>0.0</td>\n",
              "      <td>0.580741</td>\n",
              "      <td>0.580741</td>\n",
              "      <td>0.570509</td>\n",
              "      <td>0.0</td>\n",
              "      <td>0.0</td>\n",
              "    </tr>\n",
              "    <tr>\n",
              "      <th>2</th>\n",
              "      <td>0.408248</td>\n",
              "      <td>0.408248</td>\n",
              "      <td>0.408248</td>\n",
              "      <td>0.408248</td>\n",
              "      <td>0.408248</td>\n",
              "      <td>0.408248</td>\n",
              "      <td>0.0</td>\n",
              "      <td>0.0</td>\n",
              "      <td>0.000000</td>\n",
              "      <td>0.000000</td>\n",
              "      <td>0.000000</td>\n",
              "      <td>0.0</td>\n",
              "      <td>0.0</td>\n",
              "    </tr>\n",
              "    <tr>\n",
              "      <th>3</th>\n",
              "      <td>0.000000</td>\n",
              "      <td>0.000000</td>\n",
              "      <td>0.000000</td>\n",
              "      <td>0.000000</td>\n",
              "      <td>0.000000</td>\n",
              "      <td>0.000000</td>\n",
              "      <td>0.0</td>\n",
              "      <td>0.0</td>\n",
              "      <td>0.580741</td>\n",
              "      <td>0.580741</td>\n",
              "      <td>0.570509</td>\n",
              "      <td>0.0</td>\n",
              "      <td>0.0</td>\n",
              "    </tr>\n",
              "    <tr>\n",
              "      <th>4</th>\n",
              "      <td>0.000000</td>\n",
              "      <td>0.000000</td>\n",
              "      <td>0.000000</td>\n",
              "      <td>0.000000</td>\n",
              "      <td>0.000000</td>\n",
              "      <td>0.000000</td>\n",
              "      <td>0.0</td>\n",
              "      <td>0.0</td>\n",
              "      <td>0.580741</td>\n",
              "      <td>0.580741</td>\n",
              "      <td>0.570509</td>\n",
              "      <td>0.0</td>\n",
              "      <td>0.0</td>\n",
              "    </tr>\n",
              "  </tbody>\n",
              "</table>\n",
              "</div>"
            ],
            "text/plain": [
              "        apt    entire  entire home  ...      room  shared  shared room\n",
              "0  0.000000  0.000000     0.000000  ...  0.570509     0.0          0.0\n",
              "1  0.000000  0.000000     0.000000  ...  0.570509     0.0          0.0\n",
              "2  0.408248  0.408248     0.408248  ...  0.000000     0.0          0.0\n",
              "3  0.000000  0.000000     0.000000  ...  0.570509     0.0          0.0\n",
              "4  0.000000  0.000000     0.000000  ...  0.570509     0.0          0.0\n",
              "\n",
              "[5 rows x 13 columns]"
            ]
          },
          "metadata": {
            "tags": []
          },
          "execution_count": 12
        }
      ]
    },
    {
      "cell_type": "markdown",
      "metadata": {
        "id": "zEN4HszHwRPv"
      },
      "source": [
        "### Merge all DataFrames Together\r\n",
        "\r\n",
        "- Need to merge all DataFrames back together.\r\n",
        "\r\n",
        "- Then drop the text features original columns."
      ]
    },
    {
      "cell_type": "code",
      "metadata": {
        "colab": {
          "base_uri": "https://localhost:8080/",
          "height": 1000
        },
        "id": "PqCf3eg276A3",
        "outputId": "a4b30db5-2bdf-4aaa-fc6f-75789d8bf2be"
      },
      "source": [
        "# Merge all the document term matrices with the amsterdam dataframe\r\n",
        "amsterdam_vects = pd.concat([amsterdam, dtm_amen, dtm_neigh, dtm_room], axis=1)\r\n",
        "\r\n",
        "# Look at the new dataframe with the merged dataframes\r\n",
        "print(amsterdam_vects.shape)\r\n",
        "amsterdam_vects.head()"
      ],
      "execution_count": 13,
      "outputs": [
        {
          "output_type": "stream",
          "text": [
            "(18291, 193)\n"
          ],
          "name": "stdout"
        },
        {
          "output_type": "execute_result",
          "data": {
            "text/html": [
              "<div>\n",
              "<style scoped>\n",
              "    .dataframe tbody tr th:only-of-type {\n",
              "        vertical-align: middle;\n",
              "    }\n",
              "\n",
              "    .dataframe tbody tr th {\n",
              "        vertical-align: top;\n",
              "    }\n",
              "\n",
              "    .dataframe thead th {\n",
              "        text-align: right;\n",
              "    }\n",
              "</style>\n",
              "<table border=\"1\" class=\"dataframe\">\n",
              "  <thead>\n",
              "    <tr style=\"text-align: right;\">\n",
              "      <th></th>\n",
              "      <th>superhost</th>\n",
              "      <th>total_listings</th>\n",
              "      <th>profile_pic</th>\n",
              "      <th>verified_id</th>\n",
              "      <th>neighborhood</th>\n",
              "      <th>room_type</th>\n",
              "      <th>accommodates</th>\n",
              "      <th>bathrooms</th>\n",
              "      <th>bedrooms</th>\n",
              "      <th>num_of_beds</th>\n",
              "      <th>amenities</th>\n",
              "      <th>price</th>\n",
              "      <th>min_nights</th>\n",
              "      <th>max_nights</th>\n",
              "      <th>available</th>\n",
              "      <th>avail_next_365_days</th>\n",
              "      <th>num_of_reviews</th>\n",
              "      <th>avg_review_score</th>\n",
              "      <th>instant_bookable</th>\n",
              "      <th>shared_bath</th>\n",
              "      <th>years_hosting</th>\n",
              "      <th>aid kit</th>\n",
              "      <th>alarm dedicated</th>\n",
              "      <th>alarm dedicated workspace</th>\n",
              "      <th>alarm kitchen</th>\n",
              "      <th>alarm stove</th>\n",
              "      <th>alarm stove washer</th>\n",
              "      <th>allowed aid</th>\n",
              "      <th>allowed aid kit</th>\n",
              "      <th>balcony hangers</th>\n",
              "      <th>basics dishes</th>\n",
              "      <th>basics dishes silverware</th>\n",
              "      <th>bed linens</th>\n",
              "      <th>cable tv</th>\n",
              "      <th>cable tv wifi</th>\n",
              "      <th>carbon monoxide</th>\n",
              "      <th>carbon monoxide alarm</th>\n",
              "      <th>coffee maker</th>\n",
              "      <th>coffee maker long</th>\n",
              "      <th>cooking basics</th>\n",
              "      <th>...</th>\n",
              "      <th>lommer</th>\n",
              "      <th>nieuw</th>\n",
              "      <th>nieuw sloten</th>\n",
              "      <th>noord</th>\n",
              "      <th>noord oost</th>\n",
              "      <th>noord west</th>\n",
              "      <th>oost</th>\n",
              "      <th>oostelijk</th>\n",
              "      <th>oostelijk havengebied</th>\n",
              "      <th>oostelijk havengebied indische</th>\n",
              "      <th>osdorp</th>\n",
              "      <th>oud</th>\n",
              "      <th>oud noord</th>\n",
              "      <th>oud oost</th>\n",
              "      <th>oud west</th>\n",
              "      <th>pijp</th>\n",
              "      <th>pijp rivierenbuurt</th>\n",
              "      <th>rivierenbuurt</th>\n",
              "      <th>sloten</th>\n",
              "      <th>slotermeer</th>\n",
              "      <th>slotervaart</th>\n",
              "      <th>watergraafsmeer</th>\n",
              "      <th>west</th>\n",
              "      <th>westerpark</th>\n",
              "      <th>zeeburgereiland</th>\n",
              "      <th>zuid</th>\n",
              "      <th>zuidas</th>\n",
              "      <th>apt</th>\n",
              "      <th>entire</th>\n",
              "      <th>entire home</th>\n",
              "      <th>entire home apt</th>\n",
              "      <th>home</th>\n",
              "      <th>home apt</th>\n",
              "      <th>hotel</th>\n",
              "      <th>hotel room</th>\n",
              "      <th>private</th>\n",
              "      <th>private room</th>\n",
              "      <th>room</th>\n",
              "      <th>shared</th>\n",
              "      <th>shared room</th>\n",
              "    </tr>\n",
              "  </thead>\n",
              "  <tbody>\n",
              "    <tr>\n",
              "      <th>0</th>\n",
              "      <td>True</td>\n",
              "      <td>1</td>\n",
              "      <td>True</td>\n",
              "      <td>True</td>\n",
              "      <td>Oostelijk Havengebied - Indische Buurt</td>\n",
              "      <td>Private room</td>\n",
              "      <td>2</td>\n",
              "      <td>1.5</td>\n",
              "      <td>1.0</td>\n",
              "      <td>2.0</td>\n",
              "      <td>[\"Hangers\", \"Coffee maker\", \"Paid parking on premises\", \"Long term stays allowed\", \"First aid kit\", \"Bed linens\", \"Lock on bedroom door\", \"Private entrance\", \"Carbon monoxide alarm\", \"Dedicated workspace\", \"Host greets you\", \"Single level home\", \"Extra pillows and blankets\", \"Hot water\", \"Paid p...</td>\n",
              "      <td>59.0</td>\n",
              "      <td>3</td>\n",
              "      <td>1125</td>\n",
              "      <td>True</td>\n",
              "      <td>139</td>\n",
              "      <td>278</td>\n",
              "      <td>98.0</td>\n",
              "      <td>True</td>\n",
              "      <td>True</td>\n",
              "      <td>12.38</td>\n",
              "      <td>0.125067</td>\n",
              "      <td>0.141336</td>\n",
              "      <td>0.141336</td>\n",
              "      <td>0.0</td>\n",
              "      <td>0.000000</td>\n",
              "      <td>0.000000</td>\n",
              "      <td>0.17278</td>\n",
              "      <td>0.17278</td>\n",
              "      <td>0.000000</td>\n",
              "      <td>0.000000</td>\n",
              "      <td>0.000000</td>\n",
              "      <td>0.129064</td>\n",
              "      <td>0.000000</td>\n",
              "      <td>0.0</td>\n",
              "      <td>0.118476</td>\n",
              "      <td>0.118476</td>\n",
              "      <td>0.119876</td>\n",
              "      <td>0.000000</td>\n",
              "      <td>0.000000</td>\n",
              "      <td>...</td>\n",
              "      <td>0.0</td>\n",
              "      <td>0.0</td>\n",
              "      <td>0.0</td>\n",
              "      <td>0.0</td>\n",
              "      <td>0.0</td>\n",
              "      <td>0.0</td>\n",
              "      <td>0.000000</td>\n",
              "      <td>0.333333</td>\n",
              "      <td>0.333333</td>\n",
              "      <td>0.333333</td>\n",
              "      <td>0.0</td>\n",
              "      <td>0.0</td>\n",
              "      <td>0.0</td>\n",
              "      <td>0.0</td>\n",
              "      <td>0.0</td>\n",
              "      <td>0.0</td>\n",
              "      <td>0.0</td>\n",
              "      <td>0.0</td>\n",
              "      <td>0.0</td>\n",
              "      <td>0.0</td>\n",
              "      <td>0.0</td>\n",
              "      <td>0.0</td>\n",
              "      <td>0.000000</td>\n",
              "      <td>0.0</td>\n",
              "      <td>0.0</td>\n",
              "      <td>0.0</td>\n",
              "      <td>0.0</td>\n",
              "      <td>0.000000</td>\n",
              "      <td>0.000000</td>\n",
              "      <td>0.000000</td>\n",
              "      <td>0.000000</td>\n",
              "      <td>0.000000</td>\n",
              "      <td>0.000000</td>\n",
              "      <td>0.0</td>\n",
              "      <td>0.0</td>\n",
              "      <td>0.580741</td>\n",
              "      <td>0.580741</td>\n",
              "      <td>0.570509</td>\n",
              "      <td>0.0</td>\n",
              "      <td>0.0</td>\n",
              "    </tr>\n",
              "    <tr>\n",
              "      <th>1</th>\n",
              "      <td>False</td>\n",
              "      <td>2</td>\n",
              "      <td>True</td>\n",
              "      <td>True</td>\n",
              "      <td>Centrum-Oost</td>\n",
              "      <td>Private room</td>\n",
              "      <td>2</td>\n",
              "      <td>1.0</td>\n",
              "      <td>1.0</td>\n",
              "      <td>1.0</td>\n",
              "      <td>[\"Essentials\", \"Bed linens\", \"Hot water\", \"Hangers\", \"Smoke alarm\", \"Heating\", \"Paid parking off premises\", \"Free street parking\", \"Refrigerator\", \"Carbon monoxide alarm\", \"Dedicated workspace\", \"Host greets you\", \"TV\", \"Wifi\", \"Hair dryer\", \"Long term stays allowed\", \"Fire extinguisher\"]</td>\n",
              "      <td>129.0</td>\n",
              "      <td>1</td>\n",
              "      <td>365</td>\n",
              "      <td>True</td>\n",
              "      <td>0</td>\n",
              "      <td>339</td>\n",
              "      <td>89.0</td>\n",
              "      <td>True</td>\n",
              "      <td>False</td>\n",
              "      <td>11.19</td>\n",
              "      <td>0.000000</td>\n",
              "      <td>0.208325</td>\n",
              "      <td>0.208325</td>\n",
              "      <td>0.0</td>\n",
              "      <td>0.000000</td>\n",
              "      <td>0.000000</td>\n",
              "      <td>0.00000</td>\n",
              "      <td>0.00000</td>\n",
              "      <td>0.000000</td>\n",
              "      <td>0.000000</td>\n",
              "      <td>0.000000</td>\n",
              "      <td>0.190236</td>\n",
              "      <td>0.000000</td>\n",
              "      <td>0.0</td>\n",
              "      <td>0.174631</td>\n",
              "      <td>0.174631</td>\n",
              "      <td>0.000000</td>\n",
              "      <td>0.000000</td>\n",
              "      <td>0.000000</td>\n",
              "      <td>...</td>\n",
              "      <td>0.0</td>\n",
              "      <td>0.0</td>\n",
              "      <td>0.0</td>\n",
              "      <td>0.0</td>\n",
              "      <td>0.0</td>\n",
              "      <td>0.0</td>\n",
              "      <td>0.539574</td>\n",
              "      <td>0.000000</td>\n",
              "      <td>0.000000</td>\n",
              "      <td>0.000000</td>\n",
              "      <td>0.0</td>\n",
              "      <td>0.0</td>\n",
              "      <td>0.0</td>\n",
              "      <td>0.0</td>\n",
              "      <td>0.0</td>\n",
              "      <td>0.0</td>\n",
              "      <td>0.0</td>\n",
              "      <td>0.0</td>\n",
              "      <td>0.0</td>\n",
              "      <td>0.0</td>\n",
              "      <td>0.0</td>\n",
              "      <td>0.0</td>\n",
              "      <td>0.000000</td>\n",
              "      <td>0.0</td>\n",
              "      <td>0.0</td>\n",
              "      <td>0.0</td>\n",
              "      <td>0.0</td>\n",
              "      <td>0.000000</td>\n",
              "      <td>0.000000</td>\n",
              "      <td>0.000000</td>\n",
              "      <td>0.000000</td>\n",
              "      <td>0.000000</td>\n",
              "      <td>0.000000</td>\n",
              "      <td>0.0</td>\n",
              "      <td>0.0</td>\n",
              "      <td>0.580741</td>\n",
              "      <td>0.580741</td>\n",
              "      <td>0.570509</td>\n",
              "      <td>0.0</td>\n",
              "      <td>0.0</td>\n",
              "    </tr>\n",
              "    <tr>\n",
              "      <th>2</th>\n",
              "      <td>True</td>\n",
              "      <td>2</td>\n",
              "      <td>True</td>\n",
              "      <td>False</td>\n",
              "      <td>Centrum-West</td>\n",
              "      <td>Entire home/apt</td>\n",
              "      <td>3</td>\n",
              "      <td>1.0</td>\n",
              "      <td>1.0</td>\n",
              "      <td>1.0</td>\n",
              "      <td>[\"Hangers\", \"Elevator\", \"Cooking basics\", \"Dishes and silverware\", \"Oven\", \"Coffee maker\", \"Long term stays allowed\", \"Bed linens\", \"Dishwasher\", \"Dedicated workspace\", \"Kitchen\", \"Extra pillows and blankets\", \"Hot water\", \"Heating\", \"TV\", \"Cable TV\", \"Hair dryer\", \"Microwave\", \"Essentials\", \"Sm...</td>\n",
              "      <td>125.0</td>\n",
              "      <td>14</td>\n",
              "      <td>180</td>\n",
              "      <td>True</td>\n",
              "      <td>251</td>\n",
              "      <td>5</td>\n",
              "      <td>100.0</td>\n",
              "      <td>False</td>\n",
              "      <td>False</td>\n",
              "      <td>11.23</td>\n",
              "      <td>0.000000</td>\n",
              "      <td>0.000000</td>\n",
              "      <td>0.000000</td>\n",
              "      <td>0.0</td>\n",
              "      <td>0.143755</td>\n",
              "      <td>0.155314</td>\n",
              "      <td>0.00000</td>\n",
              "      <td>0.00000</td>\n",
              "      <td>0.000000</td>\n",
              "      <td>0.140321</td>\n",
              "      <td>0.140321</td>\n",
              "      <td>0.125041</td>\n",
              "      <td>0.125164</td>\n",
              "      <td>0.0</td>\n",
              "      <td>0.000000</td>\n",
              "      <td>0.000000</td>\n",
              "      <td>0.116139</td>\n",
              "      <td>0.173159</td>\n",
              "      <td>0.121052</td>\n",
              "      <td>...</td>\n",
              "      <td>0.0</td>\n",
              "      <td>0.0</td>\n",
              "      <td>0.0</td>\n",
              "      <td>0.0</td>\n",
              "      <td>0.0</td>\n",
              "      <td>0.0</td>\n",
              "      <td>0.000000</td>\n",
              "      <td>0.000000</td>\n",
              "      <td>0.000000</td>\n",
              "      <td>0.000000</td>\n",
              "      <td>0.0</td>\n",
              "      <td>0.0</td>\n",
              "      <td>0.0</td>\n",
              "      <td>0.0</td>\n",
              "      <td>0.0</td>\n",
              "      <td>0.0</td>\n",
              "      <td>0.0</td>\n",
              "      <td>0.0</td>\n",
              "      <td>0.0</td>\n",
              "      <td>0.0</td>\n",
              "      <td>0.0</td>\n",
              "      <td>0.0</td>\n",
              "      <td>0.472332</td>\n",
              "      <td>0.0</td>\n",
              "      <td>0.0</td>\n",
              "      <td>0.0</td>\n",
              "      <td>0.0</td>\n",
              "      <td>0.408248</td>\n",
              "      <td>0.408248</td>\n",
              "      <td>0.408248</td>\n",
              "      <td>0.408248</td>\n",
              "      <td>0.408248</td>\n",
              "      <td>0.408248</td>\n",
              "      <td>0.0</td>\n",
              "      <td>0.0</td>\n",
              "      <td>0.000000</td>\n",
              "      <td>0.000000</td>\n",
              "      <td>0.000000</td>\n",
              "      <td>0.0</td>\n",
              "      <td>0.0</td>\n",
              "    </tr>\n",
              "    <tr>\n",
              "      <th>3</th>\n",
              "      <td>True</td>\n",
              "      <td>1</td>\n",
              "      <td>True</td>\n",
              "      <td>True</td>\n",
              "      <td>Centrum-West</td>\n",
              "      <td>Private room</td>\n",
              "      <td>2</td>\n",
              "      <td>1.5</td>\n",
              "      <td>1.0</td>\n",
              "      <td>1.0</td>\n",
              "      <td>[\"Patio or balcony\", \"Hangers\", \"Dishes and silverware\", \"Luggage dropoff allowed\", \"Breakfast\", \"Coffee maker\", \"Lake access\", \"Long term stays allowed\", \"Private entrance\", \"Waterfront\", \"Carbon monoxide alarm\", \"Dedicated workspace\", \"Hot water\", \"Heating\", \"TV\", \"Hair dryer\", \"Essentials\", \"...</td>\n",
              "      <td>125.0</td>\n",
              "      <td>2</td>\n",
              "      <td>730</td>\n",
              "      <td>True</td>\n",
              "      <td>136</td>\n",
              "      <td>219</td>\n",
              "      <td>99.0</td>\n",
              "      <td>True</td>\n",
              "      <td>False</td>\n",
              "      <td>10.89</td>\n",
              "      <td>0.000000</td>\n",
              "      <td>0.203121</td>\n",
              "      <td>0.203121</td>\n",
              "      <td>0.0</td>\n",
              "      <td>0.000000</td>\n",
              "      <td>0.000000</td>\n",
              "      <td>0.00000</td>\n",
              "      <td>0.00000</td>\n",
              "      <td>0.254753</td>\n",
              "      <td>0.000000</td>\n",
              "      <td>0.000000</td>\n",
              "      <td>0.000000</td>\n",
              "      <td>0.000000</td>\n",
              "      <td>0.0</td>\n",
              "      <td>0.170268</td>\n",
              "      <td>0.170268</td>\n",
              "      <td>0.172279</td>\n",
              "      <td>0.000000</td>\n",
              "      <td>0.000000</td>\n",
              "      <td>...</td>\n",
              "      <td>0.0</td>\n",
              "      <td>0.0</td>\n",
              "      <td>0.0</td>\n",
              "      <td>0.0</td>\n",
              "      <td>0.0</td>\n",
              "      <td>0.0</td>\n",
              "      <td>0.000000</td>\n",
              "      <td>0.000000</td>\n",
              "      <td>0.000000</td>\n",
              "      <td>0.000000</td>\n",
              "      <td>0.0</td>\n",
              "      <td>0.0</td>\n",
              "      <td>0.0</td>\n",
              "      <td>0.0</td>\n",
              "      <td>0.0</td>\n",
              "      <td>0.0</td>\n",
              "      <td>0.0</td>\n",
              "      <td>0.0</td>\n",
              "      <td>0.0</td>\n",
              "      <td>0.0</td>\n",
              "      <td>0.0</td>\n",
              "      <td>0.0</td>\n",
              "      <td>0.472332</td>\n",
              "      <td>0.0</td>\n",
              "      <td>0.0</td>\n",
              "      <td>0.0</td>\n",
              "      <td>0.0</td>\n",
              "      <td>0.000000</td>\n",
              "      <td>0.000000</td>\n",
              "      <td>0.000000</td>\n",
              "      <td>0.000000</td>\n",
              "      <td>0.000000</td>\n",
              "      <td>0.000000</td>\n",
              "      <td>0.0</td>\n",
              "      <td>0.0</td>\n",
              "      <td>0.580741</td>\n",
              "      <td>0.580741</td>\n",
              "      <td>0.570509</td>\n",
              "      <td>0.0</td>\n",
              "      <td>0.0</td>\n",
              "    </tr>\n",
              "    <tr>\n",
              "      <th>4</th>\n",
              "      <td>True</td>\n",
              "      <td>2</td>\n",
              "      <td>True</td>\n",
              "      <td>True</td>\n",
              "      <td>Centrum-Oost</td>\n",
              "      <td>Private room</td>\n",
              "      <td>2</td>\n",
              "      <td>1.0</td>\n",
              "      <td>1.0</td>\n",
              "      <td>1.0</td>\n",
              "      <td>[\"Hot water\", \"Essentials\", \"Smoke alarm\", \"Hangers\", \"Heating\", \"Lock on bedroom door\", \"Private entrance\", \"Refrigerator\", \"Carbon monoxide alarm\", \"Host greets you\", \"Shampoo\", \"Wifi\", \"Hair dryer\", \"Long term stays allowed\", \"Fire extinguisher\", \"Dryer\"]</td>\n",
              "      <td>75.0</td>\n",
              "      <td>2</td>\n",
              "      <td>1825</td>\n",
              "      <td>True</td>\n",
              "      <td>338</td>\n",
              "      <td>336</td>\n",
              "      <td>97.0</td>\n",
              "      <td>False</td>\n",
              "      <td>True</td>\n",
              "      <td>10.75</td>\n",
              "      <td>0.000000</td>\n",
              "      <td>0.000000</td>\n",
              "      <td>0.000000</td>\n",
              "      <td>0.0</td>\n",
              "      <td>0.000000</td>\n",
              "      <td>0.000000</td>\n",
              "      <td>0.00000</td>\n",
              "      <td>0.00000</td>\n",
              "      <td>0.000000</td>\n",
              "      <td>0.000000</td>\n",
              "      <td>0.000000</td>\n",
              "      <td>0.000000</td>\n",
              "      <td>0.000000</td>\n",
              "      <td>0.0</td>\n",
              "      <td>0.230281</td>\n",
              "      <td>0.230281</td>\n",
              "      <td>0.000000</td>\n",
              "      <td>0.000000</td>\n",
              "      <td>0.000000</td>\n",
              "      <td>...</td>\n",
              "      <td>0.0</td>\n",
              "      <td>0.0</td>\n",
              "      <td>0.0</td>\n",
              "      <td>0.0</td>\n",
              "      <td>0.0</td>\n",
              "      <td>0.0</td>\n",
              "      <td>0.539574</td>\n",
              "      <td>0.000000</td>\n",
              "      <td>0.000000</td>\n",
              "      <td>0.000000</td>\n",
              "      <td>0.0</td>\n",
              "      <td>0.0</td>\n",
              "      <td>0.0</td>\n",
              "      <td>0.0</td>\n",
              "      <td>0.0</td>\n",
              "      <td>0.0</td>\n",
              "      <td>0.0</td>\n",
              "      <td>0.0</td>\n",
              "      <td>0.0</td>\n",
              "      <td>0.0</td>\n",
              "      <td>0.0</td>\n",
              "      <td>0.0</td>\n",
              "      <td>0.000000</td>\n",
              "      <td>0.0</td>\n",
              "      <td>0.0</td>\n",
              "      <td>0.0</td>\n",
              "      <td>0.0</td>\n",
              "      <td>0.000000</td>\n",
              "      <td>0.000000</td>\n",
              "      <td>0.000000</td>\n",
              "      <td>0.000000</td>\n",
              "      <td>0.000000</td>\n",
              "      <td>0.000000</td>\n",
              "      <td>0.0</td>\n",
              "      <td>0.0</td>\n",
              "      <td>0.580741</td>\n",
              "      <td>0.580741</td>\n",
              "      <td>0.570509</td>\n",
              "      <td>0.0</td>\n",
              "      <td>0.0</td>\n",
              "    </tr>\n",
              "  </tbody>\n",
              "</table>\n",
              "<p>5 rows × 193 columns</p>\n",
              "</div>"
            ],
            "text/plain": [
              "   superhost  total_listings  profile_pic  ...      room shared shared room\n",
              "0       True               1         True  ...  0.570509    0.0         0.0\n",
              "1      False               2         True  ...  0.570509    0.0         0.0\n",
              "2       True               2         True  ...  0.000000    0.0         0.0\n",
              "3       True               1         True  ...  0.570509    0.0         0.0\n",
              "4       True               2         True  ...  0.570509    0.0         0.0\n",
              "\n",
              "[5 rows x 193 columns]"
            ]
          },
          "metadata": {
            "tags": []
          },
          "execution_count": 13
        }
      ]
    },
    {
      "cell_type": "code",
      "metadata": {
        "colab": {
          "base_uri": "https://localhost:8080/",
          "height": 304
        },
        "id": "59b5PIHE757o",
        "outputId": "39f0af0d-9670-45f6-cddd-952a5e6e0bca"
      },
      "source": [
        "# Drop the columns I vectorized and merged back into dataframe\r\n",
        "amsterdam_vects = amsterdam_vects.drop(columns=['neighborhood', 'room_type', \r\n",
        "                                               'amenities'])\r\n",
        "\r\n",
        "# Check my work\r\n",
        "print(amsterdam_vects.shape)\r\n",
        "amsterdam_vects.head()"
      ],
      "execution_count": 14,
      "outputs": [
        {
          "output_type": "stream",
          "text": [
            "(18291, 190)\n"
          ],
          "name": "stdout"
        },
        {
          "output_type": "execute_result",
          "data": {
            "text/html": [
              "<div>\n",
              "<style scoped>\n",
              "    .dataframe tbody tr th:only-of-type {\n",
              "        vertical-align: middle;\n",
              "    }\n",
              "\n",
              "    .dataframe tbody tr th {\n",
              "        vertical-align: top;\n",
              "    }\n",
              "\n",
              "    .dataframe thead th {\n",
              "        text-align: right;\n",
              "    }\n",
              "</style>\n",
              "<table border=\"1\" class=\"dataframe\">\n",
              "  <thead>\n",
              "    <tr style=\"text-align: right;\">\n",
              "      <th></th>\n",
              "      <th>superhost</th>\n",
              "      <th>total_listings</th>\n",
              "      <th>profile_pic</th>\n",
              "      <th>verified_id</th>\n",
              "      <th>accommodates</th>\n",
              "      <th>bathrooms</th>\n",
              "      <th>bedrooms</th>\n",
              "      <th>num_of_beds</th>\n",
              "      <th>price</th>\n",
              "      <th>min_nights</th>\n",
              "      <th>max_nights</th>\n",
              "      <th>available</th>\n",
              "      <th>avail_next_365_days</th>\n",
              "      <th>num_of_reviews</th>\n",
              "      <th>avg_review_score</th>\n",
              "      <th>instant_bookable</th>\n",
              "      <th>shared_bath</th>\n",
              "      <th>years_hosting</th>\n",
              "      <th>aid kit</th>\n",
              "      <th>alarm dedicated</th>\n",
              "      <th>alarm dedicated workspace</th>\n",
              "      <th>alarm kitchen</th>\n",
              "      <th>alarm stove</th>\n",
              "      <th>alarm stove washer</th>\n",
              "      <th>allowed aid</th>\n",
              "      <th>allowed aid kit</th>\n",
              "      <th>balcony hangers</th>\n",
              "      <th>basics dishes</th>\n",
              "      <th>basics dishes silverware</th>\n",
              "      <th>bed linens</th>\n",
              "      <th>cable tv</th>\n",
              "      <th>cable tv wifi</th>\n",
              "      <th>carbon monoxide</th>\n",
              "      <th>carbon monoxide alarm</th>\n",
              "      <th>coffee maker</th>\n",
              "      <th>coffee maker long</th>\n",
              "      <th>cooking basics</th>\n",
              "      <th>cooking basics dishes</th>\n",
              "      <th>dedicated workspace host</th>\n",
              "      <th>dishes silverware</th>\n",
              "      <th>...</th>\n",
              "      <th>lommer</th>\n",
              "      <th>nieuw</th>\n",
              "      <th>nieuw sloten</th>\n",
              "      <th>noord</th>\n",
              "      <th>noord oost</th>\n",
              "      <th>noord west</th>\n",
              "      <th>oost</th>\n",
              "      <th>oostelijk</th>\n",
              "      <th>oostelijk havengebied</th>\n",
              "      <th>oostelijk havengebied indische</th>\n",
              "      <th>osdorp</th>\n",
              "      <th>oud</th>\n",
              "      <th>oud noord</th>\n",
              "      <th>oud oost</th>\n",
              "      <th>oud west</th>\n",
              "      <th>pijp</th>\n",
              "      <th>pijp rivierenbuurt</th>\n",
              "      <th>rivierenbuurt</th>\n",
              "      <th>sloten</th>\n",
              "      <th>slotermeer</th>\n",
              "      <th>slotervaart</th>\n",
              "      <th>watergraafsmeer</th>\n",
              "      <th>west</th>\n",
              "      <th>westerpark</th>\n",
              "      <th>zeeburgereiland</th>\n",
              "      <th>zuid</th>\n",
              "      <th>zuidas</th>\n",
              "      <th>apt</th>\n",
              "      <th>entire</th>\n",
              "      <th>entire home</th>\n",
              "      <th>entire home apt</th>\n",
              "      <th>home</th>\n",
              "      <th>home apt</th>\n",
              "      <th>hotel</th>\n",
              "      <th>hotel room</th>\n",
              "      <th>private</th>\n",
              "      <th>private room</th>\n",
              "      <th>room</th>\n",
              "      <th>shared</th>\n",
              "      <th>shared room</th>\n",
              "    </tr>\n",
              "  </thead>\n",
              "  <tbody>\n",
              "    <tr>\n",
              "      <th>0</th>\n",
              "      <td>True</td>\n",
              "      <td>1</td>\n",
              "      <td>True</td>\n",
              "      <td>True</td>\n",
              "      <td>2</td>\n",
              "      <td>1.5</td>\n",
              "      <td>1.0</td>\n",
              "      <td>2.0</td>\n",
              "      <td>59.0</td>\n",
              "      <td>3</td>\n",
              "      <td>1125</td>\n",
              "      <td>True</td>\n",
              "      <td>139</td>\n",
              "      <td>278</td>\n",
              "      <td>98.0</td>\n",
              "      <td>True</td>\n",
              "      <td>True</td>\n",
              "      <td>12.38</td>\n",
              "      <td>0.125067</td>\n",
              "      <td>0.141336</td>\n",
              "      <td>0.141336</td>\n",
              "      <td>0.0</td>\n",
              "      <td>0.000000</td>\n",
              "      <td>0.000000</td>\n",
              "      <td>0.17278</td>\n",
              "      <td>0.17278</td>\n",
              "      <td>0.000000</td>\n",
              "      <td>0.000000</td>\n",
              "      <td>0.000000</td>\n",
              "      <td>0.129064</td>\n",
              "      <td>0.000000</td>\n",
              "      <td>0.0</td>\n",
              "      <td>0.118476</td>\n",
              "      <td>0.118476</td>\n",
              "      <td>0.119876</td>\n",
              "      <td>0.000000</td>\n",
              "      <td>0.000000</td>\n",
              "      <td>0.000000</td>\n",
              "      <td>0.164755</td>\n",
              "      <td>0.000000</td>\n",
              "      <td>...</td>\n",
              "      <td>0.0</td>\n",
              "      <td>0.0</td>\n",
              "      <td>0.0</td>\n",
              "      <td>0.0</td>\n",
              "      <td>0.0</td>\n",
              "      <td>0.0</td>\n",
              "      <td>0.000000</td>\n",
              "      <td>0.333333</td>\n",
              "      <td>0.333333</td>\n",
              "      <td>0.333333</td>\n",
              "      <td>0.0</td>\n",
              "      <td>0.0</td>\n",
              "      <td>0.0</td>\n",
              "      <td>0.0</td>\n",
              "      <td>0.0</td>\n",
              "      <td>0.0</td>\n",
              "      <td>0.0</td>\n",
              "      <td>0.0</td>\n",
              "      <td>0.0</td>\n",
              "      <td>0.0</td>\n",
              "      <td>0.0</td>\n",
              "      <td>0.0</td>\n",
              "      <td>0.000000</td>\n",
              "      <td>0.0</td>\n",
              "      <td>0.0</td>\n",
              "      <td>0.0</td>\n",
              "      <td>0.0</td>\n",
              "      <td>0.000000</td>\n",
              "      <td>0.000000</td>\n",
              "      <td>0.000000</td>\n",
              "      <td>0.000000</td>\n",
              "      <td>0.000000</td>\n",
              "      <td>0.000000</td>\n",
              "      <td>0.0</td>\n",
              "      <td>0.0</td>\n",
              "      <td>0.580741</td>\n",
              "      <td>0.580741</td>\n",
              "      <td>0.570509</td>\n",
              "      <td>0.0</td>\n",
              "      <td>0.0</td>\n",
              "    </tr>\n",
              "    <tr>\n",
              "      <th>1</th>\n",
              "      <td>False</td>\n",
              "      <td>2</td>\n",
              "      <td>True</td>\n",
              "      <td>True</td>\n",
              "      <td>2</td>\n",
              "      <td>1.0</td>\n",
              "      <td>1.0</td>\n",
              "      <td>1.0</td>\n",
              "      <td>129.0</td>\n",
              "      <td>1</td>\n",
              "      <td>365</td>\n",
              "      <td>True</td>\n",
              "      <td>0</td>\n",
              "      <td>339</td>\n",
              "      <td>89.0</td>\n",
              "      <td>True</td>\n",
              "      <td>False</td>\n",
              "      <td>11.19</td>\n",
              "      <td>0.000000</td>\n",
              "      <td>0.208325</td>\n",
              "      <td>0.208325</td>\n",
              "      <td>0.0</td>\n",
              "      <td>0.000000</td>\n",
              "      <td>0.000000</td>\n",
              "      <td>0.00000</td>\n",
              "      <td>0.00000</td>\n",
              "      <td>0.000000</td>\n",
              "      <td>0.000000</td>\n",
              "      <td>0.000000</td>\n",
              "      <td>0.190236</td>\n",
              "      <td>0.000000</td>\n",
              "      <td>0.0</td>\n",
              "      <td>0.174631</td>\n",
              "      <td>0.174631</td>\n",
              "      <td>0.000000</td>\n",
              "      <td>0.000000</td>\n",
              "      <td>0.000000</td>\n",
              "      <td>0.000000</td>\n",
              "      <td>0.242845</td>\n",
              "      <td>0.000000</td>\n",
              "      <td>...</td>\n",
              "      <td>0.0</td>\n",
              "      <td>0.0</td>\n",
              "      <td>0.0</td>\n",
              "      <td>0.0</td>\n",
              "      <td>0.0</td>\n",
              "      <td>0.0</td>\n",
              "      <td>0.539574</td>\n",
              "      <td>0.000000</td>\n",
              "      <td>0.000000</td>\n",
              "      <td>0.000000</td>\n",
              "      <td>0.0</td>\n",
              "      <td>0.0</td>\n",
              "      <td>0.0</td>\n",
              "      <td>0.0</td>\n",
              "      <td>0.0</td>\n",
              "      <td>0.0</td>\n",
              "      <td>0.0</td>\n",
              "      <td>0.0</td>\n",
              "      <td>0.0</td>\n",
              "      <td>0.0</td>\n",
              "      <td>0.0</td>\n",
              "      <td>0.0</td>\n",
              "      <td>0.000000</td>\n",
              "      <td>0.0</td>\n",
              "      <td>0.0</td>\n",
              "      <td>0.0</td>\n",
              "      <td>0.0</td>\n",
              "      <td>0.000000</td>\n",
              "      <td>0.000000</td>\n",
              "      <td>0.000000</td>\n",
              "      <td>0.000000</td>\n",
              "      <td>0.000000</td>\n",
              "      <td>0.000000</td>\n",
              "      <td>0.0</td>\n",
              "      <td>0.0</td>\n",
              "      <td>0.580741</td>\n",
              "      <td>0.580741</td>\n",
              "      <td>0.570509</td>\n",
              "      <td>0.0</td>\n",
              "      <td>0.0</td>\n",
              "    </tr>\n",
              "    <tr>\n",
              "      <th>2</th>\n",
              "      <td>True</td>\n",
              "      <td>2</td>\n",
              "      <td>True</td>\n",
              "      <td>False</td>\n",
              "      <td>3</td>\n",
              "      <td>1.0</td>\n",
              "      <td>1.0</td>\n",
              "      <td>1.0</td>\n",
              "      <td>125.0</td>\n",
              "      <td>14</td>\n",
              "      <td>180</td>\n",
              "      <td>True</td>\n",
              "      <td>251</td>\n",
              "      <td>5</td>\n",
              "      <td>100.0</td>\n",
              "      <td>False</td>\n",
              "      <td>False</td>\n",
              "      <td>11.23</td>\n",
              "      <td>0.000000</td>\n",
              "      <td>0.000000</td>\n",
              "      <td>0.000000</td>\n",
              "      <td>0.0</td>\n",
              "      <td>0.143755</td>\n",
              "      <td>0.155314</td>\n",
              "      <td>0.00000</td>\n",
              "      <td>0.00000</td>\n",
              "      <td>0.000000</td>\n",
              "      <td>0.140321</td>\n",
              "      <td>0.140321</td>\n",
              "      <td>0.125041</td>\n",
              "      <td>0.125164</td>\n",
              "      <td>0.0</td>\n",
              "      <td>0.000000</td>\n",
              "      <td>0.000000</td>\n",
              "      <td>0.116139</td>\n",
              "      <td>0.173159</td>\n",
              "      <td>0.121052</td>\n",
              "      <td>0.140321</td>\n",
              "      <td>0.000000</td>\n",
              "      <td>0.108391</td>\n",
              "      <td>...</td>\n",
              "      <td>0.0</td>\n",
              "      <td>0.0</td>\n",
              "      <td>0.0</td>\n",
              "      <td>0.0</td>\n",
              "      <td>0.0</td>\n",
              "      <td>0.0</td>\n",
              "      <td>0.000000</td>\n",
              "      <td>0.000000</td>\n",
              "      <td>0.000000</td>\n",
              "      <td>0.000000</td>\n",
              "      <td>0.0</td>\n",
              "      <td>0.0</td>\n",
              "      <td>0.0</td>\n",
              "      <td>0.0</td>\n",
              "      <td>0.0</td>\n",
              "      <td>0.0</td>\n",
              "      <td>0.0</td>\n",
              "      <td>0.0</td>\n",
              "      <td>0.0</td>\n",
              "      <td>0.0</td>\n",
              "      <td>0.0</td>\n",
              "      <td>0.0</td>\n",
              "      <td>0.472332</td>\n",
              "      <td>0.0</td>\n",
              "      <td>0.0</td>\n",
              "      <td>0.0</td>\n",
              "      <td>0.0</td>\n",
              "      <td>0.408248</td>\n",
              "      <td>0.408248</td>\n",
              "      <td>0.408248</td>\n",
              "      <td>0.408248</td>\n",
              "      <td>0.408248</td>\n",
              "      <td>0.408248</td>\n",
              "      <td>0.0</td>\n",
              "      <td>0.0</td>\n",
              "      <td>0.000000</td>\n",
              "      <td>0.000000</td>\n",
              "      <td>0.000000</td>\n",
              "      <td>0.0</td>\n",
              "      <td>0.0</td>\n",
              "    </tr>\n",
              "    <tr>\n",
              "      <th>3</th>\n",
              "      <td>True</td>\n",
              "      <td>1</td>\n",
              "      <td>True</td>\n",
              "      <td>True</td>\n",
              "      <td>2</td>\n",
              "      <td>1.5</td>\n",
              "      <td>1.0</td>\n",
              "      <td>1.0</td>\n",
              "      <td>125.0</td>\n",
              "      <td>2</td>\n",
              "      <td>730</td>\n",
              "      <td>True</td>\n",
              "      <td>136</td>\n",
              "      <td>219</td>\n",
              "      <td>99.0</td>\n",
              "      <td>True</td>\n",
              "      <td>False</td>\n",
              "      <td>10.89</td>\n",
              "      <td>0.000000</td>\n",
              "      <td>0.203121</td>\n",
              "      <td>0.203121</td>\n",
              "      <td>0.0</td>\n",
              "      <td>0.000000</td>\n",
              "      <td>0.000000</td>\n",
              "      <td>0.00000</td>\n",
              "      <td>0.00000</td>\n",
              "      <td>0.254753</td>\n",
              "      <td>0.000000</td>\n",
              "      <td>0.000000</td>\n",
              "      <td>0.000000</td>\n",
              "      <td>0.000000</td>\n",
              "      <td>0.0</td>\n",
              "      <td>0.170268</td>\n",
              "      <td>0.170268</td>\n",
              "      <td>0.172279</td>\n",
              "      <td>0.000000</td>\n",
              "      <td>0.000000</td>\n",
              "      <td>0.000000</td>\n",
              "      <td>0.000000</td>\n",
              "      <td>0.160787</td>\n",
              "      <td>...</td>\n",
              "      <td>0.0</td>\n",
              "      <td>0.0</td>\n",
              "      <td>0.0</td>\n",
              "      <td>0.0</td>\n",
              "      <td>0.0</td>\n",
              "      <td>0.0</td>\n",
              "      <td>0.000000</td>\n",
              "      <td>0.000000</td>\n",
              "      <td>0.000000</td>\n",
              "      <td>0.000000</td>\n",
              "      <td>0.0</td>\n",
              "      <td>0.0</td>\n",
              "      <td>0.0</td>\n",
              "      <td>0.0</td>\n",
              "      <td>0.0</td>\n",
              "      <td>0.0</td>\n",
              "      <td>0.0</td>\n",
              "      <td>0.0</td>\n",
              "      <td>0.0</td>\n",
              "      <td>0.0</td>\n",
              "      <td>0.0</td>\n",
              "      <td>0.0</td>\n",
              "      <td>0.472332</td>\n",
              "      <td>0.0</td>\n",
              "      <td>0.0</td>\n",
              "      <td>0.0</td>\n",
              "      <td>0.0</td>\n",
              "      <td>0.000000</td>\n",
              "      <td>0.000000</td>\n",
              "      <td>0.000000</td>\n",
              "      <td>0.000000</td>\n",
              "      <td>0.000000</td>\n",
              "      <td>0.000000</td>\n",
              "      <td>0.0</td>\n",
              "      <td>0.0</td>\n",
              "      <td>0.580741</td>\n",
              "      <td>0.580741</td>\n",
              "      <td>0.570509</td>\n",
              "      <td>0.0</td>\n",
              "      <td>0.0</td>\n",
              "    </tr>\n",
              "    <tr>\n",
              "      <th>4</th>\n",
              "      <td>True</td>\n",
              "      <td>2</td>\n",
              "      <td>True</td>\n",
              "      <td>True</td>\n",
              "      <td>2</td>\n",
              "      <td>1.0</td>\n",
              "      <td>1.0</td>\n",
              "      <td>1.0</td>\n",
              "      <td>75.0</td>\n",
              "      <td>2</td>\n",
              "      <td>1825</td>\n",
              "      <td>True</td>\n",
              "      <td>338</td>\n",
              "      <td>336</td>\n",
              "      <td>97.0</td>\n",
              "      <td>False</td>\n",
              "      <td>True</td>\n",
              "      <td>10.75</td>\n",
              "      <td>0.000000</td>\n",
              "      <td>0.000000</td>\n",
              "      <td>0.000000</td>\n",
              "      <td>0.0</td>\n",
              "      <td>0.000000</td>\n",
              "      <td>0.000000</td>\n",
              "      <td>0.00000</td>\n",
              "      <td>0.00000</td>\n",
              "      <td>0.000000</td>\n",
              "      <td>0.000000</td>\n",
              "      <td>0.000000</td>\n",
              "      <td>0.000000</td>\n",
              "      <td>0.000000</td>\n",
              "      <td>0.0</td>\n",
              "      <td>0.230281</td>\n",
              "      <td>0.230281</td>\n",
              "      <td>0.000000</td>\n",
              "      <td>0.000000</td>\n",
              "      <td>0.000000</td>\n",
              "      <td>0.000000</td>\n",
              "      <td>0.000000</td>\n",
              "      <td>0.000000</td>\n",
              "      <td>...</td>\n",
              "      <td>0.0</td>\n",
              "      <td>0.0</td>\n",
              "      <td>0.0</td>\n",
              "      <td>0.0</td>\n",
              "      <td>0.0</td>\n",
              "      <td>0.0</td>\n",
              "      <td>0.539574</td>\n",
              "      <td>0.000000</td>\n",
              "      <td>0.000000</td>\n",
              "      <td>0.000000</td>\n",
              "      <td>0.0</td>\n",
              "      <td>0.0</td>\n",
              "      <td>0.0</td>\n",
              "      <td>0.0</td>\n",
              "      <td>0.0</td>\n",
              "      <td>0.0</td>\n",
              "      <td>0.0</td>\n",
              "      <td>0.0</td>\n",
              "      <td>0.0</td>\n",
              "      <td>0.0</td>\n",
              "      <td>0.0</td>\n",
              "      <td>0.0</td>\n",
              "      <td>0.000000</td>\n",
              "      <td>0.0</td>\n",
              "      <td>0.0</td>\n",
              "      <td>0.0</td>\n",
              "      <td>0.0</td>\n",
              "      <td>0.000000</td>\n",
              "      <td>0.000000</td>\n",
              "      <td>0.000000</td>\n",
              "      <td>0.000000</td>\n",
              "      <td>0.000000</td>\n",
              "      <td>0.000000</td>\n",
              "      <td>0.0</td>\n",
              "      <td>0.0</td>\n",
              "      <td>0.580741</td>\n",
              "      <td>0.580741</td>\n",
              "      <td>0.570509</td>\n",
              "      <td>0.0</td>\n",
              "      <td>0.0</td>\n",
              "    </tr>\n",
              "  </tbody>\n",
              "</table>\n",
              "<p>5 rows × 190 columns</p>\n",
              "</div>"
            ],
            "text/plain": [
              "   superhost  total_listings  profile_pic  ...      room  shared  shared room\n",
              "0       True               1         True  ...  0.570509     0.0          0.0\n",
              "1      False               2         True  ...  0.570509     0.0          0.0\n",
              "2       True               2         True  ...  0.000000     0.0          0.0\n",
              "3       True               1         True  ...  0.570509     0.0          0.0\n",
              "4       True               2         True  ...  0.570509     0.0          0.0\n",
              "\n",
              "[5 rows x 190 columns]"
            ]
          },
          "metadata": {
            "tags": []
          },
          "execution_count": 14
        }
      ]
    },
    {
      "cell_type": "markdown",
      "metadata": {
        "id": "lKeEX2OEwxjl"
      },
      "source": [
        "### Replace True/False values with 1's and 0's\r\n",
        "\r\n",
        "- All data being passed into the model needs to me numeric. \r\n",
        "\r\n",
        "- The model will not convert the `bool` features to numeric for me, so I need to complete this step before passing into the model."
      ]
    },
    {
      "cell_type": "code",
      "metadata": {
        "colab": {
          "base_uri": "https://localhost:8080/",
          "height": 287
        },
        "id": "_B7fSb2itDht",
        "outputId": "fbf56062-dd52-45c3-d7a2-c616a699d578"
      },
      "source": [
        "# Numerical representation on True and False\r\n",
        "amsterdam_vects = amsterdam_vects.replace([True, False], [1, 0])\r\n",
        "\r\n",
        "# Check my work\r\n",
        "amsterdam_vects.head()"
      ],
      "execution_count": 15,
      "outputs": [
        {
          "output_type": "execute_result",
          "data": {
            "text/html": [
              "<div>\n",
              "<style scoped>\n",
              "    .dataframe tbody tr th:only-of-type {\n",
              "        vertical-align: middle;\n",
              "    }\n",
              "\n",
              "    .dataframe tbody tr th {\n",
              "        vertical-align: top;\n",
              "    }\n",
              "\n",
              "    .dataframe thead th {\n",
              "        text-align: right;\n",
              "    }\n",
              "</style>\n",
              "<table border=\"1\" class=\"dataframe\">\n",
              "  <thead>\n",
              "    <tr style=\"text-align: right;\">\n",
              "      <th></th>\n",
              "      <th>superhost</th>\n",
              "      <th>total_listings</th>\n",
              "      <th>profile_pic</th>\n",
              "      <th>verified_id</th>\n",
              "      <th>accommodates</th>\n",
              "      <th>bathrooms</th>\n",
              "      <th>bedrooms</th>\n",
              "      <th>num_of_beds</th>\n",
              "      <th>price</th>\n",
              "      <th>min_nights</th>\n",
              "      <th>max_nights</th>\n",
              "      <th>available</th>\n",
              "      <th>avail_next_365_days</th>\n",
              "      <th>num_of_reviews</th>\n",
              "      <th>avg_review_score</th>\n",
              "      <th>instant_bookable</th>\n",
              "      <th>shared_bath</th>\n",
              "      <th>years_hosting</th>\n",
              "      <th>aid kit</th>\n",
              "      <th>alarm dedicated</th>\n",
              "      <th>alarm dedicated workspace</th>\n",
              "      <th>alarm kitchen</th>\n",
              "      <th>alarm stove</th>\n",
              "      <th>alarm stove washer</th>\n",
              "      <th>allowed aid</th>\n",
              "      <th>allowed aid kit</th>\n",
              "      <th>balcony hangers</th>\n",
              "      <th>basics dishes</th>\n",
              "      <th>basics dishes silverware</th>\n",
              "      <th>bed linens</th>\n",
              "      <th>cable tv</th>\n",
              "      <th>cable tv wifi</th>\n",
              "      <th>carbon monoxide</th>\n",
              "      <th>carbon monoxide alarm</th>\n",
              "      <th>coffee maker</th>\n",
              "      <th>coffee maker long</th>\n",
              "      <th>cooking basics</th>\n",
              "      <th>cooking basics dishes</th>\n",
              "      <th>dedicated workspace host</th>\n",
              "      <th>dishes silverware</th>\n",
              "      <th>...</th>\n",
              "      <th>lommer</th>\n",
              "      <th>nieuw</th>\n",
              "      <th>nieuw sloten</th>\n",
              "      <th>noord</th>\n",
              "      <th>noord oost</th>\n",
              "      <th>noord west</th>\n",
              "      <th>oost</th>\n",
              "      <th>oostelijk</th>\n",
              "      <th>oostelijk havengebied</th>\n",
              "      <th>oostelijk havengebied indische</th>\n",
              "      <th>osdorp</th>\n",
              "      <th>oud</th>\n",
              "      <th>oud noord</th>\n",
              "      <th>oud oost</th>\n",
              "      <th>oud west</th>\n",
              "      <th>pijp</th>\n",
              "      <th>pijp rivierenbuurt</th>\n",
              "      <th>rivierenbuurt</th>\n",
              "      <th>sloten</th>\n",
              "      <th>slotermeer</th>\n",
              "      <th>slotervaart</th>\n",
              "      <th>watergraafsmeer</th>\n",
              "      <th>west</th>\n",
              "      <th>westerpark</th>\n",
              "      <th>zeeburgereiland</th>\n",
              "      <th>zuid</th>\n",
              "      <th>zuidas</th>\n",
              "      <th>apt</th>\n",
              "      <th>entire</th>\n",
              "      <th>entire home</th>\n",
              "      <th>entire home apt</th>\n",
              "      <th>home</th>\n",
              "      <th>home apt</th>\n",
              "      <th>hotel</th>\n",
              "      <th>hotel room</th>\n",
              "      <th>private</th>\n",
              "      <th>private room</th>\n",
              "      <th>room</th>\n",
              "      <th>shared</th>\n",
              "      <th>shared room</th>\n",
              "    </tr>\n",
              "  </thead>\n",
              "  <tbody>\n",
              "    <tr>\n",
              "      <th>0</th>\n",
              "      <td>1</td>\n",
              "      <td>1</td>\n",
              "      <td>1</td>\n",
              "      <td>1</td>\n",
              "      <td>2</td>\n",
              "      <td>1.5</td>\n",
              "      <td>1.0</td>\n",
              "      <td>2.0</td>\n",
              "      <td>59.0</td>\n",
              "      <td>3</td>\n",
              "      <td>1125</td>\n",
              "      <td>1</td>\n",
              "      <td>139</td>\n",
              "      <td>278</td>\n",
              "      <td>98.0</td>\n",
              "      <td>1</td>\n",
              "      <td>1</td>\n",
              "      <td>12.38</td>\n",
              "      <td>0.125067</td>\n",
              "      <td>0.141336</td>\n",
              "      <td>0.141336</td>\n",
              "      <td>0.0</td>\n",
              "      <td>0.000000</td>\n",
              "      <td>0.000000</td>\n",
              "      <td>0.17278</td>\n",
              "      <td>0.17278</td>\n",
              "      <td>0.000000</td>\n",
              "      <td>0.000000</td>\n",
              "      <td>0.000000</td>\n",
              "      <td>0.129064</td>\n",
              "      <td>0.000000</td>\n",
              "      <td>0.0</td>\n",
              "      <td>0.118476</td>\n",
              "      <td>0.118476</td>\n",
              "      <td>0.119876</td>\n",
              "      <td>0.000000</td>\n",
              "      <td>0.000000</td>\n",
              "      <td>0.000000</td>\n",
              "      <td>0.164755</td>\n",
              "      <td>0.000000</td>\n",
              "      <td>...</td>\n",
              "      <td>0.0</td>\n",
              "      <td>0.0</td>\n",
              "      <td>0.0</td>\n",
              "      <td>0.0</td>\n",
              "      <td>0.0</td>\n",
              "      <td>0.0</td>\n",
              "      <td>0.000000</td>\n",
              "      <td>0.333333</td>\n",
              "      <td>0.333333</td>\n",
              "      <td>0.333333</td>\n",
              "      <td>0.0</td>\n",
              "      <td>0.0</td>\n",
              "      <td>0.0</td>\n",
              "      <td>0.0</td>\n",
              "      <td>0.0</td>\n",
              "      <td>0.0</td>\n",
              "      <td>0.0</td>\n",
              "      <td>0.0</td>\n",
              "      <td>0.0</td>\n",
              "      <td>0.0</td>\n",
              "      <td>0.0</td>\n",
              "      <td>0.0</td>\n",
              "      <td>0.000000</td>\n",
              "      <td>0.0</td>\n",
              "      <td>0.0</td>\n",
              "      <td>0.0</td>\n",
              "      <td>0.0</td>\n",
              "      <td>0.000000</td>\n",
              "      <td>0.000000</td>\n",
              "      <td>0.000000</td>\n",
              "      <td>0.000000</td>\n",
              "      <td>0.000000</td>\n",
              "      <td>0.000000</td>\n",
              "      <td>0.0</td>\n",
              "      <td>0.0</td>\n",
              "      <td>0.580741</td>\n",
              "      <td>0.580741</td>\n",
              "      <td>0.570509</td>\n",
              "      <td>0.0</td>\n",
              "      <td>0.0</td>\n",
              "    </tr>\n",
              "    <tr>\n",
              "      <th>1</th>\n",
              "      <td>0</td>\n",
              "      <td>2</td>\n",
              "      <td>1</td>\n",
              "      <td>1</td>\n",
              "      <td>2</td>\n",
              "      <td>1.0</td>\n",
              "      <td>1.0</td>\n",
              "      <td>1.0</td>\n",
              "      <td>129.0</td>\n",
              "      <td>1</td>\n",
              "      <td>365</td>\n",
              "      <td>1</td>\n",
              "      <td>0</td>\n",
              "      <td>339</td>\n",
              "      <td>89.0</td>\n",
              "      <td>1</td>\n",
              "      <td>0</td>\n",
              "      <td>11.19</td>\n",
              "      <td>0.000000</td>\n",
              "      <td>0.208325</td>\n",
              "      <td>0.208325</td>\n",
              "      <td>0.0</td>\n",
              "      <td>0.000000</td>\n",
              "      <td>0.000000</td>\n",
              "      <td>0.00000</td>\n",
              "      <td>0.00000</td>\n",
              "      <td>0.000000</td>\n",
              "      <td>0.000000</td>\n",
              "      <td>0.000000</td>\n",
              "      <td>0.190236</td>\n",
              "      <td>0.000000</td>\n",
              "      <td>0.0</td>\n",
              "      <td>0.174631</td>\n",
              "      <td>0.174631</td>\n",
              "      <td>0.000000</td>\n",
              "      <td>0.000000</td>\n",
              "      <td>0.000000</td>\n",
              "      <td>0.000000</td>\n",
              "      <td>0.242845</td>\n",
              "      <td>0.000000</td>\n",
              "      <td>...</td>\n",
              "      <td>0.0</td>\n",
              "      <td>0.0</td>\n",
              "      <td>0.0</td>\n",
              "      <td>0.0</td>\n",
              "      <td>0.0</td>\n",
              "      <td>0.0</td>\n",
              "      <td>0.539574</td>\n",
              "      <td>0.000000</td>\n",
              "      <td>0.000000</td>\n",
              "      <td>0.000000</td>\n",
              "      <td>0.0</td>\n",
              "      <td>0.0</td>\n",
              "      <td>0.0</td>\n",
              "      <td>0.0</td>\n",
              "      <td>0.0</td>\n",
              "      <td>0.0</td>\n",
              "      <td>0.0</td>\n",
              "      <td>0.0</td>\n",
              "      <td>0.0</td>\n",
              "      <td>0.0</td>\n",
              "      <td>0.0</td>\n",
              "      <td>0.0</td>\n",
              "      <td>0.000000</td>\n",
              "      <td>0.0</td>\n",
              "      <td>0.0</td>\n",
              "      <td>0.0</td>\n",
              "      <td>0.0</td>\n",
              "      <td>0.000000</td>\n",
              "      <td>0.000000</td>\n",
              "      <td>0.000000</td>\n",
              "      <td>0.000000</td>\n",
              "      <td>0.000000</td>\n",
              "      <td>0.000000</td>\n",
              "      <td>0.0</td>\n",
              "      <td>0.0</td>\n",
              "      <td>0.580741</td>\n",
              "      <td>0.580741</td>\n",
              "      <td>0.570509</td>\n",
              "      <td>0.0</td>\n",
              "      <td>0.0</td>\n",
              "    </tr>\n",
              "    <tr>\n",
              "      <th>2</th>\n",
              "      <td>1</td>\n",
              "      <td>2</td>\n",
              "      <td>1</td>\n",
              "      <td>0</td>\n",
              "      <td>3</td>\n",
              "      <td>1.0</td>\n",
              "      <td>1.0</td>\n",
              "      <td>1.0</td>\n",
              "      <td>125.0</td>\n",
              "      <td>14</td>\n",
              "      <td>180</td>\n",
              "      <td>1</td>\n",
              "      <td>251</td>\n",
              "      <td>5</td>\n",
              "      <td>100.0</td>\n",
              "      <td>0</td>\n",
              "      <td>0</td>\n",
              "      <td>11.23</td>\n",
              "      <td>0.000000</td>\n",
              "      <td>0.000000</td>\n",
              "      <td>0.000000</td>\n",
              "      <td>0.0</td>\n",
              "      <td>0.143755</td>\n",
              "      <td>0.155314</td>\n",
              "      <td>0.00000</td>\n",
              "      <td>0.00000</td>\n",
              "      <td>0.000000</td>\n",
              "      <td>0.140321</td>\n",
              "      <td>0.140321</td>\n",
              "      <td>0.125041</td>\n",
              "      <td>0.125164</td>\n",
              "      <td>0.0</td>\n",
              "      <td>0.000000</td>\n",
              "      <td>0.000000</td>\n",
              "      <td>0.116139</td>\n",
              "      <td>0.173159</td>\n",
              "      <td>0.121052</td>\n",
              "      <td>0.140321</td>\n",
              "      <td>0.000000</td>\n",
              "      <td>0.108391</td>\n",
              "      <td>...</td>\n",
              "      <td>0.0</td>\n",
              "      <td>0.0</td>\n",
              "      <td>0.0</td>\n",
              "      <td>0.0</td>\n",
              "      <td>0.0</td>\n",
              "      <td>0.0</td>\n",
              "      <td>0.000000</td>\n",
              "      <td>0.000000</td>\n",
              "      <td>0.000000</td>\n",
              "      <td>0.000000</td>\n",
              "      <td>0.0</td>\n",
              "      <td>0.0</td>\n",
              "      <td>0.0</td>\n",
              "      <td>0.0</td>\n",
              "      <td>0.0</td>\n",
              "      <td>0.0</td>\n",
              "      <td>0.0</td>\n",
              "      <td>0.0</td>\n",
              "      <td>0.0</td>\n",
              "      <td>0.0</td>\n",
              "      <td>0.0</td>\n",
              "      <td>0.0</td>\n",
              "      <td>0.472332</td>\n",
              "      <td>0.0</td>\n",
              "      <td>0.0</td>\n",
              "      <td>0.0</td>\n",
              "      <td>0.0</td>\n",
              "      <td>0.408248</td>\n",
              "      <td>0.408248</td>\n",
              "      <td>0.408248</td>\n",
              "      <td>0.408248</td>\n",
              "      <td>0.408248</td>\n",
              "      <td>0.408248</td>\n",
              "      <td>0.0</td>\n",
              "      <td>0.0</td>\n",
              "      <td>0.000000</td>\n",
              "      <td>0.000000</td>\n",
              "      <td>0.000000</td>\n",
              "      <td>0.0</td>\n",
              "      <td>0.0</td>\n",
              "    </tr>\n",
              "    <tr>\n",
              "      <th>3</th>\n",
              "      <td>1</td>\n",
              "      <td>1</td>\n",
              "      <td>1</td>\n",
              "      <td>1</td>\n",
              "      <td>2</td>\n",
              "      <td>1.5</td>\n",
              "      <td>1.0</td>\n",
              "      <td>1.0</td>\n",
              "      <td>125.0</td>\n",
              "      <td>2</td>\n",
              "      <td>730</td>\n",
              "      <td>1</td>\n",
              "      <td>136</td>\n",
              "      <td>219</td>\n",
              "      <td>99.0</td>\n",
              "      <td>1</td>\n",
              "      <td>0</td>\n",
              "      <td>10.89</td>\n",
              "      <td>0.000000</td>\n",
              "      <td>0.203121</td>\n",
              "      <td>0.203121</td>\n",
              "      <td>0.0</td>\n",
              "      <td>0.000000</td>\n",
              "      <td>0.000000</td>\n",
              "      <td>0.00000</td>\n",
              "      <td>0.00000</td>\n",
              "      <td>0.254753</td>\n",
              "      <td>0.000000</td>\n",
              "      <td>0.000000</td>\n",
              "      <td>0.000000</td>\n",
              "      <td>0.000000</td>\n",
              "      <td>0.0</td>\n",
              "      <td>0.170268</td>\n",
              "      <td>0.170268</td>\n",
              "      <td>0.172279</td>\n",
              "      <td>0.000000</td>\n",
              "      <td>0.000000</td>\n",
              "      <td>0.000000</td>\n",
              "      <td>0.000000</td>\n",
              "      <td>0.160787</td>\n",
              "      <td>...</td>\n",
              "      <td>0.0</td>\n",
              "      <td>0.0</td>\n",
              "      <td>0.0</td>\n",
              "      <td>0.0</td>\n",
              "      <td>0.0</td>\n",
              "      <td>0.0</td>\n",
              "      <td>0.000000</td>\n",
              "      <td>0.000000</td>\n",
              "      <td>0.000000</td>\n",
              "      <td>0.000000</td>\n",
              "      <td>0.0</td>\n",
              "      <td>0.0</td>\n",
              "      <td>0.0</td>\n",
              "      <td>0.0</td>\n",
              "      <td>0.0</td>\n",
              "      <td>0.0</td>\n",
              "      <td>0.0</td>\n",
              "      <td>0.0</td>\n",
              "      <td>0.0</td>\n",
              "      <td>0.0</td>\n",
              "      <td>0.0</td>\n",
              "      <td>0.0</td>\n",
              "      <td>0.472332</td>\n",
              "      <td>0.0</td>\n",
              "      <td>0.0</td>\n",
              "      <td>0.0</td>\n",
              "      <td>0.0</td>\n",
              "      <td>0.000000</td>\n",
              "      <td>0.000000</td>\n",
              "      <td>0.000000</td>\n",
              "      <td>0.000000</td>\n",
              "      <td>0.000000</td>\n",
              "      <td>0.000000</td>\n",
              "      <td>0.0</td>\n",
              "      <td>0.0</td>\n",
              "      <td>0.580741</td>\n",
              "      <td>0.580741</td>\n",
              "      <td>0.570509</td>\n",
              "      <td>0.0</td>\n",
              "      <td>0.0</td>\n",
              "    </tr>\n",
              "    <tr>\n",
              "      <th>4</th>\n",
              "      <td>1</td>\n",
              "      <td>2</td>\n",
              "      <td>1</td>\n",
              "      <td>1</td>\n",
              "      <td>2</td>\n",
              "      <td>1.0</td>\n",
              "      <td>1.0</td>\n",
              "      <td>1.0</td>\n",
              "      <td>75.0</td>\n",
              "      <td>2</td>\n",
              "      <td>1825</td>\n",
              "      <td>1</td>\n",
              "      <td>338</td>\n",
              "      <td>336</td>\n",
              "      <td>97.0</td>\n",
              "      <td>0</td>\n",
              "      <td>1</td>\n",
              "      <td>10.75</td>\n",
              "      <td>0.000000</td>\n",
              "      <td>0.000000</td>\n",
              "      <td>0.000000</td>\n",
              "      <td>0.0</td>\n",
              "      <td>0.000000</td>\n",
              "      <td>0.000000</td>\n",
              "      <td>0.00000</td>\n",
              "      <td>0.00000</td>\n",
              "      <td>0.000000</td>\n",
              "      <td>0.000000</td>\n",
              "      <td>0.000000</td>\n",
              "      <td>0.000000</td>\n",
              "      <td>0.000000</td>\n",
              "      <td>0.0</td>\n",
              "      <td>0.230281</td>\n",
              "      <td>0.230281</td>\n",
              "      <td>0.000000</td>\n",
              "      <td>0.000000</td>\n",
              "      <td>0.000000</td>\n",
              "      <td>0.000000</td>\n",
              "      <td>0.000000</td>\n",
              "      <td>0.000000</td>\n",
              "      <td>...</td>\n",
              "      <td>0.0</td>\n",
              "      <td>0.0</td>\n",
              "      <td>0.0</td>\n",
              "      <td>0.0</td>\n",
              "      <td>0.0</td>\n",
              "      <td>0.0</td>\n",
              "      <td>0.539574</td>\n",
              "      <td>0.000000</td>\n",
              "      <td>0.000000</td>\n",
              "      <td>0.000000</td>\n",
              "      <td>0.0</td>\n",
              "      <td>0.0</td>\n",
              "      <td>0.0</td>\n",
              "      <td>0.0</td>\n",
              "      <td>0.0</td>\n",
              "      <td>0.0</td>\n",
              "      <td>0.0</td>\n",
              "      <td>0.0</td>\n",
              "      <td>0.0</td>\n",
              "      <td>0.0</td>\n",
              "      <td>0.0</td>\n",
              "      <td>0.0</td>\n",
              "      <td>0.000000</td>\n",
              "      <td>0.0</td>\n",
              "      <td>0.0</td>\n",
              "      <td>0.0</td>\n",
              "      <td>0.0</td>\n",
              "      <td>0.000000</td>\n",
              "      <td>0.000000</td>\n",
              "      <td>0.000000</td>\n",
              "      <td>0.000000</td>\n",
              "      <td>0.000000</td>\n",
              "      <td>0.000000</td>\n",
              "      <td>0.0</td>\n",
              "      <td>0.0</td>\n",
              "      <td>0.580741</td>\n",
              "      <td>0.580741</td>\n",
              "      <td>0.570509</td>\n",
              "      <td>0.0</td>\n",
              "      <td>0.0</td>\n",
              "    </tr>\n",
              "  </tbody>\n",
              "</table>\n",
              "<p>5 rows × 190 columns</p>\n",
              "</div>"
            ],
            "text/plain": [
              "   superhost  total_listings  profile_pic  ...      room  shared  shared room\n",
              "0          1               1            1  ...  0.570509     0.0          0.0\n",
              "1          0               2            1  ...  0.570509     0.0          0.0\n",
              "2          1               2            1  ...  0.000000     0.0          0.0\n",
              "3          1               1            1  ...  0.570509     0.0          0.0\n",
              "4          1               2            1  ...  0.570509     0.0          0.0\n",
              "\n",
              "[5 rows x 190 columns]"
            ]
          },
          "metadata": {
            "tags": []
          },
          "execution_count": 15
        }
      ]
    },
    {
      "cell_type": "markdown",
      "metadata": {
        "id": "gRS8JN5xxEz_"
      },
      "source": [
        "### Split Data into Target and Features\r\n",
        "\r\n",
        "- Before I can scale my data, I have to remove the target feature from my other features"
      ]
    },
    {
      "cell_type": "code",
      "metadata": {
        "colab": {
          "base_uri": "https://localhost:8080/"
        },
        "id": "2742xyYt755W",
        "outputId": "4264aec5-bee0-49fe-b4ea-a355b79448d3"
      },
      "source": [
        "# Seperate the features from the target\r\n",
        "y = amsterdam_vects['price']\r\n",
        "X = amsterdam_vects.drop(columns='price')\r\n",
        "\r\n",
        "# Check my work\r\n",
        "y.shape, X.shape"
      ],
      "execution_count": 16,
      "outputs": [
        {
          "output_type": "execute_result",
          "data": {
            "text/plain": [
              "((18291,), (18291, 189))"
            ]
          },
          "metadata": {
            "tags": []
          },
          "execution_count": 16
        }
      ]
    },
    {
      "cell_type": "markdown",
      "metadata": {
        "id": "z7lFwmvwUav5"
      },
      "source": [
        "### Scale my Data\r\n",
        "\r\n",
        "- My data needs to be scaled to normalize it across the whole dataframe since I have document term matrices included in with the main data."
      ]
    },
    {
      "cell_type": "code",
      "metadata": {
        "colab": {
          "base_uri": "https://localhost:8080/"
        },
        "id": "Zhn_2yR2752w",
        "outputId": "25fc6801-a4f0-4a61-c54f-a799175c90d1"
      },
      "source": [
        "# Need to scale the data across the whole dataframe before running it through\r\n",
        "#   the model. I am using Standard Scaler to scale my data\r\n",
        "# Instantiate the Standard Scaler\r\n",
        "scaler = StandardScaler()\r\n",
        "\r\n",
        "# Fit and transform my features dataframe with the scaler\r\n",
        "X_scaled = scaler.fit_transform(X)\r\n",
        "\r\n",
        "# Check my work\r\n",
        "print(X_scaled.shape)\r\n",
        "X_scaled"
      ],
      "execution_count": 17,
      "outputs": [
        {
          "output_type": "stream",
          "text": [
            "(18291, 189)\n"
          ],
          "name": "stdout"
        },
        {
          "output_type": "execute_result",
          "data": {
            "text/plain": [
              "array([[ 2.5862182 , -0.0395431 ,  0.07110009, ...,  1.92960364,\n",
              "        -0.0523553 , -0.0523553 ],\n",
              "       [-0.38666498, -0.02183684,  0.07110009, ...,  1.92960364,\n",
              "        -0.0523553 , -0.0523553 ],\n",
              "       [ 2.5862182 , -0.02183684,  0.07110009, ..., -0.52576792,\n",
              "        -0.0523553 , -0.0523553 ],\n",
              "       ...,\n",
              "       [-0.38666498, -0.0395431 ,  0.07110009, ..., -0.52576792,\n",
              "        -0.0523553 , -0.0523553 ],\n",
              "       [-0.38666498, -0.0395431 ,  0.07110009, ..., -0.52576792,\n",
              "        -0.0523553 , -0.0523553 ],\n",
              "       [ 2.5862182 ,  0.10210694,  0.07110009, ..., -0.52576792,\n",
              "        -0.0523553 , -0.0523553 ]])"
            ]
          },
          "metadata": {
            "tags": []
          },
          "execution_count": 17
        }
      ]
    },
    {
      "cell_type": "code",
      "metadata": {
        "id": "x6Aqvv_PL1xs"
      },
      "source": [
        "# Want to make sure there are no null values in the array\r\n",
        "X_scaled = np.nan_to_num(X_scaled)"
      ],
      "execution_count": 18,
      "outputs": []
    },
    {
      "cell_type": "code",
      "metadata": {
        "colab": {
          "base_uri": "https://localhost:8080/"
        },
        "id": "hH26EfvYMVnY",
        "outputId": "2cf3d703-9b23-4cca-b97e-b1a8d9cef282"
      },
      "source": [
        "# Check my work\r\n",
        "X_scaled"
      ],
      "execution_count": 19,
      "outputs": [
        {
          "output_type": "execute_result",
          "data": {
            "text/plain": [
              "array([[ 2.5862182 , -0.0395431 ,  0.07110009, ...,  1.92960364,\n",
              "        -0.0523553 , -0.0523553 ],\n",
              "       [-0.38666498, -0.02183684,  0.07110009, ...,  1.92960364,\n",
              "        -0.0523553 , -0.0523553 ],\n",
              "       [ 2.5862182 , -0.02183684,  0.07110009, ..., -0.52576792,\n",
              "        -0.0523553 , -0.0523553 ],\n",
              "       ...,\n",
              "       [-0.38666498, -0.0395431 ,  0.07110009, ..., -0.52576792,\n",
              "        -0.0523553 , -0.0523553 ],\n",
              "       [-0.38666498, -0.0395431 ,  0.07110009, ..., -0.52576792,\n",
              "        -0.0523553 , -0.0523553 ],\n",
              "       [ 2.5862182 ,  0.10210694,  0.07110009, ..., -0.52576792,\n",
              "        -0.0523553 , -0.0523553 ]])"
            ]
          },
          "metadata": {
            "tags": []
          },
          "execution_count": 19
        }
      ]
    },
    {
      "cell_type": "markdown",
      "metadata": {
        "id": "lFcxmgwuUUao"
      },
      "source": [
        "### Train Test Split\r\n",
        "\r\n",
        "- Want to split my training data into train and test sets so that I have some data that the model has not seen before to evaluate my final model. \r\n",
        "\r\n",
        "- I am choosing to do a 90/10 split."
      ]
    },
    {
      "cell_type": "code",
      "metadata": {
        "colab": {
          "base_uri": "https://localhost:8080/"
        },
        "id": "y6ZXENzT750Y",
        "outputId": "4b3b62cf-6a0d-4db8-beb3-8fd7d86d9450"
      },
      "source": [
        "# Split my data into train and test sets\r\n",
        "X_train, X_test, y_train, y_test = train_test_split(X_scaled, y,\r\n",
        "                                                    test_size=0.1,\r\n",
        "                                                    random_state=79)\r\n",
        "\r\n",
        "# Check my work by looking at the shapes of the train and test sets\r\n",
        "print(f'X_train: {X_train.shape}\\ny_train: {y_train.shape}')\r\n",
        "print(f'X_test: {X_test.shape}\\ny_test: {y_test.shape}')"
      ],
      "execution_count": 20,
      "outputs": [
        {
          "output_type": "stream",
          "text": [
            "X_train: (16461, 189)\n",
            "y_train: (16461,)\n",
            "X_test: (1830, 189)\n",
            "y_test: (1830,)\n"
          ],
          "name": "stdout"
        }
      ]
    },
    {
      "cell_type": "markdown",
      "metadata": {
        "id": "5RYSLlGCUna1"
      },
      "source": [
        "## Baseline Model\r\n",
        "\r\n",
        "- This is just a basic (vanilla) model to get my baseline score so that I have something to compare my models to.\r\n",
        "\r\n",
        "- Instantiate a `Sequenial` model with an input layer, 1 dense layer, and an output layer.\r\n",
        "\r\n",
        "- Use `'mean_squared_error'` as my `loss` function since this is a regression problem.\r\n",
        "\r\n",
        "- Use `adam` for my `optimizer`.\r\n",
        "\r\n",
        "- Going to use `'mae'` for my metric.\r\n",
        "\r\n",
        "- Also want to have a `validation_split` on my training data because I do not want to validate against the test data until I have my final model."
      ]
    },
    {
      "cell_type": "code",
      "metadata": {
        "colab": {
          "base_uri": "https://localhost:8080/"
        },
        "id": "pDbBfsLo75yO",
        "outputId": "7c6be9f4-1ab1-456a-d16f-37ff4cb717bc"
      },
      "source": [
        "# Set up the architechure for my baseline (vanilla) model\r\n",
        "base = Sequential([\r\n",
        "        Dense(189, activation='relu', input_shape=(X_train.shape[1],)),\r\n",
        "        Dense(1)\r\n",
        "])\r\n",
        "\r\n",
        "# Compile my baseline model\r\n",
        "base.compile(loss='mean_squared_error',\r\n",
        "             optimizer='adam',\r\n",
        "             metrics=['mae'])\r\n",
        "\r\n",
        "# Fit my baseline model to get my baseline mean absolute error\r\n",
        "baseline = base.fit(X_train, y_train,\r\n",
        "                    batch_size=32,\r\n",
        "                    epochs=5,\r\n",
        "                    validation_split=0.1)"
      ],
      "execution_count": 21,
      "outputs": [
        {
          "output_type": "stream",
          "text": [
            "Epoch 1/5\n",
            "463/463 [==============================] - 3s 3ms/step - loss: 33853.7033 - mae: 111.5652 - val_loss: 10839.0410 - val_mae: 54.6666\n",
            "Epoch 2/5\n",
            "463/463 [==============================] - 1s 2ms/step - loss: 17330.0680 - mae: 53.9135 - val_loss: 10027.4541 - val_mae: 51.1431\n",
            "Epoch 3/5\n",
            "463/463 [==============================] - 1s 2ms/step - loss: 20730.3470 - mae: 52.4064 - val_loss: 9723.3076 - val_mae: 49.1231\n",
            "Epoch 4/5\n",
            "463/463 [==============================] - 1s 2ms/step - loss: 18603.6298 - mae: 50.0850 - val_loss: 9535.8740 - val_mae: 49.2274\n",
            "Epoch 5/5\n",
            "463/463 [==============================] - 1s 2ms/step - loss: 14626.4709 - mae: 48.5153 - val_loss: 9424.0234 - val_mae: 48.7918\n"
          ],
          "name": "stdout"
        }
      ]
    },
    {
      "cell_type": "code",
      "metadata": {
        "colab": {
          "base_uri": "https://localhost:8080/"
        },
        "id": "dqleCom-Qg7y",
        "outputId": "d85362da-d0bf-4a9e-c4b1-1821fb490962"
      },
      "source": [
        "# Get my baseline validation mean absolute error score\r\n",
        "base_score = baseline.history['val_mae'][-1]\r\n",
        "base_score"
      ],
      "execution_count": 22,
      "outputs": [
        {
          "output_type": "execute_result",
          "data": {
            "text/plain": [
              "48.791831970214844"
            ]
          },
          "metadata": {
            "tags": []
          },
          "execution_count": 22
        }
      ]
    },
    {
      "cell_type": "markdown",
      "metadata": {
        "id": "x4T79kT2Uz7S"
      },
      "source": [
        "## Modeling Approach #1\r\n",
        "\r\n",
        "- Create a Sequential model.\r\n",
        "\r\n",
        "- Input layer + 3 hidden layers + output layer.\r\n",
        "\r\n",
        "- Use `'relu'` as the activation function for input layer and all hidden layers and no activation for the output layer since this is a regression problem.\r\n",
        "\r\n",
        "- Start with `256` neurons and decriment each subsequent layer by half.\r\n",
        "\r\n",
        "- Going to only have `1` neuron for the output layer.\r\n",
        "\r\n",
        "- Use `'mean_squared_error'` for the `loss` function.\r\n",
        "\r\n",
        "- Use `'nadam'` for the `optimizer`.\r\n",
        "\r\n",
        "- Going to look at the `'mae'` (mean absolute error) for the measuring metric.\r\n",
        "\r\n",
        "- Going to use a `batch_size` of `64`.\r\n",
        "\r\n",
        "- Going to have the model train for `30 epochs`.\r\n",
        "\r\n",
        "- Even though I have done a train/test split already, I want to have a validation split of `10%` from the training data becuase I do not want to use the test set to evaluate on until I have my final model done."
      ]
    },
    {
      "cell_type": "code",
      "metadata": {
        "colab": {
          "base_uri": "https://localhost:8080/"
        },
        "id": "lNqSPbjnU7vu",
        "outputId": "05503896-1e7f-45d9-abc7-928c558ffdf8"
      },
      "source": [
        "# Instatiate my first model approach\r\n",
        "model1 = Sequential([\r\n",
        "            Dense(256, activation='relu', input_shape=(X_train.shape[1],)),\r\n",
        "            Dense(128, activation='relu'),\r\n",
        "            Dense(64, activation='relu'),\r\n",
        "            Dense(32, activation='relu'),\r\n",
        "            Dense(1)\r\n",
        "])\r\n",
        "\r\n",
        "# Compile my first model approach\r\n",
        "model1.compile(loss='mean_squared_error',\r\n",
        "               optimizer='nadam',\r\n",
        "               metrics=['mae'])\r\n",
        "\r\n",
        "# Fit my first model approach\r\n",
        "mod1 = model1.fit(X_train, y_train,\r\n",
        "                  batch_size=64,\r\n",
        "                  epochs=50,\r\n",
        "                  validation_split=0.1)"
      ],
      "execution_count": 23,
      "outputs": [
        {
          "output_type": "stream",
          "text": [
            "Epoch 1/50\n",
            "232/232 [==============================] - 2s 4ms/step - loss: 28491.7960 - mae: 90.5328 - val_loss: 9677.2480 - val_mae: 49.7730\n",
            "Epoch 2/50\n",
            "232/232 [==============================] - 1s 3ms/step - loss: 16765.2311 - mae: 49.6752 - val_loss: 9501.7080 - val_mae: 49.5093\n",
            "Epoch 3/50\n",
            "232/232 [==============================] - 1s 3ms/step - loss: 20035.2934 - mae: 50.7311 - val_loss: 9380.1016 - val_mae: 48.0273\n",
            "Epoch 4/50\n",
            "232/232 [==============================] - 1s 3ms/step - loss: 18153.0841 - mae: 49.6867 - val_loss: 9320.8623 - val_mae: 48.1260\n",
            "Epoch 5/50\n",
            "232/232 [==============================] - 1s 4ms/step - loss: 14379.3246 - mae: 48.2663 - val_loss: 9360.0410 - val_mae: 48.7187\n",
            "Epoch 6/50\n",
            "232/232 [==============================] - 1s 3ms/step - loss: 18725.9167 - mae: 50.1392 - val_loss: 9344.9941 - val_mae: 47.2010\n",
            "Epoch 7/50\n",
            "232/232 [==============================] - 1s 3ms/step - loss: 20750.4325 - mae: 50.2869 - val_loss: 9437.4102 - val_mae: 51.0740\n",
            "Epoch 8/50\n",
            "232/232 [==============================] - 1s 3ms/step - loss: 19375.5799 - mae: 49.1168 - val_loss: 9319.3301 - val_mae: 47.5764\n",
            "Epoch 9/50\n",
            "232/232 [==============================] - 1s 3ms/step - loss: 23180.6319 - mae: 49.4907 - val_loss: 9252.1738 - val_mae: 48.4481\n",
            "Epoch 10/50\n",
            "232/232 [==============================] - 1s 3ms/step - loss: 29439.4735 - mae: 52.2960 - val_loss: 9222.4404 - val_mae: 47.6681\n",
            "Epoch 11/50\n",
            "232/232 [==============================] - 1s 3ms/step - loss: 19755.5753 - mae: 49.1338 - val_loss: 9327.0957 - val_mae: 47.2671\n",
            "Epoch 12/50\n",
            "232/232 [==============================] - 1s 3ms/step - loss: 19108.6692 - mae: 47.3189 - val_loss: 9755.5000 - val_mae: 51.8279\n",
            "Epoch 13/50\n",
            "232/232 [==============================] - 1s 3ms/step - loss: 34591.0370 - mae: 51.5468 - val_loss: 10846.0059 - val_mae: 62.6187\n",
            "Epoch 14/50\n",
            "232/232 [==============================] - 1s 3ms/step - loss: 22488.1410 - mae: 51.3170 - val_loss: 9464.3340 - val_mae: 51.8464\n",
            "Epoch 15/50\n",
            "232/232 [==============================] - 1s 3ms/step - loss: 24061.1429 - mae: 52.4857 - val_loss: 9211.0518 - val_mae: 47.3950\n",
            "Epoch 16/50\n",
            "232/232 [==============================] - 1s 4ms/step - loss: 11817.6039 - mae: 47.3957 - val_loss: 10598.7373 - val_mae: 55.7702\n",
            "Epoch 17/50\n",
            "232/232 [==============================] - 1s 3ms/step - loss: 31758.6860 - mae: 53.5655 - val_loss: 10893.9238 - val_mae: 54.5638\n",
            "Epoch 18/50\n",
            "232/232 [==============================] - 1s 3ms/step - loss: 14653.4067 - mae: 48.4599 - val_loss: 9692.6582 - val_mae: 48.3465\n",
            "Epoch 19/50\n",
            "232/232 [==============================] - 1s 4ms/step - loss: 20181.4541 - mae: 50.3001 - val_loss: 11407.6045 - val_mae: 52.4431\n",
            "Epoch 20/50\n",
            "232/232 [==============================] - 1s 3ms/step - loss: 13404.1799 - mae: 46.4483 - val_loss: 10325.4277 - val_mae: 52.9652\n",
            "Epoch 21/50\n",
            "232/232 [==============================] - 1s 3ms/step - loss: 11242.8489 - mae: 45.8427 - val_loss: 10560.4570 - val_mae: 49.9820\n",
            "Epoch 22/50\n",
            "232/232 [==============================] - 1s 3ms/step - loss: 10906.9975 - mae: 44.7756 - val_loss: 10204.4238 - val_mae: 50.2281\n",
            "Epoch 23/50\n",
            "232/232 [==============================] - 1s 4ms/step - loss: 8968.3572 - mae: 43.6916 - val_loss: 13111.2725 - val_mae: 52.3211\n",
            "Epoch 24/50\n",
            "232/232 [==============================] - 1s 4ms/step - loss: 6953.8920 - mae: 42.5549 - val_loss: 13704.5879 - val_mae: 53.5781\n",
            "Epoch 25/50\n",
            "232/232 [==============================] - 1s 3ms/step - loss: 10822.5053 - mae: 44.8387 - val_loss: 14568.8213 - val_mae: 52.6341\n",
            "Epoch 26/50\n",
            "232/232 [==============================] - 1s 4ms/step - loss: 11212.5697 - mae: 45.4726 - val_loss: 11076.9463 - val_mae: 50.4969\n",
            "Epoch 27/50\n",
            "232/232 [==============================] - 1s 3ms/step - loss: 9075.6279 - mae: 42.5437 - val_loss: 14492.6826 - val_mae: 51.5318\n",
            "Epoch 28/50\n",
            "232/232 [==============================] - 1s 3ms/step - loss: 27739.6643 - mae: 45.9640 - val_loss: 9474.8535 - val_mae: 48.4352\n",
            "Epoch 29/50\n",
            "232/232 [==============================] - 1s 4ms/step - loss: 9298.7320 - mae: 41.8040 - val_loss: 11437.2666 - val_mae: 49.2670\n",
            "Epoch 30/50\n",
            "232/232 [==============================] - 1s 3ms/step - loss: 5801.5980 - mae: 40.2671 - val_loss: 17156.3613 - val_mae: 53.5468\n",
            "Epoch 31/50\n",
            "232/232 [==============================] - 1s 4ms/step - loss: 18892.1097 - mae: 44.9472 - val_loss: 16972.7109 - val_mae: 52.8385\n",
            "Epoch 32/50\n",
            "232/232 [==============================] - 1s 3ms/step - loss: 6656.7434 - mae: 39.5638 - val_loss: 9759.6602 - val_mae: 49.4936\n",
            "Epoch 33/50\n",
            "232/232 [==============================] - 1s 3ms/step - loss: 11822.7045 - mae: 41.2670 - val_loss: 31689.6836 - val_mae: 58.6862\n",
            "Epoch 34/50\n",
            "232/232 [==============================] - 1s 4ms/step - loss: 4228.1498 - mae: 39.3753 - val_loss: 11811.9863 - val_mae: 50.5198\n",
            "Epoch 35/50\n",
            "232/232 [==============================] - 1s 4ms/step - loss: 5604.5206 - mae: 39.0081 - val_loss: 31488.5449 - val_mae: 58.7726\n",
            "Epoch 36/50\n",
            "232/232 [==============================] - 1s 4ms/step - loss: 6369.9910 - mae: 39.0643 - val_loss: 9959.8779 - val_mae: 50.8233\n",
            "Epoch 37/50\n",
            "232/232 [==============================] - 1s 4ms/step - loss: 6250.1511 - mae: 38.9631 - val_loss: 25376.1758 - val_mae: 55.8552\n",
            "Epoch 38/50\n",
            "232/232 [==============================] - 1s 4ms/step - loss: 9676.8066 - mae: 39.3366 - val_loss: 11741.5615 - val_mae: 51.4504\n",
            "Epoch 39/50\n",
            "232/232 [==============================] - 1s 4ms/step - loss: 3349.5779 - mae: 36.8515 - val_loss: 27205.2891 - val_mae: 55.9312\n",
            "Epoch 40/50\n",
            "232/232 [==============================] - 1s 3ms/step - loss: 7203.7517 - mae: 39.3364 - val_loss: 9503.6328 - val_mae: 50.9886\n",
            "Epoch 41/50\n",
            "232/232 [==============================] - 1s 4ms/step - loss: 5002.3029 - mae: 37.5971 - val_loss: 30128.7480 - val_mae: 58.3841\n",
            "Epoch 42/50\n",
            "232/232 [==============================] - 1s 4ms/step - loss: 9355.6260 - mae: 40.4305 - val_loss: 23618.2715 - val_mae: 55.6624\n",
            "Epoch 43/50\n",
            "232/232 [==============================] - 1s 3ms/step - loss: 5349.6249 - mae: 37.4033 - val_loss: 9570.1611 - val_mae: 50.4038\n",
            "Epoch 44/50\n",
            "232/232 [==============================] - 1s 3ms/step - loss: 6635.6332 - mae: 37.5429 - val_loss: 29715.8516 - val_mae: 57.6009\n",
            "Epoch 45/50\n",
            "232/232 [==============================] - 1s 4ms/step - loss: 3833.9529 - mae: 35.2024 - val_loss: 9633.5654 - val_mae: 52.0272\n",
            "Epoch 46/50\n",
            "232/232 [==============================] - 1s 3ms/step - loss: 12759.6083 - mae: 38.5778 - val_loss: 20778.4473 - val_mae: 53.9059\n",
            "Epoch 47/50\n",
            "232/232 [==============================] - 1s 3ms/step - loss: 8858.4922 - mae: 36.7284 - val_loss: 13842.5830 - val_mae: 52.9485\n",
            "Epoch 48/50\n",
            "232/232 [==============================] - 1s 3ms/step - loss: 3798.8898 - mae: 34.2798 - val_loss: 21682.0020 - val_mae: 54.6564\n",
            "Epoch 49/50\n",
            "232/232 [==============================] - 1s 4ms/step - loss: 4155.3857 - mae: 35.2589 - val_loss: 46362.0273 - val_mae: 63.5115\n",
            "Epoch 50/50\n",
            "232/232 [==============================] - 1s 4ms/step - loss: 4355.6345 - mae: 35.7720 - val_loss: 16820.5449 - val_mae: 52.4766\n"
          ],
          "name": "stdout"
        }
      ]
    },
    {
      "cell_type": "code",
      "metadata": {
        "colab": {
          "base_uri": "https://localhost:8080/",
          "height": 404
        },
        "id": "F6xFrhzeU7oA",
        "outputId": "002e0f32-25b9-466e-c045-8d55aa2def25"
      },
      "source": [
        "# Plot out the changes per epoch for the training and validation mae\r\n",
        "plt.figure(figsize=(10,6))\r\n",
        "plt.plot(mod1.epoch, mod1.history['mae'], label='Training')\r\n",
        "plt.plot(mod1.epoch, mod1.history['val_mae'], label='Validation')\r\n",
        "plt.legend()\r\n",
        "plt.title('Model Approach #1 Model MAE scores by epoch')\r\n",
        "plt.xlabel('Epoch')\r\n",
        "plt.ylabel('Mean Absolute Error');"
      ],
      "execution_count": 24,
      "outputs": [
        {
          "output_type": "display_data",
          "data": {
            "image/png": "[encoded data removed]",
            "text/plain": [
              "<Figure size 720x432 with 1 Axes>"
            ]
          },
          "metadata": {
            "tags": [],
            "needs_background": "light"
          }
        }
      ]
    },
    {
      "cell_type": "markdown",
      "metadata": {
        "id": "TKiyJ8dOpi0H"
      },
      "source": [
        "## Modeling Approach #2\r\n",
        "- Keeping everything the same as 1st approach but I am going to change the `optimizer` to `'adam'` to see if that changes anything."
      ]
    },
    {
      "cell_type": "code",
      "metadata": {
        "colab": {
          "base_uri": "https://localhost:8080/"
        },
        "id": "Yfs1G5jg2uuv",
        "outputId": "8e326b8c-a1b0-488f-935e-93499d068e64"
      },
      "source": [
        "# Instatiate my 2nd model approach\r\n",
        "model2 = Sequential([\r\n",
        "            Dense(256, activation='relu', input_shape=(X_train.shape[1],)),\r\n",
        "            Dense(128, activation='relu'),\r\n",
        "            Dense(64, activation='relu'),\r\n",
        "            Dense(32, activation='relu'),\r\n",
        "            Dense(1)\r\n",
        "])\r\n",
        "\r\n",
        "# Compile my 2nd model approach\r\n",
        "model2.compile(loss='mean_squared_error',\r\n",
        "               optimizer='adam',\r\n",
        "               metrics=['mae'])\r\n",
        "\r\n",
        "# Fit my 2nd model approach\r\n",
        "mod2 = model2.fit(X_train, y_train,\r\n",
        "                  batch_size=64,\r\n",
        "                  epochs=50,\r\n",
        "                  validation_split=0.1)"
      ],
      "execution_count": 25,
      "outputs": [
        {
          "output_type": "stream",
          "text": [
            "Epoch 1/50\n",
            "232/232 [==============================] - 1s 3ms/step - loss: 27604.6268 - mae: 87.5138 - val_loss: 9812.4453 - val_mae: 47.6304\n",
            "Epoch 2/50\n",
            "232/232 [==============================] - 1s 2ms/step - loss: 16720.0289 - mae: 49.6304 - val_loss: 9573.7168 - val_mae: 51.6055\n",
            "Epoch 3/50\n",
            "232/232 [==============================] - 1s 3ms/step - loss: 20036.9324 - mae: 50.7510 - val_loss: 9366.7822 - val_mae: 48.9154\n",
            "Epoch 4/50\n",
            "232/232 [==============================] - 1s 2ms/step - loss: 18144.3482 - mae: 49.8055 - val_loss: 9420.2285 - val_mae: 47.7009\n",
            "Epoch 5/50\n",
            "232/232 [==============================] - 1s 2ms/step - loss: 14400.9397 - mae: 48.7180 - val_loss: 9368.4922 - val_mae: 50.5226\n",
            "Epoch 6/50\n",
            "232/232 [==============================] - 1s 2ms/step - loss: 18649.7947 - mae: 50.3442 - val_loss: 9313.9258 - val_mae: 47.6337\n",
            "Epoch 7/50\n",
            "232/232 [==============================] - 1s 2ms/step - loss: 20782.0803 - mae: 50.7269 - val_loss: 9338.0234 - val_mae: 47.8831\n",
            "Epoch 8/50\n",
            "232/232 [==============================] - 1s 2ms/step - loss: 19246.8138 - mae: 49.4411 - val_loss: 9271.7588 - val_mae: 48.6075\n",
            "Epoch 9/50\n",
            "232/232 [==============================] - 1s 3ms/step - loss: 23087.0254 - mae: 50.0749 - val_loss: 9274.4512 - val_mae: 50.1795\n",
            "Epoch 10/50\n",
            "232/232 [==============================] - 1s 3ms/step - loss: 29240.7710 - mae: 52.9351 - val_loss: 9344.8125 - val_mae: 48.1495\n",
            "Epoch 11/50\n",
            "232/232 [==============================] - 1s 3ms/step - loss: 19749.3180 - mae: 50.0008 - val_loss: 9246.3555 - val_mae: 48.0452\n",
            "Epoch 12/50\n",
            "232/232 [==============================] - 1s 2ms/step - loss: 18973.9666 - mae: 47.8585 - val_loss: 10457.3760 - val_mae: 54.9591\n",
            "Epoch 13/50\n",
            "232/232 [==============================] - 1s 2ms/step - loss: 34739.2658 - mae: 52.5931 - val_loss: 10589.6514 - val_mae: 62.9022\n",
            "Epoch 14/50\n",
            "232/232 [==============================] - 1s 2ms/step - loss: 22357.9334 - mae: 52.0815 - val_loss: 9649.3057 - val_mae: 55.3963\n",
            "Epoch 15/50\n",
            "232/232 [==============================] - 1s 2ms/step - loss: 23429.5484 - mae: 52.6495 - val_loss: 9169.5576 - val_mae: 48.4974\n",
            "Epoch 16/50\n",
            "232/232 [==============================] - 1s 2ms/step - loss: 11436.9798 - mae: 47.7115 - val_loss: 12421.9365 - val_mae: 64.9109\n",
            "Epoch 17/50\n",
            "232/232 [==============================] - 1s 2ms/step - loss: 30577.3628 - mae: 55.0383 - val_loss: 12107.5361 - val_mae: 57.4341\n",
            "Epoch 18/50\n",
            "232/232 [==============================] - 1s 2ms/step - loss: 14191.7581 - mae: 48.0457 - val_loss: 9576.6807 - val_mae: 50.3170\n",
            "Epoch 19/50\n",
            "232/232 [==============================] - 1s 2ms/step - loss: 19202.5086 - mae: 51.6124 - val_loss: 10652.1914 - val_mae: 52.3249\n",
            "Epoch 20/50\n",
            "232/232 [==============================] - 1s 2ms/step - loss: 12366.4322 - mae: 45.8163 - val_loss: 9870.5977 - val_mae: 53.7097\n",
            "Epoch 21/50\n",
            "232/232 [==============================] - 1s 2ms/step - loss: 10746.8615 - mae: 45.3366 - val_loss: 10177.0244 - val_mae: 51.8657\n",
            "Epoch 22/50\n",
            "232/232 [==============================] - 1s 3ms/step - loss: 10560.6390 - mae: 45.0267 - val_loss: 8863.4756 - val_mae: 48.5121\n",
            "Epoch 23/50\n",
            "232/232 [==============================] - 1s 3ms/step - loss: 9288.1536 - mae: 43.8789 - val_loss: 20333.9980 - val_mae: 58.4672\n",
            "Epoch 24/50\n",
            "232/232 [==============================] - 1s 3ms/step - loss: 7108.8835 - mae: 42.7166 - val_loss: 15122.6396 - val_mae: 55.4903\n",
            "Epoch 25/50\n",
            "232/232 [==============================] - 1s 2ms/step - loss: 10441.3851 - mae: 44.9518 - val_loss: 16377.9961 - val_mae: 51.7646\n",
            "Epoch 26/50\n",
            "232/232 [==============================] - 1s 2ms/step - loss: 11729.1299 - mae: 44.9499 - val_loss: 14533.6006 - val_mae: 51.3351\n",
            "Epoch 27/50\n",
            "232/232 [==============================] - 1s 2ms/step - loss: 7875.7226 - mae: 41.2065 - val_loss: 14764.5283 - val_mae: 51.2820\n",
            "Epoch 28/50\n",
            "232/232 [==============================] - 1s 2ms/step - loss: 28933.9573 - mae: 44.8117 - val_loss: 9244.7314 - val_mae: 48.4222\n",
            "Epoch 29/50\n",
            "232/232 [==============================] - 1s 2ms/step - loss: 8377.0526 - mae: 40.4224 - val_loss: 17942.1621 - val_mae: 51.4342\n",
            "Epoch 30/50\n",
            "232/232 [==============================] - 1s 2ms/step - loss: 5757.6383 - mae: 41.0061 - val_loss: 20915.0332 - val_mae: 52.0731\n",
            "Epoch 31/50\n",
            "232/232 [==============================] - 1s 2ms/step - loss: 15586.8218 - mae: 44.3703 - val_loss: 10887.5830 - val_mae: 50.3507\n",
            "Epoch 32/50\n",
            "232/232 [==============================] - 1s 2ms/step - loss: 6556.6731 - mae: 39.1739 - val_loss: 10924.1992 - val_mae: 50.3115\n",
            "Epoch 33/50\n",
            "232/232 [==============================] - 1s 2ms/step - loss: 13200.8376 - mae: 42.5426 - val_loss: 14818.7314 - val_mae: 57.7918\n",
            "Epoch 34/50\n",
            "232/232 [==============================] - 1s 3ms/step - loss: 4656.8511 - mae: 42.0697 - val_loss: 28974.4824 - val_mae: 60.6294\n",
            "Epoch 35/50\n",
            "232/232 [==============================] - 1s 2ms/step - loss: 6506.1847 - mae: 41.4638 - val_loss: 16831.3438 - val_mae: 52.7785\n",
            "Epoch 36/50\n",
            "232/232 [==============================] - 1s 2ms/step - loss: 5776.3833 - mae: 40.3404 - val_loss: 10956.6016 - val_mae: 52.8007\n",
            "Epoch 37/50\n",
            "232/232 [==============================] - 1s 2ms/step - loss: 6114.6119 - mae: 39.7050 - val_loss: 10072.1943 - val_mae: 51.3312\n",
            "Epoch 38/50\n",
            "232/232 [==============================] - 1s 2ms/step - loss: 9083.5583 - mae: 40.1431 - val_loss: 16495.7871 - val_mae: 51.0723\n",
            "Epoch 39/50\n",
            "232/232 [==============================] - 1s 3ms/step - loss: 3897.4207 - mae: 37.8091 - val_loss: 16963.8145 - val_mae: 54.4087\n",
            "Epoch 40/50\n",
            "232/232 [==============================] - 1s 2ms/step - loss: 5188.6979 - mae: 38.5394 - val_loss: 22348.6270 - val_mae: 51.9530\n",
            "Epoch 41/50\n",
            "232/232 [==============================] - 1s 2ms/step - loss: 3740.5704 - mae: 36.8752 - val_loss: 27963.8008 - val_mae: 58.5576\n",
            "Epoch 42/50\n",
            "232/232 [==============================] - 1s 2ms/step - loss: 11070.5030 - mae: 39.5359 - val_loss: 13198.1406 - val_mae: 51.3175\n",
            "Epoch 43/50\n",
            "232/232 [==============================] - 1s 2ms/step - loss: 5340.5304 - mae: 37.0197 - val_loss: 11751.8486 - val_mae: 50.3868\n",
            "Epoch 44/50\n",
            "232/232 [==============================] - 1s 3ms/step - loss: 6500.2362 - mae: 37.5546 - val_loss: 18364.3457 - val_mae: 52.7344\n",
            "Epoch 45/50\n",
            "232/232 [==============================] - 1s 3ms/step - loss: 3511.8582 - mae: 34.8859 - val_loss: 12033.1328 - val_mae: 50.9544\n",
            "Epoch 46/50\n",
            "232/232 [==============================] - 1s 3ms/step - loss: 10049.9886 - mae: 36.2549 - val_loss: 10518.6943 - val_mae: 50.5476\n",
            "Epoch 47/50\n",
            "232/232 [==============================] - 1s 2ms/step - loss: 9663.6575 - mae: 36.4731 - val_loss: 16217.4912 - val_mae: 51.9934\n",
            "Epoch 48/50\n",
            "232/232 [==============================] - 1s 2ms/step - loss: 5236.2563 - mae: 35.4679 - val_loss: 11809.3848 - val_mae: 51.0148\n",
            "Epoch 49/50\n",
            "232/232 [==============================] - 1s 2ms/step - loss: 2800.9148 - mae: 34.3633 - val_loss: 41165.5117 - val_mae: 58.6559\n",
            "Epoch 50/50\n",
            "232/232 [==============================] - 1s 2ms/step - loss: 3822.3782 - mae: 34.2539 - val_loss: 9600.4932 - val_mae: 50.5144\n"
          ],
          "name": "stdout"
        }
      ]
    },
    {
      "cell_type": "code",
      "metadata": {
        "colab": {
          "base_uri": "https://localhost:8080/",
          "height": 404
        },
        "id": "RjZM0uihpmkB",
        "outputId": "e42c72b0-d2c3-4f52-afb0-fa6cad52c25e"
      },
      "source": [
        "# Plot out the changes per epoch for the training and validation mae\r\n",
        "plt.figure(figsize=(10,6))\r\n",
        "plt.plot(mod2.epoch, mod2.history['mae'], label='Training')\r\n",
        "plt.plot(mod2.epoch, mod2.history['val_mae'], label='Validation')\r\n",
        "plt.legend()\r\n",
        "plt.title('Model Approach #2 Model MAE scores by epoch')\r\n",
        "plt.xlabel('Epoch')\r\n",
        "plt.ylabel('Mean Absolute Error');"
      ],
      "execution_count": 26,
      "outputs": [
        {
          "output_type": "display_data",
          "data": {
            "image/png": "[encoded data removed]",
            "text/plain": [
              "<Figure size 720x432 with 1 Axes>"
            ]
          },
          "metadata": {
            "tags": [],
            "needs_background": "light"
          }
        }
      ]
    },
    {
      "cell_type": "markdown",
      "metadata": {
        "id": "4agGZ7j554xA"
      },
      "source": [
        "## Modeling Approach #3\r\n",
        "- Keeping everything the same as my 2nd approach as it seems to have preform slightly better then my 1st approach but it is still overfitting.\r\n",
        "\r\n",
        "- Going to add `early stopping`.\r\n",
        "\r\n",
        "- Also going to increase the `batch_size` to `128`."
      ]
    },
    {
      "cell_type": "code",
      "metadata": {
        "id": "B4YZikhVGXna"
      },
      "source": [
        "# Create early stopping\r\n",
        "early_stop = tf.keras.callbacks.EarlyStopping(\r\n",
        "    monitor='val_mae', min_delta=0.5, patience=10, restore_best_weights=True\r\n",
        ")"
      ],
      "execution_count": 27,
      "outputs": []
    },
    {
      "cell_type": "code",
      "metadata": {
        "colab": {
          "base_uri": "https://localhost:8080/"
        },
        "id": "MKIkwx3M54xH",
        "outputId": "a30e6e3d-239b-46e4-a71c-92466926aaf7"
      },
      "source": [
        "# Instatiate my 3rd model approach\r\n",
        "model3 = Sequential([\r\n",
        "            Dense(256, activation='relu', input_shape=(X_train.shape[1],)),\r\n",
        "            Dense(128, activation='relu'),\r\n",
        "            Dense(64, activation='relu'),\r\n",
        "            Dense(32, activation='relu'),\r\n",
        "            Dense(1)\r\n",
        "])\r\n",
        "\r\n",
        "# Compile my 2nd model approach\r\n",
        "model3.compile(loss='mean_squared_error',\r\n",
        "               optimizer='adam',\r\n",
        "               metrics=['mae'])\r\n",
        "\r\n",
        "# Fit my 2nd model approach\r\n",
        "mod3 = model3.fit(X_train, y_train,\r\n",
        "                  batch_size=128,\r\n",
        "                  epochs=300,\r\n",
        "                  validation_split=0.1,\r\n",
        "                  callbacks=[early_stop])"
      ],
      "execution_count": 28,
      "outputs": [
        {
          "output_type": "stream",
          "text": [
            "Epoch 1/300\n",
            "116/116 [==============================] - 1s 3ms/step - loss: 32575.0346 - mae: 107.3793 - val_loss: 10095.2559 - val_mae: 50.1357\n",
            "Epoch 2/300\n",
            "116/116 [==============================] - 0s 3ms/step - loss: 16956.2089 - mae: 50.3947 - val_loss: 9698.1631 - val_mae: 50.5885\n",
            "Epoch 3/300\n",
            "116/116 [==============================] - 0s 3ms/step - loss: 20158.1600 - mae: 51.3414 - val_loss: 9499.1436 - val_mae: 50.3458\n",
            "Epoch 4/300\n",
            "116/116 [==============================] - 0s 3ms/step - loss: 18251.9557 - mae: 49.8599 - val_loss: 9497.6973 - val_mae: 47.5247\n",
            "Epoch 5/300\n",
            "116/116 [==============================] - 0s 3ms/step - loss: 14549.4698 - mae: 48.0893 - val_loss: 9340.2754 - val_mae: 49.0251\n",
            "Epoch 6/300\n",
            "116/116 [==============================] - 0s 3ms/step - loss: 18654.0683 - mae: 50.0051 - val_loss: 9758.7119 - val_mae: 47.5031\n",
            "Epoch 7/300\n",
            "116/116 [==============================] - 0s 3ms/step - loss: 20883.4375 - mae: 50.1877 - val_loss: 9326.0508 - val_mae: 47.9072\n",
            "Epoch 8/300\n",
            "116/116 [==============================] - 0s 3ms/step - loss: 19329.8562 - mae: 48.7803 - val_loss: 9462.0986 - val_mae: 49.0099\n",
            "Epoch 9/300\n",
            "116/116 [==============================] - 0s 3ms/step - loss: 23201.3576 - mae: 49.7349 - val_loss: 9295.8662 - val_mae: 48.6255\n",
            "Epoch 10/300\n",
            "116/116 [==============================] - 0s 3ms/step - loss: 29758.4361 - mae: 52.0614 - val_loss: 9367.2324 - val_mae: 47.4804\n",
            "Epoch 11/300\n",
            "116/116 [==============================] - 0s 3ms/step - loss: 19925.9583 - mae: 48.9535 - val_loss: 9257.9072 - val_mae: 48.4229\n",
            "Epoch 12/300\n",
            "116/116 [==============================] - 0s 3ms/step - loss: 19132.8553 - mae: 47.4114 - val_loss: 9856.4932 - val_mae: 51.7463\n",
            "Epoch 13/300\n",
            "116/116 [==============================] - 0s 3ms/step - loss: 32059.1702 - mae: 51.3692 - val_loss: 9449.6006 - val_mae: 51.1174\n",
            "Epoch 14/300\n",
            "116/116 [==============================] - 0s 3ms/step - loss: 22473.1947 - mae: 51.8351 - val_loss: 9975.7812 - val_mae: 52.3397\n"
          ],
          "name": "stdout"
        }
      ]
    },
    {
      "cell_type": "code",
      "metadata": {
        "colab": {
          "base_uri": "https://localhost:8080/",
          "height": 404
        },
        "id": "VSvHLFw754xI",
        "outputId": "0ea4fa55-35e9-4400-a5c6-4f03a17c0c30"
      },
      "source": [
        "# Plot out the changes per epoch for the training and validation mae\r\n",
        "plt.figure(figsize=(10,6))\r\n",
        "plt.plot(mod3.epoch, mod3.history['mae'], label='Training')\r\n",
        "plt.plot(mod3.epoch, mod3.history['val_mae'], label='Validation')\r\n",
        "plt.legend()\r\n",
        "plt.title('Model Approach #3 Model MAE scores by epoch')\r\n",
        "plt.xlabel('Epoch')\r\n",
        "plt.ylabel('Mean Absolute Error');"
      ],
      "execution_count": 29,
      "outputs": [
        {
          "output_type": "display_data",
          "data": {
            "image/png": "[encoded data removed]",
            "text/plain": [
              "<Figure size 720x432 with 1 Axes>"
            ]
          },
          "metadata": {
            "tags": [],
            "needs_background": "light"
          }
        }
      ]
    },
    {
      "cell_type": "markdown",
      "metadata": {
        "id": "J1ZG0URS-JC3"
      },
      "source": [
        "* This appears to be my best model thus far, however, I believe there can be improvement on this model. \r\n",
        "\r\n",
        "* At approximately a `$51 - $53` difference between the predicted value and the true value, that can make a huge difference in the real world. \r\n",
        "\r\n",
        "* When doing my EDA I did notice that there seems to be some outliers, so this is where I will start, by identifying and removing outliers, to try to improve upon this model."
      ]
    },
    {
      "cell_type": "markdown",
      "metadata": {
        "id": "ULAqwPteIKTs"
      },
      "source": [
        "## Identify and Remove Outliers\r\n",
        "- Need to identify and remove outliers in the price feature to avoid adding bias to my model.\r\n"
      ]
    },
    {
      "cell_type": "code",
      "metadata": {
        "colab": {
          "base_uri": "https://localhost:8080/"
        },
        "id": "gJuSho2uRs0w",
        "outputId": "21a4bf38-ec19-4a1c-9fdd-3772eba292a5"
      },
      "source": [
        "# Look at the stats for the price feature\r\n",
        "amsterdam_vects['price'].describe()"
      ],
      "execution_count": 30,
      "outputs": [
        {
          "output_type": "execute_result",
          "data": {
            "text/plain": [
              "count    18291.000000\n",
              "mean       153.055984\n",
              "std        163.034869\n",
              "min          0.000000\n",
              "25%         95.000000\n",
              "50%        128.000000\n",
              "75%        180.000000\n",
              "max       8000.000000\n",
              "Name: price, dtype: float64"
            ]
          },
          "metadata": {
            "tags": []
          },
          "execution_count": 30
        }
      ]
    },
    {
      "cell_type": "code",
      "metadata": {
        "colab": {
          "base_uri": "https://localhost:8080/"
        },
        "id": "y0dKRhxHXOQv",
        "outputId": "5c0f2bc2-f439-45c9-b87c-9b1800f36261"
      },
      "source": [
        "# Assign the mean for the price feature to a variable\r\n",
        "price_mean = amsterdam_vects['price'].mean()\r\n",
        "price_mean"
      ],
      "execution_count": 31,
      "outputs": [
        {
          "output_type": "execute_result",
          "data": {
            "text/plain": [
              "153.05598381717786"
            ]
          },
          "metadata": {
            "tags": []
          },
          "execution_count": 31
        }
      ]
    },
    {
      "cell_type": "code",
      "metadata": {
        "colab": {
          "base_uri": "https://localhost:8080/"
        },
        "id": "uhTBpivFXZcD",
        "outputId": "6d9cb2e8-49d0-4fa2-93fa-ccdb2eaa81df"
      },
      "source": [
        "# Assign the standard divation for the price feature to a variable\r\n",
        "price_std = amsterdam_vects['price'].std()\r\n",
        "price_std"
      ],
      "execution_count": 32,
      "outputs": [
        {
          "output_type": "execute_result",
          "data": {
            "text/plain": [
              "163.03486910521414"
            ]
          },
          "metadata": {
            "tags": []
          },
          "execution_count": 32
        }
      ]
    },
    {
      "cell_type": "code",
      "metadata": {
        "colab": {
          "base_uri": "https://localhost:8080/"
        },
        "id": "cDhfsr8ZZqTr",
        "outputId": "f74b0018-0393-4347-f5d3-9da3978d0cfe"
      },
      "source": [
        "# Get my approximate upper bounds\r\n",
        "price_mean + price_std"
      ],
      "execution_count": 33,
      "outputs": [
        {
          "output_type": "execute_result",
          "data": {
            "text/plain": [
              "316.090852922392"
            ]
          },
          "metadata": {
            "tags": []
          },
          "execution_count": 33
        }
      ]
    },
    {
      "cell_type": "code",
      "metadata": {
        "colab": {
          "base_uri": "https://localhost:8080/",
          "height": 267
        },
        "id": "4JxDqc0E1C9B",
        "outputId": "521193ec-a623-4403-e668-712b794487e2"
      },
      "source": [
        "# Look at the distribution of the prices from 0 - 700\r\n",
        "# Use this to see where my outliers are that are under 700\r\n",
        "plt.hist(amsterdam_vects['price'], 100, density=True,\r\n",
        "         facecolor='g', alpha=0.75, range=(-1, 700));"
      ],
      "execution_count": 34,
      "outputs": [
        {
          "output_type": "display_data",
          "data": {
            "image/png": "[encoded data removed]",
            "text/plain": [
              "<Figure size 432x288 with 1 Axes>"
            ]
          },
          "metadata": {
            "tags": [],
            "needs_background": "light"
          }
        }
      ]
    },
    {
      "cell_type": "code",
      "metadata": {
        "colab": {
          "base_uri": "https://localhost:8080/",
          "height": 196
        },
        "id": "R9E6YTGdVHn8",
        "outputId": "f466d0d3-3d73-4a7f-84ef-b41d1ffbe593"
      },
      "source": [
        "# Plot the stats out using a boxplot\r\n",
        "fig, ax = plt.subplots(figsize=(16, 3))\r\n",
        "ax.boxplot(amsterdam_vects['price'], 0, 'ro', 0)\r\n",
        "ax.grid(True);"
      ],
      "execution_count": 35,
      "outputs": [
        {
          "output_type": "display_data",
          "data": {
            "image/png": "[encoded data removed]",
            "text/plain": [
              "<Figure size 1152x216 with 1 Axes>"
            ]
          },
          "metadata": {
            "tags": [],
            "needs_background": "light"
          }
        }
      ]
    },
    {
      "cell_type": "code",
      "metadata": {
        "colab": {
          "base_uri": "https://localhost:8080/"
        },
        "id": "9GRF-1tjIJ33",
        "outputId": "b791031f-2f47-4df5-acdd-4f6a6be988f7"
      },
      "source": [
        "# Drop all rows where the price is less than 1250\r\n",
        "amsterdam_vects = amsterdam_vects[amsterdam_vects['price'] < 1250]\r\n",
        "amsterdam_vects.shape"
      ],
      "execution_count": 36,
      "outputs": [
        {
          "output_type": "execute_result",
          "data": {
            "text/plain": [
              "(18272, 190)"
            ]
          },
          "metadata": {
            "tags": []
          },
          "execution_count": 36
        }
      ]
    },
    {
      "cell_type": "code",
      "metadata": {
        "colab": {
          "base_uri": "https://localhost:8080/"
        },
        "id": "qx8lhDcFRGYO",
        "outputId": "22304a01-1107-4f1c-de05-b28f53cef91d"
      },
      "source": [
        "# Look at the new stats for the price feature\r\n",
        "amsterdam_vects['price'].describe()"
      ],
      "execution_count": 37,
      "outputs": [
        {
          "output_type": "execute_result",
          "data": {
            "text/plain": [
              "count    18272.000000\n",
              "mean       149.737248\n",
              "std         96.622713\n",
              "min          0.000000\n",
              "25%         95.000000\n",
              "50%        127.000000\n",
              "75%        180.000000\n",
              "max       1200.000000\n",
              "Name: price, dtype: float64"
            ]
          },
          "metadata": {
            "tags": []
          },
          "execution_count": 37
        }
      ]
    },
    {
      "cell_type": "code",
      "metadata": {
        "colab": {
          "base_uri": "https://localhost:8080/",
          "height": 196
        },
        "id": "kmoojaUSWsCH",
        "outputId": "e1d1344b-4423-45b2-d562-c420a1693a0a"
      },
      "source": [
        "# Plot the stats using a box plot\r\n",
        "fig, ax = plt.subplots(figsize=(16, 3))\r\n",
        "ax.boxplot(amsterdam_vects['price'], 0, 'ro', 0)\r\n",
        "ax.grid(True);"
      ],
      "execution_count": 38,
      "outputs": [
        {
          "output_type": "display_data",
          "data": {
            "image/png": "[encoded data removed]",
            "text/plain": [
              "<Figure size 1152x216 with 1 Axes>"
            ]
          },
          "metadata": {
            "tags": [],
            "needs_background": "light"
          }
        }
      ]
    },
    {
      "cell_type": "code",
      "metadata": {
        "colab": {
          "base_uri": "https://localhost:8080/"
        },
        "id": "q-GtE48wAXJP",
        "outputId": "cb4716f6-f2cd-4a25-916f-1f580be68348"
      },
      "source": [
        "# Since the line is pretty solid when less than 600\r\n",
        "# Drop all rows where the price is more than 600\r\n",
        "amsterdam_vects = amsterdam_vects[amsterdam_vects['price'] < 600]\r\n",
        "amsterdam_vects.shape"
      ],
      "execution_count": 39,
      "outputs": [
        {
          "output_type": "execute_result",
          "data": {
            "text/plain": [
              "(18157, 190)"
            ]
          },
          "metadata": {
            "tags": []
          },
          "execution_count": 39
        }
      ]
    },
    {
      "cell_type": "code",
      "metadata": {
        "colab": {
          "base_uri": "https://localhost:8080/"
        },
        "id": "uW7ydNJyAXJX",
        "outputId": "ae1ae1da-885b-4246-ad83-c00832a5a2de"
      },
      "source": [
        "# Look at the new stats\r\n",
        "amsterdam_vects['price'].describe()"
      ],
      "execution_count": 40,
      "outputs": [
        {
          "output_type": "execute_result",
          "data": {
            "text/plain": [
              "count    18157.000000\n",
              "mean       145.590571\n",
              "std         80.621390\n",
              "min          0.000000\n",
              "25%         95.000000\n",
              "50%        126.000000\n",
              "75%        179.000000\n",
              "max        599.000000\n",
              "Name: price, dtype: float64"
            ]
          },
          "metadata": {
            "tags": []
          },
          "execution_count": 40
        }
      ]
    },
    {
      "cell_type": "code",
      "metadata": {
        "colab": {
          "base_uri": "https://localhost:8080/",
          "height": 196
        },
        "id": "e9EswB3qAXJX",
        "outputId": "e12490a1-7390-49be-d61e-df44622656de"
      },
      "source": [
        "# Plot the new stats using a boxplot\r\n",
        "fig, ax = plt.subplots(figsize=(16, 3))\r\n",
        "ax.boxplot(amsterdam_vects['price'], 0, 'ro', 0)\r\n",
        "ax.grid(True);"
      ],
      "execution_count": 41,
      "outputs": [
        {
          "output_type": "display_data",
          "data": {
            "image/png": "[encoded data removed]",
            "text/plain": [
              "<Figure size 1152x216 with 1 Axes>"
            ]
          },
          "metadata": {
            "tags": [],
            "needs_background": "light"
          }
        }
      ]
    },
    {
      "cell_type": "markdown",
      "metadata": {
        "id": "6HhTYtctNxIL"
      },
      "source": [
        "* Still have quite a few outliers. So, going to do one more reduction."
      ]
    },
    {
      "cell_type": "code",
      "metadata": {
        "colab": {
          "base_uri": "https://localhost:8080/"
        },
        "id": "BVIV73POOPq2",
        "outputId": "b39652b7-dc5b-4f62-ead9-342c64470885"
      },
      "source": [
        "# Find out what my approximate upper bounds is\r\n",
        "price_mean + price_std"
      ],
      "execution_count": 42,
      "outputs": [
        {
          "output_type": "execute_result",
          "data": {
            "text/plain": [
              "316.090852922392"
            ]
          },
          "metadata": {
            "tags": []
          },
          "execution_count": 42
        }
      ]
    },
    {
      "cell_type": "code",
      "metadata": {
        "colab": {
          "base_uri": "https://localhost:8080/"
        },
        "id": "alLGBUB7OAUo",
        "outputId": "317389ad-b118-46b4-f4c3-440008968ae8"
      },
      "source": [
        "# Drop all rows where the price is more than 480\r\n",
        "amsterdam_vects = amsterdam_vects[amsterdam_vects['price'] < 316]\r\n",
        "amsterdam_vects.shape"
      ],
      "execution_count": 43,
      "outputs": [
        {
          "output_type": "execute_result",
          "data": {
            "text/plain": [
              "(17415, 190)"
            ]
          },
          "metadata": {
            "tags": []
          },
          "execution_count": 43
        }
      ]
    },
    {
      "cell_type": "code",
      "metadata": {
        "colab": {
          "base_uri": "https://localhost:8080/"
        },
        "id": "EENp5yhsOAUu",
        "outputId": "3b1f6be3-76e0-4ea7-939c-96b982ef8f82"
      },
      "source": [
        "# Look at the new stats\r\n",
        "amsterdam_vects['price'].describe()"
      ],
      "execution_count": 44,
      "outputs": [
        {
          "output_type": "execute_result",
          "data": {
            "text/plain": [
              "count    17415.000000\n",
              "mean       134.533391\n",
              "std         59.826549\n",
              "min          0.000000\n",
              "25%         90.000000\n",
              "50%        125.000000\n",
              "75%        170.000000\n",
              "max        315.000000\n",
              "Name: price, dtype: float64"
            ]
          },
          "metadata": {
            "tags": []
          },
          "execution_count": 44
        }
      ]
    },
    {
      "cell_type": "code",
      "metadata": {
        "colab": {
          "base_uri": "https://localhost:8080/",
          "height": 196
        },
        "id": "u-Y4-4ofOAUv",
        "outputId": "fec458f2-a29d-4e87-932f-48958ec9e202"
      },
      "source": [
        "# Plot the new stats using a boxplot\r\n",
        "fig, ax = plt.subplots(figsize=(16, 3))\r\n",
        "ax.boxplot(amsterdam_vects['price'], 0, 'ro', 0)\r\n",
        "ax.grid(True);"
      ],
      "execution_count": 45,
      "outputs": [
        {
          "output_type": "display_data",
          "data": {
            "image/png": "[encoded data removed]",
            "text/plain": [
              "<Figure size 1152x216 with 1 Axes>"
            ]
          },
          "metadata": {
            "tags": [],
            "needs_background": "light"
          }
        }
      ]
    },
    {
      "cell_type": "markdown",
      "metadata": {
        "id": "n4oG-tgLA9dD"
      },
      "source": [
        "### Re-Split Data into Target and Features\r\n",
        "\r\n",
        "- Before I can scale my data, I have to remove the target feature from my other features"
      ]
    },
    {
      "cell_type": "code",
      "metadata": {
        "colab": {
          "base_uri": "https://localhost:8080/"
        },
        "id": "k5VbZ11oA9dE",
        "outputId": "066ab087-138d-4d80-9b58-0af2e64813cb"
      },
      "source": [
        "# Seperate the features from the target\r\n",
        "y = amsterdam_vects['price']\r\n",
        "X = amsterdam_vects.drop(columns='price')\r\n",
        "\r\n",
        "# Check my work\r\n",
        "y.shape, X.shape"
      ],
      "execution_count": 46,
      "outputs": [
        {
          "output_type": "execute_result",
          "data": {
            "text/plain": [
              "((17415,), (17415, 189))"
            ]
          },
          "metadata": {
            "tags": []
          },
          "execution_count": 46
        }
      ]
    },
    {
      "cell_type": "markdown",
      "metadata": {
        "id": "rjoCoshCA9dE"
      },
      "source": [
        "### Re-Scale my Data\r\n",
        "\r\n",
        "- My data needs to be scaled to normalize it across the whole dataframe since I have document term matrices included in with the main data.\r\n",
        "\r\n",
        "- Using `StandardScaler` to scale my data."
      ]
    },
    {
      "cell_type": "code",
      "metadata": {
        "colab": {
          "base_uri": "https://localhost:8080/"
        },
        "id": "_MXH68-kA9dE",
        "outputId": "a16b5bdf-838b-49b3-b0c5-d908d6c96f44"
      },
      "source": [
        "# Instantiate the Standard Scaler\r\n",
        "scaler = StandardScaler()\r\n",
        "\r\n",
        "# Fit and transform my features dataframe with the scaler\r\n",
        "X_scaled = scaler.fit_transform(X)\r\n",
        "\r\n",
        "# Check my work\r\n",
        "print(X_scaled.shape)\r\n",
        "X_scaled"
      ],
      "execution_count": 47,
      "outputs": [
        {
          "output_type": "stream",
          "text": [
            "(17415, 189)\n"
          ],
          "name": "stdout"
        },
        {
          "output_type": "execute_result",
          "data": {
            "text/plain": [
              "array([[ 2.59086424, -0.03870533,  0.07085743, ...,  1.88551997,\n",
              "        -0.05202044, -0.05202044],\n",
              "       [-0.38597159, -0.02137169,  0.07085743, ...,  1.88551997,\n",
              "        -0.05202044, -0.05202044],\n",
              "       [ 2.59086424, -0.02137169,  0.07085743, ..., -0.53779291,\n",
              "        -0.05202044, -0.05202044],\n",
              "       ...,\n",
              "       [-0.38597159, -0.03870533,  0.07085743, ..., -0.53779291,\n",
              "        -0.05202044, -0.05202044],\n",
              "       [-0.38597159, -0.03870533,  0.07085743, ..., -0.53779291,\n",
              "        -0.05202044, -0.05202044],\n",
              "       [ 2.59086424,  0.0999638 ,  0.07085743, ..., -0.53779291,\n",
              "        -0.05202044, -0.05202044]])"
            ]
          },
          "metadata": {
            "tags": []
          },
          "execution_count": 47
        }
      ]
    },
    {
      "cell_type": "code",
      "metadata": {
        "id": "847hm5bjA9dF"
      },
      "source": [
        "# Make sure there are no null values in the array\r\n",
        "X_scaled = np.nan_to_num(X_scaled)"
      ],
      "execution_count": 48,
      "outputs": []
    },
    {
      "cell_type": "code",
      "metadata": {
        "colab": {
          "base_uri": "https://localhost:8080/"
        },
        "id": "QrugVmcFA9dF",
        "outputId": "264a4ae4-9079-4732-d580-c9a1750a19ce"
      },
      "source": [
        "X_scaled"
      ],
      "execution_count": 49,
      "outputs": [
        {
          "output_type": "execute_result",
          "data": {
            "text/plain": [
              "array([[ 2.59086424, -0.03870533,  0.07085743, ...,  1.88551997,\n",
              "        -0.05202044, -0.05202044],\n",
              "       [-0.38597159, -0.02137169,  0.07085743, ...,  1.88551997,\n",
              "        -0.05202044, -0.05202044],\n",
              "       [ 2.59086424, -0.02137169,  0.07085743, ..., -0.53779291,\n",
              "        -0.05202044, -0.05202044],\n",
              "       ...,\n",
              "       [-0.38597159, -0.03870533,  0.07085743, ..., -0.53779291,\n",
              "        -0.05202044, -0.05202044],\n",
              "       [-0.38597159, -0.03870533,  0.07085743, ..., -0.53779291,\n",
              "        -0.05202044, -0.05202044],\n",
              "       [ 2.59086424,  0.0999638 ,  0.07085743, ..., -0.53779291,\n",
              "        -0.05202044, -0.05202044]])"
            ]
          },
          "metadata": {
            "tags": []
          },
          "execution_count": 49
        }
      ]
    },
    {
      "cell_type": "markdown",
      "metadata": {
        "id": "Na5NxabVA9dF"
      },
      "source": [
        "### Redo Train Test Split\r\n",
        "\r\n",
        "- Want to split my training data into train and test sets so that I have some data that the model has not seen before to evaluate my final model. \r\n",
        "\r\n",
        "- I am choosing to do a 90/10 split."
      ]
    },
    {
      "cell_type": "code",
      "metadata": {
        "colab": {
          "base_uri": "https://localhost:8080/"
        },
        "id": "QekAImC3A9dF",
        "outputId": "3b8aabe8-bd70-4931-c67b-2acf321e274f"
      },
      "source": [
        "# Split my data into train and test sets\r\n",
        "X_train, X_test, y_train, y_test = train_test_split(X_scaled, y,\r\n",
        "                                                    test_size=0.1,\r\n",
        "                                                    random_state=79)\r\n",
        "\r\n",
        "# Check my work by looking at the shapes of the train and test sets\r\n",
        "print(f'X_train: {X_train.shape}\\ny_train: {y_train.shape}')\r\n",
        "print(f'X_test: {X_test.shape}\\ny_test: {y_test.shape}')"
      ],
      "execution_count": 50,
      "outputs": [
        {
          "output_type": "stream",
          "text": [
            "X_train: (15673, 189)\n",
            "y_train: (15673,)\n",
            "X_test: (1742, 189)\n",
            "y_test: (1742,)\n"
          ],
          "name": "stdout"
        }
      ]
    },
    {
      "cell_type": "markdown",
      "metadata": {
        "id": "fLl3vJXFO3jk"
      },
      "source": [
        "## Modeling Approach #4\r\n",
        "- Going to use the same model from approach 3 as it was my best model thus far.\r\n",
        "\r\n",
        "- Going to use the data where I have removed the outliers to see if that improves my model's prediction."
      ]
    },
    {
      "cell_type": "code",
      "metadata": {
        "id": "oHkcjW6wO3js"
      },
      "source": [
        "# Create early stopping\r\n",
        "early_stop = tf.keras.callbacks.EarlyStopping(\r\n",
        "    monitor='val_mae', min_delta=0.75, patience=10, restore_best_weights=True\r\n",
        ")"
      ],
      "execution_count": 51,
      "outputs": []
    },
    {
      "cell_type": "code",
      "metadata": {
        "colab": {
          "base_uri": "https://localhost:8080/"
        },
        "id": "WOCZXmBEO3js",
        "outputId": "de9a5016-e541-466f-8beb-05910c189ce6"
      },
      "source": [
        "# Instatiate my 4th model approach\r\n",
        "model4 = Sequential([\r\n",
        "            Dense(256, activation='relu', input_shape=(X_train.shape[1],)),\r\n",
        "            Dense(128, activation='relu'),\r\n",
        "            Dense(64, activation='relu'),\r\n",
        "            Dense(32, activation='relu'),\r\n",
        "            Dense(1)\r\n",
        "])\r\n",
        "\r\n",
        "# Compile my 2nd model approach\r\n",
        "model4.compile(loss='mean_squared_error',\r\n",
        "               optimizer='adam',\r\n",
        "               metrics=['mae'])\r\n",
        "\r\n",
        "# Fit my 2nd model approach\r\n",
        "mod4 = model4.fit(X_train, y_train,\r\n",
        "                  batch_size=128,\r\n",
        "                  epochs=300,\r\n",
        "                  validation_split=0.1,\r\n",
        "                  callbacks=[early_stop])"
      ],
      "execution_count": 52,
      "outputs": [
        {
          "output_type": "stream",
          "text": [
            "Epoch 1/300\n",
            "111/111 [==============================] - 1s 4ms/step - loss: 10750.4646 - mae: 82.0978 - val_loss: 2695.1750 - val_mae: 36.5230\n",
            "Epoch 2/300\n",
            "111/111 [==============================] - 0s 3ms/step - loss: 2195.9731 - mae: 35.2233 - val_loss: 2516.7576 - val_mae: 35.3515\n",
            "Epoch 3/300\n",
            "111/111 [==============================] - 0s 3ms/step - loss: 2053.5615 - mae: 34.1829 - val_loss: 2483.0735 - val_mae: 35.2147\n",
            "Epoch 4/300\n",
            "111/111 [==============================] - 0s 3ms/step - loss: 2027.3082 - mae: 33.7473 - val_loss: 2420.3108 - val_mae: 34.9747\n",
            "Epoch 5/300\n",
            "111/111 [==============================] - 0s 3ms/step - loss: 1996.5381 - mae: 33.8017 - val_loss: 2407.0918 - val_mae: 35.2635\n",
            "Epoch 6/300\n",
            "111/111 [==============================] - 0s 3ms/step - loss: 2072.1264 - mae: 34.5443 - val_loss: 2362.5840 - val_mae: 35.6440\n",
            "Epoch 7/300\n",
            "111/111 [==============================] - 0s 3ms/step - loss: 1983.2296 - mae: 33.5924 - val_loss: 2284.8157 - val_mae: 34.9077\n",
            "Epoch 8/300\n",
            "111/111 [==============================] - 0s 2ms/step - loss: 1938.1230 - mae: 32.9521 - val_loss: 2339.4661 - val_mae: 34.9166\n",
            "Epoch 9/300\n",
            "111/111 [==============================] - 0s 3ms/step - loss: 1843.4740 - mae: 32.5435 - val_loss: 2288.5701 - val_mae: 34.8456\n",
            "Epoch 10/300\n",
            "111/111 [==============================] - 0s 3ms/step - loss: 1820.9955 - mae: 32.3973 - val_loss: 2310.5232 - val_mae: 35.5047\n",
            "Epoch 11/300\n",
            "111/111 [==============================] - 0s 3ms/step - loss: 1844.9919 - mae: 32.5788 - val_loss: 2234.3940 - val_mae: 34.7790\n",
            "Epoch 12/300\n",
            "111/111 [==============================] - 0s 3ms/step - loss: 1760.4939 - mae: 31.8474 - val_loss: 2236.7378 - val_mae: 34.3329\n",
            "Epoch 13/300\n",
            "111/111 [==============================] - 0s 3ms/step - loss: 1742.3537 - mae: 31.7760 - val_loss: 2246.4004 - val_mae: 34.5748\n",
            "Epoch 14/300\n",
            "111/111 [==============================] - 0s 3ms/step - loss: 1722.8440 - mae: 31.6212 - val_loss: 2196.3594 - val_mae: 34.4694\n",
            "Epoch 15/300\n",
            "111/111 [==============================] - 0s 3ms/step - loss: 1679.1361 - mae: 30.9373 - val_loss: 2279.3499 - val_mae: 35.3927\n",
            "Epoch 16/300\n",
            "111/111 [==============================] - 0s 2ms/step - loss: 1560.6937 - mae: 30.1692 - val_loss: 2230.6289 - val_mae: 35.4100\n",
            "Epoch 17/300\n",
            "111/111 [==============================] - 0s 3ms/step - loss: 1551.4140 - mae: 30.0054 - val_loss: 2227.6531 - val_mae: 34.9467\n",
            "Epoch 18/300\n",
            "111/111 [==============================] - 0s 2ms/step - loss: 1508.2414 - mae: 29.3196 - val_loss: 2321.5850 - val_mae: 35.7307\n",
            "Epoch 19/300\n",
            "111/111 [==============================] - 0s 3ms/step - loss: 1501.8273 - mae: 29.6419 - val_loss: 2257.6189 - val_mae: 35.0297\n",
            "Epoch 20/300\n",
            "111/111 [==============================] - 0s 3ms/step - loss: 1431.5951 - mae: 28.7832 - val_loss: 2276.6797 - val_mae: 35.6720\n",
            "Epoch 21/300\n",
            "111/111 [==============================] - 0s 3ms/step - loss: 1388.0365 - mae: 28.3208 - val_loss: 2479.9763 - val_mae: 37.8549\n",
            "Epoch 22/300\n",
            "111/111 [==============================] - 0s 3ms/step - loss: 1363.1278 - mae: 28.1120 - val_loss: 2268.6211 - val_mae: 36.1244\n"
          ],
          "name": "stdout"
        }
      ]
    },
    {
      "cell_type": "code",
      "metadata": {
        "colab": {
          "base_uri": "https://localhost:8080/",
          "height": 404
        },
        "id": "K_8uNEygO3jt",
        "outputId": "fd54f71f-6c33-429f-f1ad-6cac0a826248"
      },
      "source": [
        "# Plot out the changes per epoch for the training and validation mae\r\n",
        "plt.figure(figsize=(10,6))\r\n",
        "plt.plot(mod4.epoch, mod4.history['mae'], label='Training')\r\n",
        "plt.plot(mod4.epoch, mod4.history['val_mae'], label='Validation')\r\n",
        "plt.legend()\r\n",
        "plt.title('Model Approach #4 Model MAE scores by epoch')\r\n",
        "plt.xlabel('Epoch')\r\n",
        "plt.ylabel('Mean Absolute Error');"
      ],
      "execution_count": 53,
      "outputs": [
        {
          "output_type": "display_data",
          "data": {
            "image/png": "[encoded data removed]",
            "text/plain": [
              "<Figure size 720x432 with 1 Axes>"
            ]
          },
          "metadata": {
            "tags": [],
            "needs_background": "light"
          }
        }
      ]
    },
    {
      "cell_type": "markdown",
      "metadata": {
        "id": "PEuktwP2FXxK"
      },
      "source": [
        "## Modeling Approach #5\r\n",
        "- Going to use the same model from approach 4.\r\n",
        "\r\n",
        "- Going to add some dropout regularization to make sure it does not overfit."
      ]
    },
    {
      "cell_type": "code",
      "metadata": {
        "id": "POzJ_tSGFXxS"
      },
      "source": [
        "# Create early stopping\r\n",
        "early_stop = tf.keras.callbacks.EarlyStopping(\r\n",
        "    monitor='val_mae', min_delta=0.75, patience=15, restore_best_weights=True\r\n",
        ")"
      ],
      "execution_count": 54,
      "outputs": []
    },
    {
      "cell_type": "code",
      "metadata": {
        "colab": {
          "base_uri": "https://localhost:8080/"
        },
        "id": "eaHDnGFmFXxT",
        "outputId": "48e51f4f-3f72-47f8-cff3-80e09e93c473"
      },
      "source": [
        "# Instatiate my 5th model approach\r\n",
        "model5 = Sequential([\r\n",
        "            Dense(256, activation='relu', input_shape=(X_train.shape[1],)),\r\n",
        "            Dropout(0.25),\r\n",
        "            Dense(128, activation='relu'),\r\n",
        "            Dropout(0.25),\r\n",
        "            Dense(64, activation='relu'),\r\n",
        "            Dropout(0.25),\r\n",
        "            Dense(32, activation='relu'),\r\n",
        "            Dense(1)\r\n",
        "])\r\n",
        "\r\n",
        "# Compile my 2nd model approach\r\n",
        "model5.compile(loss='mean_squared_error',\r\n",
        "               optimizer='adam',\r\n",
        "               metrics=['mae'])\r\n",
        "\r\n",
        "# Fit my 2nd model approach\r\n",
        "mod5 = model5.fit(X_train, y_train,\r\n",
        "                  batch_size=128,\r\n",
        "                  epochs=300,\r\n",
        "                  validation_split=0.1,\r\n",
        "                  callbacks=[early_stop])"
      ],
      "execution_count": 55,
      "outputs": [
        {
          "output_type": "stream",
          "text": [
            "Epoch 1/300\n",
            "111/111 [==============================] - 1s 4ms/step - loss: 12759.0726 - mae: 92.1203 - val_loss: 2694.9155 - val_mae: 35.8817\n",
            "Epoch 2/300\n",
            "111/111 [==============================] - 0s 3ms/step - loss: 2592.5316 - mae: 38.6731 - val_loss: 2616.7207 - val_mae: 35.0387\n",
            "Epoch 3/300\n",
            "111/111 [==============================] - 0s 3ms/step - loss: 2480.6550 - mae: 37.2848 - val_loss: 2520.9714 - val_mae: 34.8299\n",
            "Epoch 4/300\n",
            "111/111 [==============================] - 0s 3ms/step - loss: 2394.5302 - mae: 36.6698 - val_loss: 2437.5657 - val_mae: 34.6153\n",
            "Epoch 5/300\n",
            "111/111 [==============================] - 0s 3ms/step - loss: 2380.7892 - mae: 37.0030 - val_loss: 2440.5974 - val_mae: 34.7608\n",
            "Epoch 6/300\n",
            "111/111 [==============================] - 0s 3ms/step - loss: 2428.1277 - mae: 37.4138 - val_loss: 2366.8809 - val_mae: 34.8032\n",
            "Epoch 7/300\n",
            "111/111 [==============================] - 0s 3ms/step - loss: 2384.5544 - mae: 36.6282 - val_loss: 2327.7446 - val_mae: 34.5310\n",
            "Epoch 8/300\n",
            "111/111 [==============================] - 0s 3ms/step - loss: 2293.2232 - mae: 35.7193 - val_loss: 2340.2332 - val_mae: 34.5406\n",
            "Epoch 9/300\n",
            "111/111 [==============================] - 0s 3ms/step - loss: 2204.5540 - mae: 35.4673 - val_loss: 2278.1604 - val_mae: 34.3554\n",
            "Epoch 10/300\n",
            "111/111 [==============================] - 0s 3ms/step - loss: 2163.9828 - mae: 35.2013 - val_loss: 2300.4304 - val_mae: 34.6886\n",
            "Epoch 11/300\n",
            "111/111 [==============================] - 0s 3ms/step - loss: 2235.5739 - mae: 35.8925 - val_loss: 2271.5642 - val_mae: 34.3050\n",
            "Epoch 12/300\n",
            "111/111 [==============================] - 0s 3ms/step - loss: 2149.6689 - mae: 35.1396 - val_loss: 2332.8140 - val_mae: 34.6144\n",
            "Epoch 13/300\n",
            "111/111 [==============================] - 0s 3ms/step - loss: 2140.7216 - mae: 35.2813 - val_loss: 2372.2983 - val_mae: 34.9223\n",
            "Epoch 14/300\n",
            "111/111 [==============================] - 0s 3ms/step - loss: 2135.1158 - mae: 34.9777 - val_loss: 2280.5986 - val_mae: 34.2845\n",
            "Epoch 15/300\n",
            "111/111 [==============================] - 0s 3ms/step - loss: 2122.3961 - mae: 34.8553 - val_loss: 2362.1606 - val_mae: 34.7763\n",
            "Epoch 16/300\n",
            "111/111 [==============================] - 0s 3ms/step - loss: 1995.2877 - mae: 33.9162 - val_loss: 2298.2434 - val_mae: 34.6496\n",
            "Epoch 17/300\n",
            "111/111 [==============================] - 0s 3ms/step - loss: 2046.7007 - mae: 34.4758 - val_loss: 2402.2009 - val_mae: 34.9705\n",
            "Epoch 18/300\n",
            "111/111 [==============================] - 0s 3ms/step - loss: 2048.7455 - mae: 34.2082 - val_loss: 2332.3606 - val_mae: 34.6856\n",
            "Epoch 19/300\n",
            "111/111 [==============================] - 0s 3ms/step - loss: 2027.5881 - mae: 34.2911 - val_loss: 2301.4114 - val_mae: 34.5025\n",
            "Epoch 20/300\n",
            "111/111 [==============================] - 0s 3ms/step - loss: 2029.0352 - mae: 34.2219 - val_loss: 2307.9888 - val_mae: 34.4193\n",
            "Epoch 21/300\n",
            "111/111 [==============================] - 0s 3ms/step - loss: 2023.1402 - mae: 34.0079 - val_loss: 2291.1624 - val_mae: 34.3105\n",
            "Epoch 22/300\n",
            "111/111 [==============================] - 0s 3ms/step - loss: 2032.1773 - mae: 34.1974 - val_loss: 2240.8857 - val_mae: 34.5168\n",
            "Epoch 23/300\n",
            "111/111 [==============================] - 0s 3ms/step - loss: 2050.7180 - mae: 34.3344 - val_loss: 2291.0730 - val_mae: 34.5120\n",
            "Epoch 24/300\n",
            "111/111 [==============================] - 0s 3ms/step - loss: 1982.7072 - mae: 33.6111 - val_loss: 2370.6985 - val_mae: 34.7989\n",
            "Epoch 25/300\n",
            "111/111 [==============================] - 0s 3ms/step - loss: 1983.7117 - mae: 33.7043 - val_loss: 2300.8743 - val_mae: 34.5177\n",
            "Epoch 26/300\n",
            "111/111 [==============================] - 0s 3ms/step - loss: 1900.1979 - mae: 33.0045 - val_loss: 2351.7036 - val_mae: 35.0150\n",
            "Epoch 27/300\n",
            "111/111 [==============================] - 0s 3ms/step - loss: 1912.7962 - mae: 33.1986 - val_loss: 2394.9954 - val_mae: 35.2712\n",
            "Epoch 28/300\n",
            "111/111 [==============================] - 0s 3ms/step - loss: 1910.5186 - mae: 33.3281 - val_loss: 2255.5415 - val_mae: 34.3603\n",
            "Epoch 29/300\n",
            "111/111 [==============================] - 0s 3ms/step - loss: 1916.8028 - mae: 33.2919 - val_loss: 2323.9280 - val_mae: 34.7900\n"
          ],
          "name": "stdout"
        }
      ]
    },
    {
      "cell_type": "code",
      "metadata": {
        "colab": {
          "base_uri": "https://localhost:8080/",
          "height": 404
        },
        "id": "ZS7yghjvFXxT",
        "outputId": "343c4d99-0d79-4b34-fd8f-4d569f73f5e4"
      },
      "source": [
        "# Plot out the changes per epoch for the training and validation mae\r\n",
        "plt.figure(figsize=(10,6))\r\n",
        "plt.plot(mod5.epoch, mod5.history['mae'], label='Training')\r\n",
        "plt.plot(mod5.epoch, mod5.history['val_mae'], label='Validation')\r\n",
        "plt.legend()\r\n",
        "plt.title('Model Approach #5 Model MAE scores by epoch')\r\n",
        "plt.xlabel('Epoch')\r\n",
        "plt.ylabel('Mean Absolute Error');"
      ],
      "execution_count": 56,
      "outputs": [
        {
          "output_type": "display_data",
          "data": {
            "image/png": "[encoded data removed]",
            "text/plain": [
              "<Figure size 720x432 with 1 Axes>"
            ]
          },
          "metadata": {
            "tags": [],
            "needs_background": "light"
          }
        }
      ]
    },
    {
      "cell_type": "code",
      "metadata": {
        "colab": {
          "base_uri": "https://localhost:8080/"
        },
        "id": "R24MGh45fwMZ",
        "outputId": "ca9bc3b0-7cc3-4fbc-e8a3-7135ef4e7b20"
      },
      "source": [
        "# Use this model to evalute on my test set\r\n",
        "model5.evaluate(X_test, y_test)"
      ],
      "execution_count": 57,
      "outputs": [
        {
          "output_type": "stream",
          "text": [
            "55/55 [==============================] - 0s 1ms/step - loss: 2008.6069 - mae: 33.5521\n"
          ],
          "name": "stdout"
        },
        {
          "output_type": "execute_result",
          "data": {
            "text/plain": [
              "[2008.60693359375, 33.552120208740234]"
            ]
          },
          "metadata": {
            "tags": []
          },
          "execution_count": 57
        }
      ]
    },
    {
      "cell_type": "markdown",
      "metadata": {
        "id": "U8LW3ikHTwup"
      },
      "source": [
        "## Modelling Approach #6\r\n",
        "\r\n",
        "* `XGBRegressor` "
      ]
    },
    {
      "cell_type": "code",
      "metadata": {
        "colab": {
          "base_uri": "https://localhost:8080/"
        },
        "id": "69U3uvsSP2MA",
        "outputId": "38e78818-257d-4e88-fa4f-67032fb4ea88"
      },
      "source": [
        "# Instantiate the model\r\n",
        "xgbr = xgb.XGBRegressor(base_score=base_score, learning_rate=0.1, \r\n",
        "                        n_estimators=197, max_depth=21, gamma=0.5, subsample=0.5,\r\n",
        "                        random_state=79, verbosity=0)\r\n",
        "\r\n",
        "# Fit the model with an evaluation metric of `mae` for easier comparision\r\n",
        "#   to my above models.\r\n",
        "xgbr.fit(X_train, y_train, eval_metric='mae')"
      ],
      "execution_count": 58,
      "outputs": [
        {
          "output_type": "execute_result",
          "data": {
            "text/plain": [
              "XGBRegressor(base_score=48.791831970214844, booster='gbtree',\n",
              "             colsample_bylevel=1, colsample_bynode=1, colsample_bytree=1,\n",
              "             gamma=0.5, importance_type='gain', learning_rate=0.1,\n",
              "             max_delta_step=0, max_depth=21, min_child_weight=1, missing=None,\n",
              "             n_estimators=197, n_jobs=1, nthread=None, objective='reg:linear',\n",
              "             random_state=79, reg_alpha=0, reg_lambda=1, scale_pos_weight=1,\n",
              "             seed=None, silent=None, subsample=0.5, verbosity=0)"
            ]
          },
          "metadata": {
            "tags": []
          },
          "execution_count": 58
        }
      ]
    },
    {
      "cell_type": "code",
      "metadata": {
        "colab": {
          "base_uri": "https://localhost:8080/"
        },
        "id": "1OSKmUQUP2GN",
        "outputId": "a5688610-533f-4ec9-de06-a838710c65f0"
      },
      "source": [
        "# Look at my training score\r\n",
        "train_score = xgbr.score(X_train, y_train)\r\n",
        "print(f'Training Score: {train_score}')"
      ],
      "execution_count": 59,
      "outputs": [
        {
          "output_type": "stream",
          "text": [
            "Training Score: 0.9984363426595724\n"
          ],
          "name": "stdout"
        }
      ]
    },
    {
      "cell_type": "code",
      "metadata": {
        "colab": {
          "base_uri": "https://localhost:8080/"
        },
        "id": "4eXvOBTbRudm",
        "outputId": "5931f491-c3a5-4418-a4b9-75edfa390436"
      },
      "source": [
        "# Look at the cross validation score\r\n",
        "cv_score = cross_val_score(xgbr, X_train, y_train, cv=5)\r\n",
        "print(f'Mean Cross-Validation Score: {cv_score.mean():.2f}')"
      ],
      "execution_count": 60,
      "outputs": [
        {
          "output_type": "stream",
          "text": [
            "Mean Cross-Validation Score: 0.40\n"
          ],
          "name": "stdout"
        }
      ]
    },
    {
      "cell_type": "code",
      "metadata": {
        "id": "lkepAbR6AhIN"
      },
      "source": [
        "# # Look at the kfold cross validation score\r\n",
        "# kfold = KFold(n_splits=5, shuffle=True)\r\n",
        "# kf_cv_score = cross_val_score(xgbr, X_train, y_train, cv=kfold )\r\n",
        "# print(f'Mean K-fold Cross-Validation score: {kf_cv_score.mean():.2f}')"
      ],
      "execution_count": 61,
      "outputs": []
    },
    {
      "cell_type": "code",
      "metadata": {
        "colab": {
          "base_uri": "https://localhost:8080/"
        },
        "id": "XjysN02qTbIc",
        "outputId": "b93fbf34-f225-4f7e-8824-61bc345976f8"
      },
      "source": [
        "# Make a prediction on the test set and print the mean absolute error\r\n",
        "y_pred = xgbr.predict(X_test)\r\n",
        "mae = mean_absolute_error(y_test, y_pred)\r\n",
        "print(f'Mean Absolute Error for Test Set: {mae:.2f}')"
      ],
      "execution_count": 62,
      "outputs": [
        {
          "output_type": "stream",
          "text": [
            "Mean Absolute Error for Test Set: 34.16\n"
          ],
          "name": "stdout"
        }
      ]
    },
    {
      "cell_type": "code",
      "metadata": {
        "colab": {
          "base_uri": "https://localhost:8080/",
          "height": 500
        },
        "id": "GlZgFiZDTbF6",
        "outputId": "22f7e9a2-6e7d-46c7-98c7-ad1d05050e31"
      },
      "source": [
        "# Plot out the differences between the predicted values and true values\r\n",
        "#   based on the test set values.\r\n",
        "x_ax = range(150)\r\n",
        "plt.figure(figsize=(16, 8))\r\n",
        "plt.scatter(x_ax, y_test[:150], s=8, color=\"blue\", label=\"original\")\r\n",
        "plt.plot(x_ax, y_pred[:150], lw=0.8, color=\"red\", label=\"predicted\", alpha=0.75)\r\n",
        "plt.legend()\r\n",
        "plt.title('XGBRegressor Results - Predicted Price vs Actual Price\\n',\r\n",
        "          size=20, weight='bold')\r\n",
        "plt.xlabel(f'\\nIndex Number of Occurance', size=16, weight='bold')\r\n",
        "plt.ylabel(f'Price\\n', size=16, weight='bold')\r\n",
        "plt.xticks(np.arange(150, step=10), rotation=20, size=14, weight='bold')\r\n",
        "plt.yticks(np.arange(0, y_test.max(), step=25), size=14, weight='bold')\r\n",
        "plt.grid(color='grey', linestyle='--', linewidth=1);"
      ],
      "execution_count": 63,
      "outputs": [
        {
          "output_type": "display_data",
          "data": {
            "image/png": "[encoded data removed]",
            "text/plain": [
              "<Figure size 1152x576 with 1 Axes>"
            ]
          },
          "metadata": {
            "tags": [],
            "needs_background": "light"
          }
        }
      ]
    },
    {
      "cell_type": "markdown",
      "metadata": {
        "id": "STxF856isqcg"
      },
      "source": [
        "## Modelling Approach #7"
      ]
    },
    {
      "cell_type": "code",
      "metadata": {
        "colab": {
          "base_uri": "https://localhost:8080/"
        },
        "id": "AlCyMroCspMt",
        "outputId": "c8db9d50-c273-4c21-de54-e58756845ea6"
      },
      "source": [
        "# Instantiate the model\r\n",
        "xgbr = xgb.XGBRegressor(base_score=base_score, learning_rate=0.01, \r\n",
        "                        n_estimators=150, max_depth=9, gamma=0.25, subsample=0.5,\r\n",
        "                        random_state=79, verbosity=0)\r\n",
        "\r\n",
        "# Fit the model with an evaluation metric of `mae` for easier comparision\r\n",
        "#   to my above models.\r\n",
        "xgbr.fit(X_train, y_train, eval_metric='mae')"
      ],
      "execution_count": 64,
      "outputs": [
        {
          "output_type": "execute_result",
          "data": {
            "text/plain": [
              "XGBRegressor(base_score=48.791831970214844, booster='gbtree',\n",
              "             colsample_bylevel=1, colsample_bynode=1, colsample_bytree=1,\n",
              "             gamma=0.25, importance_type='gain', learning_rate=0.01,\n",
              "             max_delta_step=0, max_depth=9, min_child_weight=1, missing=None,\n",
              "             n_estimators=150, n_jobs=1, nthread=None, objective='reg:linear',\n",
              "             random_state=79, reg_alpha=0, reg_lambda=1, scale_pos_weight=1,\n",
              "             seed=None, silent=None, subsample=0.5, verbosity=0)"
            ]
          },
          "metadata": {
            "tags": []
          },
          "execution_count": 64
        }
      ]
    },
    {
      "cell_type": "code",
      "metadata": {
        "colab": {
          "base_uri": "https://localhost:8080/"
        },
        "id": "hnI92PqAspM1",
        "outputId": "742a033b-0cb6-4933-833d-18872c496abb"
      },
      "source": [
        "# Look at my training score\r\n",
        "train_score = xgbr.score(X_train, y_train)\r\n",
        "print(f'Training Score: {train_score}')"
      ],
      "execution_count": 65,
      "outputs": [
        {
          "output_type": "stream",
          "text": [
            "Training Score: 0.43062528488680146\n"
          ],
          "name": "stdout"
        }
      ]
    },
    {
      "cell_type": "code",
      "metadata": {
        "colab": {
          "base_uri": "https://localhost:8080/"
        },
        "id": "sfcdQDkGspM1",
        "outputId": "abbc5c76-6aeb-47eb-e0c0-fce30676a88e"
      },
      "source": [
        "# Look at the cross validation score\r\n",
        "cv_score = cross_val_score(xgbr, X_train, y_train, cv=9)\r\n",
        "print(f'Mean Cross-Validation Score: {cv_score.mean():.2f}')"
      ],
      "execution_count": 66,
      "outputs": [
        {
          "output_type": "stream",
          "text": [
            "Mean Cross-Validation Score: 0.31\n"
          ],
          "name": "stdout"
        }
      ]
    },
    {
      "cell_type": "code",
      "metadata": {
        "id": "VaLpTHPfspM2"
      },
      "source": [
        "# # Look at the kfold cross validation score\r\n",
        "# kfold = KFold(n_splits=9, shuffle=True)\r\n",
        "# kf_cv_score = cross_val_score(xgbr, X_train, y_train, cv=kfold )\r\n",
        "# print(f'Mean K-fold Cross-Validation score: {kf_cv_score.mean():.2f}')"
      ],
      "execution_count": 67,
      "outputs": []
    },
    {
      "cell_type": "code",
      "metadata": {
        "colab": {
          "base_uri": "https://localhost:8080/"
        },
        "id": "vHawWRMDspM2",
        "outputId": "d01d3c29-37d2-43c6-8c3c-2640c6b4dc46"
      },
      "source": [
        "# Make a prediction on the test set and print the mean absolute error\r\n",
        "y_pred = xgbr.predict(X_test)\r\n",
        "mae = mean_absolute_error(y_test, y_pred)\r\n",
        "print(f'Mean Absolute Error for Test Set: {mae:.2f}')"
      ],
      "execution_count": 68,
      "outputs": [
        {
          "output_type": "stream",
          "text": [
            "Mean Absolute Error for Test Set: 35.43\n"
          ],
          "name": "stdout"
        }
      ]
    },
    {
      "cell_type": "code",
      "metadata": {
        "colab": {
          "base_uri": "https://localhost:8080/",
          "height": 529
        },
        "id": "_wxVPumEspM2",
        "outputId": "de8de9ac-fe78-4bbc-a514-796041ab74f4"
      },
      "source": [
        "# Plot out the differences between the predicted values and true values\r\n",
        "#   based on the test set values.\r\n",
        "x_ax = range(150)\r\n",
        "plt.figure(figsize=(16, 8))\r\n",
        "plt.scatter(x_ax, y_test[:150], s=8, color=\"blue\", label=\"original\")\r\n",
        "plt.plot(x_ax, y_pred[:150], lw=0.8, color=\"red\", label=\"predicted\", alpha=0.75)\r\n",
        "plt.legend()\r\n",
        "plt.title('XGBRegressor Results - Predicted Price vs Actual Price\\n',\r\n",
        "          size=20, weight='bold')\r\n",
        "plt.xlabel(f'\\nIndex Number of Occurance', size=16, weight='bold')\r\n",
        "plt.ylabel(f'Price\\n', size=16, weight='bold')\r\n",
        "plt.xticks(np.arange(150, step=10), rotation=20, size=14, weight='bold')\r\n",
        "plt.yticks(np.arange(0, y_test.max(), step=25), size=14, weight='bold')\r\n",
        "plt.grid(color='grey', linestyle='--', linewidth=1);"
      ],
      "execution_count": 69,
      "outputs": [
        {
          "output_type": "display_data",
          "data": {
            "image/png": "[encoded data removed]",
            "text/plain": [
              "<Figure size 1152x576 with 1 Axes>"
            ]
          },
          "metadata": {
            "tags": [],
            "needs_background": "light"
          }
        }
      ]
    },
    {
      "cell_type": "code",
      "metadata": {
        "id": "TX2ZPF_ar-n0"
      },
      "source": [
        ""
      ],
      "execution_count": 69,
      "outputs": []
    }
  ]
}