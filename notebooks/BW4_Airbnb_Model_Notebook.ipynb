{
  "nbformat": 4,
  "nbformat_minor": 0,
  "metadata": {
    "colab": {
      "name": "BW4_Airbnb_Model_Notebook.ipynb",
      "provenance": [],
      "authorship_tag": "ABX9TyMvR5fYJHcggyPtC8dZtFVz"
    },
    "kernelspec": {
      "name": "python3",
      "display_name": "Python 3"
    },
    "accelerator": "GPU"
  },
  "cells": [
    {
      "cell_type": "markdown",
      "metadata": {
        "id": "izu85cS4i60l"
      },
      "source": [
        "# AirBnB Build Week Project\r\n",
        "\r\n",
        "## NLP Preprocessing\r\n",
        "\r\n",
        "#### - [My EDA Notebook](https://github.com/BW-TT-158-AirBnB/Data-Science-Unit3-and-Unit4/blob/main/notebooks/BW4_AirBnB_EDA.ipynb)\r\n",
        "\r\n",
        "#### - [My NLP Notebook](https://github.com/BW-TT-158-AirBnB/Data-Science-Unit3-and-Unit4/blob/main/notebooks/BW4_Airbnb_NLP_Notebook.ipynb)"
      ]
    },
    {
      "cell_type": "markdown",
      "metadata": {
        "id": "x_tApWTVi6xp"
      },
      "source": [
        "## Links to Raw Cleaned Files\r\n",
        "\r\n",
        "- [Text Features Only](https://raw.githubusercontent.com/BW-TT-158-AirBnB/Data-Science-Unit3-and-Unit4/main/data/amsterdam_txt_feat.csv)\r\n",
        "\r\n",
        "- [Numeric Features Only](https://raw.githubusercontent.com/BW-TT-158-AirBnB/Data-Science-Unit3-and-Unit4/main/data/amsterdam_num_feat.csv)\r\n",
        "\r\n",
        "- [Boolean Features Only](https://raw.githubusercontent.com/BW-TT-158-AirBnB/Data-Science-Unit3-and-Unit4/main/data/amsterdam_bool_feat.csv)\r\n",
        "\r\n",
        "- [Cleaned with All Features](https://raw.githubusercontent.com/BW-TT-158-AirBnB/Data-Science-Unit3-and-Unit4/main/data/amsterdam_list_clean.csv)"
      ]
    },
    {
      "cell_type": "markdown",
      "metadata": {
        "id": "MTb9RTNalLMr"
      },
      "source": [
        "## Imports"
      ]
    },
    {
      "cell_type": "code",
      "metadata": {
        "colab": {
          "base_uri": "https://localhost:8080/"
        },
        "id": "S6FbJdxvWg9J",
        "outputId": "a96757df-4fb9-4095-e0d3-5e02c96a8291"
      },
      "source": [
        "# Need to install the category_encoders package\r\n",
        "!pip install category_encoders"
      ],
      "execution_count": 1,
      "outputs": [
        {
          "output_type": "stream",
          "text": [
            "Requirement already satisfied: category_encoders in /usr/local/lib/python3.7/dist-packages (2.2.2)\n",
            "Requirement already satisfied: scipy>=1.0.0 in /usr/local/lib/python3.7/dist-packages (from category_encoders) (1.4.1)\n",
            "Requirement already satisfied: numpy>=1.14.0 in /usr/local/lib/python3.7/dist-packages (from category_encoders) (1.19.5)\n",
            "Requirement already satisfied: scikit-learn>=0.20.0 in /usr/local/lib/python3.7/dist-packages (from category_encoders) (0.22.2.post1)\n",
            "Requirement already satisfied: statsmodels>=0.9.0 in /usr/local/lib/python3.7/dist-packages (from category_encoders) (0.10.2)\n",
            "Requirement already satisfied: pandas>=0.21.1 in /usr/local/lib/python3.7/dist-packages (from category_encoders) (1.1.5)\n",
            "Requirement already satisfied: patsy>=0.5.1 in /usr/local/lib/python3.7/dist-packages (from category_encoders) (0.5.1)\n",
            "Requirement already satisfied: joblib>=0.11 in /usr/local/lib/python3.7/dist-packages (from scikit-learn>=0.20.0->category_encoders) (1.0.1)\n",
            "Requirement already satisfied: python-dateutil>=2.7.3 in /usr/local/lib/python3.7/dist-packages (from pandas>=0.21.1->category_encoders) (2.8.1)\n",
            "Requirement already satisfied: pytz>=2017.2 in /usr/local/lib/python3.7/dist-packages (from pandas>=0.21.1->category_encoders) (2018.9)\n",
            "Requirement already satisfied: six in /usr/local/lib/python3.7/dist-packages (from patsy>=0.5.1->category_encoders) (1.15.0)\n"
          ],
          "name": "stdout"
        }
      ]
    },
    {
      "cell_type": "code",
      "metadata": {
        "id": "u0GCemM6ogyL"
      },
      "source": [
        "# Standard\r\n",
        "import pandas as pd\r\n",
        "import numpy as np\r\n",
        "\r\n",
        "# Set DataFrame display options\r\n",
        "pd.set_option('display.max_rows', 200)\r\n",
        "pd.set_option('display.max_colwidth', 300)\r\n",
        "\r\n",
        "# Ignore warnings\r\n",
        "import warnings\r\n",
        "warnings.filterwarnings(\"ignore\", category=FutureWarning)\r\n",
        "\r\n",
        "# NLP\r\n",
        "import re\r\n",
        "from collections import Counter\r\n",
        "import category_encoders as ce\r\n",
        "from sklearn.feature_extraction.text import TfidfVectorizer\r\n",
        "from sklearn.preprocessing import StandardScaler\r\n",
        "from sklearn.model_selection import train_test_split\r\n",
        "\r\n",
        "# Modeling\r\n",
        "import tensorflow as tf\r\n",
        "from tensorflow.keras.models import Sequential\r\n",
        "from tensorflow.keras.layers import Dense, Dropout, LSTM\r\n",
        "import xgboost as xgb\r\n",
        "from sklearn.model_selection import cross_val_score, KFold\r\n",
        "from sklearn.metrics import mean_squared_error, mean_absolute_error\r\n",
        "from sklearn.ensemble import GradientBoostingRegressor\r\n",
        "\r\n",
        "# Set random seed for tensorflow\r\n",
        "tf.random.set_seed(79)\r\n",
        "\r\n",
        "# Plotting\r\n",
        "import matplotlib.pyplot as plt\r\n",
        "import seaborn as sns"
      ],
      "execution_count": 2,
      "outputs": []
    },
    {
      "cell_type": "markdown",
      "metadata": {
        "id": "QrOnIqU4musY"
      },
      "source": [
        "## Read in the Data\r\n",
        "\r\n",
        "- Using the full dataset that I cleaned in my EDA notebook."
      ]
    },
    {
      "cell_type": "code",
      "metadata": {
        "colab": {
          "base_uri": "https://localhost:8080/",
          "height": 1000
        },
        "id": "v0hQ4u31mtj9",
        "outputId": "97a30a3d-6474-419d-992e-4e97df0137d2"
      },
      "source": [
        "# Read in just the cleaned amsterdam file\r\n",
        "df_url = 'https://raw.githubusercontent.com/BW-TT-158-AirBnB/Data-Science-Unit3-and-Unit4/main/data/amsterdam_list_clean.csv'\r\n",
        "amsterdam = pd.read_csv(df_url)\r\n",
        "\r\n",
        "# Look at the data\r\n",
        "print(amsterdam.shape)\r\n",
        "amsterdam.head()"
      ],
      "execution_count": 3,
      "outputs": [
        {
          "output_type": "stream",
          "text": [
            "(18291, 34)\n"
          ],
          "name": "stdout"
        },
        {
          "output_type": "execute_result",
          "data": {
            "text/html": [
              "<div>\n",
              "<style scoped>\n",
              "    .dataframe tbody tr th:only-of-type {\n",
              "        vertical-align: middle;\n",
              "    }\n",
              "\n",
              "    .dataframe tbody tr th {\n",
              "        vertical-align: top;\n",
              "    }\n",
              "\n",
              "    .dataframe thead th {\n",
              "        text-align: right;\n",
              "    }\n",
              "</style>\n",
              "<table border=\"1\" class=\"dataframe\">\n",
              "  <thead>\n",
              "    <tr style=\"text-align: right;\">\n",
              "      <th></th>\n",
              "      <th>description</th>\n",
              "      <th>superhost</th>\n",
              "      <th>total_listings</th>\n",
              "      <th>profile_pic</th>\n",
              "      <th>verified_id</th>\n",
              "      <th>neighborhood</th>\n",
              "      <th>latitude</th>\n",
              "      <th>longitude</th>\n",
              "      <th>property_type</th>\n",
              "      <th>room_type</th>\n",
              "      <th>accommodates</th>\n",
              "      <th>bathrooms</th>\n",
              "      <th>bedrooms</th>\n",
              "      <th>num_of_beds</th>\n",
              "      <th>amenities</th>\n",
              "      <th>price</th>\n",
              "      <th>min_nights</th>\n",
              "      <th>max_nights</th>\n",
              "      <th>available</th>\n",
              "      <th>avail_next_30_days</th>\n",
              "      <th>avail_next_60_days</th>\n",
              "      <th>avail_next_90_days</th>\n",
              "      <th>avail_next_365_days</th>\n",
              "      <th>num_of_reviews</th>\n",
              "      <th>avg_review_score</th>\n",
              "      <th>accuracy_score</th>\n",
              "      <th>cleanliness_score</th>\n",
              "      <th>checkin_score</th>\n",
              "      <th>communication_score</th>\n",
              "      <th>location_score</th>\n",
              "      <th>value_score</th>\n",
              "      <th>instant_bookable</th>\n",
              "      <th>shared_bath</th>\n",
              "      <th>years_hosting</th>\n",
              "    </tr>\n",
              "  </thead>\n",
              "  <tbody>\n",
              "    <tr>\n",
              "      <th>0</th>\n",
              "      <td>Quiet Garden View Room &amp; Super Fast WiFi&lt;br /&gt;&lt;br /&gt;&lt;b&gt;The space&lt;/b&gt;&lt;br /&gt;I'm renting a bedroom (room overlooking the garden) in my apartment in Amsterdam, &lt;br /&gt;&lt;br /&gt;The room is located to the east of the city centre in a quiet, typical Amsterdam neighbourhood the \"Indische Buurt\". Amsterdam’s...</td>\n",
              "      <td>True</td>\n",
              "      <td>1</td>\n",
              "      <td>True</td>\n",
              "      <td>True</td>\n",
              "      <td>Oostelijk Havengebied - Indische Buurt</td>\n",
              "      <td>52.36575</td>\n",
              "      <td>4.94142</td>\n",
              "      <td>Private room in apartment</td>\n",
              "      <td>Private room</td>\n",
              "      <td>2</td>\n",
              "      <td>1.5</td>\n",
              "      <td>1.0</td>\n",
              "      <td>2.0</td>\n",
              "      <td>[\"Hangers\", \"Coffee maker\", \"Paid parking on premises\", \"Long term stays allowed\", \"First aid kit\", \"Bed linens\", \"Lock on bedroom door\", \"Private entrance\", \"Carbon monoxide alarm\", \"Dedicated workspace\", \"Host greets you\", \"Single level home\", \"Extra pillows and blankets\", \"Hot water\", \"Paid p...</td>\n",
              "      <td>59.0</td>\n",
              "      <td>3</td>\n",
              "      <td>1125</td>\n",
              "      <td>True</td>\n",
              "      <td>29</td>\n",
              "      <td>46</td>\n",
              "      <td>60</td>\n",
              "      <td>139</td>\n",
              "      <td>278</td>\n",
              "      <td>98.0</td>\n",
              "      <td>10.0</td>\n",
              "      <td>10.0</td>\n",
              "      <td>10.0</td>\n",
              "      <td>10.0</td>\n",
              "      <td>9.0</td>\n",
              "      <td>10.0</td>\n",
              "      <td>True</td>\n",
              "      <td>True</td>\n",
              "      <td>12.38</td>\n",
              "    </tr>\n",
              "    <tr>\n",
              "      <th>1</th>\n",
              "      <td>17th century Dutch townhouse in the heart of the city. no public transport needed! Located a stones throw from Rembrandt Square, Dam Square, Leidse Square and Flower Market. Walking distance from Central Station.&lt;br /&gt;Comfortable, cosy, lockable studio with comfortable bed and with private bathr...</td>\n",
              "      <td>False</td>\n",
              "      <td>2</td>\n",
              "      <td>True</td>\n",
              "      <td>True</td>\n",
              "      <td>Centrum-Oost</td>\n",
              "      <td>52.36509</td>\n",
              "      <td>4.89354</td>\n",
              "      <td>Private room in townhouse</td>\n",
              "      <td>Private room</td>\n",
              "      <td>2</td>\n",
              "      <td>1.0</td>\n",
              "      <td>1.0</td>\n",
              "      <td>1.0</td>\n",
              "      <td>[\"Essentials\", \"Bed linens\", \"Hot water\", \"Hangers\", \"Smoke alarm\", \"Heating\", \"Paid parking off premises\", \"Free street parking\", \"Refrigerator\", \"Carbon monoxide alarm\", \"Dedicated workspace\", \"Host greets you\", \"TV\", \"Wifi\", \"Hair dryer\", \"Long term stays allowed\", \"Fire extinguisher\"]</td>\n",
              "      <td>129.0</td>\n",
              "      <td>1</td>\n",
              "      <td>365</td>\n",
              "      <td>True</td>\n",
              "      <td>0</td>\n",
              "      <td>0</td>\n",
              "      <td>0</td>\n",
              "      <td>0</td>\n",
              "      <td>339</td>\n",
              "      <td>89.0</td>\n",
              "      <td>10.0</td>\n",
              "      <td>10.0</td>\n",
              "      <td>10.0</td>\n",
              "      <td>10.0</td>\n",
              "      <td>10.0</td>\n",
              "      <td>9.0</td>\n",
              "      <td>True</td>\n",
              "      <td>False</td>\n",
              "      <td>11.19</td>\n",
              "    </tr>\n",
              "    <tr>\n",
              "      <th>2</th>\n",
              "      <td>Lovely apt in Centre ( lift &amp; fireplace) near Jordaan&lt;br /&gt;&lt;br /&gt;&lt;b&gt;The space&lt;/b&gt;&lt;br /&gt;This nicely furnished, newly renovated apt  is very sunny, and spacious with 8 windows. The appliances are fairly new. There are two flat screen TVs, washing machine, dryer, dishwasher, laptop computer, Wi-fi,...</td>\n",
              "      <td>True</td>\n",
              "      <td>2</td>\n",
              "      <td>True</td>\n",
              "      <td>False</td>\n",
              "      <td>Centrum-West</td>\n",
              "      <td>52.37297</td>\n",
              "      <td>4.88339</td>\n",
              "      <td>Entire apartment</td>\n",
              "      <td>Entire home/apt</td>\n",
              "      <td>3</td>\n",
              "      <td>1.0</td>\n",
              "      <td>1.0</td>\n",
              "      <td>1.0</td>\n",
              "      <td>[\"Hangers\", \"Elevator\", \"Cooking basics\", \"Dishes and silverware\", \"Oven\", \"Coffee maker\", \"Long term stays allowed\", \"Bed linens\", \"Dishwasher\", \"Dedicated workspace\", \"Kitchen\", \"Extra pillows and blankets\", \"Hot water\", \"Heating\", \"TV\", \"Cable TV\", \"Hair dryer\", \"Microwave\", \"Essentials\", \"Sm...</td>\n",
              "      <td>125.0</td>\n",
              "      <td>14</td>\n",
              "      <td>180</td>\n",
              "      <td>True</td>\n",
              "      <td>6</td>\n",
              "      <td>36</td>\n",
              "      <td>66</td>\n",
              "      <td>251</td>\n",
              "      <td>5</td>\n",
              "      <td>100.0</td>\n",
              "      <td>10.0</td>\n",
              "      <td>10.0</td>\n",
              "      <td>10.0</td>\n",
              "      <td>10.0</td>\n",
              "      <td>10.0</td>\n",
              "      <td>10.0</td>\n",
              "      <td>False</td>\n",
              "      <td>False</td>\n",
              "      <td>11.23</td>\n",
              "    </tr>\n",
              "    <tr>\n",
              "      <th>3</th>\n",
              "      <td>Stylish and romantic houseboat on fantastic historic location with breathtaking view.  Wheelhouse, deckhouse and captains room. Central, quiet. Great breakfast, 2 vanMoof design bikes and a Canadian Canoe are included. Just read the reviews on tripadvisor for instance!&lt;br /&gt;&lt;br /&gt;&lt;b&gt;The space&lt;/b...</td>\n",
              "      <td>True</td>\n",
              "      <td>1</td>\n",
              "      <td>True</td>\n",
              "      <td>True</td>\n",
              "      <td>Centrum-West</td>\n",
              "      <td>52.38761</td>\n",
              "      <td>4.89188</td>\n",
              "      <td>Private room in houseboat</td>\n",
              "      <td>Private room</td>\n",
              "      <td>2</td>\n",
              "      <td>1.5</td>\n",
              "      <td>1.0</td>\n",
              "      <td>1.0</td>\n",
              "      <td>[\"Patio or balcony\", \"Hangers\", \"Dishes and silverware\", \"Luggage dropoff allowed\", \"Breakfast\", \"Coffee maker\", \"Lake access\", \"Long term stays allowed\", \"Private entrance\", \"Waterfront\", \"Carbon monoxide alarm\", \"Dedicated workspace\", \"Hot water\", \"Heating\", \"TV\", \"Hair dryer\", \"Essentials\", \"...</td>\n",
              "      <td>125.0</td>\n",
              "      <td>2</td>\n",
              "      <td>730</td>\n",
              "      <td>True</td>\n",
              "      <td>27</td>\n",
              "      <td>55</td>\n",
              "      <td>79</td>\n",
              "      <td>136</td>\n",
              "      <td>219</td>\n",
              "      <td>99.0</td>\n",
              "      <td>10.0</td>\n",
              "      <td>10.0</td>\n",
              "      <td>10.0</td>\n",
              "      <td>10.0</td>\n",
              "      <td>10.0</td>\n",
              "      <td>10.0</td>\n",
              "      <td>True</td>\n",
              "      <td>False</td>\n",
              "      <td>10.89</td>\n",
              "    </tr>\n",
              "    <tr>\n",
              "      <th>4</th>\n",
              "      <td>&lt;b&gt;The space&lt;/b&gt;&lt;br /&gt;In a monumental house right in the center of Amsterdam, we offer two rooms (one single room and one double room) to visitors who want to enjoy the comfort of a home-like accommodation, plus being in the middle of the historic city center, close to all important museums, sho...</td>\n",
              "      <td>True</td>\n",
              "      <td>2</td>\n",
              "      <td>True</td>\n",
              "      <td>True</td>\n",
              "      <td>Centrum-Oost</td>\n",
              "      <td>52.36610</td>\n",
              "      <td>4.88953</td>\n",
              "      <td>Private room in apartment</td>\n",
              "      <td>Private room</td>\n",
              "      <td>2</td>\n",
              "      <td>1.0</td>\n",
              "      <td>1.0</td>\n",
              "      <td>1.0</td>\n",
              "      <td>[\"Hot water\", \"Essentials\", \"Smoke alarm\", \"Hangers\", \"Heating\", \"Lock on bedroom door\", \"Private entrance\", \"Refrigerator\", \"Carbon monoxide alarm\", \"Host greets you\", \"Shampoo\", \"Wifi\", \"Hair dryer\", \"Long term stays allowed\", \"Fire extinguisher\", \"Dryer\"]</td>\n",
              "      <td>75.0</td>\n",
              "      <td>2</td>\n",
              "      <td>1825</td>\n",
              "      <td>True</td>\n",
              "      <td>30</td>\n",
              "      <td>53</td>\n",
              "      <td>78</td>\n",
              "      <td>338</td>\n",
              "      <td>336</td>\n",
              "      <td>97.0</td>\n",
              "      <td>10.0</td>\n",
              "      <td>10.0</td>\n",
              "      <td>10.0</td>\n",
              "      <td>10.0</td>\n",
              "      <td>10.0</td>\n",
              "      <td>10.0</td>\n",
              "      <td>False</td>\n",
              "      <td>True</td>\n",
              "      <td>10.75</td>\n",
              "    </tr>\n",
              "  </tbody>\n",
              "</table>\n",
              "</div>"
            ],
            "text/plain": [
              "                                                                                                                                                                                                                                                                                                   description  ...  years_hosting\n",
              "0  Quiet Garden View Room & Super Fast WiFi<br /><br /><b>The space</b><br />I'm renting a bedroom (room overlooking the garden) in my apartment in Amsterdam, <br /><br />The room is located to the east of the city centre in a quiet, typical Amsterdam neighbourhood the \"Indische Buurt\". Amsterdam’s...  ...          12.38\n",
              "1  17th century Dutch townhouse in the heart of the city. no public transport needed! Located a stones throw from Rembrandt Square, Dam Square, Leidse Square and Flower Market. Walking distance from Central Station.<br />Comfortable, cosy, lockable studio with comfortable bed and with private bathr...  ...          11.19\n",
              "2  Lovely apt in Centre ( lift & fireplace) near Jordaan<br /><br /><b>The space</b><br />This nicely furnished, newly renovated apt  is very sunny, and spacious with 8 windows. The appliances are fairly new. There are two flat screen TVs, washing machine, dryer, dishwasher, laptop computer, Wi-fi,...  ...          11.23\n",
              "3  Stylish and romantic houseboat on fantastic historic location with breathtaking view.  Wheelhouse, deckhouse and captains room. Central, quiet. Great breakfast, 2 vanMoof design bikes and a Canadian Canoe are included. Just read the reviews on tripadvisor for instance!<br /><br /><b>The space</b...  ...          10.89\n",
              "4  <b>The space</b><br />In a monumental house right in the center of Amsterdam, we offer two rooms (one single room and one double room) to visitors who want to enjoy the comfort of a home-like accommodation, plus being in the middle of the historic city center, close to all important museums, sho...  ...          10.75\n",
              "\n",
              "[5 rows x 34 columns]"
            ]
          },
          "metadata": {
            "tags": []
          },
          "execution_count": 3
        }
      ]
    },
    {
      "cell_type": "markdown",
      "metadata": {
        "id": "d8bW0wo3oR_H"
      },
      "source": [
        "## Clean a Little More to get Ready for Model\r\n",
        "\r\n",
        "- There is a little more cleaning that I need to do to get the dataset ready for input into my model. \r\n",
        "\r\n",
        "- All the features need to be converted to numerical data."
      ]
    },
    {
      "cell_type": "code",
      "metadata": {
        "colab": {
          "base_uri": "https://localhost:8080/"
        },
        "id": "9CFvBUhqrn-h",
        "outputId": "9ef4ff64-99a9-4642-cda6-773181a5357a"
      },
      "source": [
        "# Look at the stats of my dataframe\r\n",
        "amsterdam.info()"
      ],
      "execution_count": 4,
      "outputs": [
        {
          "output_type": "stream",
          "text": [
            "<class 'pandas.core.frame.DataFrame'>\n",
            "RangeIndex: 18291 entries, 0 to 18290\n",
            "Data columns (total 34 columns):\n",
            " #   Column               Non-Null Count  Dtype  \n",
            "---  ------               --------------  -----  \n",
            " 0   description          18291 non-null  object \n",
            " 1   superhost            18291 non-null  bool   \n",
            " 2   total_listings       18291 non-null  int64  \n",
            " 3   profile_pic          18291 non-null  bool   \n",
            " 4   verified_id          18291 non-null  bool   \n",
            " 5   neighborhood         18291 non-null  object \n",
            " 6   latitude             18291 non-null  float64\n",
            " 7   longitude            18291 non-null  float64\n",
            " 8   property_type        18291 non-null  object \n",
            " 9   room_type            18291 non-null  object \n",
            " 10  accommodates         18291 non-null  int64  \n",
            " 11  bathrooms            18291 non-null  float64\n",
            " 12  bedrooms             18291 non-null  float64\n",
            " 13  num_of_beds          18291 non-null  float64\n",
            " 14  amenities            18291 non-null  object \n",
            " 15  price                18291 non-null  float64\n",
            " 16  min_nights           18291 non-null  int64  \n",
            " 17  max_nights           18291 non-null  int64  \n",
            " 18  available            18291 non-null  bool   \n",
            " 19  avail_next_30_days   18291 non-null  int64  \n",
            " 20  avail_next_60_days   18291 non-null  int64  \n",
            " 21  avail_next_90_days   18291 non-null  int64  \n",
            " 22  avail_next_365_days  18291 non-null  int64  \n",
            " 23  num_of_reviews       18291 non-null  int64  \n",
            " 24  avg_review_score     18291 non-null  float64\n",
            " 25  accuracy_score       18291 non-null  float64\n",
            " 26  cleanliness_score    18291 non-null  float64\n",
            " 27  checkin_score        18291 non-null  float64\n",
            " 28  communication_score  18291 non-null  float64\n",
            " 29  location_score       18291 non-null  float64\n",
            " 30  value_score          18291 non-null  float64\n",
            " 31  instant_bookable     18291 non-null  bool   \n",
            " 32  shared_bath          18291 non-null  bool   \n",
            " 33  years_hosting        18291 non-null  float64\n",
            "dtypes: bool(6), float64(14), int64(9), object(5)\n",
            "memory usage: 4.0+ MB\n"
          ],
          "name": "stdout"
        }
      ]
    },
    {
      "cell_type": "markdown",
      "metadata": {
        "id": "Qgje1NE1v-5I"
      },
      "source": [
        "### Drop Features Not Needed Right Now\r\n",
        "\r\n",
        "- Need to drop description feature for now, will circle back if time allows.\r\n",
        "\r\n",
        "- Need to also drop a few other features that I don't think will add a lot of value to try to reduce the chance of the curse of dimensionality because I will be using Tfidf vectorizer on the text features."
      ]
    },
    {
      "cell_type": "code",
      "metadata": {
        "colab": {
          "base_uri": "https://localhost:8080/"
        },
        "id": "vwm-f3W_shyx",
        "outputId": "75f5ea7b-2676-4e38-c41c-5a200daeec38"
      },
      "source": [
        "# Drop features that are not needed right now\r\n",
        "amsterdam.drop(columns=['description', 'latitude', 'longitude', \r\n",
        "                         'property_type', 'avail_next_30_days', \r\n",
        "                         'avail_next_60_days', 'avail_next_90_days', \r\n",
        "                         'accuracy_score', 'cleanliness_score', 'checkin_score', \r\n",
        "                         'communication_score', 'location_score', 'value_score'], \r\n",
        "               inplace=True)\r\n",
        "\r\n",
        "# Check my work\r\n",
        "print(amsterdam.shape)\r\n",
        "amsterdam.info()"
      ],
      "execution_count": 5,
      "outputs": [
        {
          "output_type": "stream",
          "text": [
            "(18291, 21)\n",
            "<class 'pandas.core.frame.DataFrame'>\n",
            "RangeIndex: 18291 entries, 0 to 18290\n",
            "Data columns (total 21 columns):\n",
            " #   Column               Non-Null Count  Dtype  \n",
            "---  ------               --------------  -----  \n",
            " 0   superhost            18291 non-null  bool   \n",
            " 1   total_listings       18291 non-null  int64  \n",
            " 2   profile_pic          18291 non-null  bool   \n",
            " 3   verified_id          18291 non-null  bool   \n",
            " 4   neighborhood         18291 non-null  object \n",
            " 5   room_type            18291 non-null  object \n",
            " 6   accommodates         18291 non-null  int64  \n",
            " 7   bathrooms            18291 non-null  float64\n",
            " 8   bedrooms             18291 non-null  float64\n",
            " 9   num_of_beds          18291 non-null  float64\n",
            " 10  amenities            18291 non-null  object \n",
            " 11  price                18291 non-null  float64\n",
            " 12  min_nights           18291 non-null  int64  \n",
            " 13  max_nights           18291 non-null  int64  \n",
            " 14  available            18291 non-null  bool   \n",
            " 15  avail_next_365_days  18291 non-null  int64  \n",
            " 16  num_of_reviews       18291 non-null  int64  \n",
            " 17  avg_review_score     18291 non-null  float64\n",
            " 18  instant_bookable     18291 non-null  bool   \n",
            " 19  shared_bath          18291 non-null  bool   \n",
            " 20  years_hosting        18291 non-null  float64\n",
            "dtypes: bool(6), float64(6), int64(6), object(3)\n",
            "memory usage: 2.2+ MB\n"
          ],
          "name": "stdout"
        }
      ]
    },
    {
      "cell_type": "code",
      "metadata": {
        "colab": {
          "base_uri": "https://localhost:8080/"
        },
        "id": "XUwYvN2M1AcN",
        "outputId": "8ce7651d-f9a7-4847-e615-70d9c6e8e36a"
      },
      "source": [
        "# What is the type of the amenities feature column\r\n",
        "type(amsterdam['amenities'])"
      ],
      "execution_count": 6,
      "outputs": [
        {
          "output_type": "execute_result",
          "data": {
            "text/plain": [
              "pandas.core.series.Series"
            ]
          },
          "metadata": {
            "tags": []
          },
          "execution_count": 6
        }
      ]
    },
    {
      "cell_type": "markdown",
      "metadata": {
        "id": "1uffup8CwLmB"
      },
      "source": [
        "### Vectorize Text Features\r\n",
        "\r\n",
        "- Going to use `TfidfVectorizer` to vectorize my text features.\r\n",
        "\r\n",
        "- Then going to create a document term matrix DataFrame for each feature to merge back into the main dataset later."
      ]
    },
    {
      "cell_type": "code",
      "metadata": {
        "id": "3jGZc3KG3jWO"
      },
      "source": [
        "# Pull out just the text features for now\r\n",
        "txt_feat = amsterdam[['neighborhood', 'room_type', 'amenities']]"
      ],
      "execution_count": 7,
      "outputs": []
    },
    {
      "cell_type": "code",
      "metadata": {
        "colab": {
          "base_uri": "https://localhost:8080/",
          "height": 340
        },
        "id": "2Cj9p5L632sN",
        "outputId": "8144f5f7-e20b-4057-e3d0-a3f2ac74eab9"
      },
      "source": [
        "# Look at just the text features\r\n",
        "txt_feat.head()"
      ],
      "execution_count": 8,
      "outputs": [
        {
          "output_type": "execute_result",
          "data": {
            "text/html": [
              "<div>\n",
              "<style scoped>\n",
              "    .dataframe tbody tr th:only-of-type {\n",
              "        vertical-align: middle;\n",
              "    }\n",
              "\n",
              "    .dataframe tbody tr th {\n",
              "        vertical-align: top;\n",
              "    }\n",
              "\n",
              "    .dataframe thead th {\n",
              "        text-align: right;\n",
              "    }\n",
              "</style>\n",
              "<table border=\"1\" class=\"dataframe\">\n",
              "  <thead>\n",
              "    <tr style=\"text-align: right;\">\n",
              "      <th></th>\n",
              "      <th>neighborhood</th>\n",
              "      <th>room_type</th>\n",
              "      <th>amenities</th>\n",
              "    </tr>\n",
              "  </thead>\n",
              "  <tbody>\n",
              "    <tr>\n",
              "      <th>0</th>\n",
              "      <td>Oostelijk Havengebied - Indische Buurt</td>\n",
              "      <td>Private room</td>\n",
              "      <td>[\"Hangers\", \"Coffee maker\", \"Paid parking on premises\", \"Long term stays allowed\", \"First aid kit\", \"Bed linens\", \"Lock on bedroom door\", \"Private entrance\", \"Carbon monoxide alarm\", \"Dedicated workspace\", \"Host greets you\", \"Single level home\", \"Extra pillows and blankets\", \"Hot water\", \"Paid p...</td>\n",
              "    </tr>\n",
              "    <tr>\n",
              "      <th>1</th>\n",
              "      <td>Centrum-Oost</td>\n",
              "      <td>Private room</td>\n",
              "      <td>[\"Essentials\", \"Bed linens\", \"Hot water\", \"Hangers\", \"Smoke alarm\", \"Heating\", \"Paid parking off premises\", \"Free street parking\", \"Refrigerator\", \"Carbon monoxide alarm\", \"Dedicated workspace\", \"Host greets you\", \"TV\", \"Wifi\", \"Hair dryer\", \"Long term stays allowed\", \"Fire extinguisher\"]</td>\n",
              "    </tr>\n",
              "    <tr>\n",
              "      <th>2</th>\n",
              "      <td>Centrum-West</td>\n",
              "      <td>Entire home/apt</td>\n",
              "      <td>[\"Hangers\", \"Elevator\", \"Cooking basics\", \"Dishes and silverware\", \"Oven\", \"Coffee maker\", \"Long term stays allowed\", \"Bed linens\", \"Dishwasher\", \"Dedicated workspace\", \"Kitchen\", \"Extra pillows and blankets\", \"Hot water\", \"Heating\", \"TV\", \"Cable TV\", \"Hair dryer\", \"Microwave\", \"Essentials\", \"Sm...</td>\n",
              "    </tr>\n",
              "    <tr>\n",
              "      <th>3</th>\n",
              "      <td>Centrum-West</td>\n",
              "      <td>Private room</td>\n",
              "      <td>[\"Patio or balcony\", \"Hangers\", \"Dishes and silverware\", \"Luggage dropoff allowed\", \"Breakfast\", \"Coffee maker\", \"Lake access\", \"Long term stays allowed\", \"Private entrance\", \"Waterfront\", \"Carbon monoxide alarm\", \"Dedicated workspace\", \"Hot water\", \"Heating\", \"TV\", \"Hair dryer\", \"Essentials\", \"...</td>\n",
              "    </tr>\n",
              "    <tr>\n",
              "      <th>4</th>\n",
              "      <td>Centrum-Oost</td>\n",
              "      <td>Private room</td>\n",
              "      <td>[\"Hot water\", \"Essentials\", \"Smoke alarm\", \"Hangers\", \"Heating\", \"Lock on bedroom door\", \"Private entrance\", \"Refrigerator\", \"Carbon monoxide alarm\", \"Host greets you\", \"Shampoo\", \"Wifi\", \"Hair dryer\", \"Long term stays allowed\", \"Fire extinguisher\", \"Dryer\"]</td>\n",
              "    </tr>\n",
              "  </tbody>\n",
              "</table>\n",
              "</div>"
            ],
            "text/plain": [
              "                             neighborhood  ...                                                                                                                                                                                                                                                                                                    amenities\n",
              "0  Oostelijk Havengebied - Indische Buurt  ...  [\"Hangers\", \"Coffee maker\", \"Paid parking on premises\", \"Long term stays allowed\", \"First aid kit\", \"Bed linens\", \"Lock on bedroom door\", \"Private entrance\", \"Carbon monoxide alarm\", \"Dedicated workspace\", \"Host greets you\", \"Single level home\", \"Extra pillows and blankets\", \"Hot water\", \"Paid p...\n",
              "1                            Centrum-Oost  ...            [\"Essentials\", \"Bed linens\", \"Hot water\", \"Hangers\", \"Smoke alarm\", \"Heating\", \"Paid parking off premises\", \"Free street parking\", \"Refrigerator\", \"Carbon monoxide alarm\", \"Dedicated workspace\", \"Host greets you\", \"TV\", \"Wifi\", \"Hair dryer\", \"Long term stays allowed\", \"Fire extinguisher\"]\n",
              "2                            Centrum-West  ...  [\"Hangers\", \"Elevator\", \"Cooking basics\", \"Dishes and silverware\", \"Oven\", \"Coffee maker\", \"Long term stays allowed\", \"Bed linens\", \"Dishwasher\", \"Dedicated workspace\", \"Kitchen\", \"Extra pillows and blankets\", \"Hot water\", \"Heating\", \"TV\", \"Cable TV\", \"Hair dryer\", \"Microwave\", \"Essentials\", \"Sm...\n",
              "3                            Centrum-West  ...  [\"Patio or balcony\", \"Hangers\", \"Dishes and silverware\", \"Luggage dropoff allowed\", \"Breakfast\", \"Coffee maker\", \"Lake access\", \"Long term stays allowed\", \"Private entrance\", \"Waterfront\", \"Carbon monoxide alarm\", \"Dedicated workspace\", \"Hot water\", \"Heating\", \"TV\", \"Hair dryer\", \"Essentials\", \"...\n",
              "4                            Centrum-Oost  ...                                           [\"Hot water\", \"Essentials\", \"Smoke alarm\", \"Hangers\", \"Heating\", \"Lock on bedroom door\", \"Private entrance\", \"Refrigerator\", \"Carbon monoxide alarm\", \"Host greets you\", \"Shampoo\", \"Wifi\", \"Hair dryer\", \"Long term stays allowed\", \"Fire extinguisher\", \"Dryer\"]\n",
              "\n",
              "[5 rows x 3 columns]"
            ]
          },
          "metadata": {
            "tags": []
          },
          "execution_count": 8
        }
      ]
    },
    {
      "cell_type": "code",
      "metadata": {
        "id": "ZVkR6a466rbS"
      },
      "source": [
        "# Instantiate the Tfidf Vectorizer to vectorize the amenities feature \r\n",
        "tfidf = TfidfVectorizer(\r\n",
        "    lowercase=True,\r\n",
        "    stop_words='english',\r\n",
        "    min_df=300,\r\n",
        "    max_df=0.6,\r\n",
        "    ngram_range=(2, 3),\r\n",
        "    max_features=100\r\n",
        ")\r\n",
        "\r\n",
        "# Fit the Tfidf vectorizer to just the amenities feature and create a dataframe\r\n",
        "#   with the resulting document term matrix\r\n",
        "dtm_amen = tfidf.fit_transform(txt_feat['amenities'])\r\n",
        "dtm_amen = pd.DataFrame(dtm_amen.todense(), columns=tfidf.get_feature_names())\r\n",
        "\r\n",
        "# Instantiate the Tfidf Vectorizer to vectorize the neighborhood feature\r\n",
        "tfidf = TfidfVectorizer(\r\n",
        "    lowercase=True,\r\n",
        "    stop_words='english',\r\n",
        "    min_df=5,\r\n",
        "    max_df=0.90,\r\n",
        "    ngram_range=(1, 3)\r\n",
        ")\r\n",
        "\r\n",
        "# Fit the Tfidf vectorizer to just the neighborhood feature and create a \r\n",
        "#   dataframe with the resulting document term matrix\r\n",
        "dtm_neigh = tfidf.fit_transform(txt_feat['neighborhood'])\r\n",
        "dtm_neigh = pd.DataFrame(dtm_neigh.todense(), columns=tfidf.get_feature_names())\r\n",
        "\r\n",
        "# Instantiate the Tfidf Vectorizer to vectorize the room_type feature\r\n",
        "tfidf = TfidfVectorizer(\r\n",
        "    lowercase=True,\r\n",
        "    stop_words='english',\r\n",
        "    min_df=5,\r\n",
        "    max_df=0.95,\r\n",
        "    ngram_range=(1, 3)\r\n",
        ")\r\n",
        "\r\n",
        "# Fit the Tfid vecorizer to just the room_type feature and create a dataframe\r\n",
        "#   with the resulting document term matrix\r\n",
        "dtm_room = tfidf.fit_transform(txt_feat['room_type'])\r\n",
        "dtm_room = pd.DataFrame(dtm_room.todense(), columns=tfidf.get_feature_names())"
      ],
      "execution_count": 9,
      "outputs": []
    },
    {
      "cell_type": "code",
      "metadata": {
        "colab": {
          "base_uri": "https://localhost:8080/",
          "height": 304
        },
        "id": "qte5fk7C2UyM",
        "outputId": "c0a949e4-ebfd-453c-9284-79363c69c77b"
      },
      "source": [
        "# Look at the amenities feature document term matrix\r\n",
        "print(dtm_amen.shape)\r\n",
        "dtm_amen.head()"
      ],
      "execution_count": 10,
      "outputs": [
        {
          "output_type": "stream",
          "text": [
            "(18291, 100)\n"
          ],
          "name": "stdout"
        },
        {
          "output_type": "execute_result",
          "data": {
            "text/html": [
              "<div>\n",
              "<style scoped>\n",
              "    .dataframe tbody tr th:only-of-type {\n",
              "        vertical-align: middle;\n",
              "    }\n",
              "\n",
              "    .dataframe tbody tr th {\n",
              "        vertical-align: top;\n",
              "    }\n",
              "\n",
              "    .dataframe thead th {\n",
              "        text-align: right;\n",
              "    }\n",
              "</style>\n",
              "<table border=\"1\" class=\"dataframe\">\n",
              "  <thead>\n",
              "    <tr style=\"text-align: right;\">\n",
              "      <th></th>\n",
              "      <th>aid kit</th>\n",
              "      <th>alarm dedicated</th>\n",
              "      <th>alarm dedicated workspace</th>\n",
              "      <th>alarm kitchen</th>\n",
              "      <th>alarm stove</th>\n",
              "      <th>alarm stove washer</th>\n",
              "      <th>allowed aid</th>\n",
              "      <th>allowed aid kit</th>\n",
              "      <th>balcony hangers</th>\n",
              "      <th>basics dishes</th>\n",
              "      <th>basics dishes silverware</th>\n",
              "      <th>bed linens</th>\n",
              "      <th>cable tv</th>\n",
              "      <th>cable tv wifi</th>\n",
              "      <th>carbon monoxide</th>\n",
              "      <th>carbon monoxide alarm</th>\n",
              "      <th>coffee maker</th>\n",
              "      <th>coffee maker long</th>\n",
              "      <th>cooking basics</th>\n",
              "      <th>cooking basics dishes</th>\n",
              "      <th>dedicated workspace host</th>\n",
              "      <th>dishes silverware</th>\n",
              "      <th>dishes silverware oven</th>\n",
              "      <th>dishwasher carbon</th>\n",
              "      <th>dishwasher carbon monoxide</th>\n",
              "      <th>dropoff allowed</th>\n",
              "      <th>dryer long</th>\n",
              "      <th>dryer long term</th>\n",
              "      <th>dryer microwave</th>\n",
              "      <th>dryer microwave essentials</th>\n",
              "      <th>extinguisher dryer</th>\n",
              "      <th>extra pillows</th>\n",
              "      <th>extra pillows blankets</th>\n",
              "      <th>hair dryer long</th>\n",
              "      <th>hair dryer microwave</th>\n",
              "      <th>hangers cooking</th>\n",
              "      <th>hangers cooking basics</th>\n",
              "      <th>hangers washer</th>\n",
              "      <th>hangers washer heating</th>\n",
              "      <th>heating tv</th>\n",
              "      <th>...</th>\n",
              "      <th>paid parking</th>\n",
              "      <th>paid parking premises</th>\n",
              "      <th>parking premises</th>\n",
              "      <th>parking premises heating</th>\n",
              "      <th>patio balcony</th>\n",
              "      <th>patio balcony hangers</th>\n",
              "      <th>pillows blankets</th>\n",
              "      <th>premises heating</th>\n",
              "      <th>private entrance</th>\n",
              "      <th>refrigerator iron</th>\n",
              "      <th>refrigerator iron shampoo</th>\n",
              "      <th>shampoo tv</th>\n",
              "      <th>shampoo wifi</th>\n",
              "      <th>shampoo wifi extinguisher</th>\n",
              "      <th>silverware oven</th>\n",
              "      <th>silverware oven coffee</th>\n",
              "      <th>smoke alarm stove</th>\n",
              "      <th>stays allowed aid</th>\n",
              "      <th>stove washer</th>\n",
              "      <th>stove washer refrigerator</th>\n",
              "      <th>tv cable</th>\n",
              "      <th>tv cable tv</th>\n",
              "      <th>tv hair</th>\n",
              "      <th>tv hair dryer</th>\n",
              "      <th>tv wifi</th>\n",
              "      <th>tv wifi hair</th>\n",
              "      <th>tv wifi kitchen</th>\n",
              "      <th>washer heating</th>\n",
              "      <th>washer refrigerator</th>\n",
              "      <th>washer refrigerator iron</th>\n",
              "      <th>water heating</th>\n",
              "      <th>water paid</th>\n",
              "      <th>water paid parking</th>\n",
              "      <th>wifi extinguisher</th>\n",
              "      <th>wifi hair</th>\n",
              "      <th>wifi hair dryer</th>\n",
              "      <th>wifi kitchen</th>\n",
              "      <th>wifi kitchen long</th>\n",
              "      <th>workspace host</th>\n",
              "      <th>workspace host greets</th>\n",
              "    </tr>\n",
              "  </thead>\n",
              "  <tbody>\n",
              "    <tr>\n",
              "      <th>0</th>\n",
              "      <td>0.125067</td>\n",
              "      <td>0.141336</td>\n",
              "      <td>0.141336</td>\n",
              "      <td>0.0</td>\n",
              "      <td>0.000000</td>\n",
              "      <td>0.000000</td>\n",
              "      <td>0.17278</td>\n",
              "      <td>0.17278</td>\n",
              "      <td>0.000000</td>\n",
              "      <td>0.000000</td>\n",
              "      <td>0.000000</td>\n",
              "      <td>0.129064</td>\n",
              "      <td>0.000000</td>\n",
              "      <td>0.0</td>\n",
              "      <td>0.118476</td>\n",
              "      <td>0.118476</td>\n",
              "      <td>0.119876</td>\n",
              "      <td>0.000000</td>\n",
              "      <td>0.000000</td>\n",
              "      <td>0.000000</td>\n",
              "      <td>0.164755</td>\n",
              "      <td>0.000000</td>\n",
              "      <td>0.000000</td>\n",
              "      <td>0.0</td>\n",
              "      <td>0.0</td>\n",
              "      <td>0.000000</td>\n",
              "      <td>0.000000</td>\n",
              "      <td>0.000000</td>\n",
              "      <td>0.000000</td>\n",
              "      <td>0.000000</td>\n",
              "      <td>0.000000</td>\n",
              "      <td>0.176138</td>\n",
              "      <td>0.176138</td>\n",
              "      <td>0.000000</td>\n",
              "      <td>0.000000</td>\n",
              "      <td>0.0</td>\n",
              "      <td>0.0</td>\n",
              "      <td>0.0</td>\n",
              "      <td>0.0</td>\n",
              "      <td>0.000000</td>\n",
              "      <td>...</td>\n",
              "      <td>0.288245</td>\n",
              "      <td>0.289143</td>\n",
              "      <td>0.251781</td>\n",
              "      <td>0.167902</td>\n",
              "      <td>0.000000</td>\n",
              "      <td>0.000000</td>\n",
              "      <td>0.176138</td>\n",
              "      <td>0.167739</td>\n",
              "      <td>0.127783</td>\n",
              "      <td>0.136591</td>\n",
              "      <td>0.183442</td>\n",
              "      <td>0.0</td>\n",
              "      <td>0.000000</td>\n",
              "      <td>0.000000</td>\n",
              "      <td>0.000000</td>\n",
              "      <td>0.000000</td>\n",
              "      <td>0.000000</td>\n",
              "      <td>0.173173</td>\n",
              "      <td>0.000000</td>\n",
              "      <td>0.000000</td>\n",
              "      <td>0.000000</td>\n",
              "      <td>0.000000</td>\n",
              "      <td>0.000000</td>\n",
              "      <td>0.000000</td>\n",
              "      <td>0.000000</td>\n",
              "      <td>0.000000</td>\n",
              "      <td>0.0</td>\n",
              "      <td>0.0</td>\n",
              "      <td>0.156084</td>\n",
              "      <td>0.165764</td>\n",
              "      <td>0.000000</td>\n",
              "      <td>0.175583</td>\n",
              "      <td>0.175603</td>\n",
              "      <td>0.159275</td>\n",
              "      <td>0.000000</td>\n",
              "      <td>0.000000</td>\n",
              "      <td>0.0</td>\n",
              "      <td>0.0</td>\n",
              "      <td>0.164755</td>\n",
              "      <td>0.164755</td>\n",
              "    </tr>\n",
              "    <tr>\n",
              "      <th>1</th>\n",
              "      <td>0.000000</td>\n",
              "      <td>0.208325</td>\n",
              "      <td>0.208325</td>\n",
              "      <td>0.0</td>\n",
              "      <td>0.000000</td>\n",
              "      <td>0.000000</td>\n",
              "      <td>0.00000</td>\n",
              "      <td>0.00000</td>\n",
              "      <td>0.000000</td>\n",
              "      <td>0.000000</td>\n",
              "      <td>0.000000</td>\n",
              "      <td>0.190236</td>\n",
              "      <td>0.000000</td>\n",
              "      <td>0.0</td>\n",
              "      <td>0.174631</td>\n",
              "      <td>0.174631</td>\n",
              "      <td>0.000000</td>\n",
              "      <td>0.000000</td>\n",
              "      <td>0.000000</td>\n",
              "      <td>0.000000</td>\n",
              "      <td>0.242845</td>\n",
              "      <td>0.000000</td>\n",
              "      <td>0.000000</td>\n",
              "      <td>0.0</td>\n",
              "      <td>0.0</td>\n",
              "      <td>0.000000</td>\n",
              "      <td>0.246499</td>\n",
              "      <td>0.246499</td>\n",
              "      <td>0.000000</td>\n",
              "      <td>0.000000</td>\n",
              "      <td>0.000000</td>\n",
              "      <td>0.000000</td>\n",
              "      <td>0.000000</td>\n",
              "      <td>0.246870</td>\n",
              "      <td>0.000000</td>\n",
              "      <td>0.0</td>\n",
              "      <td>0.0</td>\n",
              "      <td>0.0</td>\n",
              "      <td>0.0</td>\n",
              "      <td>0.000000</td>\n",
              "      <td>...</td>\n",
              "      <td>0.212432</td>\n",
              "      <td>0.213094</td>\n",
              "      <td>0.185559</td>\n",
              "      <td>0.000000</td>\n",
              "      <td>0.000000</td>\n",
              "      <td>0.000000</td>\n",
              "      <td>0.000000</td>\n",
              "      <td>0.000000</td>\n",
              "      <td>0.000000</td>\n",
              "      <td>0.000000</td>\n",
              "      <td>0.000000</td>\n",
              "      <td>0.0</td>\n",
              "      <td>0.000000</td>\n",
              "      <td>0.000000</td>\n",
              "      <td>0.000000</td>\n",
              "      <td>0.000000</td>\n",
              "      <td>0.000000</td>\n",
              "      <td>0.000000</td>\n",
              "      <td>0.000000</td>\n",
              "      <td>0.000000</td>\n",
              "      <td>0.000000</td>\n",
              "      <td>0.000000</td>\n",
              "      <td>0.000000</td>\n",
              "      <td>0.000000</td>\n",
              "      <td>0.189531</td>\n",
              "      <td>0.244512</td>\n",
              "      <td>0.0</td>\n",
              "      <td>0.0</td>\n",
              "      <td>0.000000</td>\n",
              "      <td>0.000000</td>\n",
              "      <td>0.000000</td>\n",
              "      <td>0.000000</td>\n",
              "      <td>0.000000</td>\n",
              "      <td>0.000000</td>\n",
              "      <td>0.212524</td>\n",
              "      <td>0.212524</td>\n",
              "      <td>0.0</td>\n",
              "      <td>0.0</td>\n",
              "      <td>0.242845</td>\n",
              "      <td>0.242845</td>\n",
              "    </tr>\n",
              "    <tr>\n",
              "      <th>2</th>\n",
              "      <td>0.000000</td>\n",
              "      <td>0.000000</td>\n",
              "      <td>0.000000</td>\n",
              "      <td>0.0</td>\n",
              "      <td>0.143755</td>\n",
              "      <td>0.155314</td>\n",
              "      <td>0.00000</td>\n",
              "      <td>0.00000</td>\n",
              "      <td>0.000000</td>\n",
              "      <td>0.140321</td>\n",
              "      <td>0.140321</td>\n",
              "      <td>0.125041</td>\n",
              "      <td>0.125164</td>\n",
              "      <td>0.0</td>\n",
              "      <td>0.000000</td>\n",
              "      <td>0.000000</td>\n",
              "      <td>0.116139</td>\n",
              "      <td>0.173159</td>\n",
              "      <td>0.121052</td>\n",
              "      <td>0.140321</td>\n",
              "      <td>0.000000</td>\n",
              "      <td>0.108391</td>\n",
              "      <td>0.154004</td>\n",
              "      <td>0.0</td>\n",
              "      <td>0.0</td>\n",
              "      <td>0.000000</td>\n",
              "      <td>0.000000</td>\n",
              "      <td>0.000000</td>\n",
              "      <td>0.155924</td>\n",
              "      <td>0.160818</td>\n",
              "      <td>0.176765</td>\n",
              "      <td>0.170647</td>\n",
              "      <td>0.170647</td>\n",
              "      <td>0.000000</td>\n",
              "      <td>0.155924</td>\n",
              "      <td>0.0</td>\n",
              "      <td>0.0</td>\n",
              "      <td>0.0</td>\n",
              "      <td>0.0</td>\n",
              "      <td>0.138994</td>\n",
              "      <td>...</td>\n",
              "      <td>0.000000</td>\n",
              "      <td>0.000000</td>\n",
              "      <td>0.000000</td>\n",
              "      <td>0.000000</td>\n",
              "      <td>0.000000</td>\n",
              "      <td>0.000000</td>\n",
              "      <td>0.170647</td>\n",
              "      <td>0.000000</td>\n",
              "      <td>0.000000</td>\n",
              "      <td>0.132333</td>\n",
              "      <td>0.000000</td>\n",
              "      <td>0.0</td>\n",
              "      <td>0.116692</td>\n",
              "      <td>0.173389</td>\n",
              "      <td>0.154004</td>\n",
              "      <td>0.171697</td>\n",
              "      <td>0.143768</td>\n",
              "      <td>0.000000</td>\n",
              "      <td>0.146767</td>\n",
              "      <td>0.164867</td>\n",
              "      <td>0.134267</td>\n",
              "      <td>0.134267</td>\n",
              "      <td>0.146672</td>\n",
              "      <td>0.146672</td>\n",
              "      <td>0.000000</td>\n",
              "      <td>0.000000</td>\n",
              "      <td>0.0</td>\n",
              "      <td>0.0</td>\n",
              "      <td>0.151218</td>\n",
              "      <td>0.160596</td>\n",
              "      <td>0.176765</td>\n",
              "      <td>0.000000</td>\n",
              "      <td>0.000000</td>\n",
              "      <td>0.154310</td>\n",
              "      <td>0.000000</td>\n",
              "      <td>0.000000</td>\n",
              "      <td>0.0</td>\n",
              "      <td>0.0</td>\n",
              "      <td>0.000000</td>\n",
              "      <td>0.000000</td>\n",
              "    </tr>\n",
              "    <tr>\n",
              "      <th>3</th>\n",
              "      <td>0.000000</td>\n",
              "      <td>0.203121</td>\n",
              "      <td>0.203121</td>\n",
              "      <td>0.0</td>\n",
              "      <td>0.000000</td>\n",
              "      <td>0.000000</td>\n",
              "      <td>0.00000</td>\n",
              "      <td>0.00000</td>\n",
              "      <td>0.254753</td>\n",
              "      <td>0.000000</td>\n",
              "      <td>0.000000</td>\n",
              "      <td>0.000000</td>\n",
              "      <td>0.000000</td>\n",
              "      <td>0.0</td>\n",
              "      <td>0.170268</td>\n",
              "      <td>0.170268</td>\n",
              "      <td>0.172279</td>\n",
              "      <td>0.000000</td>\n",
              "      <td>0.000000</td>\n",
              "      <td>0.000000</td>\n",
              "      <td>0.000000</td>\n",
              "      <td>0.160787</td>\n",
              "      <td>0.000000</td>\n",
              "      <td>0.0</td>\n",
              "      <td>0.0</td>\n",
              "      <td>0.257358</td>\n",
              "      <td>0.000000</td>\n",
              "      <td>0.000000</td>\n",
              "      <td>0.000000</td>\n",
              "      <td>0.000000</td>\n",
              "      <td>0.000000</td>\n",
              "      <td>0.000000</td>\n",
              "      <td>0.000000</td>\n",
              "      <td>0.000000</td>\n",
              "      <td>0.000000</td>\n",
              "      <td>0.0</td>\n",
              "      <td>0.0</td>\n",
              "      <td>0.0</td>\n",
              "      <td>0.0</td>\n",
              "      <td>0.206182</td>\n",
              "      <td>...</td>\n",
              "      <td>0.000000</td>\n",
              "      <td>0.000000</td>\n",
              "      <td>0.000000</td>\n",
              "      <td>0.000000</td>\n",
              "      <td>0.212977</td>\n",
              "      <td>0.254753</td>\n",
              "      <td>0.000000</td>\n",
              "      <td>0.000000</td>\n",
              "      <td>0.183643</td>\n",
              "      <td>0.000000</td>\n",
              "      <td>0.000000</td>\n",
              "      <td>0.0</td>\n",
              "      <td>0.173099</td>\n",
              "      <td>0.000000</td>\n",
              "      <td>0.000000</td>\n",
              "      <td>0.000000</td>\n",
              "      <td>0.000000</td>\n",
              "      <td>0.000000</td>\n",
              "      <td>0.000000</td>\n",
              "      <td>0.000000</td>\n",
              "      <td>0.000000</td>\n",
              "      <td>0.000000</td>\n",
              "      <td>0.217572</td>\n",
              "      <td>0.217572</td>\n",
              "      <td>0.000000</td>\n",
              "      <td>0.000000</td>\n",
              "      <td>0.0</td>\n",
              "      <td>0.0</td>\n",
              "      <td>0.000000</td>\n",
              "      <td>0.000000</td>\n",
              "      <td>0.262211</td>\n",
              "      <td>0.000000</td>\n",
              "      <td>0.000000</td>\n",
              "      <td>0.000000</td>\n",
              "      <td>0.000000</td>\n",
              "      <td>0.000000</td>\n",
              "      <td>0.0</td>\n",
              "      <td>0.0</td>\n",
              "      <td>0.000000</td>\n",
              "      <td>0.000000</td>\n",
              "    </tr>\n",
              "    <tr>\n",
              "      <th>4</th>\n",
              "      <td>0.000000</td>\n",
              "      <td>0.000000</td>\n",
              "      <td>0.000000</td>\n",
              "      <td>0.0</td>\n",
              "      <td>0.000000</td>\n",
              "      <td>0.000000</td>\n",
              "      <td>0.00000</td>\n",
              "      <td>0.00000</td>\n",
              "      <td>0.000000</td>\n",
              "      <td>0.000000</td>\n",
              "      <td>0.000000</td>\n",
              "      <td>0.000000</td>\n",
              "      <td>0.000000</td>\n",
              "      <td>0.0</td>\n",
              "      <td>0.230281</td>\n",
              "      <td>0.230281</td>\n",
              "      <td>0.000000</td>\n",
              "      <td>0.000000</td>\n",
              "      <td>0.000000</td>\n",
              "      <td>0.000000</td>\n",
              "      <td>0.000000</td>\n",
              "      <td>0.000000</td>\n",
              "      <td>0.000000</td>\n",
              "      <td>0.0</td>\n",
              "      <td>0.0</td>\n",
              "      <td>0.000000</td>\n",
              "      <td>0.325053</td>\n",
              "      <td>0.325053</td>\n",
              "      <td>0.000000</td>\n",
              "      <td>0.000000</td>\n",
              "      <td>0.354631</td>\n",
              "      <td>0.000000</td>\n",
              "      <td>0.000000</td>\n",
              "      <td>0.325542</td>\n",
              "      <td>0.000000</td>\n",
              "      <td>0.0</td>\n",
              "      <td>0.0</td>\n",
              "      <td>0.0</td>\n",
              "      <td>0.0</td>\n",
              "      <td>0.000000</td>\n",
              "      <td>...</td>\n",
              "      <td>0.000000</td>\n",
              "      <td>0.000000</td>\n",
              "      <td>0.000000</td>\n",
              "      <td>0.000000</td>\n",
              "      <td>0.000000</td>\n",
              "      <td>0.000000</td>\n",
              "      <td>0.000000</td>\n",
              "      <td>0.000000</td>\n",
              "      <td>0.248370</td>\n",
              "      <td>0.000000</td>\n",
              "      <td>0.000000</td>\n",
              "      <td>0.0</td>\n",
              "      <td>0.234110</td>\n",
              "      <td>0.000000</td>\n",
              "      <td>0.000000</td>\n",
              "      <td>0.000000</td>\n",
              "      <td>0.000000</td>\n",
              "      <td>0.000000</td>\n",
              "      <td>0.000000</td>\n",
              "      <td>0.000000</td>\n",
              "      <td>0.000000</td>\n",
              "      <td>0.000000</td>\n",
              "      <td>0.000000</td>\n",
              "      <td>0.000000</td>\n",
              "      <td>0.000000</td>\n",
              "      <td>0.000000</td>\n",
              "      <td>0.0</td>\n",
              "      <td>0.0</td>\n",
              "      <td>0.000000</td>\n",
              "      <td>0.000000</td>\n",
              "      <td>0.000000</td>\n",
              "      <td>0.000000</td>\n",
              "      <td>0.000000</td>\n",
              "      <td>0.000000</td>\n",
              "      <td>0.280250</td>\n",
              "      <td>0.280250</td>\n",
              "      <td>0.0</td>\n",
              "      <td>0.0</td>\n",
              "      <td>0.000000</td>\n",
              "      <td>0.000000</td>\n",
              "    </tr>\n",
              "  </tbody>\n",
              "</table>\n",
              "<p>5 rows × 100 columns</p>\n",
              "</div>"
            ],
            "text/plain": [
              "    aid kit  alarm dedicated  ...  workspace host  workspace host greets\n",
              "0  0.125067         0.141336  ...        0.164755               0.164755\n",
              "1  0.000000         0.208325  ...        0.242845               0.242845\n",
              "2  0.000000         0.000000  ...        0.000000               0.000000\n",
              "3  0.000000         0.203121  ...        0.000000               0.000000\n",
              "4  0.000000         0.000000  ...        0.000000               0.000000\n",
              "\n",
              "[5 rows x 100 columns]"
            ]
          },
          "metadata": {
            "tags": []
          },
          "execution_count": 10
        }
      ]
    },
    {
      "cell_type": "code",
      "metadata": {
        "colab": {
          "base_uri": "https://localhost:8080/",
          "height": 275
        },
        "id": "zF8Cjnle2J7g",
        "outputId": "5d6d0dc7-5f16-4af5-b330-9df473f90893"
      },
      "source": [
        "# Look at the neighborhood feature document term matrix\r\n",
        "print(dtm_neigh.shape)\r\n",
        "dtm_neigh.head()"
      ],
      "execution_count": 11,
      "outputs": [
        {
          "output_type": "stream",
          "text": [
            "(18291, 59)\n"
          ],
          "name": "stdout"
        },
        {
          "output_type": "execute_result",
          "data": {
            "text/html": [
              "<div>\n",
              "<style scoped>\n",
              "    .dataframe tbody tr th:only-of-type {\n",
              "        vertical-align: middle;\n",
              "    }\n",
              "\n",
              "    .dataframe tbody tr th {\n",
              "        vertical-align: top;\n",
              "    }\n",
              "\n",
              "    .dataframe thead th {\n",
              "        text-align: right;\n",
              "    }\n",
              "</style>\n",
              "<table border=\"1\" class=\"dataframe\">\n",
              "  <thead>\n",
              "    <tr style=\"text-align: right;\">\n",
              "      <th></th>\n",
              "      <th>aker</th>\n",
              "      <th>aker nieuw</th>\n",
              "      <th>aker nieuw sloten</th>\n",
              "      <th>baarsjes</th>\n",
              "      <th>baarsjes oud</th>\n",
              "      <th>baarsjes oud west</th>\n",
              "      <th>bijlmer</th>\n",
              "      <th>bijlmer centrum</th>\n",
              "      <th>bijlmer oost</th>\n",
              "      <th>bos</th>\n",
              "      <th>bos en</th>\n",
              "      <th>bos en lommer</th>\n",
              "      <th>buitenveldert</th>\n",
              "      <th>buitenveldert zuidas</th>\n",
              "      <th>buurt</th>\n",
              "      <th>centrum</th>\n",
              "      <th>centrum oost</th>\n",
              "      <th>centrum west</th>\n",
              "      <th>driemond</th>\n",
              "      <th>en</th>\n",
              "      <th>en lommer</th>\n",
              "      <th>gaasperdam</th>\n",
              "      <th>gaasperdam driemond</th>\n",
              "      <th>geuzenveld</th>\n",
              "      <th>geuzenveld slotermeer</th>\n",
              "      <th>havengebied</th>\n",
              "      <th>havengebied indische</th>\n",
              "      <th>havengebied indische buurt</th>\n",
              "      <th>ijburg</th>\n",
              "      <th>ijburg zeeburgereiland</th>\n",
              "      <th>indische</th>\n",
              "      <th>indische buurt</th>\n",
              "      <th>lommer</th>\n",
              "      <th>nieuw</th>\n",
              "      <th>nieuw sloten</th>\n",
              "      <th>noord</th>\n",
              "      <th>noord oost</th>\n",
              "      <th>noord west</th>\n",
              "      <th>oost</th>\n",
              "      <th>oostelijk</th>\n",
              "      <th>oostelijk havengebied</th>\n",
              "      <th>oostelijk havengebied indische</th>\n",
              "      <th>osdorp</th>\n",
              "      <th>oud</th>\n",
              "      <th>oud noord</th>\n",
              "      <th>oud oost</th>\n",
              "      <th>oud west</th>\n",
              "      <th>pijp</th>\n",
              "      <th>pijp rivierenbuurt</th>\n",
              "      <th>rivierenbuurt</th>\n",
              "      <th>sloten</th>\n",
              "      <th>slotermeer</th>\n",
              "      <th>slotervaart</th>\n",
              "      <th>watergraafsmeer</th>\n",
              "      <th>west</th>\n",
              "      <th>westerpark</th>\n",
              "      <th>zeeburgereiland</th>\n",
              "      <th>zuid</th>\n",
              "      <th>zuidas</th>\n",
              "    </tr>\n",
              "  </thead>\n",
              "  <tbody>\n",
              "    <tr>\n",
              "      <th>0</th>\n",
              "      <td>0.0</td>\n",
              "      <td>0.0</td>\n",
              "      <td>0.0</td>\n",
              "      <td>0.0</td>\n",
              "      <td>0.0</td>\n",
              "      <td>0.0</td>\n",
              "      <td>0.0</td>\n",
              "      <td>0.0</td>\n",
              "      <td>0.0</td>\n",
              "      <td>0.0</td>\n",
              "      <td>0.0</td>\n",
              "      <td>0.0</td>\n",
              "      <td>0.0</td>\n",
              "      <td>0.0</td>\n",
              "      <td>0.333333</td>\n",
              "      <td>0.000000</td>\n",
              "      <td>0.000000</td>\n",
              "      <td>0.000000</td>\n",
              "      <td>0.0</td>\n",
              "      <td>0.0</td>\n",
              "      <td>0.0</td>\n",
              "      <td>0.0</td>\n",
              "      <td>0.0</td>\n",
              "      <td>0.0</td>\n",
              "      <td>0.0</td>\n",
              "      <td>0.333333</td>\n",
              "      <td>0.333333</td>\n",
              "      <td>0.333333</td>\n",
              "      <td>0.0</td>\n",
              "      <td>0.0</td>\n",
              "      <td>0.333333</td>\n",
              "      <td>0.333333</td>\n",
              "      <td>0.0</td>\n",
              "      <td>0.0</td>\n",
              "      <td>0.0</td>\n",
              "      <td>0.0</td>\n",
              "      <td>0.0</td>\n",
              "      <td>0.0</td>\n",
              "      <td>0.000000</td>\n",
              "      <td>0.333333</td>\n",
              "      <td>0.333333</td>\n",
              "      <td>0.333333</td>\n",
              "      <td>0.0</td>\n",
              "      <td>0.0</td>\n",
              "      <td>0.0</td>\n",
              "      <td>0.0</td>\n",
              "      <td>0.0</td>\n",
              "      <td>0.0</td>\n",
              "      <td>0.0</td>\n",
              "      <td>0.0</td>\n",
              "      <td>0.0</td>\n",
              "      <td>0.0</td>\n",
              "      <td>0.0</td>\n",
              "      <td>0.0</td>\n",
              "      <td>0.000000</td>\n",
              "      <td>0.0</td>\n",
              "      <td>0.0</td>\n",
              "      <td>0.0</td>\n",
              "      <td>0.0</td>\n",
              "    </tr>\n",
              "    <tr>\n",
              "      <th>1</th>\n",
              "      <td>0.0</td>\n",
              "      <td>0.0</td>\n",
              "      <td>0.0</td>\n",
              "      <td>0.0</td>\n",
              "      <td>0.0</td>\n",
              "      <td>0.0</td>\n",
              "      <td>0.0</td>\n",
              "      <td>0.0</td>\n",
              "      <td>0.0</td>\n",
              "      <td>0.0</td>\n",
              "      <td>0.0</td>\n",
              "      <td>0.0</td>\n",
              "      <td>0.0</td>\n",
              "      <td>0.0</td>\n",
              "      <td>0.000000</td>\n",
              "      <td>0.506661</td>\n",
              "      <td>0.672425</td>\n",
              "      <td>0.000000</td>\n",
              "      <td>0.0</td>\n",
              "      <td>0.0</td>\n",
              "      <td>0.0</td>\n",
              "      <td>0.0</td>\n",
              "      <td>0.0</td>\n",
              "      <td>0.0</td>\n",
              "      <td>0.0</td>\n",
              "      <td>0.000000</td>\n",
              "      <td>0.000000</td>\n",
              "      <td>0.000000</td>\n",
              "      <td>0.0</td>\n",
              "      <td>0.0</td>\n",
              "      <td>0.000000</td>\n",
              "      <td>0.000000</td>\n",
              "      <td>0.0</td>\n",
              "      <td>0.0</td>\n",
              "      <td>0.0</td>\n",
              "      <td>0.0</td>\n",
              "      <td>0.0</td>\n",
              "      <td>0.0</td>\n",
              "      <td>0.539574</td>\n",
              "      <td>0.000000</td>\n",
              "      <td>0.000000</td>\n",
              "      <td>0.000000</td>\n",
              "      <td>0.0</td>\n",
              "      <td>0.0</td>\n",
              "      <td>0.0</td>\n",
              "      <td>0.0</td>\n",
              "      <td>0.0</td>\n",
              "      <td>0.0</td>\n",
              "      <td>0.0</td>\n",
              "      <td>0.0</td>\n",
              "      <td>0.0</td>\n",
              "      <td>0.0</td>\n",
              "      <td>0.0</td>\n",
              "      <td>0.0</td>\n",
              "      <td>0.000000</td>\n",
              "      <td>0.0</td>\n",
              "      <td>0.0</td>\n",
              "      <td>0.0</td>\n",
              "      <td>0.0</td>\n",
              "    </tr>\n",
              "    <tr>\n",
              "      <th>2</th>\n",
              "      <td>0.0</td>\n",
              "      <td>0.0</td>\n",
              "      <td>0.0</td>\n",
              "      <td>0.0</td>\n",
              "      <td>0.0</td>\n",
              "      <td>0.0</td>\n",
              "      <td>0.0</td>\n",
              "      <td>0.0</td>\n",
              "      <td>0.0</td>\n",
              "      <td>0.0</td>\n",
              "      <td>0.0</td>\n",
              "      <td>0.0</td>\n",
              "      <td>0.0</td>\n",
              "      <td>0.0</td>\n",
              "      <td>0.000000</td>\n",
              "      <td>0.555496</td>\n",
              "      <td>0.000000</td>\n",
              "      <td>0.684344</td>\n",
              "      <td>0.0</td>\n",
              "      <td>0.0</td>\n",
              "      <td>0.0</td>\n",
              "      <td>0.0</td>\n",
              "      <td>0.0</td>\n",
              "      <td>0.0</td>\n",
              "      <td>0.0</td>\n",
              "      <td>0.000000</td>\n",
              "      <td>0.000000</td>\n",
              "      <td>0.000000</td>\n",
              "      <td>0.0</td>\n",
              "      <td>0.0</td>\n",
              "      <td>0.000000</td>\n",
              "      <td>0.000000</td>\n",
              "      <td>0.0</td>\n",
              "      <td>0.0</td>\n",
              "      <td>0.0</td>\n",
              "      <td>0.0</td>\n",
              "      <td>0.0</td>\n",
              "      <td>0.0</td>\n",
              "      <td>0.000000</td>\n",
              "      <td>0.000000</td>\n",
              "      <td>0.000000</td>\n",
              "      <td>0.000000</td>\n",
              "      <td>0.0</td>\n",
              "      <td>0.0</td>\n",
              "      <td>0.0</td>\n",
              "      <td>0.0</td>\n",
              "      <td>0.0</td>\n",
              "      <td>0.0</td>\n",
              "      <td>0.0</td>\n",
              "      <td>0.0</td>\n",
              "      <td>0.0</td>\n",
              "      <td>0.0</td>\n",
              "      <td>0.0</td>\n",
              "      <td>0.0</td>\n",
              "      <td>0.472332</td>\n",
              "      <td>0.0</td>\n",
              "      <td>0.0</td>\n",
              "      <td>0.0</td>\n",
              "      <td>0.0</td>\n",
              "    </tr>\n",
              "    <tr>\n",
              "      <th>3</th>\n",
              "      <td>0.0</td>\n",
              "      <td>0.0</td>\n",
              "      <td>0.0</td>\n",
              "      <td>0.0</td>\n",
              "      <td>0.0</td>\n",
              "      <td>0.0</td>\n",
              "      <td>0.0</td>\n",
              "      <td>0.0</td>\n",
              "      <td>0.0</td>\n",
              "      <td>0.0</td>\n",
              "      <td>0.0</td>\n",
              "      <td>0.0</td>\n",
              "      <td>0.0</td>\n",
              "      <td>0.0</td>\n",
              "      <td>0.000000</td>\n",
              "      <td>0.555496</td>\n",
              "      <td>0.000000</td>\n",
              "      <td>0.684344</td>\n",
              "      <td>0.0</td>\n",
              "      <td>0.0</td>\n",
              "      <td>0.0</td>\n",
              "      <td>0.0</td>\n",
              "      <td>0.0</td>\n",
              "      <td>0.0</td>\n",
              "      <td>0.0</td>\n",
              "      <td>0.000000</td>\n",
              "      <td>0.000000</td>\n",
              "      <td>0.000000</td>\n",
              "      <td>0.0</td>\n",
              "      <td>0.0</td>\n",
              "      <td>0.000000</td>\n",
              "      <td>0.000000</td>\n",
              "      <td>0.0</td>\n",
              "      <td>0.0</td>\n",
              "      <td>0.0</td>\n",
              "      <td>0.0</td>\n",
              "      <td>0.0</td>\n",
              "      <td>0.0</td>\n",
              "      <td>0.000000</td>\n",
              "      <td>0.000000</td>\n",
              "      <td>0.000000</td>\n",
              "      <td>0.000000</td>\n",
              "      <td>0.0</td>\n",
              "      <td>0.0</td>\n",
              "      <td>0.0</td>\n",
              "      <td>0.0</td>\n",
              "      <td>0.0</td>\n",
              "      <td>0.0</td>\n",
              "      <td>0.0</td>\n",
              "      <td>0.0</td>\n",
              "      <td>0.0</td>\n",
              "      <td>0.0</td>\n",
              "      <td>0.0</td>\n",
              "      <td>0.0</td>\n",
              "      <td>0.472332</td>\n",
              "      <td>0.0</td>\n",
              "      <td>0.0</td>\n",
              "      <td>0.0</td>\n",
              "      <td>0.0</td>\n",
              "    </tr>\n",
              "    <tr>\n",
              "      <th>4</th>\n",
              "      <td>0.0</td>\n",
              "      <td>0.0</td>\n",
              "      <td>0.0</td>\n",
              "      <td>0.0</td>\n",
              "      <td>0.0</td>\n",
              "      <td>0.0</td>\n",
              "      <td>0.0</td>\n",
              "      <td>0.0</td>\n",
              "      <td>0.0</td>\n",
              "      <td>0.0</td>\n",
              "      <td>0.0</td>\n",
              "      <td>0.0</td>\n",
              "      <td>0.0</td>\n",
              "      <td>0.0</td>\n",
              "      <td>0.000000</td>\n",
              "      <td>0.506661</td>\n",
              "      <td>0.672425</td>\n",
              "      <td>0.000000</td>\n",
              "      <td>0.0</td>\n",
              "      <td>0.0</td>\n",
              "      <td>0.0</td>\n",
              "      <td>0.0</td>\n",
              "      <td>0.0</td>\n",
              "      <td>0.0</td>\n",
              "      <td>0.0</td>\n",
              "      <td>0.000000</td>\n",
              "      <td>0.000000</td>\n",
              "      <td>0.000000</td>\n",
              "      <td>0.0</td>\n",
              "      <td>0.0</td>\n",
              "      <td>0.000000</td>\n",
              "      <td>0.000000</td>\n",
              "      <td>0.0</td>\n",
              "      <td>0.0</td>\n",
              "      <td>0.0</td>\n",
              "      <td>0.0</td>\n",
              "      <td>0.0</td>\n",
              "      <td>0.0</td>\n",
              "      <td>0.539574</td>\n",
              "      <td>0.000000</td>\n",
              "      <td>0.000000</td>\n",
              "      <td>0.000000</td>\n",
              "      <td>0.0</td>\n",
              "      <td>0.0</td>\n",
              "      <td>0.0</td>\n",
              "      <td>0.0</td>\n",
              "      <td>0.0</td>\n",
              "      <td>0.0</td>\n",
              "      <td>0.0</td>\n",
              "      <td>0.0</td>\n",
              "      <td>0.0</td>\n",
              "      <td>0.0</td>\n",
              "      <td>0.0</td>\n",
              "      <td>0.0</td>\n",
              "      <td>0.000000</td>\n",
              "      <td>0.0</td>\n",
              "      <td>0.0</td>\n",
              "      <td>0.0</td>\n",
              "      <td>0.0</td>\n",
              "    </tr>\n",
              "  </tbody>\n",
              "</table>\n",
              "</div>"
            ],
            "text/plain": [
              "   aker  aker nieuw  aker nieuw sloten  ...  zeeburgereiland  zuid  zuidas\n",
              "0   0.0         0.0                0.0  ...              0.0   0.0     0.0\n",
              "1   0.0         0.0                0.0  ...              0.0   0.0     0.0\n",
              "2   0.0         0.0                0.0  ...              0.0   0.0     0.0\n",
              "3   0.0         0.0                0.0  ...              0.0   0.0     0.0\n",
              "4   0.0         0.0                0.0  ...              0.0   0.0     0.0\n",
              "\n",
              "[5 rows x 59 columns]"
            ]
          },
          "metadata": {
            "tags": []
          },
          "execution_count": 11
        }
      ]
    },
    {
      "cell_type": "code",
      "metadata": {
        "colab": {
          "base_uri": "https://localhost:8080/",
          "height": 221
        },
        "id": "vH84j4lq76D3",
        "outputId": "54beb83f-4d61-4b38-fa92-5f209c6a8467"
      },
      "source": [
        "# Look at the room_type feature document term matrix\r\n",
        "print(dtm_room.shape)\r\n",
        "dtm_room.head()"
      ],
      "execution_count": 12,
      "outputs": [
        {
          "output_type": "stream",
          "text": [
            "(18291, 13)\n"
          ],
          "name": "stdout"
        },
        {
          "output_type": "execute_result",
          "data": {
            "text/html": [
              "<div>\n",
              "<style scoped>\n",
              "    .dataframe tbody tr th:only-of-type {\n",
              "        vertical-align: middle;\n",
              "    }\n",
              "\n",
              "    .dataframe tbody tr th {\n",
              "        vertical-align: top;\n",
              "    }\n",
              "\n",
              "    .dataframe thead th {\n",
              "        text-align: right;\n",
              "    }\n",
              "</style>\n",
              "<table border=\"1\" class=\"dataframe\">\n",
              "  <thead>\n",
              "    <tr style=\"text-align: right;\">\n",
              "      <th></th>\n",
              "      <th>apt</th>\n",
              "      <th>entire</th>\n",
              "      <th>entire home</th>\n",
              "      <th>entire home apt</th>\n",
              "      <th>home</th>\n",
              "      <th>home apt</th>\n",
              "      <th>hotel</th>\n",
              "      <th>hotel room</th>\n",
              "      <th>private</th>\n",
              "      <th>private room</th>\n",
              "      <th>room</th>\n",
              "      <th>shared</th>\n",
              "      <th>shared room</th>\n",
              "    </tr>\n",
              "  </thead>\n",
              "  <tbody>\n",
              "    <tr>\n",
              "      <th>0</th>\n",
              "      <td>0.000000</td>\n",
              "      <td>0.000000</td>\n",
              "      <td>0.000000</td>\n",
              "      <td>0.000000</td>\n",
              "      <td>0.000000</td>\n",
              "      <td>0.000000</td>\n",
              "      <td>0.0</td>\n",
              "      <td>0.0</td>\n",
              "      <td>0.580741</td>\n",
              "      <td>0.580741</td>\n",
              "      <td>0.570509</td>\n",
              "      <td>0.0</td>\n",
              "      <td>0.0</td>\n",
              "    </tr>\n",
              "    <tr>\n",
              "      <th>1</th>\n",
              "      <td>0.000000</td>\n",
              "      <td>0.000000</td>\n",
              "      <td>0.000000</td>\n",
              "      <td>0.000000</td>\n",
              "      <td>0.000000</td>\n",
              "      <td>0.000000</td>\n",
              "      <td>0.0</td>\n",
              "      <td>0.0</td>\n",
              "      <td>0.580741</td>\n",
              "      <td>0.580741</td>\n",
              "      <td>0.570509</td>\n",
              "      <td>0.0</td>\n",
              "      <td>0.0</td>\n",
              "    </tr>\n",
              "    <tr>\n",
              "      <th>2</th>\n",
              "      <td>0.408248</td>\n",
              "      <td>0.408248</td>\n",
              "      <td>0.408248</td>\n",
              "      <td>0.408248</td>\n",
              "      <td>0.408248</td>\n",
              "      <td>0.408248</td>\n",
              "      <td>0.0</td>\n",
              "      <td>0.0</td>\n",
              "      <td>0.000000</td>\n",
              "      <td>0.000000</td>\n",
              "      <td>0.000000</td>\n",
              "      <td>0.0</td>\n",
              "      <td>0.0</td>\n",
              "    </tr>\n",
              "    <tr>\n",
              "      <th>3</th>\n",
              "      <td>0.000000</td>\n",
              "      <td>0.000000</td>\n",
              "      <td>0.000000</td>\n",
              "      <td>0.000000</td>\n",
              "      <td>0.000000</td>\n",
              "      <td>0.000000</td>\n",
              "      <td>0.0</td>\n",
              "      <td>0.0</td>\n",
              "      <td>0.580741</td>\n",
              "      <td>0.580741</td>\n",
              "      <td>0.570509</td>\n",
              "      <td>0.0</td>\n",
              "      <td>0.0</td>\n",
              "    </tr>\n",
              "    <tr>\n",
              "      <th>4</th>\n",
              "      <td>0.000000</td>\n",
              "      <td>0.000000</td>\n",
              "      <td>0.000000</td>\n",
              "      <td>0.000000</td>\n",
              "      <td>0.000000</td>\n",
              "      <td>0.000000</td>\n",
              "      <td>0.0</td>\n",
              "      <td>0.0</td>\n",
              "      <td>0.580741</td>\n",
              "      <td>0.580741</td>\n",
              "      <td>0.570509</td>\n",
              "      <td>0.0</td>\n",
              "      <td>0.0</td>\n",
              "    </tr>\n",
              "  </tbody>\n",
              "</table>\n",
              "</div>"
            ],
            "text/plain": [
              "        apt    entire  entire home  ...      room  shared  shared room\n",
              "0  0.000000  0.000000     0.000000  ...  0.570509     0.0          0.0\n",
              "1  0.000000  0.000000     0.000000  ...  0.570509     0.0          0.0\n",
              "2  0.408248  0.408248     0.408248  ...  0.000000     0.0          0.0\n",
              "3  0.000000  0.000000     0.000000  ...  0.570509     0.0          0.0\n",
              "4  0.000000  0.000000     0.000000  ...  0.570509     0.0          0.0\n",
              "\n",
              "[5 rows x 13 columns]"
            ]
          },
          "metadata": {
            "tags": []
          },
          "execution_count": 12
        }
      ]
    },
    {
      "cell_type": "markdown",
      "metadata": {
        "id": "zEN4HszHwRPv"
      },
      "source": [
        "### Merge all DataFrames Together\r\n",
        "\r\n",
        "- Need to merge all DataFrames back together.\r\n",
        "\r\n",
        "- Then drop the text features original columns."
      ]
    },
    {
      "cell_type": "code",
      "metadata": {
        "colab": {
          "base_uri": "https://localhost:8080/",
          "height": 1000
        },
        "id": "PqCf3eg276A3",
        "outputId": "bbf7376c-06c5-4f98-c1d0-7569e103edb7"
      },
      "source": [
        "# Merge all the document term matrices with the amsterdam dataframe\r\n",
        "amsterdam_vects = pd.concat([amsterdam, dtm_amen, dtm_neigh, dtm_room], axis=1)\r\n",
        "\r\n",
        "# Look at the new dataframe with the merged dataframes\r\n",
        "print(amsterdam_vects.shape)\r\n",
        "amsterdam_vects.head()"
      ],
      "execution_count": 13,
      "outputs": [
        {
          "output_type": "stream",
          "text": [
            "(18291, 193)\n"
          ],
          "name": "stdout"
        },
        {
          "output_type": "execute_result",
          "data": {
            "text/html": [
              "<div>\n",
              "<style scoped>\n",
              "    .dataframe tbody tr th:only-of-type {\n",
              "        vertical-align: middle;\n",
              "    }\n",
              "\n",
              "    .dataframe tbody tr th {\n",
              "        vertical-align: top;\n",
              "    }\n",
              "\n",
              "    .dataframe thead th {\n",
              "        text-align: right;\n",
              "    }\n",
              "</style>\n",
              "<table border=\"1\" class=\"dataframe\">\n",
              "  <thead>\n",
              "    <tr style=\"text-align: right;\">\n",
              "      <th></th>\n",
              "      <th>superhost</th>\n",
              "      <th>total_listings</th>\n",
              "      <th>profile_pic</th>\n",
              "      <th>verified_id</th>\n",
              "      <th>neighborhood</th>\n",
              "      <th>room_type</th>\n",
              "      <th>accommodates</th>\n",
              "      <th>bathrooms</th>\n",
              "      <th>bedrooms</th>\n",
              "      <th>num_of_beds</th>\n",
              "      <th>amenities</th>\n",
              "      <th>price</th>\n",
              "      <th>min_nights</th>\n",
              "      <th>max_nights</th>\n",
              "      <th>available</th>\n",
              "      <th>avail_next_365_days</th>\n",
              "      <th>num_of_reviews</th>\n",
              "      <th>avg_review_score</th>\n",
              "      <th>instant_bookable</th>\n",
              "      <th>shared_bath</th>\n",
              "      <th>years_hosting</th>\n",
              "      <th>aid kit</th>\n",
              "      <th>alarm dedicated</th>\n",
              "      <th>alarm dedicated workspace</th>\n",
              "      <th>alarm kitchen</th>\n",
              "      <th>alarm stove</th>\n",
              "      <th>alarm stove washer</th>\n",
              "      <th>allowed aid</th>\n",
              "      <th>allowed aid kit</th>\n",
              "      <th>balcony hangers</th>\n",
              "      <th>basics dishes</th>\n",
              "      <th>basics dishes silverware</th>\n",
              "      <th>bed linens</th>\n",
              "      <th>cable tv</th>\n",
              "      <th>cable tv wifi</th>\n",
              "      <th>carbon monoxide</th>\n",
              "      <th>carbon monoxide alarm</th>\n",
              "      <th>coffee maker</th>\n",
              "      <th>coffee maker long</th>\n",
              "      <th>cooking basics</th>\n",
              "      <th>...</th>\n",
              "      <th>lommer</th>\n",
              "      <th>nieuw</th>\n",
              "      <th>nieuw sloten</th>\n",
              "      <th>noord</th>\n",
              "      <th>noord oost</th>\n",
              "      <th>noord west</th>\n",
              "      <th>oost</th>\n",
              "      <th>oostelijk</th>\n",
              "      <th>oostelijk havengebied</th>\n",
              "      <th>oostelijk havengebied indische</th>\n",
              "      <th>osdorp</th>\n",
              "      <th>oud</th>\n",
              "      <th>oud noord</th>\n",
              "      <th>oud oost</th>\n",
              "      <th>oud west</th>\n",
              "      <th>pijp</th>\n",
              "      <th>pijp rivierenbuurt</th>\n",
              "      <th>rivierenbuurt</th>\n",
              "      <th>sloten</th>\n",
              "      <th>slotermeer</th>\n",
              "      <th>slotervaart</th>\n",
              "      <th>watergraafsmeer</th>\n",
              "      <th>west</th>\n",
              "      <th>westerpark</th>\n",
              "      <th>zeeburgereiland</th>\n",
              "      <th>zuid</th>\n",
              "      <th>zuidas</th>\n",
              "      <th>apt</th>\n",
              "      <th>entire</th>\n",
              "      <th>entire home</th>\n",
              "      <th>entire home apt</th>\n",
              "      <th>home</th>\n",
              "      <th>home apt</th>\n",
              "      <th>hotel</th>\n",
              "      <th>hotel room</th>\n",
              "      <th>private</th>\n",
              "      <th>private room</th>\n",
              "      <th>room</th>\n",
              "      <th>shared</th>\n",
              "      <th>shared room</th>\n",
              "    </tr>\n",
              "  </thead>\n",
              "  <tbody>\n",
              "    <tr>\n",
              "      <th>0</th>\n",
              "      <td>True</td>\n",
              "      <td>1</td>\n",
              "      <td>True</td>\n",
              "      <td>True</td>\n",
              "      <td>Oostelijk Havengebied - Indische Buurt</td>\n",
              "      <td>Private room</td>\n",
              "      <td>2</td>\n",
              "      <td>1.5</td>\n",
              "      <td>1.0</td>\n",
              "      <td>2.0</td>\n",
              "      <td>[\"Hangers\", \"Coffee maker\", \"Paid parking on premises\", \"Long term stays allowed\", \"First aid kit\", \"Bed linens\", \"Lock on bedroom door\", \"Private entrance\", \"Carbon monoxide alarm\", \"Dedicated workspace\", \"Host greets you\", \"Single level home\", \"Extra pillows and blankets\", \"Hot water\", \"Paid p...</td>\n",
              "      <td>59.0</td>\n",
              "      <td>3</td>\n",
              "      <td>1125</td>\n",
              "      <td>True</td>\n",
              "      <td>139</td>\n",
              "      <td>278</td>\n",
              "      <td>98.0</td>\n",
              "      <td>True</td>\n",
              "      <td>True</td>\n",
              "      <td>12.38</td>\n",
              "      <td>0.125067</td>\n",
              "      <td>0.141336</td>\n",
              "      <td>0.141336</td>\n",
              "      <td>0.0</td>\n",
              "      <td>0.000000</td>\n",
              "      <td>0.000000</td>\n",
              "      <td>0.17278</td>\n",
              "      <td>0.17278</td>\n",
              "      <td>0.000000</td>\n",
              "      <td>0.000000</td>\n",
              "      <td>0.000000</td>\n",
              "      <td>0.129064</td>\n",
              "      <td>0.000000</td>\n",
              "      <td>0.0</td>\n",
              "      <td>0.118476</td>\n",
              "      <td>0.118476</td>\n",
              "      <td>0.119876</td>\n",
              "      <td>0.000000</td>\n",
              "      <td>0.000000</td>\n",
              "      <td>...</td>\n",
              "      <td>0.0</td>\n",
              "      <td>0.0</td>\n",
              "      <td>0.0</td>\n",
              "      <td>0.0</td>\n",
              "      <td>0.0</td>\n",
              "      <td>0.0</td>\n",
              "      <td>0.000000</td>\n",
              "      <td>0.333333</td>\n",
              "      <td>0.333333</td>\n",
              "      <td>0.333333</td>\n",
              "      <td>0.0</td>\n",
              "      <td>0.0</td>\n",
              "      <td>0.0</td>\n",
              "      <td>0.0</td>\n",
              "      <td>0.0</td>\n",
              "      <td>0.0</td>\n",
              "      <td>0.0</td>\n",
              "      <td>0.0</td>\n",
              "      <td>0.0</td>\n",
              "      <td>0.0</td>\n",
              "      <td>0.0</td>\n",
              "      <td>0.0</td>\n",
              "      <td>0.000000</td>\n",
              "      <td>0.0</td>\n",
              "      <td>0.0</td>\n",
              "      <td>0.0</td>\n",
              "      <td>0.0</td>\n",
              "      <td>0.000000</td>\n",
              "      <td>0.000000</td>\n",
              "      <td>0.000000</td>\n",
              "      <td>0.000000</td>\n",
              "      <td>0.000000</td>\n",
              "      <td>0.000000</td>\n",
              "      <td>0.0</td>\n",
              "      <td>0.0</td>\n",
              "      <td>0.580741</td>\n",
              "      <td>0.580741</td>\n",
              "      <td>0.570509</td>\n",
              "      <td>0.0</td>\n",
              "      <td>0.0</td>\n",
              "    </tr>\n",
              "    <tr>\n",
              "      <th>1</th>\n",
              "      <td>False</td>\n",
              "      <td>2</td>\n",
              "      <td>True</td>\n",
              "      <td>True</td>\n",
              "      <td>Centrum-Oost</td>\n",
              "      <td>Private room</td>\n",
              "      <td>2</td>\n",
              "      <td>1.0</td>\n",
              "      <td>1.0</td>\n",
              "      <td>1.0</td>\n",
              "      <td>[\"Essentials\", \"Bed linens\", \"Hot water\", \"Hangers\", \"Smoke alarm\", \"Heating\", \"Paid parking off premises\", \"Free street parking\", \"Refrigerator\", \"Carbon monoxide alarm\", \"Dedicated workspace\", \"Host greets you\", \"TV\", \"Wifi\", \"Hair dryer\", \"Long term stays allowed\", \"Fire extinguisher\"]</td>\n",
              "      <td>129.0</td>\n",
              "      <td>1</td>\n",
              "      <td>365</td>\n",
              "      <td>True</td>\n",
              "      <td>0</td>\n",
              "      <td>339</td>\n",
              "      <td>89.0</td>\n",
              "      <td>True</td>\n",
              "      <td>False</td>\n",
              "      <td>11.19</td>\n",
              "      <td>0.000000</td>\n",
              "      <td>0.208325</td>\n",
              "      <td>0.208325</td>\n",
              "      <td>0.0</td>\n",
              "      <td>0.000000</td>\n",
              "      <td>0.000000</td>\n",
              "      <td>0.00000</td>\n",
              "      <td>0.00000</td>\n",
              "      <td>0.000000</td>\n",
              "      <td>0.000000</td>\n",
              "      <td>0.000000</td>\n",
              "      <td>0.190236</td>\n",
              "      <td>0.000000</td>\n",
              "      <td>0.0</td>\n",
              "      <td>0.174631</td>\n",
              "      <td>0.174631</td>\n",
              "      <td>0.000000</td>\n",
              "      <td>0.000000</td>\n",
              "      <td>0.000000</td>\n",
              "      <td>...</td>\n",
              "      <td>0.0</td>\n",
              "      <td>0.0</td>\n",
              "      <td>0.0</td>\n",
              "      <td>0.0</td>\n",
              "      <td>0.0</td>\n",
              "      <td>0.0</td>\n",
              "      <td>0.539574</td>\n",
              "      <td>0.000000</td>\n",
              "      <td>0.000000</td>\n",
              "      <td>0.000000</td>\n",
              "      <td>0.0</td>\n",
              "      <td>0.0</td>\n",
              "      <td>0.0</td>\n",
              "      <td>0.0</td>\n",
              "      <td>0.0</td>\n",
              "      <td>0.0</td>\n",
              "      <td>0.0</td>\n",
              "      <td>0.0</td>\n",
              "      <td>0.0</td>\n",
              "      <td>0.0</td>\n",
              "      <td>0.0</td>\n",
              "      <td>0.0</td>\n",
              "      <td>0.000000</td>\n",
              "      <td>0.0</td>\n",
              "      <td>0.0</td>\n",
              "      <td>0.0</td>\n",
              "      <td>0.0</td>\n",
              "      <td>0.000000</td>\n",
              "      <td>0.000000</td>\n",
              "      <td>0.000000</td>\n",
              "      <td>0.000000</td>\n",
              "      <td>0.000000</td>\n",
              "      <td>0.000000</td>\n",
              "      <td>0.0</td>\n",
              "      <td>0.0</td>\n",
              "      <td>0.580741</td>\n",
              "      <td>0.580741</td>\n",
              "      <td>0.570509</td>\n",
              "      <td>0.0</td>\n",
              "      <td>0.0</td>\n",
              "    </tr>\n",
              "    <tr>\n",
              "      <th>2</th>\n",
              "      <td>True</td>\n",
              "      <td>2</td>\n",
              "      <td>True</td>\n",
              "      <td>False</td>\n",
              "      <td>Centrum-West</td>\n",
              "      <td>Entire home/apt</td>\n",
              "      <td>3</td>\n",
              "      <td>1.0</td>\n",
              "      <td>1.0</td>\n",
              "      <td>1.0</td>\n",
              "      <td>[\"Hangers\", \"Elevator\", \"Cooking basics\", \"Dishes and silverware\", \"Oven\", \"Coffee maker\", \"Long term stays allowed\", \"Bed linens\", \"Dishwasher\", \"Dedicated workspace\", \"Kitchen\", \"Extra pillows and blankets\", \"Hot water\", \"Heating\", \"TV\", \"Cable TV\", \"Hair dryer\", \"Microwave\", \"Essentials\", \"Sm...</td>\n",
              "      <td>125.0</td>\n",
              "      <td>14</td>\n",
              "      <td>180</td>\n",
              "      <td>True</td>\n",
              "      <td>251</td>\n",
              "      <td>5</td>\n",
              "      <td>100.0</td>\n",
              "      <td>False</td>\n",
              "      <td>False</td>\n",
              "      <td>11.23</td>\n",
              "      <td>0.000000</td>\n",
              "      <td>0.000000</td>\n",
              "      <td>0.000000</td>\n",
              "      <td>0.0</td>\n",
              "      <td>0.143755</td>\n",
              "      <td>0.155314</td>\n",
              "      <td>0.00000</td>\n",
              "      <td>0.00000</td>\n",
              "      <td>0.000000</td>\n",
              "      <td>0.140321</td>\n",
              "      <td>0.140321</td>\n",
              "      <td>0.125041</td>\n",
              "      <td>0.125164</td>\n",
              "      <td>0.0</td>\n",
              "      <td>0.000000</td>\n",
              "      <td>0.000000</td>\n",
              "      <td>0.116139</td>\n",
              "      <td>0.173159</td>\n",
              "      <td>0.121052</td>\n",
              "      <td>...</td>\n",
              "      <td>0.0</td>\n",
              "      <td>0.0</td>\n",
              "      <td>0.0</td>\n",
              "      <td>0.0</td>\n",
              "      <td>0.0</td>\n",
              "      <td>0.0</td>\n",
              "      <td>0.000000</td>\n",
              "      <td>0.000000</td>\n",
              "      <td>0.000000</td>\n",
              "      <td>0.000000</td>\n",
              "      <td>0.0</td>\n",
              "      <td>0.0</td>\n",
              "      <td>0.0</td>\n",
              "      <td>0.0</td>\n",
              "      <td>0.0</td>\n",
              "      <td>0.0</td>\n",
              "      <td>0.0</td>\n",
              "      <td>0.0</td>\n",
              "      <td>0.0</td>\n",
              "      <td>0.0</td>\n",
              "      <td>0.0</td>\n",
              "      <td>0.0</td>\n",
              "      <td>0.472332</td>\n",
              "      <td>0.0</td>\n",
              "      <td>0.0</td>\n",
              "      <td>0.0</td>\n",
              "      <td>0.0</td>\n",
              "      <td>0.408248</td>\n",
              "      <td>0.408248</td>\n",
              "      <td>0.408248</td>\n",
              "      <td>0.408248</td>\n",
              "      <td>0.408248</td>\n",
              "      <td>0.408248</td>\n",
              "      <td>0.0</td>\n",
              "      <td>0.0</td>\n",
              "      <td>0.000000</td>\n",
              "      <td>0.000000</td>\n",
              "      <td>0.000000</td>\n",
              "      <td>0.0</td>\n",
              "      <td>0.0</td>\n",
              "    </tr>\n",
              "    <tr>\n",
              "      <th>3</th>\n",
              "      <td>True</td>\n",
              "      <td>1</td>\n",
              "      <td>True</td>\n",
              "      <td>True</td>\n",
              "      <td>Centrum-West</td>\n",
              "      <td>Private room</td>\n",
              "      <td>2</td>\n",
              "      <td>1.5</td>\n",
              "      <td>1.0</td>\n",
              "      <td>1.0</td>\n",
              "      <td>[\"Patio or balcony\", \"Hangers\", \"Dishes and silverware\", \"Luggage dropoff allowed\", \"Breakfast\", \"Coffee maker\", \"Lake access\", \"Long term stays allowed\", \"Private entrance\", \"Waterfront\", \"Carbon monoxide alarm\", \"Dedicated workspace\", \"Hot water\", \"Heating\", \"TV\", \"Hair dryer\", \"Essentials\", \"...</td>\n",
              "      <td>125.0</td>\n",
              "      <td>2</td>\n",
              "      <td>730</td>\n",
              "      <td>True</td>\n",
              "      <td>136</td>\n",
              "      <td>219</td>\n",
              "      <td>99.0</td>\n",
              "      <td>True</td>\n",
              "      <td>False</td>\n",
              "      <td>10.89</td>\n",
              "      <td>0.000000</td>\n",
              "      <td>0.203121</td>\n",
              "      <td>0.203121</td>\n",
              "      <td>0.0</td>\n",
              "      <td>0.000000</td>\n",
              "      <td>0.000000</td>\n",
              "      <td>0.00000</td>\n",
              "      <td>0.00000</td>\n",
              "      <td>0.254753</td>\n",
              "      <td>0.000000</td>\n",
              "      <td>0.000000</td>\n",
              "      <td>0.000000</td>\n",
              "      <td>0.000000</td>\n",
              "      <td>0.0</td>\n",
              "      <td>0.170268</td>\n",
              "      <td>0.170268</td>\n",
              "      <td>0.172279</td>\n",
              "      <td>0.000000</td>\n",
              "      <td>0.000000</td>\n",
              "      <td>...</td>\n",
              "      <td>0.0</td>\n",
              "      <td>0.0</td>\n",
              "      <td>0.0</td>\n",
              "      <td>0.0</td>\n",
              "      <td>0.0</td>\n",
              "      <td>0.0</td>\n",
              "      <td>0.000000</td>\n",
              "      <td>0.000000</td>\n",
              "      <td>0.000000</td>\n",
              "      <td>0.000000</td>\n",
              "      <td>0.0</td>\n",
              "      <td>0.0</td>\n",
              "      <td>0.0</td>\n",
              "      <td>0.0</td>\n",
              "      <td>0.0</td>\n",
              "      <td>0.0</td>\n",
              "      <td>0.0</td>\n",
              "      <td>0.0</td>\n",
              "      <td>0.0</td>\n",
              "      <td>0.0</td>\n",
              "      <td>0.0</td>\n",
              "      <td>0.0</td>\n",
              "      <td>0.472332</td>\n",
              "      <td>0.0</td>\n",
              "      <td>0.0</td>\n",
              "      <td>0.0</td>\n",
              "      <td>0.0</td>\n",
              "      <td>0.000000</td>\n",
              "      <td>0.000000</td>\n",
              "      <td>0.000000</td>\n",
              "      <td>0.000000</td>\n",
              "      <td>0.000000</td>\n",
              "      <td>0.000000</td>\n",
              "      <td>0.0</td>\n",
              "      <td>0.0</td>\n",
              "      <td>0.580741</td>\n",
              "      <td>0.580741</td>\n",
              "      <td>0.570509</td>\n",
              "      <td>0.0</td>\n",
              "      <td>0.0</td>\n",
              "    </tr>\n",
              "    <tr>\n",
              "      <th>4</th>\n",
              "      <td>True</td>\n",
              "      <td>2</td>\n",
              "      <td>True</td>\n",
              "      <td>True</td>\n",
              "      <td>Centrum-Oost</td>\n",
              "      <td>Private room</td>\n",
              "      <td>2</td>\n",
              "      <td>1.0</td>\n",
              "      <td>1.0</td>\n",
              "      <td>1.0</td>\n",
              "      <td>[\"Hot water\", \"Essentials\", \"Smoke alarm\", \"Hangers\", \"Heating\", \"Lock on bedroom door\", \"Private entrance\", \"Refrigerator\", \"Carbon monoxide alarm\", \"Host greets you\", \"Shampoo\", \"Wifi\", \"Hair dryer\", \"Long term stays allowed\", \"Fire extinguisher\", \"Dryer\"]</td>\n",
              "      <td>75.0</td>\n",
              "      <td>2</td>\n",
              "      <td>1825</td>\n",
              "      <td>True</td>\n",
              "      <td>338</td>\n",
              "      <td>336</td>\n",
              "      <td>97.0</td>\n",
              "      <td>False</td>\n",
              "      <td>True</td>\n",
              "      <td>10.75</td>\n",
              "      <td>0.000000</td>\n",
              "      <td>0.000000</td>\n",
              "      <td>0.000000</td>\n",
              "      <td>0.0</td>\n",
              "      <td>0.000000</td>\n",
              "      <td>0.000000</td>\n",
              "      <td>0.00000</td>\n",
              "      <td>0.00000</td>\n",
              "      <td>0.000000</td>\n",
              "      <td>0.000000</td>\n",
              "      <td>0.000000</td>\n",
              "      <td>0.000000</td>\n",
              "      <td>0.000000</td>\n",
              "      <td>0.0</td>\n",
              "      <td>0.230281</td>\n",
              "      <td>0.230281</td>\n",
              "      <td>0.000000</td>\n",
              "      <td>0.000000</td>\n",
              "      <td>0.000000</td>\n",
              "      <td>...</td>\n",
              "      <td>0.0</td>\n",
              "      <td>0.0</td>\n",
              "      <td>0.0</td>\n",
              "      <td>0.0</td>\n",
              "      <td>0.0</td>\n",
              "      <td>0.0</td>\n",
              "      <td>0.539574</td>\n",
              "      <td>0.000000</td>\n",
              "      <td>0.000000</td>\n",
              "      <td>0.000000</td>\n",
              "      <td>0.0</td>\n",
              "      <td>0.0</td>\n",
              "      <td>0.0</td>\n",
              "      <td>0.0</td>\n",
              "      <td>0.0</td>\n",
              "      <td>0.0</td>\n",
              "      <td>0.0</td>\n",
              "      <td>0.0</td>\n",
              "      <td>0.0</td>\n",
              "      <td>0.0</td>\n",
              "      <td>0.0</td>\n",
              "      <td>0.0</td>\n",
              "      <td>0.000000</td>\n",
              "      <td>0.0</td>\n",
              "      <td>0.0</td>\n",
              "      <td>0.0</td>\n",
              "      <td>0.0</td>\n",
              "      <td>0.000000</td>\n",
              "      <td>0.000000</td>\n",
              "      <td>0.000000</td>\n",
              "      <td>0.000000</td>\n",
              "      <td>0.000000</td>\n",
              "      <td>0.000000</td>\n",
              "      <td>0.0</td>\n",
              "      <td>0.0</td>\n",
              "      <td>0.580741</td>\n",
              "      <td>0.580741</td>\n",
              "      <td>0.570509</td>\n",
              "      <td>0.0</td>\n",
              "      <td>0.0</td>\n",
              "    </tr>\n",
              "  </tbody>\n",
              "</table>\n",
              "<p>5 rows × 193 columns</p>\n",
              "</div>"
            ],
            "text/plain": [
              "   superhost  total_listings  profile_pic  ...      room shared shared room\n",
              "0       True               1         True  ...  0.570509    0.0         0.0\n",
              "1      False               2         True  ...  0.570509    0.0         0.0\n",
              "2       True               2         True  ...  0.000000    0.0         0.0\n",
              "3       True               1         True  ...  0.570509    0.0         0.0\n",
              "4       True               2         True  ...  0.570509    0.0         0.0\n",
              "\n",
              "[5 rows x 193 columns]"
            ]
          },
          "metadata": {
            "tags": []
          },
          "execution_count": 13
        }
      ]
    },
    {
      "cell_type": "code",
      "metadata": {
        "colab": {
          "base_uri": "https://localhost:8080/",
          "height": 304
        },
        "id": "59b5PIHE757o",
        "outputId": "ca05dc34-cdfc-4b6e-8332-350bd8b3c35e"
      },
      "source": [
        "# Drop the columns I vectorized and merged back into dataframe\r\n",
        "amsterdam_vects = amsterdam_vects.drop(columns=['neighborhood', 'room_type', \r\n",
        "                                               'amenities'])\r\n",
        "\r\n",
        "# Check my work\r\n",
        "print(amsterdam_vects.shape)\r\n",
        "amsterdam_vects.head()"
      ],
      "execution_count": 14,
      "outputs": [
        {
          "output_type": "stream",
          "text": [
            "(18291, 190)\n"
          ],
          "name": "stdout"
        },
        {
          "output_type": "execute_result",
          "data": {
            "text/html": [
              "<div>\n",
              "<style scoped>\n",
              "    .dataframe tbody tr th:only-of-type {\n",
              "        vertical-align: middle;\n",
              "    }\n",
              "\n",
              "    .dataframe tbody tr th {\n",
              "        vertical-align: top;\n",
              "    }\n",
              "\n",
              "    .dataframe thead th {\n",
              "        text-align: right;\n",
              "    }\n",
              "</style>\n",
              "<table border=\"1\" class=\"dataframe\">\n",
              "  <thead>\n",
              "    <tr style=\"text-align: right;\">\n",
              "      <th></th>\n",
              "      <th>superhost</th>\n",
              "      <th>total_listings</th>\n",
              "      <th>profile_pic</th>\n",
              "      <th>verified_id</th>\n",
              "      <th>accommodates</th>\n",
              "      <th>bathrooms</th>\n",
              "      <th>bedrooms</th>\n",
              "      <th>num_of_beds</th>\n",
              "      <th>price</th>\n",
              "      <th>min_nights</th>\n",
              "      <th>max_nights</th>\n",
              "      <th>available</th>\n",
              "      <th>avail_next_365_days</th>\n",
              "      <th>num_of_reviews</th>\n",
              "      <th>avg_review_score</th>\n",
              "      <th>instant_bookable</th>\n",
              "      <th>shared_bath</th>\n",
              "      <th>years_hosting</th>\n",
              "      <th>aid kit</th>\n",
              "      <th>alarm dedicated</th>\n",
              "      <th>alarm dedicated workspace</th>\n",
              "      <th>alarm kitchen</th>\n",
              "      <th>alarm stove</th>\n",
              "      <th>alarm stove washer</th>\n",
              "      <th>allowed aid</th>\n",
              "      <th>allowed aid kit</th>\n",
              "      <th>balcony hangers</th>\n",
              "      <th>basics dishes</th>\n",
              "      <th>basics dishes silverware</th>\n",
              "      <th>bed linens</th>\n",
              "      <th>cable tv</th>\n",
              "      <th>cable tv wifi</th>\n",
              "      <th>carbon monoxide</th>\n",
              "      <th>carbon monoxide alarm</th>\n",
              "      <th>coffee maker</th>\n",
              "      <th>coffee maker long</th>\n",
              "      <th>cooking basics</th>\n",
              "      <th>cooking basics dishes</th>\n",
              "      <th>dedicated workspace host</th>\n",
              "      <th>dishes silverware</th>\n",
              "      <th>...</th>\n",
              "      <th>lommer</th>\n",
              "      <th>nieuw</th>\n",
              "      <th>nieuw sloten</th>\n",
              "      <th>noord</th>\n",
              "      <th>noord oost</th>\n",
              "      <th>noord west</th>\n",
              "      <th>oost</th>\n",
              "      <th>oostelijk</th>\n",
              "      <th>oostelijk havengebied</th>\n",
              "      <th>oostelijk havengebied indische</th>\n",
              "      <th>osdorp</th>\n",
              "      <th>oud</th>\n",
              "      <th>oud noord</th>\n",
              "      <th>oud oost</th>\n",
              "      <th>oud west</th>\n",
              "      <th>pijp</th>\n",
              "      <th>pijp rivierenbuurt</th>\n",
              "      <th>rivierenbuurt</th>\n",
              "      <th>sloten</th>\n",
              "      <th>slotermeer</th>\n",
              "      <th>slotervaart</th>\n",
              "      <th>watergraafsmeer</th>\n",
              "      <th>west</th>\n",
              "      <th>westerpark</th>\n",
              "      <th>zeeburgereiland</th>\n",
              "      <th>zuid</th>\n",
              "      <th>zuidas</th>\n",
              "      <th>apt</th>\n",
              "      <th>entire</th>\n",
              "      <th>entire home</th>\n",
              "      <th>entire home apt</th>\n",
              "      <th>home</th>\n",
              "      <th>home apt</th>\n",
              "      <th>hotel</th>\n",
              "      <th>hotel room</th>\n",
              "      <th>private</th>\n",
              "      <th>private room</th>\n",
              "      <th>room</th>\n",
              "      <th>shared</th>\n",
              "      <th>shared room</th>\n",
              "    </tr>\n",
              "  </thead>\n",
              "  <tbody>\n",
              "    <tr>\n",
              "      <th>0</th>\n",
              "      <td>True</td>\n",
              "      <td>1</td>\n",
              "      <td>True</td>\n",
              "      <td>True</td>\n",
              "      <td>2</td>\n",
              "      <td>1.5</td>\n",
              "      <td>1.0</td>\n",
              "      <td>2.0</td>\n",
              "      <td>59.0</td>\n",
              "      <td>3</td>\n",
              "      <td>1125</td>\n",
              "      <td>True</td>\n",
              "      <td>139</td>\n",
              "      <td>278</td>\n",
              "      <td>98.0</td>\n",
              "      <td>True</td>\n",
              "      <td>True</td>\n",
              "      <td>12.38</td>\n",
              "      <td>0.125067</td>\n",
              "      <td>0.141336</td>\n",
              "      <td>0.141336</td>\n",
              "      <td>0.0</td>\n",
              "      <td>0.000000</td>\n",
              "      <td>0.000000</td>\n",
              "      <td>0.17278</td>\n",
              "      <td>0.17278</td>\n",
              "      <td>0.000000</td>\n",
              "      <td>0.000000</td>\n",
              "      <td>0.000000</td>\n",
              "      <td>0.129064</td>\n",
              "      <td>0.000000</td>\n",
              "      <td>0.0</td>\n",
              "      <td>0.118476</td>\n",
              "      <td>0.118476</td>\n",
              "      <td>0.119876</td>\n",
              "      <td>0.000000</td>\n",
              "      <td>0.000000</td>\n",
              "      <td>0.000000</td>\n",
              "      <td>0.164755</td>\n",
              "      <td>0.000000</td>\n",
              "      <td>...</td>\n",
              "      <td>0.0</td>\n",
              "      <td>0.0</td>\n",
              "      <td>0.0</td>\n",
              "      <td>0.0</td>\n",
              "      <td>0.0</td>\n",
              "      <td>0.0</td>\n",
              "      <td>0.000000</td>\n",
              "      <td>0.333333</td>\n",
              "      <td>0.333333</td>\n",
              "      <td>0.333333</td>\n",
              "      <td>0.0</td>\n",
              "      <td>0.0</td>\n",
              "      <td>0.0</td>\n",
              "      <td>0.0</td>\n",
              "      <td>0.0</td>\n",
              "      <td>0.0</td>\n",
              "      <td>0.0</td>\n",
              "      <td>0.0</td>\n",
              "      <td>0.0</td>\n",
              "      <td>0.0</td>\n",
              "      <td>0.0</td>\n",
              "      <td>0.0</td>\n",
              "      <td>0.000000</td>\n",
              "      <td>0.0</td>\n",
              "      <td>0.0</td>\n",
              "      <td>0.0</td>\n",
              "      <td>0.0</td>\n",
              "      <td>0.000000</td>\n",
              "      <td>0.000000</td>\n",
              "      <td>0.000000</td>\n",
              "      <td>0.000000</td>\n",
              "      <td>0.000000</td>\n",
              "      <td>0.000000</td>\n",
              "      <td>0.0</td>\n",
              "      <td>0.0</td>\n",
              "      <td>0.580741</td>\n",
              "      <td>0.580741</td>\n",
              "      <td>0.570509</td>\n",
              "      <td>0.0</td>\n",
              "      <td>0.0</td>\n",
              "    </tr>\n",
              "    <tr>\n",
              "      <th>1</th>\n",
              "      <td>False</td>\n",
              "      <td>2</td>\n",
              "      <td>True</td>\n",
              "      <td>True</td>\n",
              "      <td>2</td>\n",
              "      <td>1.0</td>\n",
              "      <td>1.0</td>\n",
              "      <td>1.0</td>\n",
              "      <td>129.0</td>\n",
              "      <td>1</td>\n",
              "      <td>365</td>\n",
              "      <td>True</td>\n",
              "      <td>0</td>\n",
              "      <td>339</td>\n",
              "      <td>89.0</td>\n",
              "      <td>True</td>\n",
              "      <td>False</td>\n",
              "      <td>11.19</td>\n",
              "      <td>0.000000</td>\n",
              "      <td>0.208325</td>\n",
              "      <td>0.208325</td>\n",
              "      <td>0.0</td>\n",
              "      <td>0.000000</td>\n",
              "      <td>0.000000</td>\n",
              "      <td>0.00000</td>\n",
              "      <td>0.00000</td>\n",
              "      <td>0.000000</td>\n",
              "      <td>0.000000</td>\n",
              "      <td>0.000000</td>\n",
              "      <td>0.190236</td>\n",
              "      <td>0.000000</td>\n",
              "      <td>0.0</td>\n",
              "      <td>0.174631</td>\n",
              "      <td>0.174631</td>\n",
              "      <td>0.000000</td>\n",
              "      <td>0.000000</td>\n",
              "      <td>0.000000</td>\n",
              "      <td>0.000000</td>\n",
              "      <td>0.242845</td>\n",
              "      <td>0.000000</td>\n",
              "      <td>...</td>\n",
              "      <td>0.0</td>\n",
              "      <td>0.0</td>\n",
              "      <td>0.0</td>\n",
              "      <td>0.0</td>\n",
              "      <td>0.0</td>\n",
              "      <td>0.0</td>\n",
              "      <td>0.539574</td>\n",
              "      <td>0.000000</td>\n",
              "      <td>0.000000</td>\n",
              "      <td>0.000000</td>\n",
              "      <td>0.0</td>\n",
              "      <td>0.0</td>\n",
              "      <td>0.0</td>\n",
              "      <td>0.0</td>\n",
              "      <td>0.0</td>\n",
              "      <td>0.0</td>\n",
              "      <td>0.0</td>\n",
              "      <td>0.0</td>\n",
              "      <td>0.0</td>\n",
              "      <td>0.0</td>\n",
              "      <td>0.0</td>\n",
              "      <td>0.0</td>\n",
              "      <td>0.000000</td>\n",
              "      <td>0.0</td>\n",
              "      <td>0.0</td>\n",
              "      <td>0.0</td>\n",
              "      <td>0.0</td>\n",
              "      <td>0.000000</td>\n",
              "      <td>0.000000</td>\n",
              "      <td>0.000000</td>\n",
              "      <td>0.000000</td>\n",
              "      <td>0.000000</td>\n",
              "      <td>0.000000</td>\n",
              "      <td>0.0</td>\n",
              "      <td>0.0</td>\n",
              "      <td>0.580741</td>\n",
              "      <td>0.580741</td>\n",
              "      <td>0.570509</td>\n",
              "      <td>0.0</td>\n",
              "      <td>0.0</td>\n",
              "    </tr>\n",
              "    <tr>\n",
              "      <th>2</th>\n",
              "      <td>True</td>\n",
              "      <td>2</td>\n",
              "      <td>True</td>\n",
              "      <td>False</td>\n",
              "      <td>3</td>\n",
              "      <td>1.0</td>\n",
              "      <td>1.0</td>\n",
              "      <td>1.0</td>\n",
              "      <td>125.0</td>\n",
              "      <td>14</td>\n",
              "      <td>180</td>\n",
              "      <td>True</td>\n",
              "      <td>251</td>\n",
              "      <td>5</td>\n",
              "      <td>100.0</td>\n",
              "      <td>False</td>\n",
              "      <td>False</td>\n",
              "      <td>11.23</td>\n",
              "      <td>0.000000</td>\n",
              "      <td>0.000000</td>\n",
              "      <td>0.000000</td>\n",
              "      <td>0.0</td>\n",
              "      <td>0.143755</td>\n",
              "      <td>0.155314</td>\n",
              "      <td>0.00000</td>\n",
              "      <td>0.00000</td>\n",
              "      <td>0.000000</td>\n",
              "      <td>0.140321</td>\n",
              "      <td>0.140321</td>\n",
              "      <td>0.125041</td>\n",
              "      <td>0.125164</td>\n",
              "      <td>0.0</td>\n",
              "      <td>0.000000</td>\n",
              "      <td>0.000000</td>\n",
              "      <td>0.116139</td>\n",
              "      <td>0.173159</td>\n",
              "      <td>0.121052</td>\n",
              "      <td>0.140321</td>\n",
              "      <td>0.000000</td>\n",
              "      <td>0.108391</td>\n",
              "      <td>...</td>\n",
              "      <td>0.0</td>\n",
              "      <td>0.0</td>\n",
              "      <td>0.0</td>\n",
              "      <td>0.0</td>\n",
              "      <td>0.0</td>\n",
              "      <td>0.0</td>\n",
              "      <td>0.000000</td>\n",
              "      <td>0.000000</td>\n",
              "      <td>0.000000</td>\n",
              "      <td>0.000000</td>\n",
              "      <td>0.0</td>\n",
              "      <td>0.0</td>\n",
              "      <td>0.0</td>\n",
              "      <td>0.0</td>\n",
              "      <td>0.0</td>\n",
              "      <td>0.0</td>\n",
              "      <td>0.0</td>\n",
              "      <td>0.0</td>\n",
              "      <td>0.0</td>\n",
              "      <td>0.0</td>\n",
              "      <td>0.0</td>\n",
              "      <td>0.0</td>\n",
              "      <td>0.472332</td>\n",
              "      <td>0.0</td>\n",
              "      <td>0.0</td>\n",
              "      <td>0.0</td>\n",
              "      <td>0.0</td>\n",
              "      <td>0.408248</td>\n",
              "      <td>0.408248</td>\n",
              "      <td>0.408248</td>\n",
              "      <td>0.408248</td>\n",
              "      <td>0.408248</td>\n",
              "      <td>0.408248</td>\n",
              "      <td>0.0</td>\n",
              "      <td>0.0</td>\n",
              "      <td>0.000000</td>\n",
              "      <td>0.000000</td>\n",
              "      <td>0.000000</td>\n",
              "      <td>0.0</td>\n",
              "      <td>0.0</td>\n",
              "    </tr>\n",
              "    <tr>\n",
              "      <th>3</th>\n",
              "      <td>True</td>\n",
              "      <td>1</td>\n",
              "      <td>True</td>\n",
              "      <td>True</td>\n",
              "      <td>2</td>\n",
              "      <td>1.5</td>\n",
              "      <td>1.0</td>\n",
              "      <td>1.0</td>\n",
              "      <td>125.0</td>\n",
              "      <td>2</td>\n",
              "      <td>730</td>\n",
              "      <td>True</td>\n",
              "      <td>136</td>\n",
              "      <td>219</td>\n",
              "      <td>99.0</td>\n",
              "      <td>True</td>\n",
              "      <td>False</td>\n",
              "      <td>10.89</td>\n",
              "      <td>0.000000</td>\n",
              "      <td>0.203121</td>\n",
              "      <td>0.203121</td>\n",
              "      <td>0.0</td>\n",
              "      <td>0.000000</td>\n",
              "      <td>0.000000</td>\n",
              "      <td>0.00000</td>\n",
              "      <td>0.00000</td>\n",
              "      <td>0.254753</td>\n",
              "      <td>0.000000</td>\n",
              "      <td>0.000000</td>\n",
              "      <td>0.000000</td>\n",
              "      <td>0.000000</td>\n",
              "      <td>0.0</td>\n",
              "      <td>0.170268</td>\n",
              "      <td>0.170268</td>\n",
              "      <td>0.172279</td>\n",
              "      <td>0.000000</td>\n",
              "      <td>0.000000</td>\n",
              "      <td>0.000000</td>\n",
              "      <td>0.000000</td>\n",
              "      <td>0.160787</td>\n",
              "      <td>...</td>\n",
              "      <td>0.0</td>\n",
              "      <td>0.0</td>\n",
              "      <td>0.0</td>\n",
              "      <td>0.0</td>\n",
              "      <td>0.0</td>\n",
              "      <td>0.0</td>\n",
              "      <td>0.000000</td>\n",
              "      <td>0.000000</td>\n",
              "      <td>0.000000</td>\n",
              "      <td>0.000000</td>\n",
              "      <td>0.0</td>\n",
              "      <td>0.0</td>\n",
              "      <td>0.0</td>\n",
              "      <td>0.0</td>\n",
              "      <td>0.0</td>\n",
              "      <td>0.0</td>\n",
              "      <td>0.0</td>\n",
              "      <td>0.0</td>\n",
              "      <td>0.0</td>\n",
              "      <td>0.0</td>\n",
              "      <td>0.0</td>\n",
              "      <td>0.0</td>\n",
              "      <td>0.472332</td>\n",
              "      <td>0.0</td>\n",
              "      <td>0.0</td>\n",
              "      <td>0.0</td>\n",
              "      <td>0.0</td>\n",
              "      <td>0.000000</td>\n",
              "      <td>0.000000</td>\n",
              "      <td>0.000000</td>\n",
              "      <td>0.000000</td>\n",
              "      <td>0.000000</td>\n",
              "      <td>0.000000</td>\n",
              "      <td>0.0</td>\n",
              "      <td>0.0</td>\n",
              "      <td>0.580741</td>\n",
              "      <td>0.580741</td>\n",
              "      <td>0.570509</td>\n",
              "      <td>0.0</td>\n",
              "      <td>0.0</td>\n",
              "    </tr>\n",
              "    <tr>\n",
              "      <th>4</th>\n",
              "      <td>True</td>\n",
              "      <td>2</td>\n",
              "      <td>True</td>\n",
              "      <td>True</td>\n",
              "      <td>2</td>\n",
              "      <td>1.0</td>\n",
              "      <td>1.0</td>\n",
              "      <td>1.0</td>\n",
              "      <td>75.0</td>\n",
              "      <td>2</td>\n",
              "      <td>1825</td>\n",
              "      <td>True</td>\n",
              "      <td>338</td>\n",
              "      <td>336</td>\n",
              "      <td>97.0</td>\n",
              "      <td>False</td>\n",
              "      <td>True</td>\n",
              "      <td>10.75</td>\n",
              "      <td>0.000000</td>\n",
              "      <td>0.000000</td>\n",
              "      <td>0.000000</td>\n",
              "      <td>0.0</td>\n",
              "      <td>0.000000</td>\n",
              "      <td>0.000000</td>\n",
              "      <td>0.00000</td>\n",
              "      <td>0.00000</td>\n",
              "      <td>0.000000</td>\n",
              "      <td>0.000000</td>\n",
              "      <td>0.000000</td>\n",
              "      <td>0.000000</td>\n",
              "      <td>0.000000</td>\n",
              "      <td>0.0</td>\n",
              "      <td>0.230281</td>\n",
              "      <td>0.230281</td>\n",
              "      <td>0.000000</td>\n",
              "      <td>0.000000</td>\n",
              "      <td>0.000000</td>\n",
              "      <td>0.000000</td>\n",
              "      <td>0.000000</td>\n",
              "      <td>0.000000</td>\n",
              "      <td>...</td>\n",
              "      <td>0.0</td>\n",
              "      <td>0.0</td>\n",
              "      <td>0.0</td>\n",
              "      <td>0.0</td>\n",
              "      <td>0.0</td>\n",
              "      <td>0.0</td>\n",
              "      <td>0.539574</td>\n",
              "      <td>0.000000</td>\n",
              "      <td>0.000000</td>\n",
              "      <td>0.000000</td>\n",
              "      <td>0.0</td>\n",
              "      <td>0.0</td>\n",
              "      <td>0.0</td>\n",
              "      <td>0.0</td>\n",
              "      <td>0.0</td>\n",
              "      <td>0.0</td>\n",
              "      <td>0.0</td>\n",
              "      <td>0.0</td>\n",
              "      <td>0.0</td>\n",
              "      <td>0.0</td>\n",
              "      <td>0.0</td>\n",
              "      <td>0.0</td>\n",
              "      <td>0.000000</td>\n",
              "      <td>0.0</td>\n",
              "      <td>0.0</td>\n",
              "      <td>0.0</td>\n",
              "      <td>0.0</td>\n",
              "      <td>0.000000</td>\n",
              "      <td>0.000000</td>\n",
              "      <td>0.000000</td>\n",
              "      <td>0.000000</td>\n",
              "      <td>0.000000</td>\n",
              "      <td>0.000000</td>\n",
              "      <td>0.0</td>\n",
              "      <td>0.0</td>\n",
              "      <td>0.580741</td>\n",
              "      <td>0.580741</td>\n",
              "      <td>0.570509</td>\n",
              "      <td>0.0</td>\n",
              "      <td>0.0</td>\n",
              "    </tr>\n",
              "  </tbody>\n",
              "</table>\n",
              "<p>5 rows × 190 columns</p>\n",
              "</div>"
            ],
            "text/plain": [
              "   superhost  total_listings  profile_pic  ...      room  shared  shared room\n",
              "0       True               1         True  ...  0.570509     0.0          0.0\n",
              "1      False               2         True  ...  0.570509     0.0          0.0\n",
              "2       True               2         True  ...  0.000000     0.0          0.0\n",
              "3       True               1         True  ...  0.570509     0.0          0.0\n",
              "4       True               2         True  ...  0.570509     0.0          0.0\n",
              "\n",
              "[5 rows x 190 columns]"
            ]
          },
          "metadata": {
            "tags": []
          },
          "execution_count": 14
        }
      ]
    },
    {
      "cell_type": "markdown",
      "metadata": {
        "id": "lKeEX2OEwxjl"
      },
      "source": [
        "### Replace True/False values with 1's and 0's\r\n",
        "\r\n",
        "- All data being passed into the model needs to me numeric. \r\n",
        "\r\n",
        "- The model will not convert the `bool` features to numeric for me, so I need to complete this step before passing into the model."
      ]
    },
    {
      "cell_type": "code",
      "metadata": {
        "colab": {
          "base_uri": "https://localhost:8080/",
          "height": 287
        },
        "id": "_B7fSb2itDht",
        "outputId": "292e6ecf-2469-48ed-cedf-9af540dbf8aa"
      },
      "source": [
        "# Numerical representation on True and False\r\n",
        "amsterdam_vects = amsterdam_vects.replace([True, False], [1, 0])\r\n",
        "\r\n",
        "# Check my work\r\n",
        "amsterdam_vects.head()"
      ],
      "execution_count": 15,
      "outputs": [
        {
          "output_type": "execute_result",
          "data": {
            "text/html": [
              "<div>\n",
              "<style scoped>\n",
              "    .dataframe tbody tr th:only-of-type {\n",
              "        vertical-align: middle;\n",
              "    }\n",
              "\n",
              "    .dataframe tbody tr th {\n",
              "        vertical-align: top;\n",
              "    }\n",
              "\n",
              "    .dataframe thead th {\n",
              "        text-align: right;\n",
              "    }\n",
              "</style>\n",
              "<table border=\"1\" class=\"dataframe\">\n",
              "  <thead>\n",
              "    <tr style=\"text-align: right;\">\n",
              "      <th></th>\n",
              "      <th>superhost</th>\n",
              "      <th>total_listings</th>\n",
              "      <th>profile_pic</th>\n",
              "      <th>verified_id</th>\n",
              "      <th>accommodates</th>\n",
              "      <th>bathrooms</th>\n",
              "      <th>bedrooms</th>\n",
              "      <th>num_of_beds</th>\n",
              "      <th>price</th>\n",
              "      <th>min_nights</th>\n",
              "      <th>max_nights</th>\n",
              "      <th>available</th>\n",
              "      <th>avail_next_365_days</th>\n",
              "      <th>num_of_reviews</th>\n",
              "      <th>avg_review_score</th>\n",
              "      <th>instant_bookable</th>\n",
              "      <th>shared_bath</th>\n",
              "      <th>years_hosting</th>\n",
              "      <th>aid kit</th>\n",
              "      <th>alarm dedicated</th>\n",
              "      <th>alarm dedicated workspace</th>\n",
              "      <th>alarm kitchen</th>\n",
              "      <th>alarm stove</th>\n",
              "      <th>alarm stove washer</th>\n",
              "      <th>allowed aid</th>\n",
              "      <th>allowed aid kit</th>\n",
              "      <th>balcony hangers</th>\n",
              "      <th>basics dishes</th>\n",
              "      <th>basics dishes silverware</th>\n",
              "      <th>bed linens</th>\n",
              "      <th>cable tv</th>\n",
              "      <th>cable tv wifi</th>\n",
              "      <th>carbon monoxide</th>\n",
              "      <th>carbon monoxide alarm</th>\n",
              "      <th>coffee maker</th>\n",
              "      <th>coffee maker long</th>\n",
              "      <th>cooking basics</th>\n",
              "      <th>cooking basics dishes</th>\n",
              "      <th>dedicated workspace host</th>\n",
              "      <th>dishes silverware</th>\n",
              "      <th>...</th>\n",
              "      <th>lommer</th>\n",
              "      <th>nieuw</th>\n",
              "      <th>nieuw sloten</th>\n",
              "      <th>noord</th>\n",
              "      <th>noord oost</th>\n",
              "      <th>noord west</th>\n",
              "      <th>oost</th>\n",
              "      <th>oostelijk</th>\n",
              "      <th>oostelijk havengebied</th>\n",
              "      <th>oostelijk havengebied indische</th>\n",
              "      <th>osdorp</th>\n",
              "      <th>oud</th>\n",
              "      <th>oud noord</th>\n",
              "      <th>oud oost</th>\n",
              "      <th>oud west</th>\n",
              "      <th>pijp</th>\n",
              "      <th>pijp rivierenbuurt</th>\n",
              "      <th>rivierenbuurt</th>\n",
              "      <th>sloten</th>\n",
              "      <th>slotermeer</th>\n",
              "      <th>slotervaart</th>\n",
              "      <th>watergraafsmeer</th>\n",
              "      <th>west</th>\n",
              "      <th>westerpark</th>\n",
              "      <th>zeeburgereiland</th>\n",
              "      <th>zuid</th>\n",
              "      <th>zuidas</th>\n",
              "      <th>apt</th>\n",
              "      <th>entire</th>\n",
              "      <th>entire home</th>\n",
              "      <th>entire home apt</th>\n",
              "      <th>home</th>\n",
              "      <th>home apt</th>\n",
              "      <th>hotel</th>\n",
              "      <th>hotel room</th>\n",
              "      <th>private</th>\n",
              "      <th>private room</th>\n",
              "      <th>room</th>\n",
              "      <th>shared</th>\n",
              "      <th>shared room</th>\n",
              "    </tr>\n",
              "  </thead>\n",
              "  <tbody>\n",
              "    <tr>\n",
              "      <th>0</th>\n",
              "      <td>1</td>\n",
              "      <td>1</td>\n",
              "      <td>1</td>\n",
              "      <td>1</td>\n",
              "      <td>2</td>\n",
              "      <td>1.5</td>\n",
              "      <td>1.0</td>\n",
              "      <td>2.0</td>\n",
              "      <td>59.0</td>\n",
              "      <td>3</td>\n",
              "      <td>1125</td>\n",
              "      <td>1</td>\n",
              "      <td>139</td>\n",
              "      <td>278</td>\n",
              "      <td>98.0</td>\n",
              "      <td>1</td>\n",
              "      <td>1</td>\n",
              "      <td>12.38</td>\n",
              "      <td>0.125067</td>\n",
              "      <td>0.141336</td>\n",
              "      <td>0.141336</td>\n",
              "      <td>0.0</td>\n",
              "      <td>0.000000</td>\n",
              "      <td>0.000000</td>\n",
              "      <td>0.17278</td>\n",
              "      <td>0.17278</td>\n",
              "      <td>0.000000</td>\n",
              "      <td>0.000000</td>\n",
              "      <td>0.000000</td>\n",
              "      <td>0.129064</td>\n",
              "      <td>0.000000</td>\n",
              "      <td>0.0</td>\n",
              "      <td>0.118476</td>\n",
              "      <td>0.118476</td>\n",
              "      <td>0.119876</td>\n",
              "      <td>0.000000</td>\n",
              "      <td>0.000000</td>\n",
              "      <td>0.000000</td>\n",
              "      <td>0.164755</td>\n",
              "      <td>0.000000</td>\n",
              "      <td>...</td>\n",
              "      <td>0.0</td>\n",
              "      <td>0.0</td>\n",
              "      <td>0.0</td>\n",
              "      <td>0.0</td>\n",
              "      <td>0.0</td>\n",
              "      <td>0.0</td>\n",
              "      <td>0.000000</td>\n",
              "      <td>0.333333</td>\n",
              "      <td>0.333333</td>\n",
              "      <td>0.333333</td>\n",
              "      <td>0.0</td>\n",
              "      <td>0.0</td>\n",
              "      <td>0.0</td>\n",
              "      <td>0.0</td>\n",
              "      <td>0.0</td>\n",
              "      <td>0.0</td>\n",
              "      <td>0.0</td>\n",
              "      <td>0.0</td>\n",
              "      <td>0.0</td>\n",
              "      <td>0.0</td>\n",
              "      <td>0.0</td>\n",
              "      <td>0.0</td>\n",
              "      <td>0.000000</td>\n",
              "      <td>0.0</td>\n",
              "      <td>0.0</td>\n",
              "      <td>0.0</td>\n",
              "      <td>0.0</td>\n",
              "      <td>0.000000</td>\n",
              "      <td>0.000000</td>\n",
              "      <td>0.000000</td>\n",
              "      <td>0.000000</td>\n",
              "      <td>0.000000</td>\n",
              "      <td>0.000000</td>\n",
              "      <td>0.0</td>\n",
              "      <td>0.0</td>\n",
              "      <td>0.580741</td>\n",
              "      <td>0.580741</td>\n",
              "      <td>0.570509</td>\n",
              "      <td>0.0</td>\n",
              "      <td>0.0</td>\n",
              "    </tr>\n",
              "    <tr>\n",
              "      <th>1</th>\n",
              "      <td>0</td>\n",
              "      <td>2</td>\n",
              "      <td>1</td>\n",
              "      <td>1</td>\n",
              "      <td>2</td>\n",
              "      <td>1.0</td>\n",
              "      <td>1.0</td>\n",
              "      <td>1.0</td>\n",
              "      <td>129.0</td>\n",
              "      <td>1</td>\n",
              "      <td>365</td>\n",
              "      <td>1</td>\n",
              "      <td>0</td>\n",
              "      <td>339</td>\n",
              "      <td>89.0</td>\n",
              "      <td>1</td>\n",
              "      <td>0</td>\n",
              "      <td>11.19</td>\n",
              "      <td>0.000000</td>\n",
              "      <td>0.208325</td>\n",
              "      <td>0.208325</td>\n",
              "      <td>0.0</td>\n",
              "      <td>0.000000</td>\n",
              "      <td>0.000000</td>\n",
              "      <td>0.00000</td>\n",
              "      <td>0.00000</td>\n",
              "      <td>0.000000</td>\n",
              "      <td>0.000000</td>\n",
              "      <td>0.000000</td>\n",
              "      <td>0.190236</td>\n",
              "      <td>0.000000</td>\n",
              "      <td>0.0</td>\n",
              "      <td>0.174631</td>\n",
              "      <td>0.174631</td>\n",
              "      <td>0.000000</td>\n",
              "      <td>0.000000</td>\n",
              "      <td>0.000000</td>\n",
              "      <td>0.000000</td>\n",
              "      <td>0.242845</td>\n",
              "      <td>0.000000</td>\n",
              "      <td>...</td>\n",
              "      <td>0.0</td>\n",
              "      <td>0.0</td>\n",
              "      <td>0.0</td>\n",
              "      <td>0.0</td>\n",
              "      <td>0.0</td>\n",
              "      <td>0.0</td>\n",
              "      <td>0.539574</td>\n",
              "      <td>0.000000</td>\n",
              "      <td>0.000000</td>\n",
              "      <td>0.000000</td>\n",
              "      <td>0.0</td>\n",
              "      <td>0.0</td>\n",
              "      <td>0.0</td>\n",
              "      <td>0.0</td>\n",
              "      <td>0.0</td>\n",
              "      <td>0.0</td>\n",
              "      <td>0.0</td>\n",
              "      <td>0.0</td>\n",
              "      <td>0.0</td>\n",
              "      <td>0.0</td>\n",
              "      <td>0.0</td>\n",
              "      <td>0.0</td>\n",
              "      <td>0.000000</td>\n",
              "      <td>0.0</td>\n",
              "      <td>0.0</td>\n",
              "      <td>0.0</td>\n",
              "      <td>0.0</td>\n",
              "      <td>0.000000</td>\n",
              "      <td>0.000000</td>\n",
              "      <td>0.000000</td>\n",
              "      <td>0.000000</td>\n",
              "      <td>0.000000</td>\n",
              "      <td>0.000000</td>\n",
              "      <td>0.0</td>\n",
              "      <td>0.0</td>\n",
              "      <td>0.580741</td>\n",
              "      <td>0.580741</td>\n",
              "      <td>0.570509</td>\n",
              "      <td>0.0</td>\n",
              "      <td>0.0</td>\n",
              "    </tr>\n",
              "    <tr>\n",
              "      <th>2</th>\n",
              "      <td>1</td>\n",
              "      <td>2</td>\n",
              "      <td>1</td>\n",
              "      <td>0</td>\n",
              "      <td>3</td>\n",
              "      <td>1.0</td>\n",
              "      <td>1.0</td>\n",
              "      <td>1.0</td>\n",
              "      <td>125.0</td>\n",
              "      <td>14</td>\n",
              "      <td>180</td>\n",
              "      <td>1</td>\n",
              "      <td>251</td>\n",
              "      <td>5</td>\n",
              "      <td>100.0</td>\n",
              "      <td>0</td>\n",
              "      <td>0</td>\n",
              "      <td>11.23</td>\n",
              "      <td>0.000000</td>\n",
              "      <td>0.000000</td>\n",
              "      <td>0.000000</td>\n",
              "      <td>0.0</td>\n",
              "      <td>0.143755</td>\n",
              "      <td>0.155314</td>\n",
              "      <td>0.00000</td>\n",
              "      <td>0.00000</td>\n",
              "      <td>0.000000</td>\n",
              "      <td>0.140321</td>\n",
              "      <td>0.140321</td>\n",
              "      <td>0.125041</td>\n",
              "      <td>0.125164</td>\n",
              "      <td>0.0</td>\n",
              "      <td>0.000000</td>\n",
              "      <td>0.000000</td>\n",
              "      <td>0.116139</td>\n",
              "      <td>0.173159</td>\n",
              "      <td>0.121052</td>\n",
              "      <td>0.140321</td>\n",
              "      <td>0.000000</td>\n",
              "      <td>0.108391</td>\n",
              "      <td>...</td>\n",
              "      <td>0.0</td>\n",
              "      <td>0.0</td>\n",
              "      <td>0.0</td>\n",
              "      <td>0.0</td>\n",
              "      <td>0.0</td>\n",
              "      <td>0.0</td>\n",
              "      <td>0.000000</td>\n",
              "      <td>0.000000</td>\n",
              "      <td>0.000000</td>\n",
              "      <td>0.000000</td>\n",
              "      <td>0.0</td>\n",
              "      <td>0.0</td>\n",
              "      <td>0.0</td>\n",
              "      <td>0.0</td>\n",
              "      <td>0.0</td>\n",
              "      <td>0.0</td>\n",
              "      <td>0.0</td>\n",
              "      <td>0.0</td>\n",
              "      <td>0.0</td>\n",
              "      <td>0.0</td>\n",
              "      <td>0.0</td>\n",
              "      <td>0.0</td>\n",
              "      <td>0.472332</td>\n",
              "      <td>0.0</td>\n",
              "      <td>0.0</td>\n",
              "      <td>0.0</td>\n",
              "      <td>0.0</td>\n",
              "      <td>0.408248</td>\n",
              "      <td>0.408248</td>\n",
              "      <td>0.408248</td>\n",
              "      <td>0.408248</td>\n",
              "      <td>0.408248</td>\n",
              "      <td>0.408248</td>\n",
              "      <td>0.0</td>\n",
              "      <td>0.0</td>\n",
              "      <td>0.000000</td>\n",
              "      <td>0.000000</td>\n",
              "      <td>0.000000</td>\n",
              "      <td>0.0</td>\n",
              "      <td>0.0</td>\n",
              "    </tr>\n",
              "    <tr>\n",
              "      <th>3</th>\n",
              "      <td>1</td>\n",
              "      <td>1</td>\n",
              "      <td>1</td>\n",
              "      <td>1</td>\n",
              "      <td>2</td>\n",
              "      <td>1.5</td>\n",
              "      <td>1.0</td>\n",
              "      <td>1.0</td>\n",
              "      <td>125.0</td>\n",
              "      <td>2</td>\n",
              "      <td>730</td>\n",
              "      <td>1</td>\n",
              "      <td>136</td>\n",
              "      <td>219</td>\n",
              "      <td>99.0</td>\n",
              "      <td>1</td>\n",
              "      <td>0</td>\n",
              "      <td>10.89</td>\n",
              "      <td>0.000000</td>\n",
              "      <td>0.203121</td>\n",
              "      <td>0.203121</td>\n",
              "      <td>0.0</td>\n",
              "      <td>0.000000</td>\n",
              "      <td>0.000000</td>\n",
              "      <td>0.00000</td>\n",
              "      <td>0.00000</td>\n",
              "      <td>0.254753</td>\n",
              "      <td>0.000000</td>\n",
              "      <td>0.000000</td>\n",
              "      <td>0.000000</td>\n",
              "      <td>0.000000</td>\n",
              "      <td>0.0</td>\n",
              "      <td>0.170268</td>\n",
              "      <td>0.170268</td>\n",
              "      <td>0.172279</td>\n",
              "      <td>0.000000</td>\n",
              "      <td>0.000000</td>\n",
              "      <td>0.000000</td>\n",
              "      <td>0.000000</td>\n",
              "      <td>0.160787</td>\n",
              "      <td>...</td>\n",
              "      <td>0.0</td>\n",
              "      <td>0.0</td>\n",
              "      <td>0.0</td>\n",
              "      <td>0.0</td>\n",
              "      <td>0.0</td>\n",
              "      <td>0.0</td>\n",
              "      <td>0.000000</td>\n",
              "      <td>0.000000</td>\n",
              "      <td>0.000000</td>\n",
              "      <td>0.000000</td>\n",
              "      <td>0.0</td>\n",
              "      <td>0.0</td>\n",
              "      <td>0.0</td>\n",
              "      <td>0.0</td>\n",
              "      <td>0.0</td>\n",
              "      <td>0.0</td>\n",
              "      <td>0.0</td>\n",
              "      <td>0.0</td>\n",
              "      <td>0.0</td>\n",
              "      <td>0.0</td>\n",
              "      <td>0.0</td>\n",
              "      <td>0.0</td>\n",
              "      <td>0.472332</td>\n",
              "      <td>0.0</td>\n",
              "      <td>0.0</td>\n",
              "      <td>0.0</td>\n",
              "      <td>0.0</td>\n",
              "      <td>0.000000</td>\n",
              "      <td>0.000000</td>\n",
              "      <td>0.000000</td>\n",
              "      <td>0.000000</td>\n",
              "      <td>0.000000</td>\n",
              "      <td>0.000000</td>\n",
              "      <td>0.0</td>\n",
              "      <td>0.0</td>\n",
              "      <td>0.580741</td>\n",
              "      <td>0.580741</td>\n",
              "      <td>0.570509</td>\n",
              "      <td>0.0</td>\n",
              "      <td>0.0</td>\n",
              "    </tr>\n",
              "    <tr>\n",
              "      <th>4</th>\n",
              "      <td>1</td>\n",
              "      <td>2</td>\n",
              "      <td>1</td>\n",
              "      <td>1</td>\n",
              "      <td>2</td>\n",
              "      <td>1.0</td>\n",
              "      <td>1.0</td>\n",
              "      <td>1.0</td>\n",
              "      <td>75.0</td>\n",
              "      <td>2</td>\n",
              "      <td>1825</td>\n",
              "      <td>1</td>\n",
              "      <td>338</td>\n",
              "      <td>336</td>\n",
              "      <td>97.0</td>\n",
              "      <td>0</td>\n",
              "      <td>1</td>\n",
              "      <td>10.75</td>\n",
              "      <td>0.000000</td>\n",
              "      <td>0.000000</td>\n",
              "      <td>0.000000</td>\n",
              "      <td>0.0</td>\n",
              "      <td>0.000000</td>\n",
              "      <td>0.000000</td>\n",
              "      <td>0.00000</td>\n",
              "      <td>0.00000</td>\n",
              "      <td>0.000000</td>\n",
              "      <td>0.000000</td>\n",
              "      <td>0.000000</td>\n",
              "      <td>0.000000</td>\n",
              "      <td>0.000000</td>\n",
              "      <td>0.0</td>\n",
              "      <td>0.230281</td>\n",
              "      <td>0.230281</td>\n",
              "      <td>0.000000</td>\n",
              "      <td>0.000000</td>\n",
              "      <td>0.000000</td>\n",
              "      <td>0.000000</td>\n",
              "      <td>0.000000</td>\n",
              "      <td>0.000000</td>\n",
              "      <td>...</td>\n",
              "      <td>0.0</td>\n",
              "      <td>0.0</td>\n",
              "      <td>0.0</td>\n",
              "      <td>0.0</td>\n",
              "      <td>0.0</td>\n",
              "      <td>0.0</td>\n",
              "      <td>0.539574</td>\n",
              "      <td>0.000000</td>\n",
              "      <td>0.000000</td>\n",
              "      <td>0.000000</td>\n",
              "      <td>0.0</td>\n",
              "      <td>0.0</td>\n",
              "      <td>0.0</td>\n",
              "      <td>0.0</td>\n",
              "      <td>0.0</td>\n",
              "      <td>0.0</td>\n",
              "      <td>0.0</td>\n",
              "      <td>0.0</td>\n",
              "      <td>0.0</td>\n",
              "      <td>0.0</td>\n",
              "      <td>0.0</td>\n",
              "      <td>0.0</td>\n",
              "      <td>0.000000</td>\n",
              "      <td>0.0</td>\n",
              "      <td>0.0</td>\n",
              "      <td>0.0</td>\n",
              "      <td>0.0</td>\n",
              "      <td>0.000000</td>\n",
              "      <td>0.000000</td>\n",
              "      <td>0.000000</td>\n",
              "      <td>0.000000</td>\n",
              "      <td>0.000000</td>\n",
              "      <td>0.000000</td>\n",
              "      <td>0.0</td>\n",
              "      <td>0.0</td>\n",
              "      <td>0.580741</td>\n",
              "      <td>0.580741</td>\n",
              "      <td>0.570509</td>\n",
              "      <td>0.0</td>\n",
              "      <td>0.0</td>\n",
              "    </tr>\n",
              "  </tbody>\n",
              "</table>\n",
              "<p>5 rows × 190 columns</p>\n",
              "</div>"
            ],
            "text/plain": [
              "   superhost  total_listings  profile_pic  ...      room  shared  shared room\n",
              "0          1               1            1  ...  0.570509     0.0          0.0\n",
              "1          0               2            1  ...  0.570509     0.0          0.0\n",
              "2          1               2            1  ...  0.000000     0.0          0.0\n",
              "3          1               1            1  ...  0.570509     0.0          0.0\n",
              "4          1               2            1  ...  0.570509     0.0          0.0\n",
              "\n",
              "[5 rows x 190 columns]"
            ]
          },
          "metadata": {
            "tags": []
          },
          "execution_count": 15
        }
      ]
    },
    {
      "cell_type": "markdown",
      "metadata": {
        "id": "gRS8JN5xxEz_"
      },
      "source": [
        "### Split Data into Target and Features\r\n",
        "\r\n",
        "- Before I can scale my data, I have to remove the target feature from my other features"
      ]
    },
    {
      "cell_type": "code",
      "metadata": {
        "colab": {
          "base_uri": "https://localhost:8080/"
        },
        "id": "2742xyYt755W",
        "outputId": "a251808b-4749-4566-9a82-62a6d957e6ae"
      },
      "source": [
        "# Seperate the features from the target\r\n",
        "y = amsterdam_vects['price']\r\n",
        "X = amsterdam_vects.drop(columns='price')\r\n",
        "\r\n",
        "# Check my work\r\n",
        "y.shape, X.shape"
      ],
      "execution_count": 16,
      "outputs": [
        {
          "output_type": "execute_result",
          "data": {
            "text/plain": [
              "((18291,), (18291, 189))"
            ]
          },
          "metadata": {
            "tags": []
          },
          "execution_count": 16
        }
      ]
    },
    {
      "cell_type": "markdown",
      "metadata": {
        "id": "z7lFwmvwUav5"
      },
      "source": [
        "## Scale my Data\r\n",
        "\r\n",
        "- My data needs to be scaled to normalize it across the whole dataframe since I have document term matrices included in with the main data."
      ]
    },
    {
      "cell_type": "code",
      "metadata": {
        "colab": {
          "base_uri": "https://localhost:8080/"
        },
        "id": "Zhn_2yR2752w",
        "outputId": "ac347694-a6af-4530-af0f-e061e9f179a1"
      },
      "source": [
        "# Need to scale the data across the whole dataframe before running it through\r\n",
        "#   the model. I am using Standard Scaler to scale my data\r\n",
        "# Instantiate the Standard Scaler\r\n",
        "scaler = StandardScaler()\r\n",
        "\r\n",
        "# Fit and transform my features dataframe with the scaler\r\n",
        "X_scaled = scaler.fit_transform(X)\r\n",
        "\r\n",
        "# Check my work\r\n",
        "print(X_scaled.shape)\r\n",
        "X_scaled"
      ],
      "execution_count": 17,
      "outputs": [
        {
          "output_type": "stream",
          "text": [
            "(18291, 189)\n"
          ],
          "name": "stdout"
        },
        {
          "output_type": "execute_result",
          "data": {
            "text/plain": [
              "array([[ 2.5862182 , -0.0395431 ,  0.07110009, ...,  1.92960364,\n",
              "        -0.0523553 , -0.0523553 ],\n",
              "       [-0.38666498, -0.02183684,  0.07110009, ...,  1.92960364,\n",
              "        -0.0523553 , -0.0523553 ],\n",
              "       [ 2.5862182 , -0.02183684,  0.07110009, ..., -0.52576792,\n",
              "        -0.0523553 , -0.0523553 ],\n",
              "       ...,\n",
              "       [-0.38666498, -0.0395431 ,  0.07110009, ..., -0.52576792,\n",
              "        -0.0523553 , -0.0523553 ],\n",
              "       [-0.38666498, -0.0395431 ,  0.07110009, ..., -0.52576792,\n",
              "        -0.0523553 , -0.0523553 ],\n",
              "       [ 2.5862182 ,  0.10210694,  0.07110009, ..., -0.52576792,\n",
              "        -0.0523553 , -0.0523553 ]])"
            ]
          },
          "metadata": {
            "tags": []
          },
          "execution_count": 17
        }
      ]
    },
    {
      "cell_type": "code",
      "metadata": {
        "id": "x6Aqvv_PL1xs"
      },
      "source": [
        "# Want to make sure there are no null values in the array\r\n",
        "X_scaled = np.nan_to_num(X_scaled)"
      ],
      "execution_count": 18,
      "outputs": []
    },
    {
      "cell_type": "code",
      "metadata": {
        "colab": {
          "base_uri": "https://localhost:8080/"
        },
        "id": "hH26EfvYMVnY",
        "outputId": "0c79855f-89c6-4081-fd54-d34bfd11c400"
      },
      "source": [
        "# Check my work\r\n",
        "X_scaled"
      ],
      "execution_count": 19,
      "outputs": [
        {
          "output_type": "execute_result",
          "data": {
            "text/plain": [
              "array([[ 2.5862182 , -0.0395431 ,  0.07110009, ...,  1.92960364,\n",
              "        -0.0523553 , -0.0523553 ],\n",
              "       [-0.38666498, -0.02183684,  0.07110009, ...,  1.92960364,\n",
              "        -0.0523553 , -0.0523553 ],\n",
              "       [ 2.5862182 , -0.02183684,  0.07110009, ..., -0.52576792,\n",
              "        -0.0523553 , -0.0523553 ],\n",
              "       ...,\n",
              "       [-0.38666498, -0.0395431 ,  0.07110009, ..., -0.52576792,\n",
              "        -0.0523553 , -0.0523553 ],\n",
              "       [-0.38666498, -0.0395431 ,  0.07110009, ..., -0.52576792,\n",
              "        -0.0523553 , -0.0523553 ],\n",
              "       [ 2.5862182 ,  0.10210694,  0.07110009, ..., -0.52576792,\n",
              "        -0.0523553 , -0.0523553 ]])"
            ]
          },
          "metadata": {
            "tags": []
          },
          "execution_count": 19
        }
      ]
    },
    {
      "cell_type": "markdown",
      "metadata": {
        "id": "lFcxmgwuUUao"
      },
      "source": [
        "## Train Test Split\r\n",
        "\r\n",
        "- Want to split my training data into train and test sets so that I have some data that the model has not seen before to evaluate my final model. \r\n",
        "\r\n",
        "- I am choosing to do a 90/10 split."
      ]
    },
    {
      "cell_type": "code",
      "metadata": {
        "colab": {
          "base_uri": "https://localhost:8080/"
        },
        "id": "y6ZXENzT750Y",
        "outputId": "9b467ed6-cd0b-4270-e9a4-22b53315a969"
      },
      "source": [
        "# Split my data into train and test sets\r\n",
        "X_train, X_test, y_train, y_test = train_test_split(X_scaled, y,\r\n",
        "                                                    test_size=0.1,\r\n",
        "                                                    random_state=79)\r\n",
        "\r\n",
        "# Check my work by looking at the shapes of the train and test sets\r\n",
        "print(f'X_train: {X_train.shape}\\ny_train: {y_train.shape}')\r\n",
        "print(f'X_test: {X_test.shape}\\ny_test: {y_test.shape}')"
      ],
      "execution_count": 20,
      "outputs": [
        {
          "output_type": "stream",
          "text": [
            "X_train: (16461, 189)\n",
            "y_train: (16461,)\n",
            "X_test: (1830, 189)\n",
            "y_test: (1830,)\n"
          ],
          "name": "stdout"
        }
      ]
    },
    {
      "cell_type": "markdown",
      "metadata": {
        "id": "5RYSLlGCUna1"
      },
      "source": [
        "## Baseline Model\r\n",
        "\r\n",
        "- This is just a basic (vanilla) model to get my baseline score so that I have something to compare my models to.\r\n",
        "\r\n",
        "- Instantiate a `Sequenial` model with an input layer, 1 dense layer, and an output layer.\r\n",
        "\r\n",
        "- Use `'mean_squared_error'` as my `loss` function since this is a regression problem.\r\n",
        "\r\n",
        "- Use `adam` for my `optimizer`.\r\n",
        "\r\n",
        "- Going to use `'mae'` for my metric.\r\n",
        "\r\n",
        "- Also want to have a `validation_split` on my training data because I do not want to validate against the test data until I have my final model."
      ]
    },
    {
      "cell_type": "code",
      "metadata": {
        "colab": {
          "base_uri": "https://localhost:8080/"
        },
        "id": "pDbBfsLo75yO",
        "outputId": "f1a2d4e8-3807-4a74-9d66-14bb8fbfa356"
      },
      "source": [
        "# Set up the architechure for my baseline (vanilla) model\r\n",
        "base = Sequential([\r\n",
        "        Dense(189, activation='relu', input_shape=(X_train.shape[1],)),\r\n",
        "        Dense(1)\r\n",
        "])\r\n",
        "\r\n",
        "# Compile my baseline model\r\n",
        "base.compile(loss='mean_squared_error',\r\n",
        "             optimizer='adam',\r\n",
        "             metrics=['mae'])\r\n",
        "\r\n",
        "# Fit my baseline model to get my baseline mean absolute error\r\n",
        "baseline = base.fit(X_train, y_train,\r\n",
        "                    batch_size=32,\r\n",
        "                    epochs=5,\r\n",
        "                    validation_split=0.1)"
      ],
      "execution_count": 21,
      "outputs": [
        {
          "output_type": "stream",
          "text": [
            "Epoch 1/5\n",
            "463/463 [==============================] - 2s 4ms/step - loss: 33853.7033 - mae: 111.5652 - val_loss: 10839.0410 - val_mae: 54.6666\n",
            "Epoch 2/5\n",
            "463/463 [==============================] - 1s 3ms/step - loss: 17330.0680 - mae: 53.9135 - val_loss: 10027.4531 - val_mae: 51.1431\n",
            "Epoch 3/5\n",
            "463/463 [==============================] - 1s 3ms/step - loss: 20730.3470 - mae: 52.4064 - val_loss: 9723.3076 - val_mae: 49.1231\n",
            "Epoch 4/5\n",
            "463/463 [==============================] - 1s 3ms/step - loss: 18603.6298 - mae: 50.0850 - val_loss: 9535.8740 - val_mae: 49.2274\n",
            "Epoch 5/5\n",
            "463/463 [==============================] - 1s 3ms/step - loss: 14626.4709 - mae: 48.5153 - val_loss: 9424.0234 - val_mae: 48.7918\n"
          ],
          "name": "stdout"
        }
      ]
    },
    {
      "cell_type": "code",
      "metadata": {
        "colab": {
          "base_uri": "https://localhost:8080/"
        },
        "id": "dqleCom-Qg7y",
        "outputId": "62a29fe9-06f6-42d0-d211-f377f7fae9c7"
      },
      "source": [
        "# Get my baseline validation mean absolute error score\r\n",
        "base_score = baseline.history['val_mae'][-1]\r\n",
        "base_score"
      ],
      "execution_count": 22,
      "outputs": [
        {
          "output_type": "execute_result",
          "data": {
            "text/plain": [
              "48.791831970214844"
            ]
          },
          "metadata": {
            "tags": []
          },
          "execution_count": 22
        }
      ]
    },
    {
      "cell_type": "markdown",
      "metadata": {
        "id": "x4T79kT2Uz7S"
      },
      "source": [
        "## Modeling Approach #1\r\n",
        "\r\n",
        "- Create a Sequential model.\r\n",
        "\r\n",
        "- Input layer + 3 hidden layers + output layer.\r\n",
        "\r\n",
        "- Use `'relu'` as the activation function for input layer and all hidden layers and no activation for the output layer since this is a regression problem.\r\n",
        "\r\n",
        "- Start with `256` neurons and decriment each subsequent layer by half.\r\n",
        "\r\n",
        "- Going to only have `1` neuron for the output layer.\r\n",
        "\r\n",
        "- Use `'mean_squared_error'` for the `loss` function.\r\n",
        "\r\n",
        "- Use `'nadam'` for the `optimizer`.\r\n",
        "\r\n",
        "- Going to look at the `'mae'` (mean absolute error) for the measuring metric.\r\n",
        "\r\n",
        "- Going to use a `batch_size` of `64`.\r\n",
        "\r\n",
        "- Going to have the model train for `30 epochs`.\r\n",
        "\r\n",
        "- Even though I have done a train/test split already, I want to have a validation split of `10%` from the training data becuase I do not want to use the test set to evaluate on until I have my final model done."
      ]
    },
    {
      "cell_type": "code",
      "metadata": {
        "colab": {
          "base_uri": "https://localhost:8080/"
        },
        "id": "lNqSPbjnU7vu",
        "outputId": "654637b7-e6bd-4386-e691-75627a63f0ad"
      },
      "source": [
        "# Instatiate my first model approach\r\n",
        "model1 = Sequential([\r\n",
        "            Dense(256, activation='relu', input_shape=(X_train.shape[1],)),\r\n",
        "            Dense(128, activation='relu'),\r\n",
        "            Dense(64, activation='relu'),\r\n",
        "            Dense(32, activation='relu'),\r\n",
        "            Dense(1)\r\n",
        "])\r\n",
        "\r\n",
        "# Compile my first model approach\r\n",
        "model1.compile(loss='mean_squared_error',\r\n",
        "               optimizer='nadam',\r\n",
        "               metrics=['mae'])\r\n",
        "\r\n",
        "# Fit my first model approach\r\n",
        "mod1 = model1.fit(X_train, y_train,\r\n",
        "                  batch_size=64,\r\n",
        "                  epochs=50,\r\n",
        "                  validation_split=0.1)"
      ],
      "execution_count": 23,
      "outputs": [
        {
          "output_type": "stream",
          "text": [
            "Epoch 1/50\n",
            "232/232 [==============================] - 3s 6ms/step - loss: 28491.7960 - mae: 90.5328 - val_loss: 9677.2461 - val_mae: 49.7730\n",
            "Epoch 2/50\n",
            "232/232 [==============================] - 1s 5ms/step - loss: 16765.2311 - mae: 49.6752 - val_loss: 9501.7080 - val_mae: 49.5093\n",
            "Epoch 3/50\n",
            "232/232 [==============================] - 1s 4ms/step - loss: 20035.2934 - mae: 50.7311 - val_loss: 9380.1025 - val_mae: 48.0273\n",
            "Epoch 4/50\n",
            "232/232 [==============================] - 1s 5ms/step - loss: 18153.0849 - mae: 49.6867 - val_loss: 9320.7754 - val_mae: 48.1272\n",
            "Epoch 5/50\n",
            "232/232 [==============================] - 1s 5ms/step - loss: 14379.2115 - mae: 48.2690 - val_loss: 9357.2861 - val_mae: 48.6822\n",
            "Epoch 6/50\n",
            "232/232 [==============================] - 1s 5ms/step - loss: 18722.9403 - mae: 50.1401 - val_loss: 9348.7334 - val_mae: 47.1501\n",
            "Epoch 7/50\n",
            "232/232 [==============================] - 1s 6ms/step - loss: 20743.3448 - mae: 50.2333 - val_loss: 9449.7012 - val_mae: 51.2601\n",
            "Epoch 8/50\n",
            "232/232 [==============================] - 1s 6ms/step - loss: 19370.7725 - mae: 49.1295 - val_loss: 9306.7246 - val_mae: 47.6826\n",
            "Epoch 9/50\n",
            "232/232 [==============================] - 1s 5ms/step - loss: 23166.8718 - mae: 49.5219 - val_loss: 9259.7061 - val_mae: 48.4152\n",
            "Epoch 10/50\n",
            "232/232 [==============================] - 1s 6ms/step - loss: 29414.8350 - mae: 52.2762 - val_loss: 9238.6816 - val_mae: 47.6131\n",
            "Epoch 11/50\n",
            "232/232 [==============================] - 1s 5ms/step - loss: 19739.8590 - mae: 49.0419 - val_loss: 9361.7588 - val_mae: 47.0573\n",
            "Epoch 12/50\n",
            "232/232 [==============================] - 1s 5ms/step - loss: 19116.4751 - mae: 47.4048 - val_loss: 9759.5049 - val_mae: 51.7140\n",
            "Epoch 13/50\n",
            "232/232 [==============================] - 1s 5ms/step - loss: 34573.0277 - mae: 51.5158 - val_loss: 11088.3457 - val_mae: 63.9396\n",
            "Epoch 14/50\n",
            "232/232 [==============================] - 1s 5ms/step - loss: 22493.8831 - mae: 51.3006 - val_loss: 9397.5693 - val_mae: 51.4420\n",
            "Epoch 15/50\n",
            "232/232 [==============================] - 1s 5ms/step - loss: 24044.5595 - mae: 52.2681 - val_loss: 9251.0996 - val_mae: 47.3960\n",
            "Epoch 16/50\n",
            "232/232 [==============================] - 1s 4ms/step - loss: 11808.9057 - mae: 47.3070 - val_loss: 10537.1562 - val_mae: 55.2302\n",
            "Epoch 17/50\n",
            "232/232 [==============================] - 1s 5ms/step - loss: 31661.1435 - mae: 52.9863 - val_loss: 10969.5615 - val_mae: 54.3949\n",
            "Epoch 18/50\n",
            "232/232 [==============================] - 1s 6ms/step - loss: 14591.8971 - mae: 48.1146 - val_loss: 9747.9707 - val_mae: 48.0294\n",
            "Epoch 19/50\n",
            "232/232 [==============================] - 1s 5ms/step - loss: 20120.7128 - mae: 49.7706 - val_loss: 11703.6211 - val_mae: 51.9974\n",
            "Epoch 20/50\n",
            "232/232 [==============================] - 1s 4ms/step - loss: 13378.0514 - mae: 46.2452 - val_loss: 10511.6543 - val_mae: 53.7644\n",
            "Epoch 21/50\n",
            "232/232 [==============================] - 1s 5ms/step - loss: 11175.7513 - mae: 45.7778 - val_loss: 10556.4688 - val_mae: 49.9635\n",
            "Epoch 22/50\n",
            "232/232 [==============================] - 1s 6ms/step - loss: 10987.7899 - mae: 44.7228 - val_loss: 9580.2207 - val_mae: 50.3066\n",
            "Epoch 23/50\n",
            "232/232 [==============================] - 1s 4ms/step - loss: 9071.0845 - mae: 43.8356 - val_loss: 12468.4336 - val_mae: 53.0570\n",
            "Epoch 24/50\n",
            "232/232 [==============================] - 1s 5ms/step - loss: 7096.0156 - mae: 42.7056 - val_loss: 12367.3652 - val_mae: 52.4844\n",
            "Epoch 25/50\n",
            "232/232 [==============================] - 1s 5ms/step - loss: 11109.2627 - mae: 44.9054 - val_loss: 10967.2021 - val_mae: 50.8982\n",
            "Epoch 26/50\n",
            "232/232 [==============================] - 1s 5ms/step - loss: 11949.3583 - mae: 46.3449 - val_loss: 10116.7539 - val_mae: 48.9873\n",
            "Epoch 27/50\n",
            "232/232 [==============================] - 1s 4ms/step - loss: 9753.1559 - mae: 42.9215 - val_loss: 15524.1787 - val_mae: 52.9846\n",
            "Epoch 28/50\n",
            "232/232 [==============================] - 1s 5ms/step - loss: 27292.2468 - mae: 45.7230 - val_loss: 12246.4053 - val_mae: 49.5087\n",
            "Epoch 29/50\n",
            "232/232 [==============================] - 1s 5ms/step - loss: 9410.2482 - mae: 41.8927 - val_loss: 14031.7344 - val_mae: 51.1150\n",
            "Epoch 30/50\n",
            "232/232 [==============================] - 1s 5ms/step - loss: 5804.8726 - mae: 40.9206 - val_loss: 14188.1279 - val_mae: 52.1171\n",
            "Epoch 31/50\n",
            "232/232 [==============================] - 1s 5ms/step - loss: 19179.2887 - mae: 43.9412 - val_loss: 17567.5684 - val_mae: 51.9986\n",
            "Epoch 32/50\n",
            "232/232 [==============================] - 1s 5ms/step - loss: 7359.1967 - mae: 40.1825 - val_loss: 9813.9932 - val_mae: 51.1913\n",
            "Epoch 33/50\n",
            "232/232 [==============================] - 1s 5ms/step - loss: 12986.6615 - mae: 42.8199 - val_loss: 13161.5879 - val_mae: 56.6924\n",
            "Epoch 34/50\n",
            "232/232 [==============================] - 1s 5ms/step - loss: 4578.8437 - mae: 41.1208 - val_loss: 43635.4258 - val_mae: 57.8811\n",
            "Epoch 35/50\n",
            "232/232 [==============================] - 1s 5ms/step - loss: 6391.2040 - mae: 40.7450 - val_loss: 10335.5869 - val_mae: 54.2115\n",
            "Epoch 36/50\n",
            "232/232 [==============================] - 1s 5ms/step - loss: 8941.8075 - mae: 41.0004 - val_loss: 18495.1992 - val_mae: 52.0187\n",
            "Epoch 37/50\n",
            "232/232 [==============================] - 1s 5ms/step - loss: 6900.3894 - mae: 40.0644 - val_loss: 10807.8486 - val_mae: 51.8582\n",
            "Epoch 38/50\n",
            "232/232 [==============================] - 1s 5ms/step - loss: 9520.5412 - mae: 39.4614 - val_loss: 19307.0996 - val_mae: 53.1424\n",
            "Epoch 39/50\n",
            "232/232 [==============================] - 1s 5ms/step - loss: 3540.5898 - mae: 37.3839 - val_loss: 20061.9766 - val_mae: 55.4555\n",
            "Epoch 40/50\n",
            "232/232 [==============================] - 1s 4ms/step - loss: 6205.7614 - mae: 39.4949 - val_loss: 20218.2676 - val_mae: 53.5278\n",
            "Epoch 41/50\n",
            "232/232 [==============================] - 1s 4ms/step - loss: 4368.9925 - mae: 37.9132 - val_loss: 22824.1172 - val_mae: 58.3793\n",
            "Epoch 42/50\n",
            "232/232 [==============================] - 1s 5ms/step - loss: 11722.5781 - mae: 40.5092 - val_loss: 13254.9736 - val_mae: 53.1639\n",
            "Epoch 43/50\n",
            "232/232 [==============================] - 1s 5ms/step - loss: 7585.3467 - mae: 38.7891 - val_loss: 14682.1250 - val_mae: 51.4373\n",
            "Epoch 44/50\n",
            "232/232 [==============================] - 1s 5ms/step - loss: 6044.4753 - mae: 38.1009 - val_loss: 15395.7588 - val_mae: 52.8697\n",
            "Epoch 45/50\n",
            "232/232 [==============================] - 1s 5ms/step - loss: 4786.2882 - mae: 36.2535 - val_loss: 28655.2480 - val_mae: 55.3514\n",
            "Epoch 46/50\n",
            "232/232 [==============================] - 1s 5ms/step - loss: 10772.5720 - mae: 39.5082 - val_loss: 9105.8721 - val_mae: 49.9896\n",
            "Epoch 47/50\n",
            "232/232 [==============================] - 1s 6ms/step - loss: 14708.3772 - mae: 39.8809 - val_loss: 13090.0908 - val_mae: 51.7847\n",
            "Epoch 48/50\n",
            "232/232 [==============================] - 1s 5ms/step - loss: 3622.6238 - mae: 35.3046 - val_loss: 16451.5996 - val_mae: 53.0927\n",
            "Epoch 49/50\n",
            "232/232 [==============================] - 1s 5ms/step - loss: 3459.0843 - mae: 35.5001 - val_loss: 32172.1230 - val_mae: 58.4899\n",
            "Epoch 50/50\n",
            "232/232 [==============================] - 1s 5ms/step - loss: 5806.2088 - mae: 36.5030 - val_loss: 13751.7568 - val_mae: 53.1530\n"
          ],
          "name": "stdout"
        }
      ]
    },
    {
      "cell_type": "code",
      "metadata": {
        "colab": {
          "base_uri": "https://localhost:8080/",
          "height": 404
        },
        "id": "F6xFrhzeU7oA",
        "outputId": "9dee7307-13a6-441f-a868-27619e4b1b8e"
      },
      "source": [
        "# Plot out the changes per epoch for the training and validation mae\r\n",
        "plt.figure(figsize=(10,6))\r\n",
        "plt.plot(mod1.epoch, mod1.history['mae'], label='Training')\r\n",
        "plt.plot(mod1.epoch, mod1.history['val_mae'], label='Validation')\r\n",
        "plt.legend()\r\n",
        "plt.title('Model Approach #1 Model MAE scores by epoch')\r\n",
        "plt.xlabel('Epoch')\r\n",
        "plt.ylabel('Mean Absolute Error');"
      ],
      "execution_count": 24,
      "outputs": [
        {
          "output_type": "display_data",
          "data": {
            "image/png": "[encoded data removed]",
            "text/plain": [
              "<Figure size 720x432 with 1 Axes>"
            ]
          },
          "metadata": {
            "tags": [],
            "needs_background": "light"
          }
        }
      ]
    },
    {
      "cell_type": "markdown",
      "metadata": {
        "id": "TKiyJ8dOpi0H"
      },
      "source": [
        "## Modeling Approach #2\r\n",
        "- Keeping everything the same as 1st approach but I am going to change the `optimizer` to `'adam'` to see if that changes anything."
      ]
    },
    {
      "cell_type": "code",
      "metadata": {
        "colab": {
          "base_uri": "https://localhost:8080/"
        },
        "id": "Yfs1G5jg2uuv",
        "outputId": "3eef001b-8a94-41fa-9dee-f9801d6921df"
      },
      "source": [
        "# Instatiate my 2nd model approach\r\n",
        "model2 = Sequential([\r\n",
        "            Dense(256, activation='relu', input_shape=(X_train.shape[1],)),\r\n",
        "            Dense(128, activation='relu'),\r\n",
        "            Dense(64, activation='relu'),\r\n",
        "            Dense(32, activation='relu'),\r\n",
        "            Dense(1)\r\n",
        "])\r\n",
        "\r\n",
        "# Compile my 2nd model approach\r\n",
        "model2.compile(loss='mean_squared_error',\r\n",
        "               optimizer='adam',\r\n",
        "               metrics=['mae'])\r\n",
        "\r\n",
        "# Fit my 2nd model approach\r\n",
        "mod2 = model2.fit(X_train, y_train,\r\n",
        "                  batch_size=64,\r\n",
        "                  epochs=50,\r\n",
        "                  validation_split=0.1)"
      ],
      "execution_count": 25,
      "outputs": [
        {
          "output_type": "stream",
          "text": [
            "Epoch 1/50\n",
            "232/232 [==============================] - 1s 4ms/step - loss: 27604.6268 - mae: 87.5138 - val_loss: 9812.4453 - val_mae: 47.6304\n",
            "Epoch 2/50\n",
            "232/232 [==============================] - 1s 3ms/step - loss: 16720.0289 - mae: 49.6304 - val_loss: 9573.7168 - val_mae: 51.6055\n",
            "Epoch 3/50\n",
            "232/232 [==============================] - 1s 3ms/step - loss: 20036.9324 - mae: 50.7510 - val_loss: 9366.7998 - val_mae: 48.9158\n",
            "Epoch 4/50\n",
            "232/232 [==============================] - 1s 3ms/step - loss: 18144.2993 - mae: 49.8042 - val_loss: 9418.8223 - val_mae: 47.7097\n",
            "Epoch 5/50\n",
            "232/232 [==============================] - 1s 3ms/step - loss: 14401.4476 - mae: 48.7329 - val_loss: 9351.5596 - val_mae: 50.3420\n",
            "Epoch 6/50\n",
            "232/232 [==============================] - 1s 3ms/step - loss: 18652.3667 - mae: 50.3322 - val_loss: 9277.3047 - val_mae: 47.6902\n",
            "Epoch 7/50\n",
            "232/232 [==============================] - 1s 3ms/step - loss: 20773.2821 - mae: 50.7495 - val_loss: 9309.3760 - val_mae: 47.8928\n",
            "Epoch 8/50\n",
            "232/232 [==============================] - 1s 3ms/step - loss: 19242.4243 - mae: 49.3643 - val_loss: 9276.6016 - val_mae: 48.6044\n",
            "Epoch 9/50\n",
            "232/232 [==============================] - 1s 3ms/step - loss: 23080.9057 - mae: 50.1071 - val_loss: 9247.6797 - val_mae: 50.1500\n",
            "Epoch 10/50\n",
            "232/232 [==============================] - 1s 3ms/step - loss: 29258.2926 - mae: 53.0100 - val_loss: 9408.6396 - val_mae: 48.1499\n",
            "Epoch 11/50\n",
            "232/232 [==============================] - 1s 3ms/step - loss: 19727.7940 - mae: 49.8590 - val_loss: 9231.7070 - val_mae: 48.0629\n",
            "Epoch 12/50\n",
            "232/232 [==============================] - 1s 4ms/step - loss: 18965.8898 - mae: 47.8181 - val_loss: 10343.0088 - val_mae: 54.1725\n",
            "Epoch 13/50\n",
            "232/232 [==============================] - 1s 4ms/step - loss: 34714.6152 - mae: 52.6740 - val_loss: 10725.5303 - val_mae: 63.0667\n",
            "Epoch 14/50\n",
            "232/232 [==============================] - 1s 4ms/step - loss: 22380.0958 - mae: 52.1236 - val_loss: 9576.9316 - val_mae: 54.4744\n",
            "Epoch 15/50\n",
            "232/232 [==============================] - 1s 3ms/step - loss: 23379.4026 - mae: 52.7811 - val_loss: 9026.8887 - val_mae: 48.3516\n",
            "Epoch 16/50\n",
            "232/232 [==============================] - 1s 3ms/step - loss: 11339.6518 - mae: 47.9158 - val_loss: 12739.2119 - val_mae: 63.8030\n",
            "Epoch 17/50\n",
            "232/232 [==============================] - 1s 3ms/step - loss: 30025.1545 - mae: 54.3745 - val_loss: 12230.3926 - val_mae: 56.9022\n",
            "Epoch 18/50\n",
            "232/232 [==============================] - 1s 4ms/step - loss: 14069.5387 - mae: 47.6579 - val_loss: 9653.9697 - val_mae: 51.8260\n",
            "Epoch 19/50\n",
            "232/232 [==============================] - 1s 4ms/step - loss: 18849.6010 - mae: 50.9135 - val_loss: 10031.2715 - val_mae: 51.4229\n",
            "Epoch 20/50\n",
            "232/232 [==============================] - 1s 4ms/step - loss: 12206.3093 - mae: 46.1358 - val_loss: 9543.3740 - val_mae: 50.5758\n",
            "Epoch 21/50\n",
            "232/232 [==============================] - 1s 4ms/step - loss: 10742.3209 - mae: 45.1743 - val_loss: 9547.3555 - val_mae: 49.1579\n",
            "Epoch 22/50\n",
            "232/232 [==============================] - 1s 3ms/step - loss: 10223.3938 - mae: 44.7434 - val_loss: 9596.1084 - val_mae: 49.9574\n",
            "Epoch 23/50\n",
            "232/232 [==============================] - 1s 3ms/step - loss: 9466.5151 - mae: 44.3819 - val_loss: 19523.8242 - val_mae: 57.9644\n",
            "Epoch 24/50\n",
            "232/232 [==============================] - 1s 3ms/step - loss: 7326.0293 - mae: 42.9513 - val_loss: 10989.1816 - val_mae: 51.3790\n",
            "Epoch 25/50\n",
            "232/232 [==============================] - 1s 4ms/step - loss: 10453.5801 - mae: 44.5912 - val_loss: 16676.2461 - val_mae: 50.9685\n",
            "Epoch 26/50\n",
            "232/232 [==============================] - 1s 3ms/step - loss: 11535.8517 - mae: 44.8819 - val_loss: 13395.3896 - val_mae: 50.7943\n",
            "Epoch 27/50\n",
            "232/232 [==============================] - 1s 3ms/step - loss: 8847.3060 - mae: 42.5226 - val_loss: 11133.1035 - val_mae: 49.8395\n",
            "Epoch 28/50\n",
            "232/232 [==============================] - 1s 3ms/step - loss: 26497.9223 - mae: 45.4659 - val_loss: 9381.5303 - val_mae: 48.3854\n",
            "Epoch 29/50\n",
            "232/232 [==============================] - 1s 4ms/step - loss: 8907.2613 - mae: 41.4907 - val_loss: 9659.5967 - val_mae: 51.4948\n",
            "Epoch 30/50\n",
            "232/232 [==============================] - 1s 4ms/step - loss: 5083.9970 - mae: 40.2231 - val_loss: 18200.6270 - val_mae: 56.0594\n",
            "Epoch 31/50\n",
            "232/232 [==============================] - 1s 3ms/step - loss: 14074.9705 - mae: 44.4694 - val_loss: 10519.0127 - val_mae: 50.0844\n",
            "Epoch 32/50\n",
            "232/232 [==============================] - 1s 3ms/step - loss: 6525.2498 - mae: 40.0969 - val_loss: 29197.7266 - val_mae: 53.9939\n",
            "Epoch 33/50\n",
            "232/232 [==============================] - 1s 4ms/step - loss: 12848.0378 - mae: 41.9969 - val_loss: 9253.1611 - val_mae: 52.2498\n",
            "Epoch 34/50\n",
            "232/232 [==============================] - 1s 3ms/step - loss: 3850.9278 - mae: 39.1618 - val_loss: 58947.2578 - val_mae: 61.8579\n",
            "Epoch 35/50\n",
            "232/232 [==============================] - 1s 4ms/step - loss: 5877.5941 - mae: 39.8711 - val_loss: 10936.5039 - val_mae: 52.1217\n",
            "Epoch 36/50\n",
            "232/232 [==============================] - 1s 4ms/step - loss: 5891.3819 - mae: 38.7927 - val_loss: 21966.8867 - val_mae: 52.5970\n",
            "Epoch 37/50\n",
            "232/232 [==============================] - 1s 3ms/step - loss: 6857.4892 - mae: 39.2322 - val_loss: 11746.4951 - val_mae: 50.5582\n",
            "Epoch 38/50\n",
            "232/232 [==============================] - 1s 3ms/step - loss: 8982.3479 - mae: 38.7258 - val_loss: 17940.2168 - val_mae: 51.7110\n",
            "Epoch 39/50\n",
            "232/232 [==============================] - 1s 3ms/step - loss: 3866.5030 - mae: 37.4039 - val_loss: 15046.4404 - val_mae: 54.0764\n",
            "Epoch 40/50\n",
            "232/232 [==============================] - 1s 4ms/step - loss: 4623.0111 - mae: 37.7507 - val_loss: 29058.2734 - val_mae: 54.5850\n",
            "Epoch 41/50\n",
            "232/232 [==============================] - 1s 4ms/step - loss: 3291.6784 - mae: 36.4936 - val_loss: 24413.3379 - val_mae: 58.5827\n",
            "Epoch 42/50\n",
            "232/232 [==============================] - 1s 4ms/step - loss: 8915.5312 - mae: 38.9294 - val_loss: 26088.4688 - val_mae: 54.8732\n",
            "Epoch 43/50\n",
            "232/232 [==============================] - 1s 3ms/step - loss: 8176.3982 - mae: 39.6693 - val_loss: 10082.8867 - val_mae: 50.2814\n",
            "Epoch 44/50\n",
            "232/232 [==============================] - 1s 3ms/step - loss: 7462.9563 - mae: 37.2419 - val_loss: 21800.2285 - val_mae: 53.6536\n",
            "Epoch 45/50\n",
            "232/232 [==============================] - 1s 3ms/step - loss: 3655.0553 - mae: 34.8152 - val_loss: 11620.5693 - val_mae: 52.0974\n",
            "Epoch 46/50\n",
            "232/232 [==============================] - 1s 3ms/step - loss: 9112.0673 - mae: 35.1109 - val_loss: 10940.6016 - val_mae: 51.3714\n",
            "Epoch 47/50\n",
            "232/232 [==============================] - 1s 3ms/step - loss: 5941.4770 - mae: 33.9723 - val_loss: 26293.9355 - val_mae: 54.8556\n",
            "Epoch 48/50\n",
            "232/232 [==============================] - 1s 3ms/step - loss: 3907.7270 - mae: 33.2619 - val_loss: 9714.0586 - val_mae: 51.3099\n",
            "Epoch 49/50\n",
            "232/232 [==============================] - 1s 3ms/step - loss: 7357.5165 - mae: 35.5750 - val_loss: 52319.3789 - val_mae: 61.4408\n",
            "Epoch 50/50\n",
            "232/232 [==============================] - 1s 3ms/step - loss: 4562.8464 - mae: 34.5924 - val_loss: 9912.1924 - val_mae: 50.6777\n"
          ],
          "name": "stdout"
        }
      ]
    },
    {
      "cell_type": "code",
      "metadata": {
        "colab": {
          "base_uri": "https://localhost:8080/",
          "height": 404
        },
        "id": "RjZM0uihpmkB",
        "outputId": "1f929f98-824e-42e1-ccaf-f10cc146bb7a"
      },
      "source": [
        "# Plot out the changes per epoch for the training and validation mae\r\n",
        "plt.figure(figsize=(10,6))\r\n",
        "plt.plot(mod2.epoch, mod2.history['mae'], label='Training')\r\n",
        "plt.plot(mod2.epoch, mod2.history['val_mae'], label='Validation')\r\n",
        "plt.legend()\r\n",
        "plt.title('Model Approach #2 Model MAE scores by epoch')\r\n",
        "plt.xlabel('Epoch')\r\n",
        "plt.ylabel('Mean Absolute Error');"
      ],
      "execution_count": 26,
      "outputs": [
        {
          "output_type": "display_data",
          "data": {
            "image/png": "[encoded data removed]",
            "text/plain": [
              "<Figure size 720x432 with 1 Axes>"
            ]
          },
          "metadata": {
            "tags": [],
            "needs_background": "light"
          }
        }
      ]
    },
    {
      "cell_type": "markdown",
      "metadata": {
        "id": "4agGZ7j554xA"
      },
      "source": [
        "## Modeling Approach #3\r\n",
        "- Keeping everything the same as my 2nd approach as it seems to have preform slightly better then my 1st approach but it is still overfitting.\r\n",
        "\r\n",
        "- Going to add `early stopping`.\r\n",
        "\r\n",
        "- Also going to increase the `batch_size` to `128`."
      ]
    },
    {
      "cell_type": "code",
      "metadata": {
        "id": "B4YZikhVGXna"
      },
      "source": [
        "# Create early stopping\r\n",
        "early_stop = tf.keras.callbacks.EarlyStopping(\r\n",
        "    monitor='val_mae', min_delta=0.5, patience=10, restore_best_weights=True\r\n",
        ")"
      ],
      "execution_count": 27,
      "outputs": []
    },
    {
      "cell_type": "code",
      "metadata": {
        "colab": {
          "base_uri": "https://localhost:8080/"
        },
        "id": "MKIkwx3M54xH",
        "outputId": "fc8ba41b-1a70-49ae-eab7-4db918423a25"
      },
      "source": [
        "# Instatiate my 3rd model approach\r\n",
        "model3 = Sequential([\r\n",
        "            Dense(256, activation='relu', input_shape=(X_train.shape[1],)),\r\n",
        "            Dense(128, activation='relu'),\r\n",
        "            Dense(64, activation='relu'),\r\n",
        "            Dense(32, activation='relu'),\r\n",
        "            Dense(1)\r\n",
        "])\r\n",
        "\r\n",
        "# Compile my 2nd model approach\r\n",
        "model3.compile(loss='mean_squared_error',\r\n",
        "               optimizer='adam',\r\n",
        "               metrics=['mae'])\r\n",
        "\r\n",
        "# Fit my 2nd model approach\r\n",
        "mod3 = model3.fit(X_train, y_train,\r\n",
        "                  batch_size=128,\r\n",
        "                  epochs=300,\r\n",
        "                  validation_split=0.1,\r\n",
        "                  callbacks=[early_stop])"
      ],
      "execution_count": 28,
      "outputs": [
        {
          "output_type": "stream",
          "text": [
            "Epoch 1/300\n",
            "116/116 [==============================] - 1s 5ms/step - loss: 32575.0346 - mae: 107.3793 - val_loss: 10095.2559 - val_mae: 50.1357\n",
            "Epoch 2/300\n",
            "116/116 [==============================] - 0s 3ms/step - loss: 16956.2089 - mae: 50.3947 - val_loss: 9698.1631 - val_mae: 50.5885\n",
            "Epoch 3/300\n",
            "116/116 [==============================] - 0s 3ms/step - loss: 20158.1600 - mae: 51.3414 - val_loss: 9499.1436 - val_mae: 50.3458\n",
            "Epoch 4/300\n",
            "116/116 [==============================] - 0s 4ms/step - loss: 18251.9557 - mae: 49.8599 - val_loss: 9497.6973 - val_mae: 47.5247\n",
            "Epoch 5/300\n",
            "116/116 [==============================] - 0s 4ms/step - loss: 14549.4690 - mae: 48.0893 - val_loss: 9340.2773 - val_mae: 49.0252\n",
            "Epoch 6/300\n",
            "116/116 [==============================] - 0s 4ms/step - loss: 18654.0568 - mae: 50.0051 - val_loss: 9758.5928 - val_mae: 47.5001\n",
            "Epoch 7/300\n",
            "116/116 [==============================] - 0s 3ms/step - loss: 20887.7385 - mae: 50.1802 - val_loss: 9332.8584 - val_mae: 47.9528\n",
            "Epoch 8/300\n",
            "116/116 [==============================] - 0s 4ms/step - loss: 19337.2768 - mae: 48.8310 - val_loss: 9464.3379 - val_mae: 49.0166\n",
            "Epoch 9/300\n",
            "116/116 [==============================] - 0s 4ms/step - loss: 23205.4977 - mae: 49.7742 - val_loss: 9298.6230 - val_mae: 48.6658\n",
            "Epoch 10/300\n",
            "116/116 [==============================] - 0s 3ms/step - loss: 29764.4113 - mae: 52.1229 - val_loss: 9370.8809 - val_mae: 47.5039\n",
            "Epoch 11/300\n",
            "116/116 [==============================] - 0s 4ms/step - loss: 19934.4964 - mae: 48.9923 - val_loss: 9263.4082 - val_mae: 48.4486\n",
            "Epoch 12/300\n",
            "116/116 [==============================] - 0s 4ms/step - loss: 19130.9790 - mae: 47.4083 - val_loss: 9895.0332 - val_mae: 51.7953\n",
            "Epoch 13/300\n",
            "116/116 [==============================] - 0s 4ms/step - loss: 32095.0622 - mae: 51.4549 - val_loss: 9450.2959 - val_mae: 51.1578\n",
            "Epoch 14/300\n",
            "116/116 [==============================] - 0s 4ms/step - loss: 22467.8739 - mae: 51.8375 - val_loss: 9996.3174 - val_mae: 52.3675\n"
          ],
          "name": "stdout"
        }
      ]
    },
    {
      "cell_type": "code",
      "metadata": {
        "colab": {
          "base_uri": "https://localhost:8080/",
          "height": 404
        },
        "id": "VSvHLFw754xI",
        "outputId": "01d410fc-0db0-4b6e-dfb2-a4c951867ec2"
      },
      "source": [
        "# Plot out the changes per epoch for the training and validation mae\r\n",
        "plt.figure(figsize=(10,6))\r\n",
        "plt.plot(mod3.epoch, mod3.history['mae'], label='Training')\r\n",
        "plt.plot(mod3.epoch, mod3.history['val_mae'], label='Validation')\r\n",
        "plt.legend()\r\n",
        "plt.title('Model Approach #3 Model MAE scores by epoch')\r\n",
        "plt.xlabel('Epoch')\r\n",
        "plt.ylabel('Mean Absolute Error');"
      ],
      "execution_count": 29,
      "outputs": [
        {
          "output_type": "display_data",
          "data": {
            "image/png": "[encoded data removed]",
            "text/plain": [
              "<Figure size 720x432 with 1 Axes>"
            ]
          },
          "metadata": {
            "tags": [],
            "needs_background": "light"
          }
        }
      ]
    },
    {
      "cell_type": "markdown",
      "metadata": {
        "id": "J1ZG0URS-JC3"
      },
      "source": [
        "* This appears to be my best model thus far, however, I believe there can be improvement on this model. \r\n",
        "\r\n",
        "* At approximately a `$51 - $53` difference between the predicted value and the true value, that can make a huge difference in the real world. \r\n",
        "\r\n",
        "* When doing my EDA I did notice that there seems to be some outliers, so this is where I will start, by identifying and removing outliers, to try to improve upon this model."
      ]
    },
    {
      "cell_type": "markdown",
      "metadata": {
        "id": "ULAqwPteIKTs"
      },
      "source": [
        "### Identify and Remove Outliers\r\n",
        "- Need to identify and remove outliers in the price feature to avoid adding bias to my model.\r\n"
      ]
    },
    {
      "cell_type": "code",
      "metadata": {
        "colab": {
          "base_uri": "https://localhost:8080/"
        },
        "id": "gJuSho2uRs0w",
        "outputId": "2057b2dc-0549-4ed4-821d-0db64f02244e"
      },
      "source": [
        "# Look at the stats for the price feature\r\n",
        "amsterdam_vects['price'].describe()"
      ],
      "execution_count": 30,
      "outputs": [
        {
          "output_type": "execute_result",
          "data": {
            "text/plain": [
              "count    18291.000000\n",
              "mean       153.055984\n",
              "std        163.034869\n",
              "min          0.000000\n",
              "25%         95.000000\n",
              "50%        128.000000\n",
              "75%        180.000000\n",
              "max       8000.000000\n",
              "Name: price, dtype: float64"
            ]
          },
          "metadata": {
            "tags": []
          },
          "execution_count": 30
        }
      ]
    },
    {
      "cell_type": "code",
      "metadata": {
        "colab": {
          "base_uri": "https://localhost:8080/"
        },
        "id": "y0dKRhxHXOQv",
        "outputId": "48c8da16-07f4-4dfa-c888-a18056574c59"
      },
      "source": [
        "# Assign the mean for the price feature to a variable\r\n",
        "price_mean = amsterdam_vects['price'].mean()\r\n",
        "price_mean"
      ],
      "execution_count": 31,
      "outputs": [
        {
          "output_type": "execute_result",
          "data": {
            "text/plain": [
              "153.05598381717786"
            ]
          },
          "metadata": {
            "tags": []
          },
          "execution_count": 31
        }
      ]
    },
    {
      "cell_type": "code",
      "metadata": {
        "colab": {
          "base_uri": "https://localhost:8080/"
        },
        "id": "uhTBpivFXZcD",
        "outputId": "3a11b555-bd0f-4db7-f914-e64da802142b"
      },
      "source": [
        "# Assign the standard divation for the price feature to a variable\r\n",
        "price_std = amsterdam_vects['price'].std()\r\n",
        "price_std"
      ],
      "execution_count": 32,
      "outputs": [
        {
          "output_type": "execute_result",
          "data": {
            "text/plain": [
              "163.03486910521414"
            ]
          },
          "metadata": {
            "tags": []
          },
          "execution_count": 32
        }
      ]
    },
    {
      "cell_type": "code",
      "metadata": {
        "colab": {
          "base_uri": "https://localhost:8080/"
        },
        "id": "cDhfsr8ZZqTr",
        "outputId": "dc64d335-2b6f-452e-db82-27a03d6deb6c"
      },
      "source": [
        "# Get my approximate upper bounds\r\n",
        "price_mean + price_std"
      ],
      "execution_count": 33,
      "outputs": [
        {
          "output_type": "execute_result",
          "data": {
            "text/plain": [
              "316.090852922392"
            ]
          },
          "metadata": {
            "tags": []
          },
          "execution_count": 33
        }
      ]
    },
    {
      "cell_type": "code",
      "metadata": {
        "colab": {
          "base_uri": "https://localhost:8080/",
          "height": 267
        },
        "id": "4JxDqc0E1C9B",
        "outputId": "b43d9f30-ad50-4fad-ddb0-4d9216647145"
      },
      "source": [
        "# Look at the distribution of the prices from 0 - 700\r\n",
        "# Use this to see where my outliers are that are under 700\r\n",
        "plt.hist(amsterdam_vects['price'], 100, density=True,\r\n",
        "         facecolor='g', alpha=0.75, range=(-1, 700));"
      ],
      "execution_count": 34,
      "outputs": [
        {
          "output_type": "display_data",
          "data": {
            "image/png": "[encoded data removed]",
            "text/plain": [
              "<Figure size 432x288 with 1 Axes>"
            ]
          },
          "metadata": {
            "tags": [],
            "needs_background": "light"
          }
        }
      ]
    },
    {
      "cell_type": "code",
      "metadata": {
        "colab": {
          "base_uri": "https://localhost:8080/",
          "height": 211
        },
        "id": "R9E6YTGdVHn8",
        "outputId": "c1913deb-64f9-4528-a416-f77a3d56e581"
      },
      "source": [
        "# Plot the stats out using a boxplot\r\n",
        "fig, ax = plt.subplots(figsize=(16, 3))\r\n",
        "ax.boxplot(amsterdam_vects['price'], 0, 'ro', 0)\r\n",
        "ax.grid(True);"
      ],
      "execution_count": 35,
      "outputs": [
        {
          "output_type": "display_data",
          "data": {
            "image/png": "[encoded data removed]",
            "text/plain": [
              "<Figure size 1152x216 with 1 Axes>"
            ]
          },
          "metadata": {
            "tags": [],
            "needs_background": "light"
          }
        }
      ]
    },
    {
      "cell_type": "code",
      "metadata": {
        "colab": {
          "base_uri": "https://localhost:8080/"
        },
        "id": "9GRF-1tjIJ33",
        "outputId": "cd4d486d-7796-45ca-e6a2-4f2cfc355e51"
      },
      "source": [
        "# Drop all rows where the price is less than 1250\r\n",
        "amsterdam_vects = amsterdam_vects[amsterdam_vects['price'] < 1250]\r\n",
        "amsterdam_vects.shape"
      ],
      "execution_count": 36,
      "outputs": [
        {
          "output_type": "execute_result",
          "data": {
            "text/plain": [
              "(18272, 190)"
            ]
          },
          "metadata": {
            "tags": []
          },
          "execution_count": 36
        }
      ]
    },
    {
      "cell_type": "code",
      "metadata": {
        "colab": {
          "base_uri": "https://localhost:8080/"
        },
        "id": "qx8lhDcFRGYO",
        "outputId": "5dff329d-c208-4676-bc23-3c46939b94bb"
      },
      "source": [
        "# Look at the new stats for the price feature\r\n",
        "amsterdam_vects['price'].describe()"
      ],
      "execution_count": 37,
      "outputs": [
        {
          "output_type": "execute_result",
          "data": {
            "text/plain": [
              "count    18272.000000\n",
              "mean       149.737248\n",
              "std         96.622713\n",
              "min          0.000000\n",
              "25%         95.000000\n",
              "50%        127.000000\n",
              "75%        180.000000\n",
              "max       1200.000000\n",
              "Name: price, dtype: float64"
            ]
          },
          "metadata": {
            "tags": []
          },
          "execution_count": 37
        }
      ]
    },
    {
      "cell_type": "code",
      "metadata": {
        "colab": {
          "base_uri": "https://localhost:8080/",
          "height": 211
        },
        "id": "kmoojaUSWsCH",
        "outputId": "2aa337cd-6728-4189-8cf8-ebb54fe11999"
      },
      "source": [
        "# Plot the stats using a box plot\r\n",
        "fig, ax = plt.subplots(figsize=(16, 3))\r\n",
        "ax.boxplot(amsterdam_vects['price'], 0, 'ro', 0)\r\n",
        "ax.grid(True);"
      ],
      "execution_count": 38,
      "outputs": [
        {
          "output_type": "display_data",
          "data": {
            "image/png": "[encoded data removed]",
            "text/plain": [
              "<Figure size 1152x216 with 1 Axes>"
            ]
          },
          "metadata": {
            "tags": [],
            "needs_background": "light"
          }
        }
      ]
    },
    {
      "cell_type": "code",
      "metadata": {
        "colab": {
          "base_uri": "https://localhost:8080/"
        },
        "id": "q-GtE48wAXJP",
        "outputId": "252f2792-c8c9-4274-bed9-0ca10e00b94f"
      },
      "source": [
        "# Since the line is pretty solid when less than 600\r\n",
        "# Drop all rows where the price is more than 600\r\n",
        "amsterdam_vects = amsterdam_vects[amsterdam_vects['price'] < 600]\r\n",
        "amsterdam_vects.shape"
      ],
      "execution_count": 39,
      "outputs": [
        {
          "output_type": "execute_result",
          "data": {
            "text/plain": [
              "(18157, 190)"
            ]
          },
          "metadata": {
            "tags": []
          },
          "execution_count": 39
        }
      ]
    },
    {
      "cell_type": "code",
      "metadata": {
        "colab": {
          "base_uri": "https://localhost:8080/"
        },
        "id": "uW7ydNJyAXJX",
        "outputId": "600aa0b8-f5a4-4f15-e035-e7ec44412a9b"
      },
      "source": [
        "# Look at the new stats\r\n",
        "amsterdam_vects['price'].describe()"
      ],
      "execution_count": 40,
      "outputs": [
        {
          "output_type": "execute_result",
          "data": {
            "text/plain": [
              "count    18157.000000\n",
              "mean       145.590571\n",
              "std         80.621390\n",
              "min          0.000000\n",
              "25%         95.000000\n",
              "50%        126.000000\n",
              "75%        179.000000\n",
              "max        599.000000\n",
              "Name: price, dtype: float64"
            ]
          },
          "metadata": {
            "tags": []
          },
          "execution_count": 40
        }
      ]
    },
    {
      "cell_type": "code",
      "metadata": {
        "colab": {
          "base_uri": "https://localhost:8080/",
          "height": 211
        },
        "id": "e9EswB3qAXJX",
        "outputId": "69cf50ba-994d-47b0-dd42-0d82124b9dce"
      },
      "source": [
        "# Plot the new stats using a boxplot\r\n",
        "fig, ax = plt.subplots(figsize=(16, 3))\r\n",
        "ax.boxplot(amsterdam_vects['price'], 0, 'ro', 0)\r\n",
        "ax.grid(True);"
      ],
      "execution_count": 41,
      "outputs": [
        {
          "output_type": "display_data",
          "data": {
            "image/png": "[encoded data removed]",
            "text/plain": [
              "<Figure size 1152x216 with 1 Axes>"
            ]
          },
          "metadata": {
            "tags": [],
            "needs_background": "light"
          }
        }
      ]
    },
    {
      "cell_type": "markdown",
      "metadata": {
        "id": "6HhTYtctNxIL"
      },
      "source": [
        "* Still have quite a few outliers. So, going to do one more reduction."
      ]
    },
    {
      "cell_type": "code",
      "metadata": {
        "colab": {
          "base_uri": "https://localhost:8080/"
        },
        "id": "BVIV73POOPq2",
        "outputId": "d4387482-db86-41da-fd65-c081d6958e82"
      },
      "source": [
        "# Find out what my approximate upper bounds is\r\n",
        "price_mean + price_std"
      ],
      "execution_count": 42,
      "outputs": [
        {
          "output_type": "execute_result",
          "data": {
            "text/plain": [
              "316.090852922392"
            ]
          },
          "metadata": {
            "tags": []
          },
          "execution_count": 42
        }
      ]
    },
    {
      "cell_type": "code",
      "metadata": {
        "colab": {
          "base_uri": "https://localhost:8080/"
        },
        "id": "alLGBUB7OAUo",
        "outputId": "56f3fb66-4343-4455-8728-226095bbdb3e"
      },
      "source": [
        "# Drop all rows where the price is more than 480\r\n",
        "amsterdam_vects = amsterdam_vects[amsterdam_vects['price'] < 316]\r\n",
        "amsterdam_vects.shape"
      ],
      "execution_count": 43,
      "outputs": [
        {
          "output_type": "execute_result",
          "data": {
            "text/plain": [
              "(17415, 190)"
            ]
          },
          "metadata": {
            "tags": []
          },
          "execution_count": 43
        }
      ]
    },
    {
      "cell_type": "code",
      "metadata": {
        "colab": {
          "base_uri": "https://localhost:8080/"
        },
        "id": "EENp5yhsOAUu",
        "outputId": "cff928b2-e331-48c9-b882-356d4e8132c6"
      },
      "source": [
        "# Look at the new stats\r\n",
        "amsterdam_vects['price'].describe()"
      ],
      "execution_count": 44,
      "outputs": [
        {
          "output_type": "execute_result",
          "data": {
            "text/plain": [
              "count    17415.000000\n",
              "mean       134.533391\n",
              "std         59.826549\n",
              "min          0.000000\n",
              "25%         90.000000\n",
              "50%        125.000000\n",
              "75%        170.000000\n",
              "max        315.000000\n",
              "Name: price, dtype: float64"
            ]
          },
          "metadata": {
            "tags": []
          },
          "execution_count": 44
        }
      ]
    },
    {
      "cell_type": "code",
      "metadata": {
        "colab": {
          "base_uri": "https://localhost:8080/",
          "height": 211
        },
        "id": "u-Y4-4ofOAUv",
        "outputId": "11ab0fb5-271c-4215-cba4-603c6b242f25"
      },
      "source": [
        "# Plot the new stats using a boxplot\r\n",
        "fig, ax = plt.subplots(figsize=(16, 3))\r\n",
        "ax.boxplot(amsterdam_vects['price'], 0, 'ro', 0)\r\n",
        "ax.grid(True);"
      ],
      "execution_count": 45,
      "outputs": [
        {
          "output_type": "display_data",
          "data": {
            "image/png": "[encoded data removed]",
            "text/plain": [
              "<Figure size 1152x216 with 1 Axes>"
            ]
          },
          "metadata": {
            "tags": [],
            "needs_background": "light"
          }
        }
      ]
    },
    {
      "cell_type": "markdown",
      "metadata": {
        "id": "n4oG-tgLA9dD"
      },
      "source": [
        "### Split Data into Target and Features\r\n",
        "\r\n",
        "- Before I can scale my data, I have to remove the target feature from my other features"
      ]
    },
    {
      "cell_type": "code",
      "metadata": {
        "colab": {
          "base_uri": "https://localhost:8080/"
        },
        "id": "k5VbZ11oA9dE",
        "outputId": "3f4ae899-ab98-4173-bd7c-7eb60f8c9ef9"
      },
      "source": [
        "# Seperate the features from the target\r\n",
        "y = amsterdam_vects['price']\r\n",
        "X = amsterdam_vects.drop(columns='price')\r\n",
        "\r\n",
        "# Check my work\r\n",
        "y.shape, X.shape"
      ],
      "execution_count": 46,
      "outputs": [
        {
          "output_type": "execute_result",
          "data": {
            "text/plain": [
              "((17415,), (17415, 189))"
            ]
          },
          "metadata": {
            "tags": []
          },
          "execution_count": 46
        }
      ]
    },
    {
      "cell_type": "markdown",
      "metadata": {
        "id": "rjoCoshCA9dE"
      },
      "source": [
        "## Scale my Data\r\n",
        "\r\n",
        "- My data needs to be scaled to normalize it across the whole dataframe since I have document term matrices included in with the main data.\r\n",
        "\r\n",
        "- Using `StandardScaler` to scale my data."
      ]
    },
    {
      "cell_type": "code",
      "metadata": {
        "colab": {
          "base_uri": "https://localhost:8080/"
        },
        "id": "_MXH68-kA9dE",
        "outputId": "1547a640-2ef3-466b-fb9b-1189af4f9f9c"
      },
      "source": [
        "# Instantiate the Standard Scaler\r\n",
        "scaler = StandardScaler()\r\n",
        "\r\n",
        "# Fit and transform my features dataframe with the scaler\r\n",
        "X_scaled = scaler.fit_transform(X)\r\n",
        "\r\n",
        "# Check my work\r\n",
        "print(X_scaled.shape)\r\n",
        "X_scaled"
      ],
      "execution_count": 47,
      "outputs": [
        {
          "output_type": "stream",
          "text": [
            "(17415, 189)\n"
          ],
          "name": "stdout"
        },
        {
          "output_type": "execute_result",
          "data": {
            "text/plain": [
              "array([[ 2.59086424, -0.03870533,  0.07085743, ...,  1.88551997,\n",
              "        -0.05202044, -0.05202044],\n",
              "       [-0.38597159, -0.02137169,  0.07085743, ...,  1.88551997,\n",
              "        -0.05202044, -0.05202044],\n",
              "       [ 2.59086424, -0.02137169,  0.07085743, ..., -0.53779291,\n",
              "        -0.05202044, -0.05202044],\n",
              "       ...,\n",
              "       [-0.38597159, -0.03870533,  0.07085743, ..., -0.53779291,\n",
              "        -0.05202044, -0.05202044],\n",
              "       [-0.38597159, -0.03870533,  0.07085743, ..., -0.53779291,\n",
              "        -0.05202044, -0.05202044],\n",
              "       [ 2.59086424,  0.0999638 ,  0.07085743, ..., -0.53779291,\n",
              "        -0.05202044, -0.05202044]])"
            ]
          },
          "metadata": {
            "tags": []
          },
          "execution_count": 47
        }
      ]
    },
    {
      "cell_type": "code",
      "metadata": {
        "id": "847hm5bjA9dF"
      },
      "source": [
        "# Make sure there are no null values in the array\r\n",
        "X_scaled = np.nan_to_num(X_scaled)"
      ],
      "execution_count": 48,
      "outputs": []
    },
    {
      "cell_type": "code",
      "metadata": {
        "colab": {
          "base_uri": "https://localhost:8080/"
        },
        "id": "QrugVmcFA9dF",
        "outputId": "ef20587c-82c4-4da0-e3da-122cbe96eaf6"
      },
      "source": [
        "X_scaled"
      ],
      "execution_count": 49,
      "outputs": [
        {
          "output_type": "execute_result",
          "data": {
            "text/plain": [
              "array([[ 2.59086424, -0.03870533,  0.07085743, ...,  1.88551997,\n",
              "        -0.05202044, -0.05202044],\n",
              "       [-0.38597159, -0.02137169,  0.07085743, ...,  1.88551997,\n",
              "        -0.05202044, -0.05202044],\n",
              "       [ 2.59086424, -0.02137169,  0.07085743, ..., -0.53779291,\n",
              "        -0.05202044, -0.05202044],\n",
              "       ...,\n",
              "       [-0.38597159, -0.03870533,  0.07085743, ..., -0.53779291,\n",
              "        -0.05202044, -0.05202044],\n",
              "       [-0.38597159, -0.03870533,  0.07085743, ..., -0.53779291,\n",
              "        -0.05202044, -0.05202044],\n",
              "       [ 2.59086424,  0.0999638 ,  0.07085743, ..., -0.53779291,\n",
              "        -0.05202044, -0.05202044]])"
            ]
          },
          "metadata": {
            "tags": []
          },
          "execution_count": 49
        }
      ]
    },
    {
      "cell_type": "markdown",
      "metadata": {
        "id": "Na5NxabVA9dF"
      },
      "source": [
        "## Train Test Split\r\n",
        "\r\n",
        "- Want to split my training data into train and test sets so that I have some data that the model has not seen before to evaluate my final model. \r\n",
        "\r\n",
        "- I am choosing to do a 90/10 split."
      ]
    },
    {
      "cell_type": "code",
      "metadata": {
        "colab": {
          "base_uri": "https://localhost:8080/"
        },
        "id": "QekAImC3A9dF",
        "outputId": "a8a941bf-5fb0-45a5-c838-977e3f5c29f7"
      },
      "source": [
        "# Split my data into train and test sets\r\n",
        "X_train, X_test, y_train, y_test = train_test_split(X_scaled, y,\r\n",
        "                                                    test_size=0.1,\r\n",
        "                                                    random_state=79)\r\n",
        "\r\n",
        "# Check my work by looking at the shapes of the train and test sets\r\n",
        "print(f'X_train: {X_train.shape}\\ny_train: {y_train.shape}')\r\n",
        "print(f'X_test: {X_test.shape}\\ny_test: {y_test.shape}')"
      ],
      "execution_count": 50,
      "outputs": [
        {
          "output_type": "stream",
          "text": [
            "X_train: (15673, 189)\n",
            "y_train: (15673,)\n",
            "X_test: (1742, 189)\n",
            "y_test: (1742,)\n"
          ],
          "name": "stdout"
        }
      ]
    },
    {
      "cell_type": "markdown",
      "metadata": {
        "id": "fLl3vJXFO3jk"
      },
      "source": [
        "## Modeling Approach #4\r\n",
        "- Going to use the same model from approach 3 as it was my best model thus far.\r\n",
        "\r\n",
        "- Going to use the data where I have removed the outliers to see if that improves my model's prediction."
      ]
    },
    {
      "cell_type": "code",
      "metadata": {
        "id": "oHkcjW6wO3js"
      },
      "source": [
        "# Create early stopping\r\n",
        "early_stop = tf.keras.callbacks.EarlyStopping(\r\n",
        "    monitor='val_mae', min_delta=0.75, patience=10, restore_best_weights=True\r\n",
        ")"
      ],
      "execution_count": 51,
      "outputs": []
    },
    {
      "cell_type": "code",
      "metadata": {
        "colab": {
          "base_uri": "https://localhost:8080/"
        },
        "id": "WOCZXmBEO3js",
        "outputId": "af420392-72af-4431-af19-a9c729eeb5e5"
      },
      "source": [
        "# Instatiate my 4th model approach\r\n",
        "model4 = Sequential([\r\n",
        "            Dense(256, activation='relu', input_shape=(X_train.shape[1],)),\r\n",
        "            Dense(128, activation='relu'),\r\n",
        "            Dense(64, activation='relu'),\r\n",
        "            Dense(32, activation='relu'),\r\n",
        "            Dense(1)\r\n",
        "])\r\n",
        "\r\n",
        "# Compile my 2nd model approach\r\n",
        "model4.compile(loss='mean_squared_error',\r\n",
        "               optimizer='adam',\r\n",
        "               metrics=['mae'])\r\n",
        "\r\n",
        "# Fit my 2nd model approach\r\n",
        "mod4 = model4.fit(X_train, y_train,\r\n",
        "                  batch_size=128,\r\n",
        "                  epochs=300,\r\n",
        "                  validation_split=0.1,\r\n",
        "                  callbacks=[early_stop])"
      ],
      "execution_count": 52,
      "outputs": [
        {
          "output_type": "stream",
          "text": [
            "Epoch 1/300\n",
            "111/111 [==============================] - 1s 5ms/step - loss: 10750.4646 - mae: 82.0978 - val_loss: 2695.1750 - val_mae: 36.5230\n",
            "Epoch 2/300\n",
            "111/111 [==============================] - 0s 3ms/step - loss: 2195.9731 - mae: 35.2233 - val_loss: 2516.7573 - val_mae: 35.3514\n",
            "Epoch 3/300\n",
            "111/111 [==============================] - 0s 4ms/step - loss: 2053.5617 - mae: 34.1829 - val_loss: 2483.0737 - val_mae: 35.2147\n",
            "Epoch 4/300\n",
            "111/111 [==============================] - 0s 3ms/step - loss: 2027.3082 - mae: 33.7473 - val_loss: 2420.3108 - val_mae: 34.9747\n",
            "Epoch 5/300\n",
            "111/111 [==============================] - 0s 3ms/step - loss: 1996.5384 - mae: 33.8017 - val_loss: 2407.0876 - val_mae: 35.2634\n",
            "Epoch 6/300\n",
            "111/111 [==============================] - 0s 3ms/step - loss: 2072.1247 - mae: 34.5443 - val_loss: 2362.2859 - val_mae: 35.6463\n",
            "Epoch 7/300\n",
            "111/111 [==============================] - 0s 4ms/step - loss: 1983.2277 - mae: 33.5933 - val_loss: 2283.9712 - val_mae: 34.8921\n",
            "Epoch 8/300\n",
            "111/111 [==============================] - 0s 4ms/step - loss: 1938.3272 - mae: 32.9519 - val_loss: 2342.5176 - val_mae: 34.9228\n",
            "Epoch 9/300\n",
            "111/111 [==============================] - 0s 3ms/step - loss: 1843.8674 - mae: 32.5481 - val_loss: 2293.0352 - val_mae: 34.8648\n",
            "Epoch 10/300\n",
            "111/111 [==============================] - 0s 4ms/step - loss: 1820.2515 - mae: 32.3953 - val_loss: 2318.0024 - val_mae: 35.5619\n",
            "Epoch 11/300\n",
            "111/111 [==============================] - 0s 4ms/step - loss: 1844.9467 - mae: 32.5812 - val_loss: 2238.6782 - val_mae: 34.7937\n",
            "Epoch 12/300\n",
            "111/111 [==============================] - 0s 4ms/step - loss: 1760.1098 - mae: 31.8387 - val_loss: 2237.8564 - val_mae: 34.3658\n",
            "Epoch 13/300\n",
            "111/111 [==============================] - 0s 4ms/step - loss: 1737.2360 - mae: 31.7509 - val_loss: 2245.9436 - val_mae: 34.5180\n",
            "Epoch 14/300\n",
            "111/111 [==============================] - 0s 4ms/step - loss: 1717.5137 - mae: 31.5612 - val_loss: 2201.2236 - val_mae: 34.5031\n",
            "Epoch 15/300\n",
            "111/111 [==============================] - 0s 3ms/step - loss: 1678.5347 - mae: 30.9610 - val_loss: 2271.0713 - val_mae: 35.3488\n",
            "Epoch 16/300\n",
            "111/111 [==============================] - 0s 3ms/step - loss: 1553.9404 - mae: 30.1344 - val_loss: 2232.6282 - val_mae: 35.4111\n",
            "Epoch 17/300\n",
            "111/111 [==============================] - 0s 3ms/step - loss: 1542.8345 - mae: 29.9189 - val_loss: 2227.6753 - val_mae: 34.7419\n",
            "Epoch 18/300\n",
            "111/111 [==============================] - 0s 4ms/step - loss: 1505.8918 - mae: 29.3073 - val_loss: 2305.9485 - val_mae: 35.4608\n",
            "Epoch 19/300\n",
            "111/111 [==============================] - 0s 4ms/step - loss: 1503.6195 - mae: 29.6094 - val_loss: 2288.6680 - val_mae: 35.3355\n",
            "Epoch 20/300\n",
            "111/111 [==============================] - 0s 3ms/step - loss: 1438.8257 - mae: 28.8455 - val_loss: 2329.2002 - val_mae: 35.8138\n",
            "Epoch 21/300\n",
            "111/111 [==============================] - 0s 3ms/step - loss: 1395.5318 - mae: 28.4068 - val_loss: 2482.0845 - val_mae: 37.9815\n",
            "Epoch 22/300\n",
            "111/111 [==============================] - 0s 4ms/step - loss: 1358.3546 - mae: 28.1003 - val_loss: 2349.1111 - val_mae: 36.4216\n"
          ],
          "name": "stdout"
        }
      ]
    },
    {
      "cell_type": "code",
      "metadata": {
        "colab": {
          "base_uri": "https://localhost:8080/",
          "height": 404
        },
        "id": "K_8uNEygO3jt",
        "outputId": "e3f64e34-dc41-4d31-a92e-c90d561aa9b1"
      },
      "source": [
        "# Plot out the changes per epoch for the training and validation mae\r\n",
        "plt.figure(figsize=(10,6))\r\n",
        "plt.plot(mod4.epoch, mod4.history['mae'], label='Training')\r\n",
        "plt.plot(mod4.epoch, mod4.history['val_mae'], label='Validation')\r\n",
        "plt.legend()\r\n",
        "plt.title('Model Approach #4 Model MAE scores by epoch')\r\n",
        "plt.xlabel('Epoch')\r\n",
        "plt.ylabel('Mean Absolute Error');"
      ],
      "execution_count": 53,
      "outputs": [
        {
          "output_type": "display_data",
          "data": {
            "image/png": "[encoded data removed]",
            "text/plain": [
              "<Figure size 720x432 with 1 Axes>"
            ]
          },
          "metadata": {
            "tags": [],
            "needs_background": "light"
          }
        }
      ]
    },
    {
      "cell_type": "markdown",
      "metadata": {
        "id": "PEuktwP2FXxK"
      },
      "source": [
        "## Modeling Approach #5\r\n",
        "- Going to use the same model from approach 4.\r\n",
        "\r\n",
        "- Going to add some dropout regularization to make sure it does not overfit."
      ]
    },
    {
      "cell_type": "code",
      "metadata": {
        "id": "POzJ_tSGFXxS"
      },
      "source": [
        "# Create early stopping\r\n",
        "early_stop = tf.keras.callbacks.EarlyStopping(\r\n",
        "    monitor='val_mae', min_delta=0.75, patience=15, restore_best_weights=True\r\n",
        ")"
      ],
      "execution_count": 54,
      "outputs": []
    },
    {
      "cell_type": "code",
      "metadata": {
        "colab": {
          "base_uri": "https://localhost:8080/"
        },
        "id": "eaHDnGFmFXxT",
        "outputId": "e02f0926-11aa-41e5-964e-8b018394d46b"
      },
      "source": [
        "# Instatiate my 5th model approach\r\n",
        "model5 = Sequential([\r\n",
        "            Dense(256, activation='relu', input_shape=(X_train.shape[1],)),\r\n",
        "            Dropout(0.25),\r\n",
        "            Dense(128, activation='relu'),\r\n",
        "            Dropout(0.25),\r\n",
        "            Dense(64, activation='relu'),\r\n",
        "            Dropout(0.25),\r\n",
        "            Dense(32, activation='relu'),\r\n",
        "            Dense(1)\r\n",
        "])\r\n",
        "\r\n",
        "# Compile my 2nd model approach\r\n",
        "model5.compile(loss='mean_squared_error',\r\n",
        "               optimizer='adam',\r\n",
        "               metrics=['mae'])\r\n",
        "\r\n",
        "# Fit my 2nd model approach\r\n",
        "mod5 = model5.fit(X_train, y_train,\r\n",
        "                  batch_size=128,\r\n",
        "                  epochs=300,\r\n",
        "                  validation_split=0.1,\r\n",
        "                  callbacks=[early_stop])"
      ],
      "execution_count": 55,
      "outputs": [
        {
          "output_type": "stream",
          "text": [
            "Epoch 1/300\n",
            "111/111 [==============================] - 1s 5ms/step - loss: 12759.0726 - mae: 92.1203 - val_loss: 2694.9155 - val_mae: 35.8817\n",
            "Epoch 2/300\n",
            "111/111 [==============================] - 0s 4ms/step - loss: 2592.5319 - mae: 38.6731 - val_loss: 2616.7207 - val_mae: 35.0387\n",
            "Epoch 3/300\n",
            "111/111 [==============================] - 0s 4ms/step - loss: 2480.6552 - mae: 37.2848 - val_loss: 2520.9714 - val_mae: 34.8299\n",
            "Epoch 4/300\n",
            "111/111 [==============================] - 0s 4ms/step - loss: 2394.5302 - mae: 36.6698 - val_loss: 2437.5654 - val_mae: 34.6153\n",
            "Epoch 5/300\n",
            "111/111 [==============================] - 0s 4ms/step - loss: 2380.7892 - mae: 37.0030 - val_loss: 2440.5974 - val_mae: 34.7608\n",
            "Epoch 6/300\n",
            "111/111 [==============================] - 0s 3ms/step - loss: 2428.1277 - mae: 37.4138 - val_loss: 2366.8809 - val_mae: 34.8032\n",
            "Epoch 7/300\n",
            "111/111 [==============================] - 0s 4ms/step - loss: 2384.5543 - mae: 36.6282 - val_loss: 2327.7585 - val_mae: 34.5309\n",
            "Epoch 8/300\n",
            "111/111 [==============================] - 0s 4ms/step - loss: 2293.2204 - mae: 35.7194 - val_loss: 2340.2866 - val_mae: 34.5442\n",
            "Epoch 9/300\n",
            "111/111 [==============================] - 0s 4ms/step - loss: 2204.6593 - mae: 35.4686 - val_loss: 2278.0195 - val_mae: 34.3622\n",
            "Epoch 10/300\n",
            "111/111 [==============================] - 0s 4ms/step - loss: 2163.8453 - mae: 35.1999 - val_loss: 2296.4360 - val_mae: 34.6731\n",
            "Epoch 11/300\n",
            "111/111 [==============================] - 0s 4ms/step - loss: 2235.1900 - mae: 35.8926 - val_loss: 2269.3533 - val_mae: 34.3023\n",
            "Epoch 12/300\n",
            "111/111 [==============================] - 0s 4ms/step - loss: 2149.5760 - mae: 35.1398 - val_loss: 2328.3950 - val_mae: 34.5964\n",
            "Epoch 13/300\n",
            "111/111 [==============================] - 0s 4ms/step - loss: 2140.7474 - mae: 35.2737 - val_loss: 2357.6970 - val_mae: 34.8465\n",
            "Epoch 14/300\n",
            "111/111 [==============================] - 0s 4ms/step - loss: 2135.9405 - mae: 34.9779 - val_loss: 2274.1816 - val_mae: 34.2906\n",
            "Epoch 15/300\n",
            "111/111 [==============================] - 0s 4ms/step - loss: 2121.8745 - mae: 34.8547 - val_loss: 2351.0371 - val_mae: 34.7496\n",
            "Epoch 16/300\n",
            "111/111 [==============================] - 0s 3ms/step - loss: 1995.4749 - mae: 33.9224 - val_loss: 2294.1321 - val_mae: 34.6761\n",
            "Epoch 17/300\n",
            "111/111 [==============================] - 0s 4ms/step - loss: 2049.8679 - mae: 34.4993 - val_loss: 2405.1189 - val_mae: 34.9991\n"
          ],
          "name": "stdout"
        }
      ]
    },
    {
      "cell_type": "code",
      "metadata": {
        "colab": {
          "base_uri": "https://localhost:8080/",
          "height": 404
        },
        "id": "ZS7yghjvFXxT",
        "outputId": "db1dc351-53e3-4b03-9144-1d754cf38d34"
      },
      "source": [
        "# Plot out the changes per epoch for the training and validation mae\r\n",
        "plt.figure(figsize=(10,6))\r\n",
        "plt.plot(mod5.epoch, mod5.history['mae'], label='Training')\r\n",
        "plt.plot(mod5.epoch, mod5.history['val_mae'], label='Validation')\r\n",
        "plt.legend()\r\n",
        "plt.title('Model Approach #5 Model MAE scores by epoch')\r\n",
        "plt.xlabel('Epoch')\r\n",
        "plt.ylabel('Mean Absolute Error');"
      ],
      "execution_count": 56,
      "outputs": [
        {
          "output_type": "display_data",
          "data": {
            "image/png": "[encoded data removed]",
            "text/plain": [
              "<Figure size 720x432 with 1 Axes>"
            ]
          },
          "metadata": {
            "tags": [],
            "needs_background": "light"
          }
        }
      ]
    },
    {
      "cell_type": "code",
      "metadata": {
        "colab": {
          "base_uri": "https://localhost:8080/"
        },
        "id": "R24MGh45fwMZ",
        "outputId": "2fe1df7c-a4c2-4bdc-a212-0a49b102c198"
      },
      "source": [
        "# Use this model to evalute on my test set\r\n",
        "model5.evaluate(X_test, y_test)"
      ],
      "execution_count": 57,
      "outputs": [
        {
          "output_type": "stream",
          "text": [
            "55/55 [==============================] - 0s 2ms/step - loss: 2168.9602 - mae: 34.4317\n"
          ],
          "name": "stdout"
        },
        {
          "output_type": "execute_result",
          "data": {
            "text/plain": [
              "[2168.960205078125, 34.43174743652344]"
            ]
          },
          "metadata": {
            "tags": []
          },
          "execution_count": 57
        }
      ]
    },
    {
      "cell_type": "markdown",
      "metadata": {
        "id": "U8LW3ikHTwup"
      },
      "source": [
        "## Model Approach #6\r\n",
        "\r\n",
        "* `XGBRegressor` "
      ]
    },
    {
      "cell_type": "code",
      "metadata": {
        "colab": {
          "base_uri": "https://localhost:8080/"
        },
        "id": "69U3uvsSP2MA",
        "outputId": "61ecfcf5-f020-4899-ffc0-4e45c531d880"
      },
      "source": [
        "# Instantiate the model\r\n",
        "xgbr = xgb.XGBRegressor(base_score=base_score, learning_rate=0.1, \r\n",
        "                        n_estimators=197, max_depth=21, gamma=0.5, subsample=0.5,\r\n",
        "                        random_state=79, verbosity=0)\r\n",
        "\r\n",
        "# Fit the model with an evaluation metric of `mae` for easier comparision\r\n",
        "#   to my above models.\r\n",
        "xgbr.fit(X_train, y_train, eval_metric='mae')"
      ],
      "execution_count": 58,
      "outputs": [
        {
          "output_type": "execute_result",
          "data": {
            "text/plain": [
              "XGBRegressor(base_score=48.791831970214844, booster='gbtree',\n",
              "             colsample_bylevel=1, colsample_bynode=1, colsample_bytree=1,\n",
              "             gamma=0.5, importance_type='gain', learning_rate=0.1,\n",
              "             max_delta_step=0, max_depth=21, min_child_weight=1, missing=None,\n",
              "             n_estimators=197, n_jobs=1, nthread=None, objective='reg:linear',\n",
              "             random_state=79, reg_alpha=0, reg_lambda=1, scale_pos_weight=1,\n",
              "             seed=None, silent=None, subsample=0.5, verbosity=0)"
            ]
          },
          "metadata": {
            "tags": []
          },
          "execution_count": 58
        }
      ]
    },
    {
      "cell_type": "code",
      "metadata": {
        "colab": {
          "base_uri": "https://localhost:8080/"
        },
        "id": "1OSKmUQUP2GN",
        "outputId": "5c1ee74d-ba28-469c-f832-ba40ba12d3d5"
      },
      "source": [
        "# Look at my training score\r\n",
        "train_score = xgbr.score(X_train, y_train)\r\n",
        "print(f'Training Score: {train_score}')"
      ],
      "execution_count": 59,
      "outputs": [
        {
          "output_type": "stream",
          "text": [
            "Training Score: 0.9984363426595724\n"
          ],
          "name": "stdout"
        }
      ]
    },
    {
      "cell_type": "code",
      "metadata": {
        "colab": {
          "base_uri": "https://localhost:8080/"
        },
        "id": "4eXvOBTbRudm",
        "outputId": "6c0c5454-a3ba-44c7-b072-134cc9c677e7"
      },
      "source": [
        "# Look at the cross validation score\r\n",
        "cv_score = cross_val_score(xgbr, X_train, y_train, cv=5)\r\n",
        "print(f'Mean Cross-Validation Score: {cv_score.mean():.2f}')"
      ],
      "execution_count": 60,
      "outputs": [
        {
          "output_type": "stream",
          "text": [
            "Mean Cross-Validation Score: 0.40\n"
          ],
          "name": "stdout"
        }
      ]
    },
    {
      "cell_type": "code",
      "metadata": {
        "id": "lkepAbR6AhIN"
      },
      "source": [
        "# # Look at the kfold cross validation score\r\n",
        "# kfold = KFold(n_splits=5, shuffle=True)\r\n",
        "# kf_cv_score = cross_val_score(xgbr, X_train, y_train, cv=kfold )\r\n",
        "# print(f'Mean K-fold Cross-Validation score: {kf_cv_score.mean():.2f}')"
      ],
      "execution_count": 61,
      "outputs": []
    },
    {
      "cell_type": "code",
      "metadata": {
        "colab": {
          "base_uri": "https://localhost:8080/"
        },
        "id": "XjysN02qTbIc",
        "outputId": "6d969f07-521d-4e99-9834-d52ea76ee10d"
      },
      "source": [
        "# Make a prediction on the test set and print the mean absolute error\r\n",
        "y_pred = xgbr.predict(X_test)\r\n",
        "mae = mean_absolute_error(y_test, y_pred)\r\n",
        "print(f'Mean Absolute Error for Test Set: {mae:.2f}')"
      ],
      "execution_count": 62,
      "outputs": [
        {
          "output_type": "stream",
          "text": [
            "Mean Absolute Error for Test Set: 34.16\n"
          ],
          "name": "stdout"
        }
      ]
    },
    {
      "cell_type": "code",
      "metadata": {
        "colab": {
          "base_uri": "https://localhost:8080/",
          "height": 575
        },
        "id": "GlZgFiZDTbF6",
        "outputId": "ecdfa8e6-c10c-4249-b9ec-398e53cfb258"
      },
      "source": [
        "# Plot out the differences between the predicted values and true values\r\n",
        "#   based on the test set values.\r\n",
        "x_ax = range(150)\r\n",
        "plt.figure(figsize=(16, 8))\r\n",
        "plt.scatter(x_ax, y_test[:150], s=8, color=\"blue\", label=\"original\")\r\n",
        "plt.plot(x_ax, y_pred[:150], lw=0.8, color=\"red\", label=\"predicted\", alpha=0.75)\r\n",
        "plt.legend()\r\n",
        "plt.title('XGBRegressor Results - Predicted Price vs Actual Price\\n',\r\n",
        "          size=20, weight='bold')\r\n",
        "plt.xlabel(f'\\nIndex Number of Occurance', size=16, weight='bold')\r\n",
        "plt.ylabel(f'Price\\n', size=16, weight='bold')\r\n",
        "plt.xticks(np.arange(150, step=10), rotation=20, size=14, weight='bold')\r\n",
        "plt.yticks(np.arange(0, y_test.max(), step=25), size=14, weight='bold')\r\n",
        "plt.grid(color='grey', linestyle='--', linewidth=1);"
      ],
      "execution_count": 65,
      "outputs": [
        {
          "output_type": "display_data",
          "data": {
            "image/png": "[encoded data removed]",
            "text/plain": [
              "<Figure size 1152x576 with 1 Axes>"
            ]
          },
          "metadata": {
            "tags": [],
            "needs_background": "light"
          }
        }
      ]
    },
    {
      "cell_type": "markdown",
      "metadata": {
        "id": "STxF856isqcg"
      },
      "source": [
        "## Model Approach #7"
      ]
    },
    {
      "cell_type": "code",
      "metadata": {
        "colab": {
          "base_uri": "https://localhost:8080/"
        },
        "id": "AlCyMroCspMt",
        "outputId": "e580e7b4-0cce-44e5-f872-1663a9868b09"
      },
      "source": [
        "# Instantiate the model\r\n",
        "xgbr = xgb.XGBRegressor(base_score=base_score, learning_rate=0.01, \r\n",
        "                        n_estimators=150, max_depth=9, gamma=0.25, subsample=0.5,\r\n",
        "                        random_state=79, verbosity=0)\r\n",
        "\r\n",
        "# Fit the model with an evaluation metric of `mae` for easier comparision\r\n",
        "#   to my above models.\r\n",
        "xgbr.fit(X_train, y_train, eval_metric='mae')"
      ],
      "execution_count": 66,
      "outputs": [
        {
          "output_type": "execute_result",
          "data": {
            "text/plain": [
              "XGBRegressor(base_score=48.791831970214844, booster='gbtree',\n",
              "             colsample_bylevel=1, colsample_bynode=1, colsample_bytree=1,\n",
              "             gamma=0.25, importance_type='gain', learning_rate=0.01,\n",
              "             max_delta_step=0, max_depth=9, min_child_weight=1, missing=None,\n",
              "             n_estimators=150, n_jobs=1, nthread=None, objective='reg:linear',\n",
              "             random_state=79, reg_alpha=0, reg_lambda=1, scale_pos_weight=1,\n",
              "             seed=None, silent=None, subsample=0.5, verbosity=0)"
            ]
          },
          "metadata": {
            "tags": []
          },
          "execution_count": 66
        }
      ]
    },
    {
      "cell_type": "code",
      "metadata": {
        "colab": {
          "base_uri": "https://localhost:8080/"
        },
        "id": "hnI92PqAspM1",
        "outputId": "06e15323-976b-43f6-de1a-28657071a9ad"
      },
      "source": [
        "# Look at my training score\r\n",
        "train_score = xgbr.score(X_train, y_train)\r\n",
        "print(f'Training Score: {train_score}')"
      ],
      "execution_count": 67,
      "outputs": [
        {
          "output_type": "stream",
          "text": [
            "Training Score: 0.43062528488680146\n"
          ],
          "name": "stdout"
        }
      ]
    },
    {
      "cell_type": "code",
      "metadata": {
        "colab": {
          "base_uri": "https://localhost:8080/"
        },
        "id": "sfcdQDkGspM1",
        "outputId": "6541b66d-49f9-4218-90b9-8ae8466c71ef"
      },
      "source": [
        "# Look at the cross validation score\r\n",
        "cv_score = cross_val_score(xgbr, X_train, y_train, cv=9)\r\n",
        "print(f'Mean Cross-Validation Score: {cv_score.mean():.2f}')"
      ],
      "execution_count": 68,
      "outputs": [
        {
          "output_type": "stream",
          "text": [
            "Mean Cross-Validation Score: 0.31\n"
          ],
          "name": "stdout"
        }
      ]
    },
    {
      "cell_type": "code",
      "metadata": {
        "colab": {
          "base_uri": "https://localhost:8080/"
        },
        "id": "VaLpTHPfspM2",
        "outputId": "52cbcc20-a268-4023-b6e9-7480a7da922c"
      },
      "source": [
        "# # Look at the kfold cross validation score\r\n",
        "# kfold = KFold(n_splits=9, shuffle=True)\r\n",
        "# kf_cv_score = cross_val_score(xgbr, X_train, y_train, cv=kfold )\r\n",
        "# print(f'Mean K-fold Cross-Validation score: {kf_cv_score.mean():.2f}')"
      ],
      "execution_count": 69,
      "outputs": [
        {
          "output_type": "stream",
          "text": [
            "Mean K-fold Cross-Validation score: 0.31\n"
          ],
          "name": "stdout"
        }
      ]
    },
    {
      "cell_type": "code",
      "metadata": {
        "colab": {
          "base_uri": "https://localhost:8080/"
        },
        "id": "vHawWRMDspM2",
        "outputId": "47da3a77-5793-447c-b424-945931116bc2"
      },
      "source": [
        "# Make a prediction on the test set and print the mean absolute error\r\n",
        "y_pred = xgbr.predict(X_test)\r\n",
        "mae = mean_absolute_error(y_test, y_pred)\r\n",
        "print(f'Mean Absolute Error for Test Set: {mae:.2f}')"
      ],
      "execution_count": 70,
      "outputs": [
        {
          "output_type": "stream",
          "text": [
            "Mean Absolute Error for Test Set: 35.43\n"
          ],
          "name": "stdout"
        }
      ]
    },
    {
      "cell_type": "code",
      "metadata": {
        "colab": {
          "base_uri": "https://localhost:8080/",
          "height": 575
        },
        "id": "_wxVPumEspM2",
        "outputId": "f6f5a9c3-d720-4b49-d720-ab939d15f41c"
      },
      "source": [
        "# Plot out the differences between the predicted values and true values\r\n",
        "#   based on the test set values.\r\n",
        "x_ax = range(150)\r\n",
        "plt.figure(figsize=(16, 8))\r\n",
        "plt.scatter(x_ax, y_test[:150], s=8, color=\"blue\", label=\"original\")\r\n",
        "plt.plot(x_ax, y_pred[:150], lw=0.8, color=\"red\", label=\"predicted\", alpha=0.75)\r\n",
        "plt.legend()\r\n",
        "plt.title('XGBRegressor Results - Predicted Price vs Actual Price\\n',\r\n",
        "          size=20, weight='bold')\r\n",
        "plt.xlabel(f'\\nIndex Number of Occurance', size=16, weight='bold')\r\n",
        "plt.ylabel(f'Price\\n', size=16, weight='bold')\r\n",
        "plt.xticks(np.arange(150, step=10), rotation=20, size=14, weight='bold')\r\n",
        "plt.yticks(np.arange(0, y_test.max(), step=25), size=14, weight='bold')\r\n",
        "plt.grid(color='grey', linestyle='--', linewidth=1);"
      ],
      "execution_count": 71,
      "outputs": [
        {
          "output_type": "display_data",
          "data": {
            "image/png": "[encoded data removed]",
            "text/plain": [
              "<Figure size 1152x576 with 1 Axes>"
            ]
          },
          "metadata": {
            "tags": [],
            "needs_background": "light"
          }
        }
      ]
    },
    {
      "cell_type": "code",
      "metadata": {
        "id": "TX2ZPF_ar-n0"
      },
      "source": [
        ""
      ],
      "execution_count": null,
      "outputs": []
    }
  ]
}