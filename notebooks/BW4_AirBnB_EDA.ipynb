{
  "nbformat": 4,
  "nbformat_minor": 0,
  "metadata": {
    "colab": {
      "name": "BW4-AirBnB-EDA.ipynb",
      "provenance": []
    },
    "kernelspec": {
      "name": "python3",
      "display_name": "Python 3"
    }
  },
  "cells": [
    {
      "cell_type": "markdown",
      "metadata": {
        "id": "WZVsx8h2KUGv"
      },
      "source": [
        "# AirBnB Build Week Project\r\n",
        "\r\n",
        "#### Source for data:\r\n",
        "[Inside AirBnB](http://insideairbnb.com/get-the-data.html)\r\n",
        "\r\n"
      ]
    },
    {
      "cell_type": "markdown",
      "metadata": {
        "id": "7yC4VHtx9gl_"
      },
      "source": [
        "## Imports"
      ]
    },
    {
      "cell_type": "code",
      "metadata": {
        "id": "Ct8uuzO_Qs7M"
      },
      "source": [
        "# Standard EDA libraries\r\n",
        "import pandas as pd\r\n",
        "import numpy as np\r\n",
        "import datetime as dt\r\n",
        "import math\r\n",
        "\r\n",
        "# Set DataFrame display options for easier EDA\r\n",
        "pd.set_option('display.max_rows', 100)\r\n",
        "pd.set_option('display.max_colwidth', 300)\r\n",
        "\r\n"
      ],
      "execution_count": 237,
      "outputs": []
    },
    {
      "cell_type": "markdown",
      "metadata": {
        "id": "7AC-TTh02Znx"
      },
      "source": [
        "## Data Choosing and Cleaning"
      ]
    },
    {
      "cell_type": "markdown",
      "metadata": {
        "id": "AS8QTQ4RdwS0"
      },
      "source": [
        "### Amsterdam Calander Dataset\r\n",
        "\r\n",
        "[Download the dataset here](https://github.com/BW-TT-158-AirBnB/Data-Science-Unit3-and-Unit4/blob/main/data/Amsterdam_calendar.csv)\r\n",
        "\r\n",
        "- Determine if this data will be helpful or can be found in another dataset with more information."
      ]
    },
    {
      "cell_type": "code",
      "metadata": {
        "id": "LeLwjqUs9cm0"
      },
      "source": [
        "# # Read in the data\r\n",
        "# amsterdam_cal = pd.read_csv('Amsterdam_calendar.csv', compression='gzip')\r\n",
        "\r\n",
        "# # Look at what data is in this file\r\n",
        "# print(amsterdam_cal.shape)\r\n",
        "# amsterdam_cal.head(10)"
      ],
      "execution_count": 238,
      "outputs": []
    },
    {
      "cell_type": "markdown",
      "metadata": {
        "id": "4vF8AgPo7PCp"
      },
      "source": [
        "* Do not think this dataset will hold any real value for this project. Have data like this in another dataset. Probably not going to use this one but will keep it on hand for now."
      ]
    },
    {
      "cell_type": "markdown",
      "metadata": {
        "id": "FBUtR7taexr5"
      },
      "source": [
        "### Amsterdam Listings\r\n",
        "\r\n",
        "[Download the dataset here](https://github.com/BW-TT-158-AirBnB/Data-Science-Unit3-and-Unit4/blob/main/data/Amsterdam_listings.csv)\r\n",
        "\r\n",
        "- Want to compare this dataset to the detailed one to see if this would be enough data or not."
      ]
    },
    {
      "cell_type": "code",
      "metadata": {
        "id": "IG7DiVZE-Ucj"
      },
      "source": [
        "# raw_amsterdam_listing = 'https://raw.githubusercontent.com/BW-TT-158-AirBnB/Data-Science-Unit3-and-Unit4/main/data/Amsterdam_listings.csv'\r\n",
        "\r\n",
        "# amsterdam_listing = pd.read_csv(raw_amsterdam_listing)\r\n",
        "\r\n",
        "# print(amsterdam_listing.shape)\r\n",
        "# amsterdam_listing.head()"
      ],
      "execution_count": 239,
      "outputs": []
    },
    {
      "cell_type": "code",
      "metadata": {
        "id": "Ecdz2nSOew-U"
      },
      "source": [
        "# # Look at a list of all the features in this dataset\n",
        "# amsterdam_listing.columns"
      ],
      "execution_count": 240,
      "outputs": []
    },
    {
      "cell_type": "code",
      "metadata": {
        "id": "pkjy-ZDAew8W"
      },
      "source": [
        "# # What values are in the neighbourhood_group?\n",
        "# amsterdam_listing['neighbourhood_group'].value_counts()"
      ],
      "execution_count": 241,
      "outputs": []
    },
    {
      "cell_type": "code",
      "metadata": {
        "id": "T1wcyV-Qew6H"
      },
      "source": [
        "# # Remove the neighbourhood_group feature --> nothing but NaNs\r\n",
        "# amsterdam_listing = amsterdam_listing.drop('neighbourhood_group', axis=1)\r\n",
        "\r\n",
        "# Check my work\r\n",
        "# amsterdam_listing.head()"
      ],
      "execution_count": 242,
      "outputs": []
    },
    {
      "cell_type": "code",
      "metadata": {
        "id": "PeLr9_-1iIhj"
      },
      "source": [
        "# # Look for NaN values\n",
        "# amsterdam_listing.isnull().sum()"
      ],
      "execution_count": 243,
      "outputs": []
    },
    {
      "cell_type": "code",
      "metadata": {
        "id": "jvWrjJ9bew3m"
      },
      "source": [
        "# # Look at a summary of the numerical data\n",
        "# amsterdam_listing.describe(include=[np.number])"
      ],
      "execution_count": 244,
      "outputs": []
    },
    {
      "cell_type": "code",
      "metadata": {
        "id": "MQPSYIzVew1N"
      },
      "source": [
        "# # Look at a summary of the non-numerical values\n",
        "# amsterdam_listing.describe(exclude=[np.number])"
      ],
      "execution_count": 245,
      "outputs": []
    },
    {
      "cell_type": "markdown",
      "metadata": {
        "id": "U2jfMvRQ8ZP_"
      },
      "source": [
        "* Believe the detailed dataset will be more useful for this project due to the lack of features I believe will be useful for predictions.\r\n",
        "\r\n",
        "* Will keep this one on hand though just in case I change my mind.\r\n"
      ]
    },
    {
      "cell_type": "markdown",
      "metadata": {
        "id": "K-ilEYyJeBiW"
      },
      "source": [
        "### Amsterdam Detailed Listings\r\n",
        "\r\n",
        "[Download the dataset here](https://github.com/BW-TT-158-AirBnB/Data-Science-Unit3-and-Unit4/blob/main/data/Amsterdam_detailed_listings.csv)\r\n",
        "\r\n",
        "- Explore this dataset to find out if this detailed data is going to be more helpful then the compressed listings."
      ]
    },
    {
      "cell_type": "code",
      "metadata": {
        "id": "_YAqfkL4-Uhu",
        "colab": {
          "base_uri": "https://localhost:8080/",
          "height": 1000
        },
        "outputId": "5095654b-8a5d-4607-ea20-dded523269b4"
      },
      "source": [
        "# Read in the data using Colab\n",
        "amsterdam_detailed_listing = pd.read_csv('Amsterdam_detailed_listings.csv', compression='gzip')\n",
        "\n",
        "# Look at what kind of data I have\n",
        "print(amsterdam_detailed_listing.shape)\n",
        "amsterdam_detailed_listing.head(5)"
      ],
      "execution_count": 246,
      "outputs": [
        {
          "output_type": "stream",
          "text": [
            "(18291, 74)\n"
          ],
          "name": "stdout"
        },
        {
          "output_type": "execute_result",
          "data": {
            "text/html": [
              "<div>\n",
              "<style scoped>\n",
              "    .dataframe tbody tr th:only-of-type {\n",
              "        vertical-align: middle;\n",
              "    }\n",
              "\n",
              "    .dataframe tbody tr th {\n",
              "        vertical-align: top;\n",
              "    }\n",
              "\n",
              "    .dataframe thead th {\n",
              "        text-align: right;\n",
              "    }\n",
              "</style>\n",
              "<table border=\"1\" class=\"dataframe\">\n",
              "  <thead>\n",
              "    <tr style=\"text-align: right;\">\n",
              "      <th></th>\n",
              "      <th>id</th>\n",
              "      <th>listing_url</th>\n",
              "      <th>scrape_id</th>\n",
              "      <th>last_scraped</th>\n",
              "      <th>name</th>\n",
              "      <th>description</th>\n",
              "      <th>neighborhood_overview</th>\n",
              "      <th>picture_url</th>\n",
              "      <th>host_id</th>\n",
              "      <th>host_url</th>\n",
              "      <th>host_name</th>\n",
              "      <th>host_since</th>\n",
              "      <th>host_location</th>\n",
              "      <th>host_about</th>\n",
              "      <th>host_response_time</th>\n",
              "      <th>host_response_rate</th>\n",
              "      <th>host_acceptance_rate</th>\n",
              "      <th>host_is_superhost</th>\n",
              "      <th>host_thumbnail_url</th>\n",
              "      <th>host_picture_url</th>\n",
              "      <th>host_neighbourhood</th>\n",
              "      <th>host_listings_count</th>\n",
              "      <th>host_total_listings_count</th>\n",
              "      <th>host_verifications</th>\n",
              "      <th>host_has_profile_pic</th>\n",
              "      <th>host_identity_verified</th>\n",
              "      <th>neighbourhood</th>\n",
              "      <th>neighbourhood_cleansed</th>\n",
              "      <th>neighbourhood_group_cleansed</th>\n",
              "      <th>latitude</th>\n",
              "      <th>longitude</th>\n",
              "      <th>property_type</th>\n",
              "      <th>room_type</th>\n",
              "      <th>accommodates</th>\n",
              "      <th>bathrooms</th>\n",
              "      <th>bathrooms_text</th>\n",
              "      <th>bedrooms</th>\n",
              "      <th>beds</th>\n",
              "      <th>amenities</th>\n",
              "      <th>price</th>\n",
              "      <th>minimum_nights</th>\n",
              "      <th>maximum_nights</th>\n",
              "      <th>minimum_minimum_nights</th>\n",
              "      <th>maximum_minimum_nights</th>\n",
              "      <th>minimum_maximum_nights</th>\n",
              "      <th>maximum_maximum_nights</th>\n",
              "      <th>minimum_nights_avg_ntm</th>\n",
              "      <th>maximum_nights_avg_ntm</th>\n",
              "      <th>calendar_updated</th>\n",
              "      <th>has_availability</th>\n",
              "      <th>availability_30</th>\n",
              "      <th>availability_60</th>\n",
              "      <th>availability_90</th>\n",
              "      <th>availability_365</th>\n",
              "      <th>calendar_last_scraped</th>\n",
              "      <th>number_of_reviews</th>\n",
              "      <th>number_of_reviews_ltm</th>\n",
              "      <th>number_of_reviews_l30d</th>\n",
              "      <th>first_review</th>\n",
              "      <th>last_review</th>\n",
              "      <th>review_scores_rating</th>\n",
              "      <th>review_scores_accuracy</th>\n",
              "      <th>review_scores_cleanliness</th>\n",
              "      <th>review_scores_checkin</th>\n",
              "      <th>review_scores_communication</th>\n",
              "      <th>review_scores_location</th>\n",
              "      <th>review_scores_value</th>\n",
              "      <th>license</th>\n",
              "      <th>instant_bookable</th>\n",
              "      <th>calculated_host_listings_count</th>\n",
              "      <th>calculated_host_listings_count_entire_homes</th>\n",
              "      <th>calculated_host_listings_count_private_rooms</th>\n",
              "      <th>calculated_host_listings_count_shared_rooms</th>\n",
              "      <th>reviews_per_month</th>\n",
              "    </tr>\n",
              "  </thead>\n",
              "  <tbody>\n",
              "    <tr>\n",
              "      <th>0</th>\n",
              "      <td>2818</td>\n",
              "      <td>https://www.airbnb.com/rooms/2818</td>\n",
              "      <td>20210208155251</td>\n",
              "      <td>2021-02-11</td>\n",
              "      <td>Quiet Garden View Room &amp; Super Fast WiFi</td>\n",
              "      <td>Quiet Garden View Room &amp; Super Fast WiFi&lt;br /&gt;&lt;br /&gt;&lt;b&gt;The space&lt;/b&gt;&lt;br /&gt;I'm renting a bedroom (room overlooking the garden) in my apartment in Amsterdam, &lt;br /&gt;&lt;br /&gt;The room is located to the east of the city centre in a quiet, typical Amsterdam neighbourhood the \"Indische Buurt\". Amsterdam’s...</td>\n",
              "      <td>Indische Buurt (\"Indies Neighborhood\") is a neighbourhood in the eastern portion of the city of Amsterdam, in the Dutch province of Noord-Holland. The name dates from the early 20th century and is derived from the fact that the neighbourhood's streets are named after islands and other geographic...</td>\n",
              "      <td>https://a0.muscache.com/pictures/10272854/8dcca016_original.jpg</td>\n",
              "      <td>3159</td>\n",
              "      <td>https://www.airbnb.com/users/show/3159</td>\n",
              "      <td>Daniel</td>\n",
              "      <td>2008-09-24</td>\n",
              "      <td>Amsterdam, Noord-Holland, The Netherlands</td>\n",
              "      <td>Upon arriving in Amsterdam, one can imagine asking oneself: Where is the fun nightlife? What are the local hot spots? \\r\\n\\r\\nHow can I experience the real life in this city? I  offer you the opportunity to act, eat and sleep like-a-local!  \\r\\n\\r\\nI provide the traveler with the opportunity to ...</td>\n",
              "      <td>NaN</td>\n",
              "      <td>NaN</td>\n",
              "      <td>100%</td>\n",
              "      <td>t</td>\n",
              "      <td>https://a0.muscache.com/im/users/3159/profile_pic/1259095323/original.jpg?aki_policy=profile_small</td>\n",
              "      <td>https://a0.muscache.com/im/users/3159/profile_pic/1259095323/original.jpg?aki_policy=profile_x_medium</td>\n",
              "      <td>Indische Buurt</td>\n",
              "      <td>1.0</td>\n",
              "      <td>1.0</td>\n",
              "      <td>['email', 'phone', 'reviews', 'jumio', 'offline_government_id', 'selfie', 'government_id', 'identity_manual']</td>\n",
              "      <td>t</td>\n",
              "      <td>t</td>\n",
              "      <td>Amsterdam, North Holland, Netherlands</td>\n",
              "      <td>Oostelijk Havengebied - Indische Buurt</td>\n",
              "      <td>NaN</td>\n",
              "      <td>52.36575</td>\n",
              "      <td>4.94142</td>\n",
              "      <td>Private room in apartment</td>\n",
              "      <td>Private room</td>\n",
              "      <td>2</td>\n",
              "      <td>NaN</td>\n",
              "      <td>1.5 shared baths</td>\n",
              "      <td>1.0</td>\n",
              "      <td>2.0</td>\n",
              "      <td>[\"Hangers\", \"Coffee maker\", \"Paid parking on premises\", \"Long term stays allowed\", \"First aid kit\", \"Bed linens\", \"Lock on bedroom door\", \"Private entrance\", \"Carbon monoxide alarm\", \"Dedicated workspace\", \"Host greets you\", \"Single level home\", \"Extra pillows and blankets\", \"Hot water\", \"Paid p...</td>\n",
              "      <td>$59.00</td>\n",
              "      <td>3</td>\n",
              "      <td>1125</td>\n",
              "      <td>3.0</td>\n",
              "      <td>3.0</td>\n",
              "      <td>1125.0</td>\n",
              "      <td>1125.0</td>\n",
              "      <td>3.0</td>\n",
              "      <td>1125.0</td>\n",
              "      <td>NaN</td>\n",
              "      <td>t</td>\n",
              "      <td>29</td>\n",
              "      <td>46</td>\n",
              "      <td>60</td>\n",
              "      <td>139</td>\n",
              "      <td>2021-02-11</td>\n",
              "      <td>278</td>\n",
              "      <td>1</td>\n",
              "      <td>0</td>\n",
              "      <td>2009-03-30</td>\n",
              "      <td>2020-02-14</td>\n",
              "      <td>98.0</td>\n",
              "      <td>10.0</td>\n",
              "      <td>10.0</td>\n",
              "      <td>10.0</td>\n",
              "      <td>10.0</td>\n",
              "      <td>9.0</td>\n",
              "      <td>10.0</td>\n",
              "      <td>NaN</td>\n",
              "      <td>t</td>\n",
              "      <td>1</td>\n",
              "      <td>0</td>\n",
              "      <td>1</td>\n",
              "      <td>0</td>\n",
              "      <td>1.92</td>\n",
              "    </tr>\n",
              "    <tr>\n",
              "      <th>1</th>\n",
              "      <td>20168</td>\n",
              "      <td>https://www.airbnb.com/rooms/20168</td>\n",
              "      <td>20210208155251</td>\n",
              "      <td>2021-02-11</td>\n",
              "      <td>Studio with private bathroom in the centre 1</td>\n",
              "      <td>17th century Dutch townhouse in the heart of the city. no public transport needed! Located a stones throw from Rembrandt Square, Dam Square, Leidse Square and Flower Market. Walking distance from Central Station.&lt;br /&gt;Comfortable, cosy, lockable studio with comfortable bed and with private bathr...</td>\n",
              "      <td>Located just in between famous central canals. In the streets surrounding the house, there are lots of antique shops, and for those who are into browsing for antiques. The Rijksmuseum is a short walk away. The famous nine-streets with all its little boutique shops, cafes, restaurants and whatnot...</td>\n",
              "      <td>https://a0.muscache.com/pictures/69979628/fd6a3a80_original.jpg</td>\n",
              "      <td>59484</td>\n",
              "      <td>https://www.airbnb.com/users/show/59484</td>\n",
              "      <td>Alexander</td>\n",
              "      <td>2009-12-02</td>\n",
              "      <td>Amsterdam, Noord-Holland, The Netherlands</td>\n",
              "      <td>+ (Phone number hidden by Airbnb)</td>\n",
              "      <td>NaN</td>\n",
              "      <td>NaN</td>\n",
              "      <td>100%</td>\n",
              "      <td>f</td>\n",
              "      <td>https://a0.muscache.com/im/pictures/user/65092142-62d7-48a9-9479-ad5a24d99a77.jpg?aki_policy=profile_small</td>\n",
              "      <td>https://a0.muscache.com/im/pictures/user/65092142-62d7-48a9-9479-ad5a24d99a77.jpg?aki_policy=profile_x_medium</td>\n",
              "      <td>Grachtengordel</td>\n",
              "      <td>2.0</td>\n",
              "      <td>2.0</td>\n",
              "      <td>['email', 'phone', 'reviews', 'jumio', 'offline_government_id', 'selfie', 'government_id', 'identity_manual']</td>\n",
              "      <td>t</td>\n",
              "      <td>t</td>\n",
              "      <td>Amsterdam, North Holland, Netherlands</td>\n",
              "      <td>Centrum-Oost</td>\n",
              "      <td>NaN</td>\n",
              "      <td>52.36509</td>\n",
              "      <td>4.89354</td>\n",
              "      <td>Private room in townhouse</td>\n",
              "      <td>Private room</td>\n",
              "      <td>2</td>\n",
              "      <td>NaN</td>\n",
              "      <td>1 private bath</td>\n",
              "      <td>1.0</td>\n",
              "      <td>1.0</td>\n",
              "      <td>[\"Essentials\", \"Bed linens\", \"Hot water\", \"Hangers\", \"Smoke alarm\", \"Heating\", \"Paid parking off premises\", \"Free street parking\", \"Refrigerator\", \"Carbon monoxide alarm\", \"Dedicated workspace\", \"Host greets you\", \"TV\", \"Wifi\", \"Hair dryer\", \"Long term stays allowed\", \"Fire extinguisher\"]</td>\n",
              "      <td>$129.00</td>\n",
              "      <td>1</td>\n",
              "      <td>365</td>\n",
              "      <td>1.0</td>\n",
              "      <td>4.0</td>\n",
              "      <td>60.0</td>\n",
              "      <td>1125.0</td>\n",
              "      <td>3.8</td>\n",
              "      <td>413.8</td>\n",
              "      <td>NaN</td>\n",
              "      <td>t</td>\n",
              "      <td>0</td>\n",
              "      <td>0</td>\n",
              "      <td>0</td>\n",
              "      <td>0</td>\n",
              "      <td>2021-02-11</td>\n",
              "      <td>339</td>\n",
              "      <td>19</td>\n",
              "      <td>0</td>\n",
              "      <td>2010-03-02</td>\n",
              "      <td>2020-04-09</td>\n",
              "      <td>89.0</td>\n",
              "      <td>10.0</td>\n",
              "      <td>10.0</td>\n",
              "      <td>10.0</td>\n",
              "      <td>10.0</td>\n",
              "      <td>10.0</td>\n",
              "      <td>9.0</td>\n",
              "      <td>NaN</td>\n",
              "      <td>t</td>\n",
              "      <td>2</td>\n",
              "      <td>0</td>\n",
              "      <td>2</td>\n",
              "      <td>0</td>\n",
              "      <td>2.54</td>\n",
              "    </tr>\n",
              "    <tr>\n",
              "      <th>2</th>\n",
              "      <td>25428</td>\n",
              "      <td>https://www.airbnb.com/rooms/25428</td>\n",
              "      <td>20210208155251</td>\n",
              "      <td>2021-02-10</td>\n",
              "      <td>Lovely, spacious 1 bed apt in Center(with lift)</td>\n",
              "      <td>Lovely apt in Centre ( lift &amp; fireplace) near Jordaan&lt;br /&gt;&lt;br /&gt;&lt;b&gt;The space&lt;/b&gt;&lt;br /&gt;This nicely furnished, newly renovated apt  is very sunny, and spacious with 8 windows. The appliances are fairly new. There are two flat screen TVs, washing machine, dryer, dishwasher, laptop computer, Wi-fi,...</td>\n",
              "      <td>NaN</td>\n",
              "      <td>https://a0.muscache.com/pictures/138431/7079a93d_original.jpg</td>\n",
              "      <td>56142</td>\n",
              "      <td>https://www.airbnb.com/users/show/56142</td>\n",
              "      <td>Joan</td>\n",
              "      <td>2009-11-20</td>\n",
              "      <td>New York, New York, United States</td>\n",
              "      <td>We are a retired couple who live in NYC, and have an apt in Amsterdam which we love, where we spend a few months each year.\\r\\n (Phone number hidden by Airbnb)</td>\n",
              "      <td>NaN</td>\n",
              "      <td>NaN</td>\n",
              "      <td>0%</td>\n",
              "      <td>t</td>\n",
              "      <td>https://a0.muscache.com/im/users/56142/profile_pic/1367806389/original.jpg?aki_policy=profile_small</td>\n",
              "      <td>https://a0.muscache.com/im/users/56142/profile_pic/1367806389/original.jpg?aki_policy=profile_x_medium</td>\n",
              "      <td>Grachtengordel</td>\n",
              "      <td>2.0</td>\n",
              "      <td>2.0</td>\n",
              "      <td>['email', 'phone', 'reviews']</td>\n",
              "      <td>t</td>\n",
              "      <td>f</td>\n",
              "      <td>NaN</td>\n",
              "      <td>Centrum-West</td>\n",
              "      <td>NaN</td>\n",
              "      <td>52.37297</td>\n",
              "      <td>4.88339</td>\n",
              "      <td>Entire apartment</td>\n",
              "      <td>Entire home/apt</td>\n",
              "      <td>3</td>\n",
              "      <td>NaN</td>\n",
              "      <td>1 bath</td>\n",
              "      <td>1.0</td>\n",
              "      <td>1.0</td>\n",
              "      <td>[\"Hangers\", \"Elevator\", \"Cooking basics\", \"Dishes and silverware\", \"Oven\", \"Coffee maker\", \"Long term stays allowed\", \"Bed linens\", \"Dishwasher\", \"Dedicated workspace\", \"Kitchen\", \"Extra pillows and blankets\", \"Hot water\", \"Heating\", \"TV\", \"Cable TV\", \"Hair dryer\", \"Microwave\", \"Essentials\", \"Sm...</td>\n",
              "      <td>$125.00</td>\n",
              "      <td>14</td>\n",
              "      <td>180</td>\n",
              "      <td>14.0</td>\n",
              "      <td>14.0</td>\n",
              "      <td>180.0</td>\n",
              "      <td>180.0</td>\n",
              "      <td>14.0</td>\n",
              "      <td>180.0</td>\n",
              "      <td>NaN</td>\n",
              "      <td>t</td>\n",
              "      <td>6</td>\n",
              "      <td>36</td>\n",
              "      <td>66</td>\n",
              "      <td>251</td>\n",
              "      <td>2021-02-10</td>\n",
              "      <td>5</td>\n",
              "      <td>0</td>\n",
              "      <td>0</td>\n",
              "      <td>2018-01-21</td>\n",
              "      <td>2020-02-09</td>\n",
              "      <td>100.0</td>\n",
              "      <td>10.0</td>\n",
              "      <td>10.0</td>\n",
              "      <td>10.0</td>\n",
              "      <td>10.0</td>\n",
              "      <td>10.0</td>\n",
              "      <td>10.0</td>\n",
              "      <td>NaN</td>\n",
              "      <td>f</td>\n",
              "      <td>1</td>\n",
              "      <td>1</td>\n",
              "      <td>0</td>\n",
              "      <td>0</td>\n",
              "      <td>0.13</td>\n",
              "    </tr>\n",
              "    <tr>\n",
              "      <th>3</th>\n",
              "      <td>27886</td>\n",
              "      <td>https://www.airbnb.com/rooms/27886</td>\n",
              "      <td>20210208155251</td>\n",
              "      <td>2021-02-11</td>\n",
              "      <td>Romantic, stylish B&amp;B houseboat in canal district</td>\n",
              "      <td>Stylish and romantic houseboat on fantastic historic location with breathtaking view.  Wheelhouse, deckhouse and captains room. Central, quiet. Great breakfast, 2 vanMoof design bikes and a Canadian Canoe are included. Just read the reviews on tripadvisor for instance!&lt;br /&gt;&lt;br /&gt;&lt;b&gt;The space&lt;/b...</td>\n",
              "      <td>Central, quiet, safe, clean and beautiful.</td>\n",
              "      <td>https://a0.muscache.com/pictures/02c2da9d-660e-451d-8a51-2f7a17469df7.jpg</td>\n",
              "      <td>97647</td>\n",
              "      <td>https://www.airbnb.com/users/show/97647</td>\n",
              "      <td>Flip</td>\n",
              "      <td>2010-03-23</td>\n",
              "      <td>Amsterdam, Noord-Holland, The Netherlands</td>\n",
              "      <td>Marjan works in \"eye\" the dutch filmmuseum, and designs costumes for tv, film and theatre. Flip is an actor, mainly on stage, but also for film and tv. So for cultural advise, what to do, you are coming to the right place...\\r\\n\\r\\n</td>\n",
              "      <td>within an hour</td>\n",
              "      <td>100%</td>\n",
              "      <td>100%</td>\n",
              "      <td>t</td>\n",
              "      <td>https://a0.muscache.com/im/users/97647/profile_pic/1273275077/original.jpg?aki_policy=profile_small</td>\n",
              "      <td>https://a0.muscache.com/im/users/97647/profile_pic/1273275077/original.jpg?aki_policy=profile_x_medium</td>\n",
              "      <td>Westelijke Eilanden</td>\n",
              "      <td>1.0</td>\n",
              "      <td>1.0</td>\n",
              "      <td>['email', 'phone', 'reviews', 'jumio', 'offline_government_id', 'government_id']</td>\n",
              "      <td>t</td>\n",
              "      <td>t</td>\n",
              "      <td>Amsterdam, North Holland, Netherlands</td>\n",
              "      <td>Centrum-West</td>\n",
              "      <td>NaN</td>\n",
              "      <td>52.38761</td>\n",
              "      <td>4.89188</td>\n",
              "      <td>Private room in houseboat</td>\n",
              "      <td>Private room</td>\n",
              "      <td>2</td>\n",
              "      <td>NaN</td>\n",
              "      <td>1.5 baths</td>\n",
              "      <td>1.0</td>\n",
              "      <td>1.0</td>\n",
              "      <td>[\"Patio or balcony\", \"Hangers\", \"Dishes and silverware\", \"Luggage dropoff allowed\", \"Breakfast\", \"Coffee maker\", \"Lake access\", \"Long term stays allowed\", \"Private entrance\", \"Waterfront\", \"Carbon monoxide alarm\", \"Dedicated workspace\", \"Hot water\", \"Heating\", \"TV\", \"Hair dryer\", \"Essentials\", \"...</td>\n",
              "      <td>$125.00</td>\n",
              "      <td>2</td>\n",
              "      <td>730</td>\n",
              "      <td>2.0</td>\n",
              "      <td>2.0</td>\n",
              "      <td>1125.0</td>\n",
              "      <td>1125.0</td>\n",
              "      <td>2.0</td>\n",
              "      <td>1125.0</td>\n",
              "      <td>NaN</td>\n",
              "      <td>t</td>\n",
              "      <td>27</td>\n",
              "      <td>55</td>\n",
              "      <td>79</td>\n",
              "      <td>136</td>\n",
              "      <td>2021-02-11</td>\n",
              "      <td>219</td>\n",
              "      <td>6</td>\n",
              "      <td>0</td>\n",
              "      <td>2012-01-09</td>\n",
              "      <td>2020-07-25</td>\n",
              "      <td>99.0</td>\n",
              "      <td>10.0</td>\n",
              "      <td>10.0</td>\n",
              "      <td>10.0</td>\n",
              "      <td>10.0</td>\n",
              "      <td>10.0</td>\n",
              "      <td>10.0</td>\n",
              "      <td>NaN</td>\n",
              "      <td>t</td>\n",
              "      <td>1</td>\n",
              "      <td>0</td>\n",
              "      <td>1</td>\n",
              "      <td>0</td>\n",
              "      <td>1.98</td>\n",
              "    </tr>\n",
              "    <tr>\n",
              "      <th>4</th>\n",
              "      <td>28871</td>\n",
              "      <td>https://www.airbnb.com/rooms/28871</td>\n",
              "      <td>20210208155251</td>\n",
              "      <td>2021-02-10</td>\n",
              "      <td>Comfortable double room</td>\n",
              "      <td>&lt;b&gt;The space&lt;/b&gt;&lt;br /&gt;In a monumental house right in the center of Amsterdam, we offer two rooms (one single room and one double room) to visitors who want to enjoy the comfort of a home-like accommodation, plus being in the middle of the historic city center, close to all important museums, sho...</td>\n",
              "      <td>Flower market , Leidseplein , Rembrantsplein</td>\n",
              "      <td>https://a0.muscache.com/pictures/160889/362340f7_original.jpg</td>\n",
              "      <td>124245</td>\n",
              "      <td>https://www.airbnb.com/users/show/124245</td>\n",
              "      <td>Edwin</td>\n",
              "      <td>2010-05-13</td>\n",
              "      <td>Amsterdam, Noord-Holland, The Netherlands</td>\n",
              "      <td>Hi</td>\n",
              "      <td>within an hour</td>\n",
              "      <td>100%</td>\n",
              "      <td>87%</td>\n",
              "      <td>t</td>\n",
              "      <td>https://a0.muscache.com/im/pictures/user/9986bbdb-632f-42b5-a866-8e3307184977.jpg?aki_policy=profile_small</td>\n",
              "      <td>https://a0.muscache.com/im/pictures/user/9986bbdb-632f-42b5-a866-8e3307184977.jpg?aki_policy=profile_x_medium</td>\n",
              "      <td>Amsterdam Centrum</td>\n",
              "      <td>2.0</td>\n",
              "      <td>2.0</td>\n",
              "      <td>['email', 'phone', 'reviews', 'jumio', 'offline_government_id', 'government_id']</td>\n",
              "      <td>t</td>\n",
              "      <td>t</td>\n",
              "      <td>Amsterdam, North Holland, Netherlands</td>\n",
              "      <td>Centrum-Oost</td>\n",
              "      <td>NaN</td>\n",
              "      <td>52.36610</td>\n",
              "      <td>4.88953</td>\n",
              "      <td>Private room in apartment</td>\n",
              "      <td>Private room</td>\n",
              "      <td>2</td>\n",
              "      <td>NaN</td>\n",
              "      <td>1 shared bath</td>\n",
              "      <td>1.0</td>\n",
              "      <td>1.0</td>\n",
              "      <td>[\"Hot water\", \"Essentials\", \"Smoke alarm\", \"Hangers\", \"Heating\", \"Lock on bedroom door\", \"Private entrance\", \"Refrigerator\", \"Carbon monoxide alarm\", \"Host greets you\", \"Shampoo\", \"Wifi\", \"Hair dryer\", \"Long term stays allowed\", \"Fire extinguisher\", \"Dryer\"]</td>\n",
              "      <td>$75.00</td>\n",
              "      <td>2</td>\n",
              "      <td>1825</td>\n",
              "      <td>2.0</td>\n",
              "      <td>2.0</td>\n",
              "      <td>1825.0</td>\n",
              "      <td>1825.0</td>\n",
              "      <td>2.0</td>\n",
              "      <td>1825.0</td>\n",
              "      <td>NaN</td>\n",
              "      <td>t</td>\n",
              "      <td>30</td>\n",
              "      <td>53</td>\n",
              "      <td>78</td>\n",
              "      <td>338</td>\n",
              "      <td>2021-02-10</td>\n",
              "      <td>336</td>\n",
              "      <td>13</td>\n",
              "      <td>0</td>\n",
              "      <td>2010-08-22</td>\n",
              "      <td>2020-09-20</td>\n",
              "      <td>97.0</td>\n",
              "      <td>10.0</td>\n",
              "      <td>10.0</td>\n",
              "      <td>10.0</td>\n",
              "      <td>10.0</td>\n",
              "      <td>10.0</td>\n",
              "      <td>10.0</td>\n",
              "      <td>NaN</td>\n",
              "      <td>f</td>\n",
              "      <td>2</td>\n",
              "      <td>0</td>\n",
              "      <td>2</td>\n",
              "      <td>0</td>\n",
              "      <td>2.63</td>\n",
              "    </tr>\n",
              "  </tbody>\n",
              "</table>\n",
              "</div>"
            ],
            "text/plain": [
              "      id  ... reviews_per_month\n",
              "0   2818  ...              1.92\n",
              "1  20168  ...              2.54\n",
              "2  25428  ...              0.13\n",
              "3  27886  ...              1.98\n",
              "4  28871  ...              2.63\n",
              "\n",
              "[5 rows x 74 columns]"
            ]
          },
          "metadata": {
            "tags": []
          },
          "execution_count": 246
        }
      ]
    },
    {
      "cell_type": "code",
      "metadata": {
        "colab": {
          "base_uri": "https://localhost:8080/"
        },
        "id": "XqDn9l30ehQ3",
        "outputId": "b54a19ec-8726-46a3-cf15-870e216e6345"
      },
      "source": [
        "# Look at all of the features \r\n",
        "amsterdam_detailed_listing.columns"
      ],
      "execution_count": 247,
      "outputs": [
        {
          "output_type": "execute_result",
          "data": {
            "text/plain": [
              "Index(['id', 'listing_url', 'scrape_id', 'last_scraped', 'name', 'description',\n",
              "       'neighborhood_overview', 'picture_url', 'host_id', 'host_url',\n",
              "       'host_name', 'host_since', 'host_location', 'host_about',\n",
              "       'host_response_time', 'host_response_rate', 'host_acceptance_rate',\n",
              "       'host_is_superhost', 'host_thumbnail_url', 'host_picture_url',\n",
              "       'host_neighbourhood', 'host_listings_count',\n",
              "       'host_total_listings_count', 'host_verifications',\n",
              "       'host_has_profile_pic', 'host_identity_verified', 'neighbourhood',\n",
              "       'neighbourhood_cleansed', 'neighbourhood_group_cleansed', 'latitude',\n",
              "       'longitude', 'property_type', 'room_type', 'accommodates', 'bathrooms',\n",
              "       'bathrooms_text', 'bedrooms', 'beds', 'amenities', 'price',\n",
              "       'minimum_nights', 'maximum_nights', 'minimum_minimum_nights',\n",
              "       'maximum_minimum_nights', 'minimum_maximum_nights',\n",
              "       'maximum_maximum_nights', 'minimum_nights_avg_ntm',\n",
              "       'maximum_nights_avg_ntm', 'calendar_updated', 'has_availability',\n",
              "       'availability_30', 'availability_60', 'availability_90',\n",
              "       'availability_365', 'calendar_last_scraped', 'number_of_reviews',\n",
              "       'number_of_reviews_ltm', 'number_of_reviews_l30d', 'first_review',\n",
              "       'last_review', 'review_scores_rating', 'review_scores_accuracy',\n",
              "       'review_scores_cleanliness', 'review_scores_checkin',\n",
              "       'review_scores_communication', 'review_scores_location',\n",
              "       'review_scores_value', 'license', 'instant_bookable',\n",
              "       'calculated_host_listings_count',\n",
              "       'calculated_host_listings_count_entire_homes',\n",
              "       'calculated_host_listings_count_private_rooms',\n",
              "       'calculated_host_listings_count_shared_rooms', 'reviews_per_month'],\n",
              "      dtype='object')"
            ]
          },
          "metadata": {
            "tags": []
          },
          "execution_count": 247
        }
      ]
    },
    {
      "cell_type": "markdown",
      "metadata": {
        "id": "ZhtVQ2t6WXXt"
      },
      "source": [
        "- Since there are 74 features in this dataset, that is a high number of features, and just at a glance I can see, based on the feature names, that there appears to be a lot of features that I will not be of use for my case.\r\n",
        "\r\n",
        "- I will be comparing closely related features to decide which ones to keep and which ones I will drop."
      ]
    },
    {
      "cell_type": "markdown",
      "metadata": {
        "id": "4QNqjt6X4s4Z"
      },
      "source": [
        "#### Null Values"
      ]
    },
    {
      "cell_type": "code",
      "metadata": {
        "colab": {
          "base_uri": "https://localhost:8080/"
        },
        "id": "3HOIW32eehOP",
        "outputId": "7dbb43e3-be92-42b5-ce36-ed5e9be528a8"
      },
      "source": [
        "# Find out if there are any NaN values\r\n",
        "amsterdam_detailed_listing.isnull().sum()"
      ],
      "execution_count": 248,
      "outputs": [
        {
          "output_type": "execute_result",
          "data": {
            "text/plain": [
              "id                                                  0\n",
              "listing_url                                         0\n",
              "scrape_id                                           0\n",
              "last_scraped                                        0\n",
              "name                                               33\n",
              "description                                       297\n",
              "neighborhood_overview                            6268\n",
              "picture_url                                         0\n",
              "host_id                                             0\n",
              "host_url                                            0\n",
              "host_name                                          63\n",
              "host_since                                         63\n",
              "host_location                                      92\n",
              "host_about                                       7817\n",
              "host_response_time                              14354\n",
              "host_response_rate                              14354\n",
              "host_acceptance_rate                            10495\n",
              "host_is_superhost                                  63\n",
              "host_thumbnail_url                                 63\n",
              "host_picture_url                                   63\n",
              "host_neighbourhood                               6134\n",
              "host_listings_count                                63\n",
              "host_total_listings_count                          63\n",
              "host_verifications                                  0\n",
              "host_has_profile_pic                               63\n",
              "host_identity_verified                             63\n",
              "neighbourhood                                    6268\n",
              "neighbourhood_cleansed                              0\n",
              "neighbourhood_group_cleansed                    18291\n",
              "latitude                                            0\n",
              "longitude                                           0\n",
              "property_type                                       0\n",
              "room_type                                           0\n",
              "accommodates                                        0\n",
              "bathrooms                                       18291\n",
              "bathrooms_text                                     22\n",
              "bedrooms                                          997\n",
              "beds                                              105\n",
              "amenities                                           0\n",
              "price                                               0\n",
              "minimum_nights                                      0\n",
              "maximum_nights                                      0\n",
              "minimum_minimum_nights                              3\n",
              "maximum_minimum_nights                              3\n",
              "minimum_maximum_nights                              3\n",
              "maximum_maximum_nights                              3\n",
              "minimum_nights_avg_ntm                              3\n",
              "maximum_nights_avg_ntm                              3\n",
              "calendar_updated                                18291\n",
              "has_availability                                    0\n",
              "availability_30                                     0\n",
              "availability_60                                     0\n",
              "availability_90                                     0\n",
              "availability_365                                    0\n",
              "calendar_last_scraped                               0\n",
              "number_of_reviews                                   0\n",
              "number_of_reviews_ltm                               0\n",
              "number_of_reviews_l30d                              0\n",
              "first_review                                     2389\n",
              "last_review                                      2389\n",
              "review_scores_rating                             2632\n",
              "review_scores_accuracy                           2642\n",
              "review_scores_cleanliness                        2642\n",
              "review_scores_checkin                            2650\n",
              "review_scores_communication                      2643\n",
              "review_scores_location                           2648\n",
              "review_scores_value                              2648\n",
              "license                                         18291\n",
              "instant_bookable                                    0\n",
              "calculated_host_listings_count                      0\n",
              "calculated_host_listings_count_entire_homes         0\n",
              "calculated_host_listings_count_private_rooms        0\n",
              "calculated_host_listings_count_shared_rooms         0\n",
              "reviews_per_month                                2389\n",
              "dtype: int64"
            ]
          },
          "metadata": {
            "tags": []
          },
          "execution_count": 248
        }
      ]
    },
    {
      "cell_type": "markdown",
      "metadata": {
        "id": "r7lD9zH9ZhPD"
      },
      "source": [
        "- Some of the features appear to be all null values or the majority is null.\r\n",
        "\r\n",
        "- Need to just remove those features because they are not going to give any useful information."
      ]
    },
    {
      "cell_type": "code",
      "metadata": {
        "id": "zuhIrAb7ZYy8"
      },
      "source": [
        "# Remove any features that have more than half of their values as null.\r\n",
        "# Also removing values that appear to be of little or no value for my project.\r\n",
        "remove_cols = ['host_response_time', 'host_response_rate', \r\n",
        "               'host_acceptance_rate', 'neighbourhood_group_cleansed', \r\n",
        "               'bathrooms', 'calendar_updated', 'license', 'scrape_id', \r\n",
        "               'host_thumbnail_url', 'calendar_last_scraped']\r\n",
        "\r\n",
        "# Remove the features in the above list\r\n",
        "amsterdam_detailed_listing = amsterdam_detailed_listing.drop(columns=remove_cols)"
      ],
      "execution_count": 249,
      "outputs": []
    },
    {
      "cell_type": "code",
      "metadata": {
        "colab": {
          "base_uri": "https://localhost:8080/"
        },
        "id": "7KquRYBjc7hz",
        "outputId": "31293e06-8c3d-4954-aeea-ec217fab9002"
      },
      "source": [
        "# Look at the new shape and my null values now\r\n",
        "print(f'Rows: {amsterdam_detailed_listing.shape[0]}, Features: {amsterdam_detailed_listing.shape[1]}')\r\n",
        "amsterdam_detailed_listing.isnull().sum()"
      ],
      "execution_count": 250,
      "outputs": [
        {
          "output_type": "stream",
          "text": [
            "Rows: 18291, Features: 64\n"
          ],
          "name": "stdout"
        },
        {
          "output_type": "execute_result",
          "data": {
            "text/plain": [
              "id                                                 0\n",
              "listing_url                                        0\n",
              "last_scraped                                       0\n",
              "name                                              33\n",
              "description                                      297\n",
              "neighborhood_overview                           6268\n",
              "picture_url                                        0\n",
              "host_id                                            0\n",
              "host_url                                           0\n",
              "host_name                                         63\n",
              "host_since                                        63\n",
              "host_location                                     92\n",
              "host_about                                      7817\n",
              "host_is_superhost                                 63\n",
              "host_picture_url                                  63\n",
              "host_neighbourhood                              6134\n",
              "host_listings_count                               63\n",
              "host_total_listings_count                         63\n",
              "host_verifications                                 0\n",
              "host_has_profile_pic                              63\n",
              "host_identity_verified                            63\n",
              "neighbourhood                                   6268\n",
              "neighbourhood_cleansed                             0\n",
              "latitude                                           0\n",
              "longitude                                          0\n",
              "property_type                                      0\n",
              "room_type                                          0\n",
              "accommodates                                       0\n",
              "bathrooms_text                                    22\n",
              "bedrooms                                         997\n",
              "beds                                             105\n",
              "amenities                                          0\n",
              "price                                              0\n",
              "minimum_nights                                     0\n",
              "maximum_nights                                     0\n",
              "minimum_minimum_nights                             3\n",
              "maximum_minimum_nights                             3\n",
              "minimum_maximum_nights                             3\n",
              "maximum_maximum_nights                             3\n",
              "minimum_nights_avg_ntm                             3\n",
              "maximum_nights_avg_ntm                             3\n",
              "has_availability                                   0\n",
              "availability_30                                    0\n",
              "availability_60                                    0\n",
              "availability_90                                    0\n",
              "availability_365                                   0\n",
              "number_of_reviews                                  0\n",
              "number_of_reviews_ltm                              0\n",
              "number_of_reviews_l30d                             0\n",
              "first_review                                    2389\n",
              "last_review                                     2389\n",
              "review_scores_rating                            2632\n",
              "review_scores_accuracy                          2642\n",
              "review_scores_cleanliness                       2642\n",
              "review_scores_checkin                           2650\n",
              "review_scores_communication                     2643\n",
              "review_scores_location                          2648\n",
              "review_scores_value                             2648\n",
              "instant_bookable                                   0\n",
              "calculated_host_listings_count                     0\n",
              "calculated_host_listings_count_entire_homes        0\n",
              "calculated_host_listings_count_private_rooms       0\n",
              "calculated_host_listings_count_shared_rooms        0\n",
              "reviews_per_month                               2389\n",
              "dtype: int64"
            ]
          },
          "metadata": {
            "tags": []
          },
          "execution_count": 250
        }
      ]
    },
    {
      "cell_type": "markdown",
      "metadata": {
        "id": "h6eG77R74iPs"
      },
      "source": [
        "#### Location Features"
      ]
    },
    {
      "cell_type": "code",
      "metadata": {
        "colab": {
          "base_uri": "https://localhost:8080/",
          "height": 204
        },
        "id": "JjcFYegBwYSV",
        "outputId": "8eee6baa-ea50-4c26-be46-85eb477d39f5"
      },
      "source": [
        "# Compare the neighbourhood featureskeep both features or just one.\r\n",
        "amsterdam_detailed_listing[['neighbourhood', 'neighborhood_overview', \r\n",
        "                            'neighbourhood_cleansed']].sample(5)"
      ],
      "execution_count": 251,
      "outputs": [
        {
          "output_type": "execute_result",
          "data": {
            "text/html": [
              "<div>\n",
              "<style scoped>\n",
              "    .dataframe tbody tr th:only-of-type {\n",
              "        vertical-align: middle;\n",
              "    }\n",
              "\n",
              "    .dataframe tbody tr th {\n",
              "        vertical-align: top;\n",
              "    }\n",
              "\n",
              "    .dataframe thead th {\n",
              "        text-align: right;\n",
              "    }\n",
              "</style>\n",
              "<table border=\"1\" class=\"dataframe\">\n",
              "  <thead>\n",
              "    <tr style=\"text-align: right;\">\n",
              "      <th></th>\n",
              "      <th>neighbourhood</th>\n",
              "      <th>neighborhood_overview</th>\n",
              "      <th>neighbourhood_cleansed</th>\n",
              "    </tr>\n",
              "  </thead>\n",
              "  <tbody>\n",
              "    <tr>\n",
              "      <th>12473</th>\n",
              "      <td>NaN</td>\n",
              "      <td>NaN</td>\n",
              "      <td>Centrum-West</td>\n",
              "    </tr>\n",
              "    <tr>\n",
              "      <th>15074</th>\n",
              "      <td>NaN</td>\n",
              "      <td>NaN</td>\n",
              "      <td>Oud-Oost</td>\n",
              "    </tr>\n",
              "    <tr>\n",
              "      <th>13426</th>\n",
              "      <td>NaN</td>\n",
              "      <td>NaN</td>\n",
              "      <td>De Baarsjes - Oud-West</td>\n",
              "    </tr>\n",
              "    <tr>\n",
              "      <th>16517</th>\n",
              "      <td>NaN</td>\n",
              "      <td>NaN</td>\n",
              "      <td>Oud-Noord</td>\n",
              "    </tr>\n",
              "    <tr>\n",
              "      <th>572</th>\n",
              "      <td>NaN</td>\n",
              "      <td>NaN</td>\n",
              "      <td>Centrum-Oost</td>\n",
              "    </tr>\n",
              "  </tbody>\n",
              "</table>\n",
              "</div>"
            ],
            "text/plain": [
              "      neighbourhood neighborhood_overview  neighbourhood_cleansed\n",
              "12473           NaN                   NaN            Centrum-West\n",
              "15074           NaN                   NaN                Oud-Oost\n",
              "13426           NaN                   NaN  De Baarsjes - Oud-West\n",
              "16517           NaN                   NaN               Oud-Noord\n",
              "572             NaN                   NaN            Centrum-Oost"
            ]
          },
          "metadata": {
            "tags": []
          },
          "execution_count": 251
        }
      ]
    },
    {
      "cell_type": "markdown",
      "metadata": {
        "id": "vbIPMDG1TMO8"
      },
      "source": [
        "- Going to keep the `neighborhood_overview` and\t`neighbourhood_cleansed` features at this point because they seem to both contain potentionally valuable information. May change it later depending on the rest of the data and what I find there.\r\n",
        "\r\n",
        "- Did not include them here but goes with location features, I am keeping `latitude` and `longitude` since I believe they can be helpful for visualiztions if time allows me to add them to this project. I believe these might even be helpful in the prediction but not sure if I am going to include these features yet. Will decide when I get to the model creation part of this project.\r\n"
      ]
    },
    {
      "cell_type": "code",
      "metadata": {
        "colab": {
          "base_uri": "https://localhost:8080/"
        },
        "id": "DPfxrdWyz3uL",
        "outputId": "7f807652-cb13-4720-b4ab-b1c1aa86f6e1"
      },
      "source": [
        "# Remove the features from above that is not needed\r\n",
        "amsterdam_detailed_listing = amsterdam_detailed_listing.drop(columns='neighbourhood')\r\n",
        "\r\n",
        "# Look at the new shape to check my work\r\n",
        "print(f'Rows: {amsterdam_detailed_listing.shape[0]}, Features: {amsterdam_detailed_listing.shape[1]}')"
      ],
      "execution_count": 252,
      "outputs": [
        {
          "output_type": "stream",
          "text": [
            "Rows: 18291, Features: 63\n"
          ],
          "name": "stdout"
        }
      ]
    },
    {
      "cell_type": "markdown",
      "metadata": {
        "id": "4mgGKt49cQib"
      },
      "source": [
        "#### Host Features"
      ]
    },
    {
      "cell_type": "code",
      "metadata": {
        "colab": {
          "base_uri": "https://localhost:8080/",
          "height": 870
        },
        "id": "ufd6FEDDx5fS",
        "outputId": "85007022-70aa-4766-e47a-9cc95b919702"
      },
      "source": [
        "# Compare all the host features\r\n",
        "amsterdam_detailed_listing[['host_id', 'host_url', 'host_name', 'host_since',\r\n",
        "                            'host_location', 'host_about', 'host_is_superhost', \r\n",
        "                            'host_picture_url', 'host_neighbourhood', \r\n",
        "                            'host_listings_count', 'host_total_listings_count',\r\n",
        "                            'host_verifications', 'host_has_profile_pic', \r\n",
        "                            'host_identity_verified', \r\n",
        "                            'calculated_host_listings_count', \r\n",
        "                            'calculated_host_listings_count_entire_homes',\r\n",
        "                            'calculated_host_listings_count_private_rooms',\r\n",
        "                            'calculated_host_listings_count_shared_rooms']].sample(5)"
      ],
      "execution_count": 253,
      "outputs": [
        {
          "output_type": "execute_result",
          "data": {
            "text/html": [
              "<div>\n",
              "<style scoped>\n",
              "    .dataframe tbody tr th:only-of-type {\n",
              "        vertical-align: middle;\n",
              "    }\n",
              "\n",
              "    .dataframe tbody tr th {\n",
              "        vertical-align: top;\n",
              "    }\n",
              "\n",
              "    .dataframe thead th {\n",
              "        text-align: right;\n",
              "    }\n",
              "</style>\n",
              "<table border=\"1\" class=\"dataframe\">\n",
              "  <thead>\n",
              "    <tr style=\"text-align: right;\">\n",
              "      <th></th>\n",
              "      <th>host_id</th>\n",
              "      <th>host_url</th>\n",
              "      <th>host_name</th>\n",
              "      <th>host_since</th>\n",
              "      <th>host_location</th>\n",
              "      <th>host_about</th>\n",
              "      <th>host_is_superhost</th>\n",
              "      <th>host_picture_url</th>\n",
              "      <th>host_neighbourhood</th>\n",
              "      <th>host_listings_count</th>\n",
              "      <th>host_total_listings_count</th>\n",
              "      <th>host_verifications</th>\n",
              "      <th>host_has_profile_pic</th>\n",
              "      <th>host_identity_verified</th>\n",
              "      <th>calculated_host_listings_count</th>\n",
              "      <th>calculated_host_listings_count_entire_homes</th>\n",
              "      <th>calculated_host_listings_count_private_rooms</th>\n",
              "      <th>calculated_host_listings_count_shared_rooms</th>\n",
              "    </tr>\n",
              "  </thead>\n",
              "  <tbody>\n",
              "    <tr>\n",
              "      <th>2266</th>\n",
              "      <td>4192913</td>\n",
              "      <td>https://www.airbnb.com/users/show/4192913</td>\n",
              "      <td>Harriet</td>\n",
              "      <td>2012-11-19</td>\n",
              "      <td>Amsterdam, Noord-Holland, The Netherlands</td>\n",
              "      <td>NaN</td>\n",
              "      <td>t</td>\n",
              "      <td>https://a0.muscache.com/im/pictures/user/f82e1000-ae94-4648-91a1-76022c5e243d.jpg?aki_policy=profile_x_medium</td>\n",
              "      <td>De Pijp</td>\n",
              "      <td>1.0</td>\n",
              "      <td>1.0</td>\n",
              "      <td>['email', 'phone', 'facebook', 'reviews', 'jumio', 'offline_government_id', 'selfie', 'government_id', 'identity_manual', 'work_email']</td>\n",
              "      <td>t</td>\n",
              "      <td>t</td>\n",
              "      <td>1</td>\n",
              "      <td>1</td>\n",
              "      <td>0</td>\n",
              "      <td>0</td>\n",
              "    </tr>\n",
              "    <tr>\n",
              "      <th>11526</th>\n",
              "      <td>7399322</td>\n",
              "      <td>https://www.airbnb.com/users/show/7399322</td>\n",
              "      <td>Omar</td>\n",
              "      <td>2013-07-10</td>\n",
              "      <td>Amsterdam, North Holland, The Netherlands</td>\n",
              "      <td>I am a spiritual guy who loves diving, having great conversations about life and sometimes just plain fun</td>\n",
              "      <td>f</td>\n",
              "      <td>https://a0.muscache.com/im/pictures/user/b8416c74-6a76-4064-8a2a-d331ed4ccb5e.jpg?aki_policy=profile_x_medium</td>\n",
              "      <td>De Pijp</td>\n",
              "      <td>1.0</td>\n",
              "      <td>1.0</td>\n",
              "      <td>['email', 'phone', 'reviews', 'jumio', 'offline_government_id', 'selfie', 'government_id', 'identity_manual']</td>\n",
              "      <td>t</td>\n",
              "      <td>t</td>\n",
              "      <td>2</td>\n",
              "      <td>1</td>\n",
              "      <td>1</td>\n",
              "      <td>0</td>\n",
              "    </tr>\n",
              "    <tr>\n",
              "      <th>1397</th>\n",
              "      <td>14581356</td>\n",
              "      <td>https://www.airbnb.com/users/show/14581356</td>\n",
              "      <td>Rogier</td>\n",
              "      <td>2014-04-22</td>\n",
              "      <td>Amsterdam, North Holland, The Netherlands</td>\n",
              "      <td>I work as a creative director at an advertising agency. Love design, well prepared food and dogs that look like their owners.\\r\\n\\r\\nIamb&amp;b is taking care of my apartment while I am gone!</td>\n",
              "      <td>f</td>\n",
              "      <td>https://a0.muscache.com/im/users/14581356/profile_pic/1398172206/original.jpg?aki_policy=profile_x_medium</td>\n",
              "      <td>Rivierenbuurt</td>\n",
              "      <td>1.0</td>\n",
              "      <td>1.0</td>\n",
              "      <td>['email', 'reviews', 'jumio']</td>\n",
              "      <td>t</td>\n",
              "      <td>f</td>\n",
              "      <td>1</td>\n",
              "      <td>1</td>\n",
              "      <td>0</td>\n",
              "      <td>0</td>\n",
              "    </tr>\n",
              "    <tr>\n",
              "      <th>11442</th>\n",
              "      <td>9791621</td>\n",
              "      <td>https://www.airbnb.com/users/show/9791621</td>\n",
              "      <td>Hugo</td>\n",
              "      <td>2013-11-03</td>\n",
              "      <td>Amsterdam, North Holland, The Netherlands</td>\n",
              "      <td>I am a medical doctor at the Netherlands Cancer Institute and love the outdoors with my three sons and wife. We live on a beautiful dike only twenty minutes away from City Center Amsterdam. In front of our house there is a lake with  a small beach were you can swim, sail and  sub! On our deck we...</td>\n",
              "      <td>f</td>\n",
              "      <td>https://a0.muscache.com/im/pictures/user/516151f4-e02a-44c1-a2df-e33846043249.jpg?aki_policy=profile_x_medium</td>\n",
              "      <td>NaN</td>\n",
              "      <td>1.0</td>\n",
              "      <td>1.0</td>\n",
              "      <td>['email', 'phone', 'reviews', 'jumio', 'offline_government_id', 'selfie', 'government_id', 'identity_manual', 'work_email']</td>\n",
              "      <td>t</td>\n",
              "      <td>t</td>\n",
              "      <td>1</td>\n",
              "      <td>1</td>\n",
              "      <td>0</td>\n",
              "      <td>0</td>\n",
              "    </tr>\n",
              "    <tr>\n",
              "      <th>18021</th>\n",
              "      <td>372872506</td>\n",
              "      <td>https://www.airbnb.com/users/show/372872506</td>\n",
              "      <td>Mauro Mansion</td>\n",
              "      <td>2020-10-22</td>\n",
              "      <td>Amsterdam, North Holland, Netherlands</td>\n",
              "      <td>NaN</td>\n",
              "      <td>f</td>\n",
              "      <td>https://a0.muscache.com/im/pictures/user/5b01128b-6274-4d76-8c57-b1eae2786448.jpg?aki_policy=profile_x_medium</td>\n",
              "      <td>NaN</td>\n",
              "      <td>8.0</td>\n",
              "      <td>8.0</td>\n",
              "      <td>['email', 'phone', 'work_email']</td>\n",
              "      <td>t</td>\n",
              "      <td>f</td>\n",
              "      <td>9</td>\n",
              "      <td>0</td>\n",
              "      <td>9</td>\n",
              "      <td>0</td>\n",
              "    </tr>\n",
              "  </tbody>\n",
              "</table>\n",
              "</div>"
            ],
            "text/plain": [
              "         host_id  ... calculated_host_listings_count_shared_rooms\n",
              "2266     4192913  ...                                           0\n",
              "11526    7399322  ...                                           0\n",
              "1397    14581356  ...                                           0\n",
              "11442    9791621  ...                                           0\n",
              "18021  372872506  ...                                           0\n",
              "\n",
              "[5 rows x 18 columns]"
            ]
          },
          "metadata": {
            "tags": []
          },
          "execution_count": 253
        }
      ]
    },
    {
      "cell_type": "markdown",
      "metadata": {
        "id": "WAtGupq9VmV8"
      },
      "source": [
        "- Going to be dropping `'host_id', 'host_url', 'host_name', 'host_location', 'host_about', 'host_picture_url', 'host_neighbourhood', 'host_listings_count', 'host_verifications'` because these will not add any value to the model and I see no other use for them.\r\n",
        "\r\n",
        "- All of the `calculated_host_listings_...` do not appear to be useful to me at this point. I am drop them all.\r\n",
        "\r\n",
        "- Rename features for easier readability.\r\n",
        "\r\n",
        "- Will be replacing all `t` with `True` and all `f` with `False`.\r\n"
      ]
    },
    {
      "cell_type": "code",
      "metadata": {
        "colab": {
          "base_uri": "https://localhost:8080/",
          "height": 221
        },
        "id": "JxI0mMJnXaHt",
        "outputId": "d0b4079b-ae3e-4451-ce1e-f17f453e4665"
      },
      "source": [
        "# Remove the features from above that is not needed\r\n",
        "amsterdam_detailed_listing = amsterdam_detailed_listing.drop(\r\n",
        "    columns=['host_id', 'host_url', 'host_name', 'host_location', 'host_about', \r\n",
        "             'host_picture_url', 'host_neighbourhood', 'host_listings_count', \r\n",
        "             'host_verifications', 'calculated_host_listings_count', \r\n",
        "             'calculated_host_listings_count_entire_homes', \r\n",
        "             'calculated_host_listings_count_private_rooms', \r\n",
        "             'calculated_host_listings_count_shared_rooms'])\r\n",
        "\r\n",
        "# Rename features\r\n",
        "amsterdam_detailed_listing.rename(columns={'host_is_superhost': 'superhost', \r\n",
        "                                'host_total_listings_count': 'total_listings', \r\n",
        "                                'host_has_profile_pic': 'profile_pic', \r\n",
        "                                'host_identity_verified': 'verified_id'},\r\n",
        "                                inplace=True)\r\n",
        "\r\n",
        "# Replace all t and f with 1 and 0\r\n",
        "amsterdam_detailed_listing[['superhost', 'profile_pic', 'verified_id'\r\n",
        "        ]] = amsterdam_detailed_listing[['superhost', 'profile_pic', \r\n",
        "                                         'verified_id']].replace(['t', 'f', \r\n",
        "                                                                  np.nan],\r\n",
        "                                                                 [True, False, \r\n",
        "                                                                  False])\r\n",
        "\r\n",
        "# Look at the new shape and a sample of 3 to check my work\r\n",
        "print(f'Rows: {amsterdam_detailed_listing.shape[0]}, Features: {amsterdam_detailed_listing.shape[1]}')\r\n",
        "amsterdam_detailed_listing[['host_since', 'superhost', 'total_listings', \r\n",
        "                            'profile_pic', 'verified_id']].sample(5)"
      ],
      "execution_count": 254,
      "outputs": [
        {
          "output_type": "stream",
          "text": [
            "Rows: 18291, Features: 50\n"
          ],
          "name": "stdout"
        },
        {
          "output_type": "execute_result",
          "data": {
            "text/html": [
              "<div>\n",
              "<style scoped>\n",
              "    .dataframe tbody tr th:only-of-type {\n",
              "        vertical-align: middle;\n",
              "    }\n",
              "\n",
              "    .dataframe tbody tr th {\n",
              "        vertical-align: top;\n",
              "    }\n",
              "\n",
              "    .dataframe thead th {\n",
              "        text-align: right;\n",
              "    }\n",
              "</style>\n",
              "<table border=\"1\" class=\"dataframe\">\n",
              "  <thead>\n",
              "    <tr style=\"text-align: right;\">\n",
              "      <th></th>\n",
              "      <th>host_since</th>\n",
              "      <th>superhost</th>\n",
              "      <th>total_listings</th>\n",
              "      <th>profile_pic</th>\n",
              "      <th>verified_id</th>\n",
              "    </tr>\n",
              "  </thead>\n",
              "  <tbody>\n",
              "    <tr>\n",
              "      <th>3928</th>\n",
              "      <td>2014-12-10</td>\n",
              "      <td>False</td>\n",
              "      <td>1.0</td>\n",
              "      <td>True</td>\n",
              "      <td>False</td>\n",
              "    </tr>\n",
              "    <tr>\n",
              "      <th>4699</th>\n",
              "      <td>2013-05-08</td>\n",
              "      <td>False</td>\n",
              "      <td>1.0</td>\n",
              "      <td>True</td>\n",
              "      <td>True</td>\n",
              "    </tr>\n",
              "    <tr>\n",
              "      <th>1806</th>\n",
              "      <td>2014-07-31</td>\n",
              "      <td>False</td>\n",
              "      <td>1.0</td>\n",
              "      <td>True</td>\n",
              "      <td>True</td>\n",
              "    </tr>\n",
              "    <tr>\n",
              "      <th>8135</th>\n",
              "      <td>2014-11-25</td>\n",
              "      <td>False</td>\n",
              "      <td>1.0</td>\n",
              "      <td>True</td>\n",
              "      <td>True</td>\n",
              "    </tr>\n",
              "    <tr>\n",
              "      <th>1584</th>\n",
              "      <td>2013-05-05</td>\n",
              "      <td>True</td>\n",
              "      <td>1.0</td>\n",
              "      <td>True</td>\n",
              "      <td>False</td>\n",
              "    </tr>\n",
              "  </tbody>\n",
              "</table>\n",
              "</div>"
            ],
            "text/plain": [
              "      host_since  superhost  total_listings  profile_pic  verified_id\n",
              "3928  2014-12-10      False             1.0         True        False\n",
              "4699  2013-05-08      False             1.0         True         True\n",
              "1806  2014-07-31      False             1.0         True         True\n",
              "8135  2014-11-25      False             1.0         True         True\n",
              "1584  2013-05-05       True             1.0         True        False"
            ]
          },
          "metadata": {
            "tags": []
          },
          "execution_count": 254
        }
      ]
    },
    {
      "cell_type": "markdown",
      "metadata": {
        "id": "EGE9EAn-XZrU"
      },
      "source": [
        "#### Reviews"
      ]
    },
    {
      "cell_type": "code",
      "metadata": {
        "colab": {
          "base_uri": "https://localhost:8080/",
          "height": 379
        },
        "id": "-xP6cyaKyPRC",
        "outputId": "2084b91b-6c0a-482e-f2f7-04b79bd3a474"
      },
      "source": [
        "# Compare all the review features\r\n",
        "amsterdam_detailed_listing[['number_of_reviews', 'number_of_reviews_ltm',\r\n",
        "        'number_of_reviews_l30d', 'first_review', 'last_review', \r\n",
        "        'review_scores_rating', 'review_scores_accuracy', \r\n",
        "        'review_scores_cleanliness', 'review_scores_checkin', \r\n",
        "        'review_scores_communication', 'review_scores_location',\r\n",
        "        'review_scores_value', 'reviews_per_month']].sample(10)"
      ],
      "execution_count": 255,
      "outputs": [
        {
          "output_type": "execute_result",
          "data": {
            "text/html": [
              "<div>\n",
              "<style scoped>\n",
              "    .dataframe tbody tr th:only-of-type {\n",
              "        vertical-align: middle;\n",
              "    }\n",
              "\n",
              "    .dataframe tbody tr th {\n",
              "        vertical-align: top;\n",
              "    }\n",
              "\n",
              "    .dataframe thead th {\n",
              "        text-align: right;\n",
              "    }\n",
              "</style>\n",
              "<table border=\"1\" class=\"dataframe\">\n",
              "  <thead>\n",
              "    <tr style=\"text-align: right;\">\n",
              "      <th></th>\n",
              "      <th>number_of_reviews</th>\n",
              "      <th>number_of_reviews_ltm</th>\n",
              "      <th>number_of_reviews_l30d</th>\n",
              "      <th>first_review</th>\n",
              "      <th>last_review</th>\n",
              "      <th>review_scores_rating</th>\n",
              "      <th>review_scores_accuracy</th>\n",
              "      <th>review_scores_cleanliness</th>\n",
              "      <th>review_scores_checkin</th>\n",
              "      <th>review_scores_communication</th>\n",
              "      <th>review_scores_location</th>\n",
              "      <th>review_scores_value</th>\n",
              "      <th>reviews_per_month</th>\n",
              "    </tr>\n",
              "  </thead>\n",
              "  <tbody>\n",
              "    <tr>\n",
              "      <th>8325</th>\n",
              "      <td>48</td>\n",
              "      <td>3</td>\n",
              "      <td>0</td>\n",
              "      <td>2017-04-17</td>\n",
              "      <td>2020-08-09</td>\n",
              "      <td>99.0</td>\n",
              "      <td>10.0</td>\n",
              "      <td>10.0</td>\n",
              "      <td>10.0</td>\n",
              "      <td>10.0</td>\n",
              "      <td>10.0</td>\n",
              "      <td>9.0</td>\n",
              "      <td>1.03</td>\n",
              "    </tr>\n",
              "    <tr>\n",
              "      <th>2653</th>\n",
              "      <td>0</td>\n",
              "      <td>0</td>\n",
              "      <td>0</td>\n",
              "      <td>NaN</td>\n",
              "      <td>NaN</td>\n",
              "      <td>NaN</td>\n",
              "      <td>NaN</td>\n",
              "      <td>NaN</td>\n",
              "      <td>NaN</td>\n",
              "      <td>NaN</td>\n",
              "      <td>NaN</td>\n",
              "      <td>NaN</td>\n",
              "      <td>NaN</td>\n",
              "    </tr>\n",
              "    <tr>\n",
              "      <th>856</th>\n",
              "      <td>265</td>\n",
              "      <td>1</td>\n",
              "      <td>0</td>\n",
              "      <td>2013-10-24</td>\n",
              "      <td>2020-03-07</td>\n",
              "      <td>96.0</td>\n",
              "      <td>10.0</td>\n",
              "      <td>10.0</td>\n",
              "      <td>10.0</td>\n",
              "      <td>10.0</td>\n",
              "      <td>9.0</td>\n",
              "      <td>10.0</td>\n",
              "      <td>2.98</td>\n",
              "    </tr>\n",
              "    <tr>\n",
              "      <th>4972</th>\n",
              "      <td>10</td>\n",
              "      <td>0</td>\n",
              "      <td>0</td>\n",
              "      <td>2016-07-27</td>\n",
              "      <td>2019-08-13</td>\n",
              "      <td>91.0</td>\n",
              "      <td>9.0</td>\n",
              "      <td>10.0</td>\n",
              "      <td>10.0</td>\n",
              "      <td>10.0</td>\n",
              "      <td>9.0</td>\n",
              "      <td>9.0</td>\n",
              "      <td>0.18</td>\n",
              "    </tr>\n",
              "    <tr>\n",
              "      <th>17616</th>\n",
              "      <td>0</td>\n",
              "      <td>0</td>\n",
              "      <td>0</td>\n",
              "      <td>NaN</td>\n",
              "      <td>NaN</td>\n",
              "      <td>NaN</td>\n",
              "      <td>NaN</td>\n",
              "      <td>NaN</td>\n",
              "      <td>NaN</td>\n",
              "      <td>NaN</td>\n",
              "      <td>NaN</td>\n",
              "      <td>NaN</td>\n",
              "      <td>NaN</td>\n",
              "    </tr>\n",
              "    <tr>\n",
              "      <th>4365</th>\n",
              "      <td>2</td>\n",
              "      <td>0</td>\n",
              "      <td>0</td>\n",
              "      <td>2016-01-03</td>\n",
              "      <td>2016-07-13</td>\n",
              "      <td>90.0</td>\n",
              "      <td>10.0</td>\n",
              "      <td>9.0</td>\n",
              "      <td>9.0</td>\n",
              "      <td>9.0</td>\n",
              "      <td>9.0</td>\n",
              "      <td>9.0</td>\n",
              "      <td>0.03</td>\n",
              "    </tr>\n",
              "    <tr>\n",
              "      <th>3050</th>\n",
              "      <td>0</td>\n",
              "      <td>0</td>\n",
              "      <td>0</td>\n",
              "      <td>NaN</td>\n",
              "      <td>NaN</td>\n",
              "      <td>NaN</td>\n",
              "      <td>NaN</td>\n",
              "      <td>NaN</td>\n",
              "      <td>NaN</td>\n",
              "      <td>NaN</td>\n",
              "      <td>NaN</td>\n",
              "      <td>NaN</td>\n",
              "      <td>NaN</td>\n",
              "    </tr>\n",
              "    <tr>\n",
              "      <th>14347</th>\n",
              "      <td>11</td>\n",
              "      <td>0</td>\n",
              "      <td>0</td>\n",
              "      <td>2019-04-12</td>\n",
              "      <td>2019-05-28</td>\n",
              "      <td>93.0</td>\n",
              "      <td>9.0</td>\n",
              "      <td>9.0</td>\n",
              "      <td>10.0</td>\n",
              "      <td>10.0</td>\n",
              "      <td>10.0</td>\n",
              "      <td>8.0</td>\n",
              "      <td>0.49</td>\n",
              "    </tr>\n",
              "    <tr>\n",
              "      <th>11165</th>\n",
              "      <td>27</td>\n",
              "      <td>0</td>\n",
              "      <td>0</td>\n",
              "      <td>2018-04-15</td>\n",
              "      <td>2019-09-29</td>\n",
              "      <td>97.0</td>\n",
              "      <td>10.0</td>\n",
              "      <td>10.0</td>\n",
              "      <td>10.0</td>\n",
              "      <td>10.0</td>\n",
              "      <td>9.0</td>\n",
              "      <td>9.0</td>\n",
              "      <td>0.78</td>\n",
              "    </tr>\n",
              "    <tr>\n",
              "      <th>18153</th>\n",
              "      <td>1</td>\n",
              "      <td>1</td>\n",
              "      <td>0</td>\n",
              "      <td>2020-12-10</td>\n",
              "      <td>2020-12-10</td>\n",
              "      <td>80.0</td>\n",
              "      <td>8.0</td>\n",
              "      <td>6.0</td>\n",
              "      <td>10.0</td>\n",
              "      <td>8.0</td>\n",
              "      <td>10.0</td>\n",
              "      <td>10.0</td>\n",
              "      <td>0.48</td>\n",
              "    </tr>\n",
              "  </tbody>\n",
              "</table>\n",
              "</div>"
            ],
            "text/plain": [
              "       number_of_reviews  ...  reviews_per_month\n",
              "8325                  48  ...               1.03\n",
              "2653                   0  ...                NaN\n",
              "856                  265  ...               2.98\n",
              "4972                  10  ...               0.18\n",
              "17616                  0  ...                NaN\n",
              "4365                   2  ...               0.03\n",
              "3050                   0  ...                NaN\n",
              "14347                 11  ...               0.49\n",
              "11165                 27  ...               0.78\n",
              "18153                  1  ...               0.48\n",
              "\n",
              "[10 rows x 13 columns]"
            ]
          },
          "metadata": {
            "tags": []
          },
          "execution_count": 255
        }
      ]
    },
    {
      "cell_type": "markdown",
      "metadata": {
        "id": "AkL3MOZOflVq"
      },
      "source": [
        "- Going to keep all the review feature except for the `number_of_reviews_ltm, number_of_reviews_l30d, first_review, last_review, reviews_per_month`. \r\n",
        "\r\n",
        "- Not sure exactly what `number_of_reviews_ltm` is supposed to stand for and was not able to find out with my research or looking at multiple samples, that is part of the reason I am dropping this feature. Plus do not feel that it will add any real value to the predictions.\r\n",
        "\r\n",
        "- All of the review features except for the ones I will drop seem that they could add value to this project.\r\n",
        "\r\n",
        "- Also going to rename the features I am keeping."
      ]
    },
    {
      "cell_type": "code",
      "metadata": {
        "colab": {
          "base_uri": "https://localhost:8080/",
          "height": 159
        },
        "id": "xSY5ZbclXZfk",
        "outputId": "8528fd5c-4a38-4bf3-ae57-eee2adbc7345"
      },
      "source": [
        "# Rename the features I am keeping\r\n",
        "amsterdam_detailed_listing.rename(columns={\r\n",
        "    'review_scores_rating': 'avg_review_score',\r\n",
        "    'review_scores_accuracy': 'accuracy_score',\r\n",
        "    'review_scores_cleanliness': 'cleanliness_score', \r\n",
        "    'review_scores_checkin': 'checkin_score',\r\n",
        "    'review_scores_communication': 'communication_score', \r\n",
        "    'review_scores_location': 'location_score',\r\n",
        "    'review_scores_value': 'value_score'}, inplace=True)\r\n",
        "\r\n",
        "# Remove the features from above that is not needed\r\n",
        "amsterdam_detailed_listing = amsterdam_detailed_listing.drop(\r\n",
        "    columns=['number_of_reviews_ltm', 'number_of_reviews_l30d', 'first_review', \r\n",
        "             'last_review', 'reviews_per_month'])\r\n",
        "\r\n",
        "# Look at the new shape and a sample of 3 to check my work\r\n",
        "print(f'Rows: {amsterdam_detailed_listing.shape[0]}, Features: {amsterdam_detailed_listing.shape[1]}')\r\n",
        "amsterdam_detailed_listing[['avg_review_score', 'accuracy_score', \r\n",
        "                            'cleanliness_score', 'checkin_score',\r\n",
        "                            'communication_score', 'location_score', \r\n",
        "                            'value_score']].sample(3)"
      ],
      "execution_count": 256,
      "outputs": [
        {
          "output_type": "stream",
          "text": [
            "Rows: 18291, Features: 45\n"
          ],
          "name": "stdout"
        },
        {
          "output_type": "execute_result",
          "data": {
            "text/html": [
              "<div>\n",
              "<style scoped>\n",
              "    .dataframe tbody tr th:only-of-type {\n",
              "        vertical-align: middle;\n",
              "    }\n",
              "\n",
              "    .dataframe tbody tr th {\n",
              "        vertical-align: top;\n",
              "    }\n",
              "\n",
              "    .dataframe thead th {\n",
              "        text-align: right;\n",
              "    }\n",
              "</style>\n",
              "<table border=\"1\" class=\"dataframe\">\n",
              "  <thead>\n",
              "    <tr style=\"text-align: right;\">\n",
              "      <th></th>\n",
              "      <th>avg_review_score</th>\n",
              "      <th>accuracy_score</th>\n",
              "      <th>cleanliness_score</th>\n",
              "      <th>checkin_score</th>\n",
              "      <th>communication_score</th>\n",
              "      <th>location_score</th>\n",
              "      <th>value_score</th>\n",
              "    </tr>\n",
              "  </thead>\n",
              "  <tbody>\n",
              "    <tr>\n",
              "      <th>721</th>\n",
              "      <td>93.0</td>\n",
              "      <td>9.0</td>\n",
              "      <td>9.0</td>\n",
              "      <td>10.0</td>\n",
              "      <td>9.0</td>\n",
              "      <td>9.0</td>\n",
              "      <td>9.0</td>\n",
              "    </tr>\n",
              "    <tr>\n",
              "      <th>2616</th>\n",
              "      <td>NaN</td>\n",
              "      <td>NaN</td>\n",
              "      <td>NaN</td>\n",
              "      <td>NaN</td>\n",
              "      <td>NaN</td>\n",
              "      <td>NaN</td>\n",
              "      <td>NaN</td>\n",
              "    </tr>\n",
              "    <tr>\n",
              "      <th>15893</th>\n",
              "      <td>100.0</td>\n",
              "      <td>10.0</td>\n",
              "      <td>10.0</td>\n",
              "      <td>10.0</td>\n",
              "      <td>10.0</td>\n",
              "      <td>10.0</td>\n",
              "      <td>10.0</td>\n",
              "    </tr>\n",
              "  </tbody>\n",
              "</table>\n",
              "</div>"
            ],
            "text/plain": [
              "       avg_review_score  accuracy_score  ...  location_score  value_score\n",
              "721                93.0             9.0  ...             9.0          9.0\n",
              "2616                NaN             NaN  ...             NaN          NaN\n",
              "15893             100.0            10.0  ...            10.0         10.0\n",
              "\n",
              "[3 rows x 7 columns]"
            ]
          },
          "metadata": {
            "tags": []
          },
          "execution_count": 256
        }
      ]
    },
    {
      "cell_type": "markdown",
      "metadata": {
        "id": "fuu0gsQ55tHA"
      },
      "source": [
        "#### Min and Max Nights"
      ]
    },
    {
      "cell_type": "code",
      "metadata": {
        "colab": {
          "base_uri": "https://localhost:8080/",
          "height": 224
        },
        "id": "xIUgfSJzxP37",
        "outputId": "8d6d87de-4775-497b-a3d7-ff408be5a9bf"
      },
      "source": [
        "# Look at all the features in regards to the number of nights and compare them.\r\n",
        "amsterdam_detailed_listing[['minimum_nights', 'maximum_nights', 'minimum_minimum_nights',\r\n",
        "       'maximum_minimum_nights', 'minimum_maximum_nights',\r\n",
        "       'maximum_maximum_nights', 'minimum_nights_avg_ntm',\r\n",
        "       'maximum_nights_avg_ntm']].sample(5)"
      ],
      "execution_count": 257,
      "outputs": [
        {
          "output_type": "execute_result",
          "data": {
            "text/html": [
              "<div>\n",
              "<style scoped>\n",
              "    .dataframe tbody tr th:only-of-type {\n",
              "        vertical-align: middle;\n",
              "    }\n",
              "\n",
              "    .dataframe tbody tr th {\n",
              "        vertical-align: top;\n",
              "    }\n",
              "\n",
              "    .dataframe thead th {\n",
              "        text-align: right;\n",
              "    }\n",
              "</style>\n",
              "<table border=\"1\" class=\"dataframe\">\n",
              "  <thead>\n",
              "    <tr style=\"text-align: right;\">\n",
              "      <th></th>\n",
              "      <th>minimum_nights</th>\n",
              "      <th>maximum_nights</th>\n",
              "      <th>minimum_minimum_nights</th>\n",
              "      <th>maximum_minimum_nights</th>\n",
              "      <th>minimum_maximum_nights</th>\n",
              "      <th>maximum_maximum_nights</th>\n",
              "      <th>minimum_nights_avg_ntm</th>\n",
              "      <th>maximum_nights_avg_ntm</th>\n",
              "    </tr>\n",
              "  </thead>\n",
              "  <tbody>\n",
              "    <tr>\n",
              "      <th>14031</th>\n",
              "      <td>1</td>\n",
              "      <td>2</td>\n",
              "      <td>1.0</td>\n",
              "      <td>2.0</td>\n",
              "      <td>2.0</td>\n",
              "      <td>2.0</td>\n",
              "      <td>1.3</td>\n",
              "      <td>2.0</td>\n",
              "    </tr>\n",
              "    <tr>\n",
              "      <th>8704</th>\n",
              "      <td>3</td>\n",
              "      <td>5</td>\n",
              "      <td>3.0</td>\n",
              "      <td>3.0</td>\n",
              "      <td>5.0</td>\n",
              "      <td>5.0</td>\n",
              "      <td>3.0</td>\n",
              "      <td>5.0</td>\n",
              "    </tr>\n",
              "    <tr>\n",
              "      <th>12971</th>\n",
              "      <td>2</td>\n",
              "      <td>1125</td>\n",
              "      <td>2.0</td>\n",
              "      <td>3.0</td>\n",
              "      <td>1125.0</td>\n",
              "      <td>1125.0</td>\n",
              "      <td>2.4</td>\n",
              "      <td>1125.0</td>\n",
              "    </tr>\n",
              "    <tr>\n",
              "      <th>1725</th>\n",
              "      <td>3</td>\n",
              "      <td>30</td>\n",
              "      <td>3.0</td>\n",
              "      <td>3.0</td>\n",
              "      <td>1125.0</td>\n",
              "      <td>1125.0</td>\n",
              "      <td>3.0</td>\n",
              "      <td>1125.0</td>\n",
              "    </tr>\n",
              "    <tr>\n",
              "      <th>11657</th>\n",
              "      <td>3</td>\n",
              "      <td>4</td>\n",
              "      <td>3.0</td>\n",
              "      <td>3.0</td>\n",
              "      <td>4.0</td>\n",
              "      <td>4.0</td>\n",
              "      <td>3.0</td>\n",
              "      <td>4.0</td>\n",
              "    </tr>\n",
              "  </tbody>\n",
              "</table>\n",
              "</div>"
            ],
            "text/plain": [
              "       minimum_nights  ...  maximum_nights_avg_ntm\n",
              "14031               1  ...                     2.0\n",
              "8704                3  ...                     5.0\n",
              "12971               2  ...                  1125.0\n",
              "1725                3  ...                  1125.0\n",
              "11657               3  ...                     4.0\n",
              "\n",
              "[5 rows x 8 columns]"
            ]
          },
          "metadata": {
            "tags": []
          },
          "execution_count": 257
        }
      ]
    },
    {
      "cell_type": "markdown",
      "metadata": {
        "id": "mvgGvrrwTyB1"
      },
      "source": [
        "- These features appear to be redundant. I am choosing to keep only the `minimum_nights` and `maximum_nights` for right now since there are no null values in either one of those."
      ]
    },
    {
      "cell_type": "code",
      "metadata": {
        "colab": {
          "base_uri": "https://localhost:8080/"
        },
        "id": "lE35JTUo5ipR",
        "outputId": "ae8f1c4f-6698-4794-bd03-2e2634eee6ad"
      },
      "source": [
        "# Remove the features from above that is not needed\r\n",
        "amsterdam_detailed_listing = amsterdam_detailed_listing.drop(\r\n",
        "    columns=['minimum_minimum_nights', 'maximum_minimum_nights', \r\n",
        "             'minimum_maximum_nights', 'maximum_maximum_nights', \r\n",
        "             'minimum_nights_avg_ntm', 'maximum_nights_avg_ntm'])\r\n",
        "\r\n",
        "# Look at the new shape to check my work\r\n",
        "print(f'Rows: {amsterdam_detailed_listing.shape[0]}, Features: {amsterdam_detailed_listing.shape[1]}')"
      ],
      "execution_count": 258,
      "outputs": [
        {
          "output_type": "stream",
          "text": [
            "Rows: 18291, Features: 39\n"
          ],
          "name": "stdout"
        }
      ]
    },
    {
      "cell_type": "markdown",
      "metadata": {
        "id": "imRCYD5A41GI"
      },
      "source": [
        "#### Night Availability"
      ]
    },
    {
      "cell_type": "code",
      "metadata": {
        "colab": {
          "base_uri": "https://localhost:8080/",
          "height": 359
        },
        "id": "HJ6EwOii5imO",
        "outputId": "2f6b444c-71af-4613-8ebd-e0abdf2c7e63"
      },
      "source": [
        "# Look at all the features in regards to the number of nights and compare them.\r\n",
        "amsterdam_detailed_listing[['has_availability', 'availability_30', \r\n",
        "                            'availability_60', 'availability_90', \r\n",
        "                            'availability_365']].sample(10)"
      ],
      "execution_count": 259,
      "outputs": [
        {
          "output_type": "execute_result",
          "data": {
            "text/html": [
              "<div>\n",
              "<style scoped>\n",
              "    .dataframe tbody tr th:only-of-type {\n",
              "        vertical-align: middle;\n",
              "    }\n",
              "\n",
              "    .dataframe tbody tr th {\n",
              "        vertical-align: top;\n",
              "    }\n",
              "\n",
              "    .dataframe thead th {\n",
              "        text-align: right;\n",
              "    }\n",
              "</style>\n",
              "<table border=\"1\" class=\"dataframe\">\n",
              "  <thead>\n",
              "    <tr style=\"text-align: right;\">\n",
              "      <th></th>\n",
              "      <th>has_availability</th>\n",
              "      <th>availability_30</th>\n",
              "      <th>availability_60</th>\n",
              "      <th>availability_90</th>\n",
              "      <th>availability_365</th>\n",
              "    </tr>\n",
              "  </thead>\n",
              "  <tbody>\n",
              "    <tr>\n",
              "      <th>4831</th>\n",
              "      <td>t</td>\n",
              "      <td>27</td>\n",
              "      <td>57</td>\n",
              "      <td>87</td>\n",
              "      <td>362</td>\n",
              "    </tr>\n",
              "    <tr>\n",
              "      <th>13675</th>\n",
              "      <td>t</td>\n",
              "      <td>0</td>\n",
              "      <td>0</td>\n",
              "      <td>0</td>\n",
              "      <td>0</td>\n",
              "    </tr>\n",
              "    <tr>\n",
              "      <th>16091</th>\n",
              "      <td>t</td>\n",
              "      <td>0</td>\n",
              "      <td>0</td>\n",
              "      <td>9</td>\n",
              "      <td>34</td>\n",
              "    </tr>\n",
              "    <tr>\n",
              "      <th>13389</th>\n",
              "      <td>t</td>\n",
              "      <td>29</td>\n",
              "      <td>59</td>\n",
              "      <td>89</td>\n",
              "      <td>89</td>\n",
              "    </tr>\n",
              "    <tr>\n",
              "      <th>3538</th>\n",
              "      <td>t</td>\n",
              "      <td>0</td>\n",
              "      <td>6</td>\n",
              "      <td>6</td>\n",
              "      <td>6</td>\n",
              "    </tr>\n",
              "    <tr>\n",
              "      <th>5681</th>\n",
              "      <td>t</td>\n",
              "      <td>0</td>\n",
              "      <td>0</td>\n",
              "      <td>0</td>\n",
              "      <td>0</td>\n",
              "    </tr>\n",
              "    <tr>\n",
              "      <th>6261</th>\n",
              "      <td>t</td>\n",
              "      <td>0</td>\n",
              "      <td>0</td>\n",
              "      <td>0</td>\n",
              "      <td>0</td>\n",
              "    </tr>\n",
              "    <tr>\n",
              "      <th>9125</th>\n",
              "      <td>t</td>\n",
              "      <td>0</td>\n",
              "      <td>0</td>\n",
              "      <td>0</td>\n",
              "      <td>0</td>\n",
              "    </tr>\n",
              "    <tr>\n",
              "      <th>7463</th>\n",
              "      <td>t</td>\n",
              "      <td>0</td>\n",
              "      <td>0</td>\n",
              "      <td>0</td>\n",
              "      <td>0</td>\n",
              "    </tr>\n",
              "    <tr>\n",
              "      <th>12218</th>\n",
              "      <td>t</td>\n",
              "      <td>30</td>\n",
              "      <td>56</td>\n",
              "      <td>86</td>\n",
              "      <td>338</td>\n",
              "    </tr>\n",
              "  </tbody>\n",
              "</table>\n",
              "</div>"
            ],
            "text/plain": [
              "      has_availability  availability_30  ...  availability_90  availability_365\n",
              "4831                 t               27  ...               87               362\n",
              "13675                t                0  ...                0                 0\n",
              "16091                t                0  ...                9                34\n",
              "13389                t               29  ...               89                89\n",
              "3538                 t                0  ...                6                 6\n",
              "5681                 t                0  ...                0                 0\n",
              "6261                 t                0  ...                0                 0\n",
              "9125                 t                0  ...                0                 0\n",
              "7463                 t                0  ...                0                 0\n",
              "12218                t               30  ...               86               338\n",
              "\n",
              "[10 rows x 5 columns]"
            ]
          },
          "metadata": {
            "tags": []
          },
          "execution_count": 259
        }
      ]
    },
    {
      "cell_type": "markdown",
      "metadata": {
        "id": "NQyWTpxgpthC"
      },
      "source": [
        "- Based on the samples I have looked at and research I did, it appears that the `availability_<n>` all have values in them based on the number of days in next `n` period that the property is available to rent.\r\n",
        "\r\n",
        "- I will keep all of these features but rename them to make it clearer as to what they mean.\r\n",
        "\r\n",
        "- Going to replace all `t` with `True` and all `f` with `False`."
      ]
    },
    {
      "cell_type": "code",
      "metadata": {
        "colab": {
          "base_uri": "https://localhost:8080/",
          "height": 376
        },
        "id": "6tND8blN5ija",
        "outputId": "f33f98b1-f0e5-4520-e9d9-6b17783f96e6"
      },
      "source": [
        "# Rename the features I am keeping\r\n",
        "amsterdam_detailed_listing.rename(columns={\r\n",
        "    'has_availability': 'available',\r\n",
        "    'availability_30': 'avail_next_30_days',\r\n",
        "    'availability_60': 'avail_next_60_days', \r\n",
        "    'availability_90': 'avail_next_90_days',\r\n",
        "    'availability_365': 'avail_next_365_days'}, inplace=True)\r\n",
        "\r\n",
        "# Replace all t and f with 1 and 0\r\n",
        "amsterdam_detailed_listing['available'] = amsterdam_detailed_listing[\r\n",
        "                                            'available'].replace(['t', 'f'],\r\n",
        "                                                                 [True, False])\r\n",
        "\r\n",
        "# Look at the new shape and a sample of 3 to check my work\r\n",
        "print(f'Rows: {amsterdam_detailed_listing.shape[0]}, Features: {amsterdam_detailed_listing.shape[1]}')\r\n",
        "amsterdam_detailed_listing[['available', 'avail_next_30_days', \r\n",
        "                            'avail_next_60_days', 'avail_next_90_days', \r\n",
        "                            'avail_next_365_days']].sample(10)"
      ],
      "execution_count": 260,
      "outputs": [
        {
          "output_type": "stream",
          "text": [
            "Rows: 18291, Features: 39\n"
          ],
          "name": "stdout"
        },
        {
          "output_type": "execute_result",
          "data": {
            "text/html": [
              "<div>\n",
              "<style scoped>\n",
              "    .dataframe tbody tr th:only-of-type {\n",
              "        vertical-align: middle;\n",
              "    }\n",
              "\n",
              "    .dataframe tbody tr th {\n",
              "        vertical-align: top;\n",
              "    }\n",
              "\n",
              "    .dataframe thead th {\n",
              "        text-align: right;\n",
              "    }\n",
              "</style>\n",
              "<table border=\"1\" class=\"dataframe\">\n",
              "  <thead>\n",
              "    <tr style=\"text-align: right;\">\n",
              "      <th></th>\n",
              "      <th>available</th>\n",
              "      <th>avail_next_30_days</th>\n",
              "      <th>avail_next_60_days</th>\n",
              "      <th>avail_next_90_days</th>\n",
              "      <th>avail_next_365_days</th>\n",
              "    </tr>\n",
              "  </thead>\n",
              "  <tbody>\n",
              "    <tr>\n",
              "      <th>4190</th>\n",
              "      <td>True</td>\n",
              "      <td>0</td>\n",
              "      <td>0</td>\n",
              "      <td>0</td>\n",
              "      <td>0</td>\n",
              "    </tr>\n",
              "    <tr>\n",
              "      <th>876</th>\n",
              "      <td>True</td>\n",
              "      <td>29</td>\n",
              "      <td>59</td>\n",
              "      <td>89</td>\n",
              "      <td>89</td>\n",
              "    </tr>\n",
              "    <tr>\n",
              "      <th>8673</th>\n",
              "      <td>True</td>\n",
              "      <td>29</td>\n",
              "      <td>59</td>\n",
              "      <td>78</td>\n",
              "      <td>179</td>\n",
              "    </tr>\n",
              "    <tr>\n",
              "      <th>2563</th>\n",
              "      <td>True</td>\n",
              "      <td>0</td>\n",
              "      <td>0</td>\n",
              "      <td>0</td>\n",
              "      <td>0</td>\n",
              "    </tr>\n",
              "    <tr>\n",
              "      <th>5169</th>\n",
              "      <td>True</td>\n",
              "      <td>0</td>\n",
              "      <td>0</td>\n",
              "      <td>0</td>\n",
              "      <td>0</td>\n",
              "    </tr>\n",
              "    <tr>\n",
              "      <th>10336</th>\n",
              "      <td>True</td>\n",
              "      <td>0</td>\n",
              "      <td>0</td>\n",
              "      <td>0</td>\n",
              "      <td>0</td>\n",
              "    </tr>\n",
              "    <tr>\n",
              "      <th>3214</th>\n",
              "      <td>True</td>\n",
              "      <td>0</td>\n",
              "      <td>0</td>\n",
              "      <td>0</td>\n",
              "      <td>133</td>\n",
              "    </tr>\n",
              "    <tr>\n",
              "      <th>6139</th>\n",
              "      <td>True</td>\n",
              "      <td>0</td>\n",
              "      <td>0</td>\n",
              "      <td>0</td>\n",
              "      <td>0</td>\n",
              "    </tr>\n",
              "    <tr>\n",
              "      <th>13224</th>\n",
              "      <td>True</td>\n",
              "      <td>0</td>\n",
              "      <td>0</td>\n",
              "      <td>0</td>\n",
              "      <td>0</td>\n",
              "    </tr>\n",
              "    <tr>\n",
              "      <th>3374</th>\n",
              "      <td>True</td>\n",
              "      <td>0</td>\n",
              "      <td>0</td>\n",
              "      <td>0</td>\n",
              "      <td>0</td>\n",
              "    </tr>\n",
              "  </tbody>\n",
              "</table>\n",
              "</div>"
            ],
            "text/plain": [
              "       available  avail_next_30_days  ...  avail_next_90_days  avail_next_365_days\n",
              "4190        True                   0  ...                   0                    0\n",
              "876         True                  29  ...                  89                   89\n",
              "8673        True                  29  ...                  78                  179\n",
              "2563        True                   0  ...                   0                    0\n",
              "5169        True                   0  ...                   0                    0\n",
              "10336       True                   0  ...                   0                    0\n",
              "3214        True                   0  ...                   0                  133\n",
              "6139        True                   0  ...                   0                    0\n",
              "13224       True                   0  ...                   0                    0\n",
              "3374        True                   0  ...                   0                    0\n",
              "\n",
              "[10 rows x 5 columns]"
            ]
          },
          "metadata": {
            "tags": []
          },
          "execution_count": 260
        }
      ]
    },
    {
      "cell_type": "markdown",
      "metadata": {
        "id": "holAbl6wuRPU"
      },
      "source": [
        "#### Stats on remaining Features"
      ]
    },
    {
      "cell_type": "code",
      "metadata": {
        "colab": {
          "base_uri": "https://localhost:8080/",
          "height": 317
        },
        "id": "oc6FedEOehHa",
        "outputId": "b72df0d5-f287-4c26-c4e2-e13e7878e4bf"
      },
      "source": [
        "# Look at the stats on the numeric features\r\n",
        "amsterdam_detailed_listing.describe()"
      ],
      "execution_count": 261,
      "outputs": [
        {
          "output_type": "execute_result",
          "data": {
            "text/html": [
              "<div>\n",
              "<style scoped>\n",
              "    .dataframe tbody tr th:only-of-type {\n",
              "        vertical-align: middle;\n",
              "    }\n",
              "\n",
              "    .dataframe tbody tr th {\n",
              "        vertical-align: top;\n",
              "    }\n",
              "\n",
              "    .dataframe thead th {\n",
              "        text-align: right;\n",
              "    }\n",
              "</style>\n",
              "<table border=\"1\" class=\"dataframe\">\n",
              "  <thead>\n",
              "    <tr style=\"text-align: right;\">\n",
              "      <th></th>\n",
              "      <th>id</th>\n",
              "      <th>total_listings</th>\n",
              "      <th>latitude</th>\n",
              "      <th>longitude</th>\n",
              "      <th>accommodates</th>\n",
              "      <th>bedrooms</th>\n",
              "      <th>beds</th>\n",
              "      <th>minimum_nights</th>\n",
              "      <th>maximum_nights</th>\n",
              "      <th>avail_next_30_days</th>\n",
              "      <th>avail_next_60_days</th>\n",
              "      <th>avail_next_90_days</th>\n",
              "      <th>avail_next_365_days</th>\n",
              "      <th>number_of_reviews</th>\n",
              "      <th>avg_review_score</th>\n",
              "      <th>accuracy_score</th>\n",
              "      <th>cleanliness_score</th>\n",
              "      <th>checkin_score</th>\n",
              "      <th>communication_score</th>\n",
              "      <th>location_score</th>\n",
              "      <th>value_score</th>\n",
              "    </tr>\n",
              "  </thead>\n",
              "  <tbody>\n",
              "    <tr>\n",
              "      <th>count</th>\n",
              "      <td>1.829100e+04</td>\n",
              "      <td>18228.000000</td>\n",
              "      <td>18291.000000</td>\n",
              "      <td>18291.000000</td>\n",
              "      <td>18291.000000</td>\n",
              "      <td>17294.000000</td>\n",
              "      <td>18186.000000</td>\n",
              "      <td>18291.000000</td>\n",
              "      <td>18291.000000</td>\n",
              "      <td>18291.000000</td>\n",
              "      <td>18291.000000</td>\n",
              "      <td>18291.000000</td>\n",
              "      <td>18291.000000</td>\n",
              "      <td>18291.000000</td>\n",
              "      <td>15659.000000</td>\n",
              "      <td>15649.000000</td>\n",
              "      <td>15649.000000</td>\n",
              "      <td>15641.000000</td>\n",
              "      <td>15648.000000</td>\n",
              "      <td>15643.000000</td>\n",
              "      <td>15643.000000</td>\n",
              "    </tr>\n",
              "    <tr>\n",
              "      <th>mean</th>\n",
              "      <td>2.064229e+07</td>\n",
              "      <td>3.244459</td>\n",
              "      <td>52.365478</td>\n",
              "      <td>4.889504</td>\n",
              "      <td>2.837570</td>\n",
              "      <td>1.534405</td>\n",
              "      <td>1.765259</td>\n",
              "      <td>3.727407</td>\n",
              "      <td>611.559565</td>\n",
              "      <td>5.950467</td>\n",
              "      <td>12.473621</td>\n",
              "      <td>19.262315</td>\n",
              "      <td>61.923132</td>\n",
              "      <td>24.125198</td>\n",
              "      <td>95.107287</td>\n",
              "      <td>9.690907</td>\n",
              "      <td>9.457857</td>\n",
              "      <td>9.750911</td>\n",
              "      <td>9.794926</td>\n",
              "      <td>9.513456</td>\n",
              "      <td>9.202071</td>\n",
              "    </tr>\n",
              "    <tr>\n",
              "      <th>std</th>\n",
              "      <td>1.285836e+07</td>\n",
              "      <td>56.575963</td>\n",
              "      <td>0.016559</td>\n",
              "      <td>0.035833</td>\n",
              "      <td>1.282434</td>\n",
              "      <td>0.959211</td>\n",
              "      <td>1.444775</td>\n",
              "      <td>16.331468</td>\n",
              "      <td>545.438112</td>\n",
              "      <td>11.195839</td>\n",
              "      <td>22.753660</td>\n",
              "      <td>34.282051</td>\n",
              "      <td>115.602325</td>\n",
              "      <td>54.560889</td>\n",
              "      <td>7.035600</td>\n",
              "      <td>0.728646</td>\n",
              "      <td>0.914985</td>\n",
              "      <td>0.659262</td>\n",
              "      <td>0.636390</td>\n",
              "      <td>0.705519</td>\n",
              "      <td>0.832326</td>\n",
              "    </tr>\n",
              "    <tr>\n",
              "      <th>min</th>\n",
              "      <td>2.818000e+03</td>\n",
              "      <td>0.000000</td>\n",
              "      <td>52.289270</td>\n",
              "      <td>4.755940</td>\n",
              "      <td>0.000000</td>\n",
              "      <td>1.000000</td>\n",
              "      <td>0.000000</td>\n",
              "      <td>1.000000</td>\n",
              "      <td>1.000000</td>\n",
              "      <td>0.000000</td>\n",
              "      <td>0.000000</td>\n",
              "      <td>0.000000</td>\n",
              "      <td>0.000000</td>\n",
              "      <td>0.000000</td>\n",
              "      <td>20.000000</td>\n",
              "      <td>2.000000</td>\n",
              "      <td>2.000000</td>\n",
              "      <td>2.000000</td>\n",
              "      <td>2.000000</td>\n",
              "      <td>2.000000</td>\n",
              "      <td>2.000000</td>\n",
              "    </tr>\n",
              "    <tr>\n",
              "      <th>25%</th>\n",
              "      <td>1.010732e+07</td>\n",
              "      <td>1.000000</td>\n",
              "      <td>52.355100</td>\n",
              "      <td>4.863920</td>\n",
              "      <td>2.000000</td>\n",
              "      <td>1.000000</td>\n",
              "      <td>1.000000</td>\n",
              "      <td>2.000000</td>\n",
              "      <td>21.000000</td>\n",
              "      <td>0.000000</td>\n",
              "      <td>0.000000</td>\n",
              "      <td>0.000000</td>\n",
              "      <td>0.000000</td>\n",
              "      <td>2.000000</td>\n",
              "      <td>93.000000</td>\n",
              "      <td>10.000000</td>\n",
              "      <td>9.000000</td>\n",
              "      <td>10.000000</td>\n",
              "      <td>10.000000</td>\n",
              "      <td>9.000000</td>\n",
              "      <td>9.000000</td>\n",
              "    </tr>\n",
              "    <tr>\n",
              "      <th>50%</th>\n",
              "      <td>1.911168e+07</td>\n",
              "      <td>1.000000</td>\n",
              "      <td>52.364790</td>\n",
              "      <td>4.887010</td>\n",
              "      <td>2.000000</td>\n",
              "      <td>1.000000</td>\n",
              "      <td>1.000000</td>\n",
              "      <td>2.000000</td>\n",
              "      <td>1125.000000</td>\n",
              "      <td>0.000000</td>\n",
              "      <td>0.000000</td>\n",
              "      <td>0.000000</td>\n",
              "      <td>0.000000</td>\n",
              "      <td>8.000000</td>\n",
              "      <td>97.000000</td>\n",
              "      <td>10.000000</td>\n",
              "      <td>10.000000</td>\n",
              "      <td>10.000000</td>\n",
              "      <td>10.000000</td>\n",
              "      <td>10.000000</td>\n",
              "      <td>9.000000</td>\n",
              "    </tr>\n",
              "    <tr>\n",
              "      <th>75%</th>\n",
              "      <td>3.039472e+07</td>\n",
              "      <td>1.000000</td>\n",
              "      <td>52.375370</td>\n",
              "      <td>4.909230</td>\n",
              "      <td>4.000000</td>\n",
              "      <td>2.000000</td>\n",
              "      <td>2.000000</td>\n",
              "      <td>3.000000</td>\n",
              "      <td>1125.000000</td>\n",
              "      <td>0.000000</td>\n",
              "      <td>9.000000</td>\n",
              "      <td>18.000000</td>\n",
              "      <td>78.000000</td>\n",
              "      <td>22.000000</td>\n",
              "      <td>100.000000</td>\n",
              "      <td>10.000000</td>\n",
              "      <td>10.000000</td>\n",
              "      <td>10.000000</td>\n",
              "      <td>10.000000</td>\n",
              "      <td>10.000000</td>\n",
              "      <td>10.000000</td>\n",
              "    </tr>\n",
              "    <tr>\n",
              "      <th>max</th>\n",
              "      <td>4.807786e+07</td>\n",
              "      <td>7235.000000</td>\n",
              "      <td>52.425120</td>\n",
              "      <td>5.027690</td>\n",
              "      <td>16.000000</td>\n",
              "      <td>50.000000</td>\n",
              "      <td>35.000000</td>\n",
              "      <td>1001.000000</td>\n",
              "      <td>11250.000000</td>\n",
              "      <td>30.000000</td>\n",
              "      <td>60.000000</td>\n",
              "      <td>90.000000</td>\n",
              "      <td>365.000000</td>\n",
              "      <td>859.000000</td>\n",
              "      <td>100.000000</td>\n",
              "      <td>10.000000</td>\n",
              "      <td>10.000000</td>\n",
              "      <td>10.000000</td>\n",
              "      <td>10.000000</td>\n",
              "      <td>10.000000</td>\n",
              "      <td>10.000000</td>\n",
              "    </tr>\n",
              "  </tbody>\n",
              "</table>\n",
              "</div>"
            ],
            "text/plain": [
              "                 id  total_listings  ...  location_score   value_score\n",
              "count  1.829100e+04    18228.000000  ...    15643.000000  15643.000000\n",
              "mean   2.064229e+07        3.244459  ...        9.513456      9.202071\n",
              "std    1.285836e+07       56.575963  ...        0.705519      0.832326\n",
              "min    2.818000e+03        0.000000  ...        2.000000      2.000000\n",
              "25%    1.010732e+07        1.000000  ...        9.000000      9.000000\n",
              "50%    1.911168e+07        1.000000  ...       10.000000      9.000000\n",
              "75%    3.039472e+07        1.000000  ...       10.000000     10.000000\n",
              "max    4.807786e+07     7235.000000  ...       10.000000     10.000000\n",
              "\n",
              "[8 rows x 21 columns]"
            ]
          },
          "metadata": {
            "tags": []
          },
          "execution_count": 261
        }
      ]
    },
    {
      "cell_type": "markdown",
      "metadata": {
        "id": "kQAVcHjgEygv"
      },
      "source": [
        "* `id` = continuous, high cardnality, not useful for model, **drop this feature**\r\n",
        "\r\n",
        "* `total_listings` = continuous, could be useful\r\n",
        "\r\n",
        "* `latitude` = continuous, high cardnality, useful for graphing on a map\r\n",
        "\r\n",
        "* `longitude` = continuous, high cardnality, useful for graphing on a map\r\n",
        "\r\n",
        "* `accommodates` = discrete, number of people can accomodate.\r\n",
        "\r\n",
        "* `bedrooms` = discrete, number of bedrooms available\r\n",
        "\r\n",
        "* `beds` = discrete, number of beds available\r\n",
        "\r\n",
        "* `minimum_nights` = I consider this one mostly discrete, however, there are some outliers that I will probably be removing but want to do further analysis on it first. This is the minimum nights that are required to stay at said property.\r\n",
        "\r\n",
        "* `maximum_nights` = I consider this one mostly discrete, however, there are some outliers that I will probably be removing but want to do further analysis on it first. This is the maximum nights that someone can stay at said property.\r\n",
        "\r\n",
        "* `avail_next_30_days` = discrete since this value will be between 0 and 30, the number of days the said property is available in the next 30 days.\r\n",
        "\r\n",
        "* `avail_next_60_days` = discrete since this value will be between 0 and 60, the number of days the said property is available in the next 60 days.\r\n",
        "\r\n",
        "* `avail_next_90_days` = discrete since this value will be between 0 and 90, the number of days the said property is available in the next 90 days.\r\n",
        "\r\n",
        "* `avail_next_365_days` = discrete since this value will be between 0 and 365, the number of days the said property is available in the next 365 days.\r\n",
        "\r\n",
        "* `number_of_reviews` = continuous, the number of reviews that the host of said property has received.\r\n",
        "\r\n",
        "* `avg_review_score` = discrete, this is a value between 20 and 100, it is the host of the said property average review score\r\n",
        "\r\n",
        "* `accuracy_score` = discrete, this value is between 2 and 10 and it rates the accuracy of the host's listings on a scale of 0 to 10, 10 being the most accurate.\r\n",
        "\r\n",
        "* `cleanliness_score` = discrete, this value is between 2 and 10 and it rates the cleanliness of the host's listings on a scale of 0 to 10, 10 being the most clean.\r\n",
        "\r\n",
        "* `checkin_score` = discrete, this value is between 2 and 10 and it rates the checkin process of the host's listings on a scale of 0 to 10, 10 being the most easiest checkin process.\r\n",
        "\r\n",
        "* `communication_score` = discrete, this value is between 2 and 10 and it rates the communication of the host on a scale of 0 to 10, 10 being the best communication.\r\n",
        "\r\n",
        "* `location_score` = discrete, this value is between 2 and 10 and it rates the location of the host's listings on a scale of 0 to 10, 10 being the best location.\r\n",
        "\r\n",
        "* `value_score` = discrete, this value is between 2 and 10 and it rates the value of the host's listings on a scale of 0 to 10, 10 being the best value."
      ]
    },
    {
      "cell_type": "code",
      "metadata": {
        "colab": {
          "base_uri": "https://localhost:8080/",
          "height": 550
        },
        "id": "EKpYbQCyeg9f",
        "outputId": "09056d36-449b-4f84-96e6-150203a3ac44"
      },
      "source": [
        "amsterdam_detailed_listing.describe(exclude=[np.number])"
      ],
      "execution_count": 262,
      "outputs": [
        {
          "output_type": "execute_result",
          "data": {
            "text/html": [
              "<div>\n",
              "<style scoped>\n",
              "    .dataframe tbody tr th:only-of-type {\n",
              "        vertical-align: middle;\n",
              "    }\n",
              "\n",
              "    .dataframe tbody tr th {\n",
              "        vertical-align: top;\n",
              "    }\n",
              "\n",
              "    .dataframe thead th {\n",
              "        text-align: right;\n",
              "    }\n",
              "</style>\n",
              "<table border=\"1\" class=\"dataframe\">\n",
              "  <thead>\n",
              "    <tr style=\"text-align: right;\">\n",
              "      <th></th>\n",
              "      <th>listing_url</th>\n",
              "      <th>last_scraped</th>\n",
              "      <th>name</th>\n",
              "      <th>description</th>\n",
              "      <th>neighborhood_overview</th>\n",
              "      <th>picture_url</th>\n",
              "      <th>host_since</th>\n",
              "      <th>superhost</th>\n",
              "      <th>profile_pic</th>\n",
              "      <th>verified_id</th>\n",
              "      <th>neighbourhood_cleansed</th>\n",
              "      <th>property_type</th>\n",
              "      <th>room_type</th>\n",
              "      <th>bathrooms_text</th>\n",
              "      <th>amenities</th>\n",
              "      <th>price</th>\n",
              "      <th>available</th>\n",
              "      <th>instant_bookable</th>\n",
              "    </tr>\n",
              "  </thead>\n",
              "  <tbody>\n",
              "    <tr>\n",
              "      <th>count</th>\n",
              "      <td>18291</td>\n",
              "      <td>18291</td>\n",
              "      <td>18258</td>\n",
              "      <td>17994</td>\n",
              "      <td>12023</td>\n",
              "      <td>18291</td>\n",
              "      <td>18228</td>\n",
              "      <td>18291</td>\n",
              "      <td>18291</td>\n",
              "      <td>18291</td>\n",
              "      <td>18291</td>\n",
              "      <td>18291</td>\n",
              "      <td>18291</td>\n",
              "      <td>18269</td>\n",
              "      <td>18291</td>\n",
              "      <td>18291</td>\n",
              "      <td>18291</td>\n",
              "      <td>18291</td>\n",
              "    </tr>\n",
              "    <tr>\n",
              "      <th>unique</th>\n",
              "      <td>18291</td>\n",
              "      <td>4</td>\n",
              "      <td>17863</td>\n",
              "      <td>17793</td>\n",
              "      <td>10954</td>\n",
              "      <td>18108</td>\n",
              "      <td>3268</td>\n",
              "      <td>2</td>\n",
              "      <td>2</td>\n",
              "      <td>2</td>\n",
              "      <td>22</td>\n",
              "      <td>65</td>\n",
              "      <td>4</td>\n",
              "      <td>27</td>\n",
              "      <td>16744</td>\n",
              "      <td>502</td>\n",
              "      <td>2</td>\n",
              "      <td>2</td>\n",
              "    </tr>\n",
              "    <tr>\n",
              "      <th>top</th>\n",
              "      <td>https://www.airbnb.com/rooms/17430937</td>\n",
              "      <td>2021-02-09</td>\n",
              "      <td>Amsterdam</td>\n",
              "      <td>Hotel Jansen is a new Short Stay hotel in Amsterdam. We offer great and affordable accommodation for students, graduates, interns &amp; young professionals from all over the world. Hotel Jansen is a place you can call home. You can also find us online.&lt;br /&gt;&lt;br /&gt;&lt;b&gt;The space&lt;/b&gt;&lt;br /&gt;Each room in H...</td>\n",
              "      <td>Oud West is close to the city-centre and close to both Vondelpark and Rembrandtpark. Ten Katestraat market is an excellent outdoor market with its charming cross-street ‘Bellamystraat’ giving the area an old-fashion village vibe – complete with dance studio and blacksmith. Kinkerstraat is a mult...</td>\n",
              "      <td>https://a0.muscache.com/pictures/94122561/af9864fb_original.jpg</td>\n",
              "      <td>2016-04-05</td>\n",
              "      <td>False</td>\n",
              "      <td>True</td>\n",
              "      <td>True</td>\n",
              "      <td>De Baarsjes - Oud-West</td>\n",
              "      <td>Entire apartment</td>\n",
              "      <td>Entire home/apt</td>\n",
              "      <td>1 bath</td>\n",
              "      <td>[\"Long term stays allowed\"]</td>\n",
              "      <td>$150.00</td>\n",
              "      <td>True</td>\n",
              "      <td>f</td>\n",
              "    </tr>\n",
              "    <tr>\n",
              "      <th>freq</th>\n",
              "      <td>1</td>\n",
              "      <td>7486</td>\n",
              "      <td>31</td>\n",
              "      <td>13</td>\n",
              "      <td>36</td>\n",
              "      <td>4</td>\n",
              "      <td>88</td>\n",
              "      <td>15912</td>\n",
              "      <td>18199</td>\n",
              "      <td>11918</td>\n",
              "      <td>3044</td>\n",
              "      <td>11393</td>\n",
              "      <td>14283</td>\n",
              "      <td>10677</td>\n",
              "      <td>45</td>\n",
              "      <td>980</td>\n",
              "      <td>17889</td>\n",
              "      <td>13914</td>\n",
              "    </tr>\n",
              "  </tbody>\n",
              "</table>\n",
              "</div>"
            ],
            "text/plain": [
              "                                  listing_url  ... instant_bookable\n",
              "count                                   18291  ...            18291\n",
              "unique                                  18291  ...                2\n",
              "top     https://www.airbnb.com/rooms/17430937  ...                f\n",
              "freq                                        1  ...            13914\n",
              "\n",
              "[4 rows x 18 columns]"
            ]
          },
          "metadata": {
            "tags": []
          },
          "execution_count": 262
        }
      ]
    },
    {
      "cell_type": "markdown",
      "metadata": {
        "id": "1nRd-1Zpxc5k"
      },
      "source": [
        "* `listing_url` = high cardnality, all unique values, the url of the said listing. **Do not need this feature for prediction**, but could be useful for comparision against the user's property if we have time to impliment something of that nature.\r\n",
        "\r\n",
        "* `last_scaped` = Not useful at all for this project. Will be **dropping this feature** completely.\r\n",
        "\r\n",
        "* `name` = high cardnality, mostly unique values, will have to do further exploration on this feature to see if it will really add any value to prediction if I preform NLP on it. Will probably be **dropping this feature** due to having the description preprocessed using NLP would most likey add better value to the prediction model.\r\n",
        "\r\n",
        "* `description` = high cardnality, mostly unique values,  will preprocess using **NLP** to add value to the predictive model.\r\n",
        "\r\n",
        "* `neighborhood_overview` = high cardnality, mostly unique values with almost 7,000 null values, will have to do further exploration on this feature to see if it will really add any value to prediction if I preform **NLP** on it. \r\n",
        "    * UPDATE: will **remove this feature** and just use the `neighborhood` feature.\r\n",
        "\r\n",
        "* `picture_url` = high cardnality, mostly unique values, **will not be keeping this feature** since we already have a feeature that has True or False if the host has a profile picture.\r\n",
        "\r\n",
        "* `host_since` = will possably use this feature for creating a new feature that will have just the time length that they have been a member up to Feb 8, 2021 as this is the data that the data I am using was collected.\r\n",
        "\r\n",
        "* `superhost` = boolean values which makes this a binary feature. Will be True or False if the host is a superhost.\r\n",
        "\r\n",
        "* `profile_pic` = boolean values which makes this a binary feature. Will be True or False if the host has a profile picture.\r\n",
        "\r\n",
        "* `verified_id` = boolean values which makes this a binary feature. Will be True or False if the host has verified their identity.\r\n",
        "\r\n",
        "* `neighbourhood_cleansed` = a cleaned version of the neighbourhood feature, which I have already dropped. \r\n",
        "\r\n",
        "* `property_type` = does not have any null values, I believe this will be a useful feature in helping the prediction. Need to do some preprocessing with **NLP** on this feature.\r\n",
        "\r\n",
        "* `room_type` = does not have any null values, I believe this will be a useful feature in helping the prediction, but need a little further exploration to see how it compares to the `property_type` to loook for redundancy. Need to do some preprocessing with **NLP** on this feature.\r\n",
        "\r\n",
        "* `bathrooms_text` = only a few null values. This feature needs to be processed futher to turn it into a numerical feature. The text in this feature is not needed for this project.\r\n",
        "\r\n",
        "* `amenities` = a list of the amendities for the said property. Will definately use this feature as it will add value to the prediction. Need to do some preprocessing with **NLP** on this using *tokenization*.\r\n",
        "\r\n",
        "* `price` = this is going to be my target feature for this project because this is what we are trying to predict. Need to do some cleaning to this feature thought because right now it is typed as an object due to the fact that there are `$` in front of all prices.\r\n",
        "\r\n",
        "* `available` = boolean values which makes this a binary feature. Will be True or False if the said property is currently available as of Feb 8, 2021 when the data was collected. This could be useful in the prediction because if it is not currently available, that probably means that it is currently being rented.\r\n",
        "\r\n",
        "* `instant_bookable` = boolean values which makes this a binary feature. Will be `t` or `f` if the said property is instantly bookable. Need to replace the `t` and `f` with `True` and `False`."
      ]
    },
    {
      "cell_type": "markdown",
      "metadata": {
        "id": "WtGJkgjQAYdY"
      },
      "source": [
        "#### More cleaning"
      ]
    },
    {
      "cell_type": "code",
      "metadata": {
        "colab": {
          "base_uri": "https://localhost:8080/"
        },
        "id": "IAOq31x9BjAD",
        "outputId": "3cb228a1-5841-4361-a904-d8e190fc807a"
      },
      "source": [
        "# Look at the features still in my dataset\r\n",
        "amsterdam_detailed_listing.columns"
      ],
      "execution_count": 263,
      "outputs": [
        {
          "output_type": "execute_result",
          "data": {
            "text/plain": [
              "Index(['id', 'listing_url', 'last_scraped', 'name', 'description',\n",
              "       'neighborhood_overview', 'picture_url', 'host_since', 'superhost',\n",
              "       'total_listings', 'profile_pic', 'verified_id',\n",
              "       'neighbourhood_cleansed', 'latitude', 'longitude', 'property_type',\n",
              "       'room_type', 'accommodates', 'bathrooms_text', 'bedrooms', 'beds',\n",
              "       'amenities', 'price', 'minimum_nights', 'maximum_nights', 'available',\n",
              "       'avail_next_30_days', 'avail_next_60_days', 'avail_next_90_days',\n",
              "       'avail_next_365_days', 'number_of_reviews', 'avg_review_score',\n",
              "       'accuracy_score', 'cleanliness_score', 'checkin_score',\n",
              "       'communication_score', 'location_score', 'value_score',\n",
              "       'instant_bookable'],\n",
              "      dtype='object')"
            ]
          },
          "metadata": {
            "tags": []
          },
          "execution_count": 263
        }
      ]
    },
    {
      "cell_type": "code",
      "metadata": {
        "id": "-jLqKjlPGn9z"
      },
      "source": [
        "# Replace the t's with True and f's with False in the instant_bookable feature\r\n",
        "amsterdam_detailed_listing['instant_bookable'] = amsterdam_detailed_listing['instant_bookable'].replace({'t': True, 'f': False})"
      ],
      "execution_count": 264,
      "outputs": []
    },
    {
      "cell_type": "code",
      "metadata": {
        "colab": {
          "base_uri": "https://localhost:8080/",
          "height": 682
        },
        "id": "sKNgaIhMehJn",
        "outputId": "e463ce71-4ed7-495b-edf4-8d0ba6dd3f90"
      },
      "source": [
        "# Compare the name and description\r\n",
        "amsterdam_detailed_listing[['name', 'description']].sample(10)"
      ],
      "execution_count": 265,
      "outputs": [
        {
          "output_type": "execute_result",
          "data": {
            "text/html": [
              "<div>\n",
              "<style scoped>\n",
              "    .dataframe tbody tr th:only-of-type {\n",
              "        vertical-align: middle;\n",
              "    }\n",
              "\n",
              "    .dataframe tbody tr th {\n",
              "        vertical-align: top;\n",
              "    }\n",
              "\n",
              "    .dataframe thead th {\n",
              "        text-align: right;\n",
              "    }\n",
              "</style>\n",
              "<table border=\"1\" class=\"dataframe\">\n",
              "  <thead>\n",
              "    <tr style=\"text-align: right;\">\n",
              "      <th></th>\n",
              "      <th>name</th>\n",
              "      <th>description</th>\n",
              "    </tr>\n",
              "  </thead>\n",
              "  <tbody>\n",
              "    <tr>\n",
              "      <th>16055</th>\n",
              "      <td>Anna's house</td>\n",
              "      <td>NaN</td>\n",
              "    </tr>\n",
              "    <tr>\n",
              "      <th>16239</th>\n",
              "      <td>Amazing private roof terrace | 360 views of city</td>\n",
              "      <td>A unique and bright two-bedroom apartment centrally located in ‘De Pijp’ (close to museum district, canals and RAI conference centers). The sizeable (55 sqm) private roof terrace offers an amazing view of the entire city of Amsterdam; lovely for spring and summer days. De Pijp area is filled wit...</td>\n",
              "    </tr>\n",
              "    <tr>\n",
              "      <th>11529</th>\n",
              "      <td>4 bedroom house with garden near city center</td>\n",
              "      <td>120m2 4 bedroom familyhouse in the suburbs of Amsterdam. The interior is industrial but cosy. A big couch, a garden or a bathtub where you can relax after a nice day shopping or sightseeing. For the kids there is a lot to play with, a slide and sandpit in the garden, lots of space and lots of to...</td>\n",
              "    </tr>\n",
              "    <tr>\n",
              "      <th>1462</th>\n",
              "      <td>Natural charm in Jordaan</td>\n",
              "      <td>My home is definitely THE PLACE to have a great time! Lovely neighborhood, elegant apartment, and me doing my best to make your stay memorable and give you tips for cool spots in town. It will be hard to leave!&lt;br /&gt;&lt;br /&gt;&lt;b&gt;The space&lt;/b&gt;&lt;br /&gt;After a year of hard work I finally finished the ren...</td>\n",
              "    </tr>\n",
              "    <tr>\n",
              "      <th>17531</th>\n",
              "      <td>The Weber Collection - Luxurieus Design Studio - 1</td>\n",
              "      <td>Serviced Studio suites in the city centre of Amsterdam. We aim to deliver a home away from home experience topped with the best service and hospitality. Great design and the best location in Amsterdam!&lt;br /&gt;&lt;br /&gt;&lt;b&gt;The space&lt;/b&gt;&lt;br /&gt;Studio, sleek design, 24hour checkin and the best location in...</td>\n",
              "    </tr>\n",
              "    <tr>\n",
              "      <th>10709</th>\n",
              "      <td>Amsterdam 170m2 family house</td>\n",
              "      <td>The house is spacious and light and close to both the city centre as well as the countryside. Our house is located in Amsterdam (5km to the Central Station - 15 min by bike, public transport (bus) at 2 min walking, metro in neighbourhood,free parking space in front of the house).&lt;br /&gt;&lt;br /&gt;&lt;b&gt;T...</td>\n",
              "    </tr>\n",
              "    <tr>\n",
              "      <th>7896</th>\n",
              "      <td>cosy room with private TV in stunning apartment</td>\n",
              "      <td>After a fascinating day in the city centre, which is only a 15-20 minutes distance by metro 54 direct , you can go for a relaxed walk in the beautiful area. Or maybe you would like to go swimming in the beautiful lake, which is part of the cozy park nearby.  While being able to enjoy all Amsterd...</td>\n",
              "    </tr>\n",
              "    <tr>\n",
              "      <th>1457</th>\n",
              "      <td>Most Luxorious apartment in A'dam</td>\n",
              "      <td>Do you like to stay at a place which is cosy, trendy, flashy, catchy, entertaining, warm and gezellig situated in Amsterdam. Well don't look further, this is the place to be.&lt;br /&gt;Situated in Amsterdam west, 15 min from Schiphol airport.&lt;br /&gt;&lt;br /&gt;&lt;b&gt;The space&lt;/b&gt;&lt;br /&gt;Floor heating in the whol...</td>\n",
              "    </tr>\n",
              "    <tr>\n",
              "      <th>8760</th>\n",
              "      <td>Modern 3 bedroom apartment in Amsterdam</td>\n",
              "      <td>Nice modern apartment with fully equipped kitchen, living room, 3 bedrooms (from wich 2 available for guests), private bathroom, separate toilet, laundy room, balcony, big living room. Supermarket, restaurants, hairdresser, shops, etc, close by on the same street. High speed internet (150Mbit/s)...</td>\n",
              "    </tr>\n",
              "    <tr>\n",
              "      <th>15066</th>\n",
              "      <td>Spacious and comfortable family home</td>\n",
              "      <td>Space and green in a nice ‘village feeling’ neighbourhood just 10 minutes from the city centre, we love it here! &lt;br /&gt;&lt;br /&gt;We live her with our 3 kids so the house is big enough and well equipped for families. Lots of toys, a nice garden (back and front) and a playground just next to the house...</td>\n",
              "    </tr>\n",
              "  </tbody>\n",
              "</table>\n",
              "</div>"
            ],
            "text/plain": [
              "                                                     name                                                                                                                                                                                                                                                                                                  description\n",
              "16055                                        Anna's house                                                                                                                                                                                                                                                                                                          NaN\n",
              "16239    Amazing private roof terrace | 360 views of city  A unique and bright two-bedroom apartment centrally located in ‘De Pijp’ (close to museum district, canals and RAI conference centers). The sizeable (55 sqm) private roof terrace offers an amazing view of the entire city of Amsterdam; lovely for spring and summer days. De Pijp area is filled wit...\n",
              "11529        4 bedroom house with garden near city center  120m2 4 bedroom familyhouse in the suburbs of Amsterdam. The interior is industrial but cosy. A big couch, a garden or a bathtub where you can relax after a nice day shopping or sightseeing. For the kids there is a lot to play with, a slide and sandpit in the garden, lots of space and lots of to...\n",
              "1462                             Natural charm in Jordaan  My home is definitely THE PLACE to have a great time! Lovely neighborhood, elegant apartment, and me doing my best to make your stay memorable and give you tips for cool spots in town. It will be hard to leave!<br /><br /><b>The space</b><br />After a year of hard work I finally finished the ren...\n",
              "17531  The Weber Collection - Luxurieus Design Studio - 1  Serviced Studio suites in the city centre of Amsterdam. We aim to deliver a home away from home experience topped with the best service and hospitality. Great design and the best location in Amsterdam!<br /><br /><b>The space</b><br />Studio, sleek design, 24hour checkin and the best location in...\n",
              "10709                        Amsterdam 170m2 family house  The house is spacious and light and close to both the city centre as well as the countryside. Our house is located in Amsterdam (5km to the Central Station - 15 min by bike, public transport (bus) at 2 min walking, metro in neighbourhood,free parking space in front of the house).<br /><br /><b>T...\n",
              "7896      cosy room with private TV in stunning apartment  After a fascinating day in the city centre, which is only a 15-20 minutes distance by metro 54 direct , you can go for a relaxed walk in the beautiful area. Or maybe you would like to go swimming in the beautiful lake, which is part of the cozy park nearby.  While being able to enjoy all Amsterd...\n",
              "1457                    Most Luxorious apartment in A'dam  Do you like to stay at a place which is cosy, trendy, flashy, catchy, entertaining, warm and gezellig situated in Amsterdam. Well don't look further, this is the place to be.<br />Situated in Amsterdam west, 15 min from Schiphol airport.<br /><br /><b>The space</b><br />Floor heating in the whol...\n",
              "8760              Modern 3 bedroom apartment in Amsterdam  Nice modern apartment with fully equipped kitchen, living room, 3 bedrooms (from wich 2 available for guests), private bathroom, separate toilet, laundy room, balcony, big living room. Supermarket, restaurants, hairdresser, shops, etc, close by on the same street. High speed internet (150Mbit/s)...\n",
              "15066                Spacious and comfortable family home  Space and green in a nice ‘village feeling’ neighbourhood just 10 minutes from the city centre, we love it here! <br /><br />We live her with our 3 kids so the house is big enough and well equipped for families. Lots of toys, a nice garden (back and front) and a playground just next to the house..."
            ]
          },
          "metadata": {
            "tags": []
          },
          "execution_count": 265
        }
      ]
    },
    {
      "cell_type": "markdown",
      "metadata": {
        "id": "wLUGPlrDAvnH"
      },
      "source": [
        "* Going to remove the `name` feature because the description feature seems to be a better feature to use for this project in the predictive model after doing preprocessing with NLP.\r\n",
        "\r\n",
        "* Along with the `name` feature, going to drop other features that are not going to be useful. \r\n",
        "\r\n",
        "* Dropping `['id', 'listing_url', 'last_scraped', 'name', 'neighborhood_overview', 'picture_url']`"
      ]
    },
    {
      "cell_type": "markdown",
      "metadata": {
        "id": "t3TXblnCGMz8"
      },
      "source": [
        "##### Drop Features"
      ]
    },
    {
      "cell_type": "code",
      "metadata": {
        "colab": {
          "base_uri": "https://localhost:8080/",
          "height": 1000
        },
        "id": "ArxkQrlCehCP",
        "outputId": "dd217082-2174-4c35-e9e0-199ad5eadda0"
      },
      "source": [
        "# Drop feature that are not going to be useful\r\n",
        "cols_to_drop = ['id', 'listing_url', 'last_scraped', 'name', \r\n",
        "                'neighborhood_overview', 'picture_url']\r\n",
        "\r\n",
        "amsterdam_list = amsterdam_detailed_listing.drop(columns=cols_to_drop)\r\n",
        "\r\n",
        "print(amsterdam_list.shape)\r\n",
        "amsterdam_list.head()"
      ],
      "execution_count": 266,
      "outputs": [
        {
          "output_type": "stream",
          "text": [
            "(18291, 33)\n"
          ],
          "name": "stdout"
        },
        {
          "output_type": "execute_result",
          "data": {
            "text/html": [
              "<div>\n",
              "<style scoped>\n",
              "    .dataframe tbody tr th:only-of-type {\n",
              "        vertical-align: middle;\n",
              "    }\n",
              "\n",
              "    .dataframe tbody tr th {\n",
              "        vertical-align: top;\n",
              "    }\n",
              "\n",
              "    .dataframe thead th {\n",
              "        text-align: right;\n",
              "    }\n",
              "</style>\n",
              "<table border=\"1\" class=\"dataframe\">\n",
              "  <thead>\n",
              "    <tr style=\"text-align: right;\">\n",
              "      <th></th>\n",
              "      <th>description</th>\n",
              "      <th>host_since</th>\n",
              "      <th>superhost</th>\n",
              "      <th>total_listings</th>\n",
              "      <th>profile_pic</th>\n",
              "      <th>verified_id</th>\n",
              "      <th>neighbourhood_cleansed</th>\n",
              "      <th>latitude</th>\n",
              "      <th>longitude</th>\n",
              "      <th>property_type</th>\n",
              "      <th>room_type</th>\n",
              "      <th>accommodates</th>\n",
              "      <th>bathrooms_text</th>\n",
              "      <th>bedrooms</th>\n",
              "      <th>beds</th>\n",
              "      <th>amenities</th>\n",
              "      <th>price</th>\n",
              "      <th>minimum_nights</th>\n",
              "      <th>maximum_nights</th>\n",
              "      <th>available</th>\n",
              "      <th>avail_next_30_days</th>\n",
              "      <th>avail_next_60_days</th>\n",
              "      <th>avail_next_90_days</th>\n",
              "      <th>avail_next_365_days</th>\n",
              "      <th>number_of_reviews</th>\n",
              "      <th>avg_review_score</th>\n",
              "      <th>accuracy_score</th>\n",
              "      <th>cleanliness_score</th>\n",
              "      <th>checkin_score</th>\n",
              "      <th>communication_score</th>\n",
              "      <th>location_score</th>\n",
              "      <th>value_score</th>\n",
              "      <th>instant_bookable</th>\n",
              "    </tr>\n",
              "  </thead>\n",
              "  <tbody>\n",
              "    <tr>\n",
              "      <th>0</th>\n",
              "      <td>Quiet Garden View Room &amp; Super Fast WiFi&lt;br /&gt;&lt;br /&gt;&lt;b&gt;The space&lt;/b&gt;&lt;br /&gt;I'm renting a bedroom (room overlooking the garden) in my apartment in Amsterdam, &lt;br /&gt;&lt;br /&gt;The room is located to the east of the city centre in a quiet, typical Amsterdam neighbourhood the \"Indische Buurt\". Amsterdam’s...</td>\n",
              "      <td>2008-09-24</td>\n",
              "      <td>True</td>\n",
              "      <td>1.0</td>\n",
              "      <td>True</td>\n",
              "      <td>True</td>\n",
              "      <td>Oostelijk Havengebied - Indische Buurt</td>\n",
              "      <td>52.36575</td>\n",
              "      <td>4.94142</td>\n",
              "      <td>Private room in apartment</td>\n",
              "      <td>Private room</td>\n",
              "      <td>2</td>\n",
              "      <td>1.5 shared baths</td>\n",
              "      <td>1.0</td>\n",
              "      <td>2.0</td>\n",
              "      <td>[\"Hangers\", \"Coffee maker\", \"Paid parking on premises\", \"Long term stays allowed\", \"First aid kit\", \"Bed linens\", \"Lock on bedroom door\", \"Private entrance\", \"Carbon monoxide alarm\", \"Dedicated workspace\", \"Host greets you\", \"Single level home\", \"Extra pillows and blankets\", \"Hot water\", \"Paid p...</td>\n",
              "      <td>$59.00</td>\n",
              "      <td>3</td>\n",
              "      <td>1125</td>\n",
              "      <td>True</td>\n",
              "      <td>29</td>\n",
              "      <td>46</td>\n",
              "      <td>60</td>\n",
              "      <td>139</td>\n",
              "      <td>278</td>\n",
              "      <td>98.0</td>\n",
              "      <td>10.0</td>\n",
              "      <td>10.0</td>\n",
              "      <td>10.0</td>\n",
              "      <td>10.0</td>\n",
              "      <td>9.0</td>\n",
              "      <td>10.0</td>\n",
              "      <td>True</td>\n",
              "    </tr>\n",
              "    <tr>\n",
              "      <th>1</th>\n",
              "      <td>17th century Dutch townhouse in the heart of the city. no public transport needed! Located a stones throw from Rembrandt Square, Dam Square, Leidse Square and Flower Market. Walking distance from Central Station.&lt;br /&gt;Comfortable, cosy, lockable studio with comfortable bed and with private bathr...</td>\n",
              "      <td>2009-12-02</td>\n",
              "      <td>False</td>\n",
              "      <td>2.0</td>\n",
              "      <td>True</td>\n",
              "      <td>True</td>\n",
              "      <td>Centrum-Oost</td>\n",
              "      <td>52.36509</td>\n",
              "      <td>4.89354</td>\n",
              "      <td>Private room in townhouse</td>\n",
              "      <td>Private room</td>\n",
              "      <td>2</td>\n",
              "      <td>1 private bath</td>\n",
              "      <td>1.0</td>\n",
              "      <td>1.0</td>\n",
              "      <td>[\"Essentials\", \"Bed linens\", \"Hot water\", \"Hangers\", \"Smoke alarm\", \"Heating\", \"Paid parking off premises\", \"Free street parking\", \"Refrigerator\", \"Carbon monoxide alarm\", \"Dedicated workspace\", \"Host greets you\", \"TV\", \"Wifi\", \"Hair dryer\", \"Long term stays allowed\", \"Fire extinguisher\"]</td>\n",
              "      <td>$129.00</td>\n",
              "      <td>1</td>\n",
              "      <td>365</td>\n",
              "      <td>True</td>\n",
              "      <td>0</td>\n",
              "      <td>0</td>\n",
              "      <td>0</td>\n",
              "      <td>0</td>\n",
              "      <td>339</td>\n",
              "      <td>89.0</td>\n",
              "      <td>10.0</td>\n",
              "      <td>10.0</td>\n",
              "      <td>10.0</td>\n",
              "      <td>10.0</td>\n",
              "      <td>10.0</td>\n",
              "      <td>9.0</td>\n",
              "      <td>True</td>\n",
              "    </tr>\n",
              "    <tr>\n",
              "      <th>2</th>\n",
              "      <td>Lovely apt in Centre ( lift &amp; fireplace) near Jordaan&lt;br /&gt;&lt;br /&gt;&lt;b&gt;The space&lt;/b&gt;&lt;br /&gt;This nicely furnished, newly renovated apt  is very sunny, and spacious with 8 windows. The appliances are fairly new. There are two flat screen TVs, washing machine, dryer, dishwasher, laptop computer, Wi-fi,...</td>\n",
              "      <td>2009-11-20</td>\n",
              "      <td>True</td>\n",
              "      <td>2.0</td>\n",
              "      <td>True</td>\n",
              "      <td>False</td>\n",
              "      <td>Centrum-West</td>\n",
              "      <td>52.37297</td>\n",
              "      <td>4.88339</td>\n",
              "      <td>Entire apartment</td>\n",
              "      <td>Entire home/apt</td>\n",
              "      <td>3</td>\n",
              "      <td>1 bath</td>\n",
              "      <td>1.0</td>\n",
              "      <td>1.0</td>\n",
              "      <td>[\"Hangers\", \"Elevator\", \"Cooking basics\", \"Dishes and silverware\", \"Oven\", \"Coffee maker\", \"Long term stays allowed\", \"Bed linens\", \"Dishwasher\", \"Dedicated workspace\", \"Kitchen\", \"Extra pillows and blankets\", \"Hot water\", \"Heating\", \"TV\", \"Cable TV\", \"Hair dryer\", \"Microwave\", \"Essentials\", \"Sm...</td>\n",
              "      <td>$125.00</td>\n",
              "      <td>14</td>\n",
              "      <td>180</td>\n",
              "      <td>True</td>\n",
              "      <td>6</td>\n",
              "      <td>36</td>\n",
              "      <td>66</td>\n",
              "      <td>251</td>\n",
              "      <td>5</td>\n",
              "      <td>100.0</td>\n",
              "      <td>10.0</td>\n",
              "      <td>10.0</td>\n",
              "      <td>10.0</td>\n",
              "      <td>10.0</td>\n",
              "      <td>10.0</td>\n",
              "      <td>10.0</td>\n",
              "      <td>False</td>\n",
              "    </tr>\n",
              "    <tr>\n",
              "      <th>3</th>\n",
              "      <td>Stylish and romantic houseboat on fantastic historic location with breathtaking view.  Wheelhouse, deckhouse and captains room. Central, quiet. Great breakfast, 2 vanMoof design bikes and a Canadian Canoe are included. Just read the reviews on tripadvisor for instance!&lt;br /&gt;&lt;br /&gt;&lt;b&gt;The space&lt;/b...</td>\n",
              "      <td>2010-03-23</td>\n",
              "      <td>True</td>\n",
              "      <td>1.0</td>\n",
              "      <td>True</td>\n",
              "      <td>True</td>\n",
              "      <td>Centrum-West</td>\n",
              "      <td>52.38761</td>\n",
              "      <td>4.89188</td>\n",
              "      <td>Private room in houseboat</td>\n",
              "      <td>Private room</td>\n",
              "      <td>2</td>\n",
              "      <td>1.5 baths</td>\n",
              "      <td>1.0</td>\n",
              "      <td>1.0</td>\n",
              "      <td>[\"Patio or balcony\", \"Hangers\", \"Dishes and silverware\", \"Luggage dropoff allowed\", \"Breakfast\", \"Coffee maker\", \"Lake access\", \"Long term stays allowed\", \"Private entrance\", \"Waterfront\", \"Carbon monoxide alarm\", \"Dedicated workspace\", \"Hot water\", \"Heating\", \"TV\", \"Hair dryer\", \"Essentials\", \"...</td>\n",
              "      <td>$125.00</td>\n",
              "      <td>2</td>\n",
              "      <td>730</td>\n",
              "      <td>True</td>\n",
              "      <td>27</td>\n",
              "      <td>55</td>\n",
              "      <td>79</td>\n",
              "      <td>136</td>\n",
              "      <td>219</td>\n",
              "      <td>99.0</td>\n",
              "      <td>10.0</td>\n",
              "      <td>10.0</td>\n",
              "      <td>10.0</td>\n",
              "      <td>10.0</td>\n",
              "      <td>10.0</td>\n",
              "      <td>10.0</td>\n",
              "      <td>True</td>\n",
              "    </tr>\n",
              "    <tr>\n",
              "      <th>4</th>\n",
              "      <td>&lt;b&gt;The space&lt;/b&gt;&lt;br /&gt;In a monumental house right in the center of Amsterdam, we offer two rooms (one single room and one double room) to visitors who want to enjoy the comfort of a home-like accommodation, plus being in the middle of the historic city center, close to all important museums, sho...</td>\n",
              "      <td>2010-05-13</td>\n",
              "      <td>True</td>\n",
              "      <td>2.0</td>\n",
              "      <td>True</td>\n",
              "      <td>True</td>\n",
              "      <td>Centrum-Oost</td>\n",
              "      <td>52.36610</td>\n",
              "      <td>4.88953</td>\n",
              "      <td>Private room in apartment</td>\n",
              "      <td>Private room</td>\n",
              "      <td>2</td>\n",
              "      <td>1 shared bath</td>\n",
              "      <td>1.0</td>\n",
              "      <td>1.0</td>\n",
              "      <td>[\"Hot water\", \"Essentials\", \"Smoke alarm\", \"Hangers\", \"Heating\", \"Lock on bedroom door\", \"Private entrance\", \"Refrigerator\", \"Carbon monoxide alarm\", \"Host greets you\", \"Shampoo\", \"Wifi\", \"Hair dryer\", \"Long term stays allowed\", \"Fire extinguisher\", \"Dryer\"]</td>\n",
              "      <td>$75.00</td>\n",
              "      <td>2</td>\n",
              "      <td>1825</td>\n",
              "      <td>True</td>\n",
              "      <td>30</td>\n",
              "      <td>53</td>\n",
              "      <td>78</td>\n",
              "      <td>338</td>\n",
              "      <td>336</td>\n",
              "      <td>97.0</td>\n",
              "      <td>10.0</td>\n",
              "      <td>10.0</td>\n",
              "      <td>10.0</td>\n",
              "      <td>10.0</td>\n",
              "      <td>10.0</td>\n",
              "      <td>10.0</td>\n",
              "      <td>False</td>\n",
              "    </tr>\n",
              "  </tbody>\n",
              "</table>\n",
              "</div>"
            ],
            "text/plain": [
              "                                                                                                                                                                                                                                                                                                   description  ... instant_bookable\n",
              "0  Quiet Garden View Room & Super Fast WiFi<br /><br /><b>The space</b><br />I'm renting a bedroom (room overlooking the garden) in my apartment in Amsterdam, <br /><br />The room is located to the east of the city centre in a quiet, typical Amsterdam neighbourhood the \"Indische Buurt\". Amsterdam’s...  ...             True\n",
              "1  17th century Dutch townhouse in the heart of the city. no public transport needed! Located a stones throw from Rembrandt Square, Dam Square, Leidse Square and Flower Market. Walking distance from Central Station.<br />Comfortable, cosy, lockable studio with comfortable bed and with private bathr...  ...             True\n",
              "2  Lovely apt in Centre ( lift & fireplace) near Jordaan<br /><br /><b>The space</b><br />This nicely furnished, newly renovated apt  is very sunny, and spacious with 8 windows. The appliances are fairly new. There are two flat screen TVs, washing machine, dryer, dishwasher, laptop computer, Wi-fi,...  ...            False\n",
              "3  Stylish and romantic houseboat on fantastic historic location with breathtaking view.  Wheelhouse, deckhouse and captains room. Central, quiet. Great breakfast, 2 vanMoof design bikes and a Canadian Canoe are included. Just read the reviews on tripadvisor for instance!<br /><br /><b>The space</b...  ...             True\n",
              "4  <b>The space</b><br />In a monumental house right in the center of Amsterdam, we offer two rooms (one single room and one double room) to visitors who want to enjoy the comfort of a home-like accommodation, plus being in the middle of the historic city center, close to all important museums, sho...  ...            False\n",
              "\n",
              "[5 rows x 33 columns]"
            ]
          },
          "metadata": {
            "tags": []
          },
          "execution_count": 266
        }
      ]
    },
    {
      "cell_type": "markdown",
      "metadata": {
        "id": "4JE3FKPYGRLo"
      },
      "source": [
        "##### Rename Featrues"
      ]
    },
    {
      "cell_type": "code",
      "metadata": {
        "colab": {
          "base_uri": "https://localhost:8080/"
        },
        "id": "MFvFRY-teg__",
        "outputId": "1434c20a-b369-45ae-eb25-52cf2f99c4ab"
      },
      "source": [
        "cols_to_rename = {'neighbourhood_cleansed': 'neighborhood', \r\n",
        "                  'bathrooms_text': 'bathrooms', \r\n",
        "                  'beds': 'num_of_beds', \r\n",
        "                  'minimum_nights': 'min_nights', \r\n",
        "                  'maximum_nights': 'max_nights',\r\n",
        "                  'number_of_reviews': 'num_of_reviews'}\r\n",
        "\r\n",
        "amsterdam_list = amsterdam_list.rename(columns=cols_to_rename)\r\n",
        "\r\n",
        "amsterdam_list.columns"
      ],
      "execution_count": 267,
      "outputs": [
        {
          "output_type": "execute_result",
          "data": {
            "text/plain": [
              "Index(['description', 'host_since', 'superhost', 'total_listings',\n",
              "       'profile_pic', 'verified_id', 'neighborhood', 'latitude', 'longitude',\n",
              "       'property_type', 'room_type', 'accommodates', 'bathrooms', 'bedrooms',\n",
              "       'num_of_beds', 'amenities', 'price', 'min_nights', 'max_nights',\n",
              "       'available', 'avail_next_30_days', 'avail_next_60_days',\n",
              "       'avail_next_90_days', 'avail_next_365_days', 'num_of_reviews',\n",
              "       'avg_review_score', 'accuracy_score', 'cleanliness_score',\n",
              "       'checkin_score', 'communication_score', 'location_score', 'value_score',\n",
              "       'instant_bookable'],\n",
              "      dtype='object')"
            ]
          },
          "metadata": {
            "tags": []
          },
          "execution_count": 267
        }
      ]
    },
    {
      "cell_type": "markdown",
      "metadata": {
        "id": "5Drl-ul8Kdbx"
      },
      "source": [
        "##### Data Types"
      ]
    },
    {
      "cell_type": "code",
      "metadata": {
        "colab": {
          "base_uri": "https://localhost:8080/"
        },
        "id": "vDwMKm3seg4S",
        "outputId": "fd689cfd-3341-4a58-c295-6e70f77c8764"
      },
      "source": [
        "# Look at how each feature is currently typed\r\n",
        "amsterdam_list.dtypes"
      ],
      "execution_count": 268,
      "outputs": [
        {
          "output_type": "execute_result",
          "data": {
            "text/plain": [
              "description             object\n",
              "host_since              object\n",
              "superhost                 bool\n",
              "total_listings         float64\n",
              "profile_pic               bool\n",
              "verified_id               bool\n",
              "neighborhood            object\n",
              "latitude               float64\n",
              "longitude              float64\n",
              "property_type           object\n",
              "room_type               object\n",
              "accommodates             int64\n",
              "bathrooms               object\n",
              "bedrooms               float64\n",
              "num_of_beds            float64\n",
              "amenities               object\n",
              "price                   object\n",
              "min_nights               int64\n",
              "max_nights               int64\n",
              "available                 bool\n",
              "avail_next_30_days       int64\n",
              "avail_next_60_days       int64\n",
              "avail_next_90_days       int64\n",
              "avail_next_365_days      int64\n",
              "num_of_reviews           int64\n",
              "avg_review_score       float64\n",
              "accuracy_score         float64\n",
              "cleanliness_score      float64\n",
              "checkin_score          float64\n",
              "communication_score    float64\n",
              "location_score         float64\n",
              "value_score            float64\n",
              "instant_bookable          bool\n",
              "dtype: object"
            ]
          },
          "metadata": {
            "tags": []
          },
          "execution_count": 268
        }
      ]
    },
    {
      "cell_type": "markdown",
      "metadata": {
        "id": "HWVoOvXnkqvd"
      },
      "source": [
        "* Need to change data type of `host_since` to datetime data type"
      ]
    },
    {
      "cell_type": "code",
      "metadata": {
        "colab": {
          "base_uri": "https://localhost:8080/"
        },
        "id": "6lEK2dDpKdCS",
        "outputId": "2b0e7efd-6789-4471-8b79-fef2c2012cf1"
      },
      "source": [
        "# Change the data type of `host_since` feature to datetime\r\n",
        "amsterdam_list['host_since'] = pd.to_datetime(amsterdam_list['host_since'])\r\n",
        "\r\n",
        "amsterdam_list.info()"
      ],
      "execution_count": 269,
      "outputs": [
        {
          "output_type": "stream",
          "text": [
            "<class 'pandas.core.frame.DataFrame'>\n",
            "RangeIndex: 18291 entries, 0 to 18290\n",
            "Data columns (total 33 columns):\n",
            " #   Column               Non-Null Count  Dtype         \n",
            "---  ------               --------------  -----         \n",
            " 0   description          17994 non-null  object        \n",
            " 1   host_since           18228 non-null  datetime64[ns]\n",
            " 2   superhost            18291 non-null  bool          \n",
            " 3   total_listings       18228 non-null  float64       \n",
            " 4   profile_pic          18291 non-null  bool          \n",
            " 5   verified_id          18291 non-null  bool          \n",
            " 6   neighborhood         18291 non-null  object        \n",
            " 7   latitude             18291 non-null  float64       \n",
            " 8   longitude            18291 non-null  float64       \n",
            " 9   property_type        18291 non-null  object        \n",
            " 10  room_type            18291 non-null  object        \n",
            " 11  accommodates         18291 non-null  int64         \n",
            " 12  bathrooms            18269 non-null  object        \n",
            " 13  bedrooms             17294 non-null  float64       \n",
            " 14  num_of_beds          18186 non-null  float64       \n",
            " 15  amenities            18291 non-null  object        \n",
            " 16  price                18291 non-null  object        \n",
            " 17  min_nights           18291 non-null  int64         \n",
            " 18  max_nights           18291 non-null  int64         \n",
            " 19  available            18291 non-null  bool          \n",
            " 20  avail_next_30_days   18291 non-null  int64         \n",
            " 21  avail_next_60_days   18291 non-null  int64         \n",
            " 22  avail_next_90_days   18291 non-null  int64         \n",
            " 23  avail_next_365_days  18291 non-null  int64         \n",
            " 24  num_of_reviews       18291 non-null  int64         \n",
            " 25  avg_review_score     15659 non-null  float64       \n",
            " 26  accuracy_score       15649 non-null  float64       \n",
            " 27  cleanliness_score    15649 non-null  float64       \n",
            " 28  checkin_score        15641 non-null  float64       \n",
            " 29  communication_score  15648 non-null  float64       \n",
            " 30  location_score       15643 non-null  float64       \n",
            " 31  value_score          15643 non-null  float64       \n",
            " 32  instant_bookable     18291 non-null  bool          \n",
            "dtypes: bool(5), datetime64[ns](1), float64(12), int64(8), object(7)\n",
            "memory usage: 4.0+ MB\n"
          ],
          "name": "stdout"
        }
      ]
    },
    {
      "cell_type": "markdown",
      "metadata": {
        "id": "GhnEBnnEk3J1"
      },
      "source": [
        "* `total_listings` should be a `int` data type but it is a `float` data type. Need to correct this."
      ]
    },
    {
      "cell_type": "code",
      "metadata": {
        "colab": {
          "base_uri": "https://localhost:8080/"
        },
        "id": "CFAz0FSZs1LJ",
        "outputId": "55135629-c8dd-4fc5-b1ae-5adf904c34e1"
      },
      "source": [
        "amsterdam_list['total_listings'].value_counts()"
      ],
      "execution_count": 270,
      "outputs": [
        {
          "output_type": "execute_result",
          "data": {
            "text/plain": [
              "1.0       12365\n",
              "2.0        2214\n",
              "0.0        1782\n",
              "3.0         588\n",
              "4.0         220\n",
              "5.0         151\n",
              "8.0          96\n",
              "98.0         85\n",
              "6.0          85\n",
              "85.0         81\n",
              "7.0          73\n",
              "9.0          43\n",
              "13.0         39\n",
              "41.0         38\n",
              "10.0         38\n",
              "12.0         35\n",
              "15.0         32\n",
              "43.0         31\n",
              "19.0         30\n",
              "18.0         28\n",
              "21.0         27\n",
              "22.0         24\n",
              "20.0         20\n",
              "30.0         19\n",
              "16.0         18\n",
              "17.0         15\n",
              "11.0         13\n",
              "39.0          6\n",
              "60.0          6\n",
              "29.0          5\n",
              "35.0          5\n",
              "27.0          3\n",
              "136.0         3\n",
              "23.0          2\n",
              "1324.0        2\n",
              "567.0         2\n",
              "512.0         1\n",
              "31.0          1\n",
              "7235.0        1\n",
              "45.0          1\n",
              "Name: total_listings, dtype: int64"
            ]
          },
          "metadata": {
            "tags": []
          },
          "execution_count": 270
        }
      ]
    },
    {
      "cell_type": "code",
      "metadata": {
        "colab": {
          "base_uri": "https://localhost:8080/"
        },
        "id": "pVmlGsOts1GR",
        "outputId": "b3539212-8b29-474d-a2d2-4e1ea7f95d8f"
      },
      "source": [
        "# There are null values that are causing this to be a float type,\r\n",
        "#   need to change null values to 0 in order to make this an int type\r\n",
        "amsterdam_list['total_listings'] = amsterdam_list['total_listings'].replace(\r\n",
        "    np.nan, 0\r\n",
        ").astype(int)\r\n",
        "\r\n",
        "amsterdam_list.info()"
      ],
      "execution_count": 271,
      "outputs": [
        {
          "output_type": "stream",
          "text": [
            "<class 'pandas.core.frame.DataFrame'>\n",
            "RangeIndex: 18291 entries, 0 to 18290\n",
            "Data columns (total 33 columns):\n",
            " #   Column               Non-Null Count  Dtype         \n",
            "---  ------               --------------  -----         \n",
            " 0   description          17994 non-null  object        \n",
            " 1   host_since           18228 non-null  datetime64[ns]\n",
            " 2   superhost            18291 non-null  bool          \n",
            " 3   total_listings       18291 non-null  int64         \n",
            " 4   profile_pic          18291 non-null  bool          \n",
            " 5   verified_id          18291 non-null  bool          \n",
            " 6   neighborhood         18291 non-null  object        \n",
            " 7   latitude             18291 non-null  float64       \n",
            " 8   longitude            18291 non-null  float64       \n",
            " 9   property_type        18291 non-null  object        \n",
            " 10  room_type            18291 non-null  object        \n",
            " 11  accommodates         18291 non-null  int64         \n",
            " 12  bathrooms            18269 non-null  object        \n",
            " 13  bedrooms             17294 non-null  float64       \n",
            " 14  num_of_beds          18186 non-null  float64       \n",
            " 15  amenities            18291 non-null  object        \n",
            " 16  price                18291 non-null  object        \n",
            " 17  min_nights           18291 non-null  int64         \n",
            " 18  max_nights           18291 non-null  int64         \n",
            " 19  available            18291 non-null  bool          \n",
            " 20  avail_next_30_days   18291 non-null  int64         \n",
            " 21  avail_next_60_days   18291 non-null  int64         \n",
            " 22  avail_next_90_days   18291 non-null  int64         \n",
            " 23  avail_next_365_days  18291 non-null  int64         \n",
            " 24  num_of_reviews       18291 non-null  int64         \n",
            " 25  avg_review_score     15659 non-null  float64       \n",
            " 26  accuracy_score       15649 non-null  float64       \n",
            " 27  cleanliness_score    15649 non-null  float64       \n",
            " 28  checkin_score        15641 non-null  float64       \n",
            " 29  communication_score  15648 non-null  float64       \n",
            " 30  location_score       15643 non-null  float64       \n",
            " 31  value_score          15643 non-null  float64       \n",
            " 32  instant_bookable     18291 non-null  bool          \n",
            "dtypes: bool(5), datetime64[ns](1), float64(11), int64(9), object(7)\n",
            "memory usage: 4.0+ MB\n"
          ],
          "name": "stdout"
        }
      ]
    },
    {
      "cell_type": "markdown",
      "metadata": {
        "id": "nWWZeDRolNwi"
      },
      "source": [
        "* Why is the `price` feature an `object` data type when it should be a `int` data type?"
      ]
    },
    {
      "cell_type": "code",
      "metadata": {
        "colab": {
          "base_uri": "https://localhost:8080/"
        },
        "id": "z0m2M-Ur9OAD",
        "outputId": "4a42967e-67b5-4ad9-e578-b783e9126fbc"
      },
      "source": [
        "# Look at the values in the price feature to find out why it is typed as \r\n",
        "#   an object and not a float\r\n",
        "amsterdam_list.price.value_counts()"
      ],
      "execution_count": 272,
      "outputs": [
        {
          "output_type": "execute_result",
          "data": {
            "text/plain": [
              "$150.00    980\n",
              "$100.00    839\n",
              "$120.00    661\n",
              "$200.00    597\n",
              "$125.00    517\n",
              "          ... \n",
              "$522.00      1\n",
              "$337.00      1\n",
              "$368.00      1\n",
              "$456.00      1\n",
              "$334.00      1\n",
              "Name: price, Length: 502, dtype: int64"
            ]
          },
          "metadata": {
            "tags": []
          },
          "execution_count": 272
        }
      ]
    },
    {
      "cell_type": "code",
      "metadata": {
        "colab": {
          "base_uri": "https://localhost:8080/"
        },
        "id": "JrASyOVh9N80",
        "outputId": "e0aef973-d349-4a0d-eec0-569d7066580c"
      },
      "source": [
        "# Need to remove the $ and the , from the price values and type as a float\r\n",
        "amsterdam_list['price'] = amsterdam_list['price'].map(\r\n",
        "    lambda x: x.lstrip('$').replace(',', '')).astype(float)\r\n",
        "\r\n",
        "amsterdam_list['price'].dtype"
      ],
      "execution_count": 273,
      "outputs": [
        {
          "output_type": "execute_result",
          "data": {
            "text/plain": [
              "dtype('float64')"
            ]
          },
          "metadata": {
            "tags": []
          },
          "execution_count": 273
        }
      ]
    },
    {
      "cell_type": "markdown",
      "metadata": {
        "id": "rUce6_uBlfPh"
      },
      "source": [
        "* Need to add a new feature `shared_bath` for the ones that list as a shared bathroom. \r\n",
        "\r\n",
        "* Then clean the rest of the values so that there is only numerical data remaining."
      ]
    },
    {
      "cell_type": "code",
      "metadata": {
        "colab": {
          "base_uri": "https://localhost:8080/"
        },
        "id": "6h9z3w0T9N3b",
        "outputId": "cb4be371-047a-4dac-b51c-4243fa16a943"
      },
      "source": [
        "# Look at the values in the bathrooms feature to find out why it is typed as\r\n",
        "#   an object and not a float\r\n",
        "amsterdam_list['bathrooms'].value_counts()"
      ],
      "execution_count": 274,
      "outputs": [
        {
          "output_type": "execute_result",
          "data": {
            "text/plain": [
              "1 bath               10677\n",
              "1.5 baths             3473\n",
              "1 shared bath         1210\n",
              "1 private bath        1043\n",
              "2 baths                802\n",
              "1.5 shared baths       466\n",
              "2.5 baths              239\n",
              "3 baths                 96\n",
              "3.5 baths               43\n",
              "Half-bath               39\n",
              "0 baths                 38\n",
              "Shared half-bath        32\n",
              "2 shared baths          29\n",
              "0 shared baths          15\n",
              "4 baths                 13\n",
              "Private half-bath       11\n",
              "3 shared baths          10\n",
              "3.5 shared baths         8\n",
              "2.5 shared baths         6\n",
              "4 shared baths           5\n",
              "4.5 baths                4\n",
              "8 baths                  3\n",
              "6 baths                  2\n",
              "5 baths                  2\n",
              "12 baths                 1\n",
              "5.5 baths                1\n",
              "13 baths                 1\n",
              "Name: bathrooms, dtype: int64"
            ]
          },
          "metadata": {
            "tags": []
          },
          "execution_count": 274
        }
      ]
    },
    {
      "cell_type": "code",
      "metadata": {
        "colab": {
          "base_uri": "https://localhost:8080/"
        },
        "id": "AcEhR4vgP39V",
        "outputId": "a6f6228e-fdff-460f-a909-2b4e09740a11"
      },
      "source": [
        "# Need to remove \"shared\" from the values but want to still be able to use this\r\n",
        "#   as a feature (if shared or not), so add it as a new feature with bool values\r\n",
        "amsterdam_list['shared_bath'] = amsterdam_list['bathrooms'\r\n",
        "                                                     ].str.lower(\r\n",
        "                                                      ).str.contains('shared')\r\n",
        "\r\n",
        "# Check my work\r\n",
        "amsterdam_list[['bathrooms', 'shared_bath']].value_counts()"
      ],
      "execution_count": 275,
      "outputs": [
        {
          "output_type": "execute_result",
          "data": {
            "text/plain": [
              "bathrooms          shared_bath\n",
              "1 bath             False          10677\n",
              "1.5 baths          False           3473\n",
              "1 shared bath      True            1210\n",
              "1 private bath     False           1043\n",
              "2 baths            False            802\n",
              "1.5 shared baths   True             466\n",
              "2.5 baths          False            239\n",
              "3 baths            False             96\n",
              "3.5 baths          False             43\n",
              "Half-bath          False             39\n",
              "0 baths            False             38\n",
              "Shared half-bath   True              32\n",
              "2 shared baths     True              29\n",
              "0 shared baths     True              15\n",
              "4 baths            False             13\n",
              "Private half-bath  False             11\n",
              "3 shared baths     True              10\n",
              "3.5 shared baths   True               8\n",
              "2.5 shared baths   True               6\n",
              "4 shared baths     True               5\n",
              "4.5 baths          False              4\n",
              "8 baths            False              3\n",
              "5 baths            False              2\n",
              "6 baths            False              2\n",
              "13 baths           False              1\n",
              "12 baths           False              1\n",
              "5.5 baths          False              1\n",
              "dtype: int64"
            ]
          },
          "metadata": {
            "tags": []
          },
          "execution_count": 275
        }
      ]
    },
    {
      "cell_type": "code",
      "metadata": {
        "colab": {
          "base_uri": "https://localhost:8080/"
        },
        "id": "E7K0aXL49Nuk",
        "outputId": "325a494e-2e64-4a4a-9c09-6116da4b205d"
      },
      "source": [
        "# Need to replace all \"half-bath\" with 0.5\r\n",
        "amsterdam_list['bathrooms'] = amsterdam_list['bathrooms'].str.replace('half-bath', '0.5', case=False)\r\n",
        "\r\n",
        "# Check my work\r\n",
        "amsterdam_list[['bathrooms', 'shared_bath']].value_counts()"
      ],
      "execution_count": 276,
      "outputs": [
        {
          "output_type": "execute_result",
          "data": {
            "text/plain": [
              "bathrooms         shared_bath\n",
              "1 bath            False          10677\n",
              "1.5 baths         False           3473\n",
              "1 shared bath     True            1210\n",
              "1 private bath    False           1043\n",
              "2 baths           False            802\n",
              "1.5 shared baths  True             466\n",
              "2.5 baths         False            239\n",
              "3 baths           False             96\n",
              "3.5 baths         False             43\n",
              "0.5               False             39\n",
              "0 baths           False             38\n",
              "Shared 0.5        True              32\n",
              "2 shared baths    True              29\n",
              "0 shared baths    True              15\n",
              "4 baths           False             13\n",
              "Private 0.5       False             11\n",
              "3 shared baths    True              10\n",
              "3.5 shared baths  True               8\n",
              "2.5 shared baths  True               6\n",
              "4 shared baths    True               5\n",
              "4.5 baths         False              4\n",
              "8 baths           False              3\n",
              "5 baths           False              2\n",
              "6 baths           False              2\n",
              "13 baths          False              1\n",
              "12 baths          False              1\n",
              "5.5 baths         False              1\n",
              "dtype: int64"
            ]
          },
          "metadata": {
            "tags": []
          },
          "execution_count": 276
        }
      ]
    },
    {
      "cell_type": "code",
      "metadata": {
        "colab": {
          "base_uri": "https://localhost:8080/"
        },
        "id": "PeqmMV4xiwPv",
        "outputId": "ed29f2f5-7347-4caa-b901-3d344f4d7b4a"
      },
      "source": [
        "# Now I can remove the text and return only the numerical values\r\n",
        "amsterdam_list['bathrooms'] = amsterdam_list['bathrooms'\r\n",
        "                                             ].str.extract('(\\d*\\.?\\d*)')\r\n",
        "\r\n",
        "amsterdam_list['bathrooms'].value_counts()"
      ],
      "execution_count": 277,
      "outputs": [
        {
          "output_type": "execute_result",
          "data": {
            "text/plain": [
              "1      12930\n",
              "1.5     3939\n",
              "2        831\n",
              "2.5      245\n",
              "3        106\n",
              "0         53\n",
              "3.5       51\n",
              "          43\n",
              "0.5       39\n",
              "4         18\n",
              "4.5        4\n",
              "8          3\n",
              "6          2\n",
              "5          2\n",
              "12         1\n",
              "13         1\n",
              "5.5        1\n",
              "Name: bathrooms, dtype: int64"
            ]
          },
          "metadata": {
            "tags": []
          },
          "execution_count": 277
        }
      ]
    },
    {
      "cell_type": "code",
      "metadata": {
        "id": "-iMBmSJciwHO",
        "colab": {
          "base_uri": "https://localhost:8080/"
        },
        "outputId": "458dcae6-c392-497e-8d94-c6f06c77246f"
      },
      "source": [
        "# Replace null values with 0\n",
        "amsterdam_list['bathrooms'].replace(['', np.nan], 0, inplace=True)\n",
        "\n",
        "# Set the data type to a float\n",
        "amsterdam_list['bathrooms'] = amsterdam_list['bathrooms'].astype(float)\n",
        "\n",
        "# Format the float to display only one digit on the right of the decimal point\n",
        "# amsterdam_list.style.format({'bathrooms': '{:.1f}'})\n",
        "# amsterdam_list['bathrooms'] = ((amsterdam_list['bathrooms']*100).astype(int).astype(float))/100\n",
        "amsterdam_list['bathrooms'] = np.trunc(100 * amsterdam_list['bathrooms']) / 100\n",
        "\n",
        "# Look at the unique values in bathrooms now\n",
        "print(f'Unique Values: ', amsterdam_list.bathrooms.unique())\n",
        "\n",
        "# What is the data type now?\n",
        "print(f'Data Type now: {amsterdam_list.bathrooms.dtype}')"
      ],
      "execution_count": 278,
      "outputs": [
        {
          "output_type": "stream",
          "text": [
            "Unique Values:  [ 1.5  1.   2.   0.   3.   2.5  3.5  4.   0.5  6.   8.   5.   4.5  5.5\n",
            " 13.  12. ]\n",
            "Data Type now: float64\n"
          ],
          "name": "stdout"
        }
      ]
    },
    {
      "cell_type": "code",
      "metadata": {
        "colab": {
          "base_uri": "https://localhost:8080/"
        },
        "id": "QwoxbRHts0-a",
        "outputId": "a35a963d-1efa-4071-dd4d-10f18ecf3079"
      },
      "source": [
        "# Look at all the data types again to see if there is anything that I missed\r\n",
        "amsterdam_list.info()"
      ],
      "execution_count": 279,
      "outputs": [
        {
          "output_type": "stream",
          "text": [
            "<class 'pandas.core.frame.DataFrame'>\n",
            "RangeIndex: 18291 entries, 0 to 18290\n",
            "Data columns (total 34 columns):\n",
            " #   Column               Non-Null Count  Dtype         \n",
            "---  ------               --------------  -----         \n",
            " 0   description          17994 non-null  object        \n",
            " 1   host_since           18228 non-null  datetime64[ns]\n",
            " 2   superhost            18291 non-null  bool          \n",
            " 3   total_listings       18291 non-null  int64         \n",
            " 4   profile_pic          18291 non-null  bool          \n",
            " 5   verified_id          18291 non-null  bool          \n",
            " 6   neighborhood         18291 non-null  object        \n",
            " 7   latitude             18291 non-null  float64       \n",
            " 8   longitude            18291 non-null  float64       \n",
            " 9   property_type        18291 non-null  object        \n",
            " 10  room_type            18291 non-null  object        \n",
            " 11  accommodates         18291 non-null  int64         \n",
            " 12  bathrooms            18291 non-null  float64       \n",
            " 13  bedrooms             17294 non-null  float64       \n",
            " 14  num_of_beds          18186 non-null  float64       \n",
            " 15  amenities            18291 non-null  object        \n",
            " 16  price                18291 non-null  float64       \n",
            " 17  min_nights           18291 non-null  int64         \n",
            " 18  max_nights           18291 non-null  int64         \n",
            " 19  available            18291 non-null  bool          \n",
            " 20  avail_next_30_days   18291 non-null  int64         \n",
            " 21  avail_next_60_days   18291 non-null  int64         \n",
            " 22  avail_next_90_days   18291 non-null  int64         \n",
            " 23  avail_next_365_days  18291 non-null  int64         \n",
            " 24  num_of_reviews       18291 non-null  int64         \n",
            " 25  avg_review_score     15659 non-null  float64       \n",
            " 26  accuracy_score       15649 non-null  float64       \n",
            " 27  cleanliness_score    15649 non-null  float64       \n",
            " 28  checkin_score        15641 non-null  float64       \n",
            " 29  communication_score  15648 non-null  float64       \n",
            " 30  location_score       15643 non-null  float64       \n",
            " 31  value_score          15643 non-null  float64       \n",
            " 32  instant_bookable     18291 non-null  bool          \n",
            " 33  shared_bath          18269 non-null  object        \n",
            "dtypes: bool(5), datetime64[ns](1), float64(13), int64(9), object(6)\n",
            "memory usage: 4.1+ MB\n"
          ],
          "name": "stdout"
        }
      ]
    },
    {
      "cell_type": "code",
      "metadata": {
        "colab": {
          "base_uri": "https://localhost:8080/"
        },
        "id": "hrdTPxKXehE5",
        "outputId": "38c8ad5f-4116-4e09-f04b-1aae39739ae6"
      },
      "source": [
        "# Need to make all null values throughout the dataset into 0 to avoid errors\r\n",
        "#   when running my model. This should fix the data type of shared_bath and \r\n",
        "#   convert it into a bool data type by removing the null values\r\n",
        "amsterdam_list = amsterdam_list.replace(np.nan, 0)\r\n",
        "\r\n",
        "# Checking my work\r\n",
        "amsterdam_list.info()"
      ],
      "execution_count": 280,
      "outputs": [
        {
          "output_type": "stream",
          "text": [
            "<class 'pandas.core.frame.DataFrame'>\n",
            "RangeIndex: 18291 entries, 0 to 18290\n",
            "Data columns (total 34 columns):\n",
            " #   Column               Non-Null Count  Dtype  \n",
            "---  ------               --------------  -----  \n",
            " 0   description          18291 non-null  object \n",
            " 1   host_since           18291 non-null  float64\n",
            " 2   superhost            18291 non-null  bool   \n",
            " 3   total_listings       18291 non-null  int64  \n",
            " 4   profile_pic          18291 non-null  bool   \n",
            " 5   verified_id          18291 non-null  bool   \n",
            " 6   neighborhood         18291 non-null  object \n",
            " 7   latitude             18291 non-null  float64\n",
            " 8   longitude            18291 non-null  float64\n",
            " 9   property_type        18291 non-null  object \n",
            " 10  room_type            18291 non-null  object \n",
            " 11  accommodates         18291 non-null  int64  \n",
            " 12  bathrooms            18291 non-null  float64\n",
            " 13  bedrooms             18291 non-null  float64\n",
            " 14  num_of_beds          18291 non-null  float64\n",
            " 15  amenities            18291 non-null  object \n",
            " 16  price                18291 non-null  float64\n",
            " 17  min_nights           18291 non-null  int64  \n",
            " 18  max_nights           18291 non-null  int64  \n",
            " 19  available            18291 non-null  bool   \n",
            " 20  avail_next_30_days   18291 non-null  int64  \n",
            " 21  avail_next_60_days   18291 non-null  int64  \n",
            " 22  avail_next_90_days   18291 non-null  int64  \n",
            " 23  avail_next_365_days  18291 non-null  int64  \n",
            " 24  num_of_reviews       18291 non-null  int64  \n",
            " 25  avg_review_score     18291 non-null  float64\n",
            " 26  accuracy_score       18291 non-null  float64\n",
            " 27  cleanliness_score    18291 non-null  float64\n",
            " 28  checkin_score        18291 non-null  float64\n",
            " 29  communication_score  18291 non-null  float64\n",
            " 30  location_score       18291 non-null  float64\n",
            " 31  value_score          18291 non-null  float64\n",
            " 32  instant_bookable     18291 non-null  bool   \n",
            " 33  shared_bath          18291 non-null  object \n",
            "dtypes: bool(5), float64(14), int64(9), object(6)\n",
            "memory usage: 4.1+ MB\n"
          ],
          "name": "stdout"
        }
      ]
    },
    {
      "cell_type": "code",
      "metadata": {
        "colab": {
          "base_uri": "https://localhost:8080/"
        },
        "id": "w02e_WjffY0N",
        "outputId": "d991e23c-f5d5-4224-91be-90ffece2d8eb"
      },
      "source": [
        "# Since that did not solve the issue of the data type for shared_bath, \r\n",
        "#   need to type it myself to a bool data type\r\n",
        "amsterdam_list['shared_bath'] = amsterdam_list['shared_bath'].astype(bool)\r\n",
        "\r\n",
        "# Check my work\r\n",
        "amsterdam_list.info()"
      ],
      "execution_count": 281,
      "outputs": [
        {
          "output_type": "stream",
          "text": [
            "<class 'pandas.core.frame.DataFrame'>\n",
            "RangeIndex: 18291 entries, 0 to 18290\n",
            "Data columns (total 34 columns):\n",
            " #   Column               Non-Null Count  Dtype  \n",
            "---  ------               --------------  -----  \n",
            " 0   description          18291 non-null  object \n",
            " 1   host_since           18291 non-null  float64\n",
            " 2   superhost            18291 non-null  bool   \n",
            " 3   total_listings       18291 non-null  int64  \n",
            " 4   profile_pic          18291 non-null  bool   \n",
            " 5   verified_id          18291 non-null  bool   \n",
            " 6   neighborhood         18291 non-null  object \n",
            " 7   latitude             18291 non-null  float64\n",
            " 8   longitude            18291 non-null  float64\n",
            " 9   property_type        18291 non-null  object \n",
            " 10  room_type            18291 non-null  object \n",
            " 11  accommodates         18291 non-null  int64  \n",
            " 12  bathrooms            18291 non-null  float64\n",
            " 13  bedrooms             18291 non-null  float64\n",
            " 14  num_of_beds          18291 non-null  float64\n",
            " 15  amenities            18291 non-null  object \n",
            " 16  price                18291 non-null  float64\n",
            " 17  min_nights           18291 non-null  int64  \n",
            " 18  max_nights           18291 non-null  int64  \n",
            " 19  available            18291 non-null  bool   \n",
            " 20  avail_next_30_days   18291 non-null  int64  \n",
            " 21  avail_next_60_days   18291 non-null  int64  \n",
            " 22  avail_next_90_days   18291 non-null  int64  \n",
            " 23  avail_next_365_days  18291 non-null  int64  \n",
            " 24  num_of_reviews       18291 non-null  int64  \n",
            " 25  avg_review_score     18291 non-null  float64\n",
            " 26  accuracy_score       18291 non-null  float64\n",
            " 27  cleanliness_score    18291 non-null  float64\n",
            " 28  checkin_score        18291 non-null  float64\n",
            " 29  communication_score  18291 non-null  float64\n",
            " 30  location_score       18291 non-null  float64\n",
            " 31  value_score          18291 non-null  float64\n",
            " 32  instant_bookable     18291 non-null  bool   \n",
            " 33  shared_bath          18291 non-null  bool   \n",
            "dtypes: bool(6), float64(14), int64(9), object(5)\n",
            "memory usage: 4.0+ MB\n"
          ],
          "name": "stdout"
        }
      ]
    },
    {
      "cell_type": "markdown",
      "metadata": {
        "id": "Vc-7NGYjorER"
      },
      "source": [
        "* Last bit of EDA to complete is changin the `host_since` from date to number of years as a float value."
      ]
    },
    {
      "cell_type": "code",
      "metadata": {
        "colab": {
          "base_uri": "https://localhost:8080/"
        },
        "id": "qMAJR_G-orjY",
        "outputId": "b48da65b-2696-4ac1-8727-1d316a3d6823"
      },
      "source": [
        "# Need to change host_since back to datetime, when I converted all nulls to 0,\r\n",
        "#   this feature became a float data type\r\n",
        "amsterdam_list['host_since'] = pd.to_datetime(amsterdam_list['host_since'], \r\n",
        "                                              yearfirst=True)\r\n",
        "\r\n",
        "# Create a new feature with the date the data was collected\r\n",
        "amsterdam_list['years_hosting'] = pd.to_datetime('02-08-2021', yearfirst=True)\r\n",
        "\r\n",
        "amsterdam_list.info()"
      ],
      "execution_count": 282,
      "outputs": [
        {
          "output_type": "stream",
          "text": [
            "<class 'pandas.core.frame.DataFrame'>\n",
            "RangeIndex: 18291 entries, 0 to 18290\n",
            "Data columns (total 35 columns):\n",
            " #   Column               Non-Null Count  Dtype         \n",
            "---  ------               --------------  -----         \n",
            " 0   description          18291 non-null  object        \n",
            " 1   host_since           18291 non-null  datetime64[ns]\n",
            " 2   superhost            18291 non-null  bool          \n",
            " 3   total_listings       18291 non-null  int64         \n",
            " 4   profile_pic          18291 non-null  bool          \n",
            " 5   verified_id          18291 non-null  bool          \n",
            " 6   neighborhood         18291 non-null  object        \n",
            " 7   latitude             18291 non-null  float64       \n",
            " 8   longitude            18291 non-null  float64       \n",
            " 9   property_type        18291 non-null  object        \n",
            " 10  room_type            18291 non-null  object        \n",
            " 11  accommodates         18291 non-null  int64         \n",
            " 12  bathrooms            18291 non-null  float64       \n",
            " 13  bedrooms             18291 non-null  float64       \n",
            " 14  num_of_beds          18291 non-null  float64       \n",
            " 15  amenities            18291 non-null  object        \n",
            " 16  price                18291 non-null  float64       \n",
            " 17  min_nights           18291 non-null  int64         \n",
            " 18  max_nights           18291 non-null  int64         \n",
            " 19  available            18291 non-null  bool          \n",
            " 20  avail_next_30_days   18291 non-null  int64         \n",
            " 21  avail_next_60_days   18291 non-null  int64         \n",
            " 22  avail_next_90_days   18291 non-null  int64         \n",
            " 23  avail_next_365_days  18291 non-null  int64         \n",
            " 24  num_of_reviews       18291 non-null  int64         \n",
            " 25  avg_review_score     18291 non-null  float64       \n",
            " 26  accuracy_score       18291 non-null  float64       \n",
            " 27  cleanliness_score    18291 non-null  float64       \n",
            " 28  checkin_score        18291 non-null  float64       \n",
            " 29  communication_score  18291 non-null  float64       \n",
            " 30  location_score       18291 non-null  float64       \n",
            " 31  value_score          18291 non-null  float64       \n",
            " 32  instant_bookable     18291 non-null  bool          \n",
            " 33  shared_bath          18291 non-null  bool          \n",
            " 34  years_hosting        18291 non-null  datetime64[ns]\n",
            "dtypes: bool(6), datetime64[ns](2), float64(13), int64(9), object(5)\n",
            "memory usage: 4.2+ MB\n"
          ],
          "name": "stdout"
        }
      ]
    },
    {
      "cell_type": "code",
      "metadata": {
        "colab": {
          "base_uri": "https://localhost:8080/",
          "height": 1000
        },
        "id": "6XOCAD3zosSG",
        "outputId": "c77c77ae-8c82-4e4a-918d-a435b2ba2a1b"
      },
      "source": [
        "# Change years_hosting from the date the data was collected to the years from\r\n",
        "#   host_since to the data data was collected\r\n",
        "amsterdam_list['years_hosting'] = (amsterdam_list['years_hosting'] - amsterdam_list['host_since']).dt.days/365\r\n",
        "\r\n",
        "# Format the float to display only 2 digit on the right of the decimal point\r\n",
        "amsterdam_list['years_hosting'] = round(amsterdam_list['years_hosting'], 2)\r\n",
        "\r\n",
        "# # Other ways I tried and worked too to only display 2 digits on the right of the decimal point\r\n",
        "# amsterdam_list['years_hosting'] = np.trunc(100 * amsterdam_list['years_hosting']) / 100\r\n",
        "# amsterdam_list['years_hosting'] = [math.trunc(100 * val) / 100 for val in amsterdam_list['years_hosting']]\r\n",
        "\r\n",
        "# Check my work\r\n",
        "amsterdam_list.head()"
      ],
      "execution_count": 283,
      "outputs": [
        {
          "output_type": "execute_result",
          "data": {
            "text/html": [
              "<div>\n",
              "<style scoped>\n",
              "    .dataframe tbody tr th:only-of-type {\n",
              "        vertical-align: middle;\n",
              "    }\n",
              "\n",
              "    .dataframe tbody tr th {\n",
              "        vertical-align: top;\n",
              "    }\n",
              "\n",
              "    .dataframe thead th {\n",
              "        text-align: right;\n",
              "    }\n",
              "</style>\n",
              "<table border=\"1\" class=\"dataframe\">\n",
              "  <thead>\n",
              "    <tr style=\"text-align: right;\">\n",
              "      <th></th>\n",
              "      <th>description</th>\n",
              "      <th>host_since</th>\n",
              "      <th>superhost</th>\n",
              "      <th>total_listings</th>\n",
              "      <th>profile_pic</th>\n",
              "      <th>verified_id</th>\n",
              "      <th>neighborhood</th>\n",
              "      <th>latitude</th>\n",
              "      <th>longitude</th>\n",
              "      <th>property_type</th>\n",
              "      <th>room_type</th>\n",
              "      <th>accommodates</th>\n",
              "      <th>bathrooms</th>\n",
              "      <th>bedrooms</th>\n",
              "      <th>num_of_beds</th>\n",
              "      <th>amenities</th>\n",
              "      <th>price</th>\n",
              "      <th>min_nights</th>\n",
              "      <th>max_nights</th>\n",
              "      <th>available</th>\n",
              "      <th>avail_next_30_days</th>\n",
              "      <th>avail_next_60_days</th>\n",
              "      <th>avail_next_90_days</th>\n",
              "      <th>avail_next_365_days</th>\n",
              "      <th>num_of_reviews</th>\n",
              "      <th>avg_review_score</th>\n",
              "      <th>accuracy_score</th>\n",
              "      <th>cleanliness_score</th>\n",
              "      <th>checkin_score</th>\n",
              "      <th>communication_score</th>\n",
              "      <th>location_score</th>\n",
              "      <th>value_score</th>\n",
              "      <th>instant_bookable</th>\n",
              "      <th>shared_bath</th>\n",
              "      <th>years_hosting</th>\n",
              "    </tr>\n",
              "  </thead>\n",
              "  <tbody>\n",
              "    <tr>\n",
              "      <th>0</th>\n",
              "      <td>Quiet Garden View Room &amp; Super Fast WiFi&lt;br /&gt;&lt;br /&gt;&lt;b&gt;The space&lt;/b&gt;&lt;br /&gt;I'm renting a bedroom (room overlooking the garden) in my apartment in Amsterdam, &lt;br /&gt;&lt;br /&gt;The room is located to the east of the city centre in a quiet, typical Amsterdam neighbourhood the \"Indische Buurt\". Amsterdam’s...</td>\n",
              "      <td>2008-09-24</td>\n",
              "      <td>True</td>\n",
              "      <td>1</td>\n",
              "      <td>True</td>\n",
              "      <td>True</td>\n",
              "      <td>Oostelijk Havengebied - Indische Buurt</td>\n",
              "      <td>52.36575</td>\n",
              "      <td>4.94142</td>\n",
              "      <td>Private room in apartment</td>\n",
              "      <td>Private room</td>\n",
              "      <td>2</td>\n",
              "      <td>1.5</td>\n",
              "      <td>1.0</td>\n",
              "      <td>2.0</td>\n",
              "      <td>[\"Hangers\", \"Coffee maker\", \"Paid parking on premises\", \"Long term stays allowed\", \"First aid kit\", \"Bed linens\", \"Lock on bedroom door\", \"Private entrance\", \"Carbon monoxide alarm\", \"Dedicated workspace\", \"Host greets you\", \"Single level home\", \"Extra pillows and blankets\", \"Hot water\", \"Paid p...</td>\n",
              "      <td>59.0</td>\n",
              "      <td>3</td>\n",
              "      <td>1125</td>\n",
              "      <td>True</td>\n",
              "      <td>29</td>\n",
              "      <td>46</td>\n",
              "      <td>60</td>\n",
              "      <td>139</td>\n",
              "      <td>278</td>\n",
              "      <td>98.0</td>\n",
              "      <td>10.0</td>\n",
              "      <td>10.0</td>\n",
              "      <td>10.0</td>\n",
              "      <td>10.0</td>\n",
              "      <td>9.0</td>\n",
              "      <td>10.0</td>\n",
              "      <td>True</td>\n",
              "      <td>True</td>\n",
              "      <td>12.38</td>\n",
              "    </tr>\n",
              "    <tr>\n",
              "      <th>1</th>\n",
              "      <td>17th century Dutch townhouse in the heart of the city. no public transport needed! Located a stones throw from Rembrandt Square, Dam Square, Leidse Square and Flower Market. Walking distance from Central Station.&lt;br /&gt;Comfortable, cosy, lockable studio with comfortable bed and with private bathr...</td>\n",
              "      <td>2009-12-02</td>\n",
              "      <td>False</td>\n",
              "      <td>2</td>\n",
              "      <td>True</td>\n",
              "      <td>True</td>\n",
              "      <td>Centrum-Oost</td>\n",
              "      <td>52.36509</td>\n",
              "      <td>4.89354</td>\n",
              "      <td>Private room in townhouse</td>\n",
              "      <td>Private room</td>\n",
              "      <td>2</td>\n",
              "      <td>1.0</td>\n",
              "      <td>1.0</td>\n",
              "      <td>1.0</td>\n",
              "      <td>[\"Essentials\", \"Bed linens\", \"Hot water\", \"Hangers\", \"Smoke alarm\", \"Heating\", \"Paid parking off premises\", \"Free street parking\", \"Refrigerator\", \"Carbon monoxide alarm\", \"Dedicated workspace\", \"Host greets you\", \"TV\", \"Wifi\", \"Hair dryer\", \"Long term stays allowed\", \"Fire extinguisher\"]</td>\n",
              "      <td>129.0</td>\n",
              "      <td>1</td>\n",
              "      <td>365</td>\n",
              "      <td>True</td>\n",
              "      <td>0</td>\n",
              "      <td>0</td>\n",
              "      <td>0</td>\n",
              "      <td>0</td>\n",
              "      <td>339</td>\n",
              "      <td>89.0</td>\n",
              "      <td>10.0</td>\n",
              "      <td>10.0</td>\n",
              "      <td>10.0</td>\n",
              "      <td>10.0</td>\n",
              "      <td>10.0</td>\n",
              "      <td>9.0</td>\n",
              "      <td>True</td>\n",
              "      <td>False</td>\n",
              "      <td>11.19</td>\n",
              "    </tr>\n",
              "    <tr>\n",
              "      <th>2</th>\n",
              "      <td>Lovely apt in Centre ( lift &amp; fireplace) near Jordaan&lt;br /&gt;&lt;br /&gt;&lt;b&gt;The space&lt;/b&gt;&lt;br /&gt;This nicely furnished, newly renovated apt  is very sunny, and spacious with 8 windows. The appliances are fairly new. There are two flat screen TVs, washing machine, dryer, dishwasher, laptop computer, Wi-fi,...</td>\n",
              "      <td>2009-11-20</td>\n",
              "      <td>True</td>\n",
              "      <td>2</td>\n",
              "      <td>True</td>\n",
              "      <td>False</td>\n",
              "      <td>Centrum-West</td>\n",
              "      <td>52.37297</td>\n",
              "      <td>4.88339</td>\n",
              "      <td>Entire apartment</td>\n",
              "      <td>Entire home/apt</td>\n",
              "      <td>3</td>\n",
              "      <td>1.0</td>\n",
              "      <td>1.0</td>\n",
              "      <td>1.0</td>\n",
              "      <td>[\"Hangers\", \"Elevator\", \"Cooking basics\", \"Dishes and silverware\", \"Oven\", \"Coffee maker\", \"Long term stays allowed\", \"Bed linens\", \"Dishwasher\", \"Dedicated workspace\", \"Kitchen\", \"Extra pillows and blankets\", \"Hot water\", \"Heating\", \"TV\", \"Cable TV\", \"Hair dryer\", \"Microwave\", \"Essentials\", \"Sm...</td>\n",
              "      <td>125.0</td>\n",
              "      <td>14</td>\n",
              "      <td>180</td>\n",
              "      <td>True</td>\n",
              "      <td>6</td>\n",
              "      <td>36</td>\n",
              "      <td>66</td>\n",
              "      <td>251</td>\n",
              "      <td>5</td>\n",
              "      <td>100.0</td>\n",
              "      <td>10.0</td>\n",
              "      <td>10.0</td>\n",
              "      <td>10.0</td>\n",
              "      <td>10.0</td>\n",
              "      <td>10.0</td>\n",
              "      <td>10.0</td>\n",
              "      <td>False</td>\n",
              "      <td>False</td>\n",
              "      <td>11.23</td>\n",
              "    </tr>\n",
              "    <tr>\n",
              "      <th>3</th>\n",
              "      <td>Stylish and romantic houseboat on fantastic historic location with breathtaking view.  Wheelhouse, deckhouse and captains room. Central, quiet. Great breakfast, 2 vanMoof design bikes and a Canadian Canoe are included. Just read the reviews on tripadvisor for instance!&lt;br /&gt;&lt;br /&gt;&lt;b&gt;The space&lt;/b...</td>\n",
              "      <td>2010-03-23</td>\n",
              "      <td>True</td>\n",
              "      <td>1</td>\n",
              "      <td>True</td>\n",
              "      <td>True</td>\n",
              "      <td>Centrum-West</td>\n",
              "      <td>52.38761</td>\n",
              "      <td>4.89188</td>\n",
              "      <td>Private room in houseboat</td>\n",
              "      <td>Private room</td>\n",
              "      <td>2</td>\n",
              "      <td>1.5</td>\n",
              "      <td>1.0</td>\n",
              "      <td>1.0</td>\n",
              "      <td>[\"Patio or balcony\", \"Hangers\", \"Dishes and silverware\", \"Luggage dropoff allowed\", \"Breakfast\", \"Coffee maker\", \"Lake access\", \"Long term stays allowed\", \"Private entrance\", \"Waterfront\", \"Carbon monoxide alarm\", \"Dedicated workspace\", \"Hot water\", \"Heating\", \"TV\", \"Hair dryer\", \"Essentials\", \"...</td>\n",
              "      <td>125.0</td>\n",
              "      <td>2</td>\n",
              "      <td>730</td>\n",
              "      <td>True</td>\n",
              "      <td>27</td>\n",
              "      <td>55</td>\n",
              "      <td>79</td>\n",
              "      <td>136</td>\n",
              "      <td>219</td>\n",
              "      <td>99.0</td>\n",
              "      <td>10.0</td>\n",
              "      <td>10.0</td>\n",
              "      <td>10.0</td>\n",
              "      <td>10.0</td>\n",
              "      <td>10.0</td>\n",
              "      <td>10.0</td>\n",
              "      <td>True</td>\n",
              "      <td>False</td>\n",
              "      <td>10.89</td>\n",
              "    </tr>\n",
              "    <tr>\n",
              "      <th>4</th>\n",
              "      <td>&lt;b&gt;The space&lt;/b&gt;&lt;br /&gt;In a monumental house right in the center of Amsterdam, we offer two rooms (one single room and one double room) to visitors who want to enjoy the comfort of a home-like accommodation, plus being in the middle of the historic city center, close to all important museums, sho...</td>\n",
              "      <td>2010-05-13</td>\n",
              "      <td>True</td>\n",
              "      <td>2</td>\n",
              "      <td>True</td>\n",
              "      <td>True</td>\n",
              "      <td>Centrum-Oost</td>\n",
              "      <td>52.36610</td>\n",
              "      <td>4.88953</td>\n",
              "      <td>Private room in apartment</td>\n",
              "      <td>Private room</td>\n",
              "      <td>2</td>\n",
              "      <td>1.0</td>\n",
              "      <td>1.0</td>\n",
              "      <td>1.0</td>\n",
              "      <td>[\"Hot water\", \"Essentials\", \"Smoke alarm\", \"Hangers\", \"Heating\", \"Lock on bedroom door\", \"Private entrance\", \"Refrigerator\", \"Carbon monoxide alarm\", \"Host greets you\", \"Shampoo\", \"Wifi\", \"Hair dryer\", \"Long term stays allowed\", \"Fire extinguisher\", \"Dryer\"]</td>\n",
              "      <td>75.0</td>\n",
              "      <td>2</td>\n",
              "      <td>1825</td>\n",
              "      <td>True</td>\n",
              "      <td>30</td>\n",
              "      <td>53</td>\n",
              "      <td>78</td>\n",
              "      <td>338</td>\n",
              "      <td>336</td>\n",
              "      <td>97.0</td>\n",
              "      <td>10.0</td>\n",
              "      <td>10.0</td>\n",
              "      <td>10.0</td>\n",
              "      <td>10.0</td>\n",
              "      <td>10.0</td>\n",
              "      <td>10.0</td>\n",
              "      <td>False</td>\n",
              "      <td>True</td>\n",
              "      <td>10.75</td>\n",
              "    </tr>\n",
              "  </tbody>\n",
              "</table>\n",
              "</div>"
            ],
            "text/plain": [
              "                                                                                                                                                                                                                                                                                                   description  ... years_hosting\n",
              "0  Quiet Garden View Room & Super Fast WiFi<br /><br /><b>The space</b><br />I'm renting a bedroom (room overlooking the garden) in my apartment in Amsterdam, <br /><br />The room is located to the east of the city centre in a quiet, typical Amsterdam neighbourhood the \"Indische Buurt\". Amsterdam’s...  ...         12.38\n",
              "1  17th century Dutch townhouse in the heart of the city. no public transport needed! Located a stones throw from Rembrandt Square, Dam Square, Leidse Square and Flower Market. Walking distance from Central Station.<br />Comfortable, cosy, lockable studio with comfortable bed and with private bathr...  ...         11.19\n",
              "2  Lovely apt in Centre ( lift & fireplace) near Jordaan<br /><br /><b>The space</b><br />This nicely furnished, newly renovated apt  is very sunny, and spacious with 8 windows. The appliances are fairly new. There are two flat screen TVs, washing machine, dryer, dishwasher, laptop computer, Wi-fi,...  ...         11.23\n",
              "3  Stylish and romantic houseboat on fantastic historic location with breathtaking view.  Wheelhouse, deckhouse and captains room. Central, quiet. Great breakfast, 2 vanMoof design bikes and a Canadian Canoe are included. Just read the reviews on tripadvisor for instance!<br /><br /><b>The space</b...  ...         10.89\n",
              "4  <b>The space</b><br />In a monumental house right in the center of Amsterdam, we offer two rooms (one single room and one double room) to visitors who want to enjoy the comfort of a home-like accommodation, plus being in the middle of the historic city center, close to all important museums, sho...  ...         10.75\n",
              "\n",
              "[5 rows x 35 columns]"
            ]
          },
          "metadata": {
            "tags": []
          },
          "execution_count": 283
        }
      ]
    },
    {
      "cell_type": "code",
      "metadata": {
        "colab": {
          "base_uri": "https://localhost:8080/",
          "height": 1000
        },
        "id": "t1G6em0FosG7",
        "outputId": "26d932d9-875d-4367-823a-e7911d9c2d24"
      },
      "source": [
        "# Now that I can drop the host_since featrue, it is no longer needed\r\n",
        "amsterdam_list = amsterdam_list.drop(columns='host_since')\r\n",
        "\r\n",
        "# Check my work\r\n",
        "print(amsterdam_list.shape)\r\n",
        "amsterdam_list.head(2)"
      ],
      "execution_count": 284,
      "outputs": [
        {
          "output_type": "stream",
          "text": [
            "(18291, 34)\n"
          ],
          "name": "stdout"
        },
        {
          "output_type": "execute_result",
          "data": {
            "text/html": [
              "<div>\n",
              "<style scoped>\n",
              "    .dataframe tbody tr th:only-of-type {\n",
              "        vertical-align: middle;\n",
              "    }\n",
              "\n",
              "    .dataframe tbody tr th {\n",
              "        vertical-align: top;\n",
              "    }\n",
              "\n",
              "    .dataframe thead th {\n",
              "        text-align: right;\n",
              "    }\n",
              "</style>\n",
              "<table border=\"1\" class=\"dataframe\">\n",
              "  <thead>\n",
              "    <tr style=\"text-align: right;\">\n",
              "      <th></th>\n",
              "      <th>description</th>\n",
              "      <th>superhost</th>\n",
              "      <th>total_listings</th>\n",
              "      <th>profile_pic</th>\n",
              "      <th>verified_id</th>\n",
              "      <th>neighborhood</th>\n",
              "      <th>latitude</th>\n",
              "      <th>longitude</th>\n",
              "      <th>property_type</th>\n",
              "      <th>room_type</th>\n",
              "      <th>accommodates</th>\n",
              "      <th>bathrooms</th>\n",
              "      <th>bedrooms</th>\n",
              "      <th>num_of_beds</th>\n",
              "      <th>amenities</th>\n",
              "      <th>price</th>\n",
              "      <th>min_nights</th>\n",
              "      <th>max_nights</th>\n",
              "      <th>available</th>\n",
              "      <th>avail_next_30_days</th>\n",
              "      <th>avail_next_60_days</th>\n",
              "      <th>avail_next_90_days</th>\n",
              "      <th>avail_next_365_days</th>\n",
              "      <th>num_of_reviews</th>\n",
              "      <th>avg_review_score</th>\n",
              "      <th>accuracy_score</th>\n",
              "      <th>cleanliness_score</th>\n",
              "      <th>checkin_score</th>\n",
              "      <th>communication_score</th>\n",
              "      <th>location_score</th>\n",
              "      <th>value_score</th>\n",
              "      <th>instant_bookable</th>\n",
              "      <th>shared_bath</th>\n",
              "      <th>years_hosting</th>\n",
              "    </tr>\n",
              "  </thead>\n",
              "  <tbody>\n",
              "    <tr>\n",
              "      <th>0</th>\n",
              "      <td>Quiet Garden View Room &amp; Super Fast WiFi&lt;br /&gt;&lt;br /&gt;&lt;b&gt;The space&lt;/b&gt;&lt;br /&gt;I'm renting a bedroom (room overlooking the garden) in my apartment in Amsterdam, &lt;br /&gt;&lt;br /&gt;The room is located to the east of the city centre in a quiet, typical Amsterdam neighbourhood the \"Indische Buurt\". Amsterdam’s...</td>\n",
              "      <td>True</td>\n",
              "      <td>1</td>\n",
              "      <td>True</td>\n",
              "      <td>True</td>\n",
              "      <td>Oostelijk Havengebied - Indische Buurt</td>\n",
              "      <td>52.36575</td>\n",
              "      <td>4.94142</td>\n",
              "      <td>Private room in apartment</td>\n",
              "      <td>Private room</td>\n",
              "      <td>2</td>\n",
              "      <td>1.5</td>\n",
              "      <td>1.0</td>\n",
              "      <td>2.0</td>\n",
              "      <td>[\"Hangers\", \"Coffee maker\", \"Paid parking on premises\", \"Long term stays allowed\", \"First aid kit\", \"Bed linens\", \"Lock on bedroom door\", \"Private entrance\", \"Carbon monoxide alarm\", \"Dedicated workspace\", \"Host greets you\", \"Single level home\", \"Extra pillows and blankets\", \"Hot water\", \"Paid p...</td>\n",
              "      <td>59.0</td>\n",
              "      <td>3</td>\n",
              "      <td>1125</td>\n",
              "      <td>True</td>\n",
              "      <td>29</td>\n",
              "      <td>46</td>\n",
              "      <td>60</td>\n",
              "      <td>139</td>\n",
              "      <td>278</td>\n",
              "      <td>98.0</td>\n",
              "      <td>10.0</td>\n",
              "      <td>10.0</td>\n",
              "      <td>10.0</td>\n",
              "      <td>10.0</td>\n",
              "      <td>9.0</td>\n",
              "      <td>10.0</td>\n",
              "      <td>True</td>\n",
              "      <td>True</td>\n",
              "      <td>12.38</td>\n",
              "    </tr>\n",
              "    <tr>\n",
              "      <th>1</th>\n",
              "      <td>17th century Dutch townhouse in the heart of the city. no public transport needed! Located a stones throw from Rembrandt Square, Dam Square, Leidse Square and Flower Market. Walking distance from Central Station.&lt;br /&gt;Comfortable, cosy, lockable studio with comfortable bed and with private bathr...</td>\n",
              "      <td>False</td>\n",
              "      <td>2</td>\n",
              "      <td>True</td>\n",
              "      <td>True</td>\n",
              "      <td>Centrum-Oost</td>\n",
              "      <td>52.36509</td>\n",
              "      <td>4.89354</td>\n",
              "      <td>Private room in townhouse</td>\n",
              "      <td>Private room</td>\n",
              "      <td>2</td>\n",
              "      <td>1.0</td>\n",
              "      <td>1.0</td>\n",
              "      <td>1.0</td>\n",
              "      <td>[\"Essentials\", \"Bed linens\", \"Hot water\", \"Hangers\", \"Smoke alarm\", \"Heating\", \"Paid parking off premises\", \"Free street parking\", \"Refrigerator\", \"Carbon monoxide alarm\", \"Dedicated workspace\", \"Host greets you\", \"TV\", \"Wifi\", \"Hair dryer\", \"Long term stays allowed\", \"Fire extinguisher\"]</td>\n",
              "      <td>129.0</td>\n",
              "      <td>1</td>\n",
              "      <td>365</td>\n",
              "      <td>True</td>\n",
              "      <td>0</td>\n",
              "      <td>0</td>\n",
              "      <td>0</td>\n",
              "      <td>0</td>\n",
              "      <td>339</td>\n",
              "      <td>89.0</td>\n",
              "      <td>10.0</td>\n",
              "      <td>10.0</td>\n",
              "      <td>10.0</td>\n",
              "      <td>10.0</td>\n",
              "      <td>10.0</td>\n",
              "      <td>9.0</td>\n",
              "      <td>True</td>\n",
              "      <td>False</td>\n",
              "      <td>11.19</td>\n",
              "    </tr>\n",
              "  </tbody>\n",
              "</table>\n",
              "</div>"
            ],
            "text/plain": [
              "                                                                                                                                                                                                                                                                                                   description  ...  years_hosting\n",
              "0  Quiet Garden View Room & Super Fast WiFi<br /><br /><b>The space</b><br />I'm renting a bedroom (room overlooking the garden) in my apartment in Amsterdam, <br /><br />The room is located to the east of the city centre in a quiet, typical Amsterdam neighbourhood the \"Indische Buurt\". Amsterdam’s...  ...          12.38\n",
              "1  17th century Dutch townhouse in the heart of the city. no public transport needed! Located a stones throw from Rembrandt Square, Dam Square, Leidse Square and Flower Market. Walking distance from Central Station.<br />Comfortable, cosy, lockable studio with comfortable bed and with private bathr...  ...          11.19\n",
              "\n",
              "[2 rows x 34 columns]"
            ]
          },
          "metadata": {
            "tags": []
          },
          "execution_count": 284
        }
      ]
    },
    {
      "cell_type": "markdown",
      "metadata": {
        "id": "zLUp0qdpmzMw"
      },
      "source": [
        "#### Group Features"
      ]
    },
    {
      "cell_type": "code",
      "metadata": {
        "colab": {
          "base_uri": "https://localhost:8080/"
        },
        "id": "Qa5GdRiAAudZ",
        "outputId": "56354814-76cd-4418-feb2-ed94b01389f0"
      },
      "source": [
        "# Look at all the current features\r\n",
        "amsterdam_list.columns"
      ],
      "execution_count": 286,
      "outputs": [
        {
          "output_type": "execute_result",
          "data": {
            "text/plain": [
              "Index(['description', 'superhost', 'total_listings', 'profile_pic',\n",
              "       'verified_id', 'neighborhood', 'latitude', 'longitude', 'property_type',\n",
              "       'room_type', 'accommodates', 'bathrooms', 'bedrooms', 'num_of_beds',\n",
              "       'amenities', 'price', 'min_nights', 'max_nights', 'available',\n",
              "       'avail_next_30_days', 'avail_next_60_days', 'avail_next_90_days',\n",
              "       'avail_next_365_days', 'num_of_reviews', 'avg_review_score',\n",
              "       'accuracy_score', 'cleanliness_score', 'checkin_score',\n",
              "       'communication_score', 'location_score', 'value_score',\n",
              "       'instant_bookable', 'shared_bath', 'years_hosting'],\n",
              "      dtype='object')"
            ]
          },
          "metadata": {
            "tags": []
          },
          "execution_count": 286
        }
      ]
    },
    {
      "cell_type": "code",
      "metadata": {
        "colab": {
          "base_uri": "https://localhost:8080/"
        },
        "id": "scPKONkDBcRu",
        "outputId": "025bb6a2-41e2-463e-f0d1-bf31917f207b"
      },
      "source": [
        "# Look at all the current data types \r\n",
        "amsterdam_list.info()"
      ],
      "execution_count": 287,
      "outputs": [
        {
          "output_type": "stream",
          "text": [
            "<class 'pandas.core.frame.DataFrame'>\n",
            "RangeIndex: 18291 entries, 0 to 18290\n",
            "Data columns (total 34 columns):\n",
            " #   Column               Non-Null Count  Dtype  \n",
            "---  ------               --------------  -----  \n",
            " 0   description          18291 non-null  object \n",
            " 1   superhost            18291 non-null  bool   \n",
            " 2   total_listings       18291 non-null  int64  \n",
            " 3   profile_pic          18291 non-null  bool   \n",
            " 4   verified_id          18291 non-null  bool   \n",
            " 5   neighborhood         18291 non-null  object \n",
            " 6   latitude             18291 non-null  float64\n",
            " 7   longitude            18291 non-null  float64\n",
            " 8   property_type        18291 non-null  object \n",
            " 9   room_type            18291 non-null  object \n",
            " 10  accommodates         18291 non-null  int64  \n",
            " 11  bathrooms            18291 non-null  float64\n",
            " 12  bedrooms             18291 non-null  float64\n",
            " 13  num_of_beds          18291 non-null  float64\n",
            " 14  amenities            18291 non-null  object \n",
            " 15  price                18291 non-null  float64\n",
            " 16  min_nights           18291 non-null  int64  \n",
            " 17  max_nights           18291 non-null  int64  \n",
            " 18  available            18291 non-null  bool   \n",
            " 19  avail_next_30_days   18291 non-null  int64  \n",
            " 20  avail_next_60_days   18291 non-null  int64  \n",
            " 21  avail_next_90_days   18291 non-null  int64  \n",
            " 22  avail_next_365_days  18291 non-null  int64  \n",
            " 23  num_of_reviews       18291 non-null  int64  \n",
            " 24  avg_review_score     18291 non-null  float64\n",
            " 25  accuracy_score       18291 non-null  float64\n",
            " 26  cleanliness_score    18291 non-null  float64\n",
            " 27  checkin_score        18291 non-null  float64\n",
            " 28  communication_score  18291 non-null  float64\n",
            " 29  location_score       18291 non-null  float64\n",
            " 30  value_score          18291 non-null  float64\n",
            " 31  instant_bookable     18291 non-null  bool   \n",
            " 32  shared_bath          18291 non-null  bool   \n",
            " 33  years_hosting        18291 non-null  float64\n",
            "dtypes: bool(6), float64(14), int64(9), object(5)\n",
            "memory usage: 4.0+ MB\n"
          ],
          "name": "stdout"
        }
      ]
    },
    {
      "cell_type": "code",
      "metadata": {
        "id": "DYPOlmQTYT6H"
      },
      "source": [
        "# Seperate out my target feature\r\n",
        "y = amsterdam_list['price']\r\n",
        "\r\n",
        "# Group all text features for NLP preprocessing\r\n",
        "txt_features = ['description', 'neighborhood', 'property_type', 'room_type', \r\n",
        "                'amenities']\r\n",
        "\r\n",
        "# Group all numeric features\r\n",
        "num_feat = ['total_listings', 'latitude', 'longitude', 'accommodates', \r\n",
        "            'bathrooms', 'bedrooms', 'num_of_beds', 'min_nights', 'max_nights', \r\n",
        "            'avail_next_30_days', 'avail_next_60_days', 'avail_next_90_days', \r\n",
        "            'avail_next_365_days', 'num_of_reviews', 'avg_review_score', \r\n",
        "            'accuracy_score', 'cleanliness_score', 'checkin_score', \r\n",
        "            'communication_score', 'location_score', 'value_score', \r\n",
        "            'years_hosting']\r\n",
        "\r\n",
        "# Group all bool features\r\n",
        "bool_feat = ['superhost', 'profile_pic', 'verified_id', 'available', \r\n",
        "             'instant_bookable', 'shared_bath']"
      ],
      "execution_count": 288,
      "outputs": []
    },
    {
      "cell_type": "markdown",
      "metadata": {
        "id": "TZJMDLIiD0sy"
      },
      "source": [
        "#### NLP Preprocessing"
      ]
    },
    {
      "cell_type": "code",
      "metadata": {
        "id": "k9vrklBVD0WO"
      },
      "source": [
        ""
      ],
      "execution_count": null,
      "outputs": []
    },
    {
      "cell_type": "code",
      "metadata": {
        "id": "XAQNt5yNYT6H"
      },
      "source": [
        ""
      ],
      "execution_count": null,
      "outputs": []
    },
    {
      "cell_type": "code",
      "metadata": {
        "id": "J9_U5Dm5YT6H"
      },
      "source": [
        ""
      ],
      "execution_count": null,
      "outputs": []
    },
    {
      "cell_type": "code",
      "metadata": {
        "id": "JY83V9zgYT6I"
      },
      "source": [
        ""
      ],
      "execution_count": null,
      "outputs": []
    },
    {
      "cell_type": "code",
      "metadata": {
        "id": "kVfJQO1jYT6I"
      },
      "source": [
        ""
      ],
      "execution_count": null,
      "outputs": []
    },
    {
      "cell_type": "code",
      "metadata": {
        "id": "0gYI9kKJYT6I"
      },
      "source": [
        ""
      ],
      "execution_count": null,
      "outputs": []
    },
    {
      "cell_type": "code",
      "metadata": {
        "id": "53QFkY0jYT6I"
      },
      "source": [
        ""
      ],
      "execution_count": null,
      "outputs": []
    },
    {
      "cell_type": "markdown",
      "metadata": {
        "id": "DMsDfraeehzq"
      },
      "source": [
        "## Amsterdam Detailed Reviews\r\n",
        "\r\n",
        "[Download the dataset here](https://github.com/BW-TT-158-AirBnB/Data-Science-Unit3-and-Unit4/blob/main/data/Amsterdam_detailed_reviews.csv)"
      ]
    },
    {
      "cell_type": "code",
      "metadata": {
        "id": "CXd8SlLm-UfS"
      },
      "source": [
        "amsterdam_detailed_rev = pd.read_csv('Amsterdam_detailed_reviews.csv', compression='gzip',\r\n",
        "                                  error_bad_lines=False)\r\n",
        "\r\n",
        "print(amsterdam_detailed_rev.shape)\r\n",
        "amsterdam_detailed_rev.head(10)"
      ],
      "execution_count": null,
      "outputs": []
    },
    {
      "cell_type": "code",
      "metadata": {
        "id": "qoFPCU45-UaU"
      },
      "source": [
        "raw_amsterdam_listing = 'https://raw.githubusercontent.com/BW-TT-158-AirBnB/Data-Science-Unit3-and-Unit4/main/data/Amsterdam_listings.csv'\r\n",
        "\r\n",
        "amsterdam_listing = pd.read_csv(raw_amsterdam_listing)\r\n",
        "\r\n",
        "print(amsterdam_listing.shape)\r\n",
        "amsterdam_listing.head()"
      ],
      "execution_count": null,
      "outputs": []
    },
    {
      "cell_type": "code",
      "metadata": {
        "id": "6vx7538e-UYF"
      },
      "source": [
        ""
      ],
      "execution_count": null,
      "outputs": []
    },
    {
      "cell_type": "code",
      "metadata": {
        "id": "caUAmO1N-UV0"
      },
      "source": [
        ""
      ],
      "execution_count": null,
      "outputs": []
    },
    {
      "cell_type": "code",
      "metadata": {
        "id": "e5tFCdK7-UTc"
      },
      "source": [
        ""
      ],
      "execution_count": null,
      "outputs": []
    },
    {
      "cell_type": "code",
      "metadata": {
        "id": "_NJHnIDo-URP"
      },
      "source": [
        ""
      ],
      "execution_count": null,
      "outputs": []
    },
    {
      "cell_type": "code",
      "metadata": {
        "id": "JhUgmj_N-UO9"
      },
      "source": [
        ""
      ],
      "execution_count": null,
      "outputs": []
    },
    {
      "cell_type": "code",
      "metadata": {
        "id": "oatktePI-UNY"
      },
      "source": [
        ""
      ],
      "execution_count": null,
      "outputs": []
    },
    {
      "cell_type": "code",
      "metadata": {
        "id": "E1i0QXmO-UKu"
      },
      "source": [
        ""
      ],
      "execution_count": null,
      "outputs": []
    },
    {
      "cell_type": "code",
      "metadata": {
        "id": "N2jJ075p-UIt"
      },
      "source": [
        ""
      ],
      "execution_count": null,
      "outputs": []
    },
    {
      "cell_type": "code",
      "metadata": {
        "id": "R2HxlrBx-UGd"
      },
      "source": [
        ""
      ],
      "execution_count": null,
      "outputs": []
    },
    {
      "cell_type": "code",
      "metadata": {
        "id": "ETV49Gie-UDv"
      },
      "source": [
        ""
      ],
      "execution_count": null,
      "outputs": []
    },
    {
      "cell_type": "code",
      "metadata": {
        "id": "bqURiAWQJC1_"
      },
      "source": [
        "wa_detailed_reviews = pd.read_csv('Seattle_WA_reviews_zip.csv', compression='gzip',\r\n",
        "                                  error_bad_lines=False)\r\n",
        "\r\n",
        "print(wa_detailed_reviews.shape)\r\n",
        "wa_detailed_reviews.head(10)"
      ],
      "execution_count": null,
      "outputs": []
    },
    {
      "cell_type": "code",
      "metadata": {
        "id": "1NymyO7kKHT4"
      },
      "source": [
        "wa_detailed_listings = pd.read_csv('Seattle_WA_detailed_listings.csv', compression='gzip',\r\n",
        "                                  error_bad_lines=False)\r\n",
        "\r\n",
        "print(wa_detailed_listings.shape)\r\n",
        "wa_detailed_listings.head(10)"
      ],
      "execution_count": null,
      "outputs": []
    },
    {
      "cell_type": "code",
      "metadata": {
        "id": "_0vdSaolQVRe"
      },
      "source": [
        "wa_detailed_listings.columns"
      ],
      "execution_count": null,
      "outputs": []
    },
    {
      "cell_type": "code",
      "metadata": {
        "id": "iXnlc9Oj9XID"
      },
      "source": [
        ""
      ],
      "execution_count": null,
      "outputs": []
    }
  ]
}