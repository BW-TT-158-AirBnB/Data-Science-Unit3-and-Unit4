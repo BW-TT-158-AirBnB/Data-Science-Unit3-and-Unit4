{
 "nbformat": 4,
 "nbformat_minor": 0,
 "metadata": {
  "colab": {
   "name": "BW4-AirBnB-EDA.ipynb",
   "provenance": []
  },
  "kernelspec": {
   "name": "pycharm-84eabcec",
   "language": "python",
   "display_name": "PyCharm (Build-Week-Spotify)"
  }
 },
 "cells": [
  {
   "cell_type": "markdown",
   "metadata": {
    "id": "WZVsx8h2KUGv"
   },
   "source": [
    "# AirBnB Build Week Project\n",
    "\n",
    "#### Source for data:\n",
    "[Inside AirBnB](http://insideairbnb.com/get-the-data.html)\n",
    "\n"
   ]
  },
  {
   "cell_type": "markdown",
   "metadata": {
    "id": "7yC4VHtx9gl_"
   },
   "source": [
    "## Imports"
   ]
  },
  {
   "cell_type": "code",
   "metadata": {
    "id": "Ct8uuzO_Qs7M"
   },
   "source": [
    "# Standard EDA libraries\n",
    "import pandas as pd\n",
    "import numpy as np\n",
    "import datetime as dt\n",
    "import math\n",
    "\n",
    "# Set DataFrame display options for easier EDA\n",
    "pd.set_option('display.max_rows', 100)\n",
    "pd.set_option('display.max_colwidth', 300)\n",
    "\n"
   ],
   "execution_count": 1,
   "outputs": []
  },
  {
   "cell_type": "markdown",
   "metadata": {
    "id": "7AC-TTh02Znx"
   },
   "source": [
    "## Data Choosing and Cleaning"
   ]
  },
  {
   "cell_type": "markdown",
   "metadata": {
    "id": "AS8QTQ4RdwS0"
   },
   "source": [
    "### Amsterdam Calander Dataset\n",
    "\n",
    "[Download the dataset here](https://github.com/BW-TT-158-AirBnB/Data-Science-Unit3-and-Unit4/blob/main/data/Amsterdam_calendar.csv)\n",
    "\n",
    "- Determine if this data will be helpful or can be found in another dataset with more information."
   ]
  },
  {
   "cell_type": "code",
   "metadata": {
    "id": "LeLwjqUs9cm0"
   },
   "source": [
    "# # Read in the data\n",
    "# amsterdam_cal = pd.read_csv('Amsterdam_calendar.csv', compression='gzip')\n",
    "\n",
    "# # Look at what data is in this file\n",
    "# print(amsterdam_cal.shape)\n",
    "# amsterdam_cal.head(10)"
   ],
   "execution_count": 2,
   "outputs": []
  },
  {
   "cell_type": "markdown",
   "metadata": {
    "id": "4vF8AgPo7PCp"
   },
   "source": [
    "* Do not think this dataset will hold any real value for this project. Have data like this in another dataset. Probably not going to use this one but will keep it on hand for now."
   ]
  },
  {
   "cell_type": "markdown",
   "metadata": {
    "id": "FBUtR7taexr5"
   },
   "source": [
    "### Amsterdam Listings\n",
    "\n",
    "[Download the dataset here](https://github.com/BW-TT-158-AirBnB/Data-Science-Unit3-and-Unit4/blob/main/data/Amsterdam_listings.csv)\n",
    "\n",
    "- Want to compare this dataset to the detailed one to see if this would be enough data or not."
   ]
  },
  {
   "cell_type": "code",
   "metadata": {
    "id": "IG7DiVZE-Ucj"
   },
   "source": [
    "# raw_amsterdam_listing = 'https://raw.githubusercontent.com/BW-TT-158-AirBnB/Data-Science-Unit3-and-Unit4/main/data/Amsterdam_listings.csv'\n",
    "\n",
    "# amsterdam_listing = pd.read_csv(raw_amsterdam_listing)\n",
    "\n",
    "# print(amsterdam_listing.shape)\n",
    "# amsterdam_listing.head()"
   ],
   "execution_count": 3,
   "outputs": []
  },
  {
   "cell_type": "code",
   "metadata": {
    "id": "Ecdz2nSOew-U"
   },
   "source": [
    "# # Look at a list of all the features in this dataset\n",
    "# amsterdam_listing.columns"
   ],
   "execution_count": 4,
   "outputs": []
  },
  {
   "cell_type": "code",
   "metadata": {
    "id": "pkjy-ZDAew8W"
   },
   "source": [
    "# # What values are in the neighbourhood_group?\n",
    "# amsterdam_listing['neighbourhood_group'].value_counts()"
   ],
   "execution_count": 5,
   "outputs": []
  },
  {
   "cell_type": "code",
   "metadata": {
    "id": "T1wcyV-Qew6H"
   },
   "source": [
    "# # Remove the neighbourhood_group feature --> nothing but NaNs\n",
    "# amsterdam_listing = amsterdam_listing.drop('neighbourhood_group', axis=1)\n",
    "\n",
    "# Check my work\n",
    "# amsterdam_listing.head()"
   ],
   "execution_count": 6,
   "outputs": []
  },
  {
   "cell_type": "code",
   "metadata": {
    "id": "PeLr9_-1iIhj"
   },
   "source": [
    "# # Look for NaN values\n",
    "# amsterdam_listing.isnull().sum()"
   ],
   "execution_count": 7,
   "outputs": []
  },
  {
   "cell_type": "code",
   "metadata": {
    "id": "jvWrjJ9bew3m"
   },
   "source": [
    "# # Look at a summary of the numerical data\n",
    "# amsterdam_listing.describe(include=[np.number])"
   ],
   "execution_count": 8,
   "outputs": []
  },
  {
   "cell_type": "code",
   "metadata": {
    "id": "MQPSYIzVew1N"
   },
   "source": [
    "# # Look at a summary of the non-numerical values\n",
    "# amsterdam_listing.describe(exclude=[np.number])"
   ],
   "execution_count": 9,
   "outputs": []
  },
  {
   "cell_type": "markdown",
   "metadata": {
    "id": "U2jfMvRQ8ZP_"
   },
   "source": [
    "* Believe the detailed dataset will be more useful for this project due to the lack of features I believe will be useful for predictions.\n",
    "\n",
    "* Will keep this one on hand though just in case I change my mind.\n"
   ]
  },
  {
   "cell_type": "markdown",
   "metadata": {
    "id": "K-ilEYyJeBiW"
   },
   "source": [
    "### Amsterdam Detailed Listings\n",
    "\n",
    "[Download the dataset here](https://github.com/BW-TT-158-AirBnB/Data-Science-Unit3-and-Unit4/blob/main/data/Amsterdam_detailed_listings.csv)\n",
    "\n",
    "- Explore this dataset to find out if this detailed data is going to be more helpful then the compressed listings."
   ]
  },
  {
   "cell_type": "code",
   "metadata": {
    "id": "_YAqfkL4-Uhu",
    "colab": {
     "base_uri": "https://localhost:8080/",
     "height": 1000
    },
    "outputId": "6897eeaa-b45c-4d21-c242-390f6060b0cd"
   },
   "source": [
    "# Read in the data using Colab\n",
    "# # If using Google Colab, have to upload the file into colab and use this code:\n",
    "# amsterdam_detailed_listing = pd.read_csv('Amsterdam_detailed_listings.csv', compression='gzip')\n",
    "# If running locally via repo clone, use this code:\n",
    "amsterdam_detailed_listing = pd.read_csv('../data/Amsterdam_detailed_listings.csv',\n",
    "                                         compression='gzip')\n",
    "\n",
    "# Look at what kind of data I have\n",
    "print(amsterdam_detailed_listing.shape)\n",
    "amsterdam_detailed_listing.head(5)"
   ],
   "execution_count": 10,
   "outputs": [
    {
     "name": "stdout",
     "output_type": "stream",
     "text": [
      "(18291, 74)\n"
     ]
    },
    {
     "data": {
      "text/plain": "      id                         listing_url       scrape_id last_scraped  \\\n0   2818   https://www.airbnb.com/rooms/2818  20210208155251   2021-02-11   \n1  20168  https://www.airbnb.com/rooms/20168  20210208155251   2021-02-11   \n2  25428  https://www.airbnb.com/rooms/25428  20210208155251   2021-02-10   \n3  27886  https://www.airbnb.com/rooms/27886  20210208155251   2021-02-11   \n4  28871  https://www.airbnb.com/rooms/28871  20210208155251   2021-02-10   \n\n                                                name  \\\n0           Quiet Garden View Room & Super Fast WiFi   \n1       Studio with private bathroom in the centre 1   \n2    Lovely, spacious 1 bed apt in Center(with lift)   \n3  Romantic, stylish B&B houseboat in canal district   \n4                            Comfortable double room   \n\n                                                                                                                                                                                                                                                                                                   description  \\\n0  Quiet Garden View Room & Super Fast WiFi<br /><br /><b>The space</b><br />I'm renting a bedroom (room overlooking the garden) in my apartment in Amsterdam, <br /><br />The room is located to the east of the city centre in a quiet, typical Amsterdam neighbourhood the \"Indische Buurt\". Amsterdam’s...   \n1  17th century Dutch townhouse in the heart of the city. no public transport needed! Located a stones throw from Rembrandt Square, Dam Square, Leidse Square and Flower Market. Walking distance from Central Station.<br />Comfortable, cosy, lockable studio with comfortable bed and with private bathr...   \n2  Lovely apt in Centre ( lift & fireplace) near Jordaan<br /><br /><b>The space</b><br />This nicely furnished, newly renovated apt  is very sunny, and spacious with 8 windows. The appliances are fairly new. There are two flat screen TVs, washing machine, dryer, dishwasher, laptop computer, Wi-fi,...   \n3  Stylish and romantic houseboat on fantastic historic location with breathtaking view.  Wheelhouse, deckhouse and captains room. Central, quiet. Great breakfast, 2 vanMoof design bikes and a Canadian Canoe are included. Just read the reviews on tripadvisor for instance!<br /><br /><b>The space</b...   \n4  <b>The space</b><br />In a monumental house right in the center of Amsterdam, we offer two rooms (one single room and one double room) to visitors who want to enjoy the comfort of a home-like accommodation, plus being in the middle of the historic city center, close to all important museums, sho...   \n\n                                                                                                                                                                                                                                                                                         neighborhood_overview  \\\n0  Indische Buurt (\"Indies Neighborhood\") is a neighbourhood in the eastern portion of the city of Amsterdam, in the Dutch province of Noord-Holland. The name dates from the early 20th century and is derived from the fact that the neighbourhood's streets are named after islands and other geographic...   \n1  Located just in between famous central canals. In the streets surrounding the house, there are lots of antique shops, and for those who are into browsing for antiques. The Rijksmuseum is a short walk away. The famous nine-streets with all its little boutique shops, cafes, restaurants and whatnot...   \n2                                                                                                                                                                                                                                                                                                          NaN   \n3                                                                                                                                                                                                                                                                   Central, quiet, safe, clean and beautiful.   \n4                                                                                                                                                                                                                                                                 Flower market , Leidseplein , Rembrantsplein   \n\n                                                                 picture_url  \\\n0            https://a0.muscache.com/pictures/10272854/8dcca016_original.jpg   \n1            https://a0.muscache.com/pictures/69979628/fd6a3a80_original.jpg   \n2              https://a0.muscache.com/pictures/138431/7079a93d_original.jpg   \n3  https://a0.muscache.com/pictures/02c2da9d-660e-451d-8a51-2f7a17469df7.jpg   \n4              https://a0.muscache.com/pictures/160889/362340f7_original.jpg   \n\n   host_id                                  host_url  ...  \\\n0     3159    https://www.airbnb.com/users/show/3159  ...   \n1    59484   https://www.airbnb.com/users/show/59484  ...   \n2    56142   https://www.airbnb.com/users/show/56142  ...   \n3    97647   https://www.airbnb.com/users/show/97647  ...   \n4   124245  https://www.airbnb.com/users/show/124245  ...   \n\n  review_scores_communication review_scores_location review_scores_value  \\\n0                        10.0                    9.0                10.0   \n1                        10.0                   10.0                 9.0   \n2                        10.0                   10.0                10.0   \n3                        10.0                   10.0                10.0   \n4                        10.0                   10.0                10.0   \n\n  license instant_bookable calculated_host_listings_count  \\\n0     NaN                t                              1   \n1     NaN                t                              2   \n2     NaN                f                              1   \n3     NaN                t                              1   \n4     NaN                f                              2   \n\n  calculated_host_listings_count_entire_homes  \\\n0                                           0   \n1                                           0   \n2                                           1   \n3                                           0   \n4                                           0   \n\n  calculated_host_listings_count_private_rooms  \\\n0                                            1   \n1                                            2   \n2                                            0   \n3                                            1   \n4                                            2   \n\n  calculated_host_listings_count_shared_rooms reviews_per_month  \n0                                           0              1.92  \n1                                           0              2.54  \n2                                           0              0.13  \n3                                           0              1.98  \n4                                           0              2.63  \n\n[5 rows x 74 columns]",
      "text/html": "<div>\n<style scoped>\n    .dataframe tbody tr th:only-of-type {\n        vertical-align: middle;\n    }\n\n    .dataframe tbody tr th {\n        vertical-align: top;\n    }\n\n    .dataframe thead th {\n        text-align: right;\n    }\n</style>\n<table border=\"1\" class=\"dataframe\">\n  <thead>\n    <tr style=\"text-align: right;\">\n      <th></th>\n      <th>id</th>\n      <th>listing_url</th>\n      <th>scrape_id</th>\n      <th>last_scraped</th>\n      <th>name</th>\n      <th>description</th>\n      <th>neighborhood_overview</th>\n      <th>picture_url</th>\n      <th>host_id</th>\n      <th>host_url</th>\n      <th>...</th>\n      <th>review_scores_communication</th>\n      <th>review_scores_location</th>\n      <th>review_scores_value</th>\n      <th>license</th>\n      <th>instant_bookable</th>\n      <th>calculated_host_listings_count</th>\n      <th>calculated_host_listings_count_entire_homes</th>\n      <th>calculated_host_listings_count_private_rooms</th>\n      <th>calculated_host_listings_count_shared_rooms</th>\n      <th>reviews_per_month</th>\n    </tr>\n  </thead>\n  <tbody>\n    <tr>\n      <th>0</th>\n      <td>2818</td>\n      <td>https://www.airbnb.com/rooms/2818</td>\n      <td>20210208155251</td>\n      <td>2021-02-11</td>\n      <td>Quiet Garden View Room &amp; Super Fast WiFi</td>\n      <td>Quiet Garden View Room &amp; Super Fast WiFi&lt;br /&gt;&lt;br /&gt;&lt;b&gt;The space&lt;/b&gt;&lt;br /&gt;I'm renting a bedroom (room overlooking the garden) in my apartment in Amsterdam, &lt;br /&gt;&lt;br /&gt;The room is located to the east of the city centre in a quiet, typical Amsterdam neighbourhood the \"Indische Buurt\". Amsterdam’s...</td>\n      <td>Indische Buurt (\"Indies Neighborhood\") is a neighbourhood in the eastern portion of the city of Amsterdam, in the Dutch province of Noord-Holland. The name dates from the early 20th century and is derived from the fact that the neighbourhood's streets are named after islands and other geographic...</td>\n      <td>https://a0.muscache.com/pictures/10272854/8dcca016_original.jpg</td>\n      <td>3159</td>\n      <td>https://www.airbnb.com/users/show/3159</td>\n      <td>...</td>\n      <td>10.0</td>\n      <td>9.0</td>\n      <td>10.0</td>\n      <td>NaN</td>\n      <td>t</td>\n      <td>1</td>\n      <td>0</td>\n      <td>1</td>\n      <td>0</td>\n      <td>1.92</td>\n    </tr>\n    <tr>\n      <th>1</th>\n      <td>20168</td>\n      <td>https://www.airbnb.com/rooms/20168</td>\n      <td>20210208155251</td>\n      <td>2021-02-11</td>\n      <td>Studio with private bathroom in the centre 1</td>\n      <td>17th century Dutch townhouse in the heart of the city. no public transport needed! Located a stones throw from Rembrandt Square, Dam Square, Leidse Square and Flower Market. Walking distance from Central Station.&lt;br /&gt;Comfortable, cosy, lockable studio with comfortable bed and with private bathr...</td>\n      <td>Located just in between famous central canals. In the streets surrounding the house, there are lots of antique shops, and for those who are into browsing for antiques. The Rijksmuseum is a short walk away. The famous nine-streets with all its little boutique shops, cafes, restaurants and whatnot...</td>\n      <td>https://a0.muscache.com/pictures/69979628/fd6a3a80_original.jpg</td>\n      <td>59484</td>\n      <td>https://www.airbnb.com/users/show/59484</td>\n      <td>...</td>\n      <td>10.0</td>\n      <td>10.0</td>\n      <td>9.0</td>\n      <td>NaN</td>\n      <td>t</td>\n      <td>2</td>\n      <td>0</td>\n      <td>2</td>\n      <td>0</td>\n      <td>2.54</td>\n    </tr>\n    <tr>\n      <th>2</th>\n      <td>25428</td>\n      <td>https://www.airbnb.com/rooms/25428</td>\n      <td>20210208155251</td>\n      <td>2021-02-10</td>\n      <td>Lovely, spacious 1 bed apt in Center(with lift)</td>\n      <td>Lovely apt in Centre ( lift &amp; fireplace) near Jordaan&lt;br /&gt;&lt;br /&gt;&lt;b&gt;The space&lt;/b&gt;&lt;br /&gt;This nicely furnished, newly renovated apt  is very sunny, and spacious with 8 windows. The appliances are fairly new. There are two flat screen TVs, washing machine, dryer, dishwasher, laptop computer, Wi-fi,...</td>\n      <td>NaN</td>\n      <td>https://a0.muscache.com/pictures/138431/7079a93d_original.jpg</td>\n      <td>56142</td>\n      <td>https://www.airbnb.com/users/show/56142</td>\n      <td>...</td>\n      <td>10.0</td>\n      <td>10.0</td>\n      <td>10.0</td>\n      <td>NaN</td>\n      <td>f</td>\n      <td>1</td>\n      <td>1</td>\n      <td>0</td>\n      <td>0</td>\n      <td>0.13</td>\n    </tr>\n    <tr>\n      <th>3</th>\n      <td>27886</td>\n      <td>https://www.airbnb.com/rooms/27886</td>\n      <td>20210208155251</td>\n      <td>2021-02-11</td>\n      <td>Romantic, stylish B&amp;B houseboat in canal district</td>\n      <td>Stylish and romantic houseboat on fantastic historic location with breathtaking view.  Wheelhouse, deckhouse and captains room. Central, quiet. Great breakfast, 2 vanMoof design bikes and a Canadian Canoe are included. Just read the reviews on tripadvisor for instance!&lt;br /&gt;&lt;br /&gt;&lt;b&gt;The space&lt;/b...</td>\n      <td>Central, quiet, safe, clean and beautiful.</td>\n      <td>https://a0.muscache.com/pictures/02c2da9d-660e-451d-8a51-2f7a17469df7.jpg</td>\n      <td>97647</td>\n      <td>https://www.airbnb.com/users/show/97647</td>\n      <td>...</td>\n      <td>10.0</td>\n      <td>10.0</td>\n      <td>10.0</td>\n      <td>NaN</td>\n      <td>t</td>\n      <td>1</td>\n      <td>0</td>\n      <td>1</td>\n      <td>0</td>\n      <td>1.98</td>\n    </tr>\n    <tr>\n      <th>4</th>\n      <td>28871</td>\n      <td>https://www.airbnb.com/rooms/28871</td>\n      <td>20210208155251</td>\n      <td>2021-02-10</td>\n      <td>Comfortable double room</td>\n      <td>&lt;b&gt;The space&lt;/b&gt;&lt;br /&gt;In a monumental house right in the center of Amsterdam, we offer two rooms (one single room and one double room) to visitors who want to enjoy the comfort of a home-like accommodation, plus being in the middle of the historic city center, close to all important museums, sho...</td>\n      <td>Flower market , Leidseplein , Rembrantsplein</td>\n      <td>https://a0.muscache.com/pictures/160889/362340f7_original.jpg</td>\n      <td>124245</td>\n      <td>https://www.airbnb.com/users/show/124245</td>\n      <td>...</td>\n      <td>10.0</td>\n      <td>10.0</td>\n      <td>10.0</td>\n      <td>NaN</td>\n      <td>f</td>\n      <td>2</td>\n      <td>0</td>\n      <td>2</td>\n      <td>0</td>\n      <td>2.63</td>\n    </tr>\n  </tbody>\n</table>\n<p>5 rows × 74 columns</p>\n</div>"
     },
     "execution_count": 10,
     "metadata": {},
     "output_type": "execute_result"
    }
   ]
  },
  {
   "cell_type": "code",
   "metadata": {
    "colab": {
     "base_uri": "https://localhost:8080/"
    },
    "id": "XqDn9l30ehQ3",
    "outputId": "3858a24c-e66d-4bb6-add3-a229f5b28a16"
   },
   "source": [
    "# Look at all of the features \n",
    "amsterdam_detailed_listing.columns"
   ],
   "execution_count": 11,
   "outputs": [
    {
     "data": {
      "text/plain": "Index(['id', 'listing_url', 'scrape_id', 'last_scraped', 'name', 'description',\n       'neighborhood_overview', 'picture_url', 'host_id', 'host_url',\n       'host_name', 'host_since', 'host_location', 'host_about',\n       'host_response_time', 'host_response_rate', 'host_acceptance_rate',\n       'host_is_superhost', 'host_thumbnail_url', 'host_picture_url',\n       'host_neighbourhood', 'host_listings_count',\n       'host_total_listings_count', 'host_verifications',\n       'host_has_profile_pic', 'host_identity_verified', 'neighbourhood',\n       'neighbourhood_cleansed', 'neighbourhood_group_cleansed', 'latitude',\n       'longitude', 'property_type', 'room_type', 'accommodates', 'bathrooms',\n       'bathrooms_text', 'bedrooms', 'beds', 'amenities', 'price',\n       'minimum_nights', 'maximum_nights', 'minimum_minimum_nights',\n       'maximum_minimum_nights', 'minimum_maximum_nights',\n       'maximum_maximum_nights', 'minimum_nights_avg_ntm',\n       'maximum_nights_avg_ntm', 'calendar_updated', 'has_availability',\n       'availability_30', 'availability_60', 'availability_90',\n       'availability_365', 'calendar_last_scraped', 'number_of_reviews',\n       'number_of_reviews_ltm', 'number_of_reviews_l30d', 'first_review',\n       'last_review', 'review_scores_rating', 'review_scores_accuracy',\n       'review_scores_cleanliness', 'review_scores_checkin',\n       'review_scores_communication', 'review_scores_location',\n       'review_scores_value', 'license', 'instant_bookable',\n       'calculated_host_listings_count',\n       'calculated_host_listings_count_entire_homes',\n       'calculated_host_listings_count_private_rooms',\n       'calculated_host_listings_count_shared_rooms', 'reviews_per_month'],\n      dtype='object')"
     },
     "execution_count": 11,
     "metadata": {},
     "output_type": "execute_result"
    }
   ]
  },
  {
   "cell_type": "markdown",
   "metadata": {
    "id": "ZhtVQ2t6WXXt"
   },
   "source": [
    "- Since there are 74 features in this dataset, that is a high number of features, and just at a glance I can see, based on the feature names, that there appears to be a lot of features that I will not be of use for my case.\n",
    "\n",
    "- I will be comparing closely related features to decide which ones to keep and which ones I will drop."
   ]
  },
  {
   "cell_type": "markdown",
   "metadata": {
    "id": "4QNqjt6X4s4Z"
   },
   "source": [
    "#### Null Values"
   ]
  },
  {
   "cell_type": "code",
   "metadata": {
    "colab": {
     "base_uri": "https://localhost:8080/"
    },
    "id": "3HOIW32eehOP",
    "outputId": "d2c5d495-0d8e-4008-9673-9103ab0d5af7"
   },
   "source": [
    "# Find out if there are any NaN values\n",
    "amsterdam_detailed_listing.isnull().sum()"
   ],
   "execution_count": 12,
   "outputs": [
    {
     "data": {
      "text/plain": "id                                                  0\nlisting_url                                         0\nscrape_id                                           0\nlast_scraped                                        0\nname                                               33\ndescription                                       297\nneighborhood_overview                            6268\npicture_url                                         0\nhost_id                                             0\nhost_url                                            0\nhost_name                                          63\nhost_since                                         63\nhost_location                                      92\nhost_about                                       7817\nhost_response_time                              14354\nhost_response_rate                              14354\nhost_acceptance_rate                            10495\nhost_is_superhost                                  63\nhost_thumbnail_url                                 63\nhost_picture_url                                   63\nhost_neighbourhood                               6134\nhost_listings_count                                63\nhost_total_listings_count                          63\nhost_verifications                                  0\nhost_has_profile_pic                               63\nhost_identity_verified                             63\nneighbourhood                                    6268\nneighbourhood_cleansed                              0\nneighbourhood_group_cleansed                    18291\nlatitude                                            0\nlongitude                                           0\nproperty_type                                       0\nroom_type                                           0\naccommodates                                        0\nbathrooms                                       18291\nbathrooms_text                                     22\nbedrooms                                          997\nbeds                                              105\namenities                                           0\nprice                                               0\nminimum_nights                                      0\nmaximum_nights                                      0\nminimum_minimum_nights                              3\nmaximum_minimum_nights                              3\nminimum_maximum_nights                              3\nmaximum_maximum_nights                              3\nminimum_nights_avg_ntm                              3\nmaximum_nights_avg_ntm                              3\ncalendar_updated                                18291\nhas_availability                                    0\navailability_30                                     0\navailability_60                                     0\navailability_90                                     0\navailability_365                                    0\ncalendar_last_scraped                               0\nnumber_of_reviews                                   0\nnumber_of_reviews_ltm                               0\nnumber_of_reviews_l30d                              0\nfirst_review                                     2389\nlast_review                                      2389\nreview_scores_rating                             2632\nreview_scores_accuracy                           2642\nreview_scores_cleanliness                        2642\nreview_scores_checkin                            2650\nreview_scores_communication                      2643\nreview_scores_location                           2648\nreview_scores_value                              2648\nlicense                                         18291\ninstant_bookable                                    0\ncalculated_host_listings_count                      0\ncalculated_host_listings_count_entire_homes         0\ncalculated_host_listings_count_private_rooms        0\ncalculated_host_listings_count_shared_rooms         0\nreviews_per_month                                2389\ndtype: int64"
     },
     "execution_count": 12,
     "metadata": {},
     "output_type": "execute_result"
    }
   ]
  },
  {
   "cell_type": "markdown",
   "metadata": {
    "id": "r7lD9zH9ZhPD"
   },
   "source": [
    "- Some of the features appear to be all null values or the majority is null.\n",
    "\n",
    "- Need to just remove those features because they are not going to give any useful information."
   ]
  },
  {
   "cell_type": "code",
   "metadata": {
    "id": "zuhIrAb7ZYy8"
   },
   "source": [
    "# Remove any features that have more than half of their values as null.\n",
    "# Also removing values that appear to be of little or no value for my project.\n",
    "remove_cols = ['host_response_time', 'host_response_rate', \n",
    "               'host_acceptance_rate', 'neighbourhood_group_cleansed', \n",
    "               'bathrooms', 'calendar_updated', 'license', 'scrape_id', \n",
    "               'host_thumbnail_url', 'calendar_last_scraped']\n",
    "\n",
    "# Remove the features in the above list\n",
    "amsterdam_detailed_listing = amsterdam_detailed_listing.drop(columns=remove_cols)"
   ],
   "execution_count": 13,
   "outputs": []
  },
  {
   "cell_type": "code",
   "metadata": {
    "colab": {
     "base_uri": "https://localhost:8080/"
    },
    "id": "7KquRYBjc7hz",
    "outputId": "6f76e619-be51-4e1d-cf36-3eb5a7008d29"
   },
   "source": [
    "# Look at the new shape and my null values now\n",
    "print(f'Rows: {amsterdam_detailed_listing.shape[0]}, Features: {amsterdam_detailed_listing.shape[1]}')\n",
    "amsterdam_detailed_listing.isnull().sum()"
   ],
   "execution_count": 14,
   "outputs": [
    {
     "name": "stdout",
     "output_type": "stream",
     "text": [
      "Rows: 18291, Features: 64\n"
     ]
    },
    {
     "data": {
      "text/plain": "id                                                 0\nlisting_url                                        0\nlast_scraped                                       0\nname                                              33\ndescription                                      297\nneighborhood_overview                           6268\npicture_url                                        0\nhost_id                                            0\nhost_url                                           0\nhost_name                                         63\nhost_since                                        63\nhost_location                                     92\nhost_about                                      7817\nhost_is_superhost                                 63\nhost_picture_url                                  63\nhost_neighbourhood                              6134\nhost_listings_count                               63\nhost_total_listings_count                         63\nhost_verifications                                 0\nhost_has_profile_pic                              63\nhost_identity_verified                            63\nneighbourhood                                   6268\nneighbourhood_cleansed                             0\nlatitude                                           0\nlongitude                                          0\nproperty_type                                      0\nroom_type                                          0\naccommodates                                       0\nbathrooms_text                                    22\nbedrooms                                         997\nbeds                                             105\namenities                                          0\nprice                                              0\nminimum_nights                                     0\nmaximum_nights                                     0\nminimum_minimum_nights                             3\nmaximum_minimum_nights                             3\nminimum_maximum_nights                             3\nmaximum_maximum_nights                             3\nminimum_nights_avg_ntm                             3\nmaximum_nights_avg_ntm                             3\nhas_availability                                   0\navailability_30                                    0\navailability_60                                    0\navailability_90                                    0\navailability_365                                   0\nnumber_of_reviews                                  0\nnumber_of_reviews_ltm                              0\nnumber_of_reviews_l30d                             0\nfirst_review                                    2389\nlast_review                                     2389\nreview_scores_rating                            2632\nreview_scores_accuracy                          2642\nreview_scores_cleanliness                       2642\nreview_scores_checkin                           2650\nreview_scores_communication                     2643\nreview_scores_location                          2648\nreview_scores_value                             2648\ninstant_bookable                                   0\ncalculated_host_listings_count                     0\ncalculated_host_listings_count_entire_homes        0\ncalculated_host_listings_count_private_rooms       0\ncalculated_host_listings_count_shared_rooms        0\nreviews_per_month                               2389\ndtype: int64"
     },
     "execution_count": 14,
     "metadata": {},
     "output_type": "execute_result"
    }
   ]
  },
  {
   "cell_type": "markdown",
   "metadata": {
    "id": "h6eG77R74iPs"
   },
   "source": [
    "#### Location Features"
   ]
  },
  {
   "cell_type": "code",
   "metadata": {
    "colab": {
     "base_uri": "https://localhost:8080/",
     "height": 272
    },
    "id": "JjcFYegBwYSV",
    "outputId": "9daff3a2-1236-4a15-f2a7-28c6e90335fd"
   },
   "source": [
    "# Compare the neighbourhood featureskeep both features or just one.\n",
    "amsterdam_detailed_listing[['neighbourhood', 'neighborhood_overview', \n",
    "                            'neighbourhood_cleansed']].sample(5)"
   ],
   "execution_count": 15,
   "outputs": [
    {
     "data": {
      "text/plain": "                               neighbourhood  \\\n5692   Amsterdam, Noord-Holland, Netherlands   \n3002   Amsterdam, Noord-Holland, Netherlands   \n8145                                     NaN   \n17418  Amsterdam, Noord-Holland, Netherlands   \n13734  Amsterdam, Noord-Holland, Netherlands   \n\n                                                                                                                                                                                                                                                                                             neighborhood_overview  \\\n5692   The apartment is located between the vibrant Baarsjes and the City Centre. The City Centre is easily reachable with public transport or by bike, there are the most tourist venues located.<br /><br />The Baarsjes is a district remarkably close to the city centre. It is an upcoming neighborhood ve...   \n3002   The apartment lies just across the water from central station, in the lovely area of Amsterdam North. A free ferry travels day and night and takes you across the water in just 3 minutes. The NY Times recently called this one of the hippest neighborhoods in the world. A lot of young creative peop...   \n8145                                                                                                                                                                                                                                                                                                           NaN   \n17418  We are located in the beautiful Westerpark where you can find tons to do:<br />- Plenty of bars, a local brewery and a very cool arcade bar at Westergasfabriek.<br />- A variety of restaurants including our very own Bar Kantoor which serves all day organic dishes and drinks. <br />- At our sexy ...   \n13734  The perfect neighborhood for guests, who would like to be close to the City Center, while still being able to get undisturbed night rest.  The nearby Alber Hejn and Dirk Van Den Broek's Supermarket  are  just 4 minutes walking distance from your apartment , in case you want to do groceries. If n...   \n\n      neighbourhood_cleansed  \n5692              Westerpark  \n3002               Oud-Noord  \n8145                    Zuid  \n17418             Westerpark  \n13734          Bos en Lommer  ",
      "text/html": "<div>\n<style scoped>\n    .dataframe tbody tr th:only-of-type {\n        vertical-align: middle;\n    }\n\n    .dataframe tbody tr th {\n        vertical-align: top;\n    }\n\n    .dataframe thead th {\n        text-align: right;\n    }\n</style>\n<table border=\"1\" class=\"dataframe\">\n  <thead>\n    <tr style=\"text-align: right;\">\n      <th></th>\n      <th>neighbourhood</th>\n      <th>neighborhood_overview</th>\n      <th>neighbourhood_cleansed</th>\n    </tr>\n  </thead>\n  <tbody>\n    <tr>\n      <th>5692</th>\n      <td>Amsterdam, Noord-Holland, Netherlands</td>\n      <td>The apartment is located between the vibrant Baarsjes and the City Centre. The City Centre is easily reachable with public transport or by bike, there are the most tourist venues located.&lt;br /&gt;&lt;br /&gt;The Baarsjes is a district remarkably close to the city centre. It is an upcoming neighborhood ve...</td>\n      <td>Westerpark</td>\n    </tr>\n    <tr>\n      <th>3002</th>\n      <td>Amsterdam, Noord-Holland, Netherlands</td>\n      <td>The apartment lies just across the water from central station, in the lovely area of Amsterdam North. A free ferry travels day and night and takes you across the water in just 3 minutes. The NY Times recently called this one of the hippest neighborhoods in the world. A lot of young creative peop...</td>\n      <td>Oud-Noord</td>\n    </tr>\n    <tr>\n      <th>8145</th>\n      <td>NaN</td>\n      <td>NaN</td>\n      <td>Zuid</td>\n    </tr>\n    <tr>\n      <th>17418</th>\n      <td>Amsterdam, Noord-Holland, Netherlands</td>\n      <td>We are located in the beautiful Westerpark where you can find tons to do:&lt;br /&gt;- Plenty of bars, a local brewery and a very cool arcade bar at Westergasfabriek.&lt;br /&gt;- A variety of restaurants including our very own Bar Kantoor which serves all day organic dishes and drinks. &lt;br /&gt;- At our sexy ...</td>\n      <td>Westerpark</td>\n    </tr>\n    <tr>\n      <th>13734</th>\n      <td>Amsterdam, Noord-Holland, Netherlands</td>\n      <td>The perfect neighborhood for guests, who would like to be close to the City Center, while still being able to get undisturbed night rest.  The nearby Alber Hejn and Dirk Van Den Broek's Supermarket  are  just 4 minutes walking distance from your apartment , in case you want to do groceries. If n...</td>\n      <td>Bos en Lommer</td>\n    </tr>\n  </tbody>\n</table>\n</div>"
     },
     "execution_count": 15,
     "metadata": {},
     "output_type": "execute_result"
    }
   ]
  },
  {
   "cell_type": "markdown",
   "metadata": {
    "id": "vbIPMDG1TMO8"
   },
   "source": [
    "- Going to keep the `neighborhood_overview` and\t`neighbourhood_cleansed` features at this point because they seem to both contain potentionally valuable information. May change it later depending on the rest of the data and what I find there.\n",
    "\n",
    "- Did not include them here but goes with location features, I am keeping `latitude` and `longitude` since I believe they can be helpful for visualiztions if time allows me to add them to this project. I believe these might even be helpful in the prediction but not sure if I am going to include these features yet. Will decide when I get to the model creation part of this project.\n"
   ]
  },
  {
   "cell_type": "code",
   "metadata": {
    "colab": {
     "base_uri": "https://localhost:8080/"
    },
    "id": "DPfxrdWyz3uL",
    "outputId": "87cc9507-6ccc-49d6-9532-45ac0ab2b7aa"
   },
   "source": [
    "# Remove the features from above that is not needed\n",
    "amsterdam_detailed_listing = amsterdam_detailed_listing.drop(columns='neighbourhood')\n",
    "\n",
    "# Look at the new shape to check my work\n",
    "print(f'Rows: {amsterdam_detailed_listing.shape[0]}, Features: {amsterdam_detailed_listing.shape[1]}')"
   ],
   "execution_count": 16,
   "outputs": [
    {
     "name": "stdout",
     "output_type": "stream",
     "text": [
      "Rows: 18291, Features: 63\n"
     ]
    }
   ]
  },
  {
   "cell_type": "markdown",
   "metadata": {
    "id": "4mgGKt49cQib"
   },
   "source": [
    "#### Host Features"
   ]
  },
  {
   "cell_type": "code",
   "metadata": {
    "colab": {
     "base_uri": "https://localhost:8080/",
     "height": 1000
    },
    "id": "ufd6FEDDx5fS",
    "outputId": "d365e435-5d70-4d63-d7a2-e9a59262af98"
   },
   "source": [
    "# Compare all the host features\n",
    "amsterdam_detailed_listing[['host_id', 'host_url', 'host_name', 'host_since',\n",
    "                            'host_location', 'host_about', 'host_is_superhost', \n",
    "                            'host_picture_url', 'host_neighbourhood', \n",
    "                            'host_listings_count', 'host_total_listings_count',\n",
    "                            'host_verifications', 'host_has_profile_pic', \n",
    "                            'host_identity_verified', \n",
    "                            'calculated_host_listings_count', \n",
    "                            'calculated_host_listings_count_entire_homes',\n",
    "                            'calculated_host_listings_count_private_rooms',\n",
    "                            'calculated_host_listings_count_shared_rooms']].sample(5)"
   ],
   "execution_count": 17,
   "outputs": [
    {
     "data": {
      "text/plain": "         host_id                                     host_url  \\\n12730  205189174  https://www.airbnb.com/users/show/205189174   \n9988   135487531  https://www.airbnb.com/users/show/135487531   \n17776  135209570  https://www.airbnb.com/users/show/135209570   \n7812   107474210  https://www.airbnb.com/users/show/107474210   \n1586    17711481   https://www.airbnb.com/users/show/17711481   \n\n             host_name  host_since                              host_location  \\\n12730            Anton  2018-07-26                                         NL   \n9988   Rogier & Nicole  2017-06-17      Amsterdam, North Holland, Netherlands   \n17776          Nielske  2017-06-15      Amsterdam, North Holland, Netherlands   \n7812           Marleen  2016-12-16      Amsterdam, North Holland, Netherlands   \n1586             Anton  2014-07-06  Amsterdam, North Holland, The Netherlands   \n\n                                                                                                                                                                                                                                                                                                        host_about  \\\n12730                                                                                                                                                                                                                                                                                                          NaN   \n9988   We are a couple from Amsterdam and we love to travel. A few years ago we've hosted a wintersport chalet in Austria. We liked it so much that we wanted to open our own B&B. What started out with the idea of a small cabin in the backyard, became much bigger when we got the opportunity of opening t...   \n17776  Hello,\\n\\nI’m Niels, I lived all over the world, love to travel and meet new people. I’m an energetic, creative father that lives in Amsterdam for work. Love this  amazing city and can help anyone with some great trip advice in the city. Love to host you around the city... and hope to see you so...   \n7812                                                                                          The two of us are in our forties and we have two children, a 9-year-old girl and a 6-year-old boy. We love the city (theatre, museums, restaurants), but we also love nature (peace, green, water, preferably sea).    \n1586                                                              Anton and Berthe are both 33 years old and we live in the old center of Amsterdam. We love good food, traveling and meeting interesting people. We like mid century Danish and American design and collect curiosities from all over the world.    \n\n      host_is_superhost  \\\n12730                 f   \n9988                  f   \n17776                 f   \n7812                  f   \n1586                  f   \n\n                                                                                                    host_picture_url  \\\n12730  https://a0.muscache.com/im/pictures/user/fedb644f-c262-4200-a626-869659901bbb.jpg?aki_policy=profile_x_medium   \n9988   https://a0.muscache.com/im/pictures/user/b7160bf2-33b0-40f5-86e8-711543f2e5f9.jpg?aki_policy=profile_x_medium   \n17776  https://a0.muscache.com/im/pictures/user/859dc7d4-b85e-4f4e-bb2d-32be09d53def.jpg?aki_policy=profile_x_medium   \n7812   https://a0.muscache.com/im/pictures/user/ea27b57c-c187-450d-ab5d-918827968d00.jpg?aki_policy=profile_x_medium   \n1586       https://a0.muscache.com/im/users/17711481/profile_pic/1406849324/original.jpg?aki_policy=profile_x_medium   \n\n                        host_neighbourhood  host_listings_count  \\\n12730                                  NaN                  6.0   \n9988                         Oostzanerwerf                  7.0   \n17776                                  NaN                  0.0   \n7812   Nieuwendammerdijk en Buiksloterdijk                  1.0   \n1586                             De Wallen                  1.0   \n\n       host_total_listings_count  \\\n12730                        6.0   \n9988                         7.0   \n17776                        0.0   \n7812                         1.0   \n1586                         1.0   \n\n                                                                                                   host_verifications  \\\n12730              ['email', 'phone', 'jumio', 'offline_government_id', 'selfie', 'government_id', 'identity_manual']   \n9988                   ['email', 'phone', 'reviews', 'jumio', 'offline_government_id', 'government_id', 'work_email']   \n17776  ['email', 'phone', 'facebook', 'jumio', 'offline_government_id', 'selfie', 'government_id', 'identity_manual']   \n7812                                 ['email', 'phone', 'reviews', 'jumio', 'offline_government_id', 'government_id']   \n1586                                                                           ['email', 'phone', 'reviews', 'jumio']   \n\n      host_has_profile_pic host_identity_verified  \\\n12730                    t                      t   \n9988                     t                      t   \n17776                    t                      t   \n7812                     t                      t   \n1586                     t                      t   \n\n       calculated_host_listings_count  \\\n12730                               4   \n9988                                7   \n17776                               1   \n7812                                1   \n1586                                1   \n\n       calculated_host_listings_count_entire_homes  \\\n12730                                            0   \n9988                                             7   \n17776                                            1   \n7812                                             1   \n1586                                             1   \n\n       calculated_host_listings_count_private_rooms  \\\n12730                                             4   \n9988                                              0   \n17776                                             0   \n7812                                              0   \n1586                                              0   \n\n       calculated_host_listings_count_shared_rooms  \n12730                                            0  \n9988                                             0  \n17776                                            0  \n7812                                             0  \n1586                                             0  ",
      "text/html": "<div>\n<style scoped>\n    .dataframe tbody tr th:only-of-type {\n        vertical-align: middle;\n    }\n\n    .dataframe tbody tr th {\n        vertical-align: top;\n    }\n\n    .dataframe thead th {\n        text-align: right;\n    }\n</style>\n<table border=\"1\" class=\"dataframe\">\n  <thead>\n    <tr style=\"text-align: right;\">\n      <th></th>\n      <th>host_id</th>\n      <th>host_url</th>\n      <th>host_name</th>\n      <th>host_since</th>\n      <th>host_location</th>\n      <th>host_about</th>\n      <th>host_is_superhost</th>\n      <th>host_picture_url</th>\n      <th>host_neighbourhood</th>\n      <th>host_listings_count</th>\n      <th>host_total_listings_count</th>\n      <th>host_verifications</th>\n      <th>host_has_profile_pic</th>\n      <th>host_identity_verified</th>\n      <th>calculated_host_listings_count</th>\n      <th>calculated_host_listings_count_entire_homes</th>\n      <th>calculated_host_listings_count_private_rooms</th>\n      <th>calculated_host_listings_count_shared_rooms</th>\n    </tr>\n  </thead>\n  <tbody>\n    <tr>\n      <th>12730</th>\n      <td>205189174</td>\n      <td>https://www.airbnb.com/users/show/205189174</td>\n      <td>Anton</td>\n      <td>2018-07-26</td>\n      <td>NL</td>\n      <td>NaN</td>\n      <td>f</td>\n      <td>https://a0.muscache.com/im/pictures/user/fedb644f-c262-4200-a626-869659901bbb.jpg?aki_policy=profile_x_medium</td>\n      <td>NaN</td>\n      <td>6.0</td>\n      <td>6.0</td>\n      <td>['email', 'phone', 'jumio', 'offline_government_id', 'selfie', 'government_id', 'identity_manual']</td>\n      <td>t</td>\n      <td>t</td>\n      <td>4</td>\n      <td>0</td>\n      <td>4</td>\n      <td>0</td>\n    </tr>\n    <tr>\n      <th>9988</th>\n      <td>135487531</td>\n      <td>https://www.airbnb.com/users/show/135487531</td>\n      <td>Rogier &amp; Nicole</td>\n      <td>2017-06-17</td>\n      <td>Amsterdam, North Holland, Netherlands</td>\n      <td>We are a couple from Amsterdam and we love to travel. A few years ago we've hosted a wintersport chalet in Austria. We liked it so much that we wanted to open our own B&amp;B. What started out with the idea of a small cabin in the backyard, became much bigger when we got the opportunity of opening t...</td>\n      <td>f</td>\n      <td>https://a0.muscache.com/im/pictures/user/b7160bf2-33b0-40f5-86e8-711543f2e5f9.jpg?aki_policy=profile_x_medium</td>\n      <td>Oostzanerwerf</td>\n      <td>7.0</td>\n      <td>7.0</td>\n      <td>['email', 'phone', 'reviews', 'jumio', 'offline_government_id', 'government_id', 'work_email']</td>\n      <td>t</td>\n      <td>t</td>\n      <td>7</td>\n      <td>7</td>\n      <td>0</td>\n      <td>0</td>\n    </tr>\n    <tr>\n      <th>17776</th>\n      <td>135209570</td>\n      <td>https://www.airbnb.com/users/show/135209570</td>\n      <td>Nielske</td>\n      <td>2017-06-15</td>\n      <td>Amsterdam, North Holland, Netherlands</td>\n      <td>Hello,\\n\\nI’m Niels, I lived all over the world, love to travel and meet new people. I’m an energetic, creative father that lives in Amsterdam for work. Love this  amazing city and can help anyone with some great trip advice in the city. Love to host you around the city... and hope to see you so...</td>\n      <td>f</td>\n      <td>https://a0.muscache.com/im/pictures/user/859dc7d4-b85e-4f4e-bb2d-32be09d53def.jpg?aki_policy=profile_x_medium</td>\n      <td>NaN</td>\n      <td>0.0</td>\n      <td>0.0</td>\n      <td>['email', 'phone', 'facebook', 'jumio', 'offline_government_id', 'selfie', 'government_id', 'identity_manual']</td>\n      <td>t</td>\n      <td>t</td>\n      <td>1</td>\n      <td>1</td>\n      <td>0</td>\n      <td>0</td>\n    </tr>\n    <tr>\n      <th>7812</th>\n      <td>107474210</td>\n      <td>https://www.airbnb.com/users/show/107474210</td>\n      <td>Marleen</td>\n      <td>2016-12-16</td>\n      <td>Amsterdam, North Holland, Netherlands</td>\n      <td>The two of us are in our forties and we have two children, a 9-year-old girl and a 6-year-old boy. We love the city (theatre, museums, restaurants), but we also love nature (peace, green, water, preferably sea).</td>\n      <td>f</td>\n      <td>https://a0.muscache.com/im/pictures/user/ea27b57c-c187-450d-ab5d-918827968d00.jpg?aki_policy=profile_x_medium</td>\n      <td>Nieuwendammerdijk en Buiksloterdijk</td>\n      <td>1.0</td>\n      <td>1.0</td>\n      <td>['email', 'phone', 'reviews', 'jumio', 'offline_government_id', 'government_id']</td>\n      <td>t</td>\n      <td>t</td>\n      <td>1</td>\n      <td>1</td>\n      <td>0</td>\n      <td>0</td>\n    </tr>\n    <tr>\n      <th>1586</th>\n      <td>17711481</td>\n      <td>https://www.airbnb.com/users/show/17711481</td>\n      <td>Anton</td>\n      <td>2014-07-06</td>\n      <td>Amsterdam, North Holland, The Netherlands</td>\n      <td>Anton and Berthe are both 33 years old and we live in the old center of Amsterdam. We love good food, traveling and meeting interesting people. We like mid century Danish and American design and collect curiosities from all over the world.</td>\n      <td>f</td>\n      <td>https://a0.muscache.com/im/users/17711481/profile_pic/1406849324/original.jpg?aki_policy=profile_x_medium</td>\n      <td>De Wallen</td>\n      <td>1.0</td>\n      <td>1.0</td>\n      <td>['email', 'phone', 'reviews', 'jumio']</td>\n      <td>t</td>\n      <td>t</td>\n      <td>1</td>\n      <td>1</td>\n      <td>0</td>\n      <td>0</td>\n    </tr>\n  </tbody>\n</table>\n</div>"
     },
     "execution_count": 17,
     "metadata": {},
     "output_type": "execute_result"
    }
   ]
  },
  {
   "cell_type": "markdown",
   "metadata": {
    "id": "WAtGupq9VmV8"
   },
   "source": [
    "- Going to be dropping `'host_id', 'host_url', 'host_name', 'host_location', 'host_about', 'host_picture_url', 'host_neighbourhood', 'host_listings_count', 'host_verifications'` because these will not add any value to the model and I see no other use for them.\n",
    "\n",
    "- All of the `calculated_host_listings_...` do not appear to be useful to me at this point. I am drop them all.\n",
    "\n",
    "- Rename features for easier readability.\n",
    "\n",
    "- Will be replacing all `t` with `True` and all `f` with `False`.\n"
   ]
  },
  {
   "cell_type": "code",
   "metadata": {
    "colab": {
     "base_uri": "https://localhost:8080/",
     "height": 221
    },
    "id": "JxI0mMJnXaHt",
    "outputId": "b0fcf071-396c-456f-e938-67b2ce5d4b6b"
   },
   "source": [
    "# Remove the features from above that is not needed\n",
    "amsterdam_detailed_listing = amsterdam_detailed_listing.drop(\n",
    "    columns=['host_id', 'host_url', 'host_name', 'host_location', 'host_about', \n",
    "             'host_picture_url', 'host_neighbourhood', 'host_listings_count', \n",
    "             'host_verifications', 'calculated_host_listings_count', \n",
    "             'calculated_host_listings_count_entire_homes', \n",
    "             'calculated_host_listings_count_private_rooms', \n",
    "             'calculated_host_listings_count_shared_rooms'])\n",
    "\n",
    "# Rename features\n",
    "amsterdam_detailed_listing.rename(columns={'host_is_superhost': 'superhost', \n",
    "                                'host_total_listings_count': 'total_listings', \n",
    "                                'host_has_profile_pic': 'profile_pic', \n",
    "                                'host_identity_verified': 'verified_id'},\n",
    "                                inplace=True)\n",
    "\n",
    "# Replace all t and f with 1 and 0\n",
    "amsterdam_detailed_listing[['superhost', 'profile_pic', 'verified_id'\n",
    "        ]] = amsterdam_detailed_listing[['superhost', 'profile_pic', \n",
    "                                         'verified_id']].replace(['t', 'f', \n",
    "                                                                  np.nan],\n",
    "                                                                 [True, False, \n",
    "                                                                  False])\n",
    "\n",
    "# Look at the new shape and a sample of 3 to check my work\n",
    "print(f'Rows: {amsterdam_detailed_listing.shape[0]}, Features: {amsterdam_detailed_listing.shape[1]}')\n",
    "amsterdam_detailed_listing[['host_since', 'superhost', 'total_listings', \n",
    "                            'profile_pic', 'verified_id']].sample(5)"
   ],
   "execution_count": 18,
   "outputs": [
    {
     "name": "stdout",
     "output_type": "stream",
     "text": [
      "Rows: 18291, Features: 50\n"
     ]
    },
    {
     "data": {
      "text/plain": "       host_since  superhost  total_listings  profile_pic  verified_id\n1814   2013-09-16      False             1.0         True        False\n2925   2015-06-03      False             1.0         True         True\n12232  2016-04-05      False            85.0         True         True\n11497  2012-10-26       True             1.0         True        False\n17548  2018-08-27      False             1.0         True         True",
      "text/html": "<div>\n<style scoped>\n    .dataframe tbody tr th:only-of-type {\n        vertical-align: middle;\n    }\n\n    .dataframe tbody tr th {\n        vertical-align: top;\n    }\n\n    .dataframe thead th {\n        text-align: right;\n    }\n</style>\n<table border=\"1\" class=\"dataframe\">\n  <thead>\n    <tr style=\"text-align: right;\">\n      <th></th>\n      <th>host_since</th>\n      <th>superhost</th>\n      <th>total_listings</th>\n      <th>profile_pic</th>\n      <th>verified_id</th>\n    </tr>\n  </thead>\n  <tbody>\n    <tr>\n      <th>1814</th>\n      <td>2013-09-16</td>\n      <td>False</td>\n      <td>1.0</td>\n      <td>True</td>\n      <td>False</td>\n    </tr>\n    <tr>\n      <th>2925</th>\n      <td>2015-06-03</td>\n      <td>False</td>\n      <td>1.0</td>\n      <td>True</td>\n      <td>True</td>\n    </tr>\n    <tr>\n      <th>12232</th>\n      <td>2016-04-05</td>\n      <td>False</td>\n      <td>85.0</td>\n      <td>True</td>\n      <td>True</td>\n    </tr>\n    <tr>\n      <th>11497</th>\n      <td>2012-10-26</td>\n      <td>True</td>\n      <td>1.0</td>\n      <td>True</td>\n      <td>False</td>\n    </tr>\n    <tr>\n      <th>17548</th>\n      <td>2018-08-27</td>\n      <td>False</td>\n      <td>1.0</td>\n      <td>True</td>\n      <td>True</td>\n    </tr>\n  </tbody>\n</table>\n</div>"
     },
     "execution_count": 18,
     "metadata": {},
     "output_type": "execute_result"
    }
   ]
  },
  {
   "cell_type": "markdown",
   "metadata": {
    "id": "EGE9EAn-XZrU"
   },
   "source": [
    "#### Reviews"
   ]
  },
  {
   "cell_type": "code",
   "metadata": {
    "colab": {
     "base_uri": "https://localhost:8080/",
     "height": 379
    },
    "id": "-xP6cyaKyPRC",
    "outputId": "a45d2830-da83-44b9-dd94-6f852c7c34d7"
   },
   "source": [
    "# Compare all the review features\n",
    "amsterdam_detailed_listing[['number_of_reviews', 'number_of_reviews_ltm',\n",
    "        'number_of_reviews_l30d', 'first_review', 'last_review', \n",
    "        'review_scores_rating', 'review_scores_accuracy', \n",
    "        'review_scores_cleanliness', 'review_scores_checkin', \n",
    "        'review_scores_communication', 'review_scores_location',\n",
    "        'review_scores_value', 'reviews_per_month']].sample(10)"
   ],
   "execution_count": 19,
   "outputs": [
    {
     "data": {
      "text/plain": "       number_of_reviews  number_of_reviews_ltm  number_of_reviews_l30d  \\\n17942                  0                      0                       0   \n9076                   7                      0                       0   \n4694                   0                      0                       0   \n8466                   7                      0                       0   \n13132                 15                      4                       0   \n7436                  31                      1                       0   \n9013                   6                      0                       0   \n14776                  4                      0                       0   \n16294                  1                      0                       0   \n6083                  30                      0                       0   \n\n      first_review last_review  review_scores_rating  review_scores_accuracy  \\\n17942          NaN         NaN                   NaN                     NaN   \n9076    2017-06-04  2020-01-01                  97.0                    10.0   \n4694           NaN         NaN                   NaN                     NaN   \n8466    2017-05-07  2018-01-03                 100.0                    10.0   \n13132   2018-12-06  2020-09-20                  85.0                     9.0   \n7436    2016-11-05  2020-03-18                  98.0                    10.0   \n9013    2017-05-26  2019-12-29                 100.0                    10.0   \n14776   2019-05-19  2020-01-02                 100.0                    10.0   \n16294   2019-12-01  2019-12-01                 100.0                    10.0   \n6083    2016-07-01  2020-01-21                 100.0                    10.0   \n\n       review_scores_cleanliness  review_scores_checkin  \\\n17942                        NaN                    NaN   \n9076                        10.0                    9.0   \n4694                         NaN                    NaN   \n8466                        10.0                   10.0   \n13132                        9.0                    9.0   \n7436                         9.0                   10.0   \n9013                         9.0                   10.0   \n14776                       10.0                   10.0   \n16294                       10.0                   10.0   \n6083                        10.0                   10.0   \n\n       review_scores_communication  review_scores_location  \\\n17942                          NaN                     NaN   \n9076                          10.0                    10.0   \n4694                           NaN                     NaN   \n8466                          10.0                    10.0   \n13132                          9.0                     9.0   \n7436                          10.0                     9.0   \n9013                          10.0                    10.0   \n14776                         10.0                    10.0   \n16294                         10.0                    10.0   \n6083                          10.0                    10.0   \n\n       review_scores_value  reviews_per_month  \n17942                  NaN                NaN  \n9076                   9.0               0.16  \n4694                   NaN                NaN  \n8466                  10.0               0.15  \n13132                  9.0               0.56  \n7436                   9.0               0.60  \n9013                   9.0               0.13  \n14776                 10.0               0.19  \n16294                 10.0               0.07  \n6083                  10.0               0.53  ",
      "text/html": "<div>\n<style scoped>\n    .dataframe tbody tr th:only-of-type {\n        vertical-align: middle;\n    }\n\n    .dataframe tbody tr th {\n        vertical-align: top;\n    }\n\n    .dataframe thead th {\n        text-align: right;\n    }\n</style>\n<table border=\"1\" class=\"dataframe\">\n  <thead>\n    <tr style=\"text-align: right;\">\n      <th></th>\n      <th>number_of_reviews</th>\n      <th>number_of_reviews_ltm</th>\n      <th>number_of_reviews_l30d</th>\n      <th>first_review</th>\n      <th>last_review</th>\n      <th>review_scores_rating</th>\n      <th>review_scores_accuracy</th>\n      <th>review_scores_cleanliness</th>\n      <th>review_scores_checkin</th>\n      <th>review_scores_communication</th>\n      <th>review_scores_location</th>\n      <th>review_scores_value</th>\n      <th>reviews_per_month</th>\n    </tr>\n  </thead>\n  <tbody>\n    <tr>\n      <th>17942</th>\n      <td>0</td>\n      <td>0</td>\n      <td>0</td>\n      <td>NaN</td>\n      <td>NaN</td>\n      <td>NaN</td>\n      <td>NaN</td>\n      <td>NaN</td>\n      <td>NaN</td>\n      <td>NaN</td>\n      <td>NaN</td>\n      <td>NaN</td>\n      <td>NaN</td>\n    </tr>\n    <tr>\n      <th>9076</th>\n      <td>7</td>\n      <td>0</td>\n      <td>0</td>\n      <td>2017-06-04</td>\n      <td>2020-01-01</td>\n      <td>97.0</td>\n      <td>10.0</td>\n      <td>10.0</td>\n      <td>9.0</td>\n      <td>10.0</td>\n      <td>10.0</td>\n      <td>9.0</td>\n      <td>0.16</td>\n    </tr>\n    <tr>\n      <th>4694</th>\n      <td>0</td>\n      <td>0</td>\n      <td>0</td>\n      <td>NaN</td>\n      <td>NaN</td>\n      <td>NaN</td>\n      <td>NaN</td>\n      <td>NaN</td>\n      <td>NaN</td>\n      <td>NaN</td>\n      <td>NaN</td>\n      <td>NaN</td>\n      <td>NaN</td>\n    </tr>\n    <tr>\n      <th>8466</th>\n      <td>7</td>\n      <td>0</td>\n      <td>0</td>\n      <td>2017-05-07</td>\n      <td>2018-01-03</td>\n      <td>100.0</td>\n      <td>10.0</td>\n      <td>10.0</td>\n      <td>10.0</td>\n      <td>10.0</td>\n      <td>10.0</td>\n      <td>10.0</td>\n      <td>0.15</td>\n    </tr>\n    <tr>\n      <th>13132</th>\n      <td>15</td>\n      <td>4</td>\n      <td>0</td>\n      <td>2018-12-06</td>\n      <td>2020-09-20</td>\n      <td>85.0</td>\n      <td>9.0</td>\n      <td>9.0</td>\n      <td>9.0</td>\n      <td>9.0</td>\n      <td>9.0</td>\n      <td>9.0</td>\n      <td>0.56</td>\n    </tr>\n    <tr>\n      <th>7436</th>\n      <td>31</td>\n      <td>1</td>\n      <td>0</td>\n      <td>2016-11-05</td>\n      <td>2020-03-18</td>\n      <td>98.0</td>\n      <td>10.0</td>\n      <td>9.0</td>\n      <td>10.0</td>\n      <td>10.0</td>\n      <td>9.0</td>\n      <td>9.0</td>\n      <td>0.60</td>\n    </tr>\n    <tr>\n      <th>9013</th>\n      <td>6</td>\n      <td>0</td>\n      <td>0</td>\n      <td>2017-05-26</td>\n      <td>2019-12-29</td>\n      <td>100.0</td>\n      <td>10.0</td>\n      <td>9.0</td>\n      <td>10.0</td>\n      <td>10.0</td>\n      <td>10.0</td>\n      <td>9.0</td>\n      <td>0.13</td>\n    </tr>\n    <tr>\n      <th>14776</th>\n      <td>4</td>\n      <td>0</td>\n      <td>0</td>\n      <td>2019-05-19</td>\n      <td>2020-01-02</td>\n      <td>100.0</td>\n      <td>10.0</td>\n      <td>10.0</td>\n      <td>10.0</td>\n      <td>10.0</td>\n      <td>10.0</td>\n      <td>10.0</td>\n      <td>0.19</td>\n    </tr>\n    <tr>\n      <th>16294</th>\n      <td>1</td>\n      <td>0</td>\n      <td>0</td>\n      <td>2019-12-01</td>\n      <td>2019-12-01</td>\n      <td>100.0</td>\n      <td>10.0</td>\n      <td>10.0</td>\n      <td>10.0</td>\n      <td>10.0</td>\n      <td>10.0</td>\n      <td>10.0</td>\n      <td>0.07</td>\n    </tr>\n    <tr>\n      <th>6083</th>\n      <td>30</td>\n      <td>0</td>\n      <td>0</td>\n      <td>2016-07-01</td>\n      <td>2020-01-21</td>\n      <td>100.0</td>\n      <td>10.0</td>\n      <td>10.0</td>\n      <td>10.0</td>\n      <td>10.0</td>\n      <td>10.0</td>\n      <td>10.0</td>\n      <td>0.53</td>\n    </tr>\n  </tbody>\n</table>\n</div>"
     },
     "execution_count": 19,
     "metadata": {},
     "output_type": "execute_result"
    }
   ]
  },
  {
   "cell_type": "markdown",
   "metadata": {
    "id": "AkL3MOZOflVq"
   },
   "source": [
    "- Going to keep all the review feature except for the `number_of_reviews_ltm, number_of_reviews_l30d, first_review, last_review, reviews_per_month`. \n",
    "\n",
    "- Not sure exactly what `number_of_reviews_ltm` is supposed to stand for and was not able to find out with my research or looking at multiple samples, that is part of the reason I am dropping this feature. Plus do not feel that it will add any real value to the predictions.\n",
    "\n",
    "- All of the review features except for the ones I will drop seem that they could add value to this project.\n",
    "\n",
    "- Also going to rename the features I am keeping."
   ]
  },
  {
   "cell_type": "code",
   "metadata": {
    "colab": {
     "base_uri": "https://localhost:8080/",
     "height": 159
    },
    "id": "xSY5ZbclXZfk",
    "outputId": "05151c53-c51e-45c2-e532-eb25181b64ed"
   },
   "source": [
    "# Rename the features I am keeping\n",
    "amsterdam_detailed_listing.rename(columns={\n",
    "    'review_scores_rating': 'avg_review_score',\n",
    "    'review_scores_accuracy': 'accuracy_score',\n",
    "    'review_scores_cleanliness': 'cleanliness_score', \n",
    "    'review_scores_checkin': 'checkin_score',\n",
    "    'review_scores_communication': 'communication_score', \n",
    "    'review_scores_location': 'location_score',\n",
    "    'review_scores_value': 'value_score'}, inplace=True)\n",
    "\n",
    "# Remove the features from above that is not needed\n",
    "amsterdam_detailed_listing = amsterdam_detailed_listing.drop(\n",
    "    columns=['number_of_reviews_ltm', 'number_of_reviews_l30d', 'first_review', \n",
    "             'last_review', 'reviews_per_month'])\n",
    "\n",
    "# Look at the new shape and a sample of 3 to check my work\n",
    "print(f'Rows: {amsterdam_detailed_listing.shape[0]}, Features: {amsterdam_detailed_listing.shape[1]}')\n",
    "amsterdam_detailed_listing[['avg_review_score', 'accuracy_score', \n",
    "                            'cleanliness_score', 'checkin_score',\n",
    "                            'communication_score', 'location_score', \n",
    "                            'value_score']].sample(3)"
   ],
   "execution_count": 20,
   "outputs": [
    {
     "name": "stdout",
     "output_type": "stream",
     "text": [
      "Rows: 18291, Features: 45\n"
     ]
    },
    {
     "data": {
      "text/plain": "       avg_review_score  accuracy_score  cleanliness_score  checkin_score  \\\n9923               93.0            10.0                9.0            9.0   \n13670              90.0             9.0                8.0            9.0   \n11869             100.0            10.0               10.0           10.0   \n\n       communication_score  location_score  value_score  \n9923                  10.0            10.0          8.0  \n13670                 10.0             9.0          9.0  \n11869                 10.0            10.0         10.0  ",
      "text/html": "<div>\n<style scoped>\n    .dataframe tbody tr th:only-of-type {\n        vertical-align: middle;\n    }\n\n    .dataframe tbody tr th {\n        vertical-align: top;\n    }\n\n    .dataframe thead th {\n        text-align: right;\n    }\n</style>\n<table border=\"1\" class=\"dataframe\">\n  <thead>\n    <tr style=\"text-align: right;\">\n      <th></th>\n      <th>avg_review_score</th>\n      <th>accuracy_score</th>\n      <th>cleanliness_score</th>\n      <th>checkin_score</th>\n      <th>communication_score</th>\n      <th>location_score</th>\n      <th>value_score</th>\n    </tr>\n  </thead>\n  <tbody>\n    <tr>\n      <th>9923</th>\n      <td>93.0</td>\n      <td>10.0</td>\n      <td>9.0</td>\n      <td>9.0</td>\n      <td>10.0</td>\n      <td>10.0</td>\n      <td>8.0</td>\n    </tr>\n    <tr>\n      <th>13670</th>\n      <td>90.0</td>\n      <td>9.0</td>\n      <td>8.0</td>\n      <td>9.0</td>\n      <td>10.0</td>\n      <td>9.0</td>\n      <td>9.0</td>\n    </tr>\n    <tr>\n      <th>11869</th>\n      <td>100.0</td>\n      <td>10.0</td>\n      <td>10.0</td>\n      <td>10.0</td>\n      <td>10.0</td>\n      <td>10.0</td>\n      <td>10.0</td>\n    </tr>\n  </tbody>\n</table>\n</div>"
     },
     "execution_count": 20,
     "metadata": {},
     "output_type": "execute_result"
    }
   ]
  },
  {
   "cell_type": "markdown",
   "metadata": {
    "id": "fuu0gsQ55tHA"
   },
   "source": [
    "#### Min and Max Nights"
   ]
  },
  {
   "cell_type": "code",
   "metadata": {
    "colab": {
     "base_uri": "https://localhost:8080/",
     "height": 224
    },
    "id": "xIUgfSJzxP37",
    "outputId": "1ea44e71-b069-4914-855b-2db5f8d07218"
   },
   "source": [
    "# Look at all the features in regards to the number of nights and compare them.\n",
    "amsterdam_detailed_listing[['minimum_nights', 'maximum_nights', 'minimum_minimum_nights',\n",
    "       'maximum_minimum_nights', 'minimum_maximum_nights',\n",
    "       'maximum_maximum_nights', 'minimum_nights_avg_ntm',\n",
    "       'maximum_nights_avg_ntm']].sample(5)"
   ],
   "execution_count": 21,
   "outputs": [
    {
     "data": {
      "text/plain": "       minimum_nights  maximum_nights  minimum_minimum_nights  \\\n5170                3               9                     3.0   \n15438               1               7                     1.0   \n6239                2            1125                     2.0   \n10448               2              14                     2.0   \n5212                3            1125                     3.0   \n\n       maximum_minimum_nights  minimum_maximum_nights  maximum_maximum_nights  \\\n5170                      3.0                     9.0                     9.0   \n15438                     2.0                     7.0                     7.0   \n6239                      2.0                  1125.0                  1125.0   \n10448                     2.0                  1125.0                  1125.0   \n5212                      3.0                  1125.0                  1125.0   \n\n       minimum_nights_avg_ntm  maximum_nights_avg_ntm  \n5170                      3.0                     9.0  \n15438                     1.3                     7.0  \n6239                      2.0                  1125.0  \n10448                     2.0                  1125.0  \n5212                      3.0                  1125.0  ",
      "text/html": "<div>\n<style scoped>\n    .dataframe tbody tr th:only-of-type {\n        vertical-align: middle;\n    }\n\n    .dataframe tbody tr th {\n        vertical-align: top;\n    }\n\n    .dataframe thead th {\n        text-align: right;\n    }\n</style>\n<table border=\"1\" class=\"dataframe\">\n  <thead>\n    <tr style=\"text-align: right;\">\n      <th></th>\n      <th>minimum_nights</th>\n      <th>maximum_nights</th>\n      <th>minimum_minimum_nights</th>\n      <th>maximum_minimum_nights</th>\n      <th>minimum_maximum_nights</th>\n      <th>maximum_maximum_nights</th>\n      <th>minimum_nights_avg_ntm</th>\n      <th>maximum_nights_avg_ntm</th>\n    </tr>\n  </thead>\n  <tbody>\n    <tr>\n      <th>5170</th>\n      <td>3</td>\n      <td>9</td>\n      <td>3.0</td>\n      <td>3.0</td>\n      <td>9.0</td>\n      <td>9.0</td>\n      <td>3.0</td>\n      <td>9.0</td>\n    </tr>\n    <tr>\n      <th>15438</th>\n      <td>1</td>\n      <td>7</td>\n      <td>1.0</td>\n      <td>2.0</td>\n      <td>7.0</td>\n      <td>7.0</td>\n      <td>1.3</td>\n      <td>7.0</td>\n    </tr>\n    <tr>\n      <th>6239</th>\n      <td>2</td>\n      <td>1125</td>\n      <td>2.0</td>\n      <td>2.0</td>\n      <td>1125.0</td>\n      <td>1125.0</td>\n      <td>2.0</td>\n      <td>1125.0</td>\n    </tr>\n    <tr>\n      <th>10448</th>\n      <td>2</td>\n      <td>14</td>\n      <td>2.0</td>\n      <td>2.0</td>\n      <td>1125.0</td>\n      <td>1125.0</td>\n      <td>2.0</td>\n      <td>1125.0</td>\n    </tr>\n    <tr>\n      <th>5212</th>\n      <td>3</td>\n      <td>1125</td>\n      <td>3.0</td>\n      <td>3.0</td>\n      <td>1125.0</td>\n      <td>1125.0</td>\n      <td>3.0</td>\n      <td>1125.0</td>\n    </tr>\n  </tbody>\n</table>\n</div>"
     },
     "execution_count": 21,
     "metadata": {},
     "output_type": "execute_result"
    }
   ]
  },
  {
   "cell_type": "markdown",
   "metadata": {
    "id": "mvgGvrrwTyB1"
   },
   "source": [
    "- These features appear to be redundant. I am choosing to keep only the `minimum_nights` and `maximum_nights` for right now since there are no null values in either one of those."
   ]
  },
  {
   "cell_type": "code",
   "metadata": {
    "colab": {
     "base_uri": "https://localhost:8080/"
    },
    "id": "lE35JTUo5ipR",
    "outputId": "51dd851a-222d-4fd4-8354-c3062e43ffaa"
   },
   "source": [
    "# Remove the features from above that is not needed\n",
    "amsterdam_detailed_listing = amsterdam_detailed_listing.drop(\n",
    "    columns=['minimum_minimum_nights', 'maximum_minimum_nights', \n",
    "             'minimum_maximum_nights', 'maximum_maximum_nights', \n",
    "             'minimum_nights_avg_ntm', 'maximum_nights_avg_ntm'])\n",
    "\n",
    "# Look at the new shape to check my work\n",
    "print(f'Rows: {amsterdam_detailed_listing.shape[0]}, Features: {amsterdam_detailed_listing.shape[1]}')"
   ],
   "execution_count": 22,
   "outputs": [
    {
     "name": "stdout",
     "output_type": "stream",
     "text": [
      "Rows: 18291, Features: 39\n"
     ]
    }
   ]
  },
  {
   "cell_type": "markdown",
   "metadata": {
    "id": "imRCYD5A41GI"
   },
   "source": [
    "#### Night Availability"
   ]
  },
  {
   "cell_type": "code",
   "metadata": {
    "colab": {
     "base_uri": "https://localhost:8080/",
     "height": 359
    },
    "id": "HJ6EwOii5imO",
    "outputId": "f490c787-2b9b-4254-9130-fa8d9878b67a"
   },
   "source": [
    "# Look at all the features in regards to the number of nights and compare them.\n",
    "amsterdam_detailed_listing[['has_availability', 'availability_30', \n",
    "                            'availability_60', 'availability_90', \n",
    "                            'availability_365']].sample(10)"
   ],
   "execution_count": 23,
   "outputs": [
    {
     "data": {
      "text/plain": "      has_availability  availability_30  availability_60  availability_90  \\\n1323                 t                0                0                0   \n10507                t                0                0                0   \n15577                t               29               59               89   \n2578                 t                0                0                0   \n15605                t                0                0                0   \n8053                 t                0                0                0   \n9809                 t                0                0                0   \n2990                 f                0                0                0   \n7441                 t                0                0                0   \n17488                t               29               59               89   \n\n       availability_365  \n1323                  0  \n10507                 0  \n15577                89  \n2578                  0  \n15605                 0  \n8053                  0  \n9809                  0  \n2990                  0  \n7441                  0  \n17488               179  ",
      "text/html": "<div>\n<style scoped>\n    .dataframe tbody tr th:only-of-type {\n        vertical-align: middle;\n    }\n\n    .dataframe tbody tr th {\n        vertical-align: top;\n    }\n\n    .dataframe thead th {\n        text-align: right;\n    }\n</style>\n<table border=\"1\" class=\"dataframe\">\n  <thead>\n    <tr style=\"text-align: right;\">\n      <th></th>\n      <th>has_availability</th>\n      <th>availability_30</th>\n      <th>availability_60</th>\n      <th>availability_90</th>\n      <th>availability_365</th>\n    </tr>\n  </thead>\n  <tbody>\n    <tr>\n      <th>1323</th>\n      <td>t</td>\n      <td>0</td>\n      <td>0</td>\n      <td>0</td>\n      <td>0</td>\n    </tr>\n    <tr>\n      <th>10507</th>\n      <td>t</td>\n      <td>0</td>\n      <td>0</td>\n      <td>0</td>\n      <td>0</td>\n    </tr>\n    <tr>\n      <th>15577</th>\n      <td>t</td>\n      <td>29</td>\n      <td>59</td>\n      <td>89</td>\n      <td>89</td>\n    </tr>\n    <tr>\n      <th>2578</th>\n      <td>t</td>\n      <td>0</td>\n      <td>0</td>\n      <td>0</td>\n      <td>0</td>\n    </tr>\n    <tr>\n      <th>15605</th>\n      <td>t</td>\n      <td>0</td>\n      <td>0</td>\n      <td>0</td>\n      <td>0</td>\n    </tr>\n    <tr>\n      <th>8053</th>\n      <td>t</td>\n      <td>0</td>\n      <td>0</td>\n      <td>0</td>\n      <td>0</td>\n    </tr>\n    <tr>\n      <th>9809</th>\n      <td>t</td>\n      <td>0</td>\n      <td>0</td>\n      <td>0</td>\n      <td>0</td>\n    </tr>\n    <tr>\n      <th>2990</th>\n      <td>f</td>\n      <td>0</td>\n      <td>0</td>\n      <td>0</td>\n      <td>0</td>\n    </tr>\n    <tr>\n      <th>7441</th>\n      <td>t</td>\n      <td>0</td>\n      <td>0</td>\n      <td>0</td>\n      <td>0</td>\n    </tr>\n    <tr>\n      <th>17488</th>\n      <td>t</td>\n      <td>29</td>\n      <td>59</td>\n      <td>89</td>\n      <td>179</td>\n    </tr>\n  </tbody>\n</table>\n</div>"
     },
     "execution_count": 23,
     "metadata": {},
     "output_type": "execute_result"
    }
   ]
  },
  {
   "cell_type": "markdown",
   "metadata": {
    "id": "NQyWTpxgpthC"
   },
   "source": [
    "- Based on the samples I have looked at and research I did, it appears that the `availability_<n>` all have values in them based on the number of days in next `n` period that the property is available to rent.\n",
    "\n",
    "- I will keep all of these features but rename them to make it clearer as to what they mean.\n",
    "\n",
    "- Going to replace all `t` with `True` and all `f` with `False`."
   ]
  },
  {
   "cell_type": "code",
   "metadata": {
    "colab": {
     "base_uri": "https://localhost:8080/",
     "height": 376
    },
    "id": "6tND8blN5ija",
    "outputId": "c354175a-5407-48f5-84aa-d3f6bc4c0985"
   },
   "source": [
    "# Rename the features I am keeping\n",
    "amsterdam_detailed_listing.rename(columns={\n",
    "    'has_availability': 'available',\n",
    "    'availability_30': 'avail_next_30_days',\n",
    "    'availability_60': 'avail_next_60_days', \n",
    "    'availability_90': 'avail_next_90_days',\n",
    "    'availability_365': 'avail_next_365_days'}, inplace=True)\n",
    "\n",
    "# Replace all t and f with 1 and 0\n",
    "amsterdam_detailed_listing['available'] = amsterdam_detailed_listing[\n",
    "                                            'available'].replace(['t', 'f'],\n",
    "                                                                 [True, False])\n",
    "\n",
    "# Look at the new shape and a sample of 3 to check my work\n",
    "print(f'Rows: {amsterdam_detailed_listing.shape[0]}, Features: {amsterdam_detailed_listing.shape[1]}')\n",
    "amsterdam_detailed_listing[['available', 'avail_next_30_days', \n",
    "                            'avail_next_60_days', 'avail_next_90_days', \n",
    "                            'avail_next_365_days']].sample(10)"
   ],
   "execution_count": 24,
   "outputs": [
    {
     "name": "stdout",
     "output_type": "stream",
     "text": [
      "Rows: 18291, Features: 39\n"
     ]
    },
    {
     "data": {
      "text/plain": "       available  avail_next_30_days  avail_next_60_days  avail_next_90_days  \\\n8040       False                   0                   0                   0   \n9930        True                   0                   0                   0   \n15174       True                   0                   0                   0   \n3533        True                   0                   0                   0   \n952         True                   0                   0                   0   \n1178        True                  29                  59                  89   \n5096        True                   0                   0                   0   \n11068       True                   0                   0                   0   \n2503        True                  29                  59                  89   \n11914       True                   0                   0                   0   \n\n       avail_next_365_days  \n8040                     0  \n9930                     0  \n15174                    0  \n3533                     0  \n952                      0  \n1178                   177  \n5096                     0  \n11068                    0  \n2503                   179  \n11914                    0  ",
      "text/html": "<div>\n<style scoped>\n    .dataframe tbody tr th:only-of-type {\n        vertical-align: middle;\n    }\n\n    .dataframe tbody tr th {\n        vertical-align: top;\n    }\n\n    .dataframe thead th {\n        text-align: right;\n    }\n</style>\n<table border=\"1\" class=\"dataframe\">\n  <thead>\n    <tr style=\"text-align: right;\">\n      <th></th>\n      <th>available</th>\n      <th>avail_next_30_days</th>\n      <th>avail_next_60_days</th>\n      <th>avail_next_90_days</th>\n      <th>avail_next_365_days</th>\n    </tr>\n  </thead>\n  <tbody>\n    <tr>\n      <th>8040</th>\n      <td>False</td>\n      <td>0</td>\n      <td>0</td>\n      <td>0</td>\n      <td>0</td>\n    </tr>\n    <tr>\n      <th>9930</th>\n      <td>True</td>\n      <td>0</td>\n      <td>0</td>\n      <td>0</td>\n      <td>0</td>\n    </tr>\n    <tr>\n      <th>15174</th>\n      <td>True</td>\n      <td>0</td>\n      <td>0</td>\n      <td>0</td>\n      <td>0</td>\n    </tr>\n    <tr>\n      <th>3533</th>\n      <td>True</td>\n      <td>0</td>\n      <td>0</td>\n      <td>0</td>\n      <td>0</td>\n    </tr>\n    <tr>\n      <th>952</th>\n      <td>True</td>\n      <td>0</td>\n      <td>0</td>\n      <td>0</td>\n      <td>0</td>\n    </tr>\n    <tr>\n      <th>1178</th>\n      <td>True</td>\n      <td>29</td>\n      <td>59</td>\n      <td>89</td>\n      <td>177</td>\n    </tr>\n    <tr>\n      <th>5096</th>\n      <td>True</td>\n      <td>0</td>\n      <td>0</td>\n      <td>0</td>\n      <td>0</td>\n    </tr>\n    <tr>\n      <th>11068</th>\n      <td>True</td>\n      <td>0</td>\n      <td>0</td>\n      <td>0</td>\n      <td>0</td>\n    </tr>\n    <tr>\n      <th>2503</th>\n      <td>True</td>\n      <td>29</td>\n      <td>59</td>\n      <td>89</td>\n      <td>179</td>\n    </tr>\n    <tr>\n      <th>11914</th>\n      <td>True</td>\n      <td>0</td>\n      <td>0</td>\n      <td>0</td>\n      <td>0</td>\n    </tr>\n  </tbody>\n</table>\n</div>"
     },
     "execution_count": 24,
     "metadata": {},
     "output_type": "execute_result"
    }
   ]
  },
  {
   "cell_type": "markdown",
   "metadata": {
    "id": "holAbl6wuRPU"
   },
   "source": [
    "#### Stats on remaining Features"
   ]
  },
  {
   "cell_type": "code",
   "metadata": {
    "colab": {
     "base_uri": "https://localhost:8080/",
     "height": 317
    },
    "id": "oc6FedEOehHa",
    "outputId": "4b766836-2d0a-49b5-a789-8b54c8c7a581"
   },
   "source": [
    "# Look at the stats on the numeric features\n",
    "amsterdam_detailed_listing.describe()"
   ],
   "execution_count": 25,
   "outputs": [
    {
     "data": {
      "text/plain": "                 id  total_listings      latitude     longitude  accommodates  \\\ncount  1.829100e+04    18228.000000  18291.000000  18291.000000  18291.000000   \nmean   2.064229e+07        3.244459     52.365478      4.889504      2.837570   \nstd    1.285836e+07       56.575963      0.016559      0.035833      1.282434   \nmin    2.818000e+03        0.000000     52.289270      4.755940      0.000000   \n25%    1.010732e+07        1.000000     52.355100      4.863920      2.000000   \n50%    1.911168e+07        1.000000     52.364790      4.887010      2.000000   \n75%    3.039472e+07        1.000000     52.375370      4.909230      4.000000   \nmax    4.807786e+07     7235.000000     52.425120      5.027690     16.000000   \n\n           bedrooms          beds  minimum_nights  maximum_nights  \\\ncount  17294.000000  18186.000000    18291.000000    18291.000000   \nmean       1.534405      1.765259        3.727407      611.559565   \nstd        0.959211      1.444775       16.331468      545.438112   \nmin        1.000000      0.000000        1.000000        1.000000   \n25%        1.000000      1.000000        2.000000       21.000000   \n50%        1.000000      1.000000        2.000000     1125.000000   \n75%        2.000000      2.000000        3.000000     1125.000000   \nmax       50.000000     35.000000     1001.000000    11250.000000   \n\n       avail_next_30_days  ...  avail_next_90_days  avail_next_365_days  \\\ncount        18291.000000  ...        18291.000000         18291.000000   \nmean             5.950467  ...           19.262315            61.923132   \nstd             11.195839  ...           34.282051           115.602325   \nmin              0.000000  ...            0.000000             0.000000   \n25%              0.000000  ...            0.000000             0.000000   \n50%              0.000000  ...            0.000000             0.000000   \n75%              0.000000  ...           18.000000            78.000000   \nmax             30.000000  ...           90.000000           365.000000   \n\n       number_of_reviews  avg_review_score  accuracy_score  cleanliness_score  \\\ncount       18291.000000      15659.000000    15649.000000       15649.000000   \nmean           24.125198         95.107287        9.690907           9.457857   \nstd            54.560889          7.035600        0.728646           0.914985   \nmin             0.000000         20.000000        2.000000           2.000000   \n25%             2.000000         93.000000       10.000000           9.000000   \n50%             8.000000         97.000000       10.000000          10.000000   \n75%            22.000000        100.000000       10.000000          10.000000   \nmax           859.000000        100.000000       10.000000          10.000000   \n\n       checkin_score  communication_score  location_score   value_score  \ncount   15641.000000         15648.000000    15643.000000  15643.000000  \nmean        9.750911             9.794926        9.513456      9.202071  \nstd         0.659262             0.636390        0.705519      0.832326  \nmin         2.000000             2.000000        2.000000      2.000000  \n25%        10.000000            10.000000        9.000000      9.000000  \n50%        10.000000            10.000000       10.000000      9.000000  \n75%        10.000000            10.000000       10.000000     10.000000  \nmax        10.000000            10.000000       10.000000     10.000000  \n\n[8 rows x 21 columns]",
      "text/html": "<div>\n<style scoped>\n    .dataframe tbody tr th:only-of-type {\n        vertical-align: middle;\n    }\n\n    .dataframe tbody tr th {\n        vertical-align: top;\n    }\n\n    .dataframe thead th {\n        text-align: right;\n    }\n</style>\n<table border=\"1\" class=\"dataframe\">\n  <thead>\n    <tr style=\"text-align: right;\">\n      <th></th>\n      <th>id</th>\n      <th>total_listings</th>\n      <th>latitude</th>\n      <th>longitude</th>\n      <th>accommodates</th>\n      <th>bedrooms</th>\n      <th>beds</th>\n      <th>minimum_nights</th>\n      <th>maximum_nights</th>\n      <th>avail_next_30_days</th>\n      <th>...</th>\n      <th>avail_next_90_days</th>\n      <th>avail_next_365_days</th>\n      <th>number_of_reviews</th>\n      <th>avg_review_score</th>\n      <th>accuracy_score</th>\n      <th>cleanliness_score</th>\n      <th>checkin_score</th>\n      <th>communication_score</th>\n      <th>location_score</th>\n      <th>value_score</th>\n    </tr>\n  </thead>\n  <tbody>\n    <tr>\n      <th>count</th>\n      <td>1.829100e+04</td>\n      <td>18228.000000</td>\n      <td>18291.000000</td>\n      <td>18291.000000</td>\n      <td>18291.000000</td>\n      <td>17294.000000</td>\n      <td>18186.000000</td>\n      <td>18291.000000</td>\n      <td>18291.000000</td>\n      <td>18291.000000</td>\n      <td>...</td>\n      <td>18291.000000</td>\n      <td>18291.000000</td>\n      <td>18291.000000</td>\n      <td>15659.000000</td>\n      <td>15649.000000</td>\n      <td>15649.000000</td>\n      <td>15641.000000</td>\n      <td>15648.000000</td>\n      <td>15643.000000</td>\n      <td>15643.000000</td>\n    </tr>\n    <tr>\n      <th>mean</th>\n      <td>2.064229e+07</td>\n      <td>3.244459</td>\n      <td>52.365478</td>\n      <td>4.889504</td>\n      <td>2.837570</td>\n      <td>1.534405</td>\n      <td>1.765259</td>\n      <td>3.727407</td>\n      <td>611.559565</td>\n      <td>5.950467</td>\n      <td>...</td>\n      <td>19.262315</td>\n      <td>61.923132</td>\n      <td>24.125198</td>\n      <td>95.107287</td>\n      <td>9.690907</td>\n      <td>9.457857</td>\n      <td>9.750911</td>\n      <td>9.794926</td>\n      <td>9.513456</td>\n      <td>9.202071</td>\n    </tr>\n    <tr>\n      <th>std</th>\n      <td>1.285836e+07</td>\n      <td>56.575963</td>\n      <td>0.016559</td>\n      <td>0.035833</td>\n      <td>1.282434</td>\n      <td>0.959211</td>\n      <td>1.444775</td>\n      <td>16.331468</td>\n      <td>545.438112</td>\n      <td>11.195839</td>\n      <td>...</td>\n      <td>34.282051</td>\n      <td>115.602325</td>\n      <td>54.560889</td>\n      <td>7.035600</td>\n      <td>0.728646</td>\n      <td>0.914985</td>\n      <td>0.659262</td>\n      <td>0.636390</td>\n      <td>0.705519</td>\n      <td>0.832326</td>\n    </tr>\n    <tr>\n      <th>min</th>\n      <td>2.818000e+03</td>\n      <td>0.000000</td>\n      <td>52.289270</td>\n      <td>4.755940</td>\n      <td>0.000000</td>\n      <td>1.000000</td>\n      <td>0.000000</td>\n      <td>1.000000</td>\n      <td>1.000000</td>\n      <td>0.000000</td>\n      <td>...</td>\n      <td>0.000000</td>\n      <td>0.000000</td>\n      <td>0.000000</td>\n      <td>20.000000</td>\n      <td>2.000000</td>\n      <td>2.000000</td>\n      <td>2.000000</td>\n      <td>2.000000</td>\n      <td>2.000000</td>\n      <td>2.000000</td>\n    </tr>\n    <tr>\n      <th>25%</th>\n      <td>1.010732e+07</td>\n      <td>1.000000</td>\n      <td>52.355100</td>\n      <td>4.863920</td>\n      <td>2.000000</td>\n      <td>1.000000</td>\n      <td>1.000000</td>\n      <td>2.000000</td>\n      <td>21.000000</td>\n      <td>0.000000</td>\n      <td>...</td>\n      <td>0.000000</td>\n      <td>0.000000</td>\n      <td>2.000000</td>\n      <td>93.000000</td>\n      <td>10.000000</td>\n      <td>9.000000</td>\n      <td>10.000000</td>\n      <td>10.000000</td>\n      <td>9.000000</td>\n      <td>9.000000</td>\n    </tr>\n    <tr>\n      <th>50%</th>\n      <td>1.911168e+07</td>\n      <td>1.000000</td>\n      <td>52.364790</td>\n      <td>4.887010</td>\n      <td>2.000000</td>\n      <td>1.000000</td>\n      <td>1.000000</td>\n      <td>2.000000</td>\n      <td>1125.000000</td>\n      <td>0.000000</td>\n      <td>...</td>\n      <td>0.000000</td>\n      <td>0.000000</td>\n      <td>8.000000</td>\n      <td>97.000000</td>\n      <td>10.000000</td>\n      <td>10.000000</td>\n      <td>10.000000</td>\n      <td>10.000000</td>\n      <td>10.000000</td>\n      <td>9.000000</td>\n    </tr>\n    <tr>\n      <th>75%</th>\n      <td>3.039472e+07</td>\n      <td>1.000000</td>\n      <td>52.375370</td>\n      <td>4.909230</td>\n      <td>4.000000</td>\n      <td>2.000000</td>\n      <td>2.000000</td>\n      <td>3.000000</td>\n      <td>1125.000000</td>\n      <td>0.000000</td>\n      <td>...</td>\n      <td>18.000000</td>\n      <td>78.000000</td>\n      <td>22.000000</td>\n      <td>100.000000</td>\n      <td>10.000000</td>\n      <td>10.000000</td>\n      <td>10.000000</td>\n      <td>10.000000</td>\n      <td>10.000000</td>\n      <td>10.000000</td>\n    </tr>\n    <tr>\n      <th>max</th>\n      <td>4.807786e+07</td>\n      <td>7235.000000</td>\n      <td>52.425120</td>\n      <td>5.027690</td>\n      <td>16.000000</td>\n      <td>50.000000</td>\n      <td>35.000000</td>\n      <td>1001.000000</td>\n      <td>11250.000000</td>\n      <td>30.000000</td>\n      <td>...</td>\n      <td>90.000000</td>\n      <td>365.000000</td>\n      <td>859.000000</td>\n      <td>100.000000</td>\n      <td>10.000000</td>\n      <td>10.000000</td>\n      <td>10.000000</td>\n      <td>10.000000</td>\n      <td>10.000000</td>\n      <td>10.000000</td>\n    </tr>\n  </tbody>\n</table>\n<p>8 rows × 21 columns</p>\n</div>"
     },
     "execution_count": 25,
     "metadata": {},
     "output_type": "execute_result"
    }
   ]
  },
  {
   "cell_type": "markdown",
   "metadata": {
    "id": "kQAVcHjgEygv"
   },
   "source": [
    "* `id` = continuous, high cardnality, not useful for model, **drop this feature**\n",
    "\n",
    "* `total_listings` = continuous, could be useful\n",
    "\n",
    "* `latitude` = continuous, high cardnality, useful for graphing on a map\n",
    "\n",
    "* `longitude` = continuous, high cardnality, useful for graphing on a map\n",
    "\n",
    "* `accommodates` = discrete, number of people can accomodate.\n",
    "\n",
    "* `bedrooms` = discrete, number of bedrooms available\n",
    "\n",
    "* `beds` = discrete, number of beds available\n",
    "\n",
    "* `minimum_nights` = I consider this one mostly discrete, however, there are some outliers that I will probably be removing but want to do further analysis on it first. This is the minimum nights that are required to stay at said property.\n",
    "\n",
    "* `maximum_nights` = I consider this one mostly discrete, however, there are some outliers that I will probably be removing but want to do further analysis on it first. This is the maximum nights that someone can stay at said property.\n",
    "\n",
    "* `avail_next_30_days` = discrete since this value will be between 0 and 30, the number of days the said property is available in the next 30 days.\n",
    "\n",
    "* `avail_next_60_days` = discrete since this value will be between 0 and 60, the number of days the said property is available in the next 60 days.\n",
    "\n",
    "* `avail_next_90_days` = discrete since this value will be between 0 and 90, the number of days the said property is available in the next 90 days.\n",
    "\n",
    "* `avail_next_365_days` = discrete since this value will be between 0 and 365, the number of days the said property is available in the next 365 days.\n",
    "\n",
    "* `number_of_reviews` = continuous, the number of reviews that the host of said property has received.\n",
    "\n",
    "* `avg_review_score` = discrete, this is a value between 20 and 100, it is the host of the said property average review score\n",
    "\n",
    "* `accuracy_score` = discrete, this value is between 2 and 10 and it rates the accuracy of the host's listings on a scale of 0 to 10, 10 being the most accurate.\n",
    "\n",
    "* `cleanliness_score` = discrete, this value is between 2 and 10 and it rates the cleanliness of the host's listings on a scale of 0 to 10, 10 being the most clean.\n",
    "\n",
    "* `checkin_score` = discrete, this value is between 2 and 10 and it rates the checkin process of the host's listings on a scale of 0 to 10, 10 being the most easiest checkin process.\n",
    "\n",
    "* `communication_score` = discrete, this value is between 2 and 10 and it rates the communication of the host on a scale of 0 to 10, 10 being the best communication.\n",
    "\n",
    "* `location_score` = discrete, this value is between 2 and 10 and it rates the location of the host's listings on a scale of 0 to 10, 10 being the best location.\n",
    "\n",
    "* `value_score` = discrete, this value is between 2 and 10 and it rates the value of the host's listings on a scale of 0 to 10, 10 being the best value."
   ]
  },
  {
   "cell_type": "code",
   "metadata": {
    "colab": {
     "base_uri": "https://localhost:8080/",
     "height": 550
    },
    "id": "EKpYbQCyeg9f",
    "outputId": "e1ee5707-03ff-4e52-fa8a-2b60f210a4a5"
   },
   "source": [
    "amsterdam_detailed_listing.describe(exclude=[np.number])"
   ],
   "execution_count": 26,
   "outputs": [
    {
     "data": {
      "text/plain": "                                  listing_url last_scraped       name  \\\ncount                                   18291        18291      18258   \nunique                                  18291            4      17863   \ntop     https://www.airbnb.com/rooms/27698144   2021-02-09  Amsterdam   \nfreq                                        1         7486         31   \n\n                                                                                                                                                                                                                                                                                                        description  \\\ncount                                                                                                                                                                                                                                                                                                         17994   \nunique                                                                                                                                                                                                                                                                                                        17793   \ntop     Hotel Jansen is a new Short Stay hotel in Amsterdam. We offer great and affordable accommodation for students, graduates, interns & young professionals from all over the world. Hotel Jansen is a place you can call home. You can also find us online.<br /><br /><b>The space</b><br />Each room in H...   \nfreq                                                                                                                                                                                                                                                                                                             13   \n\n                                                                                                                                                                                                                                                                                              neighborhood_overview  \\\ncount                                                                                                                                                                                                                                                                                                         12023   \nunique                                                                                                                                                                                                                                                                                                        10954   \ntop     Oud West is close to the city-centre and close to both Vondelpark and Rembrandtpark. Ten Katestraat market is an excellent outdoor market with its charming cross-street ‘Bellamystraat’ giving the area an old-fashion village vibe – complete with dance studio and blacksmith. Kinkerstraat is a mult...   \nfreq                                                                                                                                                                                                                                                                                                             36   \n\n                                                            picture_url  \\\ncount                                                             18291   \nunique                                                            18108   \ntop     https://a0.muscache.com/pictures/94122561/af9864fb_original.jpg   \nfreq                                                                  4   \n\n        host_since superhost profile_pic verified_id  neighbourhood_cleansed  \\\ncount        18228     18291       18291       18291                   18291   \nunique        3268         2           2           2                      22   \ntop     2016-04-05     False        True        True  De Baarsjes - Oud-West   \nfreq            88     15912       18199       11918                    3044   \n\n           property_type        room_type bathrooms_text  \\\ncount              18291            18291          18269   \nunique                65                4             27   \ntop     Entire apartment  Entire home/apt         1 bath   \nfreq               11393            14283          10677   \n\n                          amenities    price available instant_bookable  \ncount                         18291    18291     18291            18291  \nunique                        16744      502         2                2  \ntop     [\"Long term stays allowed\"]  $150.00      True                f  \nfreq                             45      980     17889            13914  ",
      "text/html": "<div>\n<style scoped>\n    .dataframe tbody tr th:only-of-type {\n        vertical-align: middle;\n    }\n\n    .dataframe tbody tr th {\n        vertical-align: top;\n    }\n\n    .dataframe thead th {\n        text-align: right;\n    }\n</style>\n<table border=\"1\" class=\"dataframe\">\n  <thead>\n    <tr style=\"text-align: right;\">\n      <th></th>\n      <th>listing_url</th>\n      <th>last_scraped</th>\n      <th>name</th>\n      <th>description</th>\n      <th>neighborhood_overview</th>\n      <th>picture_url</th>\n      <th>host_since</th>\n      <th>superhost</th>\n      <th>profile_pic</th>\n      <th>verified_id</th>\n      <th>neighbourhood_cleansed</th>\n      <th>property_type</th>\n      <th>room_type</th>\n      <th>bathrooms_text</th>\n      <th>amenities</th>\n      <th>price</th>\n      <th>available</th>\n      <th>instant_bookable</th>\n    </tr>\n  </thead>\n  <tbody>\n    <tr>\n      <th>count</th>\n      <td>18291</td>\n      <td>18291</td>\n      <td>18258</td>\n      <td>17994</td>\n      <td>12023</td>\n      <td>18291</td>\n      <td>18228</td>\n      <td>18291</td>\n      <td>18291</td>\n      <td>18291</td>\n      <td>18291</td>\n      <td>18291</td>\n      <td>18291</td>\n      <td>18269</td>\n      <td>18291</td>\n      <td>18291</td>\n      <td>18291</td>\n      <td>18291</td>\n    </tr>\n    <tr>\n      <th>unique</th>\n      <td>18291</td>\n      <td>4</td>\n      <td>17863</td>\n      <td>17793</td>\n      <td>10954</td>\n      <td>18108</td>\n      <td>3268</td>\n      <td>2</td>\n      <td>2</td>\n      <td>2</td>\n      <td>22</td>\n      <td>65</td>\n      <td>4</td>\n      <td>27</td>\n      <td>16744</td>\n      <td>502</td>\n      <td>2</td>\n      <td>2</td>\n    </tr>\n    <tr>\n      <th>top</th>\n      <td>https://www.airbnb.com/rooms/27698144</td>\n      <td>2021-02-09</td>\n      <td>Amsterdam</td>\n      <td>Hotel Jansen is a new Short Stay hotel in Amsterdam. We offer great and affordable accommodation for students, graduates, interns &amp; young professionals from all over the world. Hotel Jansen is a place you can call home. You can also find us online.&lt;br /&gt;&lt;br /&gt;&lt;b&gt;The space&lt;/b&gt;&lt;br /&gt;Each room in H...</td>\n      <td>Oud West is close to the city-centre and close to both Vondelpark and Rembrandtpark. Ten Katestraat market is an excellent outdoor market with its charming cross-street ‘Bellamystraat’ giving the area an old-fashion village vibe – complete with dance studio and blacksmith. Kinkerstraat is a mult...</td>\n      <td>https://a0.muscache.com/pictures/94122561/af9864fb_original.jpg</td>\n      <td>2016-04-05</td>\n      <td>False</td>\n      <td>True</td>\n      <td>True</td>\n      <td>De Baarsjes - Oud-West</td>\n      <td>Entire apartment</td>\n      <td>Entire home/apt</td>\n      <td>1 bath</td>\n      <td>[\"Long term stays allowed\"]</td>\n      <td>$150.00</td>\n      <td>True</td>\n      <td>f</td>\n    </tr>\n    <tr>\n      <th>freq</th>\n      <td>1</td>\n      <td>7486</td>\n      <td>31</td>\n      <td>13</td>\n      <td>36</td>\n      <td>4</td>\n      <td>88</td>\n      <td>15912</td>\n      <td>18199</td>\n      <td>11918</td>\n      <td>3044</td>\n      <td>11393</td>\n      <td>14283</td>\n      <td>10677</td>\n      <td>45</td>\n      <td>980</td>\n      <td>17889</td>\n      <td>13914</td>\n    </tr>\n  </tbody>\n</table>\n</div>"
     },
     "execution_count": 26,
     "metadata": {},
     "output_type": "execute_result"
    }
   ]
  },
  {
   "cell_type": "markdown",
   "metadata": {
    "id": "1nRd-1Zpxc5k"
   },
   "source": [
    "* `listing_url` = high cardnality, all unique values, the url of the said listing. **Do not need this feature for prediction**, but could be useful for comparision against the user's property if we have time to impliment something of that nature.\n",
    "\n",
    "* `last_scaped` = Not useful at all for this project. Will be **dropping this feature** completely.\n",
    "\n",
    "* `name` = high cardnality, mostly unique values, will have to do further exploration on this feature to see if it will really add any value to prediction if I preform NLP on it. Will probably be **dropping this feature** due to having the description preprocessed using NLP would most likey add better value to the prediction model.\n",
    "\n",
    "* `description` = high cardnality, mostly unique values,  will preprocess using **NLP** to add value to the predictive model.\n",
    "\n",
    "* `neighborhood_overview` = high cardnality, mostly unique values with almost 7,000 null values, will have to do further exploration on this feature to see if it will really add any value to prediction if I preform **NLP** on it. \n",
    "    * UPDATE: will **remove this feature** and just use the `neighborhood` feature.\n",
    "\n",
    "* `picture_url` = high cardnality, mostly unique values, **will not be keeping this feature** since we already have a feeature that has True or False if the host has a profile picture.\n",
    "\n",
    "* `host_since` = will possably use this feature for creating a new feature that will have just the time length that they have been a member up to Feb 8, 2021 as this is the data that the data I am using was collected.\n",
    "\n",
    "* `superhost` = boolean values which makes this a binary feature. Will be True or False if the host is a superhost.\n",
    "\n",
    "* `profile_pic` = boolean values which makes this a binary feature. Will be True or False if the host has a profile picture.\n",
    "\n",
    "* `verified_id` = boolean values which makes this a binary feature. Will be True or False if the host has verified their identity.\n",
    "\n",
    "* `neighbourhood_cleansed` = a cleaned version of the neighbourhood feature, which I have already dropped. \n",
    "\n",
    "* `property_type` = does not have any null values, I believe this will be a useful feature in helping the prediction. Need to do some preprocessing with **NLP** on this feature.\n",
    "\n",
    "* `room_type` = does not have any null values, I believe this will be a useful feature in helping the prediction, but need a little further exploration to see how it compares to the `property_type` to loook for redundancy. Need to do some preprocessing with **NLP** on this feature.\n",
    "\n",
    "* `bathrooms_text` = only a few null values. This feature needs to be processed futher to turn it into a numerical feature. The text in this feature is not needed for this project.\n",
    "\n",
    "* `amenities` = a list of the amendities for the said property. Will definately use this feature as it will add value to the prediction. Need to do some preprocessing with **NLP** on this using *tokenization*.\n",
    "\n",
    "* `price` = this is going to be my target feature for this project because this is what we are trying to predict. Need to do some cleaning to this feature thought because right now it is typed as an object due to the fact that there are `$` in front of all prices.\n",
    "\n",
    "* `available` = boolean values which makes this a binary feature. Will be True or False if the said property is currently available as of Feb 8, 2021 when the data was collected. This could be useful in the prediction because if it is not currently available, that probably means that it is currently being rented.\n",
    "\n",
    "* `instant_bookable` = boolean values which makes this a binary feature. Will be `t` or `f` if the said property is instantly bookable. Need to replace the `t` and `f` with `True` and `False`."
   ]
  },
  {
   "cell_type": "markdown",
   "metadata": {
    "id": "WtGJkgjQAYdY"
   },
   "source": [
    "#### More cleaning"
   ]
  },
  {
   "cell_type": "code",
   "metadata": {
    "colab": {
     "base_uri": "https://localhost:8080/"
    },
    "id": "IAOq31x9BjAD",
    "outputId": "0cff4690-b3f5-477a-91f6-2043f9e5646a"
   },
   "source": [
    "# Look at the features still in my dataset\n",
    "amsterdam_detailed_listing.columns"
   ],
   "execution_count": 27,
   "outputs": [
    {
     "data": {
      "text/plain": "Index(['id', 'listing_url', 'last_scraped', 'name', 'description',\n       'neighborhood_overview', 'picture_url', 'host_since', 'superhost',\n       'total_listings', 'profile_pic', 'verified_id',\n       'neighbourhood_cleansed', 'latitude', 'longitude', 'property_type',\n       'room_type', 'accommodates', 'bathrooms_text', 'bedrooms', 'beds',\n       'amenities', 'price', 'minimum_nights', 'maximum_nights', 'available',\n       'avail_next_30_days', 'avail_next_60_days', 'avail_next_90_days',\n       'avail_next_365_days', 'number_of_reviews', 'avg_review_score',\n       'accuracy_score', 'cleanliness_score', 'checkin_score',\n       'communication_score', 'location_score', 'value_score',\n       'instant_bookable'],\n      dtype='object')"
     },
     "execution_count": 27,
     "metadata": {},
     "output_type": "execute_result"
    }
   ]
  },
  {
   "cell_type": "code",
   "metadata": {
    "id": "-jLqKjlPGn9z"
   },
   "source": [
    "# Replace the t's with True and f's with False in the instant_bookable feature\n",
    "amsterdam_detailed_listing['instant_bookable'] = amsterdam_detailed_listing['instant_bookable'].replace({'t': True, 'f': False})"
   ],
   "execution_count": 28,
   "outputs": []
  },
  {
   "cell_type": "code",
   "metadata": {
    "colab": {
     "base_uri": "https://localhost:8080/",
     "height": 631
    },
    "id": "sKNgaIhMehJn",
    "outputId": "38defedc-2a04-49a3-e077-9a9299269401"
   },
   "source": [
    "# Compare the name and description\n",
    "amsterdam_detailed_listing[['name', 'description']].sample(10)"
   ],
   "execution_count": 29,
   "outputs": [
    {
     "data": {
      "text/plain": "                                                     name  \\\n15074                                Luxe private bedroom   \n16361        Cozy completely renovated ap. at Westerpark!   \n4131                           Sunny & Spacious Apartment   \n13873  Room with private bathroom close to the citycentre   \n7080   Beautiful apartment 10 min from Amsterdam central!   \n11944    Light apartment Amsterdam East (Oosterpark area)   \n3368   Modern apartmnt- Amsterdam City Centre - 9 streets   \n13110     Best Secret Water Spot - WaterVilla - Amsterdam   \n16003  Gezinswoning+tuin in Jordaan, alleen voor gezinnen   \n3679                           Rustig en ruim appartement   \n\n                                                                                                                                                                                                                                                                                                       description  \n15074  Newly renovated apartment is located in the Pijp and near the center. Perfect location allows you to reach any point in the city fast and conveniently.  The Metro station Wibautstraat is in front of the door and brings you in;<br />- 5 min to Amsterdam Central Station;<br />- 5 min to RAI Conven...  \n16361  Feel like a local in my cozy charming apartment in the vibrant Westerpark area.<br />Fully equipped kitchen with dishwasher, oven and induction hob, fridge, freezer and big tv. Coffee and tea are free to use.<br />The apartment is located in the lovely Staatsliedenbuurt, nice and quiet area betw...  \n4131   Flat of 95 m^2, with spacious kitchen and living room on the first, and bedrooms and bathroom on the top floor. One bedroom for two adults, on bedroom for a small child (&lt;3). Also including a large and sunny roof terrace for private use! Close to parks, shops, bars and restaurants.<br /><br /...  \n13873  You can find our house in one of the most beautiful areas of Amsterdam.  Very close to the citycentre of Amsterdam. In front of our house you will find a beautiful city lake, a big park and a little beach which is absolutely great in summer! The tram stops around the corner and takes you to the ...  \n7080   If you are looking for a cosy luxurious studio apartment, my apartment would be perfect for you. It’s a 30m^2 apartment with high quality, space efficient, fold in beds. The house is equipped with everything you need. <br /> <br />I'd love to welcome you in the beautiful city Amsterdam. My apart...  \n11944                                                                                              Great appartement in booming Amsterdam East. The apartment (50m2) is very light and has a comfortable and big balcony. Close to Oosterpark, Javastraat and the best cafes and restaurants of the neighbourhood.  \n3368                 In the Jordaan, one of the nicest places in Amsterdam. A newly renovated apartment fully furnished in a clean style. Westerstraat is a popular shopping street, you can find mostly everything around the area. Close to Amsterdam musea, Westerpark, shopping district and bars/restaurants.  \n13110  Best Secret Water Spot - WaterVilla - Amsterdam<br /><br />About doodle bed & breakfast: We are a couple for a few years now and last year we got the opportunity to buy our amazing ”Water Villa”. A dream to live on the water come true!<br /><br />The Water Villa was quit big for the two of us.  ...  \n16003  Only for family with children!<br /><br />Gezinswoning met tuin en balkon aan de begane grond midden in de gezellige Jordaan! Huis is zeer geschikt voor mensen met kinderen. Dichtbij de grachten, de dam, het Anne Frank huis en allerlei parken!<br /><br /><b>The space</b><br />Het huis is begane ...  \n3679   Wil je verblijven in een groene wijk? Waar je rustig kunt slapen? In een wijk waar je onder de Nederlanders bent? Dit is de plek! <br />We hebben een heerlijk auping bed, prachtige houten vloer, 2 balkons, een nieuwe badkamer met bad en douche. Dit appartement is niet geschikt voor mensen die wi...  ",
      "text/html": "<div>\n<style scoped>\n    .dataframe tbody tr th:only-of-type {\n        vertical-align: middle;\n    }\n\n    .dataframe tbody tr th {\n        vertical-align: top;\n    }\n\n    .dataframe thead th {\n        text-align: right;\n    }\n</style>\n<table border=\"1\" class=\"dataframe\">\n  <thead>\n    <tr style=\"text-align: right;\">\n      <th></th>\n      <th>name</th>\n      <th>description</th>\n    </tr>\n  </thead>\n  <tbody>\n    <tr>\n      <th>15074</th>\n      <td>Luxe private bedroom</td>\n      <td>Newly renovated apartment is located in the Pijp and near the center. Perfect location allows you to reach any point in the city fast and conveniently.  The Metro station Wibautstraat is in front of the door and brings you in;&lt;br /&gt;- 5 min to Amsterdam Central Station;&lt;br /&gt;- 5 min to RAI Conven...</td>\n    </tr>\n    <tr>\n      <th>16361</th>\n      <td>Cozy completely renovated ap. at Westerpark!</td>\n      <td>Feel like a local in my cozy charming apartment in the vibrant Westerpark area.&lt;br /&gt;Fully equipped kitchen with dishwasher, oven and induction hob, fridge, freezer and big tv. Coffee and tea are free to use.&lt;br /&gt;The apartment is located in the lovely Staatsliedenbuurt, nice and quiet area betw...</td>\n    </tr>\n    <tr>\n      <th>4131</th>\n      <td>Sunny &amp; Spacious Apartment</td>\n      <td>Flat of 95 m^2, with spacious kitchen and living room on the first, and bedrooms and bathroom on the top floor. One bedroom for two adults, on bedroom for a small child (&amp;lt;3). Also including a large and sunny roof terrace for private use! Close to parks, shops, bars and restaurants.&lt;br /&gt;&lt;br /...</td>\n    </tr>\n    <tr>\n      <th>13873</th>\n      <td>Room with private bathroom close to the citycentre</td>\n      <td>You can find our house in one of the most beautiful areas of Amsterdam.  Very close to the citycentre of Amsterdam. In front of our house you will find a beautiful city lake, a big park and a little beach which is absolutely great in summer! The tram stops around the corner and takes you to the ...</td>\n    </tr>\n    <tr>\n      <th>7080</th>\n      <td>Beautiful apartment 10 min from Amsterdam central!</td>\n      <td>If you are looking for a cosy luxurious studio apartment, my apartment would be perfect for you. It’s a 30m^2 apartment with high quality, space efficient, fold in beds. The house is equipped with everything you need. &lt;br /&gt; &lt;br /&gt;I'd love to welcome you in the beautiful city Amsterdam. My apart...</td>\n    </tr>\n    <tr>\n      <th>11944</th>\n      <td>Light apartment Amsterdam East (Oosterpark area)</td>\n      <td>Great appartement in booming Amsterdam East. The apartment (50m2) is very light and has a comfortable and big balcony. Close to Oosterpark, Javastraat and the best cafes and restaurants of the neighbourhood.</td>\n    </tr>\n    <tr>\n      <th>3368</th>\n      <td>Modern apartmnt- Amsterdam City Centre - 9 streets</td>\n      <td>In the Jordaan, one of the nicest places in Amsterdam. A newly renovated apartment fully furnished in a clean style. Westerstraat is a popular shopping street, you can find mostly everything around the area. Close to Amsterdam musea, Westerpark, shopping district and bars/restaurants.</td>\n    </tr>\n    <tr>\n      <th>13110</th>\n      <td>Best Secret Water Spot - WaterVilla - Amsterdam</td>\n      <td>Best Secret Water Spot - WaterVilla - Amsterdam&lt;br /&gt;&lt;br /&gt;About doodle bed &amp; breakfast: We are a couple for a few years now and last year we got the opportunity to buy our amazing ”Water Villa”. A dream to live on the water come true!&lt;br /&gt;&lt;br /&gt;The Water Villa was quit big for the two of us.  ...</td>\n    </tr>\n    <tr>\n      <th>16003</th>\n      <td>Gezinswoning+tuin in Jordaan, alleen voor gezinnen</td>\n      <td>Only for family with children!&lt;br /&gt;&lt;br /&gt;Gezinswoning met tuin en balkon aan de begane grond midden in de gezellige Jordaan! Huis is zeer geschikt voor mensen met kinderen. Dichtbij de grachten, de dam, het Anne Frank huis en allerlei parken!&lt;br /&gt;&lt;br /&gt;&lt;b&gt;The space&lt;/b&gt;&lt;br /&gt;Het huis is begane ...</td>\n    </tr>\n    <tr>\n      <th>3679</th>\n      <td>Rustig en ruim appartement</td>\n      <td>Wil je verblijven in een groene wijk? Waar je rustig kunt slapen? In een wijk waar je onder de Nederlanders bent? Dit is de plek! &lt;br /&gt;We hebben een heerlijk auping bed, prachtige houten vloer, 2 balkons, een nieuwe badkamer met bad en douche. Dit appartement is niet geschikt voor mensen die wi...</td>\n    </tr>\n  </tbody>\n</table>\n</div>"
     },
     "execution_count": 29,
     "metadata": {},
     "output_type": "execute_result"
    }
   ]
  },
  {
   "cell_type": "markdown",
   "metadata": {
    "id": "wLUGPlrDAvnH"
   },
   "source": [
    "* Going to remove the `name` feature because the description feature seems to be a better feature to use for this project in the predictive model after doing preprocessing with NLP.\n",
    "\n",
    "* Along with the `name` feature, going to drop other features that are not going to be useful. \n",
    "\n",
    "* Dropping `['id', 'listing_url', 'last_scraped', 'name', 'neighborhood_overview', 'picture_url']`"
   ]
  },
  {
   "cell_type": "markdown",
   "metadata": {
    "id": "t3TXblnCGMz8"
   },
   "source": [
    "##### Drop Features"
   ]
  },
  {
   "cell_type": "code",
   "metadata": {
    "colab": {
     "base_uri": "https://localhost:8080/",
     "height": 1000
    },
    "id": "ArxkQrlCehCP",
    "outputId": "8825db2e-b90e-49f2-c95c-8686636f7395"
   },
   "source": [
    "# Drop feature that are not going to be useful\n",
    "cols_to_drop = ['id', 'listing_url', 'last_scraped', 'name', \n",
    "                'neighborhood_overview', 'picture_url']\n",
    "\n",
    "amsterdam_list = amsterdam_detailed_listing.drop(columns=cols_to_drop)\n",
    "\n",
    "print(amsterdam_list.shape)\n",
    "amsterdam_list.head()"
   ],
   "execution_count": 30,
   "outputs": [
    {
     "name": "stdout",
     "output_type": "stream",
     "text": [
      "(18291, 33)\n"
     ]
    },
    {
     "data": {
      "text/plain": "                                                                                                                                                                                                                                                                                                   description  \\\n0  Quiet Garden View Room & Super Fast WiFi<br /><br /><b>The space</b><br />I'm renting a bedroom (room overlooking the garden) in my apartment in Amsterdam, <br /><br />The room is located to the east of the city centre in a quiet, typical Amsterdam neighbourhood the \"Indische Buurt\". Amsterdam’s...   \n1  17th century Dutch townhouse in the heart of the city. no public transport needed! Located a stones throw from Rembrandt Square, Dam Square, Leidse Square and Flower Market. Walking distance from Central Station.<br />Comfortable, cosy, lockable studio with comfortable bed and with private bathr...   \n2  Lovely apt in Centre ( lift & fireplace) near Jordaan<br /><br /><b>The space</b><br />This nicely furnished, newly renovated apt  is very sunny, and spacious with 8 windows. The appliances are fairly new. There are two flat screen TVs, washing machine, dryer, dishwasher, laptop computer, Wi-fi,...   \n3  Stylish and romantic houseboat on fantastic historic location with breathtaking view.  Wheelhouse, deckhouse and captains room. Central, quiet. Great breakfast, 2 vanMoof design bikes and a Canadian Canoe are included. Just read the reviews on tripadvisor for instance!<br /><br /><b>The space</b...   \n4  <b>The space</b><br />In a monumental house right in the center of Amsterdam, we offer two rooms (one single room and one double room) to visitors who want to enjoy the comfort of a home-like accommodation, plus being in the middle of the historic city center, close to all important museums, sho...   \n\n   host_since  superhost  total_listings  profile_pic  verified_id  \\\n0  2008-09-24       True             1.0         True         True   \n1  2009-12-02      False             2.0         True         True   \n2  2009-11-20       True             2.0         True        False   \n3  2010-03-23       True             1.0         True         True   \n4  2010-05-13       True             2.0         True         True   \n\n                   neighbourhood_cleansed  latitude  longitude  \\\n0  Oostelijk Havengebied - Indische Buurt  52.36575    4.94142   \n1                            Centrum-Oost  52.36509    4.89354   \n2                            Centrum-West  52.37297    4.88339   \n3                            Centrum-West  52.38761    4.89188   \n4                            Centrum-Oost  52.36610    4.88953   \n\n               property_type  ... avail_next_365_days  number_of_reviews  \\\n0  Private room in apartment  ...                 139                278   \n1  Private room in townhouse  ...                   0                339   \n2           Entire apartment  ...                 251                  5   \n3  Private room in houseboat  ...                 136                219   \n4  Private room in apartment  ...                 338                336   \n\n  avg_review_score  accuracy_score  cleanliness_score checkin_score  \\\n0             98.0            10.0               10.0          10.0   \n1             89.0            10.0               10.0          10.0   \n2            100.0            10.0               10.0          10.0   \n3             99.0            10.0               10.0          10.0   \n4             97.0            10.0               10.0          10.0   \n\n  communication_score  location_score  value_score  instant_bookable  \n0                10.0             9.0         10.0              True  \n1                10.0            10.0          9.0              True  \n2                10.0            10.0         10.0             False  \n3                10.0            10.0         10.0              True  \n4                10.0            10.0         10.0             False  \n\n[5 rows x 33 columns]",
      "text/html": "<div>\n<style scoped>\n    .dataframe tbody tr th:only-of-type {\n        vertical-align: middle;\n    }\n\n    .dataframe tbody tr th {\n        vertical-align: top;\n    }\n\n    .dataframe thead th {\n        text-align: right;\n    }\n</style>\n<table border=\"1\" class=\"dataframe\">\n  <thead>\n    <tr style=\"text-align: right;\">\n      <th></th>\n      <th>description</th>\n      <th>host_since</th>\n      <th>superhost</th>\n      <th>total_listings</th>\n      <th>profile_pic</th>\n      <th>verified_id</th>\n      <th>neighbourhood_cleansed</th>\n      <th>latitude</th>\n      <th>longitude</th>\n      <th>property_type</th>\n      <th>...</th>\n      <th>avail_next_365_days</th>\n      <th>number_of_reviews</th>\n      <th>avg_review_score</th>\n      <th>accuracy_score</th>\n      <th>cleanliness_score</th>\n      <th>checkin_score</th>\n      <th>communication_score</th>\n      <th>location_score</th>\n      <th>value_score</th>\n      <th>instant_bookable</th>\n    </tr>\n  </thead>\n  <tbody>\n    <tr>\n      <th>0</th>\n      <td>Quiet Garden View Room &amp; Super Fast WiFi&lt;br /&gt;&lt;br /&gt;&lt;b&gt;The space&lt;/b&gt;&lt;br /&gt;I'm renting a bedroom (room overlooking the garden) in my apartment in Amsterdam, &lt;br /&gt;&lt;br /&gt;The room is located to the east of the city centre in a quiet, typical Amsterdam neighbourhood the \"Indische Buurt\". Amsterdam’s...</td>\n      <td>2008-09-24</td>\n      <td>True</td>\n      <td>1.0</td>\n      <td>True</td>\n      <td>True</td>\n      <td>Oostelijk Havengebied - Indische Buurt</td>\n      <td>52.36575</td>\n      <td>4.94142</td>\n      <td>Private room in apartment</td>\n      <td>...</td>\n      <td>139</td>\n      <td>278</td>\n      <td>98.0</td>\n      <td>10.0</td>\n      <td>10.0</td>\n      <td>10.0</td>\n      <td>10.0</td>\n      <td>9.0</td>\n      <td>10.0</td>\n      <td>True</td>\n    </tr>\n    <tr>\n      <th>1</th>\n      <td>17th century Dutch townhouse in the heart of the city. no public transport needed! Located a stones throw from Rembrandt Square, Dam Square, Leidse Square and Flower Market. Walking distance from Central Station.&lt;br /&gt;Comfortable, cosy, lockable studio with comfortable bed and with private bathr...</td>\n      <td>2009-12-02</td>\n      <td>False</td>\n      <td>2.0</td>\n      <td>True</td>\n      <td>True</td>\n      <td>Centrum-Oost</td>\n      <td>52.36509</td>\n      <td>4.89354</td>\n      <td>Private room in townhouse</td>\n      <td>...</td>\n      <td>0</td>\n      <td>339</td>\n      <td>89.0</td>\n      <td>10.0</td>\n      <td>10.0</td>\n      <td>10.0</td>\n      <td>10.0</td>\n      <td>10.0</td>\n      <td>9.0</td>\n      <td>True</td>\n    </tr>\n    <tr>\n      <th>2</th>\n      <td>Lovely apt in Centre ( lift &amp; fireplace) near Jordaan&lt;br /&gt;&lt;br /&gt;&lt;b&gt;The space&lt;/b&gt;&lt;br /&gt;This nicely furnished, newly renovated apt  is very sunny, and spacious with 8 windows. The appliances are fairly new. There are two flat screen TVs, washing machine, dryer, dishwasher, laptop computer, Wi-fi,...</td>\n      <td>2009-11-20</td>\n      <td>True</td>\n      <td>2.0</td>\n      <td>True</td>\n      <td>False</td>\n      <td>Centrum-West</td>\n      <td>52.37297</td>\n      <td>4.88339</td>\n      <td>Entire apartment</td>\n      <td>...</td>\n      <td>251</td>\n      <td>5</td>\n      <td>100.0</td>\n      <td>10.0</td>\n      <td>10.0</td>\n      <td>10.0</td>\n      <td>10.0</td>\n      <td>10.0</td>\n      <td>10.0</td>\n      <td>False</td>\n    </tr>\n    <tr>\n      <th>3</th>\n      <td>Stylish and romantic houseboat on fantastic historic location with breathtaking view.  Wheelhouse, deckhouse and captains room. Central, quiet. Great breakfast, 2 vanMoof design bikes and a Canadian Canoe are included. Just read the reviews on tripadvisor for instance!&lt;br /&gt;&lt;br /&gt;&lt;b&gt;The space&lt;/b...</td>\n      <td>2010-03-23</td>\n      <td>True</td>\n      <td>1.0</td>\n      <td>True</td>\n      <td>True</td>\n      <td>Centrum-West</td>\n      <td>52.38761</td>\n      <td>4.89188</td>\n      <td>Private room in houseboat</td>\n      <td>...</td>\n      <td>136</td>\n      <td>219</td>\n      <td>99.0</td>\n      <td>10.0</td>\n      <td>10.0</td>\n      <td>10.0</td>\n      <td>10.0</td>\n      <td>10.0</td>\n      <td>10.0</td>\n      <td>True</td>\n    </tr>\n    <tr>\n      <th>4</th>\n      <td>&lt;b&gt;The space&lt;/b&gt;&lt;br /&gt;In a monumental house right in the center of Amsterdam, we offer two rooms (one single room and one double room) to visitors who want to enjoy the comfort of a home-like accommodation, plus being in the middle of the historic city center, close to all important museums, sho...</td>\n      <td>2010-05-13</td>\n      <td>True</td>\n      <td>2.0</td>\n      <td>True</td>\n      <td>True</td>\n      <td>Centrum-Oost</td>\n      <td>52.36610</td>\n      <td>4.88953</td>\n      <td>Private room in apartment</td>\n      <td>...</td>\n      <td>338</td>\n      <td>336</td>\n      <td>97.0</td>\n      <td>10.0</td>\n      <td>10.0</td>\n      <td>10.0</td>\n      <td>10.0</td>\n      <td>10.0</td>\n      <td>10.0</td>\n      <td>False</td>\n    </tr>\n  </tbody>\n</table>\n<p>5 rows × 33 columns</p>\n</div>"
     },
     "execution_count": 30,
     "metadata": {},
     "output_type": "execute_result"
    }
   ]
  },
  {
   "cell_type": "markdown",
   "metadata": {
    "id": "4JE3FKPYGRLo"
   },
   "source": [
    "##### Rename Featrues"
   ]
  },
  {
   "cell_type": "code",
   "metadata": {
    "colab": {
     "base_uri": "https://localhost:8080/"
    },
    "id": "MFvFRY-teg__",
    "outputId": "1e7ce85d-988c-43e4-a89a-3369439e6a53"
   },
   "source": [
    "cols_to_rename = {'neighbourhood_cleansed': 'neighborhood', \n",
    "                  'bathrooms_text': 'bathrooms', \n",
    "                  'beds': 'num_of_beds', \n",
    "                  'minimum_nights': 'min_nights', \n",
    "                  'maximum_nights': 'max_nights',\n",
    "                  'number_of_reviews': 'num_of_reviews'}\n",
    "\n",
    "amsterdam_list = amsterdam_list.rename(columns=cols_to_rename)\n",
    "\n",
    "amsterdam_list.columns"
   ],
   "execution_count": 31,
   "outputs": [
    {
     "data": {
      "text/plain": "Index(['description', 'host_since', 'superhost', 'total_listings',\n       'profile_pic', 'verified_id', 'neighborhood', 'latitude', 'longitude',\n       'property_type', 'room_type', 'accommodates', 'bathrooms', 'bedrooms',\n       'num_of_beds', 'amenities', 'price', 'min_nights', 'max_nights',\n       'available', 'avail_next_30_days', 'avail_next_60_days',\n       'avail_next_90_days', 'avail_next_365_days', 'num_of_reviews',\n       'avg_review_score', 'accuracy_score', 'cleanliness_score',\n       'checkin_score', 'communication_score', 'location_score', 'value_score',\n       'instant_bookable'],\n      dtype='object')"
     },
     "execution_count": 31,
     "metadata": {},
     "output_type": "execute_result"
    }
   ]
  },
  {
   "cell_type": "markdown",
   "metadata": {
    "id": "5Drl-ul8Kdbx"
   },
   "source": [
    "##### Data Types"
   ]
  },
  {
   "cell_type": "code",
   "metadata": {
    "colab": {
     "base_uri": "https://localhost:8080/"
    },
    "id": "vDwMKm3seg4S",
    "outputId": "22e64084-d5da-45a3-e1da-45d29599e61d"
   },
   "source": [
    "# Look at how each feature is currently typed\n",
    "amsterdam_list.dtypes"
   ],
   "execution_count": 32,
   "outputs": [
    {
     "data": {
      "text/plain": "description             object\nhost_since              object\nsuperhost                 bool\ntotal_listings         float64\nprofile_pic               bool\nverified_id               bool\nneighborhood            object\nlatitude               float64\nlongitude              float64\nproperty_type           object\nroom_type               object\naccommodates             int64\nbathrooms               object\nbedrooms               float64\nnum_of_beds            float64\namenities               object\nprice                   object\nmin_nights               int64\nmax_nights               int64\navailable                 bool\navail_next_30_days       int64\navail_next_60_days       int64\navail_next_90_days       int64\navail_next_365_days      int64\nnum_of_reviews           int64\navg_review_score       float64\naccuracy_score         float64\ncleanliness_score      float64\ncheckin_score          float64\ncommunication_score    float64\nlocation_score         float64\nvalue_score            float64\ninstant_bookable          bool\ndtype: object"
     },
     "execution_count": 32,
     "metadata": {},
     "output_type": "execute_result"
    }
   ]
  },
  {
   "cell_type": "markdown",
   "metadata": {
    "id": "HWVoOvXnkqvd"
   },
   "source": [
    "* Need to change data type of `host_since` to datetime data type"
   ]
  },
  {
   "cell_type": "code",
   "metadata": {
    "colab": {
     "base_uri": "https://localhost:8080/"
    },
    "id": "6lEK2dDpKdCS",
    "outputId": "39561688-78f3-4882-e1c5-84733607e895"
   },
   "source": [
    "# Change the data type of `host_since` feature to datetime\n",
    "amsterdam_list['host_since'] = pd.to_datetime(amsterdam_list['host_since'])\n",
    "\n",
    "amsterdam_list.info()"
   ],
   "execution_count": 33,
   "outputs": [
    {
     "name": "stdout",
     "output_type": "stream",
     "text": [
      "<class 'pandas.core.frame.DataFrame'>\n",
      "RangeIndex: 18291 entries, 0 to 18290\n",
      "Data columns (total 33 columns):\n",
      " #   Column               Non-Null Count  Dtype         \n",
      "---  ------               --------------  -----         \n",
      " 0   description          17994 non-null  object        \n",
      " 1   host_since           18228 non-null  datetime64[ns]\n",
      " 2   superhost            18291 non-null  bool          \n",
      " 3   total_listings       18228 non-null  float64       \n",
      " 4   profile_pic          18291 non-null  bool          \n",
      " 5   verified_id          18291 non-null  bool          \n",
      " 6   neighborhood         18291 non-null  object        \n",
      " 7   latitude             18291 non-null  float64       \n",
      " 8   longitude            18291 non-null  float64       \n",
      " 9   property_type        18291 non-null  object        \n",
      " 10  room_type            18291 non-null  object        \n",
      " 11  accommodates         18291 non-null  int64         \n",
      " 12  bathrooms            18269 non-null  object        \n",
      " 13  bedrooms             17294 non-null  float64       \n",
      " 14  num_of_beds          18186 non-null  float64       \n",
      " 15  amenities            18291 non-null  object        \n",
      " 16  price                18291 non-null  object        \n",
      " 17  min_nights           18291 non-null  int64         \n",
      " 18  max_nights           18291 non-null  int64         \n",
      " 19  available            18291 non-null  bool          \n",
      " 20  avail_next_30_days   18291 non-null  int64         \n",
      " 21  avail_next_60_days   18291 non-null  int64         \n",
      " 22  avail_next_90_days   18291 non-null  int64         \n",
      " 23  avail_next_365_days  18291 non-null  int64         \n",
      " 24  num_of_reviews       18291 non-null  int64         \n",
      " 25  avg_review_score     15659 non-null  float64       \n",
      " 26  accuracy_score       15649 non-null  float64       \n",
      " 27  cleanliness_score    15649 non-null  float64       \n",
      " 28  checkin_score        15641 non-null  float64       \n",
      " 29  communication_score  15648 non-null  float64       \n",
      " 30  location_score       15643 non-null  float64       \n",
      " 31  value_score          15643 non-null  float64       \n",
      " 32  instant_bookable     18291 non-null  bool          \n",
      "dtypes: bool(5), datetime64[ns](1), float64(12), int64(8), object(7)\n",
      "memory usage: 4.0+ MB\n"
     ]
    }
   ]
  },
  {
   "cell_type": "markdown",
   "metadata": {
    "id": "GhnEBnnEk3J1"
   },
   "source": [
    "* `total_listings` should be a `int` data type but it is a `float` data type. Need to correct this."
   ]
  },
  {
   "cell_type": "code",
   "metadata": {
    "colab": {
     "base_uri": "https://localhost:8080/"
    },
    "id": "CFAz0FSZs1LJ",
    "outputId": "cac5adc2-d24f-4064-f95e-da64f9a5873a"
   },
   "source": [
    "amsterdam_list['total_listings'].value_counts()"
   ],
   "execution_count": 34,
   "outputs": [
    {
     "data": {
      "text/plain": "1.0       12365\n2.0        2214\n0.0        1782\n3.0         588\n4.0         220\n5.0         151\n8.0          96\n98.0         85\n6.0          85\n85.0         81\n7.0          73\n9.0          43\n13.0         39\n41.0         38\n10.0         38\n12.0         35\n15.0         32\n43.0         31\n19.0         30\n18.0         28\n21.0         27\n22.0         24\n20.0         20\n30.0         19\n16.0         18\n17.0         15\n11.0         13\n39.0          6\n60.0          6\n29.0          5\n35.0          5\n27.0          3\n136.0         3\n23.0          2\n1324.0        2\n567.0         2\n512.0         1\n31.0          1\n7235.0        1\n45.0          1\nName: total_listings, dtype: int64"
     },
     "execution_count": 34,
     "metadata": {},
     "output_type": "execute_result"
    }
   ]
  },
  {
   "cell_type": "code",
   "metadata": {
    "colab": {
     "base_uri": "https://localhost:8080/"
    },
    "id": "pVmlGsOts1GR",
    "outputId": "e3bf0a8b-0a78-454b-82d0-83027f7957d8"
   },
   "source": [
    "# There are null values that are causing this to be a float type,\n",
    "#   need to change null values to 0 in order to make this an int type\n",
    "amsterdam_list['total_listings'] = amsterdam_list['total_listings'].replace(\n",
    "    np.nan, 0\n",
    ").astype(int)\n",
    "\n",
    "amsterdam_list.info()"
   ],
   "execution_count": 35,
   "outputs": [
    {
     "name": "stdout",
     "output_type": "stream",
     "text": [
      "<class 'pandas.core.frame.DataFrame'>\n",
      "RangeIndex: 18291 entries, 0 to 18290\n",
      "Data columns (total 33 columns):\n",
      " #   Column               Non-Null Count  Dtype         \n",
      "---  ------               --------------  -----         \n",
      " 0   description          17994 non-null  object        \n",
      " 1   host_since           18228 non-null  datetime64[ns]\n",
      " 2   superhost            18291 non-null  bool          \n",
      " 3   total_listings       18291 non-null  int32         \n",
      " 4   profile_pic          18291 non-null  bool          \n",
      " 5   verified_id          18291 non-null  bool          \n",
      " 6   neighborhood         18291 non-null  object        \n",
      " 7   latitude             18291 non-null  float64       \n",
      " 8   longitude            18291 non-null  float64       \n",
      " 9   property_type        18291 non-null  object        \n",
      " 10  room_type            18291 non-null  object        \n",
      " 11  accommodates         18291 non-null  int64         \n",
      " 12  bathrooms            18269 non-null  object        \n",
      " 13  bedrooms             17294 non-null  float64       \n",
      " 14  num_of_beds          18186 non-null  float64       \n",
      " 15  amenities            18291 non-null  object        \n",
      " 16  price                18291 non-null  object        \n",
      " 17  min_nights           18291 non-null  int64         \n",
      " 18  max_nights           18291 non-null  int64         \n",
      " 19  available            18291 non-null  bool          \n",
      " 20  avail_next_30_days   18291 non-null  int64         \n",
      " 21  avail_next_60_days   18291 non-null  int64         \n",
      " 22  avail_next_90_days   18291 non-null  int64         \n",
      " 23  avail_next_365_days  18291 non-null  int64         \n",
      " 24  num_of_reviews       18291 non-null  int64         \n",
      " 25  avg_review_score     15659 non-null  float64       \n",
      " 26  accuracy_score       15649 non-null  float64       \n",
      " 27  cleanliness_score    15649 non-null  float64       \n",
      " 28  checkin_score        15641 non-null  float64       \n",
      " 29  communication_score  15648 non-null  float64       \n",
      " 30  location_score       15643 non-null  float64       \n",
      " 31  value_score          15643 non-null  float64       \n",
      " 32  instant_bookable     18291 non-null  bool          \n",
      "dtypes: bool(5), datetime64[ns](1), float64(11), int32(1), int64(8), object(7)\n",
      "memory usage: 3.9+ MB\n"
     ]
    }
   ]
  },
  {
   "cell_type": "markdown",
   "metadata": {
    "id": "nWWZeDRolNwi"
   },
   "source": [
    "* Why is the `price` feature an `object` data type when it should be a `int` data type?"
   ]
  },
  {
   "cell_type": "code",
   "metadata": {
    "colab": {
     "base_uri": "https://localhost:8080/"
    },
    "id": "z0m2M-Ur9OAD",
    "outputId": "c4995b13-e228-4134-f993-52d237ff8bcb"
   },
   "source": [
    "# Look at the values in the price feature to find out why it is typed as \n",
    "#   an object and not a float\n",
    "amsterdam_list.price.value_counts()"
   ],
   "execution_count": 36,
   "outputs": [
    {
     "data": {
      "text/plain": "$150.00    980\n$100.00    839\n$120.00    661\n$200.00    597\n$125.00    517\n          ... \n$513.00      1\n$470.00      1\n$410.00      1\n$979.00      1\n$569.00      1\nName: price, Length: 502, dtype: int64"
     },
     "execution_count": 36,
     "metadata": {},
     "output_type": "execute_result"
    }
   ]
  },
  {
   "cell_type": "code",
   "metadata": {
    "colab": {
     "base_uri": "https://localhost:8080/"
    },
    "id": "JrASyOVh9N80",
    "outputId": "59912d36-941f-4ea9-b6bc-75c4e9c5e35f"
   },
   "source": [
    "# Need to remove the $ and the , from the price values and type as a float\n",
    "amsterdam_list['price'] = amsterdam_list['price'].map(\n",
    "    lambda x: x.lstrip('$').replace(',', '')).astype(float)\n",
    "\n",
    "amsterdam_list['price'].dtype"
   ],
   "execution_count": 37,
   "outputs": [
    {
     "data": {
      "text/plain": "dtype('float64')"
     },
     "execution_count": 37,
     "metadata": {},
     "output_type": "execute_result"
    }
   ]
  },
  {
   "cell_type": "markdown",
   "metadata": {
    "id": "rUce6_uBlfPh"
   },
   "source": [
    "* Need to add a new feature `shared_bath` for the ones that list as a shared bathroom. \n",
    "\n",
    "* Then clean the rest of the values so that there is only numerical data remaining."
   ]
  },
  {
   "cell_type": "code",
   "metadata": {
    "colab": {
     "base_uri": "https://localhost:8080/"
    },
    "id": "6h9z3w0T9N3b",
    "outputId": "0877c6e8-2b8c-42e0-e2d0-b2a26d8599cb"
   },
   "source": [
    "# Look at the values in the bathrooms feature to find out why it is typed as\n",
    "#   an object and not a float\n",
    "amsterdam_list['bathrooms'].value_counts()"
   ],
   "execution_count": 38,
   "outputs": [
    {
     "data": {
      "text/plain": "1 bath               10677\n1.5 baths             3473\n1 shared bath         1210\n1 private bath        1043\n2 baths                802\n1.5 shared baths       466\n2.5 baths              239\n3 baths                 96\n3.5 baths               43\nHalf-bath               39\n0 baths                 38\nShared half-bath        32\n2 shared baths          29\n0 shared baths          15\n4 baths                 13\nPrivate half-bath       11\n3 shared baths          10\n3.5 shared baths         8\n2.5 shared baths         6\n4 shared baths           5\n4.5 baths                4\n8 baths                  3\n5 baths                  2\n6 baths                  2\n5.5 baths                1\n13 baths                 1\n12 baths                 1\nName: bathrooms, dtype: int64"
     },
     "execution_count": 38,
     "metadata": {},
     "output_type": "execute_result"
    }
   ]
  },
  {
   "cell_type": "code",
   "metadata": {
    "colab": {
     "base_uri": "https://localhost:8080/"
    },
    "id": "AcEhR4vgP39V",
    "outputId": "887b7f95-befb-40d5-c28b-37635d0ffb94"
   },
   "source": [
    "# Need to remove \"shared\" from the values but want to still be able to use this\n",
    "#   as a feature (if shared or not), so add it as a new feature with bool values\n",
    "amsterdam_list['shared_bath'] = amsterdam_list['bathrooms'\n",
    "                                                     ].str.lower(\n",
    "                                                      ).str.contains('shared')\n",
    "\n",
    "# Check my work\n",
    "# amsterdam_list[['bathrooms', 'shared_bath']].value_counts()"
   ],
   "execution_count": 39,
   "outputs": []
  },
  {
   "cell_type": "code",
   "metadata": {
    "colab": {
     "base_uri": "https://localhost:8080/"
    },
    "id": "E7K0aXL49Nuk",
    "outputId": "886ce11b-d907-4feb-f1bd-c89880e698e2"
   },
   "source": [
    "# Need to replace all \"half-bath\" with 0.5\n",
    "amsterdam_list['bathrooms'] = amsterdam_list['bathrooms'].str.replace('half-bath', '0.5', case=False)\n",
    "\n",
    "# Check my work\n",
    "# amsterdam_list[['bathrooms', 'shared_bath']].value_counts()"
   ],
   "execution_count": 40,
   "outputs": []
  },
  {
   "cell_type": "code",
   "metadata": {
    "colab": {
     "base_uri": "https://localhost:8080/"
    },
    "id": "PeqmMV4xiwPv",
    "outputId": "1e13e69d-aa56-43fd-a9a7-d7519ac77758"
   },
   "source": [
    "# Now I can remove the text and return only the numerical values\n",
    "amsterdam_list['bathrooms'] = amsterdam_list['bathrooms'\n",
    "                                             ].str.extract('(\\d*\\.?\\d*)')\n",
    "\n",
    "amsterdam_list['bathrooms'].value_counts()"
   ],
   "execution_count": 41,
   "outputs": [
    {
     "data": {
      "text/plain": "1      12930\n1.5     3939\n2        831\n2.5      245\n3        106\n0         53\n3.5       51\n          43\n0.5       39\n4         18\n4.5        4\n8          3\n6          2\n5          2\n5.5        1\n13         1\n12         1\nName: bathrooms, dtype: int64"
     },
     "execution_count": 41,
     "metadata": {},
     "output_type": "execute_result"
    }
   ]
  },
  {
   "cell_type": "code",
   "metadata": {
    "id": "-iMBmSJciwHO",
    "colab": {
     "base_uri": "https://localhost:8080/"
    },
    "outputId": "f186e50b-1cef-474f-953e-97995dead265"
   },
   "source": [
    "# Replace null values with 0\n",
    "amsterdam_list['bathrooms'].replace(['', np.nan], 0, inplace=True)\n",
    "\n",
    "# Set the data type to a float\n",
    "amsterdam_list['bathrooms'] = amsterdam_list['bathrooms'].astype(float)\n",
    "\n",
    "# Format the float to display only one digit on the right of the decimal point\n",
    "# amsterdam_list.style.format({'bathrooms': '{:.1f}'})\n",
    "# amsterdam_list['bathrooms'] = ((amsterdam_list['bathrooms']*100).astype(int).astype(float))/100\n",
    "amsterdam_list['bathrooms'] = np.trunc(100 * amsterdam_list['bathrooms']) / 100\n",
    "\n",
    "# Look at the unique values in bathrooms now\n",
    "print(f'Unique Values: ', amsterdam_list.bathrooms.unique())\n",
    "\n",
    "# What is the data type now?\n",
    "print(f'Data Type now: {amsterdam_list.bathrooms.dtype}')"
   ],
   "execution_count": 42,
   "outputs": [
    {
     "name": "stdout",
     "output_type": "stream",
     "text": [
      "Unique Values:  [ 1.5  1.   2.   0.   3.   2.5  3.5  4.   0.5  6.   8.   5.   4.5  5.5\n",
      " 13.  12. ]\n",
      "Data Type now: float64\n"
     ]
    }
   ]
  },
  {
   "cell_type": "code",
   "metadata": {
    "colab": {
     "base_uri": "https://localhost:8080/"
    },
    "id": "QwoxbRHts0-a",
    "outputId": "8435a306-0c9a-4ee9-b594-6191e2e03b96"
   },
   "source": [
    "# Look at all the data types again to see if there is anything that I missed\n",
    "amsterdam_list.info()"
   ],
   "execution_count": 43,
   "outputs": [
    {
     "name": "stdout",
     "output_type": "stream",
     "text": [
      "<class 'pandas.core.frame.DataFrame'>\n",
      "RangeIndex: 18291 entries, 0 to 18290\n",
      "Data columns (total 34 columns):\n",
      " #   Column               Non-Null Count  Dtype         \n",
      "---  ------               --------------  -----         \n",
      " 0   description          17994 non-null  object        \n",
      " 1   host_since           18228 non-null  datetime64[ns]\n",
      " 2   superhost            18291 non-null  bool          \n",
      " 3   total_listings       18291 non-null  int32         \n",
      " 4   profile_pic          18291 non-null  bool          \n",
      " 5   verified_id          18291 non-null  bool          \n",
      " 6   neighborhood         18291 non-null  object        \n",
      " 7   latitude             18291 non-null  float64       \n",
      " 8   longitude            18291 non-null  float64       \n",
      " 9   property_type        18291 non-null  object        \n",
      " 10  room_type            18291 non-null  object        \n",
      " 11  accommodates         18291 non-null  int64         \n",
      " 12  bathrooms            18291 non-null  float64       \n",
      " 13  bedrooms             17294 non-null  float64       \n",
      " 14  num_of_beds          18186 non-null  float64       \n",
      " 15  amenities            18291 non-null  object        \n",
      " 16  price                18291 non-null  float64       \n",
      " 17  min_nights           18291 non-null  int64         \n",
      " 18  max_nights           18291 non-null  int64         \n",
      " 19  available            18291 non-null  bool          \n",
      " 20  avail_next_30_days   18291 non-null  int64         \n",
      " 21  avail_next_60_days   18291 non-null  int64         \n",
      " 22  avail_next_90_days   18291 non-null  int64         \n",
      " 23  avail_next_365_days  18291 non-null  int64         \n",
      " 24  num_of_reviews       18291 non-null  int64         \n",
      " 25  avg_review_score     15659 non-null  float64       \n",
      " 26  accuracy_score       15649 non-null  float64       \n",
      " 27  cleanliness_score    15649 non-null  float64       \n",
      " 28  checkin_score        15641 non-null  float64       \n",
      " 29  communication_score  15648 non-null  float64       \n",
      " 30  location_score       15643 non-null  float64       \n",
      " 31  value_score          15643 non-null  float64       \n",
      " 32  instant_bookable     18291 non-null  bool          \n",
      " 33  shared_bath          18269 non-null  object        \n",
      "dtypes: bool(5), datetime64[ns](1), float64(13), int32(1), int64(8), object(6)\n",
      "memory usage: 4.1+ MB\n"
     ]
    }
   ]
  },
  {
   "cell_type": "code",
   "metadata": {
    "colab": {
     "base_uri": "https://localhost:8080/"
    },
    "id": "hrdTPxKXehE5",
    "outputId": "67915b0d-d24d-4cf1-80bd-fae92c35a8a7"
   },
   "source": [
    "# Need to make all null values throughout the dataset into 0 to avoid errors\n",
    "#   when running my model. This should fix the data type of shared_bath and \n",
    "#   convert it into a bool data type by removing the null values\n",
    "amsterdam_list = amsterdam_list.replace(np.nan, 0)\n",
    "\n",
    "# Checking my work\n",
    "amsterdam_list.info()"
   ],
   "execution_count": 44,
   "outputs": [
    {
     "name": "stdout",
     "output_type": "stream",
     "text": [
      "<class 'pandas.core.frame.DataFrame'>\n",
      "RangeIndex: 18291 entries, 0 to 18290\n",
      "Data columns (total 34 columns):\n",
      " #   Column               Non-Null Count  Dtype  \n",
      "---  ------               --------------  -----  \n",
      " 0   description          18291 non-null  object \n",
      " 1   host_since           18291 non-null  float64\n",
      " 2   superhost            18291 non-null  bool   \n",
      " 3   total_listings       18291 non-null  int32  \n",
      " 4   profile_pic          18291 non-null  bool   \n",
      " 5   verified_id          18291 non-null  bool   \n",
      " 6   neighborhood         18291 non-null  object \n",
      " 7   latitude             18291 non-null  float64\n",
      " 8   longitude            18291 non-null  float64\n",
      " 9   property_type        18291 non-null  object \n",
      " 10  room_type            18291 non-null  object \n",
      " 11  accommodates         18291 non-null  int64  \n",
      " 12  bathrooms            18291 non-null  float64\n",
      " 13  bedrooms             18291 non-null  float64\n",
      " 14  num_of_beds          18291 non-null  float64\n",
      " 15  amenities            18291 non-null  object \n",
      " 16  price                18291 non-null  float64\n",
      " 17  min_nights           18291 non-null  int64  \n",
      " 18  max_nights           18291 non-null  int64  \n",
      " 19  available            18291 non-null  bool   \n",
      " 20  avail_next_30_days   18291 non-null  int64  \n",
      " 21  avail_next_60_days   18291 non-null  int64  \n",
      " 22  avail_next_90_days   18291 non-null  int64  \n",
      " 23  avail_next_365_days  18291 non-null  int64  \n",
      " 24  num_of_reviews       18291 non-null  int64  \n",
      " 25  avg_review_score     18291 non-null  float64\n",
      " 26  accuracy_score       18291 non-null  float64\n",
      " 27  cleanliness_score    18291 non-null  float64\n",
      " 28  checkin_score        18291 non-null  float64\n",
      " 29  communication_score  18291 non-null  float64\n",
      " 30  location_score       18291 non-null  float64\n",
      " 31  value_score          18291 non-null  float64\n",
      " 32  instant_bookable     18291 non-null  bool   \n",
      " 33  shared_bath          18291 non-null  object \n",
      "dtypes: bool(5), float64(14), int32(1), int64(8), object(6)\n",
      "memory usage: 4.1+ MB\n"
     ]
    }
   ]
  },
  {
   "cell_type": "code",
   "metadata": {
    "colab": {
     "base_uri": "https://localhost:8080/"
    },
    "id": "w02e_WjffY0N",
    "outputId": "a38eaaa3-4ede-4522-d358-0f4f1b4a7a1a"
   },
   "source": [
    "# Since that did not solve the issue of the data type for shared_bath, \n",
    "#   need to type it myself to a bool data type\n",
    "amsterdam_list['shared_bath'] = amsterdam_list['shared_bath'].astype(bool)\n",
    "\n",
    "# Check my work\n",
    "amsterdam_list.info()"
   ],
   "execution_count": 45,
   "outputs": [
    {
     "name": "stdout",
     "output_type": "stream",
     "text": [
      "<class 'pandas.core.frame.DataFrame'>\n",
      "RangeIndex: 18291 entries, 0 to 18290\n",
      "Data columns (total 34 columns):\n",
      " #   Column               Non-Null Count  Dtype  \n",
      "---  ------               --------------  -----  \n",
      " 0   description          18291 non-null  object \n",
      " 1   host_since           18291 non-null  float64\n",
      " 2   superhost            18291 non-null  bool   \n",
      " 3   total_listings       18291 non-null  int32  \n",
      " 4   profile_pic          18291 non-null  bool   \n",
      " 5   verified_id          18291 non-null  bool   \n",
      " 6   neighborhood         18291 non-null  object \n",
      " 7   latitude             18291 non-null  float64\n",
      " 8   longitude            18291 non-null  float64\n",
      " 9   property_type        18291 non-null  object \n",
      " 10  room_type            18291 non-null  object \n",
      " 11  accommodates         18291 non-null  int64  \n",
      " 12  bathrooms            18291 non-null  float64\n",
      " 13  bedrooms             18291 non-null  float64\n",
      " 14  num_of_beds          18291 non-null  float64\n",
      " 15  amenities            18291 non-null  object \n",
      " 16  price                18291 non-null  float64\n",
      " 17  min_nights           18291 non-null  int64  \n",
      " 18  max_nights           18291 non-null  int64  \n",
      " 19  available            18291 non-null  bool   \n",
      " 20  avail_next_30_days   18291 non-null  int64  \n",
      " 21  avail_next_60_days   18291 non-null  int64  \n",
      " 22  avail_next_90_days   18291 non-null  int64  \n",
      " 23  avail_next_365_days  18291 non-null  int64  \n",
      " 24  num_of_reviews       18291 non-null  int64  \n",
      " 25  avg_review_score     18291 non-null  float64\n",
      " 26  accuracy_score       18291 non-null  float64\n",
      " 27  cleanliness_score    18291 non-null  float64\n",
      " 28  checkin_score        18291 non-null  float64\n",
      " 29  communication_score  18291 non-null  float64\n",
      " 30  location_score       18291 non-null  float64\n",
      " 31  value_score          18291 non-null  float64\n",
      " 32  instant_bookable     18291 non-null  bool   \n",
      " 33  shared_bath          18291 non-null  bool   \n",
      "dtypes: bool(6), float64(14), int32(1), int64(8), object(5)\n",
      "memory usage: 3.9+ MB\n"
     ]
    }
   ]
  },
  {
   "cell_type": "markdown",
   "metadata": {
    "id": "Vc-7NGYjorER"
   },
   "source": [
    "* Last bit of EDA to complete is changin the `host_since` from date to number of years as a float value."
   ]
  },
  {
   "cell_type": "code",
   "metadata": {
    "colab": {
     "base_uri": "https://localhost:8080/"
    },
    "id": "qMAJR_G-orjY",
    "outputId": "e087be75-3365-44fe-c2ac-30b5f24b4754"
   },
   "source": [
    "# Need to change host_since back to datetime, when I converted all nulls to 0,\n",
    "#   this feature became a float data type\n",
    "amsterdam_list['host_since'] = pd.to_datetime(amsterdam_list['host_since'], \n",
    "                                              yearfirst=True)\n",
    "\n",
    "# Create a new feature with the date the data was collected\n",
    "amsterdam_list['years_hosting'] = pd.to_datetime('02-08-2021', yearfirst=True)\n",
    "\n",
    "amsterdam_list.info()"
   ],
   "execution_count": 46,
   "outputs": [
    {
     "name": "stdout",
     "output_type": "stream",
     "text": [
      "<class 'pandas.core.frame.DataFrame'>\n",
      "RangeIndex: 18291 entries, 0 to 18290\n",
      "Data columns (total 35 columns):\n",
      " #   Column               Non-Null Count  Dtype         \n",
      "---  ------               --------------  -----         \n",
      " 0   description          18291 non-null  object        \n",
      " 1   host_since           18291 non-null  datetime64[ns]\n",
      " 2   superhost            18291 non-null  bool          \n",
      " 3   total_listings       18291 non-null  int32         \n",
      " 4   profile_pic          18291 non-null  bool          \n",
      " 5   verified_id          18291 non-null  bool          \n",
      " 6   neighborhood         18291 non-null  object        \n",
      " 7   latitude             18291 non-null  float64       \n",
      " 8   longitude            18291 non-null  float64       \n",
      " 9   property_type        18291 non-null  object        \n",
      " 10  room_type            18291 non-null  object        \n",
      " 11  accommodates         18291 non-null  int64         \n",
      " 12  bathrooms            18291 non-null  float64       \n",
      " 13  bedrooms             18291 non-null  float64       \n",
      " 14  num_of_beds          18291 non-null  float64       \n",
      " 15  amenities            18291 non-null  object        \n",
      " 16  price                18291 non-null  float64       \n",
      " 17  min_nights           18291 non-null  int64         \n",
      " 18  max_nights           18291 non-null  int64         \n",
      " 19  available            18291 non-null  bool          \n",
      " 20  avail_next_30_days   18291 non-null  int64         \n",
      " 21  avail_next_60_days   18291 non-null  int64         \n",
      " 22  avail_next_90_days   18291 non-null  int64         \n",
      " 23  avail_next_365_days  18291 non-null  int64         \n",
      " 24  num_of_reviews       18291 non-null  int64         \n",
      " 25  avg_review_score     18291 non-null  float64       \n",
      " 26  accuracy_score       18291 non-null  float64       \n",
      " 27  cleanliness_score    18291 non-null  float64       \n",
      " 28  checkin_score        18291 non-null  float64       \n",
      " 29  communication_score  18291 non-null  float64       \n",
      " 30  location_score       18291 non-null  float64       \n",
      " 31  value_score          18291 non-null  float64       \n",
      " 32  instant_bookable     18291 non-null  bool          \n",
      " 33  shared_bath          18291 non-null  bool          \n",
      " 34  years_hosting        18291 non-null  datetime64[ns]\n",
      "dtypes: bool(6), datetime64[ns](2), float64(13), int32(1), int64(8), object(5)\n",
      "memory usage: 4.1+ MB\n"
     ]
    }
   ]
  },
  {
   "cell_type": "code",
   "metadata": {
    "colab": {
     "base_uri": "https://localhost:8080/",
     "height": 1000
    },
    "id": "6XOCAD3zosSG",
    "outputId": "f5e9c09b-930f-4beb-ec8e-b47199676c19"
   },
   "source": [
    "# Change years_hosting from the date the data was collected to the years from\n",
    "#   host_since to the data data was collected\n",
    "amsterdam_list['years_hosting'] = (amsterdam_list['years_hosting'] - amsterdam_list['host_since']).dt.days/365\n",
    "\n",
    "# Format the float to display only 2 digit on the right of the decimal point\n",
    "amsterdam_list['years_hosting'] = round(amsterdam_list['years_hosting'], 2)\n",
    "\n",
    "# # Other ways I tried and worked too to only display 2 digits on the right of the decimal point\n",
    "# amsterdam_list['years_hosting'] = np.trunc(100 * amsterdam_list['years_hosting']) / 100\n",
    "# amsterdam_list['years_hosting'] = [math.trunc(100 * val) / 100 for val in amsterdam_list['years_hosting']]\n",
    "\n",
    "# Check my work\n",
    "amsterdam_list.head()"
   ],
   "execution_count": 47,
   "outputs": [
    {
     "data": {
      "text/plain": "                                                                                                                                                                                                                                                                                                   description  \\\n0  Quiet Garden View Room & Super Fast WiFi<br /><br /><b>The space</b><br />I'm renting a bedroom (room overlooking the garden) in my apartment in Amsterdam, <br /><br />The room is located to the east of the city centre in a quiet, typical Amsterdam neighbourhood the \"Indische Buurt\". Amsterdam’s...   \n1  17th century Dutch townhouse in the heart of the city. no public transport needed! Located a stones throw from Rembrandt Square, Dam Square, Leidse Square and Flower Market. Walking distance from Central Station.<br />Comfortable, cosy, lockable studio with comfortable bed and with private bathr...   \n2  Lovely apt in Centre ( lift & fireplace) near Jordaan<br /><br /><b>The space</b><br />This nicely furnished, newly renovated apt  is very sunny, and spacious with 8 windows. The appliances are fairly new. There are two flat screen TVs, washing machine, dryer, dishwasher, laptop computer, Wi-fi,...   \n3  Stylish and romantic houseboat on fantastic historic location with breathtaking view.  Wheelhouse, deckhouse and captains room. Central, quiet. Great breakfast, 2 vanMoof design bikes and a Canadian Canoe are included. Just read the reviews on tripadvisor for instance!<br /><br /><b>The space</b...   \n4  <b>The space</b><br />In a monumental house right in the center of Amsterdam, we offer two rooms (one single room and one double room) to visitors who want to enjoy the comfort of a home-like accommodation, plus being in the middle of the historic city center, close to all important museums, sho...   \n\n  host_since  superhost  total_listings  profile_pic  verified_id  \\\n0 2008-09-24       True               1         True         True   \n1 2009-12-02      False               2         True         True   \n2 2009-11-20       True               2         True        False   \n3 2010-03-23       True               1         True         True   \n4 2010-05-13       True               2         True         True   \n\n                             neighborhood  latitude  longitude  \\\n0  Oostelijk Havengebied - Indische Buurt  52.36575    4.94142   \n1                            Centrum-Oost  52.36509    4.89354   \n2                            Centrum-West  52.37297    4.88339   \n3                            Centrum-West  52.38761    4.89188   \n4                            Centrum-Oost  52.36610    4.88953   \n\n               property_type  ... avg_review_score  accuracy_score  \\\n0  Private room in apartment  ...             98.0            10.0   \n1  Private room in townhouse  ...             89.0            10.0   \n2           Entire apartment  ...            100.0            10.0   \n3  Private room in houseboat  ...             99.0            10.0   \n4  Private room in apartment  ...             97.0            10.0   \n\n   cleanliness_score  checkin_score  communication_score location_score  \\\n0               10.0           10.0                 10.0            9.0   \n1               10.0           10.0                 10.0           10.0   \n2               10.0           10.0                 10.0           10.0   \n3               10.0           10.0                 10.0           10.0   \n4               10.0           10.0                 10.0           10.0   \n\n   value_score  instant_bookable  shared_bath  years_hosting  \n0         10.0              True         True          12.38  \n1          9.0              True        False          11.19  \n2         10.0             False        False          11.23  \n3         10.0              True        False          10.89  \n4         10.0             False         True          10.75  \n\n[5 rows x 35 columns]",
      "text/html": "<div>\n<style scoped>\n    .dataframe tbody tr th:only-of-type {\n        vertical-align: middle;\n    }\n\n    .dataframe tbody tr th {\n        vertical-align: top;\n    }\n\n    .dataframe thead th {\n        text-align: right;\n    }\n</style>\n<table border=\"1\" class=\"dataframe\">\n  <thead>\n    <tr style=\"text-align: right;\">\n      <th></th>\n      <th>description</th>\n      <th>host_since</th>\n      <th>superhost</th>\n      <th>total_listings</th>\n      <th>profile_pic</th>\n      <th>verified_id</th>\n      <th>neighborhood</th>\n      <th>latitude</th>\n      <th>longitude</th>\n      <th>property_type</th>\n      <th>...</th>\n      <th>avg_review_score</th>\n      <th>accuracy_score</th>\n      <th>cleanliness_score</th>\n      <th>checkin_score</th>\n      <th>communication_score</th>\n      <th>location_score</th>\n      <th>value_score</th>\n      <th>instant_bookable</th>\n      <th>shared_bath</th>\n      <th>years_hosting</th>\n    </tr>\n  </thead>\n  <tbody>\n    <tr>\n      <th>0</th>\n      <td>Quiet Garden View Room &amp; Super Fast WiFi&lt;br /&gt;&lt;br /&gt;&lt;b&gt;The space&lt;/b&gt;&lt;br /&gt;I'm renting a bedroom (room overlooking the garden) in my apartment in Amsterdam, &lt;br /&gt;&lt;br /&gt;The room is located to the east of the city centre in a quiet, typical Amsterdam neighbourhood the \"Indische Buurt\". Amsterdam’s...</td>\n      <td>2008-09-24</td>\n      <td>True</td>\n      <td>1</td>\n      <td>True</td>\n      <td>True</td>\n      <td>Oostelijk Havengebied - Indische Buurt</td>\n      <td>52.36575</td>\n      <td>4.94142</td>\n      <td>Private room in apartment</td>\n      <td>...</td>\n      <td>98.0</td>\n      <td>10.0</td>\n      <td>10.0</td>\n      <td>10.0</td>\n      <td>10.0</td>\n      <td>9.0</td>\n      <td>10.0</td>\n      <td>True</td>\n      <td>True</td>\n      <td>12.38</td>\n    </tr>\n    <tr>\n      <th>1</th>\n      <td>17th century Dutch townhouse in the heart of the city. no public transport needed! Located a stones throw from Rembrandt Square, Dam Square, Leidse Square and Flower Market. Walking distance from Central Station.&lt;br /&gt;Comfortable, cosy, lockable studio with comfortable bed and with private bathr...</td>\n      <td>2009-12-02</td>\n      <td>False</td>\n      <td>2</td>\n      <td>True</td>\n      <td>True</td>\n      <td>Centrum-Oost</td>\n      <td>52.36509</td>\n      <td>4.89354</td>\n      <td>Private room in townhouse</td>\n      <td>...</td>\n      <td>89.0</td>\n      <td>10.0</td>\n      <td>10.0</td>\n      <td>10.0</td>\n      <td>10.0</td>\n      <td>10.0</td>\n      <td>9.0</td>\n      <td>True</td>\n      <td>False</td>\n      <td>11.19</td>\n    </tr>\n    <tr>\n      <th>2</th>\n      <td>Lovely apt in Centre ( lift &amp; fireplace) near Jordaan&lt;br /&gt;&lt;br /&gt;&lt;b&gt;The space&lt;/b&gt;&lt;br /&gt;This nicely furnished, newly renovated apt  is very sunny, and spacious with 8 windows. The appliances are fairly new. There are two flat screen TVs, washing machine, dryer, dishwasher, laptop computer, Wi-fi,...</td>\n      <td>2009-11-20</td>\n      <td>True</td>\n      <td>2</td>\n      <td>True</td>\n      <td>False</td>\n      <td>Centrum-West</td>\n      <td>52.37297</td>\n      <td>4.88339</td>\n      <td>Entire apartment</td>\n      <td>...</td>\n      <td>100.0</td>\n      <td>10.0</td>\n      <td>10.0</td>\n      <td>10.0</td>\n      <td>10.0</td>\n      <td>10.0</td>\n      <td>10.0</td>\n      <td>False</td>\n      <td>False</td>\n      <td>11.23</td>\n    </tr>\n    <tr>\n      <th>3</th>\n      <td>Stylish and romantic houseboat on fantastic historic location with breathtaking view.  Wheelhouse, deckhouse and captains room. Central, quiet. Great breakfast, 2 vanMoof design bikes and a Canadian Canoe are included. Just read the reviews on tripadvisor for instance!&lt;br /&gt;&lt;br /&gt;&lt;b&gt;The space&lt;/b...</td>\n      <td>2010-03-23</td>\n      <td>True</td>\n      <td>1</td>\n      <td>True</td>\n      <td>True</td>\n      <td>Centrum-West</td>\n      <td>52.38761</td>\n      <td>4.89188</td>\n      <td>Private room in houseboat</td>\n      <td>...</td>\n      <td>99.0</td>\n      <td>10.0</td>\n      <td>10.0</td>\n      <td>10.0</td>\n      <td>10.0</td>\n      <td>10.0</td>\n      <td>10.0</td>\n      <td>True</td>\n      <td>False</td>\n      <td>10.89</td>\n    </tr>\n    <tr>\n      <th>4</th>\n      <td>&lt;b&gt;The space&lt;/b&gt;&lt;br /&gt;In a monumental house right in the center of Amsterdam, we offer two rooms (one single room and one double room) to visitors who want to enjoy the comfort of a home-like accommodation, plus being in the middle of the historic city center, close to all important museums, sho...</td>\n      <td>2010-05-13</td>\n      <td>True</td>\n      <td>2</td>\n      <td>True</td>\n      <td>True</td>\n      <td>Centrum-Oost</td>\n      <td>52.36610</td>\n      <td>4.88953</td>\n      <td>Private room in apartment</td>\n      <td>...</td>\n      <td>97.0</td>\n      <td>10.0</td>\n      <td>10.0</td>\n      <td>10.0</td>\n      <td>10.0</td>\n      <td>10.0</td>\n      <td>10.0</td>\n      <td>False</td>\n      <td>True</td>\n      <td>10.75</td>\n    </tr>\n  </tbody>\n</table>\n<p>5 rows × 35 columns</p>\n</div>"
     },
     "execution_count": 47,
     "metadata": {},
     "output_type": "execute_result"
    }
   ]
  },
  {
   "cell_type": "code",
   "metadata": {
    "colab": {
     "base_uri": "https://localhost:8080/",
     "height": 1000
    },
    "id": "t1G6em0FosG7",
    "outputId": "e940e134-4521-40c1-a604-86a6fdb2ec66"
   },
   "source": [
    "# Now that I can drop the host_since featrue, it is no longer needed\n",
    "amsterdam_list = amsterdam_list.drop(columns='host_since')\n",
    "\n",
    "# Check my work\n",
    "print(amsterdam_list.shape)\n",
    "amsterdam_list.head(2)"
   ],
   "execution_count": 48,
   "outputs": [
    {
     "name": "stdout",
     "output_type": "stream",
     "text": [
      "(18291, 34)\n"
     ]
    },
    {
     "data": {
      "text/plain": "                                                                                                                                                                                                                                                                                                   description  \\\n0  Quiet Garden View Room & Super Fast WiFi<br /><br /><b>The space</b><br />I'm renting a bedroom (room overlooking the garden) in my apartment in Amsterdam, <br /><br />The room is located to the east of the city centre in a quiet, typical Amsterdam neighbourhood the \"Indische Buurt\". Amsterdam’s...   \n1  17th century Dutch townhouse in the heart of the city. no public transport needed! Located a stones throw from Rembrandt Square, Dam Square, Leidse Square and Flower Market. Walking distance from Central Station.<br />Comfortable, cosy, lockable studio with comfortable bed and with private bathr...   \n\n   superhost  total_listings  profile_pic  verified_id  \\\n0       True               1         True         True   \n1      False               2         True         True   \n\n                             neighborhood  latitude  longitude  \\\n0  Oostelijk Havengebied - Indische Buurt  52.36575    4.94142   \n1                            Centrum-Oost  52.36509    4.89354   \n\n               property_type     room_type  ...  avg_review_score  \\\n0  Private room in apartment  Private room  ...              98.0   \n1  Private room in townhouse  Private room  ...              89.0   \n\n   accuracy_score  cleanliness_score  checkin_score communication_score  \\\n0            10.0               10.0           10.0                10.0   \n1            10.0               10.0           10.0                10.0   \n\n   location_score  value_score  instant_bookable  shared_bath  years_hosting  \n0             9.0         10.0              True         True          12.38  \n1            10.0          9.0              True        False          11.19  \n\n[2 rows x 34 columns]",
      "text/html": "<div>\n<style scoped>\n    .dataframe tbody tr th:only-of-type {\n        vertical-align: middle;\n    }\n\n    .dataframe tbody tr th {\n        vertical-align: top;\n    }\n\n    .dataframe thead th {\n        text-align: right;\n    }\n</style>\n<table border=\"1\" class=\"dataframe\">\n  <thead>\n    <tr style=\"text-align: right;\">\n      <th></th>\n      <th>description</th>\n      <th>superhost</th>\n      <th>total_listings</th>\n      <th>profile_pic</th>\n      <th>verified_id</th>\n      <th>neighborhood</th>\n      <th>latitude</th>\n      <th>longitude</th>\n      <th>property_type</th>\n      <th>room_type</th>\n      <th>...</th>\n      <th>avg_review_score</th>\n      <th>accuracy_score</th>\n      <th>cleanliness_score</th>\n      <th>checkin_score</th>\n      <th>communication_score</th>\n      <th>location_score</th>\n      <th>value_score</th>\n      <th>instant_bookable</th>\n      <th>shared_bath</th>\n      <th>years_hosting</th>\n    </tr>\n  </thead>\n  <tbody>\n    <tr>\n      <th>0</th>\n      <td>Quiet Garden View Room &amp; Super Fast WiFi&lt;br /&gt;&lt;br /&gt;&lt;b&gt;The space&lt;/b&gt;&lt;br /&gt;I'm renting a bedroom (room overlooking the garden) in my apartment in Amsterdam, &lt;br /&gt;&lt;br /&gt;The room is located to the east of the city centre in a quiet, typical Amsterdam neighbourhood the \"Indische Buurt\". Amsterdam’s...</td>\n      <td>True</td>\n      <td>1</td>\n      <td>True</td>\n      <td>True</td>\n      <td>Oostelijk Havengebied - Indische Buurt</td>\n      <td>52.36575</td>\n      <td>4.94142</td>\n      <td>Private room in apartment</td>\n      <td>Private room</td>\n      <td>...</td>\n      <td>98.0</td>\n      <td>10.0</td>\n      <td>10.0</td>\n      <td>10.0</td>\n      <td>10.0</td>\n      <td>9.0</td>\n      <td>10.0</td>\n      <td>True</td>\n      <td>True</td>\n      <td>12.38</td>\n    </tr>\n    <tr>\n      <th>1</th>\n      <td>17th century Dutch townhouse in the heart of the city. no public transport needed! Located a stones throw from Rembrandt Square, Dam Square, Leidse Square and Flower Market. Walking distance from Central Station.&lt;br /&gt;Comfortable, cosy, lockable studio with comfortable bed and with private bathr...</td>\n      <td>False</td>\n      <td>2</td>\n      <td>True</td>\n      <td>True</td>\n      <td>Centrum-Oost</td>\n      <td>52.36509</td>\n      <td>4.89354</td>\n      <td>Private room in townhouse</td>\n      <td>Private room</td>\n      <td>...</td>\n      <td>89.0</td>\n      <td>10.0</td>\n      <td>10.0</td>\n      <td>10.0</td>\n      <td>10.0</td>\n      <td>10.0</td>\n      <td>9.0</td>\n      <td>True</td>\n      <td>False</td>\n      <td>11.19</td>\n    </tr>\n  </tbody>\n</table>\n<p>2 rows × 34 columns</p>\n</div>"
     },
     "execution_count": 48,
     "metadata": {},
     "output_type": "execute_result"
    }
   ]
  },
  {
   "cell_type": "markdown",
   "metadata": {
    "id": "zLUp0qdpmzMw"
   },
   "source": [
    "#### Group Features"
   ]
  },
  {
   "cell_type": "code",
   "metadata": {
    "colab": {
     "base_uri": "https://localhost:8080/"
    },
    "id": "Qa5GdRiAAudZ",
    "outputId": "e9ebc183-fd16-4aa9-a191-03e2fe378ae2"
   },
   "source": [
    "# Look at all the current features\n",
    "amsterdam_list.columns"
   ],
   "execution_count": 49,
   "outputs": [
    {
     "data": {
      "text/plain": "Index(['description', 'superhost', 'total_listings', 'profile_pic',\n       'verified_id', 'neighborhood', 'latitude', 'longitude', 'property_type',\n       'room_type', 'accommodates', 'bathrooms', 'bedrooms', 'num_of_beds',\n       'amenities', 'price', 'min_nights', 'max_nights', 'available',\n       'avail_next_30_days', 'avail_next_60_days', 'avail_next_90_days',\n       'avail_next_365_days', 'num_of_reviews', 'avg_review_score',\n       'accuracy_score', 'cleanliness_score', 'checkin_score',\n       'communication_score', 'location_score', 'value_score',\n       'instant_bookable', 'shared_bath', 'years_hosting'],\n      dtype='object')"
     },
     "execution_count": 49,
     "metadata": {},
     "output_type": "execute_result"
    }
   ]
  },
  {
   "cell_type": "code",
   "metadata": {
    "colab": {
     "base_uri": "https://localhost:8080/"
    },
    "id": "scPKONkDBcRu",
    "outputId": "8e116e79-4dd6-43ea-8bf8-dea7b2518ab6"
   },
   "source": [
    "# Look at all the current data types \n",
    "amsterdam_list.info()"
   ],
   "execution_count": 50,
   "outputs": [
    {
     "name": "stdout",
     "output_type": "stream",
     "text": [
      "<class 'pandas.core.frame.DataFrame'>\n",
      "RangeIndex: 18291 entries, 0 to 18290\n",
      "Data columns (total 34 columns):\n",
      " #   Column               Non-Null Count  Dtype  \n",
      "---  ------               --------------  -----  \n",
      " 0   description          18291 non-null  object \n",
      " 1   superhost            18291 non-null  bool   \n",
      " 2   total_listings       18291 non-null  int32  \n",
      " 3   profile_pic          18291 non-null  bool   \n",
      " 4   verified_id          18291 non-null  bool   \n",
      " 5   neighborhood         18291 non-null  object \n",
      " 6   latitude             18291 non-null  float64\n",
      " 7   longitude            18291 non-null  float64\n",
      " 8   property_type        18291 non-null  object \n",
      " 9   room_type            18291 non-null  object \n",
      " 10  accommodates         18291 non-null  int64  \n",
      " 11  bathrooms            18291 non-null  float64\n",
      " 12  bedrooms             18291 non-null  float64\n",
      " 13  num_of_beds          18291 non-null  float64\n",
      " 14  amenities            18291 non-null  object \n",
      " 15  price                18291 non-null  float64\n",
      " 16  min_nights           18291 non-null  int64  \n",
      " 17  max_nights           18291 non-null  int64  \n",
      " 18  available            18291 non-null  bool   \n",
      " 19  avail_next_30_days   18291 non-null  int64  \n",
      " 20  avail_next_60_days   18291 non-null  int64  \n",
      " 21  avail_next_90_days   18291 non-null  int64  \n",
      " 22  avail_next_365_days  18291 non-null  int64  \n",
      " 23  num_of_reviews       18291 non-null  int64  \n",
      " 24  avg_review_score     18291 non-null  float64\n",
      " 25  accuracy_score       18291 non-null  float64\n",
      " 26  cleanliness_score    18291 non-null  float64\n",
      " 27  checkin_score        18291 non-null  float64\n",
      " 28  communication_score  18291 non-null  float64\n",
      " 29  location_score       18291 non-null  float64\n",
      " 30  value_score          18291 non-null  float64\n",
      " 31  instant_bookable     18291 non-null  bool   \n",
      " 32  shared_bath          18291 non-null  bool   \n",
      " 33  years_hosting        18291 non-null  float64\n",
      "dtypes: bool(6), float64(14), int32(1), int64(8), object(5)\n",
      "memory usage: 3.9+ MB\n"
     ]
    }
   ]
  },
  {
   "cell_type": "code",
   "metadata": {
    "id": "DYPOlmQTYT6H"
   },
   "source": [
    "# Seperate out my target feature\n",
    "y = amsterdam_list['price']\n",
    "\n",
    "# Group all text features for NLP preprocessing\n",
    "txt_features = ['description', 'neighborhood', 'property_type', 'room_type', \n",
    "                'amenities']\n",
    "\n",
    "# Group all numeric features\n",
    "num_feat = ['total_listings', 'latitude', 'longitude', 'accommodates', \n",
    "            'bathrooms', 'bedrooms', 'num_of_beds', 'min_nights', 'max_nights', \n",
    "            'avail_next_30_days', 'avail_next_60_days', 'avail_next_90_days', \n",
    "            'avail_next_365_days', 'num_of_reviews', 'avg_review_score', \n",
    "            'accuracy_score', 'cleanliness_score', 'checkin_score', \n",
    "            'communication_score', 'location_score', 'value_score', \n",
    "            'years_hosting']\n",
    "\n",
    "# Group all bool features\n",
    "bool_feat = ['superhost', 'profile_pic', 'verified_id', 'available', \n",
    "             'instant_bookable', 'shared_bath']"
   ],
   "execution_count": 51,
   "outputs": []
  },
  {
   "cell_type": "code",
   "metadata": {
    "id": "q5AQGo_yfrRm"
   },
   "source": [
    "# Save a csv file with only the text features for use in another notebook\n",
    "# # If running on Google Colab, use this code:\n",
    "# amsterdam_list[txt_features].to_csv('amsterdam_txt_feat.csv', index=False)\n",
    "# If running locally as clone of the repo, use this code:\n",
    "amsterdam_list[txt_features].to_csv('../data/amsterdam_txt_feat.csv', index=False)\n",
    "\n",
    "# Save a csv file with only the numeric features for use in another notebook\n",
    "# # If running on Google Colab, use this code:\n",
    "# amsterdam_list[num_feat].to_csv('amsterdam_num_feat.csv', index=False)\n",
    "# If running locally as clone of the repo, use this code:\n",
    "amsterdam_list[num_feat].to_csv('../data/amsterdam_num_feat.csv', index=False)\n",
    "\n",
    "# Save a csv file with only the boolean features for use in another notebook\n",
    "# # If running on Google Colab, use this code:\n",
    "# amsterdam_list[bool_feat].to_csv('amsterdam_bool_feat.csv', index=False)\n",
    "# If running locally as clone of the repo, use this code:\n",
    "amsterdam_list[bool_feat].to_csv('../data/amsterdam_bool_feat.csv', index=False)\n",
    "\n",
    "# Save a csv file with the complete cleaned dataset for use in another notebook\n",
    "# # If running on Google Colab, use this code:\n",
    "# amsterdam_list.to_csv('amsterdam_list_clean.csv', index=False)\n",
    "# If running locally as clone of the repo, use this code:\n",
    "amsterdam_list.to_csv('../data/amsterdam_list_clean.csv', index=False)"
   ],
   "execution_count": 52,
   "outputs": []
  },
  {
   "cell_type": "markdown",
   "source": [
    "#### Links to Raw Cleaned Files\n",
    "\n",
    "[Text Features Only](https://raw.githubusercontent.com/BW-TT-158-AirBnB/Data-Science-Unit3-and-Unit4/main/data/amsterdam_txt_feat.csv)\n",
    "\n",
    "[Numeric Features Only](https://raw.githubusercontent.com/BW-TT-158-AirBnB/Data-Science-Unit3-and-Unit4/main/data/amsterdam_num_feat.csv)\n",
    "\n",
    "[Boolean Features Only](https://raw.githubusercontent.com/BW-TT-158-AirBnB/Data-Science-Unit3-and-Unit4/main/data/amsterdam_bool_feat.csv)\n",
    "\n",
    "[Cleaned with All Features](https://raw.githubusercontent.com/BW-TT-158-AirBnB/Data-Science-Unit3-and-Unit4/main/data/amsterdam_list_clean.csv)"
   ],
   "metadata": {
    "collapsed": false,
    "pycharm": {
     "name": "#%% md\n"
    }
   }
  },
  {
   "cell_type": "markdown",
   "metadata": {
    "id": "TZJMDLIiD0sy"
   },
   "source": [
    "#### NLP Preprocessing\n",
    "\n",
    "I will be doing this in another notebook to avoid having a notebook that is too large.\n",
    "\n",
    "[My NLP Notebook](https://github.com/BW-TT-158-AirBnB/Data-Science-Unit3-and-Unit4/blob/main/notebooks/BW4_Airbnb_NLP_Notebook.ipynb)"
   ]
  },
  {
   "cell_type": "markdown",
   "metadata": {
    "id": "piyoFTNllcSx"
   },
   "source": [
    "#### Model\n",
    "\n",
    "I will be creating a model in a seperate notebook to avoid having a notebook that is too large and to keep everything organized.\n",
    "\n",
    "[My Model Notebook](https://github.com/BW-TT-158-AirBnB/Data-Science-Unit3-and-Unit4/blob/main/notebooks/BW4_Airbnb_Model_Notebook.ipynb)"
   ]
  },
  {
   "cell_type": "markdown",
   "metadata": {
    "id": "DMsDfraeehzq"
   },
   "source": [
    "## Amsterdam Detailed Reviews\n",
    "\n",
    "[Download the dataset here](https://github.com/BW-TT-158-AirBnB/Data-Science-Unit3-and-Unit4/blob/main/data/Amsterdam_detailed_reviews.csv)"
   ]
  },
  {
   "cell_type": "code",
   "metadata": {
    "id": "CXd8SlLm-UfS",
    "colab": {
     "base_uri": "https://localhost:8080/",
     "height": 818
    },
    "outputId": "bd01703e-1d4b-4c2b-8c6f-94b9ee953d17"
   },
   "source": [
    "# # If running on Google Colab, need to upload the dataset, and use this code:\n",
    "# amsterdam_detailed_rev = pd.read_csv('Amsterdam_detailed_reviews.csv', compression='gzip',\n",
    "#                                   error_bad_lines=False)\n",
    "# If running locally from cloned repo, use this code:\n",
    "amsterdam_detailed_rev = pd.read_csv('../data/Amsterdam_detailed_reviews.csv', compression='gzip',\n",
    "                                  error_bad_lines=False)\n",
    "\n",
    "print(amsterdam_detailed_rev.shape)\n",
    "amsterdam_detailed_rev.head(10)"
   ],
   "execution_count": 53,
   "outputs": [
    {
     "name": "stdout",
     "output_type": "stream",
     "text": [
      "(441274, 6)\n"
     ]
    },
    {
     "data": {
      "text/plain": "   listing_id     id        date  reviewer_id reviewer_name  \\\n0        2818   1191  2009-03-30        10952           Lam   \n1        2818   1771  2009-04-24        12798         Alice   \n2        2818   1989  2009-05-03        11869       Natalja   \n3        2818   2797  2009-05-18        14064       Enrique   \n4        2818   3151  2009-05-25        17977       Sherwin   \n5        2818   4748  2009-06-29        20192           Jie   \n6        2818   5202  2009-07-07        23055       Vanessa   \n7        2818   9131  2009-09-06        26343         Katja   \n8        2818  12103  2009-10-01        40999     Marie-Eve   \n9        2818  16196  2009-11-04        38623        Graham   \n\n                                                                                                                                                                                                                                                                                                      comments  \n0                                                   Daniel is really cool. The place was nice and clean. Very quiet neighborhood. He had maps and a lonely planet guide book in the room for you to use. I didnt have any trouble finding the place from Central Station. I would defintely come back! Thanks!  \n1  Daniel is the most amazing host! His place is extremely clean, and he provides everything you could possibly want (comfy bed, guidebooks & maps, mini-fridge, towels, even toiletries). He is extremely friendly and helpful, and will go out of his way to help you if needed, or just let you come and...  \n2  We had such a great time in Amsterdam. Daniel is an excellent host! Very friendly and everytime helpful. The room was cozy, comfortable, and VERY clean. Maps, towels, mini-fridge, coffee (very tasty) and tea supplies were provided. Bathroom with all the bathroom requires. Good location - next to...  \n3                                                                                                  Very professional operation. Room is very clean and comfortable. Location is close to tram or bus which take you to most of attractions. A great and helpful host who want to ensure you enjoy your stay.    \n4                        Daniel is highly recommended.  He provided all necessities (and actually went way beyond what's expected of a great host). His place is very clean.  It is also convenient to buses and trams which will take you around the city in minutes.  You will truly feel like a local here.  \n5  Daniel was a great host! He made everything so easy for us! The room was super clean and well equipped, the beds were very comfortable! Daniel also gave us good advices,  tips and tools (maps, compass, umbrella..) for getting around the city. The place is located in the quiet neighbourhood so we...  \n6  Daniele is an amazing host! He provided everything that was needed to make our stay comfortable and easy! The rooms were clean and cozy; and he took the time to show us how to get around Amsterdam via public transportation or riding around on bicycles. You truly do feel like a local when staying...  \n7  You can´t have a nicer start in Amsterdam. Daniel is such a great and welcoming host. The room was really light and charming, so well decorated. Daniel has a great sense of hospitality, he even helped with our luggage and gave us maps and a travelguide. He´s very open minded and helpful. We had ...  \n8                                                                                                Daniel was a fantastic host. His place is calm and clean, and he provided so much information on how to enjoy the amazing city of Amsterdam. Should I return to the city, his place will be my first choice!   \n9                 Daniel was great. He couldn.t do enough for us. He has gone to a lot of trouble and added every little touch to his apartment. He can speak 5 languages so that should not be a problem for anyone.\\r\\nThe accomation had everything we needed and was very convienient to the bus and tram.  ",
      "text/html": "<div>\n<style scoped>\n    .dataframe tbody tr th:only-of-type {\n        vertical-align: middle;\n    }\n\n    .dataframe tbody tr th {\n        vertical-align: top;\n    }\n\n    .dataframe thead th {\n        text-align: right;\n    }\n</style>\n<table border=\"1\" class=\"dataframe\">\n  <thead>\n    <tr style=\"text-align: right;\">\n      <th></th>\n      <th>listing_id</th>\n      <th>id</th>\n      <th>date</th>\n      <th>reviewer_id</th>\n      <th>reviewer_name</th>\n      <th>comments</th>\n    </tr>\n  </thead>\n  <tbody>\n    <tr>\n      <th>0</th>\n      <td>2818</td>\n      <td>1191</td>\n      <td>2009-03-30</td>\n      <td>10952</td>\n      <td>Lam</td>\n      <td>Daniel is really cool. The place was nice and clean. Very quiet neighborhood. He had maps and a lonely planet guide book in the room for you to use. I didnt have any trouble finding the place from Central Station. I would defintely come back! Thanks!</td>\n    </tr>\n    <tr>\n      <th>1</th>\n      <td>2818</td>\n      <td>1771</td>\n      <td>2009-04-24</td>\n      <td>12798</td>\n      <td>Alice</td>\n      <td>Daniel is the most amazing host! His place is extremely clean, and he provides everything you could possibly want (comfy bed, guidebooks &amp; maps, mini-fridge, towels, even toiletries). He is extremely friendly and helpful, and will go out of his way to help you if needed, or just let you come and...</td>\n    </tr>\n    <tr>\n      <th>2</th>\n      <td>2818</td>\n      <td>1989</td>\n      <td>2009-05-03</td>\n      <td>11869</td>\n      <td>Natalja</td>\n      <td>We had such a great time in Amsterdam. Daniel is an excellent host! Very friendly and everytime helpful. The room was cozy, comfortable, and VERY clean. Maps, towels, mini-fridge, coffee (very tasty) and tea supplies were provided. Bathroom with all the bathroom requires. Good location - next to...</td>\n    </tr>\n    <tr>\n      <th>3</th>\n      <td>2818</td>\n      <td>2797</td>\n      <td>2009-05-18</td>\n      <td>14064</td>\n      <td>Enrique</td>\n      <td>Very professional operation. Room is very clean and comfortable. Location is close to tram or bus which take you to most of attractions. A great and helpful host who want to ensure you enjoy your stay.</td>\n    </tr>\n    <tr>\n      <th>4</th>\n      <td>2818</td>\n      <td>3151</td>\n      <td>2009-05-25</td>\n      <td>17977</td>\n      <td>Sherwin</td>\n      <td>Daniel is highly recommended.  He provided all necessities (and actually went way beyond what's expected of a great host). His place is very clean.  It is also convenient to buses and trams which will take you around the city in minutes.  You will truly feel like a local here.</td>\n    </tr>\n    <tr>\n      <th>5</th>\n      <td>2818</td>\n      <td>4748</td>\n      <td>2009-06-29</td>\n      <td>20192</td>\n      <td>Jie</td>\n      <td>Daniel was a great host! He made everything so easy for us! The room was super clean and well equipped, the beds were very comfortable! Daniel also gave us good advices,  tips and tools (maps, compass, umbrella..) for getting around the city. The place is located in the quiet neighbourhood so we...</td>\n    </tr>\n    <tr>\n      <th>6</th>\n      <td>2818</td>\n      <td>5202</td>\n      <td>2009-07-07</td>\n      <td>23055</td>\n      <td>Vanessa</td>\n      <td>Daniele is an amazing host! He provided everything that was needed to make our stay comfortable and easy! The rooms were clean and cozy; and he took the time to show us how to get around Amsterdam via public transportation or riding around on bicycles. You truly do feel like a local when staying...</td>\n    </tr>\n    <tr>\n      <th>7</th>\n      <td>2818</td>\n      <td>9131</td>\n      <td>2009-09-06</td>\n      <td>26343</td>\n      <td>Katja</td>\n      <td>You can´t have a nicer start in Amsterdam. Daniel is such a great and welcoming host. The room was really light and charming, so well decorated. Daniel has a great sense of hospitality, he even helped with our luggage and gave us maps and a travelguide. He´s very open minded and helpful. We had ...</td>\n    </tr>\n    <tr>\n      <th>8</th>\n      <td>2818</td>\n      <td>12103</td>\n      <td>2009-10-01</td>\n      <td>40999</td>\n      <td>Marie-Eve</td>\n      <td>Daniel was a fantastic host. His place is calm and clean, and he provided so much information on how to enjoy the amazing city of Amsterdam. Should I return to the city, his place will be my first choice!</td>\n    </tr>\n    <tr>\n      <th>9</th>\n      <td>2818</td>\n      <td>16196</td>\n      <td>2009-11-04</td>\n      <td>38623</td>\n      <td>Graham</td>\n      <td>Daniel was great. He couldn.t do enough for us. He has gone to a lot of trouble and added every little touch to his apartment. He can speak 5 languages so that should not be a problem for anyone.\\r\\nThe accomation had everything we needed and was very convienient to the bus and tram.</td>\n    </tr>\n  </tbody>\n</table>\n</div>"
     },
     "execution_count": 53,
     "metadata": {},
     "output_type": "execute_result"
    }
   ]
  },
  {
   "cell_type": "markdown",
   "metadata": {
    "id": "z3JbWFU-mHkO"
   },
   "source": [
    "* Not really sure if this data will really help. I will circle back to this one if I have time but for now I will not be working with this data because I believe I will have enough data in the detailed listings to get a good prediction.\r\n",
    "\r\n",
    "* My thinking on trying this data was that it might include some keywords that would help to better predict the optimal price but after going through all the data in the detailed listings, I believe this data is not really necessary unless I have extra time to work with it."
   ]
  }
 ]
}