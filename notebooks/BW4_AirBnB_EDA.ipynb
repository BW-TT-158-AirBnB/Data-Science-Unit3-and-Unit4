{
  "nbformat": 4,
  "nbformat_minor": 0,
  "metadata": {
    "colab": {
      "name": "BW4-AirBnB-EDA.ipynb",
      "provenance": []
    },
    "kernelspec": {
      "name": "python3",
      "display_name": "Python 3"
    }
  },
  "cells": [
    {
      "cell_type": "markdown",
      "metadata": {
        "id": "WZVsx8h2KUGv"
      },
      "source": [
        "# AirBnB Build Week Project\r\n",
        "\r\n",
        "#### Source for data:\r\n",
        "[Inside AirBnB](http://insideairbnb.com/get-the-data.html)"
      ]
    },
    {
      "cell_type": "markdown",
      "metadata": {
        "id": "7yC4VHtx9gl_"
      },
      "source": [
        "## Imports"
      ]
    },
    {
      "cell_type": "code",
      "metadata": {
        "id": "Ct8uuzO_Qs7M"
      },
      "source": [
        "import pandas as pd\r\n",
        "import numpy as np\r\n",
        "\r\n",
        "pd.set_option('display.max_rows', 100)\r\n",
        "pd.set_option('display.max_colwidth', 300)\r\n"
      ],
      "execution_count": 36,
      "outputs": []
    },
    {
      "cell_type": "markdown",
      "metadata": {
        "id": "AS8QTQ4RdwS0"
      },
      "source": [
        "## Amsterdam Calander Dataset\r\n",
        "\r\n",
        "[Download the dataset here](https://github.com/BW-TT-158-AirBnB/Data-Science-Unit3-and-Unit4/blob/main/data/Amsterdam_calendar.csv)\r\n",
        "\r\n",
        "- Determine if this data will be helpful or can be found in another dataset with more information."
      ]
    },
    {
      "cell_type": "code",
      "metadata": {
        "colab": {
          "base_uri": "https://localhost:8080/",
          "height": 376
        },
        "id": "LeLwjqUs9cm0",
        "outputId": "ca3bc478-9afc-4021-f0f4-47b10ba8a2f9"
      },
      "source": [
        "# amsterdam_cal = pd.read_csv('Amsterdam_calendar.csv', compression='gzip')\r\n",
        "# \r\n",
        "print(amsterdam_cal.shape# )\r\n",
        "amsterdam_cal.head(10)"
      ],
      "execution_count": 37,
      "outputs": [
        {
          "output_type": "stream",
          "text": [
            "(6676319, 7)\n"
          ],
          "name": "stdout"
        },
        {
          "output_type": "execute_result",
          "data": {
            "text/html": [
              "<div>\n",
              "<style scoped>\n",
              "    .dataframe tbody tr th:only-of-type {\n",
              "        vertical-align: middle;\n",
              "    }\n",
              "\n",
              "    .dataframe tbody tr th {\n",
              "        vertical-align: top;\n",
              "    }\n",
              "\n",
              "    .dataframe thead th {\n",
              "        text-align: right;\n",
              "    }\n",
              "</style>\n",
              "<table border=\"1\" class=\"dataframe\">\n",
              "  <thead>\n",
              "    <tr style=\"text-align: right;\">\n",
              "      <th></th>\n",
              "      <th>listing_id</th>\n",
              "      <th>date</th>\n",
              "      <th>available</th>\n",
              "      <th>price</th>\n",
              "      <th>adjusted_price</th>\n",
              "      <th>minimum_nights</th>\n",
              "      <th>maximum_nights</th>\n",
              "    </tr>\n",
              "  </thead>\n",
              "  <tbody>\n",
              "    <tr>\n",
              "      <th>0</th>\n",
              "      <td>2818</td>\n",
              "      <td>2021-02-11</td>\n",
              "      <td>f</td>\n",
              "      <td>$59.00</td>\n",
              "      <td>$59.00</td>\n",
              "      <td>3.0</td>\n",
              "      <td>1125.0</td>\n",
              "    </tr>\n",
              "    <tr>\n",
              "      <th>1</th>\n",
              "      <td>415619</td>\n",
              "      <td>2021-02-10</td>\n",
              "      <td>t</td>\n",
              "      <td>$145.00</td>\n",
              "      <td>$145.00</td>\n",
              "      <td>2.0</td>\n",
              "      <td>30.0</td>\n",
              "    </tr>\n",
              "    <tr>\n",
              "      <th>2</th>\n",
              "      <td>415619</td>\n",
              "      <td>2021-02-11</td>\n",
              "      <td>t</td>\n",
              "      <td>$145.00</td>\n",
              "      <td>$145.00</td>\n",
              "      <td>2.0</td>\n",
              "      <td>30.0</td>\n",
              "    </tr>\n",
              "    <tr>\n",
              "      <th>3</th>\n",
              "      <td>415619</td>\n",
              "      <td>2021-02-12</td>\n",
              "      <td>t</td>\n",
              "      <td>$145.00</td>\n",
              "      <td>$145.00</td>\n",
              "      <td>2.0</td>\n",
              "      <td>30.0</td>\n",
              "    </tr>\n",
              "    <tr>\n",
              "      <th>4</th>\n",
              "      <td>415619</td>\n",
              "      <td>2021-02-13</td>\n",
              "      <td>t</td>\n",
              "      <td>$145.00</td>\n",
              "      <td>$145.00</td>\n",
              "      <td>2.0</td>\n",
              "      <td>30.0</td>\n",
              "    </tr>\n",
              "    <tr>\n",
              "      <th>5</th>\n",
              "      <td>415619</td>\n",
              "      <td>2021-02-14</td>\n",
              "      <td>t</td>\n",
              "      <td>$145.00</td>\n",
              "      <td>$145.00</td>\n",
              "      <td>2.0</td>\n",
              "      <td>30.0</td>\n",
              "    </tr>\n",
              "    <tr>\n",
              "      <th>6</th>\n",
              "      <td>415619</td>\n",
              "      <td>2021-02-15</td>\n",
              "      <td>t</td>\n",
              "      <td>$145.00</td>\n",
              "      <td>$145.00</td>\n",
              "      <td>2.0</td>\n",
              "      <td>30.0</td>\n",
              "    </tr>\n",
              "    <tr>\n",
              "      <th>7</th>\n",
              "      <td>415619</td>\n",
              "      <td>2021-02-16</td>\n",
              "      <td>t</td>\n",
              "      <td>$145.00</td>\n",
              "      <td>$145.00</td>\n",
              "      <td>2.0</td>\n",
              "      <td>30.0</td>\n",
              "    </tr>\n",
              "    <tr>\n",
              "      <th>8</th>\n",
              "      <td>415619</td>\n",
              "      <td>2021-02-17</td>\n",
              "      <td>t</td>\n",
              "      <td>$145.00</td>\n",
              "      <td>$145.00</td>\n",
              "      <td>2.0</td>\n",
              "      <td>30.0</td>\n",
              "    </tr>\n",
              "    <tr>\n",
              "      <th>9</th>\n",
              "      <td>415619</td>\n",
              "      <td>2021-02-18</td>\n",
              "      <td>t</td>\n",
              "      <td>$145.00</td>\n",
              "      <td>$145.00</td>\n",
              "      <td>2.0</td>\n",
              "      <td>30.0</td>\n",
              "    </tr>\n",
              "  </tbody>\n",
              "</table>\n",
              "</div>"
            ],
            "text/plain": [
              "   listing_id        date  ... minimum_nights maximum_nights\n",
              "0        2818  2021-02-11  ...            3.0         1125.0\n",
              "1      415619  2021-02-10  ...            2.0           30.0\n",
              "2      415619  2021-02-11  ...            2.0           30.0\n",
              "3      415619  2021-02-12  ...            2.0           30.0\n",
              "4      415619  2021-02-13  ...            2.0           30.0\n",
              "5      415619  2021-02-14  ...            2.0           30.0\n",
              "6      415619  2021-02-15  ...            2.0           30.0\n",
              "7      415619  2021-02-16  ...            2.0           30.0\n",
              "8      415619  2021-02-17  ...            2.0           30.0\n",
              "9      415619  2021-02-18  ...            2.0           30.0\n",
              "\n",
              "[10 rows x 7 columns]"
            ]
          },
          "metadata": {
            "tags": []
          },
          "execution_count": 37
        }
      ]
    },
    {
      "cell_type": "markdown",
      "metadata": {
        "id": "4vF8AgPo7PCp"
      },
      "source": [
        "* Do not think this dataset will hold any real value for this project. Have data like this in another dataset. Probably not going to use this one but will keep it on hand for now."
      ]
    },
    {
      "cell_type": "markdown",
      "metadata": {
        "id": "FBUtR7taexr5"
      },
      "source": [
        "## Amsterdam Listings\r\n",
        "\r\n",
        "[Download the dataset here](https://github.com/BW-TT-158-AirBnB/Data-Science-Unit3-and-Unit4/blob/main/data/Amsterdam_listings.csv)\r\n",
        "\r\n",
        "- Want to compare this dataset to the detailed one to see if this would be enough data or not."
      ]
    },
    {
      "cell_type": "code",
      "metadata": {
        "id": "IG7DiVZE-Ucj",
        "colab": {
          "base_uri": "https://localhost:8080/",
          "height": 530
        },
        "outputId": "841e6ff2-7ac0-4449-a2f6-c4f08755e927"
      },
      "source": [
        "# raw_amsterdam_listing = 'https://raw.githubusercontent.com/BW-TT-158-AirBnB/Data-Science-Unit3-and-Unit4/main/data/Amsterdam_listings.csv'\r\n",
        "# \r\n",
        "amsterdam_listing = pd.read_csv(raw_amsterdam_listing)# \r\n",
        "\r\n",
        "print(amsterdam_listing.sha# pe)\r\n",
        "amsterdam_listing.head()"
      ],
      "execution_count": 38,
      "outputs": [
        {
          "output_type": "stream",
          "text": [
            "(18291, 16)\n"
          ],
          "name": "stdout"
        },
        {
          "output_type": "execute_result",
          "data": {
            "text/html": [
              "<div>\n",
              "<style scoped>\n",
              "    .dataframe tbody tr th:only-of-type {\n",
              "        vertical-align: middle;\n",
              "    }\n",
              "\n",
              "    .dataframe tbody tr th {\n",
              "        vertical-align: top;\n",
              "    }\n",
              "\n",
              "    .dataframe thead th {\n",
              "        text-align: right;\n",
              "    }\n",
              "</style>\n",
              "<table border=\"1\" class=\"dataframe\">\n",
              "  <thead>\n",
              "    <tr style=\"text-align: right;\">\n",
              "      <th></th>\n",
              "      <th>id</th>\n",
              "      <th>name</th>\n",
              "      <th>host_id</th>\n",
              "      <th>host_name</th>\n",
              "      <th>neighbourhood_group</th>\n",
              "      <th>neighbourhood</th>\n",
              "      <th>latitude</th>\n",
              "      <th>longitude</th>\n",
              "      <th>room_type</th>\n",
              "      <th>price</th>\n",
              "      <th>minimum_nights</th>\n",
              "      <th>number_of_reviews</th>\n",
              "      <th>last_review</th>\n",
              "      <th>reviews_per_month</th>\n",
              "      <th>calculated_host_listings_count</th>\n",
              "      <th>availability_365</th>\n",
              "    </tr>\n",
              "  </thead>\n",
              "  <tbody>\n",
              "    <tr>\n",
              "      <th>0</th>\n",
              "      <td>2818</td>\n",
              "      <td>Quiet Garden View Room &amp; Super Fast WiFi</td>\n",
              "      <td>3159</td>\n",
              "      <td>Daniel</td>\n",
              "      <td>NaN</td>\n",
              "      <td>Oostelijk Havengebied - Indische Buurt</td>\n",
              "      <td>52.36575</td>\n",
              "      <td>4.94142</td>\n",
              "      <td>Private room</td>\n",
              "      <td>59</td>\n",
              "      <td>3</td>\n",
              "      <td>278</td>\n",
              "      <td>2020-02-14</td>\n",
              "      <td>1.92</td>\n",
              "      <td>1</td>\n",
              "      <td>139</td>\n",
              "    </tr>\n",
              "    <tr>\n",
              "      <th>1</th>\n",
              "      <td>20168</td>\n",
              "      <td>Studio with private bathroom in the centre 1</td>\n",
              "      <td>59484</td>\n",
              "      <td>Alexander</td>\n",
              "      <td>NaN</td>\n",
              "      <td>Centrum-Oost</td>\n",
              "      <td>52.36509</td>\n",
              "      <td>4.89354</td>\n",
              "      <td>Private room</td>\n",
              "      <td>129</td>\n",
              "      <td>1</td>\n",
              "      <td>339</td>\n",
              "      <td>2020-04-09</td>\n",
              "      <td>2.54</td>\n",
              "      <td>2</td>\n",
              "      <td>0</td>\n",
              "    </tr>\n",
              "    <tr>\n",
              "      <th>2</th>\n",
              "      <td>25428</td>\n",
              "      <td>Lovely, spacious 1 bed apt in Center(with lift)</td>\n",
              "      <td>56142</td>\n",
              "      <td>Joan</td>\n",
              "      <td>NaN</td>\n",
              "      <td>Centrum-West</td>\n",
              "      <td>52.37297</td>\n",
              "      <td>4.88339</td>\n",
              "      <td>Entire home/apt</td>\n",
              "      <td>125</td>\n",
              "      <td>14</td>\n",
              "      <td>5</td>\n",
              "      <td>2020-02-09</td>\n",
              "      <td>0.13</td>\n",
              "      <td>1</td>\n",
              "      <td>251</td>\n",
              "    </tr>\n",
              "    <tr>\n",
              "      <th>3</th>\n",
              "      <td>27886</td>\n",
              "      <td>Romantic, stylish B&amp;B houseboat in canal district</td>\n",
              "      <td>97647</td>\n",
              "      <td>Flip</td>\n",
              "      <td>NaN</td>\n",
              "      <td>Centrum-West</td>\n",
              "      <td>52.38761</td>\n",
              "      <td>4.89188</td>\n",
              "      <td>Private room</td>\n",
              "      <td>125</td>\n",
              "      <td>2</td>\n",
              "      <td>219</td>\n",
              "      <td>2020-07-25</td>\n",
              "      <td>1.98</td>\n",
              "      <td>1</td>\n",
              "      <td>136</td>\n",
              "    </tr>\n",
              "    <tr>\n",
              "      <th>4</th>\n",
              "      <td>28871</td>\n",
              "      <td>Comfortable double room</td>\n",
              "      <td>124245</td>\n",
              "      <td>Edwin</td>\n",
              "      <td>NaN</td>\n",
              "      <td>Centrum-Oost</td>\n",
              "      <td>52.36610</td>\n",
              "      <td>4.88953</td>\n",
              "      <td>Private room</td>\n",
              "      <td>75</td>\n",
              "      <td>2</td>\n",
              "      <td>336</td>\n",
              "      <td>2020-09-20</td>\n",
              "      <td>2.63</td>\n",
              "      <td>2</td>\n",
              "      <td>338</td>\n",
              "    </tr>\n",
              "  </tbody>\n",
              "</table>\n",
              "</div>"
            ],
            "text/plain": [
              "      id  ... availability_365\n",
              "0   2818  ...              139\n",
              "1  20168  ...                0\n",
              "2  25428  ...              251\n",
              "3  27886  ...              136\n",
              "4  28871  ...              338\n",
              "\n",
              "[5 rows x 16 columns]"
            ]
          },
          "metadata": {
            "tags": []
          },
          "execution_count": 38
        }
      ]
    },
    {
      "cell_type": "code",
      "metadata": {
        "colab": {
          "base_uri": "https://localhost:8080/"
        },
        "id": "Ecdz2nSOew-U",
        "outputId": "b3bbb1f3-3320-49b5-c0a4-d3560c7e9ddc"
      },
      "source": [
        "# # Look at a list of all the features in this dataset\r# \n",
        "amsterdam_listing.columns"
      ],
      "execution_count": 39,
      "outputs": [
        {
          "output_type": "execute_result",
          "data": {
            "text/plain": [
              "Index(['id', 'name', 'host_id', 'host_name', 'neighbourhood_group',\n",
              "       'neighbourhood', 'latitude', 'longitude', 'room_type', 'price',\n",
              "       'minimum_nights', 'number_of_reviews', 'last_review',\n",
              "       'reviews_per_month', 'calculated_host_listings_count',\n",
              "       'availability_365'],\n",
              "      dtype='object')"
            ]
          },
          "metadata": {
            "tags": []
          },
          "execution_count": 39
        }
      ]
    },
    {
      "cell_type": "code",
      "metadata": {
        "colab": {
          "base_uri": "https://localhost:8080/"
        },
        "id": "pkjy-ZDAew8W",
        "outputId": "7f5c34be-104b-41c6-ea28-fc7aa9e6edc8"
      },
      "source": [
        "# # What values are in the neighbourhood_group?\r# \n",
        "amsterdam_listing['neighbourhood_group'].value_counts()"
      ],
      "execution_count": 40,
      "outputs": [
        {
          "output_type": "execute_result",
          "data": {
            "text/plain": [
              "Series([], Name: neighbourhood_group, dtype: int64)"
            ]
          },
          "metadata": {
            "tags": []
          },
          "execution_count": 40
        }
      ]
    },
    {
      "cell_type": "code",
      "metadata": {
        "colab": {
          "base_uri": "https://localhost:8080/",
          "height": 513
        },
        "id": "T1wcyV-Qew6H",
        "outputId": "72051715-60a1-4b87-e50d-4d881d724dbe"
      },
      "source": [
        "# # Remove the neighbourhood_group feature --> nothing but NaNs\r# \n",
        "amsterdam_listing = amsterdam_listing.drop('neighbourhood_group', axis=1)\r# \n",
        "\r\n",
        "# Check my wo# rk\r\n",
        "amsterdam_listing.head()"
      ],
      "execution_count": 41,
      "outputs": [
        {
          "output_type": "execute_result",
          "data": {
            "text/html": [
              "<div>\n",
              "<style scoped>\n",
              "    .dataframe tbody tr th:only-of-type {\n",
              "        vertical-align: middle;\n",
              "    }\n",
              "\n",
              "    .dataframe tbody tr th {\n",
              "        vertical-align: top;\n",
              "    }\n",
              "\n",
              "    .dataframe thead th {\n",
              "        text-align: right;\n",
              "    }\n",
              "</style>\n",
              "<table border=\"1\" class=\"dataframe\">\n",
              "  <thead>\n",
              "    <tr style=\"text-align: right;\">\n",
              "      <th></th>\n",
              "      <th>id</th>\n",
              "      <th>name</th>\n",
              "      <th>host_id</th>\n",
              "      <th>host_name</th>\n",
              "      <th>neighbourhood</th>\n",
              "      <th>latitude</th>\n",
              "      <th>longitude</th>\n",
              "      <th>room_type</th>\n",
              "      <th>price</th>\n",
              "      <th>minimum_nights</th>\n",
              "      <th>number_of_reviews</th>\n",
              "      <th>last_review</th>\n",
              "      <th>reviews_per_month</th>\n",
              "      <th>calculated_host_listings_count</th>\n",
              "      <th>availability_365</th>\n",
              "    </tr>\n",
              "  </thead>\n",
              "  <tbody>\n",
              "    <tr>\n",
              "      <th>0</th>\n",
              "      <td>2818</td>\n",
              "      <td>Quiet Garden View Room &amp; Super Fast WiFi</td>\n",
              "      <td>3159</td>\n",
              "      <td>Daniel</td>\n",
              "      <td>Oostelijk Havengebied - Indische Buurt</td>\n",
              "      <td>52.36575</td>\n",
              "      <td>4.94142</td>\n",
              "      <td>Private room</td>\n",
              "      <td>59</td>\n",
              "      <td>3</td>\n",
              "      <td>278</td>\n",
              "      <td>2020-02-14</td>\n",
              "      <td>1.92</td>\n",
              "      <td>1</td>\n",
              "      <td>139</td>\n",
              "    </tr>\n",
              "    <tr>\n",
              "      <th>1</th>\n",
              "      <td>20168</td>\n",
              "      <td>Studio with private bathroom in the centre 1</td>\n",
              "      <td>59484</td>\n",
              "      <td>Alexander</td>\n",
              "      <td>Centrum-Oost</td>\n",
              "      <td>52.36509</td>\n",
              "      <td>4.89354</td>\n",
              "      <td>Private room</td>\n",
              "      <td>129</td>\n",
              "      <td>1</td>\n",
              "      <td>339</td>\n",
              "      <td>2020-04-09</td>\n",
              "      <td>2.54</td>\n",
              "      <td>2</td>\n",
              "      <td>0</td>\n",
              "    </tr>\n",
              "    <tr>\n",
              "      <th>2</th>\n",
              "      <td>25428</td>\n",
              "      <td>Lovely, spacious 1 bed apt in Center(with lift)</td>\n",
              "      <td>56142</td>\n",
              "      <td>Joan</td>\n",
              "      <td>Centrum-West</td>\n",
              "      <td>52.37297</td>\n",
              "      <td>4.88339</td>\n",
              "      <td>Entire home/apt</td>\n",
              "      <td>125</td>\n",
              "      <td>14</td>\n",
              "      <td>5</td>\n",
              "      <td>2020-02-09</td>\n",
              "      <td>0.13</td>\n",
              "      <td>1</td>\n",
              "      <td>251</td>\n",
              "    </tr>\n",
              "    <tr>\n",
              "      <th>3</th>\n",
              "      <td>27886</td>\n",
              "      <td>Romantic, stylish B&amp;B houseboat in canal district</td>\n",
              "      <td>97647</td>\n",
              "      <td>Flip</td>\n",
              "      <td>Centrum-West</td>\n",
              "      <td>52.38761</td>\n",
              "      <td>4.89188</td>\n",
              "      <td>Private room</td>\n",
              "      <td>125</td>\n",
              "      <td>2</td>\n",
              "      <td>219</td>\n",
              "      <td>2020-07-25</td>\n",
              "      <td>1.98</td>\n",
              "      <td>1</td>\n",
              "      <td>136</td>\n",
              "    </tr>\n",
              "    <tr>\n",
              "      <th>4</th>\n",
              "      <td>28871</td>\n",
              "      <td>Comfortable double room</td>\n",
              "      <td>124245</td>\n",
              "      <td>Edwin</td>\n",
              "      <td>Centrum-Oost</td>\n",
              "      <td>52.36610</td>\n",
              "      <td>4.88953</td>\n",
              "      <td>Private room</td>\n",
              "      <td>75</td>\n",
              "      <td>2</td>\n",
              "      <td>336</td>\n",
              "      <td>2020-09-20</td>\n",
              "      <td>2.63</td>\n",
              "      <td>2</td>\n",
              "      <td>338</td>\n",
              "    </tr>\n",
              "  </tbody>\n",
              "</table>\n",
              "</div>"
            ],
            "text/plain": [
              "      id  ... availability_365\n",
              "0   2818  ...              139\n",
              "1  20168  ...                0\n",
              "2  25428  ...              251\n",
              "3  27886  ...              136\n",
              "4  28871  ...              338\n",
              "\n",
              "[5 rows x 15 columns]"
            ]
          },
          "metadata": {
            "tags": []
          },
          "execution_count": 41
        }
      ]
    },
    {
      "cell_type": "code",
      "metadata": {
        "colab": {
          "base_uri": "https://localhost:8080/"
        },
        "id": "PeLr9_-1iIhj",
        "outputId": "892c85f5-df14-405d-f069-69f67a0c8b5e"
      },
      "source": [
        "# # Look for NaN values\r# \n",
        "amsterdam_listing.isnull().sum()"
      ],
      "execution_count": 42,
      "outputs": [
        {
          "output_type": "execute_result",
          "data": {
            "text/plain": [
              "id                                   0\n",
              "name                                33\n",
              "host_id                              0\n",
              "host_name                           63\n",
              "neighbourhood                        0\n",
              "latitude                             0\n",
              "longitude                            0\n",
              "room_type                            0\n",
              "price                                0\n",
              "minimum_nights                       0\n",
              "number_of_reviews                    0\n",
              "last_review                       2389\n",
              "reviews_per_month                 2389\n",
              "calculated_host_listings_count       0\n",
              "availability_365                     0\n",
              "dtype: int64"
            ]
          },
          "metadata": {
            "tags": []
          },
          "execution_count": 42
        }
      ]
    },
    {
      "cell_type": "code",
      "metadata": {
        "colab": {
          "base_uri": "https://localhost:8080/",
          "height": 297
        },
        "id": "jvWrjJ9bew3m",
        "outputId": "56262db6-bee1-4a28-e56b-c7072c751230"
      },
      "source": [
        "# # Look at a summary of the numerical data\r# \n",
        "amsterdam_listing.describe(include=[np.number])"
      ],
      "execution_count": 43,
      "outputs": [
        {
          "output_type": "execute_result",
          "data": {
            "text/html": [
              "<div>\n",
              "<style scoped>\n",
              "    .dataframe tbody tr th:only-of-type {\n",
              "        vertical-align: middle;\n",
              "    }\n",
              "\n",
              "    .dataframe tbody tr th {\n",
              "        vertical-align: top;\n",
              "    }\n",
              "\n",
              "    .dataframe thead th {\n",
              "        text-align: right;\n",
              "    }\n",
              "</style>\n",
              "<table border=\"1\" class=\"dataframe\">\n",
              "  <thead>\n",
              "    <tr style=\"text-align: right;\">\n",
              "      <th></th>\n",
              "      <th>id</th>\n",
              "      <th>host_id</th>\n",
              "      <th>latitude</th>\n",
              "      <th>longitude</th>\n",
              "      <th>price</th>\n",
              "      <th>minimum_nights</th>\n",
              "      <th>number_of_reviews</th>\n",
              "      <th>reviews_per_month</th>\n",
              "      <th>calculated_host_listings_count</th>\n",
              "      <th>availability_365</th>\n",
              "    </tr>\n",
              "  </thead>\n",
              "  <tbody>\n",
              "    <tr>\n",
              "      <th>count</th>\n",
              "      <td>1.829100e+04</td>\n",
              "      <td>1.829100e+04</td>\n",
              "      <td>18291.000000</td>\n",
              "      <td>18291.000000</td>\n",
              "      <td>18291.000000</td>\n",
              "      <td>18291.000000</td>\n",
              "      <td>18291.000000</td>\n",
              "      <td>15902.000000</td>\n",
              "      <td>18291.000000</td>\n",
              "      <td>18291.000000</td>\n",
              "    </tr>\n",
              "    <tr>\n",
              "      <th>mean</th>\n",
              "      <td>2.064229e+07</td>\n",
              "      <td>6.705998e+07</td>\n",
              "      <td>52.365478</td>\n",
              "      <td>4.889504</td>\n",
              "      <td>153.055984</td>\n",
              "      <td>3.727407</td>\n",
              "      <td>24.125198</td>\n",
              "      <td>0.591448</td>\n",
              "      <td>2.647477</td>\n",
              "      <td>61.923132</td>\n",
              "    </tr>\n",
              "    <tr>\n",
              "      <th>std</th>\n",
              "      <td>1.285836e+07</td>\n",
              "      <td>8.666877e+07</td>\n",
              "      <td>0.016559</td>\n",
              "      <td>0.035833</td>\n",
              "      <td>163.034869</td>\n",
              "      <td>16.331468</td>\n",
              "      <td>54.560889</td>\n",
              "      <td>1.065085</td>\n",
              "      <td>8.724302</td>\n",
              "      <td>115.602325</td>\n",
              "    </tr>\n",
              "    <tr>\n",
              "      <th>min</th>\n",
              "      <td>2.818000e+03</td>\n",
              "      <td>3.159000e+03</td>\n",
              "      <td>52.289270</td>\n",
              "      <td>4.755940</td>\n",
              "      <td>0.000000</td>\n",
              "      <td>1.000000</td>\n",
              "      <td>0.000000</td>\n",
              "      <td>0.010000</td>\n",
              "      <td>1.000000</td>\n",
              "      <td>0.000000</td>\n",
              "    </tr>\n",
              "    <tr>\n",
              "      <th>25%</th>\n",
              "      <td>1.010732e+07</td>\n",
              "      <td>9.282300e+06</td>\n",
              "      <td>52.355100</td>\n",
              "      <td>4.863920</td>\n",
              "      <td>95.000000</td>\n",
              "      <td>2.000000</td>\n",
              "      <td>2.000000</td>\n",
              "      <td>0.130000</td>\n",
              "      <td>1.000000</td>\n",
              "      <td>0.000000</td>\n",
              "    </tr>\n",
              "    <tr>\n",
              "      <th>50%</th>\n",
              "      <td>1.911168e+07</td>\n",
              "      <td>2.810956e+07</td>\n",
              "      <td>52.364790</td>\n",
              "      <td>4.887010</td>\n",
              "      <td>128.000000</td>\n",
              "      <td>2.000000</td>\n",
              "      <td>8.000000</td>\n",
              "      <td>0.280000</td>\n",
              "      <td>1.000000</td>\n",
              "      <td>0.000000</td>\n",
              "    </tr>\n",
              "    <tr>\n",
              "      <th>75%</th>\n",
              "      <td>3.039472e+07</td>\n",
              "      <td>8.650474e+07</td>\n",
              "      <td>52.375370</td>\n",
              "      <td>4.909230</td>\n",
              "      <td>180.000000</td>\n",
              "      <td>3.000000</td>\n",
              "      <td>22.000000</td>\n",
              "      <td>0.580000</td>\n",
              "      <td>1.000000</td>\n",
              "      <td>78.000000</td>\n",
              "    </tr>\n",
              "    <tr>\n",
              "      <th>max</th>\n",
              "      <td>4.807786e+07</td>\n",
              "      <td>3.871652e+08</td>\n",
              "      <td>52.425120</td>\n",
              "      <td>5.027690</td>\n",
              "      <td>8000.000000</td>\n",
              "      <td>1001.000000</td>\n",
              "      <td>859.000000</td>\n",
              "      <td>35.530000</td>\n",
              "      <td>85.000000</td>\n",
              "      <td>365.000000</td>\n",
              "    </tr>\n",
              "  </tbody>\n",
              "</table>\n",
              "</div>"
            ],
            "text/plain": [
              "                 id  ...  availability_365\n",
              "count  1.829100e+04  ...      18291.000000\n",
              "mean   2.064229e+07  ...         61.923132\n",
              "std    1.285836e+07  ...        115.602325\n",
              "min    2.818000e+03  ...          0.000000\n",
              "25%    1.010732e+07  ...          0.000000\n",
              "50%    1.911168e+07  ...          0.000000\n",
              "75%    3.039472e+07  ...         78.000000\n",
              "max    4.807786e+07  ...        365.000000\n",
              "\n",
              "[8 rows x 10 columns]"
            ]
          },
          "metadata": {
            "tags": []
          },
          "execution_count": 43
        }
      ]
    },
    {
      "cell_type": "code",
      "metadata": {
        "colab": {
          "base_uri": "https://localhost:8080/",
          "height": 173
        },
        "id": "MQPSYIzVew1N",
        "outputId": "4d36457e-4f92-4e60-b5ce-d863538d500b"
      },
      "source": [
        "# # Look at a summary of the non-numerical values\r# \n",
        "amsterdam_listing.describe(exclude=[np.number])"
      ],
      "execution_count": 44,
      "outputs": [
        {
          "output_type": "execute_result",
          "data": {
            "text/html": [
              "<div>\n",
              "<style scoped>\n",
              "    .dataframe tbody tr th:only-of-type {\n",
              "        vertical-align: middle;\n",
              "    }\n",
              "\n",
              "    .dataframe tbody tr th {\n",
              "        vertical-align: top;\n",
              "    }\n",
              "\n",
              "    .dataframe thead th {\n",
              "        text-align: right;\n",
              "    }\n",
              "</style>\n",
              "<table border=\"1\" class=\"dataframe\">\n",
              "  <thead>\n",
              "    <tr style=\"text-align: right;\">\n",
              "      <th></th>\n",
              "      <th>name</th>\n",
              "      <th>host_name</th>\n",
              "      <th>neighbourhood</th>\n",
              "      <th>room_type</th>\n",
              "      <th>last_review</th>\n",
              "    </tr>\n",
              "  </thead>\n",
              "  <tbody>\n",
              "    <tr>\n",
              "      <th>count</th>\n",
              "      <td>18258</td>\n",
              "      <td>18228</td>\n",
              "      <td>18291</td>\n",
              "      <td>18291</td>\n",
              "      <td>15902</td>\n",
              "    </tr>\n",
              "    <tr>\n",
              "      <th>unique</th>\n",
              "      <td>17863</td>\n",
              "      <td>5541</td>\n",
              "      <td>22</td>\n",
              "      <td>4</td>\n",
              "      <td>1833</td>\n",
              "    </tr>\n",
              "    <tr>\n",
              "      <th>top</th>\n",
              "      <td>Amsterdam</td>\n",
              "      <td>Martijn</td>\n",
              "      <td>De Baarsjes - Oud-West</td>\n",
              "      <td>Entire home/apt</td>\n",
              "      <td>2020-01-02</td>\n",
              "    </tr>\n",
              "    <tr>\n",
              "      <th>freq</th>\n",
              "      <td>31</td>\n",
              "      <td>152</td>\n",
              "      <td>3044</td>\n",
              "      <td>14283</td>\n",
              "      <td>259</td>\n",
              "    </tr>\n",
              "  </tbody>\n",
              "</table>\n",
              "</div>"
            ],
            "text/plain": [
              "             name host_name  ...        room_type last_review\n",
              "count       18258     18228  ...            18291       15902\n",
              "unique      17863      5541  ...                4        1833\n",
              "top     Amsterdam   Martijn  ...  Entire home/apt  2020-01-02\n",
              "freq           31       152  ...            14283         259\n",
              "\n",
              "[4 rows x 5 columns]"
            ]
          },
          "metadata": {
            "tags": []
          },
          "execution_count": 44
        }
      ]
    },
    {
      "cell_type": "markdown",
      "metadata": {
        "id": "U2jfMvRQ8ZP_"
      },
      "source": [
        "* Believe the detailed dataset will be more useful for this project due to the lack of features I believe will be useful for predictions."
      ]
    },
    {
      "cell_type": "markdown",
      "metadata": {
        "id": "K-ilEYyJeBiW"
      },
      "source": [
        "## Amsterdam Detailed Listings\r\n",
        "\r\n",
        "[Download the dataset here](https://github.com/BW-TT-158-AirBnB/Data-Science-Unit3-and-Unit4/blob/main/data/Amsterdam_detailed_listings.csv)\r\n",
        "\r\n",
        "- Explore this dataset to find out if this detailed data is going to be more helpful then the compressed listings."
      ]
    },
    {
      "cell_type": "code",
      "metadata": {
        "id": "_YAqfkL4-Uhu",
        "colab": {
          "base_uri": "https://localhost:8080/",
          "height": 1000
        },
        "outputId": "7e9567f8-de2e-4138-931f-65c863a86947"
      },
      "source": [
        "import pandas as pd\n",
        "import numpy as np\n",
        "\n",
        "# amsterdam_detailed_listing = pd.read_csv('Amsterdam_detailed_listings.csv',  compression='gzip')\n",
        "amsterdam_detailed_listing = pd.read_csv('E:\\Amsterdam_detailed_listings.csv', compression='gzip')\n",
        "\r\n",
        "\r\n",
        "print(amsterdam_detailed_listing.shape)\r\n",
        "amsterdam_detailed_listing.head(5)"
      ],
      "execution_count": 8,
      "outputs": [
        {
          "output_type": "stream",
          "name": "stdout",
          "text": [
            "(18291, 74)\n"
          ]
        },
        {
          "output_type": "execute_result",
          "data": {
            "text/plain": [
              "      id                         listing_url       scrape_id last_scraped  \\\n",
              "0   2818   https://www.airbnb.com/rooms/2818  20210208155251   2021-02-11   \n",
              "1  20168  https://www.airbnb.com/rooms/20168  20210208155251   2021-02-11   \n",
              "2  25428  https://www.airbnb.com/rooms/25428  20210208155251   2021-02-10   \n",
              "3  27886  https://www.airbnb.com/rooms/27886  20210208155251   2021-02-11   \n",
              "4  28871  https://www.airbnb.com/rooms/28871  20210208155251   2021-02-10   \n",
              "\n",
              "                                                name  \\\n",
              "0           Quiet Garden View Room & Super Fast WiFi   \n",
              "1       Studio with private bathroom in the centre 1   \n",
              "2    Lovely, spacious 1 bed apt in Center(with lift)   \n",
              "3  Romantic, stylish B&B houseboat in canal district   \n",
              "4                            Comfortable double room   \n",
              "\n",
              "                                         description  \\\n",
              "0  Quiet Garden View Room & Super Fast WiFi<br />...   \n",
              "1  17th century Dutch townhouse in the heart of t...   \n",
              "2  Lovely apt in Centre ( lift & fireplace) near ...   \n",
              "3  Stylish and romantic houseboat on fantastic hi...   \n",
              "4  <b>The space</b><br />In a monumental house ri...   \n",
              "\n",
              "                               neighborhood_overview  \\\n",
              "0  Indische Buurt (\"Indies Neighborhood\") is a ne...   \n",
              "1  Located just in between famous central canals....   \n",
              "2                                                NaN   \n",
              "3         Central, quiet, safe, clean and beautiful.   \n",
              "4       Flower market , Leidseplein , Rembrantsplein   \n",
              "\n",
              "                                         picture_url  host_id  \\\n",
              "0  https://a0.muscache.com/pictures/10272854/8dcc...     3159   \n",
              "1  https://a0.muscache.com/pictures/69979628/fd6a...    59484   \n",
              "2  https://a0.muscache.com/pictures/138431/7079a9...    56142   \n",
              "3  https://a0.muscache.com/pictures/02c2da9d-660e...    97647   \n",
              "4  https://a0.muscache.com/pictures/160889/362340...   124245   \n",
              "\n",
              "                                   host_url  ... review_scores_communication  \\\n",
              "0    https://www.airbnb.com/users/show/3159  ...                        10.0   \n",
              "1   https://www.airbnb.com/users/show/59484  ...                        10.0   \n",
              "2   https://www.airbnb.com/users/show/56142  ...                        10.0   \n",
              "3   https://www.airbnb.com/users/show/97647  ...                        10.0   \n",
              "4  https://www.airbnb.com/users/show/124245  ...                        10.0   \n",
              "\n",
              "  review_scores_location review_scores_value license instant_bookable  \\\n",
              "0                    9.0                10.0     NaN                t   \n",
              "1                   10.0                 9.0     NaN                t   \n",
              "2                   10.0                10.0     NaN                f   \n",
              "3                   10.0                10.0     NaN                t   \n",
              "4                   10.0                10.0     NaN                f   \n",
              "\n",
              "  calculated_host_listings_count calculated_host_listings_count_entire_homes  \\\n",
              "0                              1                                           0   \n",
              "1                              2                                           0   \n",
              "2                              1                                           1   \n",
              "3                              1                                           0   \n",
              "4                              2                                           0   \n",
              "\n",
              "  calculated_host_listings_count_private_rooms  \\\n",
              "0                                            1   \n",
              "1                                            2   \n",
              "2                                            0   \n",
              "3                                            1   \n",
              "4                                            2   \n",
              "\n",
              "  calculated_host_listings_count_shared_rooms reviews_per_month  \n",
              "0                                           0              1.92  \n",
              "1                                           0              2.54  \n",
              "2                                           0              0.13  \n",
              "3                                           0              1.98  \n",
              "4                                           0              2.63  \n",
              "\n",
              "[5 rows x 74 columns]"
            ],
            "text/html": "<div>\n<style scoped>\n    .dataframe tbody tr th:only-of-type {\n        vertical-align: middle;\n    }\n\n    .dataframe tbody tr th {\n        vertical-align: top;\n    }\n\n    .dataframe thead th {\n        text-align: right;\n    }\n</style>\n<table border=\"1\" class=\"dataframe\">\n  <thead>\n    <tr style=\"text-align: right;\">\n      <th></th>\n      <th>id</th>\n      <th>listing_url</th>\n      <th>scrape_id</th>\n      <th>last_scraped</th>\n      <th>name</th>\n      <th>description</th>\n      <th>neighborhood_overview</th>\n      <th>picture_url</th>\n      <th>host_id</th>\n      <th>host_url</th>\n      <th>...</th>\n      <th>review_scores_communication</th>\n      <th>review_scores_location</th>\n      <th>review_scores_value</th>\n      <th>license</th>\n      <th>instant_bookable</th>\n      <th>calculated_host_listings_count</th>\n      <th>calculated_host_listings_count_entire_homes</th>\n      <th>calculated_host_listings_count_private_rooms</th>\n      <th>calculated_host_listings_count_shared_rooms</th>\n      <th>reviews_per_month</th>\n    </tr>\n  </thead>\n  <tbody>\n    <tr>\n      <th>0</th>\n      <td>2818</td>\n      <td>https://www.airbnb.com/rooms/2818</td>\n      <td>20210208155251</td>\n      <td>2021-02-11</td>\n      <td>Quiet Garden View Room &amp; Super Fast WiFi</td>\n      <td>Quiet Garden View Room &amp; Super Fast WiFi&lt;br /&gt;...</td>\n      <td>Indische Buurt (\"Indies Neighborhood\") is a ne...</td>\n      <td>https://a0.muscache.com/pictures/10272854/8dcc...</td>\n      <td>3159</td>\n      <td>https://www.airbnb.com/users/show/3159</td>\n      <td>...</td>\n      <td>10.0</td>\n      <td>9.0</td>\n      <td>10.0</td>\n      <td>NaN</td>\n      <td>t</td>\n      <td>1</td>\n      <td>0</td>\n      <td>1</td>\n      <td>0</td>\n      <td>1.92</td>\n    </tr>\n    <tr>\n      <th>1</th>\n      <td>20168</td>\n      <td>https://www.airbnb.com/rooms/20168</td>\n      <td>20210208155251</td>\n      <td>2021-02-11</td>\n      <td>Studio with private bathroom in the centre 1</td>\n      <td>17th century Dutch townhouse in the heart of t...</td>\n      <td>Located just in between famous central canals....</td>\n      <td>https://a0.muscache.com/pictures/69979628/fd6a...</td>\n      <td>59484</td>\n      <td>https://www.airbnb.com/users/show/59484</td>\n      <td>...</td>\n      <td>10.0</td>\n      <td>10.0</td>\n      <td>9.0</td>\n      <td>NaN</td>\n      <td>t</td>\n      <td>2</td>\n      <td>0</td>\n      <td>2</td>\n      <td>0</td>\n      <td>2.54</td>\n    </tr>\n    <tr>\n      <th>2</th>\n      <td>25428</td>\n      <td>https://www.airbnb.com/rooms/25428</td>\n      <td>20210208155251</td>\n      <td>2021-02-10</td>\n      <td>Lovely, spacious 1 bed apt in Center(with lift)</td>\n      <td>Lovely apt in Centre ( lift &amp; fireplace) near ...</td>\n      <td>NaN</td>\n      <td>https://a0.muscache.com/pictures/138431/7079a9...</td>\n      <td>56142</td>\n      <td>https://www.airbnb.com/users/show/56142</td>\n      <td>...</td>\n      <td>10.0</td>\n      <td>10.0</td>\n      <td>10.0</td>\n      <td>NaN</td>\n      <td>f</td>\n      <td>1</td>\n      <td>1</td>\n      <td>0</td>\n      <td>0</td>\n      <td>0.13</td>\n    </tr>\n    <tr>\n      <th>3</th>\n      <td>27886</td>\n      <td>https://www.airbnb.com/rooms/27886</td>\n      <td>20210208155251</td>\n      <td>2021-02-11</td>\n      <td>Romantic, stylish B&amp;B houseboat in canal district</td>\n      <td>Stylish and romantic houseboat on fantastic hi...</td>\n      <td>Central, quiet, safe, clean and beautiful.</td>\n      <td>https://a0.muscache.com/pictures/02c2da9d-660e...</td>\n      <td>97647</td>\n      <td>https://www.airbnb.com/users/show/97647</td>\n      <td>...</td>\n      <td>10.0</td>\n      <td>10.0</td>\n      <td>10.0</td>\n      <td>NaN</td>\n      <td>t</td>\n      <td>1</td>\n      <td>0</td>\n      <td>1</td>\n      <td>0</td>\n      <td>1.98</td>\n    </tr>\n    <tr>\n      <th>4</th>\n      <td>28871</td>\n      <td>https://www.airbnb.com/rooms/28871</td>\n      <td>20210208155251</td>\n      <td>2021-02-10</td>\n      <td>Comfortable double room</td>\n      <td>&lt;b&gt;The space&lt;/b&gt;&lt;br /&gt;In a monumental house ri...</td>\n      <td>Flower market , Leidseplein , Rembrantsplein</td>\n      <td>https://a0.muscache.com/pictures/160889/362340...</td>\n      <td>124245</td>\n      <td>https://www.airbnb.com/users/show/124245</td>\n      <td>...</td>\n      <td>10.0</td>\n      <td>10.0</td>\n      <td>10.0</td>\n      <td>NaN</td>\n      <td>f</td>\n      <td>2</td>\n      <td>0</td>\n      <td>2</td>\n      <td>0</td>\n      <td>2.63</td>\n    </tr>\n  </tbody>\n</table>\n<p>5 rows × 74 columns</p>\n</div>"
          },
          "metadata": {},
          "execution_count": 8
        }
      ]
    },
    {
      "cell_type": "code",
      "metadata": {
        "colab": {
          "base_uri": "https://localhost:8080/"
        },
        "id": "XqDn9l30ehQ3",
        "outputId": "98fd601d-ab78-4617-93b7-72115e77c32c"
      },
      "source": [
        "# Look at all of the feature names\r\n",
        "amsterdam_detailed_listing.columns"
      ],
      "execution_count": 9,
      "outputs": [
        {
          "output_type": "execute_result",
          "data": {
            "text/plain": [
              "Index(['id', 'listing_url', 'scrape_id', 'last_scraped', 'name', 'description',\n",
              "       'neighborhood_overview', 'picture_url', 'host_id', 'host_url',\n",
              "       'host_name', 'host_since', 'host_location', 'host_about',\n",
              "       'host_response_time', 'host_response_rate', 'host_acceptance_rate',\n",
              "       'host_is_superhost', 'host_thumbnail_url', 'host_picture_url',\n",
              "       'host_neighbourhood', 'host_listings_count',\n",
              "       'host_total_listings_count', 'host_verifications',\n",
              "       'host_has_profile_pic', 'host_identity_verified', 'neighbourhood',\n",
              "       'neighbourhood_cleansed', 'neighbourhood_group_cleansed', 'latitude',\n",
              "       'longitude', 'property_type', 'room_type', 'accommodates', 'bathrooms',\n",
              "       'bathrooms_text', 'bedrooms', 'beds', 'amenities', 'price',\n",
              "       'minimum_nights', 'maximum_nights', 'minimum_minimum_nights',\n",
              "       'maximum_minimum_nights', 'minimum_maximum_nights',\n",
              "       'maximum_maximum_nights', 'minimum_nights_avg_ntm',\n",
              "       'maximum_nights_avg_ntm', 'calendar_updated', 'has_availability',\n",
              "       'availability_30', 'availability_60', 'availability_90',\n",
              "       'availability_365', 'calendar_last_scraped', 'number_of_reviews',\n",
              "       'number_of_reviews_ltm', 'number_of_reviews_l30d', 'first_review',\n",
              "       'last_review', 'review_scores_rating', 'review_scores_accuracy',\n",
              "       'review_scores_cleanliness', 'review_scores_checkin',\n",
              "       'review_scores_communication', 'review_scores_location',\n",
              "       'review_scores_value', 'license', 'instant_bookable',\n",
              "       'calculated_host_listings_count',\n",
              "       'calculated_host_listings_count_entire_homes',\n",
              "       'calculated_host_listings_count_private_rooms',\n",
              "       'calculated_host_listings_count_shared_rooms', 'reviews_per_month'],\n",
              "      dtype='object')"
            ]
          },
          "metadata": {},
          "execution_count": 9
        }
      ]
    },
    {
      "cell_type": "code",
      "metadata": {
        "colab": {
          "base_uri": "https://localhost:8080/",
          "height": 289
        },
        "id": "JjcFYegBwYSV",
        "outputId": "fe483c9c-c89c-4a0d-c6d2-d0e8dd0c4ee9"
      },
      "source": [
        "amsterdam_detailed_listing[['neighbourhood', 'neighborhood_overview']].sample(5)"
      ],
      "execution_count": 11,
      "outputs": [
        {
          "output_type": "execute_result",
          "data": {
            "text/plain": [
              "                               neighbourhood  \\\n",
              "4739   Amsterdam, Noord-Holland, Netherlands   \n",
              "1179   Amsterdam, North Holland, Netherlands   \n",
              "15163  Amsterdam, Noord-Holland, Netherlands   \n",
              "14345  Amsterdam, Noord-Holland, Netherlands   \n",
              "16701  Amsterdam, Noord-Holland, Netherlands   \n",
              "\n",
              "                                   neighborhood_overview  \n",
              "4739   The unique selling point of the studio is the ...  \n",
              "1179   The apartment is located in the east side of A...  \n",
              "15163  Generator Amsterdam is perfectly placed betwee...  \n",
              "14345  The Frederik Hendrik neighbourhood is a crossr...  \n",
              "16701  few min walking and you will be in the westerp...  "
            ],
            "text/html": "<div>\n<style scoped>\n    .dataframe tbody tr th:only-of-type {\n        vertical-align: middle;\n    }\n\n    .dataframe tbody tr th {\n        vertical-align: top;\n    }\n\n    .dataframe thead th {\n        text-align: right;\n    }\n</style>\n<table border=\"1\" class=\"dataframe\">\n  <thead>\n    <tr style=\"text-align: right;\">\n      <th></th>\n      <th>neighbourhood</th>\n      <th>neighborhood_overview</th>\n    </tr>\n  </thead>\n  <tbody>\n    <tr>\n      <th>4739</th>\n      <td>Amsterdam, Noord-Holland, Netherlands</td>\n      <td>The unique selling point of the studio is the ...</td>\n    </tr>\n    <tr>\n      <th>1179</th>\n      <td>Amsterdam, North Holland, Netherlands</td>\n      <td>The apartment is located in the east side of A...</td>\n    </tr>\n    <tr>\n      <th>15163</th>\n      <td>Amsterdam, Noord-Holland, Netherlands</td>\n      <td>Generator Amsterdam is perfectly placed betwee...</td>\n    </tr>\n    <tr>\n      <th>14345</th>\n      <td>Amsterdam, Noord-Holland, Netherlands</td>\n      <td>The Frederik Hendrik neighbourhood is a crossr...</td>\n    </tr>\n    <tr>\n      <th>16701</th>\n      <td>Amsterdam, Noord-Holland, Netherlands</td>\n      <td>few min walking and you will be in the westerp...</td>\n    </tr>\n  </tbody>\n</table>\n</div>"
          },
          "metadata": {},
          "execution_count": 11
        }
      ]
    },
    {
      "cell_type": "code",
      "metadata": {
        "colab": {
          "base_uri": "https://localhost:8080/",
          "height": 204
        },
        "id": "xIUgfSJzxP37",
        "outputId": "e4534fa3-bf78-43a3-fa41-208b9c70ba1b"
      },
      "source": [
        "amsterdam_detailed_listing[['minimum_nights', 'maximum_nights', 'minimum_minimum_nights',\r\n",
        "       'maximum_minimum_nights', 'minimum_maximum_nights',\r\n",
        "       'maximum_maximum_nights', 'minimum_nights_avg_ntm',\r\n",
        "       'maximum_nights_avg_ntm']].sample(5)"
      ],
      "execution_count": 12,
      "outputs": [
        {
          "output_type": "execute_result",
          "data": {
            "text/plain": [
              "       minimum_nights  maximum_nights  minimum_minimum_nights  \\\n",
              "14960               2               4                     2.0   \n",
              "15239               7              21                     7.0   \n",
              "13723               2            1125                     2.0   \n",
              "15927               4            1125                     4.0   \n",
              "8675                2            1125                     2.0   \n",
              "\n",
              "       maximum_minimum_nights  minimum_maximum_nights  maximum_maximum_nights  \\\n",
              "14960                     2.0                     4.0                     4.0   \n",
              "15239                     7.0                    21.0                    21.0   \n",
              "13723                     2.0                  1125.0                  1125.0   \n",
              "15927                     4.0                  1125.0                  1125.0   \n",
              "8675                      2.0                  1125.0                  1125.0   \n",
              "\n",
              "       minimum_nights_avg_ntm  maximum_nights_avg_ntm  \n",
              "14960                     2.0                     4.0  \n",
              "15239                     7.0                    21.0  \n",
              "13723                     2.0                  1125.0  \n",
              "15927                     4.0                  1125.0  \n",
              "8675                      2.0                  1125.0  "
            ],
            "text/html": "<div>\n<style scoped>\n    .dataframe tbody tr th:only-of-type {\n        vertical-align: middle;\n    }\n\n    .dataframe tbody tr th {\n        vertical-align: top;\n    }\n\n    .dataframe thead th {\n        text-align: right;\n    }\n</style>\n<table border=\"1\" class=\"dataframe\">\n  <thead>\n    <tr style=\"text-align: right;\">\n      <th></th>\n      <th>minimum_nights</th>\n      <th>maximum_nights</th>\n      <th>minimum_minimum_nights</th>\n      <th>maximum_minimum_nights</th>\n      <th>minimum_maximum_nights</th>\n      <th>maximum_maximum_nights</th>\n      <th>minimum_nights_avg_ntm</th>\n      <th>maximum_nights_avg_ntm</th>\n    </tr>\n  </thead>\n  <tbody>\n    <tr>\n      <th>14960</th>\n      <td>2</td>\n      <td>4</td>\n      <td>2.0</td>\n      <td>2.0</td>\n      <td>4.0</td>\n      <td>4.0</td>\n      <td>2.0</td>\n      <td>4.0</td>\n    </tr>\n    <tr>\n      <th>15239</th>\n      <td>7</td>\n      <td>21</td>\n      <td>7.0</td>\n      <td>7.0</td>\n      <td>21.0</td>\n      <td>21.0</td>\n      <td>7.0</td>\n      <td>21.0</td>\n    </tr>\n    <tr>\n      <th>13723</th>\n      <td>2</td>\n      <td>1125</td>\n      <td>2.0</td>\n      <td>2.0</td>\n      <td>1125.0</td>\n      <td>1125.0</td>\n      <td>2.0</td>\n      <td>1125.0</td>\n    </tr>\n    <tr>\n      <th>15927</th>\n      <td>4</td>\n      <td>1125</td>\n      <td>4.0</td>\n      <td>4.0</td>\n      <td>1125.0</td>\n      <td>1125.0</td>\n      <td>4.0</td>\n      <td>1125.0</td>\n    </tr>\n    <tr>\n      <th>8675</th>\n      <td>2</td>\n      <td>1125</td>\n      <td>2.0</td>\n      <td>2.0</td>\n      <td>1125.0</td>\n      <td>1125.0</td>\n      <td>2.0</td>\n      <td>1125.0</td>\n    </tr>\n  </tbody>\n</table>\n</div>"
          },
          "metadata": {},
          "execution_count": 12
        }
      ]
    },
    {
      "cell_type": "code",
      "metadata": {
        "colab": {
          "base_uri": "https://localhost:8080/",
          "height": 224
        },
        "id": "ufd6FEDDx5fS",
        "outputId": "1e301094-4ab9-4669-9b42-a4dcb88c20d6"
      },
      "source": [
        "amsterdam_detailed_listing[['calculated_host_listings_count',\r\n",
        "       'calculated_host_listings_count_entire_homes',\r\n",
        "       'calculated_host_listings_count_private_rooms',\r\n",
        "       'calculated_host_listings_count_shared_rooms', 'reviews_per_month']].sample(5)"
      ],
      "execution_count": 13,
      "outputs": [
        {
          "output_type": "execute_result",
          "data": {
            "text/plain": [
              "       calculated_host_listings_count  \\\n",
              "1545                                1   \n",
              "4244                                1   \n",
              "16050                               1   \n",
              "6743                                3   \n",
              "1173                                5   \n",
              "\n",
              "       calculated_host_listings_count_entire_homes  \\\n",
              "1545                                             1   \n",
              "4244                                             1   \n",
              "16050                                            1   \n",
              "6743                                             0   \n",
              "1173                                             0   \n",
              "\n",
              "       calculated_host_listings_count_private_rooms  \\\n",
              "1545                                              0   \n",
              "4244                                              0   \n",
              "16050                                             0   \n",
              "6743                                              3   \n",
              "1173                                              5   \n",
              "\n",
              "       calculated_host_listings_count_shared_rooms  reviews_per_month  \n",
              "1545                                             0               0.15  \n",
              "4244                                             0               0.28  \n",
              "16050                                            0               0.56  \n",
              "6743                                             0               0.42  \n",
              "1173                                             0               0.80  "
            ],
            "text/html": "<div>\n<style scoped>\n    .dataframe tbody tr th:only-of-type {\n        vertical-align: middle;\n    }\n\n    .dataframe tbody tr th {\n        vertical-align: top;\n    }\n\n    .dataframe thead th {\n        text-align: right;\n    }\n</style>\n<table border=\"1\" class=\"dataframe\">\n  <thead>\n    <tr style=\"text-align: right;\">\n      <th></th>\n      <th>calculated_host_listings_count</th>\n      <th>calculated_host_listings_count_entire_homes</th>\n      <th>calculated_host_listings_count_private_rooms</th>\n      <th>calculated_host_listings_count_shared_rooms</th>\n      <th>reviews_per_month</th>\n    </tr>\n  </thead>\n  <tbody>\n    <tr>\n      <th>1545</th>\n      <td>1</td>\n      <td>1</td>\n      <td>0</td>\n      <td>0</td>\n      <td>0.15</td>\n    </tr>\n    <tr>\n      <th>4244</th>\n      <td>1</td>\n      <td>1</td>\n      <td>0</td>\n      <td>0</td>\n      <td>0.28</td>\n    </tr>\n    <tr>\n      <th>16050</th>\n      <td>1</td>\n      <td>1</td>\n      <td>0</td>\n      <td>0</td>\n      <td>0.56</td>\n    </tr>\n    <tr>\n      <th>6743</th>\n      <td>3</td>\n      <td>0</td>\n      <td>3</td>\n      <td>0</td>\n      <td>0.42</td>\n    </tr>\n    <tr>\n      <th>1173</th>\n      <td>5</td>\n      <td>0</td>\n      <td>5</td>\n      <td>0</td>\n      <td>0.80</td>\n    </tr>\n  </tbody>\n</table>\n</div>"
          },
          "metadata": {},
          "execution_count": 13
        }
      ]
    },
    {
      "cell_type": "code",
      "metadata": {
        "colab": {
          "base_uri": "https://localhost:8080/",
          "height": 204
        },
        "id": "-xP6cyaKyPRC",
        "outputId": "4e8f7413-a76f-4494-fa65-1e277566d359"
      },
      "source": [
        "amsterdam_detailed_listing[['review_scores_rating', 'review_scores_accuracy',\r\n",
        "       'review_scores_cleanliness', 'review_scores_checkin',\r\n",
        "       'review_scores_communication', 'review_scores_location',\r\n",
        "       'review_scores_value']].sample(5)"
      ],
      "execution_count": 14,
      "outputs": [
        {
          "output_type": "execute_result",
          "data": {
            "text/plain": [
              "       review_scores_rating  review_scores_accuracy  \\\n",
              "12368                  87.0                    10.0   \n",
              "15360                  93.0                     9.0   \n",
              "12292                 100.0                    10.0   \n",
              "2093                   97.0                    10.0   \n",
              "294                    96.0                    10.0   \n",
              "\n",
              "       review_scores_cleanliness  review_scores_checkin  \\\n",
              "12368                        9.0                   10.0   \n",
              "15360                       10.0                    9.0   \n",
              "12292                       10.0                   10.0   \n",
              "2093                        10.0                   10.0   \n",
              "294                         10.0                   10.0   \n",
              "\n",
              "       review_scores_communication  review_scores_location  \\\n",
              "12368                         10.0                     9.0   \n",
              "15360                         10.0                    10.0   \n",
              "12292                          9.0                     9.0   \n",
              "2093                          10.0                    10.0   \n",
              "294                           10.0                    10.0   \n",
              "\n",
              "       review_scores_value  \n",
              "12368                  8.0  \n",
              "15360                  9.0  \n",
              "12292                  9.0  \n",
              "2093                  10.0  \n",
              "294                    9.0  "
            ],
            "text/html": "<div>\n<style scoped>\n    .dataframe tbody tr th:only-of-type {\n        vertical-align: middle;\n    }\n\n    .dataframe tbody tr th {\n        vertical-align: top;\n    }\n\n    .dataframe thead th {\n        text-align: right;\n    }\n</style>\n<table border=\"1\" class=\"dataframe\">\n  <thead>\n    <tr style=\"text-align: right;\">\n      <th></th>\n      <th>review_scores_rating</th>\n      <th>review_scores_accuracy</th>\n      <th>review_scores_cleanliness</th>\n      <th>review_scores_checkin</th>\n      <th>review_scores_communication</th>\n      <th>review_scores_location</th>\n      <th>review_scores_value</th>\n    </tr>\n  </thead>\n  <tbody>\n    <tr>\n      <th>12368</th>\n      <td>87.0</td>\n      <td>10.0</td>\n      <td>9.0</td>\n      <td>10.0</td>\n      <td>10.0</td>\n      <td>9.0</td>\n      <td>8.0</td>\n    </tr>\n    <tr>\n      <th>15360</th>\n      <td>93.0</td>\n      <td>9.0</td>\n      <td>10.0</td>\n      <td>9.0</td>\n      <td>10.0</td>\n      <td>10.0</td>\n      <td>9.0</td>\n    </tr>\n    <tr>\n      <th>12292</th>\n      <td>100.0</td>\n      <td>10.0</td>\n      <td>10.0</td>\n      <td>10.0</td>\n      <td>9.0</td>\n      <td>9.0</td>\n      <td>9.0</td>\n    </tr>\n    <tr>\n      <th>2093</th>\n      <td>97.0</td>\n      <td>10.0</td>\n      <td>10.0</td>\n      <td>10.0</td>\n      <td>10.0</td>\n      <td>10.0</td>\n      <td>10.0</td>\n    </tr>\n    <tr>\n      <th>294</th>\n      <td>96.0</td>\n      <td>10.0</td>\n      <td>10.0</td>\n      <td>10.0</td>\n      <td>10.0</td>\n      <td>10.0</td>\n      <td>9.0</td>\n    </tr>\n  </tbody>\n</table>\n</div>"
          },
          "metadata": {},
          "execution_count": 14
        }
      ]
    },
    {
      "cell_type": "code",
      "metadata": {
        "colab": {
          "base_uri": "https://localhost:8080/"
        },
        "id": "3HOIW32eehOP",
        "outputId": "d93f244f-03ca-4464-ffae-b73be4ce3a00"
      },
      "source": [
        "# Is there any NaN values?\r\n",
        "amsterdam_detailed_listing.isnull().sum()"
      ],
      "execution_count": 15,
      "outputs": [
        {
          "output_type": "execute_result",
          "data": {
            "text/plain": [
              "id                                                 0\n",
              "listing_url                                        0\n",
              "scrape_id                                          0\n",
              "last_scraped                                       0\n",
              "name                                              33\n",
              "                                                ... \n",
              "calculated_host_listings_count                     0\n",
              "calculated_host_listings_count_entire_homes        0\n",
              "calculated_host_listings_count_private_rooms       0\n",
              "calculated_host_listings_count_shared_rooms        0\n",
              "reviews_per_month                               2389\n",
              "Length: 74, dtype: int64"
            ]
          },
          "metadata": {},
          "execution_count": 15
        }
      ]
    },
    {
      "cell_type": "code",
      "metadata": {
        "colab": {
          "base_uri": "https://localhost:8080/"
        },
        "id": "IEoZS4lfehLu",
        "outputId": "cfe5a2a9-1306-4095-856a-6fb919248449"
      },
      "source": [
        "amsterdam_detailed_listing.description.sample(5)"
      ],
      "execution_count": 16,
      "outputs": [
        {
          "output_type": "execute_result",
          "data": {
            "text/plain": [
              "8780     Nice and comfortable apartment (74m2) located ...\n",
              "16546    Airy 2 Bedroom, 2 Bathroom First Floor Apartme...\n",
              "3455     * GREAT LOCATION IN AN UPCOMING AREA<br />*EAS...\n",
              "15503    This beautiful studio with garden view in a fa...\n",
              "1537     Beautiful apartment in the center of Amsterdam...\n",
              "Name: description, dtype: object"
            ]
          },
          "metadata": {},
          "execution_count": 16
        }
      ]
    },
    {
      "cell_type": "code",
      "metadata": {
        "colab": {
          "base_uri": "https://localhost:8080/"
        },
        "id": "sKNgaIhMehJn",
        "outputId": "6819401b-5b58-4995-dde5-2c99920833af"
      },
      "source": [
        "amsterdam_detailed_listing.name.sample(5)"
      ],
      "execution_count": 17,
      "outputs": [
        {
          "output_type": "execute_result",
          "data": {
            "text/plain": [
              "7893     Deluxe studio close to C.S. with private entrance\n",
              "14240         Cosy houseboat studio in the old city center\n",
              "12948       Apartment with an amazing view over the Amstel\n",
              "3803                   Authentic Amsterdam Zuid Appartment\n",
              "17707    ★ Luxurious & stunning  boutique apartment wit...\n",
              "Name: name, dtype: object"
            ]
          },
          "metadata": {},
          "execution_count": 17
        }
      ]
    },
    {
      "cell_type": "code",
      "metadata": {
        "colab": {
          "base_uri": "https://localhost:8080/",
          "height": 317
        },
        "id": "oc6FedEOehHa",
        "outputId": "9c19fac0-a254-4c77-9a31-f7638d8a45f0"
      },
      "source": [
        "amsterdam_detailed_listing.describe()"
      ],
      "execution_count": 18,
      "outputs": [
        {
          "output_type": "execute_result",
          "data": {
            "text/plain": [
              "                 id     scrape_id       host_id  host_listings_count  \\\n",
              "count  1.829100e+04  1.829100e+04  1.829100e+04         18228.000000   \n",
              "mean   2.064229e+07  2.021021e+13  6.705998e+07             3.244459   \n",
              "std    1.285836e+07  7.129101e+00  8.666877e+07            56.575963   \n",
              "min    2.818000e+03  2.021021e+13  3.159000e+03             0.000000   \n",
              "25%    1.010732e+07  2.021021e+13  9.282300e+06             1.000000   \n",
              "50%    1.911168e+07  2.021021e+13  2.810956e+07             1.000000   \n",
              "75%    3.039472e+07  2.021021e+13  8.650474e+07             1.000000   \n",
              "max    4.807786e+07  2.021021e+13  3.871652e+08          7235.000000   \n",
              "\n",
              "       host_total_listings_count  neighbourhood_group_cleansed      latitude  \\\n",
              "count               18228.000000                           0.0  18291.000000   \n",
              "mean                    3.244459                           NaN     52.365478   \n",
              "std                    56.575963                           NaN      0.016559   \n",
              "min                     0.000000                           NaN     52.289270   \n",
              "25%                     1.000000                           NaN     52.355100   \n",
              "50%                     1.000000                           NaN     52.364790   \n",
              "75%                     1.000000                           NaN     52.375370   \n",
              "max                  7235.000000                           NaN     52.425120   \n",
              "\n",
              "          longitude  accommodates  bathrooms  ...  review_scores_checkin  \\\n",
              "count  18291.000000  18291.000000        0.0  ...           15641.000000   \n",
              "mean       4.889504      2.837570        NaN  ...               9.750911   \n",
              "std        0.035833      1.282434        NaN  ...               0.659262   \n",
              "min        4.755940      0.000000        NaN  ...               2.000000   \n",
              "25%        4.863920      2.000000        NaN  ...              10.000000   \n",
              "50%        4.887010      2.000000        NaN  ...              10.000000   \n",
              "75%        4.909230      4.000000        NaN  ...              10.000000   \n",
              "max        5.027690     16.000000        NaN  ...              10.000000   \n",
              "\n",
              "       review_scores_communication  review_scores_location  \\\n",
              "count                 15648.000000            15643.000000   \n",
              "mean                      9.794926                9.513456   \n",
              "std                       0.636390                0.705519   \n",
              "min                       2.000000                2.000000   \n",
              "25%                      10.000000                9.000000   \n",
              "50%                      10.000000               10.000000   \n",
              "75%                      10.000000               10.000000   \n",
              "max                      10.000000               10.000000   \n",
              "\n",
              "       review_scores_value  license  calculated_host_listings_count  \\\n",
              "count         15643.000000      0.0                    18291.000000   \n",
              "mean              9.202071      NaN                        2.647477   \n",
              "std               0.832326      NaN                        8.724302   \n",
              "min               2.000000      NaN                        1.000000   \n",
              "25%               9.000000      NaN                        1.000000   \n",
              "50%               9.000000      NaN                        1.000000   \n",
              "75%              10.000000      NaN                        1.000000   \n",
              "max              10.000000      NaN                       85.000000   \n",
              "\n",
              "       calculated_host_listings_count_entire_homes  \\\n",
              "count                                 18291.000000   \n",
              "mean                                      2.111366   \n",
              "std                                       8.545412   \n",
              "min                                       0.000000   \n",
              "25%                                       1.000000   \n",
              "50%                                       1.000000   \n",
              "75%                                       1.000000   \n",
              "max                                      84.000000   \n",
              "\n",
              "       calculated_host_listings_count_private_rooms  \\\n",
              "count                                  18291.000000   \n",
              "mean                                       0.476628   \n",
              "std                                        1.457147   \n",
              "min                                        0.000000   \n",
              "25%                                        0.000000   \n",
              "50%                                        0.000000   \n",
              "75%                                        0.000000   \n",
              "max                                       21.000000   \n",
              "\n",
              "       calculated_host_listings_count_shared_rooms  reviews_per_month  \n",
              "count                                 18291.000000       15902.000000  \n",
              "mean                                      0.009404           0.591448  \n",
              "std                                       0.153398           1.065085  \n",
              "min                                       0.000000           0.010000  \n",
              "25%                                       0.000000           0.130000  \n",
              "50%                                       0.000000           0.280000  \n",
              "75%                                       0.000000           0.580000  \n",
              "max                                       5.000000          35.530000  \n",
              "\n",
              "[8 rows x 41 columns]"
            ],
            "text/html": "<div>\n<style scoped>\n    .dataframe tbody tr th:only-of-type {\n        vertical-align: middle;\n    }\n\n    .dataframe tbody tr th {\n        vertical-align: top;\n    }\n\n    .dataframe thead th {\n        text-align: right;\n    }\n</style>\n<table border=\"1\" class=\"dataframe\">\n  <thead>\n    <tr style=\"text-align: right;\">\n      <th></th>\n      <th>id</th>\n      <th>scrape_id</th>\n      <th>host_id</th>\n      <th>host_listings_count</th>\n      <th>host_total_listings_count</th>\n      <th>neighbourhood_group_cleansed</th>\n      <th>latitude</th>\n      <th>longitude</th>\n      <th>accommodates</th>\n      <th>bathrooms</th>\n      <th>...</th>\n      <th>review_scores_checkin</th>\n      <th>review_scores_communication</th>\n      <th>review_scores_location</th>\n      <th>review_scores_value</th>\n      <th>license</th>\n      <th>calculated_host_listings_count</th>\n      <th>calculated_host_listings_count_entire_homes</th>\n      <th>calculated_host_listings_count_private_rooms</th>\n      <th>calculated_host_listings_count_shared_rooms</th>\n      <th>reviews_per_month</th>\n    </tr>\n  </thead>\n  <tbody>\n    <tr>\n      <th>count</th>\n      <td>1.829100e+04</td>\n      <td>1.829100e+04</td>\n      <td>1.829100e+04</td>\n      <td>18228.000000</td>\n      <td>18228.000000</td>\n      <td>0.0</td>\n      <td>18291.000000</td>\n      <td>18291.000000</td>\n      <td>18291.000000</td>\n      <td>0.0</td>\n      <td>...</td>\n      <td>15641.000000</td>\n      <td>15648.000000</td>\n      <td>15643.000000</td>\n      <td>15643.000000</td>\n      <td>0.0</td>\n      <td>18291.000000</td>\n      <td>18291.000000</td>\n      <td>18291.000000</td>\n      <td>18291.000000</td>\n      <td>15902.000000</td>\n    </tr>\n    <tr>\n      <th>mean</th>\n      <td>2.064229e+07</td>\n      <td>2.021021e+13</td>\n      <td>6.705998e+07</td>\n      <td>3.244459</td>\n      <td>3.244459</td>\n      <td>NaN</td>\n      <td>52.365478</td>\n      <td>4.889504</td>\n      <td>2.837570</td>\n      <td>NaN</td>\n      <td>...</td>\n      <td>9.750911</td>\n      <td>9.794926</td>\n      <td>9.513456</td>\n      <td>9.202071</td>\n      <td>NaN</td>\n      <td>2.647477</td>\n      <td>2.111366</td>\n      <td>0.476628</td>\n      <td>0.009404</td>\n      <td>0.591448</td>\n    </tr>\n    <tr>\n      <th>std</th>\n      <td>1.285836e+07</td>\n      <td>7.129101e+00</td>\n      <td>8.666877e+07</td>\n      <td>56.575963</td>\n      <td>56.575963</td>\n      <td>NaN</td>\n      <td>0.016559</td>\n      <td>0.035833</td>\n      <td>1.282434</td>\n      <td>NaN</td>\n      <td>...</td>\n      <td>0.659262</td>\n      <td>0.636390</td>\n      <td>0.705519</td>\n      <td>0.832326</td>\n      <td>NaN</td>\n      <td>8.724302</td>\n      <td>8.545412</td>\n      <td>1.457147</td>\n      <td>0.153398</td>\n      <td>1.065085</td>\n    </tr>\n    <tr>\n      <th>min</th>\n      <td>2.818000e+03</td>\n      <td>2.021021e+13</td>\n      <td>3.159000e+03</td>\n      <td>0.000000</td>\n      <td>0.000000</td>\n      <td>NaN</td>\n      <td>52.289270</td>\n      <td>4.755940</td>\n      <td>0.000000</td>\n      <td>NaN</td>\n      <td>...</td>\n      <td>2.000000</td>\n      <td>2.000000</td>\n      <td>2.000000</td>\n      <td>2.000000</td>\n      <td>NaN</td>\n      <td>1.000000</td>\n      <td>0.000000</td>\n      <td>0.000000</td>\n      <td>0.000000</td>\n      <td>0.010000</td>\n    </tr>\n    <tr>\n      <th>25%</th>\n      <td>1.010732e+07</td>\n      <td>2.021021e+13</td>\n      <td>9.282300e+06</td>\n      <td>1.000000</td>\n      <td>1.000000</td>\n      <td>NaN</td>\n      <td>52.355100</td>\n      <td>4.863920</td>\n      <td>2.000000</td>\n      <td>NaN</td>\n      <td>...</td>\n      <td>10.000000</td>\n      <td>10.000000</td>\n      <td>9.000000</td>\n      <td>9.000000</td>\n      <td>NaN</td>\n      <td>1.000000</td>\n      <td>1.000000</td>\n      <td>0.000000</td>\n      <td>0.000000</td>\n      <td>0.130000</td>\n    </tr>\n    <tr>\n      <th>50%</th>\n      <td>1.911168e+07</td>\n      <td>2.021021e+13</td>\n      <td>2.810956e+07</td>\n      <td>1.000000</td>\n      <td>1.000000</td>\n      <td>NaN</td>\n      <td>52.364790</td>\n      <td>4.887010</td>\n      <td>2.000000</td>\n      <td>NaN</td>\n      <td>...</td>\n      <td>10.000000</td>\n      <td>10.000000</td>\n      <td>10.000000</td>\n      <td>9.000000</td>\n      <td>NaN</td>\n      <td>1.000000</td>\n      <td>1.000000</td>\n      <td>0.000000</td>\n      <td>0.000000</td>\n      <td>0.280000</td>\n    </tr>\n    <tr>\n      <th>75%</th>\n      <td>3.039472e+07</td>\n      <td>2.021021e+13</td>\n      <td>8.650474e+07</td>\n      <td>1.000000</td>\n      <td>1.000000</td>\n      <td>NaN</td>\n      <td>52.375370</td>\n      <td>4.909230</td>\n      <td>4.000000</td>\n      <td>NaN</td>\n      <td>...</td>\n      <td>10.000000</td>\n      <td>10.000000</td>\n      <td>10.000000</td>\n      <td>10.000000</td>\n      <td>NaN</td>\n      <td>1.000000</td>\n      <td>1.000000</td>\n      <td>0.000000</td>\n      <td>0.000000</td>\n      <td>0.580000</td>\n    </tr>\n    <tr>\n      <th>max</th>\n      <td>4.807786e+07</td>\n      <td>2.021021e+13</td>\n      <td>3.871652e+08</td>\n      <td>7235.000000</td>\n      <td>7235.000000</td>\n      <td>NaN</td>\n      <td>52.425120</td>\n      <td>5.027690</td>\n      <td>16.000000</td>\n      <td>NaN</td>\n      <td>...</td>\n      <td>10.000000</td>\n      <td>10.000000</td>\n      <td>10.000000</td>\n      <td>10.000000</td>\n      <td>NaN</td>\n      <td>85.000000</td>\n      <td>84.000000</td>\n      <td>21.000000</td>\n      <td>5.000000</td>\n      <td>35.530000</td>\n    </tr>\n  </tbody>\n</table>\n<p>8 rows × 41 columns</p>\n</div>"
          },
          "metadata": {},
          "execution_count": 18
        }
      ]
    },
    {
      "cell_type": "code",
      "metadata": {
        "colab": {
          "base_uri": "https://localhost:8080/",
          "height": 686
        },
        "id": "hrdTPxKXehE5",
        "outputId": "f4e86bd1-efc5-4632-e22a-5ff395bbf261"
      },
      "source": [
        "amsterdam_detailed_listing.describe(exclude=[np.number])"
      ],
      "execution_count": 19,
      "outputs": [
        {
          "output_type": "execute_result",
          "data": {
            "text/plain": [
              "                                  listing_url last_scraped       name  \\\n",
              "count                                   18291        18291      18258   \n",
              "unique                                  18291            4      17863   \n",
              "top     https://www.airbnb.com/rooms/17329412   2021-02-09  Amsterdam   \n",
              "freq                                        1         7486         31   \n",
              "\n",
              "                                              description  \\\n",
              "count                                               17994   \n",
              "unique                                              17793   \n",
              "top     Hotel Jansen is a new Short Stay hotel in Amst...   \n",
              "freq                                                   13   \n",
              "\n",
              "                                    neighborhood_overview  \\\n",
              "count                                               12023   \n",
              "unique                                              10954   \n",
              "top     Oud West is close to the city-centre and close...   \n",
              "freq                                                   36   \n",
              "\n",
              "                                              picture_url  \\\n",
              "count                                               18291   \n",
              "unique                                              18108   \n",
              "top     https://a0.muscache.com/pictures/26bd7fc8-eab0...   \n",
              "freq                                                    4   \n",
              "\n",
              "                                         host_url host_name  host_since  \\\n",
              "count                                       18291     18228       18228   \n",
              "unique                                      15802      5541        3268   \n",
              "top     https://www.airbnb.com/users/show/1464510   Martijn  2016-04-05   \n",
              "freq                                           85       152          88   \n",
              "\n",
              "                                host_location  ...     property_type  \\\n",
              "count                                   18199  ...             18291   \n",
              "unique                                    534  ...                65   \n",
              "top     Amsterdam, North Holland, Netherlands  ...  Entire apartment   \n",
              "freq                                    10046  ...             11393   \n",
              "\n",
              "              room_type bathrooms_text                    amenities    price  \\\n",
              "count             18291          18269                        18291    18291   \n",
              "unique                4             27                        16744      502   \n",
              "top     Entire home/apt         1 bath  [\"Long term stays allowed\"]  $150.00   \n",
              "freq              14283          10677                           45      980   \n",
              "\n",
              "       has_availability calendar_last_scraped first_review last_review  \\\n",
              "count             18291                 18291        15902       15902   \n",
              "unique                2                     4         2598        1833   \n",
              "top                   t            2021-02-09   2016-03-30  2020-01-02   \n",
              "freq              17889                  7486           65         259   \n",
              "\n",
              "       instant_bookable  \n",
              "count             18291  \n",
              "unique                2  \n",
              "top                   f  \n",
              "freq              13914  \n",
              "\n",
              "[4 rows x 33 columns]"
            ],
            "text/html": "<div>\n<style scoped>\n    .dataframe tbody tr th:only-of-type {\n        vertical-align: middle;\n    }\n\n    .dataframe tbody tr th {\n        vertical-align: top;\n    }\n\n    .dataframe thead th {\n        text-align: right;\n    }\n</style>\n<table border=\"1\" class=\"dataframe\">\n  <thead>\n    <tr style=\"text-align: right;\">\n      <th></th>\n      <th>listing_url</th>\n      <th>last_scraped</th>\n      <th>name</th>\n      <th>description</th>\n      <th>neighborhood_overview</th>\n      <th>picture_url</th>\n      <th>host_url</th>\n      <th>host_name</th>\n      <th>host_since</th>\n      <th>host_location</th>\n      <th>...</th>\n      <th>property_type</th>\n      <th>room_type</th>\n      <th>bathrooms_text</th>\n      <th>amenities</th>\n      <th>price</th>\n      <th>has_availability</th>\n      <th>calendar_last_scraped</th>\n      <th>first_review</th>\n      <th>last_review</th>\n      <th>instant_bookable</th>\n    </tr>\n  </thead>\n  <tbody>\n    <tr>\n      <th>count</th>\n      <td>18291</td>\n      <td>18291</td>\n      <td>18258</td>\n      <td>17994</td>\n      <td>12023</td>\n      <td>18291</td>\n      <td>18291</td>\n      <td>18228</td>\n      <td>18228</td>\n      <td>18199</td>\n      <td>...</td>\n      <td>18291</td>\n      <td>18291</td>\n      <td>18269</td>\n      <td>18291</td>\n      <td>18291</td>\n      <td>18291</td>\n      <td>18291</td>\n      <td>15902</td>\n      <td>15902</td>\n      <td>18291</td>\n    </tr>\n    <tr>\n      <th>unique</th>\n      <td>18291</td>\n      <td>4</td>\n      <td>17863</td>\n      <td>17793</td>\n      <td>10954</td>\n      <td>18108</td>\n      <td>15802</td>\n      <td>5541</td>\n      <td>3268</td>\n      <td>534</td>\n      <td>...</td>\n      <td>65</td>\n      <td>4</td>\n      <td>27</td>\n      <td>16744</td>\n      <td>502</td>\n      <td>2</td>\n      <td>4</td>\n      <td>2598</td>\n      <td>1833</td>\n      <td>2</td>\n    </tr>\n    <tr>\n      <th>top</th>\n      <td>https://www.airbnb.com/rooms/17329412</td>\n      <td>2021-02-09</td>\n      <td>Amsterdam</td>\n      <td>Hotel Jansen is a new Short Stay hotel in Amst...</td>\n      <td>Oud West is close to the city-centre and close...</td>\n      <td>https://a0.muscache.com/pictures/26bd7fc8-eab0...</td>\n      <td>https://www.airbnb.com/users/show/1464510</td>\n      <td>Martijn</td>\n      <td>2016-04-05</td>\n      <td>Amsterdam, North Holland, Netherlands</td>\n      <td>...</td>\n      <td>Entire apartment</td>\n      <td>Entire home/apt</td>\n      <td>1 bath</td>\n      <td>[\"Long term stays allowed\"]</td>\n      <td>$150.00</td>\n      <td>t</td>\n      <td>2021-02-09</td>\n      <td>2016-03-30</td>\n      <td>2020-01-02</td>\n      <td>f</td>\n    </tr>\n    <tr>\n      <th>freq</th>\n      <td>1</td>\n      <td>7486</td>\n      <td>31</td>\n      <td>13</td>\n      <td>36</td>\n      <td>4</td>\n      <td>85</td>\n      <td>152</td>\n      <td>88</td>\n      <td>10046</td>\n      <td>...</td>\n      <td>11393</td>\n      <td>14283</td>\n      <td>10677</td>\n      <td>45</td>\n      <td>980</td>\n      <td>17889</td>\n      <td>7486</td>\n      <td>65</td>\n      <td>259</td>\n      <td>13914</td>\n    </tr>\n  </tbody>\n</table>\n<p>4 rows × 33 columns</p>\n</div>"
          },
          "metadata": {},
          "execution_count": 19
        }
      ]
    },
    {
      "cell_type": "code",
      "metadata": {
        "colab": {
          "base_uri": "https://localhost:8080/",
          "height": 1000
        },
        "id": "ArxkQrlCehCP",
        "outputId": "5106ce08-79b8-4137-da72-8f8fe94fd481"
      },
      "source": [
        "cols_to_keep = ['id', 'name', 'description', 'price', 'neighbourhood', \r\n",
        "                'neighborhood_overview', 'latitude', 'longitude', 'picture_url', \r\n",
        "                'property_type', 'room_type', 'bathrooms_text', 'accommodates', \r\n",
        "                'bedrooms', 'beds', 'amenities', 'minimum_nights', \r\n",
        "                'maximum_nights', 'has_availability', 'availability_30', \r\n",
        "                'availability_60', 'availability_90', 'availability_365', \r\n",
        "                'instant_bookable', 'host_listings_count', 'host_response_time', \r\n",
        "                'host_response_rate', 'host_acceptance_rate', 'host_is_superhost', \r\n",
        "                'host_has_profile_pic', 'host_identity_verified', \r\n",
        "                'number_of_reviews', 'review_scores_rating', \r\n",
        "                'review_scores_accuracy', 'review_scores_cleanliness', \r\n",
        "                'review_scores_checkin', 'review_scores_communication', \r\n",
        "                'review_scores_location', 'review_scores_value', \r\n",
        "                'reviews_per_month']\r\n",
        "\r\n",
        "amsterdam_cleaned = pd.DataFrame(amsterdam_detailed_listing[cols_to_keep])\r\n",
        "\r\n",
        "amsterdam_cleaned.head()"
      ],
      "execution_count": 20,
      "outputs": [
        {
          "output_type": "execute_result",
          "data": {
            "text/plain": [
              "      id                                               name  \\\n",
              "0   2818           Quiet Garden View Room & Super Fast WiFi   \n",
              "1  20168       Studio with private bathroom in the centre 1   \n",
              "2  25428    Lovely, spacious 1 bed apt in Center(with lift)   \n",
              "3  27886  Romantic, stylish B&B houseboat in canal district   \n",
              "4  28871                            Comfortable double room   \n",
              "\n",
              "                                         description    price  \\\n",
              "0  Quiet Garden View Room & Super Fast WiFi<br />...   $59.00   \n",
              "1  17th century Dutch townhouse in the heart of t...  $129.00   \n",
              "2  Lovely apt in Centre ( lift & fireplace) near ...  $125.00   \n",
              "3  Stylish and romantic houseboat on fantastic hi...  $125.00   \n",
              "4  <b>The space</b><br />In a monumental house ri...   $75.00   \n",
              "\n",
              "                           neighbourhood  \\\n",
              "0  Amsterdam, North Holland, Netherlands   \n",
              "1  Amsterdam, North Holland, Netherlands   \n",
              "2                                    NaN   \n",
              "3  Amsterdam, North Holland, Netherlands   \n",
              "4  Amsterdam, North Holland, Netherlands   \n",
              "\n",
              "                               neighborhood_overview  latitude  longitude  \\\n",
              "0  Indische Buurt (\"Indies Neighborhood\") is a ne...  52.36575    4.94142   \n",
              "1  Located just in between famous central canals....  52.36509    4.89354   \n",
              "2                                                NaN  52.37297    4.88339   \n",
              "3         Central, quiet, safe, clean and beautiful.  52.38761    4.89188   \n",
              "4       Flower market , Leidseplein , Rembrantsplein  52.36610    4.88953   \n",
              "\n",
              "                                         picture_url  \\\n",
              "0  https://a0.muscache.com/pictures/10272854/8dcc...   \n",
              "1  https://a0.muscache.com/pictures/69979628/fd6a...   \n",
              "2  https://a0.muscache.com/pictures/138431/7079a9...   \n",
              "3  https://a0.muscache.com/pictures/02c2da9d-660e...   \n",
              "4  https://a0.muscache.com/pictures/160889/362340...   \n",
              "\n",
              "               property_type  ... host_identity_verified number_of_reviews  \\\n",
              "0  Private room in apartment  ...                      t               278   \n",
              "1  Private room in townhouse  ...                      t               339   \n",
              "2           Entire apartment  ...                      f                 5   \n",
              "3  Private room in houseboat  ...                      t               219   \n",
              "4  Private room in apartment  ...                      t               336   \n",
              "\n",
              "   review_scores_rating  review_scores_accuracy  review_scores_cleanliness  \\\n",
              "0                  98.0                    10.0                       10.0   \n",
              "1                  89.0                    10.0                       10.0   \n",
              "2                 100.0                    10.0                       10.0   \n",
              "3                  99.0                    10.0                       10.0   \n",
              "4                  97.0                    10.0                       10.0   \n",
              "\n",
              "  review_scores_checkin  review_scores_communication  review_scores_location  \\\n",
              "0                  10.0                         10.0                     9.0   \n",
              "1                  10.0                         10.0                    10.0   \n",
              "2                  10.0                         10.0                    10.0   \n",
              "3                  10.0                         10.0                    10.0   \n",
              "4                  10.0                         10.0                    10.0   \n",
              "\n",
              "  review_scores_value  reviews_per_month  \n",
              "0                10.0               1.92  \n",
              "1                 9.0               2.54  \n",
              "2                10.0               0.13  \n",
              "3                10.0               1.98  \n",
              "4                10.0               2.63  \n",
              "\n",
              "[5 rows x 40 columns]"
            ],
            "text/html": "<div>\n<style scoped>\n    .dataframe tbody tr th:only-of-type {\n        vertical-align: middle;\n    }\n\n    .dataframe tbody tr th {\n        vertical-align: top;\n    }\n\n    .dataframe thead th {\n        text-align: right;\n    }\n</style>\n<table border=\"1\" class=\"dataframe\">\n  <thead>\n    <tr style=\"text-align: right;\">\n      <th></th>\n      <th>id</th>\n      <th>name</th>\n      <th>description</th>\n      <th>price</th>\n      <th>neighbourhood</th>\n      <th>neighborhood_overview</th>\n      <th>latitude</th>\n      <th>longitude</th>\n      <th>picture_url</th>\n      <th>property_type</th>\n      <th>...</th>\n      <th>host_identity_verified</th>\n      <th>number_of_reviews</th>\n      <th>review_scores_rating</th>\n      <th>review_scores_accuracy</th>\n      <th>review_scores_cleanliness</th>\n      <th>review_scores_checkin</th>\n      <th>review_scores_communication</th>\n      <th>review_scores_location</th>\n      <th>review_scores_value</th>\n      <th>reviews_per_month</th>\n    </tr>\n  </thead>\n  <tbody>\n    <tr>\n      <th>0</th>\n      <td>2818</td>\n      <td>Quiet Garden View Room &amp; Super Fast WiFi</td>\n      <td>Quiet Garden View Room &amp; Super Fast WiFi&lt;br /&gt;...</td>\n      <td>$59.00</td>\n      <td>Amsterdam, North Holland, Netherlands</td>\n      <td>Indische Buurt (\"Indies Neighborhood\") is a ne...</td>\n      <td>52.36575</td>\n      <td>4.94142</td>\n      <td>https://a0.muscache.com/pictures/10272854/8dcc...</td>\n      <td>Private room in apartment</td>\n      <td>...</td>\n      <td>t</td>\n      <td>278</td>\n      <td>98.0</td>\n      <td>10.0</td>\n      <td>10.0</td>\n      <td>10.0</td>\n      <td>10.0</td>\n      <td>9.0</td>\n      <td>10.0</td>\n      <td>1.92</td>\n    </tr>\n    <tr>\n      <th>1</th>\n      <td>20168</td>\n      <td>Studio with private bathroom in the centre 1</td>\n      <td>17th century Dutch townhouse in the heart of t...</td>\n      <td>$129.00</td>\n      <td>Amsterdam, North Holland, Netherlands</td>\n      <td>Located just in between famous central canals....</td>\n      <td>52.36509</td>\n      <td>4.89354</td>\n      <td>https://a0.muscache.com/pictures/69979628/fd6a...</td>\n      <td>Private room in townhouse</td>\n      <td>...</td>\n      <td>t</td>\n      <td>339</td>\n      <td>89.0</td>\n      <td>10.0</td>\n      <td>10.0</td>\n      <td>10.0</td>\n      <td>10.0</td>\n      <td>10.0</td>\n      <td>9.0</td>\n      <td>2.54</td>\n    </tr>\n    <tr>\n      <th>2</th>\n      <td>25428</td>\n      <td>Lovely, spacious 1 bed apt in Center(with lift)</td>\n      <td>Lovely apt in Centre ( lift &amp; fireplace) near ...</td>\n      <td>$125.00</td>\n      <td>NaN</td>\n      <td>NaN</td>\n      <td>52.37297</td>\n      <td>4.88339</td>\n      <td>https://a0.muscache.com/pictures/138431/7079a9...</td>\n      <td>Entire apartment</td>\n      <td>...</td>\n      <td>f</td>\n      <td>5</td>\n      <td>100.0</td>\n      <td>10.0</td>\n      <td>10.0</td>\n      <td>10.0</td>\n      <td>10.0</td>\n      <td>10.0</td>\n      <td>10.0</td>\n      <td>0.13</td>\n    </tr>\n    <tr>\n      <th>3</th>\n      <td>27886</td>\n      <td>Romantic, stylish B&amp;B houseboat in canal district</td>\n      <td>Stylish and romantic houseboat on fantastic hi...</td>\n      <td>$125.00</td>\n      <td>Amsterdam, North Holland, Netherlands</td>\n      <td>Central, quiet, safe, clean and beautiful.</td>\n      <td>52.38761</td>\n      <td>4.89188</td>\n      <td>https://a0.muscache.com/pictures/02c2da9d-660e...</td>\n      <td>Private room in houseboat</td>\n      <td>...</td>\n      <td>t</td>\n      <td>219</td>\n      <td>99.0</td>\n      <td>10.0</td>\n      <td>10.0</td>\n      <td>10.0</td>\n      <td>10.0</td>\n      <td>10.0</td>\n      <td>10.0</td>\n      <td>1.98</td>\n    </tr>\n    <tr>\n      <th>4</th>\n      <td>28871</td>\n      <td>Comfortable double room</td>\n      <td>&lt;b&gt;The space&lt;/b&gt;&lt;br /&gt;In a monumental house ri...</td>\n      <td>$75.00</td>\n      <td>Amsterdam, North Holland, Netherlands</td>\n      <td>Flower market , Leidseplein , Rembrantsplein</td>\n      <td>52.36610</td>\n      <td>4.88953</td>\n      <td>https://a0.muscache.com/pictures/160889/362340...</td>\n      <td>Private room in apartment</td>\n      <td>...</td>\n      <td>t</td>\n      <td>336</td>\n      <td>97.0</td>\n      <td>10.0</td>\n      <td>10.0</td>\n      <td>10.0</td>\n      <td>10.0</td>\n      <td>10.0</td>\n      <td>10.0</td>\n      <td>2.63</td>\n    </tr>\n  </tbody>\n</table>\n<p>5 rows × 40 columns</p>\n</div>"
          },
          "metadata": {},
          "execution_count": 20
        }
      ]
    },
    {
      "cell_type": "code",
      "metadata": {
        "colab": {
          "base_uri": "https://localhost:8080/",
          "height": 1000
        },
        "id": "MFvFRY-teg__",
        "outputId": "b29a1729-bc90-4f7f-ff1c-de69271282ac"
      },
      "source": [
        "cols_to_rename = {'neighbourhood': 'neighborhood', \r\n",
        "                'neighborhood_overview': 'neighborhood_overview', \r\n",
        "                'bathrooms_text': 'bathrooms', \r\n",
        "                'beds': 'num_of_beds', \r\n",
        "                'minimum_nights': 'min_nights', \r\n",
        "                'maximum_nights': 'max_nights', \r\n",
        "                'has_availability': 'available', \r\n",
        "                'number_of_reviews': 'num_of_reviews', \r\n",
        "                'review_scores_rating': 'rating_score', \r\n",
        "                'review_scores_accuracy': 'accuracy', \r\n",
        "                'review_scores_cleanliness': 'cleanliness', \r\n",
        "                'review_scores_checkin': 'check_in_score', \r\n",
        "                'review_scores_communication': 'communication', \r\n",
        "                'review_scores_location': 'location_score', \r\n",
        "                'review_scores_value': 'value_score'}\r\n",
        "\r\n",
        "amsterdam_cleaned = amsterdam_cleaned.rename(columns=cols_to_rename)\r\n",
        "\r\n",
        "amsterdam_cleaned.head()"
      ],
      "execution_count": 21,
      "outputs": [
        {
          "output_type": "execute_result",
          "data": {
            "text/plain": [
              "      id                                               name  \\\n",
              "0   2818           Quiet Garden View Room & Super Fast WiFi   \n",
              "1  20168       Studio with private bathroom in the centre 1   \n",
              "2  25428    Lovely, spacious 1 bed apt in Center(with lift)   \n",
              "3  27886  Romantic, stylish B&B houseboat in canal district   \n",
              "4  28871                            Comfortable double room   \n",
              "\n",
              "                                         description    price  \\\n",
              "0  Quiet Garden View Room & Super Fast WiFi<br />...   $59.00   \n",
              "1  17th century Dutch townhouse in the heart of t...  $129.00   \n",
              "2  Lovely apt in Centre ( lift & fireplace) near ...  $125.00   \n",
              "3  Stylish and romantic houseboat on fantastic hi...  $125.00   \n",
              "4  <b>The space</b><br />In a monumental house ri...   $75.00   \n",
              "\n",
              "                            neighborhood  \\\n",
              "0  Amsterdam, North Holland, Netherlands   \n",
              "1  Amsterdam, North Holland, Netherlands   \n",
              "2                                    NaN   \n",
              "3  Amsterdam, North Holland, Netherlands   \n",
              "4  Amsterdam, North Holland, Netherlands   \n",
              "\n",
              "                               neighborhood_overview  latitude  longitude  \\\n",
              "0  Indische Buurt (\"Indies Neighborhood\") is a ne...  52.36575    4.94142   \n",
              "1  Located just in between famous central canals....  52.36509    4.89354   \n",
              "2                                                NaN  52.37297    4.88339   \n",
              "3         Central, quiet, safe, clean and beautiful.  52.38761    4.89188   \n",
              "4       Flower market , Leidseplein , Rembrantsplein  52.36610    4.88953   \n",
              "\n",
              "                                         picture_url  \\\n",
              "0  https://a0.muscache.com/pictures/10272854/8dcc...   \n",
              "1  https://a0.muscache.com/pictures/69979628/fd6a...   \n",
              "2  https://a0.muscache.com/pictures/138431/7079a9...   \n",
              "3  https://a0.muscache.com/pictures/02c2da9d-660e...   \n",
              "4  https://a0.muscache.com/pictures/160889/362340...   \n",
              "\n",
              "               property_type  ... host_identity_verified num_of_reviews  \\\n",
              "0  Private room in apartment  ...                      t            278   \n",
              "1  Private room in townhouse  ...                      t            339   \n",
              "2           Entire apartment  ...                      f              5   \n",
              "3  Private room in houseboat  ...                      t            219   \n",
              "4  Private room in apartment  ...                      t            336   \n",
              "\n",
              "   rating_score  accuracy  cleanliness check_in_score  communication  \\\n",
              "0          98.0      10.0         10.0           10.0           10.0   \n",
              "1          89.0      10.0         10.0           10.0           10.0   \n",
              "2         100.0      10.0         10.0           10.0           10.0   \n",
              "3          99.0      10.0         10.0           10.0           10.0   \n",
              "4          97.0      10.0         10.0           10.0           10.0   \n",
              "\n",
              "   location_score value_score  reviews_per_month  \n",
              "0             9.0        10.0               1.92  \n",
              "1            10.0         9.0               2.54  \n",
              "2            10.0        10.0               0.13  \n",
              "3            10.0        10.0               1.98  \n",
              "4            10.0        10.0               2.63  \n",
              "\n",
              "[5 rows x 40 columns]"
            ],
            "text/html": "<div>\n<style scoped>\n    .dataframe tbody tr th:only-of-type {\n        vertical-align: middle;\n    }\n\n    .dataframe tbody tr th {\n        vertical-align: top;\n    }\n\n    .dataframe thead th {\n        text-align: right;\n    }\n</style>\n<table border=\"1\" class=\"dataframe\">\n  <thead>\n    <tr style=\"text-align: right;\">\n      <th></th>\n      <th>id</th>\n      <th>name</th>\n      <th>description</th>\n      <th>price</th>\n      <th>neighborhood</th>\n      <th>neighborhood_overview</th>\n      <th>latitude</th>\n      <th>longitude</th>\n      <th>picture_url</th>\n      <th>property_type</th>\n      <th>...</th>\n      <th>host_identity_verified</th>\n      <th>num_of_reviews</th>\n      <th>rating_score</th>\n      <th>accuracy</th>\n      <th>cleanliness</th>\n      <th>check_in_score</th>\n      <th>communication</th>\n      <th>location_score</th>\n      <th>value_score</th>\n      <th>reviews_per_month</th>\n    </tr>\n  </thead>\n  <tbody>\n    <tr>\n      <th>0</th>\n      <td>2818</td>\n      <td>Quiet Garden View Room &amp; Super Fast WiFi</td>\n      <td>Quiet Garden View Room &amp; Super Fast WiFi&lt;br /&gt;...</td>\n      <td>$59.00</td>\n      <td>Amsterdam, North Holland, Netherlands</td>\n      <td>Indische Buurt (\"Indies Neighborhood\") is a ne...</td>\n      <td>52.36575</td>\n      <td>4.94142</td>\n      <td>https://a0.muscache.com/pictures/10272854/8dcc...</td>\n      <td>Private room in apartment</td>\n      <td>...</td>\n      <td>t</td>\n      <td>278</td>\n      <td>98.0</td>\n      <td>10.0</td>\n      <td>10.0</td>\n      <td>10.0</td>\n      <td>10.0</td>\n      <td>9.0</td>\n      <td>10.0</td>\n      <td>1.92</td>\n    </tr>\n    <tr>\n      <th>1</th>\n      <td>20168</td>\n      <td>Studio with private bathroom in the centre 1</td>\n      <td>17th century Dutch townhouse in the heart of t...</td>\n      <td>$129.00</td>\n      <td>Amsterdam, North Holland, Netherlands</td>\n      <td>Located just in between famous central canals....</td>\n      <td>52.36509</td>\n      <td>4.89354</td>\n      <td>https://a0.muscache.com/pictures/69979628/fd6a...</td>\n      <td>Private room in townhouse</td>\n      <td>...</td>\n      <td>t</td>\n      <td>339</td>\n      <td>89.0</td>\n      <td>10.0</td>\n      <td>10.0</td>\n      <td>10.0</td>\n      <td>10.0</td>\n      <td>10.0</td>\n      <td>9.0</td>\n      <td>2.54</td>\n    </tr>\n    <tr>\n      <th>2</th>\n      <td>25428</td>\n      <td>Lovely, spacious 1 bed apt in Center(with lift)</td>\n      <td>Lovely apt in Centre ( lift &amp; fireplace) near ...</td>\n      <td>$125.00</td>\n      <td>NaN</td>\n      <td>NaN</td>\n      <td>52.37297</td>\n      <td>4.88339</td>\n      <td>https://a0.muscache.com/pictures/138431/7079a9...</td>\n      <td>Entire apartment</td>\n      <td>...</td>\n      <td>f</td>\n      <td>5</td>\n      <td>100.0</td>\n      <td>10.0</td>\n      <td>10.0</td>\n      <td>10.0</td>\n      <td>10.0</td>\n      <td>10.0</td>\n      <td>10.0</td>\n      <td>0.13</td>\n    </tr>\n    <tr>\n      <th>3</th>\n      <td>27886</td>\n      <td>Romantic, stylish B&amp;B houseboat in canal district</td>\n      <td>Stylish and romantic houseboat on fantastic hi...</td>\n      <td>$125.00</td>\n      <td>Amsterdam, North Holland, Netherlands</td>\n      <td>Central, quiet, safe, clean and beautiful.</td>\n      <td>52.38761</td>\n      <td>4.89188</td>\n      <td>https://a0.muscache.com/pictures/02c2da9d-660e...</td>\n      <td>Private room in houseboat</td>\n      <td>...</td>\n      <td>t</td>\n      <td>219</td>\n      <td>99.0</td>\n      <td>10.0</td>\n      <td>10.0</td>\n      <td>10.0</td>\n      <td>10.0</td>\n      <td>10.0</td>\n      <td>10.0</td>\n      <td>1.98</td>\n    </tr>\n    <tr>\n      <th>4</th>\n      <td>28871</td>\n      <td>Comfortable double room</td>\n      <td>&lt;b&gt;The space&lt;/b&gt;&lt;br /&gt;In a monumental house ri...</td>\n      <td>$75.00</td>\n      <td>Amsterdam, North Holland, Netherlands</td>\n      <td>Flower market , Leidseplein , Rembrantsplein</td>\n      <td>52.36610</td>\n      <td>4.88953</td>\n      <td>https://a0.muscache.com/pictures/160889/362340...</td>\n      <td>Private room in apartment</td>\n      <td>...</td>\n      <td>t</td>\n      <td>336</td>\n      <td>97.0</td>\n      <td>10.0</td>\n      <td>10.0</td>\n      <td>10.0</td>\n      <td>10.0</td>\n      <td>10.0</td>\n      <td>10.0</td>\n      <td>2.63</td>\n    </tr>\n  </tbody>\n</table>\n<p>5 rows × 40 columns</p>\n</div>"
          },
          "metadata": {},
          "execution_count": 21
        }
      ]
    },
    {
      "cell_type": "code",
      "metadata": {
        "colab": {
          "base_uri": "https://localhost:8080/",
          "height": 550
        },
        "id": "EKpYbQCyeg9f",
        "outputId": "3d776ab0-31ca-4a1d-bb67-46bf32a1bdbd"
      },
      "source": [
        "amsterdam_cleaned.describe(exclude=[np.number])"
      ],
      "execution_count": 22,
      "outputs": [
        {
          "output_type": "execute_result",
          "data": {
            "text/plain": [
              "             name                                        description    price  \\\n",
              "count       18258                                              17994    18291   \n",
              "unique      17863                                              17793      502   \n",
              "top     Amsterdam  Hotel Jansen is a new Short Stay hotel in Amst...  $150.00   \n",
              "freq           31                                                 13      980   \n",
              "\n",
              "                                 neighborhood  \\\n",
              "count                                   12023   \n",
              "unique                                     67   \n",
              "top     Amsterdam, Noord-Holland, Netherlands   \n",
              "freq                                     9534   \n",
              "\n",
              "                                    neighborhood_overview  \\\n",
              "count                                               12023   \n",
              "unique                                              10954   \n",
              "top     Oud West is close to the city-centre and close...   \n",
              "freq                                                   36   \n",
              "\n",
              "                                              picture_url     property_type  \\\n",
              "count                                               18291             18291   \n",
              "unique                                              18108                65   \n",
              "top     https://a0.muscache.com/pictures/26bd7fc8-eab0...  Entire apartment   \n",
              "freq                                                    4             11393   \n",
              "\n",
              "              room_type bathrooms                    amenities available  \\\n",
              "count             18291     18269                        18291     18291   \n",
              "unique                4        27                        16744         2   \n",
              "top     Entire home/apt    1 bath  [\"Long term stays allowed\"]         t   \n",
              "freq              14283     10677                           45     17889   \n",
              "\n",
              "       instant_bookable host_response_time host_response_rate  \\\n",
              "count             18291               3937               3937   \n",
              "unique                2                  4                 50   \n",
              "top                   f     within an hour               100%   \n",
              "freq              13914               1800               2794   \n",
              "\n",
              "       host_acceptance_rate host_is_superhost host_has_profile_pic  \\\n",
              "count                  7796             18228                18228   \n",
              "unique                   89                 2                    2   \n",
              "top                    100%                 f                    t   \n",
              "freq                   3638             15849                18199   \n",
              "\n",
              "       host_identity_verified  \n",
              "count                   18228  \n",
              "unique                      2  \n",
              "top                         t  \n",
              "freq                    11918  "
            ],
            "text/html": "<div>\n<style scoped>\n    .dataframe tbody tr th:only-of-type {\n        vertical-align: middle;\n    }\n\n    .dataframe tbody tr th {\n        vertical-align: top;\n    }\n\n    .dataframe thead th {\n        text-align: right;\n    }\n</style>\n<table border=\"1\" class=\"dataframe\">\n  <thead>\n    <tr style=\"text-align: right;\">\n      <th></th>\n      <th>name</th>\n      <th>description</th>\n      <th>price</th>\n      <th>neighborhood</th>\n      <th>neighborhood_overview</th>\n      <th>picture_url</th>\n      <th>property_type</th>\n      <th>room_type</th>\n      <th>bathrooms</th>\n      <th>amenities</th>\n      <th>available</th>\n      <th>instant_bookable</th>\n      <th>host_response_time</th>\n      <th>host_response_rate</th>\n      <th>host_acceptance_rate</th>\n      <th>host_is_superhost</th>\n      <th>host_has_profile_pic</th>\n      <th>host_identity_verified</th>\n    </tr>\n  </thead>\n  <tbody>\n    <tr>\n      <th>count</th>\n      <td>18258</td>\n      <td>17994</td>\n      <td>18291</td>\n      <td>12023</td>\n      <td>12023</td>\n      <td>18291</td>\n      <td>18291</td>\n      <td>18291</td>\n      <td>18269</td>\n      <td>18291</td>\n      <td>18291</td>\n      <td>18291</td>\n      <td>3937</td>\n      <td>3937</td>\n      <td>7796</td>\n      <td>18228</td>\n      <td>18228</td>\n      <td>18228</td>\n    </tr>\n    <tr>\n      <th>unique</th>\n      <td>17863</td>\n      <td>17793</td>\n      <td>502</td>\n      <td>67</td>\n      <td>10954</td>\n      <td>18108</td>\n      <td>65</td>\n      <td>4</td>\n      <td>27</td>\n      <td>16744</td>\n      <td>2</td>\n      <td>2</td>\n      <td>4</td>\n      <td>50</td>\n      <td>89</td>\n      <td>2</td>\n      <td>2</td>\n      <td>2</td>\n    </tr>\n    <tr>\n      <th>top</th>\n      <td>Amsterdam</td>\n      <td>Hotel Jansen is a new Short Stay hotel in Amst...</td>\n      <td>$150.00</td>\n      <td>Amsterdam, Noord-Holland, Netherlands</td>\n      <td>Oud West is close to the city-centre and close...</td>\n      <td>https://a0.muscache.com/pictures/26bd7fc8-eab0...</td>\n      <td>Entire apartment</td>\n      <td>Entire home/apt</td>\n      <td>1 bath</td>\n      <td>[\"Long term stays allowed\"]</td>\n      <td>t</td>\n      <td>f</td>\n      <td>within an hour</td>\n      <td>100%</td>\n      <td>100%</td>\n      <td>f</td>\n      <td>t</td>\n      <td>t</td>\n    </tr>\n    <tr>\n      <th>freq</th>\n      <td>31</td>\n      <td>13</td>\n      <td>980</td>\n      <td>9534</td>\n      <td>36</td>\n      <td>4</td>\n      <td>11393</td>\n      <td>14283</td>\n      <td>10677</td>\n      <td>45</td>\n      <td>17889</td>\n      <td>13914</td>\n      <td>1800</td>\n      <td>2794</td>\n      <td>3638</td>\n      <td>15849</td>\n      <td>18199</td>\n      <td>11918</td>\n    </tr>\n  </tbody>\n</table>\n</div>"
          },
          "metadata": {},
          "execution_count": 22
        }
      ]
    },
    {
      "cell_type": "code",
      "metadata": {
        "colab": {
          "base_uri": "https://localhost:8080/",
          "height": 317
        },
        "id": "HKhSC_AYeg68",
        "outputId": "7a87bb86-9f2c-40e6-8653-7e5bdb9913e9"
      },
      "source": [
        "bool_cols = ['available', 'instant_bookable', 'host_is_superhost', \r\n",
        "             'host_has_profile_pic', 'host_identity_verified']\r\n",
        "\r\n",
        "amsterdam_cleaned[bool_cols] = amsterdam_cleaned[bool_cols].replace({'t': 1, 'f': 0})\r\n",
        "\r\n",
        "amsterdam_cleaned.describe()"
      ],
      "execution_count": 23,
      "outputs": [
        {
          "output_type": "execute_result",
          "data": {
            "text/plain": [
              "                 id      latitude     longitude  accommodates      bedrooms  \\\n",
              "count  1.829100e+04  18291.000000  18291.000000  18291.000000  17294.000000   \n",
              "mean   2.064229e+07     52.365478      4.889504      2.837570      1.534405   \n",
              "std    1.285836e+07      0.016559      0.035833      1.282434      0.959211   \n",
              "min    2.818000e+03     52.289270      4.755940      0.000000      1.000000   \n",
              "25%    1.010732e+07     52.355100      4.863920      2.000000      1.000000   \n",
              "50%    1.911168e+07     52.364790      4.887010      2.000000      1.000000   \n",
              "75%    3.039472e+07     52.375370      4.909230      4.000000      2.000000   \n",
              "max    4.807786e+07     52.425120      5.027690     16.000000     50.000000   \n",
              "\n",
              "        num_of_beds    min_nights    max_nights     available  \\\n",
              "count  18186.000000  18291.000000  18291.000000  18291.000000   \n",
              "mean       1.765259      3.727407    611.559565      0.978022   \n",
              "std        1.444775     16.331468    545.438112      0.146616   \n",
              "min        0.000000      1.000000      1.000000      0.000000   \n",
              "25%        1.000000      2.000000     21.000000      1.000000   \n",
              "50%        1.000000      2.000000   1125.000000      1.000000   \n",
              "75%        2.000000      3.000000   1125.000000      1.000000   \n",
              "max       35.000000   1001.000000  11250.000000      1.000000   \n",
              "\n",
              "       availability_30  ...  host_identity_verified  num_of_reviews  \\\n",
              "count     18291.000000  ...            18228.000000    18291.000000   \n",
              "mean          5.950467  ...                0.653829       24.125198   \n",
              "std          11.195839  ...                0.475761       54.560889   \n",
              "min           0.000000  ...                0.000000        0.000000   \n",
              "25%           0.000000  ...                0.000000        2.000000   \n",
              "50%           0.000000  ...                1.000000        8.000000   \n",
              "75%           0.000000  ...                1.000000       22.000000   \n",
              "max          30.000000  ...                1.000000      859.000000   \n",
              "\n",
              "       rating_score      accuracy   cleanliness  check_in_score  \\\n",
              "count  15659.000000  15649.000000  15649.000000    15641.000000   \n",
              "mean      95.107287      9.690907      9.457857        9.750911   \n",
              "std        7.035600      0.728646      0.914985        0.659262   \n",
              "min       20.000000      2.000000      2.000000        2.000000   \n",
              "25%       93.000000     10.000000      9.000000       10.000000   \n",
              "50%       97.000000     10.000000     10.000000       10.000000   \n",
              "75%      100.000000     10.000000     10.000000       10.000000   \n",
              "max      100.000000     10.000000     10.000000       10.000000   \n",
              "\n",
              "       communication  location_score   value_score  reviews_per_month  \n",
              "count   15648.000000    15643.000000  15643.000000       15902.000000  \n",
              "mean        9.794926        9.513456      9.202071           0.591448  \n",
              "std         0.636390        0.705519      0.832326           1.065085  \n",
              "min         2.000000        2.000000      2.000000           0.010000  \n",
              "25%        10.000000        9.000000      9.000000           0.130000  \n",
              "50%        10.000000       10.000000      9.000000           0.280000  \n",
              "75%        10.000000       10.000000     10.000000           0.580000  \n",
              "max        10.000000       10.000000     10.000000          35.530000  \n",
              "\n",
              "[8 rows x 27 columns]"
            ],
            "text/html": "<div>\n<style scoped>\n    .dataframe tbody tr th:only-of-type {\n        vertical-align: middle;\n    }\n\n    .dataframe tbody tr th {\n        vertical-align: top;\n    }\n\n    .dataframe thead th {\n        text-align: right;\n    }\n</style>\n<table border=\"1\" class=\"dataframe\">\n  <thead>\n    <tr style=\"text-align: right;\">\n      <th></th>\n      <th>id</th>\n      <th>latitude</th>\n      <th>longitude</th>\n      <th>accommodates</th>\n      <th>bedrooms</th>\n      <th>num_of_beds</th>\n      <th>min_nights</th>\n      <th>max_nights</th>\n      <th>available</th>\n      <th>availability_30</th>\n      <th>...</th>\n      <th>host_identity_verified</th>\n      <th>num_of_reviews</th>\n      <th>rating_score</th>\n      <th>accuracy</th>\n      <th>cleanliness</th>\n      <th>check_in_score</th>\n      <th>communication</th>\n      <th>location_score</th>\n      <th>value_score</th>\n      <th>reviews_per_month</th>\n    </tr>\n  </thead>\n  <tbody>\n    <tr>\n      <th>count</th>\n      <td>1.829100e+04</td>\n      <td>18291.000000</td>\n      <td>18291.000000</td>\n      <td>18291.000000</td>\n      <td>17294.000000</td>\n      <td>18186.000000</td>\n      <td>18291.000000</td>\n      <td>18291.000000</td>\n      <td>18291.000000</td>\n      <td>18291.000000</td>\n      <td>...</td>\n      <td>18228.000000</td>\n      <td>18291.000000</td>\n      <td>15659.000000</td>\n      <td>15649.000000</td>\n      <td>15649.000000</td>\n      <td>15641.000000</td>\n      <td>15648.000000</td>\n      <td>15643.000000</td>\n      <td>15643.000000</td>\n      <td>15902.000000</td>\n    </tr>\n    <tr>\n      <th>mean</th>\n      <td>2.064229e+07</td>\n      <td>52.365478</td>\n      <td>4.889504</td>\n      <td>2.837570</td>\n      <td>1.534405</td>\n      <td>1.765259</td>\n      <td>3.727407</td>\n      <td>611.559565</td>\n      <td>0.978022</td>\n      <td>5.950467</td>\n      <td>...</td>\n      <td>0.653829</td>\n      <td>24.125198</td>\n      <td>95.107287</td>\n      <td>9.690907</td>\n      <td>9.457857</td>\n      <td>9.750911</td>\n      <td>9.794926</td>\n      <td>9.513456</td>\n      <td>9.202071</td>\n      <td>0.591448</td>\n    </tr>\n    <tr>\n      <th>std</th>\n      <td>1.285836e+07</td>\n      <td>0.016559</td>\n      <td>0.035833</td>\n      <td>1.282434</td>\n      <td>0.959211</td>\n      <td>1.444775</td>\n      <td>16.331468</td>\n      <td>545.438112</td>\n      <td>0.146616</td>\n      <td>11.195839</td>\n      <td>...</td>\n      <td>0.475761</td>\n      <td>54.560889</td>\n      <td>7.035600</td>\n      <td>0.728646</td>\n      <td>0.914985</td>\n      <td>0.659262</td>\n      <td>0.636390</td>\n      <td>0.705519</td>\n      <td>0.832326</td>\n      <td>1.065085</td>\n    </tr>\n    <tr>\n      <th>min</th>\n      <td>2.818000e+03</td>\n      <td>52.289270</td>\n      <td>4.755940</td>\n      <td>0.000000</td>\n      <td>1.000000</td>\n      <td>0.000000</td>\n      <td>1.000000</td>\n      <td>1.000000</td>\n      <td>0.000000</td>\n      <td>0.000000</td>\n      <td>...</td>\n      <td>0.000000</td>\n      <td>0.000000</td>\n      <td>20.000000</td>\n      <td>2.000000</td>\n      <td>2.000000</td>\n      <td>2.000000</td>\n      <td>2.000000</td>\n      <td>2.000000</td>\n      <td>2.000000</td>\n      <td>0.010000</td>\n    </tr>\n    <tr>\n      <th>25%</th>\n      <td>1.010732e+07</td>\n      <td>52.355100</td>\n      <td>4.863920</td>\n      <td>2.000000</td>\n      <td>1.000000</td>\n      <td>1.000000</td>\n      <td>2.000000</td>\n      <td>21.000000</td>\n      <td>1.000000</td>\n      <td>0.000000</td>\n      <td>...</td>\n      <td>0.000000</td>\n      <td>2.000000</td>\n      <td>93.000000</td>\n      <td>10.000000</td>\n      <td>9.000000</td>\n      <td>10.000000</td>\n      <td>10.000000</td>\n      <td>9.000000</td>\n      <td>9.000000</td>\n      <td>0.130000</td>\n    </tr>\n    <tr>\n      <th>50%</th>\n      <td>1.911168e+07</td>\n      <td>52.364790</td>\n      <td>4.887010</td>\n      <td>2.000000</td>\n      <td>1.000000</td>\n      <td>1.000000</td>\n      <td>2.000000</td>\n      <td>1125.000000</td>\n      <td>1.000000</td>\n      <td>0.000000</td>\n      <td>...</td>\n      <td>1.000000</td>\n      <td>8.000000</td>\n      <td>97.000000</td>\n      <td>10.000000</td>\n      <td>10.000000</td>\n      <td>10.000000</td>\n      <td>10.000000</td>\n      <td>10.000000</td>\n      <td>9.000000</td>\n      <td>0.280000</td>\n    </tr>\n    <tr>\n      <th>75%</th>\n      <td>3.039472e+07</td>\n      <td>52.375370</td>\n      <td>4.909230</td>\n      <td>4.000000</td>\n      <td>2.000000</td>\n      <td>2.000000</td>\n      <td>3.000000</td>\n      <td>1125.000000</td>\n      <td>1.000000</td>\n      <td>0.000000</td>\n      <td>...</td>\n      <td>1.000000</td>\n      <td>22.000000</td>\n      <td>100.000000</td>\n      <td>10.000000</td>\n      <td>10.000000</td>\n      <td>10.000000</td>\n      <td>10.000000</td>\n      <td>10.000000</td>\n      <td>10.000000</td>\n      <td>0.580000</td>\n    </tr>\n    <tr>\n      <th>max</th>\n      <td>4.807786e+07</td>\n      <td>52.425120</td>\n      <td>5.027690</td>\n      <td>16.000000</td>\n      <td>50.000000</td>\n      <td>35.000000</td>\n      <td>1001.000000</td>\n      <td>11250.000000</td>\n      <td>1.000000</td>\n      <td>30.000000</td>\n      <td>...</td>\n      <td>1.000000</td>\n      <td>859.000000</td>\n      <td>100.000000</td>\n      <td>10.000000</td>\n      <td>10.000000</td>\n      <td>10.000000</td>\n      <td>10.000000</td>\n      <td>10.000000</td>\n      <td>10.000000</td>\n      <td>35.530000</td>\n    </tr>\n  </tbody>\n</table>\n<p>8 rows × 27 columns</p>\n</div>"
          },
          "metadata": {},
          "execution_count": 23
        }
      ]
    },
    {
      "cell_type": "code",
      "metadata": {
        "colab": {
          "base_uri": "https://localhost:8080/"
        },
        "id": "vDwMKm3seg4S",
        "outputId": "e526ecde-406d-4854-a0b3-d03181e4c39c"
      },
      "source": [
        "amsterdam_cleaned.dtypes"
      ],
      "execution_count": 24,
      "outputs": [
        {
          "output_type": "execute_result",
          "data": {
            "text/plain": [
              "id                          int64\n",
              "name                       object\n",
              "description                object\n",
              "price                      object\n",
              "neighborhood               object\n",
              "neighborhood_overview      object\n",
              "latitude                  float64\n",
              "longitude                 float64\n",
              "picture_url                object\n",
              "property_type              object\n",
              "room_type                  object\n",
              "bathrooms                  object\n",
              "accommodates                int64\n",
              "bedrooms                  float64\n",
              "num_of_beds               float64\n",
              "amenities                  object\n",
              "min_nights                  int64\n",
              "max_nights                  int64\n",
              "available                   int64\n",
              "availability_30             int64\n",
              "availability_60             int64\n",
              "availability_90             int64\n",
              "availability_365            int64\n",
              "instant_bookable            int64\n",
              "host_listings_count       float64\n",
              "host_response_time         object\n",
              "host_response_rate         object\n",
              "host_acceptance_rate       object\n",
              "host_is_superhost         float64\n",
              "host_has_profile_pic      float64\n",
              "host_identity_verified    float64\n",
              "num_of_reviews              int64\n",
              "rating_score              float64\n",
              "accuracy                  float64\n",
              "cleanliness               float64\n",
              "check_in_score            float64\n",
              "communication             float64\n",
              "location_score            float64\n",
              "value_score               float64\n",
              "reviews_per_month         float64\n",
              "dtype: object"
            ]
          },
          "metadata": {},
          "execution_count": 24
        }
      ]
    },
    {
      "cell_type": "code",
      "metadata": {
        "colab": {
          "base_uri": "https://localhost:8080/"
        },
        "id": "z0m2M-Ur9OAD",
        "outputId": "125cb6c6-2e7b-4eab-9124-8969e4237b3b"
      },
      "source": [
        "amsterdam_cleaned.price.value_counts()"
      ],
      "execution_count": 25,
      "outputs": [
        {
          "output_type": "execute_result",
          "data": {
            "text/plain": [
              "$150.00    980\n",
              "$100.00    839\n",
              "$120.00    661\n",
              "$200.00    597\n",
              "$125.00    517\n",
              "          ... \n",
              "$458.00      1\n",
              "$351.00      1\n",
              "$361.00      1\n",
              "$402.00      1\n",
              "$366.00      1\n",
              "Name: price, Length: 502, dtype: int64"
            ]
          },
          "metadata": {},
          "execution_count": 25
        }
      ]
    },
    {
      "cell_type": "code",
      "metadata": {
        "colab": {
          "base_uri": "https://localhost:8080/"
        },
        "id": "JrASyOVh9N80",
        "outputId": "aa4b56ff-e7be-4827-b035-cb8b6438381a"
      },
      "source": [
        "amsterdam_cleaned['price'] = amsterdam_cleaned['price'].map(lambda x: x.lstrip('$').replace(',', '')).astype(float)\r\n",
        "\r\n",
        "amsterdam_cleaned['price'].values"
      ],
      "execution_count": 26,
      "outputs": [
        {
          "output_type": "execute_result",
          "data": {
            "text/plain": [
              "array([ 59., 129., 125., ..., 250.,  55., 112.])"
            ]
          },
          "metadata": {},
          "execution_count": 26
        }
      ]
    },
    {
      "cell_type": "code",
      "metadata": {
        "colab": {
          "base_uri": "https://localhost:8080/"
        },
        "id": "MtroypVV9N5_",
        "outputId": "b6b0e52b-86ab-44b3-80f3-c66b942df3c9"
      },
      "source": [
        "amsterdam_cleaned.dtypes"
      ],
      "execution_count": 27,
      "outputs": [
        {
          "output_type": "execute_result",
          "data": {
            "text/plain": [
              "id                          int64\n",
              "name                       object\n",
              "description                object\n",
              "price                     float64\n",
              "neighborhood               object\n",
              "neighborhood_overview      object\n",
              "latitude                  float64\n",
              "longitude                 float64\n",
              "picture_url                object\n",
              "property_type              object\n",
              "room_type                  object\n",
              "bathrooms                  object\n",
              "accommodates                int64\n",
              "bedrooms                  float64\n",
              "num_of_beds               float64\n",
              "amenities                  object\n",
              "min_nights                  int64\n",
              "max_nights                  int64\n",
              "available                   int64\n",
              "availability_30             int64\n",
              "availability_60             int64\n",
              "availability_90             int64\n",
              "availability_365            int64\n",
              "instant_bookable            int64\n",
              "host_listings_count       float64\n",
              "host_response_time         object\n",
              "host_response_rate         object\n",
              "host_acceptance_rate       object\n",
              "host_is_superhost         float64\n",
              "host_has_profile_pic      float64\n",
              "host_identity_verified    float64\n",
              "num_of_reviews              int64\n",
              "rating_score              float64\n",
              "accuracy                  float64\n",
              "cleanliness               float64\n",
              "check_in_score            float64\n",
              "communication             float64\n",
              "location_score            float64\n",
              "value_score               float64\n",
              "reviews_per_month         float64\n",
              "dtype: object"
            ]
          },
          "metadata": {},
          "execution_count": 27
        }
      ]
    },
    {
      "cell_type": "code",
      "metadata": {
        "colab": {
          "base_uri": "https://localhost:8080/"
        },
        "id": "6h9z3w0T9N3b",
        "outputId": "c79f0f09-7bb3-4ffa-ade1-34b254ce5511"
      },
      "source": [
        "amsterdam_cleaned['bathrooms'].value_counts()"
      ],
      "execution_count": 28,
      "outputs": [
        {
          "output_type": "execute_result",
          "data": {
            "text/plain": [
              "1 bath               10677\n",
              "1.5 baths             3473\n",
              "1 shared bath         1210\n",
              "1 private bath        1043\n",
              "2 baths                802\n",
              "1.5 shared baths       466\n",
              "2.5 baths              239\n",
              "3 baths                 96\n",
              "3.5 baths               43\n",
              "Half-bath               39\n",
              "0 baths                 38\n",
              "Shared half-bath        32\n",
              "2 shared baths          29\n",
              "0 shared baths          15\n",
              "4 baths                 13\n",
              "Private half-bath       11\n",
              "3 shared baths          10\n",
              "3.5 shared baths         8\n",
              "2.5 shared baths         6\n",
              "4 shared baths           5\n",
              "4.5 baths                4\n",
              "8 baths                  3\n",
              "6 baths                  2\n",
              "5 baths                  2\n",
              "5.5 baths                1\n",
              "13 baths                 1\n",
              "12 baths                 1\n",
              "Name: bathrooms, dtype: int64"
            ]
          },
          "metadata": {},
          "execution_count": 28
        }
      ]
    },
    {
      "cell_type": "code",
      "metadata": {
        "colab": {
          "base_uri": "https://localhost:8080/",
          "height": 359
        },
        "id": "Kpameouy9N0G",
        "outputId": "54849bcd-a8ce-4c71-c1b1-2865c8d15367"
      },
      "source": [
        "# amsterdam_cleaned['shared_bath'] = amsterdam_cleaned['bathrooms'].copy()\r\n",
        "\r\n",
        "# amsterdam_cleaned['shared_bath'] = [0] * len(amsterdam_cleaned)\r\n",
        "\r\n",
        "# for i in range(len(amsterdam_cleaned.bathrooms)):\r\n",
        "#     for val in amsterdam_cleaned.bathrooms[i]:\r\n",
        "#         if 'shared' in val.lower():\r\n",
        "#             amsterdam_cleaned.shared_bath[val] = 1\r\n",
        "#         else:\r\n",
        "#             amsterdam_cleaned.shared_bath[val] = 0\r\n",
        "\r\n",
        "# amsterdam_cleaned['shared_bath'] = [1 if 'shared' in val == True else 0 for val in amsterdam_cleaned['bathrooms']]\r\n",
        "\r\n",
        "# amsterdam_cleaned['shared_bath'][amsterdam_cleaned['bathrooms'].str.contains('shared')] = 1\r\n",
        "# amsterdam_cleaned['shared_bath'][amsterdam_cleaned['bathrooms'].str.contains('Shared')] = 1\r\n",
        "\r\n",
        "# amsterdam_cleaned['shared_bath'] = amsterdam_cleaned['bathrooms'].map(lambda x: 't' if x.str.contains('shared') or x.str.contains('Shared') else 'f')\r\n",
        "\r\n",
        "# if amsterdam_cleaned['shared_bath'].str.contains('shared').any() or amsterdam_cleaned['shared_bath'].str.contains('Shared').any():\r\n",
        "#     amsterdam_cleaned['shared_bath'] = True\r\n",
        "\r\n",
        "# else:\r\n",
        "#     amsterdam_cleaned['shared_bath'] = False\r\n",
        "\r\n",
        "amsterdam_cleaned['shared_bath'] = amsterdam_cleaned['bathrooms'].str.lower().str.contains('shared')\r\n",
        "\r\n",
        "amsterdam_cleaned[['bathrooms', 'shared_bath']].sample(10)"
      ],
      "execution_count": 29,
      "outputs": [
        {
          "output_type": "execute_result",
          "data": {
            "text/plain": [
              "           bathrooms shared_bath\n",
              "1725          1 bath       False\n",
              "40            1 bath       False\n",
              "13198  1 shared bath        True\n",
              "5233          1 bath       False\n",
              "17595         1 bath       False\n",
              "6962   1 shared bath        True\n",
              "12033         1 bath       False\n",
              "6860          1 bath       False\n",
              "3515          1 bath       False\n",
              "14856        2 baths       False"
            ],
            "text/html": "<div>\n<style scoped>\n    .dataframe tbody tr th:only-of-type {\n        vertical-align: middle;\n    }\n\n    .dataframe tbody tr th {\n        vertical-align: top;\n    }\n\n    .dataframe thead th {\n        text-align: right;\n    }\n</style>\n<table border=\"1\" class=\"dataframe\">\n  <thead>\n    <tr style=\"text-align: right;\">\n      <th></th>\n      <th>bathrooms</th>\n      <th>shared_bath</th>\n    </tr>\n  </thead>\n  <tbody>\n    <tr>\n      <th>1725</th>\n      <td>1 bath</td>\n      <td>False</td>\n    </tr>\n    <tr>\n      <th>40</th>\n      <td>1 bath</td>\n      <td>False</td>\n    </tr>\n    <tr>\n      <th>13198</th>\n      <td>1 shared bath</td>\n      <td>True</td>\n    </tr>\n    <tr>\n      <th>5233</th>\n      <td>1 bath</td>\n      <td>False</td>\n    </tr>\n    <tr>\n      <th>17595</th>\n      <td>1 bath</td>\n      <td>False</td>\n    </tr>\n    <tr>\n      <th>6962</th>\n      <td>1 shared bath</td>\n      <td>True</td>\n    </tr>\n    <tr>\n      <th>12033</th>\n      <td>1 bath</td>\n      <td>False</td>\n    </tr>\n    <tr>\n      <th>6860</th>\n      <td>1 bath</td>\n      <td>False</td>\n    </tr>\n    <tr>\n      <th>3515</th>\n      <td>1 bath</td>\n      <td>False</td>\n    </tr>\n    <tr>\n      <th>14856</th>\n      <td>2 baths</td>\n      <td>False</td>\n    </tr>\n  </tbody>\n</table>\n</div>"
          },
          "metadata": {},
          "execution_count": 29
        }
      ]
    },
    {
      "cell_type": "code",
      "metadata": {
        "colab": {
          "base_uri": "https://localhost:8080/",
          "height": 359
        },
        "id": "_Elxb2k09Nxr",
        "outputId": "64c9f9ff-ebb8-4e94-ade1-89b90f82d40a"
      },
      "source": [
        "amsterdam_cleaned['shared_bath'] = amsterdam_cleaned['shared_bath'].map(lambda x: 1 if x == True else 0)\r\n",
        "\r\n",
        "amsterdam_cleaned[['bathrooms', 'shared_bath']].sample(10)"
      ],
      "execution_count": 30,
      "outputs": [
        {
          "output_type": "execute_result",
          "data": {
            "text/plain": [
              "            bathrooms  shared_bath\n",
              "7635           1 bath            0\n",
              "10920  1 private bath            0\n",
              "1609           1 bath            0\n",
              "8616    1 shared bath            1\n",
              "13393   1 shared bath            1\n",
              "10378          1 bath            0\n",
              "10124          1 bath            0\n",
              "5691           1 bath            0\n",
              "12547          1 bath            0\n",
              "4614           1 bath            0"
            ],
            "text/html": "<div>\n<style scoped>\n    .dataframe tbody tr th:only-of-type {\n        vertical-align: middle;\n    }\n\n    .dataframe tbody tr th {\n        vertical-align: top;\n    }\n\n    .dataframe thead th {\n        text-align: right;\n    }\n</style>\n<table border=\"1\" class=\"dataframe\">\n  <thead>\n    <tr style=\"text-align: right;\">\n      <th></th>\n      <th>bathrooms</th>\n      <th>shared_bath</th>\n    </tr>\n  </thead>\n  <tbody>\n    <tr>\n      <th>7635</th>\n      <td>1 bath</td>\n      <td>0</td>\n    </tr>\n    <tr>\n      <th>10920</th>\n      <td>1 private bath</td>\n      <td>0</td>\n    </tr>\n    <tr>\n      <th>1609</th>\n      <td>1 bath</td>\n      <td>0</td>\n    </tr>\n    <tr>\n      <th>8616</th>\n      <td>1 shared bath</td>\n      <td>1</td>\n    </tr>\n    <tr>\n      <th>13393</th>\n      <td>1 shared bath</td>\n      <td>1</td>\n    </tr>\n    <tr>\n      <th>10378</th>\n      <td>1 bath</td>\n      <td>0</td>\n    </tr>\n    <tr>\n      <th>10124</th>\n      <td>1 bath</td>\n      <td>0</td>\n    </tr>\n    <tr>\n      <th>5691</th>\n      <td>1 bath</td>\n      <td>0</td>\n    </tr>\n    <tr>\n      <th>12547</th>\n      <td>1 bath</td>\n      <td>0</td>\n    </tr>\n    <tr>\n      <th>4614</th>\n      <td>1 bath</td>\n      <td>0</td>\n    </tr>\n  </tbody>\n</table>\n</div>"
          },
          "metadata": {},
          "execution_count": 30
        }
      ]
    },
    {
      "cell_type": "code",
      "metadata": {
        "colab": {
          "base_uri": "https://localhost:8080/",
          "height": 359
        },
        "id": "E7K0aXL49Nuk",
        "outputId": "7f30bde7-767d-4e18-9b88-b185fab86fcd"
      },
      "source": [
        "amsterdam_cleaned['bathrooms'] = amsterdam_cleaned['bathrooms'].str.replace('half-bath', '0.5', case=False)\r\n",
        "\r\n",
        "amsterdam_cleaned[['bathrooms', 'shared_bath']].sample(10)"
      ],
      "execution_count": 31,
      "outputs": [
        {
          "output_type": "execute_result",
          "data": {
            "text/plain": [
              "              bathrooms  shared_bath\n",
              "17614         1.5 baths            0\n",
              "16886  1.5 shared baths            1\n",
              "16619            1 bath            0\n",
              "4517             1 bath            0\n",
              "81               1 bath            0\n",
              "13441     1 shared bath            1\n",
              "16775            1 bath            0\n",
              "5261             1 bath            0\n",
              "11439            1 bath            0\n",
              "15564         1.5 baths            0"
            ],
            "text/html": "<div>\n<style scoped>\n    .dataframe tbody tr th:only-of-type {\n        vertical-align: middle;\n    }\n\n    .dataframe tbody tr th {\n        vertical-align: top;\n    }\n\n    .dataframe thead th {\n        text-align: right;\n    }\n</style>\n<table border=\"1\" class=\"dataframe\">\n  <thead>\n    <tr style=\"text-align: right;\">\n      <th></th>\n      <th>bathrooms</th>\n      <th>shared_bath</th>\n    </tr>\n  </thead>\n  <tbody>\n    <tr>\n      <th>17614</th>\n      <td>1.5 baths</td>\n      <td>0</td>\n    </tr>\n    <tr>\n      <th>16886</th>\n      <td>1.5 shared baths</td>\n      <td>1</td>\n    </tr>\n    <tr>\n      <th>16619</th>\n      <td>1 bath</td>\n      <td>0</td>\n    </tr>\n    <tr>\n      <th>4517</th>\n      <td>1 bath</td>\n      <td>0</td>\n    </tr>\n    <tr>\n      <th>81</th>\n      <td>1 bath</td>\n      <td>0</td>\n    </tr>\n    <tr>\n      <th>13441</th>\n      <td>1 shared bath</td>\n      <td>1</td>\n    </tr>\n    <tr>\n      <th>16775</th>\n      <td>1 bath</td>\n      <td>0</td>\n    </tr>\n    <tr>\n      <th>5261</th>\n      <td>1 bath</td>\n      <td>0</td>\n    </tr>\n    <tr>\n      <th>11439</th>\n      <td>1 bath</td>\n      <td>0</td>\n    </tr>\n    <tr>\n      <th>15564</th>\n      <td>1.5 baths</td>\n      <td>0</td>\n    </tr>\n  </tbody>\n</table>\n</div>"
          },
          "metadata": {},
          "execution_count": 31
        }
      ]
    },
    {
      "cell_type": "code",
      "metadata": {
        "colab": {
          "base_uri": "https://localhost:8080/"
        },
        "id": "C-RX6wqU9Nrh",
        "outputId": "f8e3a59a-d2aa-4e2f-da30-210c23fb7b1c"
      },
      "source": [
        "amsterdam_cleaned['bathrooms'].value_counts()"
      ],
      "execution_count": 32,
      "outputs": [
        {
          "output_type": "execute_result",
          "data": {
            "text/plain": [
              "1 bath              10677\n",
              "1.5 baths            3473\n",
              "1 shared bath        1210\n",
              "1 private bath       1043\n",
              "2 baths               802\n",
              "1.5 shared baths      466\n",
              "2.5 baths             239\n",
              "3 baths                96\n",
              "3.5 baths              43\n",
              "0.5                    39\n",
              "0 baths                38\n",
              "Shared 0.5             32\n",
              "2 shared baths         29\n",
              "0 shared baths         15\n",
              "4 baths                13\n",
              "Private 0.5            11\n",
              "3 shared baths         10\n",
              "3.5 shared baths        8\n",
              "2.5 shared baths        6\n",
              "4 shared baths          5\n",
              "4.5 baths               4\n",
              "8 baths                 3\n",
              "6 baths                 2\n",
              "5 baths                 2\n",
              "5.5 baths               1\n",
              "12 baths                1\n",
              "13 baths                1\n",
              "Name: bathrooms, dtype: int64"
            ]
          },
          "metadata": {},
          "execution_count": 32
        }
      ]
    },
    {
      "cell_type": "code",
      "metadata": {
        "colab": {
          "base_uri": "https://localhost:8080/"
        },
        "id": "PeqmMV4xiwPv",
        "outputId": "842a147c-9456-4a72-c6de-621ea97d83e6"
      },
      "source": [
        "amsterdam_cleaned['bathrooms'] = amsterdam_cleaned['bathrooms'].str.extract('(\\d*\\.?\\d*)')\r\n",
        "\r\n",
        "amsterdam_cleaned['bathrooms'].value_counts()"
      ],
      "execution_count": 33,
      "outputs": [
        {
          "output_type": "execute_result",
          "data": {
            "text/plain": [
              "1      12930\n",
              "1.5     3939\n",
              "2        831\n",
              "2.5      245\n",
              "3        106\n",
              "0         53\n",
              "3.5       51\n",
              "          43\n",
              "0.5       39\n",
              "4         18\n",
              "4.5        4\n",
              "8          3\n",
              "6          2\n",
              "5          2\n",
              "13         1\n",
              "12         1\n",
              "5.5        1\n",
              "Name: bathrooms, dtype: int64"
            ]
          },
          "metadata": {},
          "execution_count": 33
        }
      ]
    },
    {
      "cell_type": "code",
      "metadata": {
        "colab": {
          "base_uri": "https://localhost:8080/"
        },
        "id": "kuJplVaBiwM3",
        "outputId": "9c8b670c-1f26-477b-958c-0c3228cd50b2"
      },
      "source": [
        "amsterdam_cleaned['bathrooms'].dtype"
      ],
      "execution_count": 34,
      "outputs": [
        {
          "output_type": "execute_result",
          "data": {
            "text/plain": [
              "dtype('O')"
            ]
          },
          "metadata": {},
          "execution_count": 34
        }
      ]
    },
    {
      "cell_type": "code",
      "metadata": {
        "colab": {
          "base_uri": "https://localhost:8080/"
        },
        "id": "Uk5Bq_b3iwKK",
        "outputId": "3ed1044a-5915-4903-da70-e0bcdc4243ea"
      },
      "source": [
        "amsterdam_cleaned['bathrooms'].unique()"
      ],
      "execution_count": 35,
      "outputs": [
        {
          "output_type": "execute_result",
          "data": {
            "text/plain": [
              "array(['1.5', '1', '2', nan, '3', '0', '', '2.5', '3.5', '4', '0.5', '6',\n",
              "       '8', '5', '4.5', '5.5', '13', '12'], dtype=object)"
            ]
          },
          "metadata": {},
          "execution_count": 35
        }
      ]
    },
    {
      "cell_type": "code",
      "metadata": {
        "id": "-iMBmSJciwHO"
      },
      "source": [
        "amsterdam_cleaned['bathrooms'].replace(['', np.nan], 0, inplace=True)\n",
        "\n",
        "amsterdam_cleaned['bathrooms'] = amsterdam_cleaned['bathrooms'].astype(float)\n",
        "\n",
        "# amsterdam_cleaned['bathrooms'] = np.round()\n",
        "amsterdam_cleaned.style.format({'bathrooms': '{:.1f}'})\n",
        "\n",
        "amsterdam_cleaned['bathrooms'].unique()"
      ],
      "execution_count": 49,
      "outputs": [
        {
          "output_type": "execute_result",
          "data": {
            "text/plain": [
              "array([ 1.5,  1. ,  2. ,  0. ,  3. ,  2.5,  3.5,  4. ,  0.5,  6. ,  8. ,\n",
              "        5. ,  4.5,  5.5, 13. , 12. ])"
            ]
          },
          "metadata": {},
          "execution_count": 49
        }
      ]
    },
    {
      "cell_type": "code",
      "execution_count": 50,
      "metadata": {},
      "outputs": [
        {
          "output_type": "execute_result",
          "data": {
            "text/plain": [
              "id                          int64\n",
              "name                       object\n",
              "description                object\n",
              "price                     float64\n",
              "neighborhood               object\n",
              "neighborhood_overview      object\n",
              "latitude                  float64\n",
              "longitude                 float64\n",
              "picture_url                object\n",
              "property_type              object\n",
              "room_type                  object\n",
              "bathrooms                 float64\n",
              "accommodates                int64\n",
              "bedrooms                  float64\n",
              "num_of_beds               float64\n",
              "amenities                  object\n",
              "min_nights                  int64\n",
              "max_nights                  int64\n",
              "available                   int64\n",
              "availability_30             int64\n",
              "availability_60             int64\n",
              "availability_90             int64\n",
              "availability_365            int64\n",
              "instant_bookable            int64\n",
              "host_listings_count       float64\n",
              "host_response_time         object\n",
              "host_response_rate         object\n",
              "host_acceptance_rate       object\n",
              "host_is_superhost         float64\n",
              "host_has_profile_pic      float64\n",
              "host_identity_verified    float64\n",
              "num_of_reviews              int64\n",
              "rating_score              float64\n",
              "accuracy                  float64\n",
              "cleanliness               float64\n",
              "check_in_score            float64\n",
              "communication             float64\n",
              "location_score            float64\n",
              "value_score               float64\n",
              "reviews_per_month         float64\n",
              "shared_bath                 int64\n",
              "dtype: object"
            ]
          },
          "metadata": {},
          "execution_count": 50
        }
      ],
      "source": [
        "amsterdam_cleaned.dtypes"
      ]
    },
    {
      "cell_type": "code",
      "execution_count": 52,
      "metadata": {},
      "outputs": [
        {
          "output_type": "execute_result",
          "data": {
            "text/plain": [
              "       host_response_time host_response_rate host_acceptance_rate\n",
              "15283                 NaN                NaN                  NaN\n",
              "18025      within an hour               100%                 100%\n",
              "14887                 NaN                NaN                  NaN\n",
              "3415                  NaN                NaN                  NaN\n",
              "13541                 NaN                NaN                  NaN\n",
              "15506                 NaN                NaN                  NaN\n",
              "520          within a day                50%                  50%\n",
              "11495                 NaN                NaN                 100%\n",
              "14567                 NaN                NaN                 100%\n",
              "17742  a few days or more                41%                  98%"
            ],
            "text/html": "<div>\n<style scoped>\n    .dataframe tbody tr th:only-of-type {\n        vertical-align: middle;\n    }\n\n    .dataframe tbody tr th {\n        vertical-align: top;\n    }\n\n    .dataframe thead th {\n        text-align: right;\n    }\n</style>\n<table border=\"1\" class=\"dataframe\">\n  <thead>\n    <tr style=\"text-align: right;\">\n      <th></th>\n      <th>host_response_time</th>\n      <th>host_response_rate</th>\n      <th>host_acceptance_rate</th>\n    </tr>\n  </thead>\n  <tbody>\n    <tr>\n      <th>15283</th>\n      <td>NaN</td>\n      <td>NaN</td>\n      <td>NaN</td>\n    </tr>\n    <tr>\n      <th>18025</th>\n      <td>within an hour</td>\n      <td>100%</td>\n      <td>100%</td>\n    </tr>\n    <tr>\n      <th>14887</th>\n      <td>NaN</td>\n      <td>NaN</td>\n      <td>NaN</td>\n    </tr>\n    <tr>\n      <th>3415</th>\n      <td>NaN</td>\n      <td>NaN</td>\n      <td>NaN</td>\n    </tr>\n    <tr>\n      <th>13541</th>\n      <td>NaN</td>\n      <td>NaN</td>\n      <td>NaN</td>\n    </tr>\n    <tr>\n      <th>15506</th>\n      <td>NaN</td>\n      <td>NaN</td>\n      <td>NaN</td>\n    </tr>\n    <tr>\n      <th>520</th>\n      <td>within a day</td>\n      <td>50%</td>\n      <td>50%</td>\n    </tr>\n    <tr>\n      <th>11495</th>\n      <td>NaN</td>\n      <td>NaN</td>\n      <td>100%</td>\n    </tr>\n    <tr>\n      <th>14567</th>\n      <td>NaN</td>\n      <td>NaN</td>\n      <td>100%</td>\n    </tr>\n    <tr>\n      <th>17742</th>\n      <td>a few days or more</td>\n      <td>41%</td>\n      <td>98%</td>\n    </tr>\n  </tbody>\n</table>\n</div>"
          },
          "metadata": {},
          "execution_count": 52
        }
      ],
      "source": [
        "amsterdam_cleaned[['host_response_time', 'host_response_rate', 'host_acceptance_rate']].sample(10)"
      ]
    },
    {
      "cell_type": "code",
      "execution_count": 56,
      "metadata": {},
      "outputs": [
        {
          "output_type": "execute_result",
          "data": {
            "text/plain": [
              "       host_response_time host_response_rate host_acceptance_rate\n",
              "13706                 NaN                NaN                  NaN\n",
              "1634                  NaN                NaN                  NaN\n",
              "2987                  NaN                NaN                  NaN\n",
              "17199      within an hour                86%                 100%\n",
              "1957                  NaN                NaN                  NaN\n",
              "15162  within a few hours               100%                  40%\n",
              "1679       within an hour               100%                 100%\n",
              "12380      within an hour               100%                  97%\n",
              "16535  within a few hours               100%                 100%\n",
              "17411                 NaN                NaN                  85%"
            ],
            "text/html": "<div>\n<style scoped>\n    .dataframe tbody tr th:only-of-type {\n        vertical-align: middle;\n    }\n\n    .dataframe tbody tr th {\n        vertical-align: top;\n    }\n\n    .dataframe thead th {\n        text-align: right;\n    }\n</style>\n<table border=\"1\" class=\"dataframe\">\n  <thead>\n    <tr style=\"text-align: right;\">\n      <th></th>\n      <th>host_response_time</th>\n      <th>host_response_rate</th>\n      <th>host_acceptance_rate</th>\n    </tr>\n  </thead>\n  <tbody>\n    <tr>\n      <th>13706</th>\n      <td>NaN</td>\n      <td>NaN</td>\n      <td>NaN</td>\n    </tr>\n    <tr>\n      <th>1634</th>\n      <td>NaN</td>\n      <td>NaN</td>\n      <td>NaN</td>\n    </tr>\n    <tr>\n      <th>2987</th>\n      <td>NaN</td>\n      <td>NaN</td>\n      <td>NaN</td>\n    </tr>\n    <tr>\n      <th>17199</th>\n      <td>within an hour</td>\n      <td>86%</td>\n      <td>100%</td>\n    </tr>\n    <tr>\n      <th>1957</th>\n      <td>NaN</td>\n      <td>NaN</td>\n      <td>NaN</td>\n    </tr>\n    <tr>\n      <th>15162</th>\n      <td>within a few hours</td>\n      <td>100%</td>\n      <td>40%</td>\n    </tr>\n    <tr>\n      <th>1679</th>\n      <td>within an hour</td>\n      <td>100%</td>\n      <td>100%</td>\n    </tr>\n    <tr>\n      <th>12380</th>\n      <td>within an hour</td>\n      <td>100%</td>\n      <td>97%</td>\n    </tr>\n    <tr>\n      <th>16535</th>\n      <td>within a few hours</td>\n      <td>100%</td>\n      <td>100%</td>\n    </tr>\n    <tr>\n      <th>17411</th>\n      <td>NaN</td>\n      <td>NaN</td>\n      <td>85%</td>\n    </tr>\n  </tbody>\n</table>\n</div>"
          },
          "metadata": {},
          "execution_count": 56
        }
      ],
      "source": [
        "amsterdam_cleaned[['host_response_time', 'host_response_rate', 'host_acceptance_rate']].replace('NaN', 0, inplace=True)\n",
        "\n",
        "amsterdam_cleaned[['host_response_time', 'host_response_rate', 'host_acceptance_rate']].sample(10)\n",
        "\n"
      ]
    },
    {
      "cell_type": "code",
      "execution_count": null,
      "metadata": {},
      "outputs": [],
      "source": []
    },
    {
      "cell_type": "code",
      "execution_count": null,
      "metadata": {},
      "outputs": [],
      "source": []
    },
    {
      "cell_type": "code",
      "execution_count": null,
      "metadata": {},
      "outputs": [],
      "source": []
    },
    {
      "cell_type": "code",
      "execution_count": null,
      "metadata": {},
      "outputs": [],
      "source": []
    },
    {
      "cell_type": "code",
      "execution_count": null,
      "metadata": {},
      "outputs": [],
      "source": []
    },
    {
      "cell_type": "code",
      "execution_count": null,
      "metadata": {},
      "outputs": [],
      "source": []
    },
    {
      "cell_type": "code",
      "execution_count": null,
      "metadata": {},
      "outputs": [],
      "source": []
    },
    {
      "cell_type": "markdown",
      "metadata": {
        "id": "DMsDfraeehzq"
      },
      "source": [
        "## Amsterdam Detailed Reviews\r\n",
        "\r\n",
        "[Download the dataset here](https://github.com/BW-TT-158-AirBnB/Data-Science-Unit3-and-Unit4/blob/main/data/Amsterdam_detailed_reviews.csv)"
      ]
    },
    {
      "cell_type": "code",
      "metadata": {
        "id": "CXd8SlLm-UfS",
        "colab": {
          "base_uri": "https://localhost:8080/",
          "height": 546
        },
        "outputId": "e4b6d036-1b23-49d2-f375-984c5e943688"
      },
      "source": [
        "amsterdam_detailed_rev = pd.read_csv('Amsterdam_detailed_reviews.csv', compression='gzip',\r\n",
        "                                  error_bad_lines=False)\r\n",
        "\r\n",
        "print(amsterdam_detailed_rev.shape)\r\n",
        "amsterdam_detailed_rev.head(10)"
      ],
      "execution_count": 66,
      "outputs": [
        {
          "output_type": "stream",
          "text": [
            "(441274, 6)\n"
          ],
          "name": "stdout"
        },
        {
          "output_type": "execute_result",
          "data": {
            "text/html": [
              "<div>\n",
              "<style scoped>\n",
              "    .dataframe tbody tr th:only-of-type {\n",
              "        vertical-align: middle;\n",
              "    }\n",
              "\n",
              "    .dataframe tbody tr th {\n",
              "        vertical-align: top;\n",
              "    }\n",
              "\n",
              "    .dataframe thead th {\n",
              "        text-align: right;\n",
              "    }\n",
              "</style>\n",
              "<table border=\"1\" class=\"dataframe\">\n",
              "  <thead>\n",
              "    <tr style=\"text-align: right;\">\n",
              "      <th></th>\n",
              "      <th>listing_id</th>\n",
              "      <th>id</th>\n",
              "      <th>date</th>\n",
              "      <th>reviewer_id</th>\n",
              "      <th>reviewer_name</th>\n",
              "      <th>comments</th>\n",
              "    </tr>\n",
              "  </thead>\n",
              "  <tbody>\n",
              "    <tr>\n",
              "      <th>0</th>\n",
              "      <td>2818</td>\n",
              "      <td>1191</td>\n",
              "      <td>2009-03-30</td>\n",
              "      <td>10952</td>\n",
              "      <td>Lam</td>\n",
              "      <td>Daniel is really cool. The place was nice and clean. Very quiet neighborhood. He had maps and a lonely planet guide book in the room for you to use. I didnt have any trouble finding the place from Central Station. I would defintely come back! Thanks!</td>\n",
              "    </tr>\n",
              "    <tr>\n",
              "      <th>1</th>\n",
              "      <td>2818</td>\n",
              "      <td>1771</td>\n",
              "      <td>2009-04-24</td>\n",
              "      <td>12798</td>\n",
              "      <td>Alice</td>\n",
              "      <td>Daniel is the most amazing host! His place is extremely clean, and he provides everything you could possibly want (comfy bed, guidebooks &amp; maps, mini-fridge, towels, even toiletries). He is extremely friendly and helpful, and will go out of his way to help you if needed, or just let you come and...</td>\n",
              "    </tr>\n",
              "    <tr>\n",
              "      <th>2</th>\n",
              "      <td>2818</td>\n",
              "      <td>1989</td>\n",
              "      <td>2009-05-03</td>\n",
              "      <td>11869</td>\n",
              "      <td>Natalja</td>\n",
              "      <td>We had such a great time in Amsterdam. Daniel is an excellent host! Very friendly and everytime helpful. The room was cozy, comfortable, and VERY clean. Maps, towels, mini-fridge, coffee (very tasty) and tea supplies were provided. Bathroom with all the bathroom requires. Good location - next to...</td>\n",
              "    </tr>\n",
              "    <tr>\n",
              "      <th>3</th>\n",
              "      <td>2818</td>\n",
              "      <td>2797</td>\n",
              "      <td>2009-05-18</td>\n",
              "      <td>14064</td>\n",
              "      <td>Enrique</td>\n",
              "      <td>Very professional operation. Room is very clean and comfortable. Location is close to tram or bus which take you to most of attractions. A great and helpful host who want to ensure you enjoy your stay.</td>\n",
              "    </tr>\n",
              "    <tr>\n",
              "      <th>4</th>\n",
              "      <td>2818</td>\n",
              "      <td>3151</td>\n",
              "      <td>2009-05-25</td>\n",
              "      <td>17977</td>\n",
              "      <td>Sherwin</td>\n",
              "      <td>Daniel is highly recommended.  He provided all necessities (and actually went way beyond what's expected of a great host). His place is very clean.  It is also convenient to buses and trams which will take you around the city in minutes.  You will truly feel like a local here.</td>\n",
              "    </tr>\n",
              "    <tr>\n",
              "      <th>5</th>\n",
              "      <td>2818</td>\n",
              "      <td>4748</td>\n",
              "      <td>2009-06-29</td>\n",
              "      <td>20192</td>\n",
              "      <td>Jie</td>\n",
              "      <td>Daniel was a great host! He made everything so easy for us! The room was super clean and well equipped, the beds were very comfortable! Daniel also gave us good advices,  tips and tools (maps, compass, umbrella..) for getting around the city. The place is located in the quiet neighbourhood so we...</td>\n",
              "    </tr>\n",
              "    <tr>\n",
              "      <th>6</th>\n",
              "      <td>2818</td>\n",
              "      <td>5202</td>\n",
              "      <td>2009-07-07</td>\n",
              "      <td>23055</td>\n",
              "      <td>Vanessa</td>\n",
              "      <td>Daniele is an amazing host! He provided everything that was needed to make our stay comfortable and easy! The rooms were clean and cozy; and he took the time to show us how to get around Amsterdam via public transportation or riding around on bicycles. You truly do feel like a local when staying...</td>\n",
              "    </tr>\n",
              "    <tr>\n",
              "      <th>7</th>\n",
              "      <td>2818</td>\n",
              "      <td>9131</td>\n",
              "      <td>2009-09-06</td>\n",
              "      <td>26343</td>\n",
              "      <td>Katja</td>\n",
              "      <td>You can´t have a nicer start in Amsterdam. Daniel is such a great and welcoming host. The room was really light and charming, so well decorated. Daniel has a great sense of hospitality, he even helped with our luggage and gave us maps and a travelguide. He´s very open minded and helpful. We had ...</td>\n",
              "    </tr>\n",
              "    <tr>\n",
              "      <th>8</th>\n",
              "      <td>2818</td>\n",
              "      <td>12103</td>\n",
              "      <td>2009-10-01</td>\n",
              "      <td>40999</td>\n",
              "      <td>Marie-Eve</td>\n",
              "      <td>Daniel was a fantastic host. His place is calm and clean, and he provided so much information on how to enjoy the amazing city of Amsterdam. Should I return to the city, his place will be my first choice!</td>\n",
              "    </tr>\n",
              "    <tr>\n",
              "      <th>9</th>\n",
              "      <td>2818</td>\n",
              "      <td>16196</td>\n",
              "      <td>2009-11-04</td>\n",
              "      <td>38623</td>\n",
              "      <td>Graham</td>\n",
              "      <td>Daniel was great. He couldn.t do enough for us. He has gone to a lot of trouble and added every little touch to his apartment. He can speak 5 languages so that should not be a problem for anyone.\\r\\nThe accomation had everything we needed and was very convienient to the bus and tram.</td>\n",
              "    </tr>\n",
              "  </tbody>\n",
              "</table>\n",
              "</div>"
            ],
            "text/plain": [
              "   listing_id  ...                                                                                                                                                                                                                                                                                                     comments\n",
              "0        2818  ...                                                   Daniel is really cool. The place was nice and clean. Very quiet neighborhood. He had maps and a lonely planet guide book in the room for you to use. I didnt have any trouble finding the place from Central Station. I would defintely come back! Thanks!\n",
              "1        2818  ...  Daniel is the most amazing host! His place is extremely clean, and he provides everything you could possibly want (comfy bed, guidebooks & maps, mini-fridge, towels, even toiletries). He is extremely friendly and helpful, and will go out of his way to help you if needed, or just let you come and...\n",
              "2        2818  ...  We had such a great time in Amsterdam. Daniel is an excellent host! Very friendly and everytime helpful. The room was cozy, comfortable, and VERY clean. Maps, towels, mini-fridge, coffee (very tasty) and tea supplies were provided. Bathroom with all the bathroom requires. Good location - next to...\n",
              "3        2818  ...                                                                                                  Very professional operation. Room is very clean and comfortable. Location is close to tram or bus which take you to most of attractions. A great and helpful host who want to ensure you enjoy your stay.  \n",
              "4        2818  ...                        Daniel is highly recommended.  He provided all necessities (and actually went way beyond what's expected of a great host). His place is very clean.  It is also convenient to buses and trams which will take you around the city in minutes.  You will truly feel like a local here.\n",
              "5        2818  ...  Daniel was a great host! He made everything so easy for us! The room was super clean and well equipped, the beds were very comfortable! Daniel also gave us good advices,  tips and tools (maps, compass, umbrella..) for getting around the city. The place is located in the quiet neighbourhood so we...\n",
              "6        2818  ...  Daniele is an amazing host! He provided everything that was needed to make our stay comfortable and easy! The rooms were clean and cozy; and he took the time to show us how to get around Amsterdam via public transportation or riding around on bicycles. You truly do feel like a local when staying...\n",
              "7        2818  ...  You can´t have a nicer start in Amsterdam. Daniel is such a great and welcoming host. The room was really light and charming, so well decorated. Daniel has a great sense of hospitality, he even helped with our luggage and gave us maps and a travelguide. He´s very open minded and helpful. We had ...\n",
              "8        2818  ...                                                                                                Daniel was a fantastic host. His place is calm and clean, and he provided so much information on how to enjoy the amazing city of Amsterdam. Should I return to the city, his place will be my first choice! \n",
              "9        2818  ...                 Daniel was great. He couldn.t do enough for us. He has gone to a lot of trouble and added every little touch to his apartment. He can speak 5 languages so that should not be a problem for anyone.\\r\\nThe accomation had everything we needed and was very convienient to the bus and tram.\n",
              "\n",
              "[10 rows x 6 columns]"
            ]
          },
          "metadata": {
            "tags": []
          },
          "execution_count": 66
        }
      ]
    },
    {
      "cell_type": "code",
      "metadata": {
        "id": "qoFPCU45-UaU"
      },
      "source": [
        "raw_amsterdam_listing = 'https://raw.githubusercontent.com/BW-TT-158-AirBnB/Data-Science-Unit3-and-Unit4/main/data/Amsterdam_listings.csv'\r\n",
        "\r\n",
        "amsterdam_listing = pd.read_csv(raw_amsterdam_listing)\r\n",
        "\r\n",
        "print(amsterdam_listing.shape)\r\n",
        "amsterdam_listing.head()"
      ],
      "execution_count": null,
      "outputs": []
    },
    {
      "cell_type": "code",
      "metadata": {
        "id": "6vx7538e-UYF"
      },
      "source": [
        ""
      ],
      "execution_count": null,
      "outputs": []
    },
    {
      "cell_type": "code",
      "metadata": {
        "id": "caUAmO1N-UV0"
      },
      "source": [
        ""
      ],
      "execution_count": null,
      "outputs": []
    },
    {
      "cell_type": "code",
      "metadata": {
        "id": "e5tFCdK7-UTc"
      },
      "source": [
        ""
      ],
      "execution_count": null,
      "outputs": []
    },
    {
      "cell_type": "code",
      "metadata": {
        "id": "_NJHnIDo-URP"
      },
      "source": [
        ""
      ],
      "execution_count": null,
      "outputs": []
    },
    {
      "cell_type": "code",
      "metadata": {
        "id": "JhUgmj_N-UO9"
      },
      "source": [
        ""
      ],
      "execution_count": null,
      "outputs": []
    },
    {
      "cell_type": "code",
      "metadata": {
        "id": "oatktePI-UNY"
      },
      "source": [
        ""
      ],
      "execution_count": null,
      "outputs": []
    },
    {
      "cell_type": "code",
      "metadata": {
        "id": "E1i0QXmO-UKu"
      },
      "source": [
        ""
      ],
      "execution_count": null,
      "outputs": []
    },
    {
      "cell_type": "code",
      "metadata": {
        "id": "N2jJ075p-UIt"
      },
      "source": [
        ""
      ],
      "execution_count": null,
      "outputs": []
    },
    {
      "cell_type": "code",
      "metadata": {
        "id": "R2HxlrBx-UGd"
      },
      "source": [
        ""
      ],
      "execution_count": null,
      "outputs": []
    },
    {
      "cell_type": "code",
      "metadata": {
        "id": "ETV49Gie-UDv"
      },
      "source": [
        ""
      ],
      "execution_count": null,
      "outputs": []
    },
    {
      "cell_type": "code",
      "metadata": {
        "id": "bqURiAWQJC1_"
      },
      "source": [
        "wa_detailed_reviews = pd.read_csv('Seattle_WA_reviews_zip.csv', compression='gzip',\r\n",
        "                                  error_bad_lines=False)\r\n",
        "\r\n",
        "print(wa_detailed_reviews.shape)\r\n",
        "wa_detailed_reviews.head(10)"
      ],
      "execution_count": null,
      "outputs": []
    },
    {
      "cell_type": "code",
      "metadata": {
        "id": "1NymyO7kKHT4"
      },
      "source": [
        "wa_detailed_listings = pd.read_csv('Seattle_WA_detailed_listings.csv', compression='gzip',\r\n",
        "                                  error_bad_lines=False)\r\n",
        "\r\n",
        "print(wa_detailed_listings.shape)\r\n",
        "wa_detailed_listings.head(10)"
      ],
      "execution_count": null,
      "outputs": []
    },
    {
      "cell_type": "code",
      "metadata": {
        "id": "_0vdSaolQVRe"
      },
      "source": [
        "wa_detailed_listings.columns"
      ],
      "execution_count": null,
      "outputs": []
    },
    {
      "cell_type": "code",
      "metadata": {
        "id": "iXnlc9Oj9XID"
      },
      "source": [
        ""
      ],
      "execution_count": null,
      "outputs": []
    }
  ]
}