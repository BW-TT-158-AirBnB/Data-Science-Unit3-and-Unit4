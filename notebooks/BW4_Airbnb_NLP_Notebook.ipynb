{
  "nbformat": 4,
  "nbformat_minor": 0,
  "metadata": {
    "colab": {
      "name": "BW4_Airbnb_NLP_Notebook.ipynb",
      "provenance": [],
      "authorship_tag": "ABX9TyMOtbWKspKhvWNkCqtsKPQI"
    },
    "kernelspec": {
      "name": "python3",
      "display_name": "Python 3"
    }
  },
  "cells": [
    {
      "cell_type": "markdown",
      "metadata": {
        "id": "8jQ1b2V6torl"
      },
      "source": [
        "# AirBnB Build Week Project\r\n",
        "\r\n",
        "## NLP Preprocessing\r\n",
        "\r\n",
        "### [My EDA Notebook](https://github.com/BW-TT-158-AirBnB/Data-Science-Unit3-and-Unit4/blob/main/notebooks/BW4_AirBnB_EDA.ipynb)\r\n",
        "\r\n",
        "### [My Model Notebook](https://github.com/BW-TT-158-AirBnB/Data-Science-Unit3-and-Unit4/blob/main/notebooks/BW4_Airbnb_Model_Notebook.ipynb)\r\n"
      ]
    },
    {
      "cell_type": "markdown",
      "metadata": {
        "id": "UDP1BNgJ8ol-"
      },
      "source": [
        "## Links to Raw Cleaned Files\r\n",
        "\r\n",
        "[Text Features Only](https://raw.githubusercontent.com/BW-TT-158-AirBnB/Data-Science-Unit3-and-Unit4/main/data/amsterdam_txt_feat.csv)\r\n",
        "\r\n",
        "[Numeric Features Only](https://raw.githubusercontent.com/BW-TT-158-AirBnB/Data-Science-Unit3-and-Unit4/main/data/amsterdam_num_feat.csv)\r\n",
        "\r\n",
        "[Boolean Features Only](https://raw.githubusercontent.com/BW-TT-158-AirBnB/Data-Science-Unit3-and-Unit4/main/data/amsterdam_bool_feat.csv)\r\n",
        "\r\n",
        "[Cleaned with All Features](https://raw.githubusercontent.com/BW-TT-158-AirBnB/Data-Science-Unit3-and-Unit4/main/data/amsterdam_list_clean.csv)"
      ]
    },
    {
      "cell_type": "markdown",
      "metadata": {
        "id": "6dg2HdiPuLb8"
      },
      "source": [
        "## Imports"
      ]
    },
    {
      "cell_type": "code",
      "metadata": {
        "colab": {
          "base_uri": "https://localhost:8080/"
        },
        "id": "B1mVudw5wwO4",
        "outputId": "664fcdf2-a8ea-404d-dbdb-157a33abd805"
      },
      "source": [
        "# Install the squarify plotting library\r\n",
        "!pip install squarify"
      ],
      "execution_count": 1,
      "outputs": [
        {
          "output_type": "stream",
          "text": [
            "Requirement already satisfied: squarify in /usr/local/lib/python3.7/dist-packages (0.4.3)\n"
          ],
          "name": "stdout"
        }
      ]
    },
    {
      "cell_type": "code",
      "metadata": {
        "id": "bQuMT0yHnbRN"
      },
      "source": [
        "# Standard\r\n",
        "import pandas as pd\r\n",
        "import numpy as np\r\n",
        "\r\n",
        "# Set DataFrame display options\r\n",
        "pd.set_option('display.max_rows', 100)\r\n",
        "pd.set_option('display.max_colwidth', 300)\r\n",
        "\r\n",
        "# NLP\r\n",
        "import re\r\n",
        "from nltk.stem import PorterStemmer\r\n",
        "import spacy\r\n",
        "from spacy.tokenizer import Tokenizer\r\n",
        "from collections import Counter\r\n",
        "\r\n",
        "# Plotting\r\n",
        "import squarify\r\n",
        "import matplotlib.pyplot as plt\r\n",
        "import seaborn as sns"
      ],
      "execution_count": 2,
      "outputs": []
    },
    {
      "cell_type": "code",
      "metadata": {
        "colab": {
          "base_uri": "https://localhost:8080/"
        },
        "id": "g2T16NL3wPoi",
        "outputId": "4c150871-04ec-4eaf-e09c-7927359212b9"
      },
      "source": [
        "# Download the spacy large vocab\r\n",
        "!python -m spacy download en_core_web_lg\r\n",
        "import en_core_web_lg"
      ],
      "execution_count": 3,
      "outputs": [
        {
          "output_type": "stream",
          "text": [
            "Requirement already satisfied: en_core_web_lg==2.2.5 from https://github.com/explosion/spacy-models/releases/download/en_core_web_lg-2.2.5/en_core_web_lg-2.2.5.tar.gz#egg=en_core_web_lg==2.2.5 in /usr/local/lib/python3.7/dist-packages (2.2.5)\n",
            "Requirement already satisfied: spacy>=2.2.2 in /usr/local/lib/python3.7/dist-packages (from en_core_web_lg==2.2.5) (2.2.4)\n",
            "Requirement already satisfied: plac<1.2.0,>=0.9.6 in /usr/local/lib/python3.7/dist-packages (from spacy>=2.2.2->en_core_web_lg==2.2.5) (1.1.3)\n",
            "Requirement already satisfied: preshed<3.1.0,>=3.0.2 in /usr/local/lib/python3.7/dist-packages (from spacy>=2.2.2->en_core_web_lg==2.2.5) (3.0.5)\n",
            "Requirement already satisfied: wasabi<1.1.0,>=0.4.0 in /usr/local/lib/python3.7/dist-packages (from spacy>=2.2.2->en_core_web_lg==2.2.5) (0.8.2)\n",
            "Requirement already satisfied: cymem<2.1.0,>=2.0.2 in /usr/local/lib/python3.7/dist-packages (from spacy>=2.2.2->en_core_web_lg==2.2.5) (2.0.5)\n",
            "Requirement already satisfied: murmurhash<1.1.0,>=0.28.0 in /usr/local/lib/python3.7/dist-packages (from spacy>=2.2.2->en_core_web_lg==2.2.5) (1.0.5)\n",
            "Requirement already satisfied: thinc==7.4.0 in /usr/local/lib/python3.7/dist-packages (from spacy>=2.2.2->en_core_web_lg==2.2.5) (7.4.0)\n",
            "Requirement already satisfied: catalogue<1.1.0,>=0.0.7 in /usr/local/lib/python3.7/dist-packages (from spacy>=2.2.2->en_core_web_lg==2.2.5) (1.0.0)\n",
            "Requirement already satisfied: tqdm<5.0.0,>=4.38.0 in /usr/local/lib/python3.7/dist-packages (from spacy>=2.2.2->en_core_web_lg==2.2.5) (4.41.1)\n",
            "Requirement already satisfied: setuptools in /usr/local/lib/python3.7/dist-packages (from spacy>=2.2.2->en_core_web_lg==2.2.5) (53.0.0)\n",
            "Requirement already satisfied: numpy>=1.15.0 in /usr/local/lib/python3.7/dist-packages (from spacy>=2.2.2->en_core_web_lg==2.2.5) (1.19.5)\n",
            "Requirement already satisfied: requests<3.0.0,>=2.13.0 in /usr/local/lib/python3.7/dist-packages (from spacy>=2.2.2->en_core_web_lg==2.2.5) (2.23.0)\n",
            "Requirement already satisfied: srsly<1.1.0,>=1.0.2 in /usr/local/lib/python3.7/dist-packages (from spacy>=2.2.2->en_core_web_lg==2.2.5) (1.0.5)\n",
            "Requirement already satisfied: blis<0.5.0,>=0.4.0 in /usr/local/lib/python3.7/dist-packages (from spacy>=2.2.2->en_core_web_lg==2.2.5) (0.4.1)\n",
            "Requirement already satisfied: importlib-metadata>=0.20; python_version < \"3.8\" in /usr/local/lib/python3.7/dist-packages (from catalogue<1.1.0,>=0.0.7->spacy>=2.2.2->en_core_web_lg==2.2.5) (3.7.0)\n",
            "Requirement already satisfied: certifi>=2017.4.17 in /usr/local/lib/python3.7/dist-packages (from requests<3.0.0,>=2.13.0->spacy>=2.2.2->en_core_web_lg==2.2.5) (2020.12.5)\n",
            "Requirement already satisfied: idna<3,>=2.5 in /usr/local/lib/python3.7/dist-packages (from requests<3.0.0,>=2.13.0->spacy>=2.2.2->en_core_web_lg==2.2.5) (2.10)\n",
            "Requirement already satisfied: chardet<4,>=3.0.2 in /usr/local/lib/python3.7/dist-packages (from requests<3.0.0,>=2.13.0->spacy>=2.2.2->en_core_web_lg==2.2.5) (3.0.4)\n",
            "Requirement already satisfied: urllib3!=1.25.0,!=1.25.1,<1.26,>=1.21.1 in /usr/local/lib/python3.7/dist-packages (from requests<3.0.0,>=2.13.0->spacy>=2.2.2->en_core_web_lg==2.2.5) (1.24.3)\n",
            "Requirement already satisfied: zipp>=0.5 in /usr/local/lib/python3.7/dist-packages (from importlib-metadata>=0.20; python_version < \"3.8\"->catalogue<1.1.0,>=0.0.7->spacy>=2.2.2->en_core_web_lg==2.2.5) (3.4.0)\n",
            "Requirement already satisfied: typing-extensions>=3.6.4; python_version < \"3.8\" in /usr/local/lib/python3.7/dist-packages (from importlib-metadata>=0.20; python_version < \"3.8\"->catalogue<1.1.0,>=0.0.7->spacy>=2.2.2->en_core_web_lg==2.2.5) (3.7.4.3)\n",
            "\u001b[38;5;2m✔ Download and installation successful\u001b[0m\n",
            "You can now load the model via spacy.load('en_core_web_lg')\n"
          ],
          "name": "stdout"
        }
      ]
    },
    {
      "cell_type": "code",
      "metadata": {
        "id": "-QOGeF6bw59U"
      },
      "source": [
        "# Instantiate the sapcy vocab and tokenizer\r\n",
        "nlp = spacy.load('en_core_web_lg')\r\n",
        "tokenizer = Tokenizer(nlp.vocab)"
      ],
      "execution_count": 4,
      "outputs": []
    },
    {
      "cell_type": "markdown",
      "metadata": {
        "id": "KWzyBxL18_ZJ"
      },
      "source": [
        "## Read in the Data and Explore it Further"
      ]
    },
    {
      "cell_type": "code",
      "metadata": {
        "colab": {
          "base_uri": "https://localhost:8080/",
          "height": 612
        },
        "id": "IEnAyVPMxIwG",
        "outputId": "6a560c23-b5bb-490b-922e-a357595bac86"
      },
      "source": [
        "# Read in just the text features file\r\n",
        "txt_url = 'https://raw.githubusercontent.com/BW-TT-158-AirBnB/Data-Science-Unit3-and-Unit4/main/data/amsterdam_txt_feat.csv'\r\n",
        "txt_df = pd.read_csv(txt_url)\r\n",
        "\r\n",
        "# Look at the data\r\n",
        "print(txt_df.shape)\r\n",
        "txt_df.head()"
      ],
      "execution_count": 5,
      "outputs": [
        {
          "output_type": "stream",
          "text": [
            "(18291, 5)\n"
          ],
          "name": "stdout"
        },
        {
          "output_type": "execute_result",
          "data": {
            "text/html": [
              "<div>\n",
              "<style scoped>\n",
              "    .dataframe tbody tr th:only-of-type {\n",
              "        vertical-align: middle;\n",
              "    }\n",
              "\n",
              "    .dataframe tbody tr th {\n",
              "        vertical-align: top;\n",
              "    }\n",
              "\n",
              "    .dataframe thead th {\n",
              "        text-align: right;\n",
              "    }\n",
              "</style>\n",
              "<table border=\"1\" class=\"dataframe\">\n",
              "  <thead>\n",
              "    <tr style=\"text-align: right;\">\n",
              "      <th></th>\n",
              "      <th>description</th>\n",
              "      <th>neighborhood</th>\n",
              "      <th>property_type</th>\n",
              "      <th>room_type</th>\n",
              "      <th>amenities</th>\n",
              "    </tr>\n",
              "  </thead>\n",
              "  <tbody>\n",
              "    <tr>\n",
              "      <th>0</th>\n",
              "      <td>Quiet Garden View Room &amp; Super Fast WiFi&lt;br /&gt;&lt;br /&gt;&lt;b&gt;The space&lt;/b&gt;&lt;br /&gt;I'm renting a bedroom (room overlooking the garden) in my apartment in Amsterdam, &lt;br /&gt;&lt;br /&gt;The room is located to the east of the city centre in a quiet, typical Amsterdam neighbourhood the \"Indische Buurt\". Amsterdam’s...</td>\n",
              "      <td>Oostelijk Havengebied - Indische Buurt</td>\n",
              "      <td>Private room in apartment</td>\n",
              "      <td>Private room</td>\n",
              "      <td>[\"Hangers\", \"Coffee maker\", \"Paid parking on premises\", \"Long term stays allowed\", \"First aid kit\", \"Bed linens\", \"Lock on bedroom door\", \"Private entrance\", \"Carbon monoxide alarm\", \"Dedicated workspace\", \"Host greets you\", \"Single level home\", \"Extra pillows and blankets\", \"Hot water\", \"Paid p...</td>\n",
              "    </tr>\n",
              "    <tr>\n",
              "      <th>1</th>\n",
              "      <td>17th century Dutch townhouse in the heart of the city. no public transport needed! Located a stones throw from Rembrandt Square, Dam Square, Leidse Square and Flower Market. Walking distance from Central Station.&lt;br /&gt;Comfortable, cosy, lockable studio with comfortable bed and with private bathr...</td>\n",
              "      <td>Centrum-Oost</td>\n",
              "      <td>Private room in townhouse</td>\n",
              "      <td>Private room</td>\n",
              "      <td>[\"Essentials\", \"Bed linens\", \"Hot water\", \"Hangers\", \"Smoke alarm\", \"Heating\", \"Paid parking off premises\", \"Free street parking\", \"Refrigerator\", \"Carbon monoxide alarm\", \"Dedicated workspace\", \"Host greets you\", \"TV\", \"Wifi\", \"Hair dryer\", \"Long term stays allowed\", \"Fire extinguisher\"]</td>\n",
              "    </tr>\n",
              "    <tr>\n",
              "      <th>2</th>\n",
              "      <td>Lovely apt in Centre ( lift &amp; fireplace) near Jordaan&lt;br /&gt;&lt;br /&gt;&lt;b&gt;The space&lt;/b&gt;&lt;br /&gt;This nicely furnished, newly renovated apt  is very sunny, and spacious with 8 windows. The appliances are fairly new. There are two flat screen TVs, washing machine, dryer, dishwasher, laptop computer, Wi-fi,...</td>\n",
              "      <td>Centrum-West</td>\n",
              "      <td>Entire apartment</td>\n",
              "      <td>Entire home/apt</td>\n",
              "      <td>[\"Hangers\", \"Elevator\", \"Cooking basics\", \"Dishes and silverware\", \"Oven\", \"Coffee maker\", \"Long term stays allowed\", \"Bed linens\", \"Dishwasher\", \"Dedicated workspace\", \"Kitchen\", \"Extra pillows and blankets\", \"Hot water\", \"Heating\", \"TV\", \"Cable TV\", \"Hair dryer\", \"Microwave\", \"Essentials\", \"Sm...</td>\n",
              "    </tr>\n",
              "    <tr>\n",
              "      <th>3</th>\n",
              "      <td>Stylish and romantic houseboat on fantastic historic location with breathtaking view.  Wheelhouse, deckhouse and captains room. Central, quiet. Great breakfast, 2 vanMoof design bikes and a Canadian Canoe are included. Just read the reviews on tripadvisor for instance!&lt;br /&gt;&lt;br /&gt;&lt;b&gt;The space&lt;/b...</td>\n",
              "      <td>Centrum-West</td>\n",
              "      <td>Private room in houseboat</td>\n",
              "      <td>Private room</td>\n",
              "      <td>[\"Patio or balcony\", \"Hangers\", \"Dishes and silverware\", \"Luggage dropoff allowed\", \"Breakfast\", \"Coffee maker\", \"Lake access\", \"Long term stays allowed\", \"Private entrance\", \"Waterfront\", \"Carbon monoxide alarm\", \"Dedicated workspace\", \"Hot water\", \"Heating\", \"TV\", \"Hair dryer\", \"Essentials\", \"...</td>\n",
              "    </tr>\n",
              "    <tr>\n",
              "      <th>4</th>\n",
              "      <td>&lt;b&gt;The space&lt;/b&gt;&lt;br /&gt;In a monumental house right in the center of Amsterdam, we offer two rooms (one single room and one double room) to visitors who want to enjoy the comfort of a home-like accommodation, plus being in the middle of the historic city center, close to all important museums, sho...</td>\n",
              "      <td>Centrum-Oost</td>\n",
              "      <td>Private room in apartment</td>\n",
              "      <td>Private room</td>\n",
              "      <td>[\"Hot water\", \"Essentials\", \"Smoke alarm\", \"Hangers\", \"Heating\", \"Lock on bedroom door\", \"Private entrance\", \"Refrigerator\", \"Carbon monoxide alarm\", \"Host greets you\", \"Shampoo\", \"Wifi\", \"Hair dryer\", \"Long term stays allowed\", \"Fire extinguisher\", \"Dryer\"]</td>\n",
              "    </tr>\n",
              "  </tbody>\n",
              "</table>\n",
              "</div>"
            ],
            "text/plain": [
              "                                                                                                                                                                                                                                                                                                   description  ...                                                                                                                                                                                                                                                                                                    amenities\n",
              "0  Quiet Garden View Room & Super Fast WiFi<br /><br /><b>The space</b><br />I'm renting a bedroom (room overlooking the garden) in my apartment in Amsterdam, <br /><br />The room is located to the east of the city centre in a quiet, typical Amsterdam neighbourhood the \"Indische Buurt\". Amsterdam’s...  ...  [\"Hangers\", \"Coffee maker\", \"Paid parking on premises\", \"Long term stays allowed\", \"First aid kit\", \"Bed linens\", \"Lock on bedroom door\", \"Private entrance\", \"Carbon monoxide alarm\", \"Dedicated workspace\", \"Host greets you\", \"Single level home\", \"Extra pillows and blankets\", \"Hot water\", \"Paid p...\n",
              "1  17th century Dutch townhouse in the heart of the city. no public transport needed! Located a stones throw from Rembrandt Square, Dam Square, Leidse Square and Flower Market. Walking distance from Central Station.<br />Comfortable, cosy, lockable studio with comfortable bed and with private bathr...  ...            [\"Essentials\", \"Bed linens\", \"Hot water\", \"Hangers\", \"Smoke alarm\", \"Heating\", \"Paid parking off premises\", \"Free street parking\", \"Refrigerator\", \"Carbon monoxide alarm\", \"Dedicated workspace\", \"Host greets you\", \"TV\", \"Wifi\", \"Hair dryer\", \"Long term stays allowed\", \"Fire extinguisher\"]\n",
              "2  Lovely apt in Centre ( lift & fireplace) near Jordaan<br /><br /><b>The space</b><br />This nicely furnished, newly renovated apt  is very sunny, and spacious with 8 windows. The appliances are fairly new. There are two flat screen TVs, washing machine, dryer, dishwasher, laptop computer, Wi-fi,...  ...  [\"Hangers\", \"Elevator\", \"Cooking basics\", \"Dishes and silverware\", \"Oven\", \"Coffee maker\", \"Long term stays allowed\", \"Bed linens\", \"Dishwasher\", \"Dedicated workspace\", \"Kitchen\", \"Extra pillows and blankets\", \"Hot water\", \"Heating\", \"TV\", \"Cable TV\", \"Hair dryer\", \"Microwave\", \"Essentials\", \"Sm...\n",
              "3  Stylish and romantic houseboat on fantastic historic location with breathtaking view.  Wheelhouse, deckhouse and captains room. Central, quiet. Great breakfast, 2 vanMoof design bikes and a Canadian Canoe are included. Just read the reviews on tripadvisor for instance!<br /><br /><b>The space</b...  ...  [\"Patio or balcony\", \"Hangers\", \"Dishes and silverware\", \"Luggage dropoff allowed\", \"Breakfast\", \"Coffee maker\", \"Lake access\", \"Long term stays allowed\", \"Private entrance\", \"Waterfront\", \"Carbon monoxide alarm\", \"Dedicated workspace\", \"Hot water\", \"Heating\", \"TV\", \"Hair dryer\", \"Essentials\", \"...\n",
              "4  <b>The space</b><br />In a monumental house right in the center of Amsterdam, we offer two rooms (one single room and one double room) to visitors who want to enjoy the comfort of a home-like accommodation, plus being in the middle of the historic city center, close to all important museums, sho...  ...                                           [\"Hot water\", \"Essentials\", \"Smoke alarm\", \"Hangers\", \"Heating\", \"Lock on bedroom door\", \"Private entrance\", \"Refrigerator\", \"Carbon monoxide alarm\", \"Host greets you\", \"Shampoo\", \"Wifi\", \"Hair dryer\", \"Long term stays allowed\", \"Fire extinguisher\", \"Dryer\"]\n",
              "\n",
              "[5 rows x 5 columns]"
            ]
          },
          "metadata": {
            "tags": []
          },
          "execution_count": 5
        }
      ]
    },
    {
      "cell_type": "code",
      "metadata": {
        "colab": {
          "base_uri": "https://localhost:8080/"
        },
        "id": "bQQ_VFiN-Zfb",
        "outputId": "d66342b1-b95c-4084-995b-7c4a75535102"
      },
      "source": [
        "# Check for null values in the dataframe\r\n",
        "txt_df.isnull().sum()"
      ],
      "execution_count": 6,
      "outputs": [
        {
          "output_type": "execute_result",
          "data": {
            "text/plain": [
              "description      0\n",
              "neighborhood     0\n",
              "property_type    0\n",
              "room_type        0\n",
              "amenities        0\n",
              "dtype: int64"
            ]
          },
          "metadata": {
            "tags": []
          },
          "execution_count": 6
        }
      ]
    },
    {
      "cell_type": "code",
      "metadata": {
        "colab": {
          "base_uri": "https://localhost:8080/"
        },
        "id": "FrnfBnKO9yOU",
        "outputId": "186df03a-b4fb-4897-e7a3-ecd8c39ec9e2"
      },
      "source": [
        "# Check the unique values in the neigborhood feature\r\n",
        "txt_df['neighborhood'].value_counts()"
      ],
      "execution_count": 7,
      "outputs": [
        {
          "output_type": "execute_result",
          "data": {
            "text/plain": [
              "De Baarsjes - Oud-West                    3044\n",
              "De Pijp - Rivierenbuurt                   2269\n",
              "Centrum-West                              2000\n",
              "Centrum-Oost                              1560\n",
              "Westerpark                                1395\n",
              "Zuid                                      1309\n",
              "Oud-Oost                                  1181\n",
              "Bos en Lommer                             1047\n",
              "Oostelijk Havengebied - Indische Buurt     875\n",
              "Oud-Noord                                  586\n",
              "Watergraafsmeer                            530\n",
              "IJburg - Zeeburgereiland                   423\n",
              "Slotervaart                                411\n",
              "Noord-West                                 369\n",
              "Noord-Oost                                 255\n",
              "Buitenveldert - Zuidas                     252\n",
              "Geuzenveld - Slotermeer                    214\n",
              "De Aker - Nieuw Sloten                     126\n",
              "Osdorp                                     125\n",
              "Gaasperdam - Driemond                      121\n",
              "Bijlmer-Centrum                            103\n",
              "Bijlmer-Oost                                96\n",
              "Name: neighborhood, dtype: int64"
            ]
          },
          "metadata": {
            "tags": []
          },
          "execution_count": 7
        }
      ]
    },
    {
      "cell_type": "markdown",
      "metadata": {
        "id": "RLc5znXH-lQt"
      },
      "source": [
        "* This is a multi-class feature, will probably just one-hot encode this one."
      ]
    },
    {
      "cell_type": "code",
      "metadata": {
        "colab": {
          "base_uri": "https://localhost:8080/"
        },
        "id": "eWMoEsHm-MED",
        "outputId": "fc73de92-5ba5-467c-e66b-132bc9d49a01"
      },
      "source": [
        "# Check the unique values in the property_type feature\r\n",
        "txt_df['property_type'].value_counts()"
      ],
      "execution_count": 8,
      "outputs": [
        {
          "output_type": "execute_result",
          "data": {
            "text/plain": [
              "Entire apartment                      11393\n",
              "Private room in apartment              2218\n",
              "Entire house                           1198\n",
              "Entire townhouse                        472\n",
              "Private room in bed and breakfast       344\n",
              "Private room in house                   339\n",
              "Entire loft                             261\n",
              "Entire condominium                      261\n",
              "Houseboat                               199\n",
              "Boat                                    198\n",
              "Private room in townhouse               168\n",
              "Entire serviced apartment               149\n",
              "Room in boutique hotel                  135\n",
              "Private room in houseboat               117\n",
              "Private room in guest suite             103\n",
              "Private room in boat                     96\n",
              "Room in hotel                            90\n",
              "Private room in condominium              83\n",
              "Private room in loft                     55\n",
              "Room in bed and breakfast                49\n",
              "Entire guest suite                       42\n",
              "Shared room in apartment                 29\n",
              "Entire villa                             28\n",
              "Private room in hostel                   26\n",
              "Room in hostel                           21\n",
              "Private room in guesthouse               19\n",
              "Room in serviced apartment               18\n",
              "Entire guesthouse                        16\n",
              "Private room                             14\n",
              "Entire cottage                           13\n",
              "Private room in serviced apartment       13\n",
              "Private room in earth house              11\n",
              "Tiny house                                9\n",
              "Private room in tiny house                9\n",
              "Shared room in hostel                     9\n",
              "Private room in villa                     8\n",
              "Room in aparthotel                        8\n",
              "Entire place                              8\n",
              "Private room in farm stay                 7\n",
              "Shared room in boat                       5\n",
              "Entire cabin                              4\n",
              "Barn                                      4\n",
              "Entire floor                              4\n",
              "Entire bungalow                           4\n",
              "Private room in cabin                     3\n",
              "Entire bed and breakfast                  3\n",
              "Shared room in houseboat                  2\n",
              "Yurt                                      2\n",
              "Private room in dome house                2\n",
              "Shared room in house                      2\n",
              "Private room in floor                     2\n",
              "Shared room in bed and breakfast          2\n",
              "Campsite                                  2\n",
              "Private room in island                    2\n",
              "Camper/RV                                 2\n",
              "Private room in lighthouse                1\n",
              "Entire home/apt                           1\n",
              "Room in casa particular                   1\n",
              "Private room in bungalow                  1\n",
              "Cave                                      1\n",
              "Entire chalet                             1\n",
              "Earth house                               1\n",
              "Tipi                                      1\n",
              "Shared room in loft                       1\n",
              "Bus                                       1\n",
              "Name: property_type, dtype: int64"
            ]
          },
          "metadata": {
            "tags": []
          },
          "execution_count": 8
        }
      ]
    },
    {
      "cell_type": "markdown",
      "metadata": {
        "id": "cz-1uAi1_CIl"
      },
      "source": [
        "* This one has a lot more values to it, will probably run this through a count vectorizer."
      ]
    },
    {
      "cell_type": "code",
      "metadata": {
        "colab": {
          "base_uri": "https://localhost:8080/"
        },
        "id": "zv9StGLm--fx",
        "outputId": "7943b879-3dcf-40df-853d-5c44a1406a22"
      },
      "source": [
        "# Check the values in the room_type feature\r\n",
        "txt_df['room_type'].value_counts()"
      ],
      "execution_count": 9,
      "outputs": [
        {
          "output_type": "execute_result",
          "data": {
            "text/plain": [
              "Entire home/apt    14283\n",
              "Private room        3831\n",
              "Hotel room           127\n",
              "Shared room           50\n",
              "Name: room_type, dtype: int64"
            ]
          },
          "metadata": {
            "tags": []
          },
          "execution_count": 9
        }
      ]
    },
    {
      "cell_type": "markdown",
      "metadata": {
        "id": "AzkVjG2x_0Ep"
      },
      "source": [
        "* This one only has only 4 unique values, can just map this one to numerical."
      ]
    },
    {
      "cell_type": "code",
      "metadata": {
        "id": "ajnJzGMR_ozh"
      },
      "source": [
        ""
      ],
      "execution_count": 9,
      "outputs": []
    },
    {
      "cell_type": "markdown",
      "metadata": {
        "id": "U0GcNKkaiol8"
      },
      "source": [
        "* Will need to circle back to this. Not sure if I will have enough time to so NLP but will if time allows.\r\n"
      ]
    },
    {
      "cell_type": "code",
      "metadata": {
        "id": "CKuPEyQSiz2J"
      },
      "source": [
        ""
      ],
      "execution_count": null,
      "outputs": []
    }
  ]
}